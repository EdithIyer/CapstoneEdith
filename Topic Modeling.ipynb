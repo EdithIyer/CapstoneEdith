{
 "cells": [
  {
   "cell_type": "markdown",
   "metadata": {},
   "source": [
    "# Topic Modeling Exploration\n",
    "Topic modeling is a type of unsupervised learning for natural language processing problems that groups observations together by topic. "
   ]
  },
  {
   "cell_type": "markdown",
   "metadata": {},
   "source": [
    "## Imports"
   ]
  },
  {
   "cell_type": "code",
   "execution_count": null,
   "metadata": {},
   "outputs": [],
   "source": [
    "#!pip install spacy"
   ]
  },
  {
   "cell_type": "code",
   "execution_count": null,
   "metadata": {},
   "outputs": [],
   "source": [
    "#!pip install pyLDAvis"
   ]
  },
  {
   "cell_type": "code",
   "execution_count": 1,
   "metadata": {},
   "outputs": [],
   "source": [
    "import re\n",
    "import numpy as np\n",
    "import pandas as pd\n",
    "\n",
    "# Gensim\n",
    "import gensim\n",
    "import gensim.corpora as corpora\n",
    "from gensim.utils import simple_preprocess\n",
    "from gensim.models import CoherenceModel\n",
    "from gensim import models\n",
    "\n",
    "#nltk\n",
    "from nltk import word_tokenize\n",
    "from nltk.corpus import stopwords\n",
    "\n",
    "# spacy for lemmatization\n",
    "import spacy\n",
    "\n",
    "# Plotting tools\n",
    "import pyLDAvis\n",
    "import pyLDAvis.gensim  # don't skip this\n",
    "import matplotlib.pyplot as plt\n",
    "%matplotlib inline\n",
    "\n",
    "# Enable logging for gensim - optional\n",
    "import logging\n",
    "logging.basicConfig(format='%(asctime)s : %(levelname)s : %(message)s', level=logging.ERROR)\n",
    "\n",
    "import warnings\n",
    "warnings.filterwarnings(\"ignore\",category=DeprecationWarning)"
   ]
  },
  {
   "cell_type": "code",
   "execution_count": 2,
   "metadata": {},
   "outputs": [],
   "source": [
    "df = pd.read_csv('./Data/Lemmatized_df.csv')"
   ]
  },
  {
   "cell_type": "code",
   "execution_count": 3,
   "metadata": {},
   "outputs": [
    {
     "data": {
      "text/html": [
       "<div>\n",
       "<style scoped>\n",
       "    .dataframe tbody tr th:only-of-type {\n",
       "        vertical-align: middle;\n",
       "    }\n",
       "\n",
       "    .dataframe tbody tr th {\n",
       "        vertical-align: top;\n",
       "    }\n",
       "\n",
       "    .dataframe thead th {\n",
       "        text-align: right;\n",
       "    }\n",
       "</style>\n",
       "<table border=\"1\" class=\"dataframe\">\n",
       "  <thead>\n",
       "    <tr style=\"text-align: right;\">\n",
       "      <th></th>\n",
       "      <th>rest_cost</th>\n",
       "      <th>cuisine_type</th>\n",
       "      <th>rest_name</th>\n",
       "      <th>rest_rating</th>\n",
       "      <th>rest_review</th>\n",
       "      <th>address_only</th>\n",
       "      <th>rest_borough</th>\n",
       "      <th>rest_zip_code</th>\n",
       "      <th>lemmatized</th>\n",
       "    </tr>\n",
       "  </thead>\n",
       "  <tbody>\n",
       "    <tr>\n",
       "      <th>0</th>\n",
       "      <td>2.0</td>\n",
       "      <td>Pizza</td>\n",
       "      <td>Mama’s Too</td>\n",
       "      <td>8.3</td>\n",
       "      <td>A typical NYC slice shop has a few basic eleme...</td>\n",
       "      <td>2750 Broadway, New York, NY 10025</td>\n",
       "      <td>Manhattan</td>\n",
       "      <td>10025</td>\n",
       "      <td>typical nyc slice shop basic element counter g...</td>\n",
       "    </tr>\n",
       "    <tr>\n",
       "      <th>1</th>\n",
       "      <td>4.0</td>\n",
       "      <td>Japanese</td>\n",
       "      <td>Omakase Room By Tatsu</td>\n",
       "      <td>7.7</td>\n",
       "      <td>Tolerance for group trips can vary widely. Som...</td>\n",
       "      <td>14 Christopher St, New York, NY 10014</td>\n",
       "      <td>Manhattan</td>\n",
       "      <td>10014</td>\n",
       "      <td>tolerance group trip vary widely people intern...</td>\n",
       "    </tr>\n",
       "    <tr>\n",
       "      <th>2</th>\n",
       "      <td>4.0</td>\n",
       "      <td>Japanese</td>\n",
       "      <td>Sushi Azabu</td>\n",
       "      <td>8.5</td>\n",
       "      <td>When the apocalypse eventually comes for New Y...</td>\n",
       "      <td>428 Greenwich St., New York, NY 10013</td>\n",
       "      <td>Manhattan</td>\n",
       "      <td>10013</td>\n",
       "      <td>apocalypse eventually come new york city going...</td>\n",
       "    </tr>\n",
       "    <tr>\n",
       "      <th>3</th>\n",
       "      <td>3.0</td>\n",
       "      <td>Seafood</td>\n",
       "      <td>Saint Julivert Fisherie</td>\n",
       "      <td>7.7</td>\n",
       "      <td>When you’re young, you don’t have to think muc...</td>\n",
       "      <td>264 Clinton St, New York, NY 11201</td>\n",
       "      <td>Brooklyn</td>\n",
       "      <td>11201</td>\n",
       "      <td>young think much decision know attempt deep en...</td>\n",
       "    </tr>\n",
       "    <tr>\n",
       "      <th>4</th>\n",
       "      <td>2.0</td>\n",
       "      <td>Russian</td>\n",
       "      <td>Farida</td>\n",
       "      <td>8.0</td>\n",
       "      <td>There’s a bleak, sweaty place on 34th Street w...</td>\n",
       "      <td>498 9th Ave, New York, NY 10018</td>\n",
       "      <td>Manhattan</td>\n",
       "      <td>10018</td>\n",
       "      <td>bleak sweaty place 34th street adult run 6 yar...</td>\n",
       "    </tr>\n",
       "  </tbody>\n",
       "</table>\n",
       "</div>"
      ],
      "text/plain": [
       "   rest_cost cuisine_type                rest_name  rest_rating  \\\n",
       "0        2.0        Pizza               Mama’s Too          8.3   \n",
       "1        4.0     Japanese    Omakase Room By Tatsu          7.7   \n",
       "2        4.0     Japanese              Sushi Azabu          8.5   \n",
       "3        3.0      Seafood  Saint Julivert Fisherie          7.7   \n",
       "4        2.0      Russian                   Farida          8.0   \n",
       "\n",
       "                                         rest_review  \\\n",
       "0  A typical NYC slice shop has a few basic eleme...   \n",
       "1  Tolerance for group trips can vary widely. Som...   \n",
       "2  When the apocalypse eventually comes for New Y...   \n",
       "3  When you’re young, you don’t have to think muc...   \n",
       "4  There’s a bleak, sweaty place on 34th Street w...   \n",
       "\n",
       "                            address_only rest_borough  rest_zip_code  \\\n",
       "0      2750 Broadway, New York, NY 10025    Manhattan          10025   \n",
       "1  14 Christopher St, New York, NY 10014    Manhattan          10014   \n",
       "2  428 Greenwich St., New York, NY 10013    Manhattan          10013   \n",
       "3     264 Clinton St, New York, NY 11201     Brooklyn          11201   \n",
       "4        498 9th Ave, New York, NY 10018    Manhattan          10018   \n",
       "\n",
       "                                          lemmatized  \n",
       "0  typical nyc slice shop basic element counter g...  \n",
       "1  tolerance group trip vary widely people intern...  \n",
       "2  apocalypse eventually come new york city going...  \n",
       "3  young think much decision know attempt deep en...  \n",
       "4  bleak sweaty place 34th street adult run 6 yar...  "
      ]
     },
     "execution_count": 3,
     "metadata": {},
     "output_type": "execute_result"
    }
   ],
   "source": [
    "df.head()"
   ]
  },
  {
   "cell_type": "markdown",
   "metadata": {},
   "source": [
    "# Text Preprocessing\n",
    "Topic modeling with gensim and spaCy is different than other other NLP preprocessing and unsupervised learning techniques I've worked with in the past. This is because the libraries offer different capabilities. The process for preparing data is:\n",
    "1. Create a list of the documents to analyze\n",
    "2. Tokenize each document\n",
    "3. Clean text - remove stopwords, punctuation and non-alphabetical characters\n",
    "4. Create a gensim `Dictionary` object: this is a way of keeping track of words with a numeric id.\n",
    "5. Create a gensim `Corpus` using gensim's `doc2bow`. This is a list of tuples for each document that refers to the numeric id and how many times it appears in that document.<br>\n",
    "\n",
    "Below, I have created a function that does all the text preprocesseing and returns the variables I am interested in keeping. I have also shown how to do this step by step.\n"
   ]
  },
  {
   "cell_type": "markdown",
   "metadata": {},
   "source": [
    "#### 1. Create a list of the documents to analyze"
   ]
  },
  {
   "cell_type": "code",
   "execution_count": 4,
   "metadata": {},
   "outputs": [],
   "source": [
    "data = list(df['rest_review'].values)"
   ]
  },
  {
   "cell_type": "code",
   "execution_count": 5,
   "metadata": {},
   "outputs": [],
   "source": [
    "#create a variable for the length of the data\n",
    "data_len = len(data)"
   ]
  },
  {
   "cell_type": "markdown",
   "metadata": {},
   "source": [
    "#### 2. Tokenize each document"
   ]
  },
  {
   "cell_type": "code",
   "execution_count": 6,
   "metadata": {},
   "outputs": [],
   "source": [
    "def clean_text(text):\n",
    "    tokenized_text = word_tokenize(text.lower())\n",
    "    cleaned_text = [t for t in tokenized_text if t not in STOPWORDS and re.match('[a-zA-Z\\-][a-zA-Z\\-]{2,}', t)]\n",
    "    return cleaned_text"
   ]
  },
  {
   "cell_type": "code",
   "execution_count": 7,
   "metadata": {},
   "outputs": [],
   "source": [
    "STOPWORDS = stopwords.words('english')"
   ]
  },
  {
   "cell_type": "markdown",
   "metadata": {},
   "source": [
    "#### 3. Clean text - remove stopwords, punctuation and non-alphabetical characters"
   ]
  },
  {
   "cell_type": "code",
   "execution_count": 8,
   "metadata": {},
   "outputs": [],
   "source": [
    "# For gensim we need to tokenize the data and filter out stopwords\n",
    "tokenized_cleaned = []\n",
    "for review in data:\n",
    "    tokenized_cleaned.append(clean_text(review))"
   ]
  },
  {
   "cell_type": "markdown",
   "metadata": {},
   "source": [
    "#### 4. Create a gensim `Dictionary` object: this is a way of keeping track of words with a numeric id."
   ]
  },
  {
   "cell_type": "code",
   "execution_count": 9,
   "metadata": {},
   "outputs": [],
   "source": [
    "# Build a Dictionary - association word to numeric id\n",
    "dictionary = corpora.Dictionary(tokenized_cleaned)"
   ]
  },
  {
   "cell_type": "markdown",
   "metadata": {},
   "source": [
    "#### 5. Create a gensim `Corpus` using gensim's `doc2bow`. This is a list of tuples for each document that refers to the numeric id and how many times it appears in that document."
   ]
  },
  {
   "cell_type": "code",
   "execution_count": 10,
   "metadata": {},
   "outputs": [],
   "source": [
    "# Transform the collection of texts to a numerical form\n",
    "corpus = [dictionary.doc2bow(text) for text in tokenized_cleaned]"
   ]
  },
  {
   "cell_type": "code",
   "execution_count": 11,
   "metadata": {
    "scrolled": false
   },
   "outputs": [
    {
     "name": "stdout",
     "output_type": "stream",
     "text": [
      "[(1, 1), (36, 2), (46, 2), (51, 1), (53, 1), (54, 1), (55, 2), (65, 5), (66, 2), (75, 1), (78, 1), (84, 2), (85, 1), (87, 1), (90, 11), (98, 1), (102, 1), (104, 1), (110, 2), (115, 3), (122, 1), (128, 3), (129, 1), (140, 1), (154, 1), (157, 1), (160, 1), (167, 1), (176, 2), (177, 1), (178, 1), (181, 1), (186, 1), (188, 1), (189, 1), (191, 1), (195, 1), (199, 1), (202, 1), (214, 1), (218, 3), (244, 1), (246, 3), (251, 2), (255, 1), (256, 1), (266, 1), (279, 2), (283, 3), (294, 2), (296, 4), (304, 3), (318, 5), (319, 1), (321, 1), (328, 3), (337, 2), (338, 1), (347, 1), (351, 1), (353, 1), (354, 1), (356, 1), (360, 2), (367, 1), (378, 1), (389, 2), (401, 1), (408, 1), (409, 1), (413, 1), (420, 2), (424, 1), (427, 1), (434, 1), (436, 1), (447, 1), (448, 1), (450, 1), (456, 3), (465, 3), (477, 1), (483, 1), (484, 2), (494, 1), (502, 1), (515, 1), (527, 1), (529, 1), (530, 1), (538, 1), (552, 1), (564, 1), (569, 1), (573, 1), (583, 1), (590, 1), (593, 1), (604, 1), (616, 1), (624, 1), (633, 1), (634, 1), (640, 1), (654, 1), (661, 1), (669, 1), (709, 2), (719, 2), (722, 1), (726, 2), (745, 1), (746, 1), (753, 1), (813, 1), (814, 1), (828, 1), (878, 1), (887, 2), (939, 1), (952, 1), (1017, 1), (1028, 1), (1136, 1), (1149, 1), (1160, 1), (1180, 1), (1211, 1), (1212, 1), (1223, 1), (1232, 2), (1233, 1), (1248, 1), (1253, 1), (1311, 1), (1323, 3), (1357, 1), (1392, 1), (1425, 1), (1426, 1), (1437, 1), (1440, 1), (1555, 1), (1573, 1), (1587, 1), (1641, 1), (1697, 1), (1746, 1), (1748, 2), (1771, 1), (1780, 1), (1793, 1), (1803, 1), (1814, 1), (1826, 1), (1888, 5), (1919, 2), (1941, 1), (1966, 1), (2036, 1), (2041, 1), (2044, 2), (2086, 1), (2203, 2), (2213, 1), (2214, 1), (2215, 1), (2216, 1), (2217, 5), (2218, 1), (2219, 1), (2220, 1), (2221, 1), (2222, 1), (2223, 1), (2224, 1), (2225, 1), (2226, 1), (2227, 1), (2228, 1), (2229, 1), (2230, 1), (2231, 1), (2232, 1), (2233, 1), (2234, 1), (2235, 1), (2236, 1), (2237, 1), (2238, 1), (2239, 1), (2240, 1), (2241, 1), (2242, 1), (2243, 1), (2244, 1), (2245, 1), (2246, 1), (2247, 1), (2248, 1), (2249, 1), (2250, 1), (2251, 1), (2252, 1), (2253, 1), (2254, 1), (2255, 1), (2256, 1), (2257, 1), (2258, 1), (2259, 1), (2260, 1), (2261, 1), (2262, 1), (2263, 1), (2264, 1), (2265, 1), (2266, 1), (2267, 1), (2268, 1), (2269, 1), (2270, 1), (2271, 1), (2272, 1), (2273, 1), (2274, 1), (2275, 1), (2276, 1), (2277, 2), (2278, 1), (2279, 1), (2280, 1), (2281, 1), (2282, 1), (2283, 1), (2284, 2), (2285, 1), (2286, 1), (2287, 1), (2288, 3), (2289, 1), (2290, 1), (2291, 1), (2292, 1), (2293, 5), (2294, 1), (2295, 1), (2296, 1), (2297, 1), (2298, 2), (2299, 1), (2300, 1), (2301, 1), (2302, 1), (2303, 1), (2304, 1), (2305, 1), (2306, 1), (2307, 1), (2308, 2), (2309, 1), (2310, 1), (2311, 1), (2312, 1), (2313, 1), (2314, 1)]\n"
     ]
    }
   ],
   "source": [
    "#Example of how the corpus looks\n",
    "print(corpus[20])"
   ]
  },
  {
   "cell_type": "markdown",
   "metadata": {},
   "source": [
    "#### Function to complete text preprocessing"
   ]
  },
  {
   "cell_type": "code",
   "execution_count": 68,
   "metadata": {},
   "outputs": [],
   "source": [
    "def topic_model_preprocess(text, STOPWORDS):\n",
    "    #tokenize text\n",
    "    tokenized_cleaned = []\n",
    "    for review in text:\n",
    "        tokenized_text = word_tokenize(review.lower()) #word_tokenize is an nltk function\n",
    "    \n",
    "    #clean text\n",
    "        cleaned_text = [t for t in tokenized_text if t not in STOPWORDS and re.match('[a-zA-Z\\-][a-zA-Z\\-]{2,}', t)]\n",
    "    \n",
    "    #List of lists\n",
    "        tokenized_cleaned.append(cleaned_text)\n",
    "        \n",
    "    #Create dictionary\n",
    "    dictionary = corpora.Dictionary(tokenized_cleaned)\n",
    "    \n",
    "    #Create corpus\n",
    "    corpus = [dictionary.doc2bow(word) for word in tokenized_cleaned]\n",
    "    \n",
    "    return dictionary, corpus, tokenized_cleaned\n",
    "    "
   ]
  },
  {
   "cell_type": "code",
   "execution_count": 69,
   "metadata": {},
   "outputs": [],
   "source": [
    "d_trial, c_trial, cleaned_tokens = topic_model_preprocess(data, STOPWORDS)"
   ]
  },
  {
   "cell_type": "markdown",
   "metadata": {},
   "source": [
    "### Build the Model\n",
    "The necessary arguments are:\n",
    "- `corpus`\n",
    "- `num_topics`\n",
    "- `id2word` "
   ]
  },
  {
   "cell_type": "code",
   "execution_count": 16,
   "metadata": {},
   "outputs": [],
   "source": [
    "# Build the LDA model\n",
    "lda_model = models.LdaModel(corpus=corpus, \n",
    "                            num_topics=10, #10 Topics\n",
    "                            id2word=dictionary,\n",
    "                            random_state=100,\n",
    "                            update_every=1,\n",
    "                            chunksize=100,\n",
    "                            passes=10,\n",
    "                            alpha='auto',\n",
    "                            per_word_topics=True)"
   ]
  },
  {
   "cell_type": "code",
   "execution_count": 17,
   "metadata": {},
   "outputs": [
    {
     "name": "stdout",
     "output_type": "stream",
     "text": [
      "[(0, '0.028*\"pizza\" + 0.015*\"slice\" + 0.008*\"pie\" + 0.008*\"line\" + 0.006*\"game\" + 0.006*\"oven\" + 0.006*\"pies\" + 0.006*\"porchetta\" + 0.005*\"hype\" + 0.005*\"expected\"'), (1, '0.018*\"artichoke\" + 0.009*\"ribbon\" + 0.008*\"caracas\" + 0.006*\"fast\" + 0.005*\"fajitas\" + 0.005*\"establishments\" + 0.005*\"abc\" + 0.005*\"arepas\" + 0.005*\"salsa\" + 0.005*\"box\"'), (2, '0.041*\"ramen\" + 0.010*\"broth\" + 0.009*\"thai\" + 0.008*\"noodle\" + 0.007*\"flex\" + 0.007*\"ippudo\" + 0.007*\"noodles\" + 0.006*\"totto\" + 0.006*\"soup\" + 0.005*\"dropped\"'), (3, '0.014*\"like\" + 0.012*\"food\" + 0.012*\"restaurant\" + 0.011*\"good\" + 0.011*\"one\" + 0.010*\"place\" + 0.008*\"get\" + 0.007*\"new\" + 0.007*\"people\" + 0.007*\"also\"'), (4, '0.020*\"lobster\" + 0.013*\"chicken\" + 0.010*\"roll\" + 0.007*\"blue\" + 0.007*\"salad\" + 0.007*\"crazy\" + 0.006*\"mussels\" + 0.006*\"burger\" + 0.006*\"bone\" + 0.006*\"fried\"'), (5, '0.026*\"sushi\" + 0.013*\"fish\" + 0.008*\"japanese\" + 0.006*\"per\" + 0.005*\"decor\" + 0.004*\"midtown\" + 0.004*\"pieces\" + 0.004*\"gari\" + 0.004*\"tuna\" + 0.004*\"reviews\"'), (6, '0.015*\"burger\" + 0.009*\"shack\" + 0.007*\"joe\" + 0.006*\"steak\" + 0.006*\"fans\" + 0.006*\"dumplings\" + 0.005*\"burgers\" + 0.005*\"tap\" + 0.005*\"crispo\" + 0.005*\"shake\"'), (7, '0.017*\"greek\" + 0.014*\"brunch\" + 0.007*\"pylos\" + 0.005*\"hit\" + 0.005*\"blue\" + 0.005*\"standard\" + 0.005*\"thirty\" + 0.004*\"liked\" + 0.004*\"authentic\" + 0.004*\"bourbon\"'), (8, '0.014*\"bbq\" + 0.009*\"blt\" + 0.008*\"ribs\" + 0.007*\"brisket\" + 0.007*\"prime\" + 0.006*\"supposed\" + 0.005*\"joint\" + 0.005*\"strike\" + 0.005*\"steaks\" + 0.005*\"meatball\"'), (9, '0.028*\"mexican\" + 0.027*\"tacos\" + 0.018*\"midtown\" + 0.015*\"paella\" + 0.014*\"taco\" + 0.012*\"bobo\" + 0.011*\"mole\" + 0.009*\"lindo\" + 0.005*\"sleep\" + 0.005*\"pickles\"')]\n"
     ]
    }
   ],
   "source": [
    "# Print the Keywords for each of the 10 topics\n",
    "print(lda_model.print_topics())\n",
    "doc_lda = lda_model[corpus]"
   ]
  },
  {
   "cell_type": "code",
   "execution_count": 18,
   "metadata": {},
   "outputs": [
    {
     "name": "stdout",
     "output_type": "stream",
     "text": [
      "\n",
      "Perplexity:  -8.28319857337966\n",
      "\n",
      "Coherence Score:  0.43562434498342484\n"
     ]
    }
   ],
   "source": [
    "# Compute Perplexity\n",
    "print('\\nPerplexity: ', lda_model.log_perplexity(corpus))  # a measure of how good the model is. lower the better.\n",
    "\n",
    "# Compute Coherence Score\n",
    "coherence_model_lda = CoherenceModel(model=lda_model, texts=tokenized_cleaned, dictionary=dictionary, coherence='c_v')\n",
    "coherence_lda = coherence_model_lda.get_coherence()\n",
    "print('\\nCoherence Score: ', coherence_lda)"
   ]
  },
  {
   "cell_type": "code",
   "execution_count": 19,
   "metadata": {},
   "outputs": [
    {
     "name": "stderr",
     "output_type": "stream",
     "text": [
      "/Users/edithiyerhernandez/anaconda3/lib/python3.6/site-packages/pyLDAvis/_prepare.py:257: FutureWarning: Sorting because non-concatenation axis is not aligned. A future version\n",
      "of pandas will change to not sort by default.\n",
      "\n",
      "To accept the future behavior, pass 'sort=False'.\n",
      "\n",
      "To retain the current behavior and silence the warning, pass 'sort=True'.\n",
      "\n",
      "  return pd.concat([default_term_info] + list(topic_dfs))\n"
     ]
    },
    {
     "data": {
      "text/html": [
       "\n",
       "<link rel=\"stylesheet\" type=\"text/css\" href=\"https://cdn.rawgit.com/bmabey/pyLDAvis/files/ldavis.v1.0.0.css\">\n",
       "\n",
       "\n",
       "<div id=\"ldavis_el3393849195208565813911095\"></div>\n",
       "<script type=\"text/javascript\">\n",
       "\n",
       "var ldavis_el3393849195208565813911095_data = {\"mdsDat\": {\"x\": [0.418509266644252, 0.005260764385388715, 0.06608873532136807, -0.05920687153389922, -0.06365436903759049, -0.06524787427837696, -0.0593927283600942, -0.08839162818003013, -0.07630910488484019, -0.07765619007617691], \"y\": [-0.0544761415100037, -0.15640990093185694, 0.2873345883213909, -0.05465631977621555, -0.0016116784096752085, 0.006093065688681556, -0.016325848987576348, 0.003820150524464043, -0.007546357189228894, -0.006221557729980003], \"topics\": [1, 2, 3, 4, 5, 6, 7, 8, 9, 10], \"cluster\": [1, 1, 1, 1, 1, 1, 1, 1, 1, 1], \"Freq\": [71.79154205322266, 4.67445707321167, 4.622446060180664, 3.992993116378784, 3.393425464630127, 3.1175549030303955, 2.8013625144958496, 2.178844928741455, 1.787282109260559, 1.640091896057129]}, \"tinfo\": {\"Category\": [\"Default\", \"Default\", \"Default\", \"Default\", \"Default\", \"Default\", \"Default\", \"Default\", \"Default\", \"Default\", \"Default\", \"Default\", \"Default\", \"Default\", \"Default\", \"Default\", \"Default\", \"Default\", \"Default\", \"Default\", \"Default\", \"Default\", \"Default\", \"Default\", \"Default\", \"Default\", \"Default\", \"Default\", \"Default\", \"Default\", \"Topic1\", \"Topic1\", \"Topic1\", \"Topic1\", \"Topic1\", \"Topic1\", \"Topic1\", \"Topic1\", \"Topic1\", \"Topic1\", \"Topic1\", \"Topic1\", \"Topic1\", \"Topic1\", \"Topic1\", \"Topic1\", \"Topic1\", \"Topic1\", \"Topic1\", \"Topic1\", \"Topic1\", \"Topic1\", \"Topic1\", \"Topic1\", \"Topic1\", \"Topic1\", \"Topic1\", \"Topic1\", \"Topic1\", \"Topic1\", \"Topic1\", \"Topic1\", \"Topic1\", \"Topic1\", \"Topic1\", \"Topic1\", \"Topic1\", \"Topic1\", \"Topic1\", \"Topic1\", \"Topic1\", \"Topic1\", \"Topic1\", \"Topic1\", \"Topic1\", \"Topic1\", \"Topic1\", \"Topic2\", \"Topic2\", \"Topic2\", \"Topic2\", \"Topic2\", \"Topic2\", \"Topic2\", \"Topic2\", \"Topic2\", \"Topic2\", \"Topic2\", \"Topic2\", \"Topic2\", \"Topic2\", \"Topic2\", \"Topic2\", \"Topic2\", \"Topic2\", \"Topic2\", \"Topic2\", \"Topic2\", \"Topic2\", \"Topic2\", \"Topic2\", \"Topic2\", \"Topic2\", \"Topic2\", \"Topic2\", \"Topic2\", \"Topic2\", \"Topic2\", \"Topic2\", \"Topic2\", \"Topic2\", \"Topic2\", \"Topic2\", \"Topic2\", \"Topic2\", \"Topic2\", \"Topic2\", \"Topic2\", \"Topic2\", \"Topic2\", \"Topic2\", \"Topic2\", \"Topic2\", \"Topic2\", \"Topic3\", \"Topic3\", \"Topic3\", \"Topic3\", \"Topic3\", \"Topic3\", \"Topic3\", \"Topic3\", \"Topic3\", \"Topic3\", \"Topic3\", \"Topic3\", \"Topic3\", \"Topic3\", \"Topic3\", \"Topic3\", \"Topic3\", \"Topic3\", \"Topic3\", \"Topic3\", \"Topic3\", \"Topic3\", \"Topic3\", \"Topic3\", \"Topic3\", \"Topic3\", \"Topic3\", \"Topic3\", \"Topic3\", \"Topic3\", \"Topic3\", \"Topic3\", \"Topic3\", \"Topic3\", \"Topic3\", \"Topic3\", \"Topic3\", \"Topic3\", \"Topic3\", \"Topic3\", \"Topic3\", \"Topic3\", \"Topic3\", \"Topic3\", \"Topic3\", \"Topic4\", \"Topic4\", \"Topic4\", \"Topic4\", \"Topic4\", \"Topic4\", \"Topic4\", \"Topic4\", \"Topic4\", \"Topic4\", \"Topic4\", \"Topic4\", \"Topic4\", \"Topic4\", \"Topic4\", \"Topic4\", \"Topic4\", \"Topic4\", \"Topic4\", \"Topic4\", \"Topic4\", \"Topic4\", \"Topic4\", \"Topic4\", \"Topic4\", \"Topic4\", \"Topic4\", \"Topic4\", \"Topic4\", \"Topic4\", \"Topic4\", \"Topic4\", \"Topic4\", \"Topic4\", \"Topic4\", \"Topic4\", \"Topic4\", \"Topic4\", \"Topic4\", \"Topic4\", \"Topic4\", \"Topic4\", \"Topic4\", \"Topic4\", \"Topic4\", \"Topic4\", \"Topic4\", \"Topic4\", \"Topic4\", \"Topic4\", \"Topic4\", \"Topic4\", \"Topic5\", \"Topic5\", \"Topic5\", \"Topic5\", \"Topic5\", \"Topic5\", \"Topic5\", \"Topic5\", \"Topic5\", \"Topic5\", \"Topic5\", \"Topic5\", \"Topic5\", \"Topic5\", \"Topic5\", \"Topic5\", \"Topic5\", \"Topic5\", \"Topic5\", \"Topic5\", \"Topic5\", \"Topic5\", \"Topic5\", \"Topic5\", \"Topic5\", \"Topic5\", \"Topic5\", \"Topic5\", \"Topic5\", \"Topic5\", \"Topic5\", \"Topic5\", \"Topic5\", \"Topic5\", \"Topic5\", \"Topic5\", \"Topic5\", \"Topic5\", \"Topic5\", \"Topic5\", \"Topic5\", \"Topic5\", \"Topic5\", \"Topic5\", \"Topic5\", \"Topic5\", \"Topic5\", \"Topic5\", \"Topic6\", \"Topic6\", \"Topic6\", \"Topic6\", \"Topic6\", \"Topic6\", \"Topic6\", \"Topic6\", \"Topic6\", \"Topic6\", \"Topic6\", \"Topic6\", \"Topic6\", \"Topic6\", \"Topic6\", \"Topic6\", \"Topic6\", \"Topic6\", \"Topic6\", \"Topic6\", \"Topic6\", \"Topic6\", \"Topic6\", \"Topic6\", \"Topic6\", \"Topic6\", \"Topic6\", \"Topic6\", \"Topic6\", \"Topic6\", \"Topic6\", \"Topic6\", \"Topic6\", \"Topic6\", \"Topic6\", \"Topic6\", \"Topic6\", \"Topic6\", \"Topic6\", \"Topic7\", \"Topic7\", \"Topic7\", \"Topic7\", \"Topic7\", \"Topic7\", \"Topic7\", \"Topic7\", \"Topic7\", \"Topic7\", \"Topic7\", \"Topic7\", \"Topic7\", \"Topic7\", \"Topic7\", \"Topic7\", \"Topic7\", \"Topic7\", \"Topic7\", \"Topic7\", \"Topic7\", \"Topic7\", \"Topic7\", \"Topic7\", \"Topic7\", \"Topic7\", \"Topic7\", \"Topic7\", \"Topic7\", \"Topic7\", \"Topic7\", \"Topic7\", \"Topic7\", \"Topic7\", \"Topic7\", \"Topic7\", \"Topic7\", \"Topic7\", \"Topic7\", \"Topic7\", \"Topic7\", \"Topic7\", \"Topic7\", \"Topic7\", \"Topic7\", \"Topic7\", \"Topic7\", \"Topic7\", \"Topic7\", \"Topic8\", \"Topic8\", \"Topic8\", \"Topic8\", \"Topic8\", \"Topic8\", \"Topic8\", \"Topic8\", \"Topic8\", \"Topic8\", \"Topic8\", \"Topic8\", \"Topic8\", \"Topic8\", \"Topic8\", \"Topic8\", \"Topic8\", \"Topic8\", \"Topic8\", \"Topic8\", \"Topic8\", \"Topic8\", \"Topic8\", \"Topic8\", \"Topic8\", \"Topic8\", \"Topic8\", \"Topic8\", \"Topic8\", \"Topic8\", \"Topic8\", \"Topic8\", \"Topic8\", \"Topic8\", \"Topic8\", \"Topic8\", \"Topic8\", \"Topic8\", \"Topic8\", \"Topic8\", \"Topic8\", \"Topic8\", \"Topic8\", \"Topic8\", \"Topic8\", \"Topic8\", \"Topic8\", \"Topic8\", \"Topic8\", \"Topic9\", \"Topic9\", \"Topic9\", \"Topic9\", \"Topic9\", \"Topic9\", \"Topic9\", \"Topic9\", \"Topic9\", \"Topic9\", \"Topic9\", \"Topic9\", \"Topic9\", \"Topic9\", \"Topic9\", \"Topic9\", \"Topic9\", \"Topic9\", \"Topic9\", \"Topic9\", \"Topic9\", \"Topic9\", \"Topic9\", \"Topic9\", \"Topic9\", \"Topic9\", \"Topic9\", \"Topic9\", \"Topic9\", \"Topic9\", \"Topic9\", \"Topic9\", \"Topic9\", \"Topic9\", \"Topic9\", \"Topic9\", \"Topic9\", \"Topic9\", \"Topic9\", \"Topic9\", \"Topic9\", \"Topic9\", \"Topic9\", \"Topic9\", \"Topic10\", \"Topic10\", \"Topic10\", \"Topic10\", \"Topic10\", \"Topic10\", \"Topic10\", \"Topic10\", \"Topic10\", \"Topic10\", \"Topic10\", \"Topic10\", \"Topic10\", \"Topic10\", \"Topic10\", \"Topic10\", \"Topic10\", \"Topic10\", \"Topic10\", \"Topic10\", \"Topic10\", \"Topic10\", \"Topic10\", \"Topic10\", \"Topic10\", \"Topic10\", \"Topic10\", \"Topic10\", \"Topic10\", \"Topic10\", \"Topic10\", \"Topic10\", \"Topic10\", \"Topic10\", \"Topic10\", \"Topic10\", \"Topic10\", \"Topic10\"], \"Freq\": [238.0, 173.0, 219.0, 161.0, 119.0, 154.0, 169.0, 90.0, 382.0, 115.0, 107.0, 79.0, 497.0, 347.0, 1117.0, 1190.0, 126.0, 93.0, 125.0, 373.0, 174.0, 1015.0, 103.0, 172.0, 1094.0, 1412.0, 96.0, 323.0, 71.0, 64.0, 1117.0162353515625, 1014.7901611328125, 642.7317504882812, 596.5828247070312, 1189.1282958984375, 451.1390380859375, 433.73358154296875, 1093.055908203125, 475.26031494140625, 381.5247802734375, 355.14434814453125, 351.3680419921875, 367.1963806152344, 327.48504638671875, 326.4679260253906, 387.7175598144531, 302.5003967285156, 333.3461608886719, 297.0573425292969, 283.863037109375, 298.59503173828125, 412.0305480957031, 268.5291748046875, 265.92498779296875, 445.5099792480469, 261.49884033203125, 261.36279296875, 270.8904113769531, 258.98138427734375, 259.851806640625, 1402.020263671875, 1042.7562255859375, 645.8548583984375, 611.8629760742188, 657.1755981445312, 531.4092407226562, 386.60418701171875, 336.1646423339844, 384.3551330566406, 681.0298461914062, 733.5146484375, 513.297119140625, 398.3626403808594, 433.21197509765625, 414.90313720703125, 475.97442626953125, 370.8606262207031, 160.57760620117188, 29.198396682739258, 27.755556106567383, 25.813695907592773, 24.160860061645508, 23.298507690429688, 22.256610870361328, 22.180944442749023, 20.914888381958008, 20.40987205505371, 19.43987464904785, 19.413545608520508, 17.953861236572266, 17.874109268188477, 17.85712432861328, 17.81702423095703, 17.793790817260742, 15.029640197753906, 14.91015338897705, 14.595967292785645, 14.316341400146484, 14.314032554626465, 14.050317764282227, 36.50732421875, 13.652656555175781, 12.95534896850586, 12.611922264099121, 12.568117141723633, 12.366377830505371, 12.099414825439453, 51.45792770385742, 24.091629028320312, 14.70923137664795, 22.197790145874023, 14.711668014526367, 23.01704216003418, 81.22950744628906, 23.598793029785156, 19.91529083251953, 25.049758911132812, 18.29836654663086, 28.019359588623047, 23.144142150878906, 23.898540496826172, 20.253826141357422, 17.892301559448242, 17.872636795043945, 173.1171112060547, 92.59368133544922, 51.89812469482422, 36.14077377319336, 35.574588775634766, 28.59378433227539, 25.544841766357422, 27.250648498535156, 22.36767578125, 21.161542892456055, 21.068784713745117, 19.706645965576172, 18.821651458740234, 17.29054069519043, 16.470050811767578, 15.801470756530762, 15.593778610229492, 15.368690490722656, 14.910362243652344, 14.728250503540039, 14.678037643432617, 14.584640502929688, 14.27292251586914, 14.264412879943848, 14.164167404174805, 37.77958679199219, 14.316091537475586, 13.608036041259766, 13.516500473022461, 13.206330299377441, 21.250755310058594, 29.140668869018555, 34.15462112426758, 39.99638366699219, 50.86162185668945, 20.949974060058594, 20.52853012084961, 22.636215209960938, 28.739521026611328, 21.04860496520996, 23.270633697509766, 20.067951202392578, 19.59821319580078, 19.314424514770508, 19.854923248291016, 34.06831741333008, 30.29294776916504, 26.523273468017578, 23.625553131103516, 21.007713317871094, 20.978221893310547, 19.317434310913086, 18.761425018310547, 16.78776741027832, 15.451828002929688, 15.334235191345215, 15.02900505065918, 14.421748161315918, 12.848770141601562, 12.603517532348633, 12.357831001281738, 11.76600170135498, 11.471912384033203, 11.432068824768066, 11.251991271972656, 11.227972030639648, 11.07289981842041, 10.685002326965332, 10.679553031921387, 10.63127613067627, 10.558760643005371, 10.452446937561035, 10.40061092376709, 10.321344375610352, 10.22581672668457, 105.67517852783203, 23.651920318603516, 25.52713394165039, 36.101776123046875, 27.668737411499023, 54.17068099975586, 11.988268852233887, 38.46182632446289, 71.77484893798828, 17.8515682220459, 37.24639129638672, 14.362382888793945, 22.108352661132812, 17.320852279663086, 15.304302215576172, 33.490386962890625, 30.040699005126953, 24.193937301635742, 18.225492477416992, 21.29036521911621, 15.971840858459473, 15.327749252319336, 66.07207489013672, 38.921180725097656, 33.8671875, 25.20606231689453, 22.92881965637207, 22.043975830078125, 21.572978973388672, 21.416627883911133, 17.50072479248047, 16.145633697509766, 15.610543251037598, 14.446767807006836, 13.805895805358887, 13.702247619628906, 12.01526165008545, 11.81195068359375, 11.441285133361816, 11.394976615905762, 11.161646842956543, 11.109905242919922, 10.418285369873047, 10.207275390625, 9.423266410827637, 9.083148956298828, 9.0822114944458, 8.982122421264648, 8.68928337097168, 8.644365310668945, 8.576831817626953, 8.497970581054688, 19.420774459838867, 36.3068733215332, 19.688508987426758, 18.138160705566406, 14.986994743347168, 11.3513822555542, 21.2973690032959, 18.04475212097168, 20.11900520324707, 31.36220932006836, 24.39920425415039, 17.90083885192871, 12.76516342163086, 13.935221672058105, 16.136394500732422, 14.869213104248047, 13.753434181213379, 12.980735778808594, 35.92000961303711, 27.3841552734375, 25.57185935974121, 21.96291160583496, 20.857553482055664, 20.37801170349121, 18.972774505615234, 17.993595123291016, 17.900014877319336, 16.952770233154297, 16.82346534729004, 15.875953674316406, 15.40846061706543, 14.848531723022461, 14.669366836547852, 14.28769588470459, 13.94174861907959, 12.48497486114502, 11.884414672851562, 11.472984313964844, 11.359210014343262, 11.292634010314941, 10.343586921691895, 10.259830474853516, 10.05423641204834, 9.97908878326416, 9.850776672363281, 9.828396797180176, 9.74014663696289, 9.463456153869629, 19.35415267944336, 22.090410232543945, 24.603309631347656, 64.85547637939453, 19.875513076782227, 22.11458396911621, 11.707189559936523, 26.3252010345459, 11.684432029724121, 63.875736236572266, 25.429553985595703, 17.117387771606445, 15.034904479980469, 13.538240432739258, 12.750503540039062, 12.750500679016113, 12.750360488891602, 11.029031753540039, 10.963716506958008, 10.658488273620605, 10.602446556091309, 9.959066390991211, 9.901956558227539, 9.37195110321045, 9.292130470275879, 9.029732704162598, 8.8433256149292, 8.79881477355957, 8.739383697509766, 8.586023330688477, 8.497931480407715, 8.469454765319824, 8.27739429473877, 8.209125518798828, 7.916006565093994, 7.854640960693359, 7.83551549911499, 7.771158218383789, 7.575180530548096, 14.215779304504395, 54.50108337402344, 11.708430290222168, 11.251322746276855, 16.770103454589844, 18.977184295654297, 11.535467147827148, 16.358427047729492, 10.15813159942627, 19.71297264099121, 14.233179092407227, 19.980588912963867, 13.388007164001465, 11.868843078613281, 11.069062232971191, 10.869542121887207, 12.131759643554688, 10.814958572387695, 11.160268783569336, 53.57331466674805, 27.330970764160156, 22.807342529296875, 15.891352653503418, 14.594759941101074, 13.862086296081543, 13.628140449523926, 13.315093040466309, 13.061991691589355, 12.657750129699707, 11.367904663085938, 10.40477466583252, 10.101969718933105, 9.671435356140137, 7.766695976257324, 7.749209880828857, 7.559890270233154, 7.2684478759765625, 7.1283278465271, 7.0969624519348145, 7.041792392730713, 6.925734996795654, 6.85599422454834, 6.61611795425415, 6.61611795425415, 6.61611795425415, 6.6158576011657715, 6.6158576011657715, 6.6158576011657715, 6.6158576011657715, 6.6158576011657715, 6.6158576011657715, 6.6158576011657715, 6.6158576011657715, 6.6158576011657715, 6.6158576011657715, 6.6158576011657715, 7.249642372131348, 15.146248817443848, 8.817909240722656, 11.186100006103516, 16.187257766723633, 9.699812889099121, 9.827094078063965, 9.0441255569458, 10.960956573486328, 12.009509086608887, 11.511131286621094, 7.743186950683594, 35.34584045410156, 33.23152542114258, 28.397382736206055, 26.204055786132812, 22.730369567871094, 12.226902961730957, 11.912391662597656, 11.690862655639648, 11.382657051086426, 9.618071556091309, 9.413394927978516, 9.400174140930176, 8.270581245422363, 8.16733455657959, 7.860909461975098, 7.5674285888671875, 7.1361494064331055, 7.134930610656738, 7.033881187438965, 6.395617961883545, 6.296136856079102, 5.826288223266602, 5.730536460876465, 5.730536460876465, 5.730536460876465, 5.730536460876465, 5.730536460876465, 5.730536460876465, 5.730536460876465, 5.730536460876465, 5.730536460876465, 5.730536460876465, 5.730536460876465, 8.885991096496582, 5.730536460876465, 5.730536460876465, 65.44184112548828, 67.23628997802734, 42.44382095336914, 9.133125305175781, 7.307365894317627, 7.949305057525635, 7.901666164398193, 6.821562767028809, 89.78655242919922, 19.167055130004883, 18.001220703125, 15.614642143249512, 13.410243034362793, 8.826074600219727, 8.13685417175293, 7.691050052642822, 7.665613174438477, 7.182289123535156, 6.779870986938477, 6.695308685302734, 6.610322952270508, 6.388745307922363, 6.275803089141846, 6.274656295776367, 6.0807719230651855, 6.080747604370117, 5.951080799102783, 5.804171562194824, 5.804171562194824, 5.804171562194824, 5.804171562194824, 5.804171562194824, 5.804171562194824, 11.693110466003418, 5.334524154663086, 5.334524154663086, 5.325307846069336, 5.264737606048584, 22.32079315185547, 15.65494441986084, 15.091196060180664, 12.57593059539795, 6.9340643882751465, 7.183079242706299, 6.554462909698486, 5.940102577209473], \"Term\": [\"chicken\", \"pizza\", \"fish\", \"sushi\", \"mexican\", \"burger\", \"hit\", \"ramen\", \"dinner\", \"lobster\", \"brunch\", \"tacos\", \"best\", \"meal\", \"restaurant\", \"food\", \"fried\", \"slice\", \"line\", \"table\", \"ever\", \"place\", \"salad\", \"nyc\", \"good\", \"like\", \"cheap\", \"still\", \"midtown\", \"greek\", \"restaurant\", \"place\", \"menu\", \"bar\", \"food\", \"know\", \"things\", \"good\", \"really\", \"come\", \"great\", \"find\", \"night\", \"well\", \"restaurants\", \"would\", \"around\", \"want\", \"east\", \"actually\", \"kind\", \"eat\", \"take\", \"eating\", \"make\", \"love\", \"think\", \"better\", \"might\", \"always\", \"like\", \"one\", \"also\", \"time\", \"people\", \"little\", \"way\", \"probably\", \"pretty\", \"new\", \"get\", \"much\", \"going\", \"back\", \"even\", \"best\", \"dinner\", \"sushi\", \"decor\", \"pieces\", \"gari\", \"reviews\", \"dollar\", \"exposed\", \"socarrat\", \"immaculate\", \"enthusiasts\", \"lastly\", \"ridiculously\", \"pan\", \"toro\", \"omakase\", \"according\", \"sake\", \"hipster\", \"appealing\", \"photo\", \"obsessed\", \"skin\", \"tier\", \"per\", \"carte\", \"cod\", \"celebrity\", \"japan\", \"advice\", \"kosher\", \"japanese\", \"slow\", \"experiences\", \"planet\", \"truffle\", \"gon\", \"fish\", \"price\", \"sea\", \"tuna\", \"dudes\", \"midtown\", \"fast\", \"rice\", \"meal\", \"tasting\", \"honestly\", \"pizza\", \"slice\", \"pie\", \"pies\", \"porchetta\", \"bus\", \"site\", \"joints\", \"overrated\", \"clientele\", \"signature\", \"mess\", \"honest\", \"wise\", \"online\", \"mag\", \"neapolitan\", \"era\", \"noting\", \"cured\", \"mozzarella\", \"universal\", \"stars\", \"became\", \"praise\", \"oven\", \"bandwagon\", \"sfoglia\", \"forty\", \"pulled\", \"slices\", \"expected\", \"hype\", \"game\", \"line\", \"cuisine\", \"eye\", \"joint\", \"sandwich\", \"hell\", \"ever\", \"taste\", \"front\", \"nyc\", \"best\", \"mussels\", \"bone\", \"meatpacking\", \"awkward\", \"specials\", \"necessary\", \"onion\", \"monkey\", \"paradou\", \"amazingly\", \"sum\", \"pub\", \"dim\", \"awarded\", \"falls\", \"filet\", \"lebanese\", \"faces\", \"vegas\", \"mary\", \"thank\", \"tortilla\", \"specialize\", \"pink\", \"peter\", \"hat\", \"thankfully\", \"unfinished\", \"downright\", \"awful\", \"lobster\", \"inn\", \"double\", \"crazy\", \"hate\", \"roll\", \"essex\", \"blue\", \"chicken\", \"understand\", \"salad\", \"via\", \"burgers\", \"rolls\", \"waiters\", \"burger\", \"fried\", \"french\", \"fries\", \"game\", \"fully\", \"standards\", \"bbq\", \"blt\", \"brisket\", \"supposed\", \"strike\", \"steaks\", \"meatball\", \"novita\", \"nowhere\", \"glad\", \"slop\", \"expert\", \"death\", \"shoulder\", \"complaining\", \"feast\", \"glory\", \"esquina\", \"walter\", \"sophisticated\", \"salon\", \"falling\", \"dylan\", \"ensure\", \"buddy\", \"mecca\", \"teen\", \"calamari\", \"tgi\", \"painfully\", \"situated\", \"ribs\", \"rib\", \"texas\", \"steakhouse\", \"compared\", \"beers\", \"smoked\", \"hungry\", \"prime\", \"joint\", \"dry\", \"speaking\", \"eye\", \"style\", \"local\", \"beef\", \"served\", \"shack\", \"joe\", \"fans\", \"crispo\", \"shake\", \"mermaid\", \"weird\", \"vintage\", \"sidewalk\", \"suggested\", \"kept\", \"models\", \"chopped\", \"locals\", \"fanelli\", \"dressing\", \"aged\", \"balance\", \"soba\", \"changes\", \"canal\", \"sale\", \"sprawling\", \"overcooked\", \"epitome\", \"encourage\", \"remembered\", \"chops\", \"flock\", \"spinach\", \"thursday\", \"tap\", \"dumplings\", \"burger\", \"authentic\", \"burgers\", \"mistake\", \"steak\", \"sandwich\", \"greek\", \"pylos\", \"thirty\", \"bourbon\", \"harlem\", \"clay\", \"pianos\", \"portuguese\", \"heaven\", \"chronic\", \"keith\", \"tiger\", \"embrace\", \"suggestion\", \"scoop\", \"tall\", \"quirky\", \"asshole\", \"breslin\", \"elephant\", \"fort\", \"amateur\", \"grew\", \"painted\", \"colors\", \"wife\", \"visited\", \"impression\", \"cultures\", \"heather\", \"complete\", \"brunch\", \"worthy\", \"promise\", \"liked\", \"standard\", \"met\", \"authentic\", \"theme\", \"blue\", \"avenue\", \"hit\", \"hell\", \"must\", \"beers\", \"bistro\", \"game\", \"totally\", \"dinner\", \"artichoke\", \"ribbon\", \"caracas\", \"fajitas\", \"abc\", \"arepas\", \"salsa\", \"box\", \"control\", \"westville\", \"careful\", \"candle\", \"emily\", \"stumbled\", \"joke\", \"posto\", \"napkin\", \"ease\", \"trattoria\", \"well-oiled\", \"insult\", \"sons\", \"brighter\", \"vie\", \"not-rushed\", \"venezuelan\", \"enabling\", \"three-fold\", \"rates\", \"pricing\", \"bask\", \"continuously\", \"deliberately\", \"injury\", \"non-recession\", \"infuriating\", \"hopped\", \"indian\", \"establishments\", \"combinations\", \"rate\", \"fast\", \"brasserie\", \"happily\", \"indeed\", \"write\", \"hell\", \"cheap\", \"consistent\", \"paella\", \"taco\", \"bobo\", \"mole\", \"lindo\", \"sleep\", \"pickles\", \"mission\", \"deli\", \"los\", \"taqueria\", \"moves\", \"stupid\", \"bohemian\", \"singing\", \"hurting\", \"housewives\", \"horse\", \"otto\", \"recommendation\", \"confusion\", \"beat\", \"donation\", \"surcharge\", \"drums\", \"donate\", \"mingle\", \"unsatisfying\", \"clears\", \"bourgeois\", \"bongo\", \"inconsolably\", \"fateful\", \"margarita\", \"africa\", \"abbreviation\", \"tacos\", \"mexican\", \"midtown\", \"enchiladas\", \"beach\", \"highly\", \"counter\", \"club\", \"ramen\", \"thai\", \"noodle\", \"ippudo\", \"totto\", \"nation\", \"rightfully\", \"plentiful\", \"pushed\", \"rai\", \"ivan\", \"barns\", \"spruce\", \"aldea\", \"warranted\", \"entryway\", \"steamy\", \"clever\", \"perry\", \"geisha\", \"inc.\", \"polishing\", \"regions\", \"treatments\", \"variation\", \"dropped\", \"parson\", \"tipsy\", \"lemon\", \"plastic\", \"broth\", \"flex\", \"noodles\", \"soup\", \"america\", \"blind\", \"gives\", \"efforts\"], \"Total\": [238.0, 173.0, 219.0, 161.0, 119.0, 154.0, 169.0, 90.0, 382.0, 115.0, 107.0, 79.0, 497.0, 347.0, 1117.0, 1190.0, 126.0, 93.0, 125.0, 373.0, 174.0, 1015.0, 103.0, 172.0, 1094.0, 1412.0, 96.0, 323.0, 71.0, 64.0, 1117.8499755859375, 1015.576904296875, 643.4373779296875, 597.3148193359375, 1190.7567138671875, 451.8837890625, 434.46978759765625, 1094.9683837890625, 476.0952453613281, 382.2148742675781, 355.8356628417969, 352.0688171386719, 367.9537353515625, 328.1759033203125, 327.16058349609375, 388.5678405761719, 303.19390869140625, 334.1165771484375, 297.74652099609375, 284.5518493652344, 299.3280029296875, 413.0849914550781, 269.2190246582031, 266.6140441894531, 446.6786193847656, 262.1877136230469, 262.05169677734375, 271.6169738769531, 259.67706298828125, 260.55029296875, 1412.632080078125, 1049.498779296875, 649.4750366210938, 615.0737915039062, 661.1268310546875, 533.7391357421875, 388.38165283203125, 337.7234802246094, 387.22344970703125, 694.99560546875, 753.5847778320312, 522.609619140625, 403.21783447265625, 442.0615234375, 422.29052734375, 497.31298828125, 382.7362976074219, 161.2872314453125, 29.908658981323242, 28.465211868286133, 26.52332305908203, 24.870807647705078, 24.008907318115234, 22.9669246673584, 22.890625, 21.624820709228516, 21.120328903198242, 20.15001106262207, 20.12364959716797, 18.663610458374023, 18.583763122558594, 18.566734313964844, 18.52734375, 18.504039764404297, 15.739558219909668, 15.619969367980957, 15.3058500289917, 15.02609634399414, 15.023930549621582, 14.759952545166016, 38.376705169677734, 14.36236572265625, 13.66529655456543, 13.321813583374023, 13.277852058410645, 13.076350212097168, 12.809294700622559, 55.73506546020508, 26.457965850830078, 15.764676094055176, 24.78187370300293, 15.77200984954834, 31.590246200561523, 219.43429565429688, 33.9896240234375, 27.00508689880371, 41.49708938598633, 24.72373390197754, 71.10909271240234, 48.696083068847656, 58.88976287841797, 347.3617248535156, 50.985877990722656, 33.603790283203125, 173.94424438476562, 93.31930541992188, 52.69512176513672, 36.866390228271484, 36.30017852783203, 29.319534301757812, 26.2706241607666, 28.030906677246094, 23.09429168701172, 21.887441635131836, 21.794776916503906, 20.432491302490234, 19.54743194580078, 18.016216278076172, 17.196640014648438, 16.527055740356445, 16.31929588317871, 16.094587326049805, 15.636804580688477, 15.454113006591797, 15.403604507446289, 15.310751914978027, 14.998714447021484, 14.990184783935547, 14.890480041503906, 39.73019790649414, 15.060657501220703, 14.333831787109375, 14.242300033569336, 13.932123184204102, 23.71690559387207, 37.96428298950195, 50.71952438354492, 81.91008758544922, 125.04865264892578, 28.650623321533203, 35.10911178588867, 51.94501876831055, 111.04547882080078, 52.383941650390625, 174.6675262451172, 87.2311019897461, 145.2922821044922, 172.05599975585938, 497.31298828125, 34.787174224853516, 31.06313133239746, 27.242027282714844, 24.344514846801758, 21.72648811340332, 21.697317123413086, 20.036283493041992, 19.480327606201172, 17.516023635864258, 16.17135238647461, 16.052810668945312, 15.748047828674316, 15.140356063842773, 13.567816734313965, 13.322342872619629, 13.076634407043457, 12.484726905822754, 12.191518783569336, 12.151123046875, 11.970647811889648, 11.947229385375977, 11.791869163513184, 11.40404224395752, 11.398809432983398, 11.350552558898926, 11.27806568145752, 11.171540260314941, 11.1198148727417, 11.04029655456543, 10.946365356445312, 115.56464385986328, 25.81651496887207, 31.159942626953125, 51.32786178588867, 37.26530075073242, 94.94864654541016, 13.441428184509277, 78.72596740722656, 238.61016845703125, 27.310026168823242, 103.05587005615234, 18.851930618286133, 44.85927200317383, 29.149072647094727, 22.839174270629883, 154.4903564453125, 126.8313980102539, 88.4660873413086, 44.269126892089844, 81.91008758544922, 28.92365837097168, 30.326087951660156, 66.7937240600586, 39.64303207397461, 34.588836669921875, 25.928028106689453, 23.651241302490234, 22.765792846679688, 22.294870376586914, 22.13835334777832, 18.22311782836914, 16.86753273010254, 16.332273483276367, 15.168750762939453, 14.527817726135254, 14.423974990844727, 12.737091064453125, 12.533863067626953, 12.163151741027832, 12.117042541503906, 11.88331413269043, 11.832273483276367, 11.14033317565918, 10.929312705993652, 10.145076751708984, 9.805243492126465, 9.805212020874023, 9.703795433044434, 9.411397933959961, 9.366284370422363, 9.298896789550781, 9.220093727111816, 21.367393493652344, 45.74000930786133, 24.042238235473633, 22.083248138427734, 18.012744903564453, 13.315094947814941, 33.01691436767578, 26.168073654174805, 33.51594924926758, 75.3036117553711, 51.94501876831055, 40.44077682495117, 17.603422164916992, 35.10911178588867, 83.40047454833984, 73.55259704589844, 66.62997436523438, 125.34410095214844, 36.6397590637207, 28.1038875579834, 26.29171371459961, 22.682706832885742, 21.577150344848633, 21.098081588745117, 19.69254493713379, 18.713363647460938, 18.61983299255371, 17.672786712646484, 17.54328155517578, 16.595745086669922, 16.128480911254883, 15.56840705871582, 15.389079093933105, 15.007471084594727, 14.661563873291016, 13.204889297485352, 12.60400104522705, 12.19296932220459, 12.07901382446289, 12.01242446899414, 11.063618659973145, 10.980029106140137, 10.774270057678223, 10.699875831604004, 10.570474624633789, 10.548151016235352, 10.45976448059082, 10.183579444885254, 26.864591598510742, 32.58980178833008, 38.67317199707031, 154.4903564453125, 36.882354736328125, 44.85927200317383, 14.690966606140137, 106.73843383789062, 111.04547882080078, 64.60614013671875, 26.15996551513672, 17.853700637817383, 15.765923500061035, 14.268590927124023, 13.480929374694824, 13.480947494506836, 13.48096752166748, 11.759529113769531, 11.69441032409668, 11.389354705810547, 11.334552764892578, 10.68994140625, 10.633468627929688, 10.102659225463867, 10.02353572845459, 9.760973930358887, 9.574352264404297, 9.529190063476562, 9.469797134399414, 9.316458702087402, 9.228468894958496, 9.200539588928223, 9.008431434631348, 8.940146446228027, 8.646371841430664, 8.585394859313965, 8.56604290008545, 8.505141258239746, 8.305604934692383, 18.318021774291992, 107.01480102539062, 14.94920539855957, 14.262231826782227, 27.88494110107422, 35.13360595703125, 16.726694107055664, 36.882354736328125, 13.971590042114258, 78.72596740722656, 41.10411834716797, 169.29873657226562, 52.383941650390625, 42.25263595581055, 33.01691436767578, 30.285690307617188, 81.91008758544922, 29.832006454467773, 382.7362976074219, 54.30186080932617, 28.0591983795166, 23.53556251525879, 16.61963653564453, 15.322860717773438, 14.590203285217285, 14.356253623962402, 14.043363571166992, 13.790359497070312, 13.38581657409668, 12.096474647521973, 11.13341236114502, 10.830004692077637, 10.39961051940918, 8.495218276977539, 8.477343559265137, 8.289178848266602, 7.997467517852783, 7.85661506652832, 7.8268280029296875, 7.77004861831665, 7.653891086578369, 7.585649013519287, 7.344343185424805, 7.344343185424805, 7.344343185424805, 7.344339847564697, 7.344339847564697, 7.344339847564697, 7.344339847564697, 7.344339847564697, 7.344339847564697, 7.344339847564697, 7.344339847564697, 7.344339847564697, 7.344339847564697, 7.344339847564697, 8.393438339233398, 27.07829475402832, 11.703591346740723, 21.317241668701172, 48.696083068847656, 17.19159698486328, 18.7249698638916, 16.53921890258789, 36.261695861816406, 52.383941650390625, 96.24063873291016, 12.509564399719238, 36.08427429199219, 33.96977615356445, 29.135414123535156, 26.94500732421875, 23.468847274780273, 12.965758323669434, 12.6505765914917, 12.42943000793457, 12.120820045471191, 10.355996131896973, 10.15131664276123, 10.138995170593262, 9.009414672851562, 8.905973434448242, 8.59984302520752, 8.30552864074707, 7.87416410446167, 7.874539375305176, 7.772087574005127, 7.134180545806885, 7.034280300140381, 6.56449556350708, 6.468620300292969, 6.468620300292969, 6.468620300292969, 6.468620300292969, 6.468620300292969, 6.468620300292969, 6.468620300292969, 6.468620300292969, 6.468620300292969, 6.468620300292969, 6.468620300292969, 10.092055320739746, 6.468620300292969, 6.468620300292969, 79.17279815673828, 119.6071548461914, 71.10909271240234, 15.8031587600708, 12.595829010009766, 33.97218322753906, 51.88114929199219, 61.99037170410156, 90.52367401123047, 19.90423583984375, 18.738449096679688, 16.351787567138672, 14.14738941192627, 9.564043045043945, 8.874312400817871, 8.429286003112793, 8.403812408447266, 7.919382095336914, 7.516961097717285, 7.432573318481445, 7.348136901855469, 7.126084804534912, 7.013904094696045, 7.014237403869629, 6.818018913269043, 6.818028926849365, 6.689353942871094, 6.541566848754883, 6.541566848754883, 6.541566848754883, 6.541566848754883, 6.541566848754883, 6.541566848754883, 13.248770713806152, 6.072150230407715, 6.072150230407715, 6.0633368492126465, 6.002345561981201, 31.60828399658203, 22.91533851623535, 24.169525146484375, 41.64265823364258, 13.618511199951172, 16.108509063720703, 13.191583633422852, 8.562760353088379], \"loglift\": [30.0, 29.0, 28.0, 27.0, 26.0, 25.0, 24.0, 23.0, 22.0, 21.0, 20.0, 19.0, 18.0, 17.0, 16.0, 15.0, 14.0, 13.0, 12.0, 11.0, 10.0, 9.0, 8.0, 7.0, 6.0, 5.0, 4.0, 3.0, 2.0, 1.0, 0.33070001006126404, 0.33059999346733093, 0.3303000032901764, 0.3301999866962433, 0.33000001311302185, 0.329800009727478, 0.3296999931335449, 0.3296999931335449, 0.3296000063419342, 0.3296000063419342, 0.3294999897480011, 0.3294000029563904, 0.3292999863624573, 0.3292999863624573, 0.3292999863624573, 0.32919999957084656, 0.32910001277923584, 0.32910001277923584, 0.32910001277923584, 0.32899999618530273, 0.32899999618530273, 0.3287999927997589, 0.3287999927997589, 0.3287999927997589, 0.3287999927997589, 0.3287999927997589, 0.3287999927997589, 0.3287000060081482, 0.3287000060081482, 0.3287000060081482, 0.3239000141620636, 0.32499998807907104, 0.32580000162124634, 0.326200008392334, 0.3253999948501587, 0.3269999921321869, 0.32679998874664307, 0.32679998874664307, 0.3240000009536743, 0.3111000061035156, 0.3043999969959259, 0.313400000333786, 0.31929999589920044, 0.31119999289512634, 0.31380000710487366, 0.2874999940395355, 0.29989999532699585, 3.0585999488830566, 3.0390000343322754, 3.0378000736236572, 3.035900115966797, 3.03410005569458, 3.0329999923706055, 3.031599998474121, 3.031599998474121, 3.0297000408172607, 3.0288000106811523, 3.0271999835968018, 3.027100086212158, 3.0243000984191895, 3.0241000652313232, 3.0241000652313232, 3.0239999294281006, 3.023900032043457, 3.016900062561035, 3.0164999961853027, 3.0155999660491943, 3.014699935913086, 3.014699935913086, 3.0137999057769775, 3.0130999088287354, 3.012399911880493, 3.009700059890747, 3.0083000659942627, 3.0081000328063965, 3.007200002670288, 3.00600004196167, 2.9832000732421875, 2.969399929046631, 2.993799924850464, 2.952899932861328, 2.993499994277954, 2.7464001178741455, 2.0692999362945557, 2.698199987411499, 2.758500099182129, 2.558300018310547, 2.7620999813079834, 2.131700038909912, 2.319200038909912, 2.1612000465393066, 0.22100000083446503, 2.015899896621704, 2.4316999912261963, 3.069499969482422, 3.0664000511169434, 3.059000015258789, 3.0543999671936035, 3.0541000366210938, 3.0492000579833984, 3.0462000370025635, 3.0460000038146973, 3.04229998588562, 3.0404999256134033, 3.0404000282287598, 3.038100004196167, 3.036400079727173, 3.033099889755249, 3.031100034713745, 3.029400110244751, 3.0288000106811523, 3.02810001373291, 3.026700019836426, 3.026099920272827, 3.0260000228881836, 3.025700092315674, 3.024600028991699, 3.024600028991699, 3.024199962615967, 3.023900032043457, 3.0234999656677246, 3.0223000049591064, 3.021899938583374, 3.020699977874756, 2.9644999504089355, 2.8097000122070312, 2.678800106048584, 2.3573999404907227, 2.1747000217437744, 2.761199951171875, 2.537600040435791, 2.2435998916625977, 1.722599983215332, 2.1624999046325684, 1.0585999488830566, 1.6047999858856201, 1.0708999633789062, 0.8873000144958496, -0.14650000631809235, 3.199700117111206, 3.195499897003174, 3.1939001083374023, 3.190700054168701, 3.187000036239624, 3.1868999004364014, 3.1840999126434326, 3.183000087738037, 3.1782000064849854, 3.175100088119507, 3.174799919128418, 3.1738998889923096, 3.171999931335449, 3.1661999225616455, 3.1651999950408936, 3.164099931716919, 3.16129994392395, 3.1598000526428223, 3.159600019454956, 3.1586999893188477, 3.1584999561309814, 3.1577000617980957, 3.1554999351501465, 3.1554999351501465, 3.1552000045776367, 3.1547000408172607, 3.154099941253662, 3.1538000106811523, 3.1533000469207764, 3.1524999141693115, 3.131200075149536, 3.1331000328063965, 3.021199941635132, 2.8687000274658203, 2.9228999614715576, 2.65939998626709, 3.1061999797821045, 2.504300117492676, 2.0192999839782715, 2.7955000400543213, 2.202899932861328, 2.9486000537872314, 2.5130999088287354, 2.7000999450683594, 2.8203001022338867, 1.6917999982833862, 1.7803000211715698, 1.9241000413894653, 2.333199977874756, 1.8732999563217163, 2.626800060272217, 2.538300037384033, 3.372499942779541, 3.365000009536743, 3.3622000217437744, 3.35509991645813, 3.352299928665161, 3.351099967956543, 3.350399971008301, 3.3501999378204346, 3.342900037765503, 3.339600086212158, 3.338099956512451, 3.3345999717712402, 3.33240008354187, 3.3320000171661377, 3.325000047683716, 3.3239998817443848, 3.3220999240875244, 3.321899890899658, 3.32069993019104, 3.3203001022338867, 3.3162999153137207, 3.315000057220459, 3.309499979019165, 3.30679988861084, 3.3066999912261963, 3.305999994277954, 3.303499937057495, 3.303100109100342, 3.302500009536743, 3.301800012588501, 3.2878000736236572, 3.152400016784668, 3.1835999488830566, 3.186500072479248, 3.199399948120117, 3.22379994392395, 2.9449000358581543, 3.0116000175476074, 2.872999906539917, 2.5074000358581543, 2.627700090408325, 2.5683000087738037, 3.062000036239624, 2.4593000411987305, 1.7408000230789185, 1.784600019454956, 1.8055000305175781, 1.1157000064849854, 3.4482998847961426, 3.442199945449829, 3.4403998851776123, 3.4358999729156494, 3.4342000484466553, 3.4333999156951904, 3.4309000968933105, 3.4289000034332275, 3.4286999702453613, 3.426500082015991, 3.4261999130249023, 3.423799991607666, 3.422499895095825, 3.420799970626831, 3.4202001094818115, 3.4189999103546143, 3.417799949645996, 3.412100076675415, 3.4093000888824463, 3.4072999954223633, 3.4066998958587646, 3.4063000679016113, 3.4007999897003174, 3.4003000259399414, 3.3989999294281006, 3.398400068283081, 3.397599935531616, 3.39739990234375, 3.3968000411987305, 3.3947999477386475, 3.140199899673462, 3.0792999267578125, 3.015899896621704, 2.6001999378204346, 2.849900007247925, 2.7607998847961426, 3.2411000728607178, 2.0683000087738037, 1.2164000272750854, 3.563699960708618, 3.5467000007629395, 3.532900094985962, 3.527600049972534, 3.5225000381469727, 3.519399881362915, 3.519399881362915, 3.5192999839782715, 3.5109000205993652, 3.510499954223633, 3.508699893951416, 3.5083000659942627, 3.504199981689453, 3.5037999153137207, 3.5, 3.499300003051758, 3.4972000122070312, 3.4955999851226807, 3.495300054550171, 3.494800090789795, 3.4934000968933105, 3.4925999641418457, 3.492300033569336, 3.4904000759124756, 3.489799976348877, 3.486799955368042, 3.4860999584198, 3.4858999252319336, 3.484800100326538, 3.4830000400543213, 3.321500062942505, 2.9003000259399414, 3.330699920654297, 3.337899923324585, 3.0666000843048096, 2.9591000080108643, 3.2035000324249268, 2.7620999813079834, 3.2562999725341797, 2.1903998851776123, 2.5144999027252197, 1.4381999969482422, 2.2107999324798584, 2.305299997329712, 2.4821999073028564, 2.5504000186920166, 1.6653000116348267, 2.5604000091552734, 0.04010000079870224, 3.8129000663757324, 3.800100088119507, 3.7948999404907227, 3.781599998474121, 3.7776999473571777, 3.7751998901367188, 3.7743000984191895, 3.773099899291992, 3.7720999717712402, 3.770400047302246, 3.7643001079559326, 3.758699893951416, 3.7567999362945557, 3.7537999153137207, 3.7367000579833984, 3.736599922180176, 3.734299898147583, 3.730799913406372, 3.729099988937378, 3.7284998893737793, 3.7279999256134033, 3.7263998985290527, 3.7251999378204346, 3.7219998836517334, 3.7219998836517334, 3.7219998836517334, 3.72189998626709, 3.72189998626709, 3.72189998626709, 3.72189998626709, 3.72189998626709, 3.72189998626709, 3.72189998626709, 3.72189998626709, 3.72189998626709, 3.72189998626709, 3.72189998626709, 3.6798999309539795, 3.2453999519348145, 3.543299913406372, 3.18149995803833, 2.7249999046325684, 3.2541000843048096, 3.1816999912261963, 3.2228000164031982, 2.630000114440918, 2.3534998893737793, 1.7028000354766846, 3.3466999530792236, 4.003799915313721, 4.002500057220459, 3.998800039291382, 3.9965999126434326, 3.992500066757202, 3.9658000469207764, 3.964400053024292, 3.963200092315674, 3.9616000652313232, 3.9505999088287354, 3.9489998817443848, 3.9488000869750977, 3.9388999938964844, 3.9379000663757324, 3.9346001148223877, 3.9314000606536865, 3.926100015640259, 3.925800085067749, 3.9247000217437744, 3.9151999950408936, 3.913599967956543, 3.9052000045776367, 3.9033000469207764, 3.9033000469207764, 3.9033000469207764, 3.9033000469207764, 3.9033000469207764, 3.9033000469207764, 3.9033000469207764, 3.9033000469207764, 3.9033000469207764, 3.9033000469207764, 3.9033000469207764, 3.897200107574463, 3.9033000469207764, 3.9033000469207764, 3.8340001106262207, 3.448499917984009, 3.5083999633789062, 3.4762001037597656, 3.4800000190734863, 2.572000026702881, 2.1426000595092773, 1.8176000118255615, 4.102200031280518, 4.072700023651123, 4.070300102233887, 4.064300060272217, 4.0569000244140625, 4.030099868774414, 4.02370023727417, 4.018799781799316, 4.018499851226807, 4.012700080871582, 4.007199764251709, 4.00600004196167, 4.0046000480651855, 4.001200199127197, 3.9992001056671143, 3.999000072479248, 3.996000051498413, 3.996000051498413, 3.993499994277954, 3.990799903869629, 3.990799903869629, 3.990799903869629, 3.990799903869629, 3.990799903869629, 3.990799903869629, 3.9855000972747803, 3.9809000492095947, 3.9809000492095947, 3.980600118637085, 3.979300022125244, 3.762500047683716, 3.7293999195098877, 3.639400005340576, 2.913100004196167, 3.4354000091552734, 3.302799940109253, 3.4110000133514404, 3.7446999549865723], \"logprob\": [30.0, 29.0, 28.0, 27.0, 26.0, 25.0, 24.0, 23.0, 22.0, 21.0, 20.0, 19.0, 18.0, 17.0, 16.0, 15.0, 14.0, 13.0, 12.0, 11.0, 10.0, 9.0, 8.0, 7.0, 6.0, 5.0, 4.0, 3.0, 2.0, 1.0, -4.460999965667725, -4.557000160217285, -5.013700008392334, -5.088200092315674, -4.398499965667725, -5.367700099945068, -5.4070000648498535, -4.482699871063232, -5.3155999183654785, -5.535299777984619, -5.606900215148926, -5.617599964141846, -5.573500156402588, -5.688000202178955, -5.691100120544434, -5.519199848175049, -5.767399787902832, -5.670300006866455, -5.7855000495910645, -5.830999851226807, -5.780399799346924, -5.4583001136779785, -5.886499881744385, -5.896200180053711, -5.380199909210205, -5.913000106811523, -5.91349983215332, -5.877699851989746, -5.922699928283691, -5.919300079345703, -4.233799934387207, -4.529799938201904, -5.008900165557861, -5.062900066375732, -4.991499900817871, -5.20389986038208, -5.521999835968018, -5.661799907684326, -5.527900218963623, -4.9558000564575195, -4.8815999031066895, -5.23859977722168, -5.492099761962891, -5.408199787139893, -5.451399803161621, -5.3140997886657715, -5.563600063323975, -3.6689999103546143, -5.373700141906738, -5.4243998527526855, -5.4969000816345215, -5.5630998611450195, -5.599400043487549, -5.645199775695801, -5.648600101470947, -5.707300186157227, -5.731800079345703, -5.7804999351501465, -5.781799793243408, -5.860000133514404, -5.8643999099731445, -5.8653998374938965, -5.867599964141846, -5.868899822235107, -6.037799835205078, -6.04580020904541, -6.066999912261963, -6.086400032043457, -6.086599826812744, -6.105100154876709, -5.150300025939941, -6.133900165557861, -6.186299800872803, -6.213200092315674, -6.216599941253662, -6.232800006866455, -6.2546000480651855, -4.807000160217285, -5.565899848937988, -6.059299945831299, -5.647799968719482, -6.059199810028076, -5.611599922180176, -4.350500106811523, -5.586599826812744, -5.75629997253418, -5.526899814605713, -5.841000080108643, -5.414899826049805, -5.606100082397461, -5.573999881744385, -5.7393999099731445, -5.863399982452393, -5.864500045776367, -3.5826001167297363, -4.208399772644043, -4.787300109863281, -5.149199962615967, -5.164999961853027, -5.383399963378906, -5.496200084686279, -5.43149995803833, -5.629000186920166, -5.6844000816345215, -5.688799858093262, -5.7555999755859375, -5.801599979400635, -5.88640022277832, -5.935100078582764, -5.976500034332275, -5.989699840545654, -6.004300117492676, -6.0345001220703125, -6.046800136566162, -6.050300121307373, -6.056600093841553, -6.078199863433838, -6.078800201416016, -6.085899829864502, -5.104800224304199, -6.075200080871582, -6.125899791717529, -6.132699966430664, -6.155900001525879, -5.680200099945068, -5.364500045776367, -5.205699920654297, -5.047800064086914, -4.807499885559082, -5.694499969482422, -5.714799880981445, -5.617099761962891, -5.378300189971924, -5.689799785614014, -5.589399814605713, -5.737500190734863, -5.761199951171875, -5.7758002281188965, -5.748199939727783, -5.0619001388549805, -5.179299831390381, -5.31220006942749, -5.4278998374938965, -5.545300006866455, -5.5467000007629395, -5.629199981689453, -5.658400058746338, -5.769599914550781, -5.852499961853027, -5.860099792480469, -5.880199909210205, -5.921500205993652, -6.0370001792907715, -6.05620002746582, -6.075900077819824, -6.125, -6.150300025939941, -6.153800010681152, -6.1697001457214355, -6.171800136566162, -6.185699939727783, -6.221399784088135, -6.22189998626709, -6.226399898529053, -6.23330020904541, -6.2434000968933105, -6.2484002113342285, -6.25600004196167, -6.2652997970581055, -3.9298999309539795, -5.426799774169922, -5.350500106811523, -5.003900051116943, -5.269899845123291, -4.598100185394287, -6.106299877166748, -4.9405999183654785, -4.316699981689453, -5.708099842071533, -4.972700119018555, -5.925600051879883, -5.49429988861084, -5.73829984664917, -5.862100124359131, -5.078999996185303, -5.187699794769287, -5.404099941253662, -5.687399864196777, -5.5320000648498535, -5.819399833679199, -5.860599994659424, -4.236800193786621, -4.765999794006348, -4.905099868774414, -5.200399875640869, -5.295100212097168, -5.334499835968018, -5.356100082397461, -5.363399982452393, -5.565299987792969, -5.645899772644043, -5.679599761962891, -5.756999969482422, -5.8024001121521, -5.809999942779541, -5.941299915313721, -5.958399772644043, -5.990300178527832, -5.99429988861084, -6.014999866485596, -6.019700050354004, -6.084000110626221, -6.104400157928467, -6.184299945831299, -6.221099853515625, -6.221199989318848, -6.2322998046875, -6.265399932861328, -6.270599842071533, -6.278500080108643, -6.287700176239014, -5.46120023727417, -4.8354997634887695, -5.447500228881836, -5.5295000076293945, -5.720300197601318, -5.998199939727783, -5.368899822235107, -5.5346999168396, -5.425899982452393, -4.981900215148926, -5.232999801635742, -5.542699813842773, -5.880799770355225, -5.793099880218506, -5.646399974822998, -5.7281999588012695, -5.80620002746582, -5.864099979400635, -4.76140022277832, -5.032800197601318, -5.101200103759766, -5.253399848937988, -5.304999828338623, -5.3282999992370605, -5.399700164794922, -5.452700138092041, -5.457900047302246, -5.51230001449585, -5.519999980926514, -5.577899932861328, -5.607800006866455, -5.644800186157227, -5.6570000648498535, -5.683300018310547, -5.707799911499023, -5.81820011138916, -5.867499828338623, -5.902699947357178, -5.912700176239014, -5.918600082397461, -6.006400108337402, -6.014500141143799, -6.0346999168396, -6.042200088500977, -6.055200099945068, -6.057499885559082, -6.066500186920166, -6.095300197601318, -5.379799842834473, -5.247600078582764, -5.139800071716309, -4.170599937438965, -5.3531999588012695, -5.246500015258789, -5.882500171661377, -5.072199821472168, -5.884500026702881, -4.078800201416016, -4.999899864196777, -5.395699977874756, -5.525400161743164, -5.630300045013428, -5.690199851989746, -5.690199851989746, -5.690199851989746, -5.835299968719482, -5.84119987487793, -5.8694000244140625, -5.87470006942749, -5.937300205230713, -5.9430999755859375, -5.9980998039245605, -6.0065999031066895, -6.035299777984619, -6.056099891662598, -6.061200141906738, -6.06790018081665, -6.085599899291992, -6.0960001945495605, -6.099299907684326, -6.122300148010254, -6.130499839782715, -6.166900157928467, -6.174699783325195, -6.17710018157959, -6.185400009155273, -6.210899829864502, -5.581399917602539, -4.237599849700928, -5.7754998207092285, -5.815299987792969, -5.416200160980225, -5.292500019073486, -5.79040002822876, -5.440999984741211, -5.917500019073486, -5.254499912261963, -5.5802001953125, -5.241000175476074, -5.64139986038208, -5.761899948120117, -5.831600189208984, -5.849800109863281, -5.739999771118164, -5.854899883270264, -5.823400020599365, -4.003399848937988, -4.676499843597412, -4.857399940490723, -5.218699932098389, -5.303800106048584, -5.355299949645996, -5.372300148010254, -5.395599842071533, -5.41480016708374, -5.446199893951416, -5.553699970245361, -5.642199993133545, -5.6717000007629395, -5.7153000831604, -5.934599876403809, -5.9369001388549805, -5.961599826812744, -6.000899791717529, -6.020400047302246, -6.024799823760986, -6.032599925994873, -6.049200057983398, -6.0594000816345215, -6.09499979019165, -6.09499979019165, -6.09499979019165, -6.09499979019165, -6.09499979019165, -6.09499979019165, -6.09499979019165, -6.09499979019165, -6.09499979019165, -6.09499979019165, -6.09499979019165, -6.09499979019165, -6.09499979019165, -6.09499979019165, -6.003499984741211, -5.26669979095459, -5.807700157165527, -5.569799900054932, -5.200200080871582, -5.712399959564209, -5.6992998123168945, -5.782400131225586, -5.590099811553955, -5.498799800872803, -5.541200160980225, -5.937699794769287, -4.221199989318848, -4.282899856567383, -4.440100193023682, -4.520500183105469, -4.662700176239014, -5.282700061798096, -5.308800220489502, -5.327600002288818, -5.354300022125244, -5.52269983291626, -5.5441999435424805, -5.545599937438965, -5.673699855804443, -5.686200141906738, -5.7245001792907715, -5.762499809265137, -5.821199893951416, -5.821400165557861, -5.835599899291992, -5.930799961090088, -5.946400165557861, -6.02400016784668, -6.040599822998047, -6.040599822998047, -6.040599822998047, -6.040599822998047, -6.040599822998047, -6.040599822998047, -6.040599822998047, -6.040599822998047, -6.040599822998047, -6.040599822998047, -6.040599822998047, -5.601900100708008, -6.040599822998047, -6.040599822998047, -3.6052000522613525, -3.578200101852417, -4.0381999015808105, -5.57450008392334, -5.797500133514404, -5.7133002281188965, -5.719299793243408, -5.866300106048584, -3.203000068664551, -4.747200012207031, -4.809999942779541, -4.952199935913086, -5.104400157928467, -5.52269983291626, -5.604000091552734, -5.660399913787842, -5.663700103759766, -5.728799819946289, -5.786499977111816, -5.798999786376953, -5.811800003051758, -5.845900058746338, -5.863699913024902, -5.863900184631348, -5.895299911499023, -5.895299911499023, -5.916900157928467, -5.94189977645874, -5.94189977645874, -5.94189977645874, -5.94189977645874, -5.94189977645874, -5.94189977645874, -5.241399765014648, -6.026199817657471, -6.026199817657471, -6.0279998779296875, -6.039400100708008, -4.594900131225586, -4.9496002197265625, -4.986299991607666, -5.168600082397461, -5.763999938964844, -5.728700160980225, -5.820300102233887, -5.918700218200684]}, \"token.table\": {\"Topic\": [9, 8, 2, 1, 2, 9, 6, 10, 1, 2, 1, 7, 4, 2, 10, 2, 8, 1, 8, 7, 6, 7, 4, 6, 7, 8, 10, 4, 4, 4, 1, 3, 6, 3, 1, 10, 8, 5, 3, 7, 9, 9, 3, 1, 2, 5, 6, 5, 7, 1, 2, 3, 1, 1, 4, 7, 7, 10, 5, 2, 4, 5, 7, 9, 9, 4, 9, 7, 9, 8, 4, 8, 7, 8, 5, 4, 6, 10, 1, 7, 5, 1, 3, 4, 6, 4, 6, 3, 5, 6, 8, 8, 8, 2, 2, 6, 1, 8, 1, 4, 6, 6, 6, 7, 7, 9, 10, 3, 1, 4, 9, 2, 7, 3, 8, 1, 5, 9, 5, 2, 7, 9, 6, 8, 8, 8, 1, 2, 3, 9, 2, 4, 6, 3, 8, 7, 3, 5, 2, 9, 8, 4, 1, 7, 2, 9, 9, 4, 9, 4, 6, 8, 10, 9, 1, 3, 5, 6, 2, 5, 1, 4, 6, 5, 8, 1, 1, 1, 1, 10, 7, 7, 8, 8, 8, 9, 6, 5, 2, 10, 6, 3, 5, 1, 4, 5, 8, 9, 1, 3, 1, 3, 3, 5, 2, 5, 2, 3, 5, 4, 8, 5, 4, 6, 6, 2, 7, 8, 9, 5, 4, 1, 1, 2, 1, 10, 6, 1, 7, 7, 3, 1, 4, 5, 1, 4, 1, 4, 6, 1, 3, 2, 4, 7, 3, 4, 5, 7, 2, 10, 1, 2, 3, 3, 10, 5, 5, 1, 2, 2, 7, 1, 2, 1, 7, 7, 3, 8, 10, 7, 4, 2, 4, 7, 7, 3, 5, 7, 8, 3, 4, 9, 2, 1, 7, 3, 2, 4, 8, 9, 9, 2, 5, 6, 9, 9, 2, 3, 4, 2, 7, 10, 9, 2, 8, 10, 8, 8, 8, 4, 6, 8, 10, 10, 2, 2, 10, 6, 2, 3, 5, 3, 8, 7, 6, 1, 1, 2, 2, 4, 10, 1, 2, 3, 2, 7, 9, 1, 3, 5, 7, 1, 3, 1, 4, 1, 5, 6, 9, 1, 3, 1, 8, 9, 4, 1, 2, 7, 5, 4, 5, 1, 6, 3, 6, 7, 1, 9, 2, 9, 1, 9, 9, 6, 7, 6, 9, 4, 9, 3, 1, 2, 3, 4, 3, 4, 5, 7, 8, 10, 3, 4, 1, 2, 3, 1, 8, 10, 3, 6, 10, 8, 3, 5, 5, 1, 3, 5, 2, 2, 1, 2, 3, 4, 3, 9, 3, 7, 6, 3, 9, 5, 7, 2, 4, 10, 1, 3, 2, 10, 10, 4, 2, 7, 9, 3, 2, 3, 4, 3, 1, 2, 6, 10, 10, 10, 3, 7, 8, 3, 1, 2, 1, 2, 8, 1, 2, 5, 1, 2, 1, 7, 4, 3, 10, 7, 7, 10, 10, 4, 8, 8, 1, 9, 10, 6, 1, 1, 2, 5, 6, 8, 1, 5, 1, 2, 2, 10, 1, 2, 4, 5, 2, 4, 2, 1, 4, 6, 5, 8, 1, 3, 6, 7, 1, 2, 1, 2, 5, 3, 6, 6, 5, 6, 3, 9, 3, 5, 10, 2, 9, 3, 3, 6, 5, 2, 7, 1, 5, 6, 2, 8, 5, 1, 4, 9, 10, 5, 7, 4, 4, 6, 6, 10, 2, 7, 3, 4, 5, 3, 1, 4, 5, 6, 3, 5, 5, 10, 1, 3, 6, 5, 8, 9, 1, 5, 6, 7, 4, 5, 9, 2, 1, 2, 7, 9, 1, 9, 1, 7, 5, 6, 9, 1, 3, 1, 2, 5, 5, 8, 5, 10, 4, 4, 2, 7, 1, 1, 7, 8, 6, 8, 2, 7, 1, 3, 10, 2, 4, 2, 3, 7, 10, 8, 10, 2, 1, 2, 6, 3, 4, 4, 3, 9, 10, 4, 8, 1, 4, 8, 6, 7, 4, 5, 5, 1, 10, 1, 3, 6, 1, 8, 8, 7, 3, 6, 7, 1, 2, 6, 8], \"Freq\": [0.9275548458099365, 0.9789294600486755, 0.9715369939804077, 0.9980606436729431, 0.9176872372627258, 0.9275548458099365, 0.9548776745796204, 0.841977059841156, 0.9946494698524475, 0.00461911503225565, 0.9978879690170288, 0.8668826818466187, 0.9275662302970886, 0.44057679176330566, 0.5140062570571899, 0.9603092074394226, 0.9595479965209961, 0.9993604421615601, 0.994441032409668, 0.9400113821029663, 0.5422646999359131, 0.4338117837905884, 0.340598464012146, 0.09731385111808777, 0.340598464012146, 0.12164231389760971, 0.07298538833856583, 0.9581497311592102, 0.9135452508926392, 0.9858483672142029, 0.9795016646385193, 0.018097028136253357, 0.908754289150238, 0.9295743107795715, 0.9994729161262512, 0.9418003559112549, 0.953114926815033, 0.9881168007850647, 0.23817408084869385, 0.1587827205657959, 0.5557395219802856, 0.9140077829360962, 0.9339444637298584, 0.630346953868866, 0.030016520991921425, 0.21011564135551453, 0.13507434725761414, 0.6360376477241516, 0.3331625759601593, 0.9571437239646912, 0.002010806230828166, 0.040216121822595596, 0.9977285265922546, 0.5283023118972778, 0.0990566834807396, 0.3632078468799591, 0.496631920337677, 0.434552937746048, 0.9837794303894043, 0.10161831229925156, 0.48268699645996094, 0.15242746472358704, 0.2540457844734192, 0.9610297679901123, 0.8982735276222229, 0.9657751321792603, 0.9275548458099365, 0.9514190554618835, 0.9275548458099365, 0.9257041811943054, 0.4071756601333618, 0.5816795229911804, 0.9444664120674133, 0.9227951169013977, 0.9829760789871216, 0.18982365727424622, 0.09491182863712311, 0.6960200667381287, 0.48591408133506775, 0.513947606086731, 0.9178791642189026, 0.34953638911247253, 0.012945791706442833, 0.21360556781291962, 0.42073825001716614, 0.4904225766658783, 0.4904225766658783, 0.9891016483306885, 0.9608933329582214, 0.9106703996658325, 0.8981972336769104, 0.9772445559501648, 0.909355878829956, 0.9747697710990906, 0.9758431315422058, 0.9021592736244202, 0.8728121519088745, 0.12468744814395905, 0.6915044784545898, 0.3017474114894867, 0.004190936218947172, 0.9300317764282227, 0.9480334520339966, 0.9406203031539917, 0.9643251895904541, 0.9275548458099365, 0.8800197243690491, 0.9594542980194092, 0.8388399481773376, 0.04839461296796799, 0.11292076110839844, 0.9513148665428162, 0.8948399424552917, 0.17088772356510162, 0.7689947485923767, 0.9994378089904785, 0.8261300325393677, 0.07510273158550262, 0.9421303272247314, 0.16377314925193787, 0.7642746567726135, 0.8529657125473022, 0.31975534558296204, 0.6395106911659241, 0.953114926815033, 0.9426875114440918, 0.520420253276825, 0.11564894020557404, 0.212023064494133, 0.15419858694076538, 0.2922389507293701, 0.7013734579086304, 0.9699018597602844, 0.7329683303833008, 0.2443227767944336, 0.9406075477600098, 0.9706153869628906, 0.9636684656143188, 0.9696188569068909, 0.907529354095459, 0.953114926815033, 0.9246810078620911, 0.9693357944488525, 0.0287404153496027, 0.9579777717590332, 0.9275548458099365, 0.9275548458099365, 0.8344045877456665, 0.16046242415905, 0.9057727456092834, 0.9328687191009521, 0.0754787027835846, 0.9057444334030151, 0.9275548458099365, 0.19782014191150665, 0.24727517366409302, 0.4450953006744385, 0.09891007095575333, 0.7280453443527222, 0.24268178641796112, 0.2585771977901459, 0.10343087464570999, 0.6464429497718811, 0.8871297836303711, 0.8752771019935608, 0.997492790222168, 0.9973734617233276, 0.9976968765258789, 0.23356954753398895, 0.7007086277008057, 0.9503899216651917, 0.9354588389396667, 0.9233606457710266, 0.953114926815033, 0.3796709179878235, 0.5695064067840576, 0.9345902800559998, 0.9178762435913086, 0.9469549655914307, 0.8554030656814575, 0.9281371235847473, 0.9319903254508972, 0.9078122973442078, 0.07439685612916946, 0.892762303352356, 0.25850963592529297, 0.553949236869812, 0.1846497356891632, 0.9827357530593872, 0.016576265916228294, 0.864499568939209, 0.1316787451505661, 0.7638759016990662, 0.2107243835926056, 0.9514943361282349, 0.9229500889778137, 0.957899272441864, 0.5981353521347046, 0.39875689148902893, 0.9022665619850159, 0.9627165794372559, 0.9149706363677979, 0.975804328918457, 0.9747171998023987, 0.9889047145843506, 0.47231724858283997, 0.1848197877407074, 0.3285685181617737, 0.9275548458099365, 0.9574063420295715, 0.9176673293113708, 0.996964156627655, 0.6288898587226868, 0.3691309988498688, 0.3054722547531128, 0.698222279548645, 0.9560444951057434, 0.9985247254371643, 0.0008398020872846246, 0.9660323262214661, 0.9829872846603394, 0.7008334994316101, 0.2712903916835785, 0.022607533261179924, 0.7569103837013245, 0.2365344911813736, 0.4969603419303894, 0.4066039025783539, 0.06776731461286545, 0.8603347539901733, 0.13765355944633484, 0.20744264125823975, 0.5531803965568542, 0.24201640486717224, 0.4883403480052948, 0.2563786804676056, 0.09766806662082672, 0.14650210738182068, 0.9802693128585815, 0.9172114729881287, 0.9740111827850342, 0.017250878736376762, 0.009288934990763664, 0.454835444688797, 0.5306413769721985, 0.9485678672790527, 0.9043708443641663, 0.9870595335960388, 0.009920195676386356, 0.7280728220939636, 0.25324273109436035, 0.9982023239135742, 0.0009132683626376092, 0.9976515769958496, 0.9906179308891296, 0.8695142269134521, 0.26702311635017395, 0.5340462327003479, 0.1602138727903366, 0.9811760783195496, 0.9753445386886597, 0.2415115386247635, 0.7513692378997803, 0.9632049798965454, 0.9354116320610046, 0.400886207818985, 0.09544909745454788, 0.24816764891147614, 0.22907783091068268, 0.47097355127334595, 0.2943584620952606, 0.23548677563667297, 0.9530127644538879, 0.8801010847091675, 0.11813437193632126, 0.9719946980476379, 0.5356538891792297, 0.446378231048584, 0.953114926815033, 0.8889408707618713, 0.8889832496643066, 0.11934616416692734, 0.5967308282852173, 0.11934616416692734, 0.14918270707130432, 0.9632138013839722, 0.2365952730178833, 0.6703532934188843, 0.07886509597301483, 0.9711062908172607, 0.93392014503479, 0.9172114729881287, 0.9275548458099365, 0.3023117482662201, 0.5441611409187317, 0.1209246963262558, 0.8339847922325134, 0.953114926815033, 0.953114926815033, 0.9296374917030334, 0.07746978849172592, 0.9008952379226685, 0.9784862995147705, 0.9312273859977722, 0.9790740013122559, 0.9150433540344238, 0.07176810503005981, 0.9607211947441101, 0.07700449973344803, 0.4427758455276489, 0.462026983499527, 0.9632225036621094, 0.9417062401771545, 0.9658141732215881, 0.9690319299697876, 0.9989042282104492, 0.9980441927909851, 0.9368197321891785, 0.9429275393486023, 0.9611744284629822, 0.8246284127235413, 0.9924735426902771, 0.004247390665113926, 0.002831593621522188, 0.35861650109291077, 0.6096480488777161, 0.9800225496292114, 0.519797682762146, 0.4078412652015686, 0.007996887899935246, 0.06397510319948196, 0.9948680400848389, 0.0037471489049494267, 0.07787849009037018, 0.9172355532646179, 0.7885513305664062, 0.20393569767475128, 0.9634897112846375, 0.9656241536140442, 0.9954699873924255, 0.9681095480918884, 0.9984807372093201, 0.09908784180879593, 0.8917905688285828, 0.9189143180847168, 0.9269875884056091, 0.05757686868309975, 0.01151537336409092, 0.9867740869522095, 0.9911156892776489, 0.9274721741676331, 0.9993202686309814, 0.947953462600708, 0.9788331389427185, 0.2989233732223511, 0.7174161076545715, 0.4347566068172455, 0.560167133808136, 0.39376118779182434, 0.5906417369842529, 0.9973926544189453, 0.9275548458099365, 0.9654505252838135, 0.8168284893035889, 0.13613808155059814, 0.964102566242218, 0.9649282693862915, 0.9753429293632507, 0.8876619338989258, 0.9737980365753174, 0.9816122651100159, 0.007653896696865559, 0.009567370638251305, 0.9773716926574707, 0.3313402831554413, 0.18933729827404022, 0.18933729827404022, 0.28400593996047974, 0.9651136994361877, 0.9410246014595032, 0.9804344773292542, 0.9678615927696228, 0.9798623323440552, 0.001438857987523079, 0.017266295850276947, 0.9974079728126526, 0.953114926815033, 0.9605917930603027, 0.12412325292825699, 0.20687207579612732, 0.6206162571907043, 0.9531145095825195, 0.9592752456665039, 0.9485800266265869, 0.9877563118934631, 0.8136885762214661, 0.11042916029691696, 0.06974473595619202, 0.9317123889923096, 0.9694758057594299, 0.9938077330589294, 0.0028585074469447136, 0.0028585074469447136, 0.9482796788215637, 0.9304143190383911, 0.900658905506134, 0.9564512968063354, 0.025169771164655685, 0.9107443690299988, 0.9526163339614868, 0.9699516296386719, 0.8676701188087463, 0.8880569338798523, 0.9644436240196228, 0.970539927482605, 0.8234315514564514, 0.9937579035758972, 0.004537707194685936, 0.9641265273094177, 0.026057474315166473, 0.8969476222991943, 0.9691157937049866, 0.9800174236297607, 0.9643239378929138, 0.9485733509063721, 0.9868085980415344, 0.9836568236351013, 0.9764991998672485, 0.9650130867958069, 0.9945715665817261, 0.9994319677352905, 0.8877456188201904, 0.08070414513349533, 0.8330076932907104, 0.9490720629692078, 0.9172114729881287, 0.9917306303977966, 0.9643224477767944, 0.9436918497085571, 0.9401980042457581, 0.9916754961013794, 0.005164976231753826, 0.2942074239253998, 0.7060978412628174, 0.953114926815033, 0.4647851288318634, 0.10623660683631897, 0.4116668403148651, 0.9948967695236206, 0.002961002290248871, 0.14023050665855408, 0.7712677717208862, 0.9524990320205688, 0.933095395565033, 0.951948881149292, 0.9556587338447571, 0.9220391511917114, 0.8839073181152344, 0.9942150712013245, 0.4221934676170349, 0.5160142183303833, 0.953114926815033, 0.997699499130249, 0.8410215973854065, 0.9172114729881287, 0.9460313320159912, 0.9992396235466003, 0.9964525699615479, 0.9649867415428162, 0.8318693041801453, 0.1663738638162613, 0.9622513055801392, 0.196764275431633, 0.787057101726532, 0.5773499011993408, 0.4075411260128021, 0.9441627264022827, 0.9014782905578613, 0.25276821851730347, 0.1474481225013733, 0.568728506565094, 0.021064018830657005, 0.3773705065250397, 0.5832089185714722, 0.9727605581283569, 0.6307258605957031, 0.35902854800224304, 0.9157185554504395, 0.8976392149925232, 0.9751847982406616, 0.6303723454475403, 0.26115426421165466, 0.10806383192539215, 0.89085453748703, 0.22218036651611328, 0.7406011819839478, 0.8137598633766174, 0.07978037744760513, 0.10371449589729309, 0.9767102003097534, 0.9825392365455627, 0.9732517600059509, 0.9706062078475952, 0.966711163520813, 0.9635335803031921, 0.9302495121955872, 0.989698588848114, 0.8892053365707397, 0.04680028185248375, 0.9318466782569885, 0.9255146980285645, 0.9965783357620239, 0.8854443430900574, 0.08432803303003311, 0.979655385017395, 0.907099187374115, 0.07559160143136978, 0.30571603775024414, 0.6878610849380493, 0.952078640460968, 0.9610921740531921, 0.9145674705505371, 0.9296607375144958, 0.45626288652420044, 0.14408302307128906, 0.07204151153564453, 0.31217989325523376, 0.7384927868843079, 0.2272285521030426, 0.9645702838897705, 0.9665620923042297, 0.8837757110595703, 0.9038634300231934, 0.9526224136352539, 0.4554044306278229, 0.5407927632331848, 0.4286738336086273, 0.4946236312389374, 0.032974909991025925, 0.9334133267402649, 0.5621218085289001, 0.12179305404424667, 0.07494957000017166, 0.24358610808849335, 0.11103249341249466, 0.8327437043190002, 0.9663621187210083, 0.8800210356712341, 0.9498187303543091, 0.021657103672623634, 0.027844848111271858, 0.9724647998809814, 0.9615744948387146, 0.8879600167274475, 0.8033527135848999, 0.19184543192386627, 0.9619309306144714, 0.9404268860816956, 0.9344158172607422, 0.9642075300216675, 0.9275548458099365, 0.9982191324234009, 0.9720330238342285, 0.005355554167181253, 0.024099992588162422, 0.9714518189430237, 0.16419780254364014, 0.8209890723228455, 0.9991864562034607, 0.8978867530822754, 0.30684444308280945, 0.6750578284263611, 0.8865845203399658, 0.7680746912956238, 0.22927601635456085, 0.6276247501373291, 0.3530389368534088, 0.9562872648239136, 0.8150975108146667, 0.13584958016872406, 0.967856764793396, 0.9545707106590271, 0.9207155704498291, 0.8951317071914673, 0.2147214412689209, 0.7157381772994995, 0.9989187121391296, 0.9959867000579834, 0.9521835446357727, 0.953114926815033, 0.7072506546974182, 0.26056602597236633, 0.9485125541687012, 0.9704838395118713, 0.9950025677680969, 0.004877463448792696, 0.8234315514564514, 0.9685874581336975, 0.932846188545227, 0.2681683599948883, 0.3352104425430298, 0.36873146891593933, 0.9188974499702454, 0.890968918800354, 0.9172114729881287, 0.9510518908500671, 0.28917691111564636, 0.6024519205093384, 0.09639230370521545, 0.32954931259155273, 0.6590986251831055, 0.8992955684661865, 0.9797036647796631, 0.9275548458099365, 0.9172114729881287, 0.9052661061286926, 0.9531145095825195, 0.21217985451221466, 0.7426295280456543, 0.9531145095825195, 0.9618794322013855, 0.9318150281906128, 0.6567662954330444, 0.3064909279346466, 0.9256677031517029, 0.9966581463813782, 0.8554437160491943, 0.9964425563812256, 0.0025747870095074177, 0.9648321270942688, 0.9964168667793274, 0.8943597674369812, 0.9711772203445435, 0.9252435564994812, 0.9435943365097046, 0.20067955553531647, 0.8027182221412659, 0.998538613319397, 0.4412369430065155, 0.24819578230381012, 0.30335038900375366], \"Term\": [\"abbreviation\", \"abc\", \"according\", \"actually\", \"advice\", \"africa\", \"aged\", \"aldea\", \"also\", \"also\", \"always\", \"amateur\", \"amazingly\", \"america\", \"america\", \"appealing\", \"arepas\", \"around\", \"artichoke\", \"asshole\", \"authentic\", \"authentic\", \"avenue\", \"avenue\", \"avenue\", \"avenue\", \"avenue\", \"awarded\", \"awful\", \"awkward\", \"back\", \"back\", \"balance\", \"bandwagon\", \"bar\", \"barns\", \"bask\", \"bbq\", \"beach\", \"beach\", \"beach\", \"beat\", \"became\", \"beef\", \"beef\", \"beef\", \"beef\", \"beers\", \"beers\", \"best\", \"best\", \"best\", \"better\", \"bistro\", \"bistro\", \"bistro\", \"blind\", \"blind\", \"blt\", \"blue\", \"blue\", \"blue\", \"blue\", \"bobo\", \"bohemian\", \"bone\", \"bongo\", \"bourbon\", \"bourgeois\", \"box\", \"brasserie\", \"brasserie\", \"breslin\", \"brighter\", \"brisket\", \"broth\", \"broth\", \"broth\", \"brunch\", \"brunch\", \"buddy\", \"burger\", \"burger\", \"burger\", \"burger\", \"burgers\", \"burgers\", \"bus\", \"calamari\", \"canal\", \"candle\", \"caracas\", \"careful\", \"carte\", \"celebrity\", \"changes\", \"cheap\", \"cheap\", \"chicken\", \"chicken\", \"chicken\", \"chopped\", \"chops\", \"chronic\", \"clay\", \"clears\", \"clever\", \"clientele\", \"club\", \"club\", \"club\", \"cod\", \"colors\", \"combinations\", \"combinations\", \"come\", \"compared\", \"compared\", \"complaining\", \"complete\", \"complete\", \"confusion\", \"consistent\", \"consistent\", \"continuously\", \"control\", \"counter\", \"counter\", \"counter\", \"counter\", \"crazy\", \"crazy\", \"crispo\", \"cuisine\", \"cuisine\", \"cultures\", \"cured\", \"death\", \"decor\", \"deli\", \"deliberately\", \"dim\", \"dinner\", \"dinner\", \"dollar\", \"donate\", \"donation\", \"double\", \"double\", \"downright\", \"dressing\", \"dropped\", \"dropped\", \"drums\", \"dry\", \"dry\", \"dry\", \"dry\", \"dudes\", \"dudes\", \"dumplings\", \"dumplings\", \"dumplings\", \"dylan\", \"ease\", \"east\", \"eat\", \"eating\", \"efforts\", \"efforts\", \"elephant\", \"embrace\", \"emily\", \"enabling\", \"enchiladas\", \"enchiladas\", \"encourage\", \"ensure\", \"enthusiasts\", \"entryway\", \"epitome\", \"era\", \"esquina\", \"essex\", \"essex\", \"establishments\", \"establishments\", \"establishments\", \"even\", \"even\", \"ever\", \"ever\", \"expected\", \"expected\", \"experiences\", \"expert\", \"exposed\", \"eye\", \"eye\", \"faces\", \"fajitas\", \"falling\", \"falls\", \"fanelli\", \"fans\", \"fast\", \"fast\", \"fast\", \"fateful\", \"feast\", \"filet\", \"find\", \"fish\", \"fish\", \"flex\", \"flex\", \"flock\", \"food\", \"food\", \"fort\", \"forty\", \"french\", \"french\", \"french\", \"fried\", \"fried\", \"fries\", \"fries\", \"fries\", \"front\", \"front\", \"fully\", \"fully\", \"fully\", \"game\", \"game\", \"game\", \"game\", \"gari\", \"geisha\", \"get\", \"get\", \"get\", \"gives\", \"gives\", \"glad\", \"glory\", \"going\", \"going\", \"gon\", \"gon\", \"good\", \"good\", \"great\", \"greek\", \"grew\", \"happily\", \"happily\", \"happily\", \"harlem\", \"hat\", \"hate\", \"hate\", \"heather\", \"heaven\", \"hell\", \"hell\", \"hell\", \"hell\", \"highly\", \"highly\", \"highly\", \"hipster\", \"hit\", \"hit\", \"honest\", \"honestly\", \"honestly\", \"hopped\", \"horse\", \"housewives\", \"hungry\", \"hungry\", \"hungry\", \"hungry\", \"hurting\", \"hype\", \"hype\", \"hype\", \"immaculate\", \"impression\", \"inc.\", \"inconsolably\", \"indeed\", \"indeed\", \"indeed\", \"indian\", \"infuriating\", \"injury\", \"inn\", \"inn\", \"insult\", \"ippudo\", \"ivan\", \"japan\", \"japanese\", \"japanese\", \"joe\", \"joint\", \"joint\", \"joint\", \"joints\", \"joke\", \"keith\", \"kept\", \"kind\", \"know\", \"kosher\", \"lastly\", \"lebanese\", \"lemon\", \"like\", \"like\", \"like\", \"liked\", \"liked\", \"lindo\", \"line\", \"line\", \"line\", \"line\", \"little\", \"little\", \"lobster\", \"lobster\", \"local\", \"local\", \"locals\", \"los\", \"love\", \"mag\", \"make\", \"margarita\", \"margarita\", \"mary\", \"meal\", \"meal\", \"meal\", \"meatball\", \"meatpacking\", \"mecca\", \"menu\", \"mermaid\", \"mess\", \"met\", \"met\", \"mexican\", \"mexican\", \"midtown\", \"midtown\", \"might\", \"mingle\", \"mission\", \"mistake\", \"mistake\", \"models\", \"mole\", \"monkey\", \"moves\", \"mozzarella\", \"much\", \"much\", \"much\", \"mussels\", \"must\", \"must\", \"must\", \"must\", \"napkin\", \"nation\", \"neapolitan\", \"necessary\", \"new\", \"new\", \"new\", \"night\", \"non-recession\", \"noodle\", \"noodles\", \"noodles\", \"noodles\", \"not-rushed\", \"noting\", \"novita\", \"nowhere\", \"nyc\", \"nyc\", \"nyc\", \"obsessed\", \"omakase\", \"one\", \"one\", \"one\", \"onion\", \"online\", \"otto\", \"oven\", \"oven\", \"overcooked\", \"overrated\", \"paella\", \"painfully\", \"painted\", \"pan\", \"paradou\", \"parson\", \"people\", \"people\", \"per\", \"per\", \"perry\", \"peter\", \"photo\", \"pianos\", \"pickles\", \"pie\", \"pieces\", \"pies\", \"pink\", \"pizza\", \"place\", \"planet\", \"planet\", \"plastic\", \"plentiful\", \"polishing\", \"porchetta\", \"portuguese\", \"posto\", \"praise\", \"pretty\", \"pretty\", \"price\", \"price\", \"pricing\", \"prime\", \"prime\", \"prime\", \"probably\", \"probably\", \"promise\", \"promise\", \"pub\", \"pulled\", \"pushed\", \"pylos\", \"quirky\", \"rai\", \"ramen\", \"rate\", \"rate\", \"rates\", \"really\", \"recommendation\", \"regions\", \"remembered\", \"restaurant\", \"restaurants\", \"reviews\", \"rib\", \"rib\", \"ribbon\", \"ribs\", \"ribs\", \"rice\", \"rice\", \"ridiculously\", \"rightfully\", \"roll\", \"roll\", \"roll\", \"roll\", \"rolls\", \"rolls\", \"sake\", \"salad\", \"salad\", \"sale\", \"salon\", \"salsa\", \"sandwich\", \"sandwich\", \"sandwich\", \"scoop\", \"sea\", \"sea\", \"served\", \"served\", \"served\", \"sfoglia\", \"shack\", \"shake\", \"shoulder\", \"sidewalk\", \"signature\", \"singing\", \"site\", \"situated\", \"situated\", \"skin\", \"sleep\", \"slice\", \"slices\", \"slices\", \"slop\", \"slow\", \"slow\", \"smoked\", \"smoked\", \"soba\", \"socarrat\", \"sons\", \"sophisticated\", \"soup\", \"soup\", \"soup\", \"soup\", \"speaking\", \"speaking\", \"specialize\", \"specials\", \"spinach\", \"sprawling\", \"spruce\", \"standard\", \"standard\", \"standards\", \"standards\", \"standards\", \"stars\", \"steak\", \"steak\", \"steak\", \"steak\", \"steakhouse\", \"steakhouse\", \"steaks\", \"steamy\", \"still\", \"still\", \"still\", \"strike\", \"stumbled\", \"stupid\", \"style\", \"style\", \"suggested\", \"suggestion\", \"sum\", \"supposed\", \"surcharge\", \"sushi\", \"table\", \"table\", \"table\", \"taco\", \"tacos\", \"tacos\", \"take\", \"tall\", \"tap\", \"tap\", \"taqueria\", \"taste\", \"taste\", \"tasting\", \"tasting\", \"teen\", \"texas\", \"texas\", \"tgi\", \"thai\", \"thank\", \"thankfully\", \"theme\", \"theme\", \"things\", \"think\", \"thirty\", \"three-fold\", \"thursday\", \"thursday\", \"tier\", \"tiger\", \"time\", \"time\", \"tipsy\", \"toro\", \"tortilla\", \"totally\", \"totally\", \"totally\", \"totto\", \"trattoria\", \"treatments\", \"truffle\", \"tuna\", \"tuna\", \"tuna\", \"understand\", \"understand\", \"unfinished\", \"universal\", \"unsatisfying\", \"variation\", \"vegas\", \"venezuelan\", \"via\", \"via\", \"vie\", \"vintage\", \"visited\", \"waiters\", \"waiters\", \"walter\", \"want\", \"warranted\", \"way\", \"way\", \"weird\", \"well\", \"well-oiled\", \"westville\", \"wife\", \"wise\", \"worthy\", \"worthy\", \"would\", \"write\", \"write\", \"write\"]}, \"R\": 30, \"lambda.step\": 0.01, \"plot.opts\": {\"xlab\": \"PC1\", \"ylab\": \"PC2\"}, \"topic.order\": [4, 6, 1, 5, 9, 7, 8, 2, 10, 3]};\n",
       "\n",
       "function LDAvis_load_lib(url, callback){\n",
       "  var s = document.createElement('script');\n",
       "  s.src = url;\n",
       "  s.async = true;\n",
       "  s.onreadystatechange = s.onload = callback;\n",
       "  s.onerror = function(){console.warn(\"failed to load library \" + url);};\n",
       "  document.getElementsByTagName(\"head\")[0].appendChild(s);\n",
       "}\n",
       "\n",
       "if(typeof(LDAvis) !== \"undefined\"){\n",
       "   // already loaded: just create the visualization\n",
       "   !function(LDAvis){\n",
       "       new LDAvis(\"#\" + \"ldavis_el3393849195208565813911095\", ldavis_el3393849195208565813911095_data);\n",
       "   }(LDAvis);\n",
       "}else if(typeof define === \"function\" && define.amd){\n",
       "   // require.js is available: use it to load d3/LDAvis\n",
       "   require.config({paths: {d3: \"https://cdnjs.cloudflare.com/ajax/libs/d3/3.5.5/d3.min\"}});\n",
       "   require([\"d3\"], function(d3){\n",
       "      window.d3 = d3;\n",
       "      LDAvis_load_lib(\"https://cdn.rawgit.com/bmabey/pyLDAvis/files/ldavis.v1.0.0.js\", function(){\n",
       "        new LDAvis(\"#\" + \"ldavis_el3393849195208565813911095\", ldavis_el3393849195208565813911095_data);\n",
       "      });\n",
       "    });\n",
       "}else{\n",
       "    // require.js not available: dynamically load d3 & LDAvis\n",
       "    LDAvis_load_lib(\"https://cdnjs.cloudflare.com/ajax/libs/d3/3.5.5/d3.min.js\", function(){\n",
       "         LDAvis_load_lib(\"https://cdn.rawgit.com/bmabey/pyLDAvis/files/ldavis.v1.0.0.js\", function(){\n",
       "                 new LDAvis(\"#\" + \"ldavis_el3393849195208565813911095\", ldavis_el3393849195208565813911095_data);\n",
       "            })\n",
       "         });\n",
       "}\n",
       "</script>"
      ],
      "text/plain": [
       "PreparedData(topic_coordinates=              x         y  topics  cluster       Freq\n",
       "topic                                                \n",
       "3      0.418509 -0.054476       1        1  71.791542\n",
       "5      0.005261 -0.156410       2        1   4.674457\n",
       "0      0.066089  0.287335       3        1   4.622446\n",
       "4     -0.059207 -0.054656       4        1   3.992993\n",
       "8     -0.063654 -0.001612       5        1   3.393425\n",
       "6     -0.065248  0.006093       6        1   3.117555\n",
       "7     -0.059393 -0.016326       7        1   2.801363\n",
       "1     -0.088392  0.003820       8        1   2.178845\n",
       "9     -0.076309 -0.007546       9        1   1.787282\n",
       "2     -0.077656 -0.006222      10        1   1.640092, topic_info=      Category         Freq        Term        Total  loglift  logprob\n",
       "term                                                                  \n",
       "1281   Default   238.000000     chicken   238.000000  30.0000  30.0000\n",
       "128    Default   173.000000       pizza   173.000000  29.0000  29.0000\n",
       "229    Default   219.000000        fish   219.000000  28.0000  28.0000\n",
       "300    Default   161.000000       sushi   161.000000  27.0000  27.0000\n",
       "2358   Default   119.000000     mexican   119.000000  26.0000  26.0000\n",
       "1893   Default   154.000000      burger   154.000000  25.0000  25.0000\n",
       "1308   Default   169.000000         hit   169.000000  24.0000  24.0000\n",
       "900    Default    90.000000       ramen    90.000000  23.0000  23.0000\n",
       "218    Default   382.000000      dinner   382.000000  22.0000  22.0000\n",
       "3263   Default   115.000000     lobster   115.000000  21.0000  21.0000\n",
       "3399   Default   107.000000      brunch   107.000000  20.0000  20.0000\n",
       "638    Default    79.000000       tacos    79.000000  19.0000  19.0000\n",
       "12     Default   497.000000        best   497.000000  18.0000  18.0000\n",
       "246    Default   347.000000        meal   347.000000  17.0000  17.0000\n",
       "279    Default  1117.000000  restaurant  1117.000000  16.0000  16.0000\n",
       "367    Default  1190.000000        food  1190.000000  15.0000  15.0000\n",
       "536    Default   126.000000       fried   126.000000  14.0000  14.0000\n",
       "154    Default    93.000000       slice    93.000000  13.0000  13.0000\n",
       "741    Default   125.000000        line   125.000000  12.0000  12.0000\n",
       "447    Default   373.000000       table   373.000000  11.0000  11.0000\n",
       "54     Default   174.000000        ever   174.000000  10.0000  10.0000\n",
       "129    Default  1015.000000       place  1015.000000   9.0000   9.0000\n",
       "1460   Default   103.000000       salad   103.000000   8.0000   8.0000\n",
       "113    Default   172.000000         nyc   172.000000   7.0000   7.0000\n",
       "78     Default  1094.000000        good  1094.000000   6.0000   6.0000\n",
       "90     Default  1412.000000        like  1412.000000   5.0000   5.0000\n",
       "1097   Default    96.000000       cheap    96.000000   4.0000   4.0000\n",
       "440    Default   323.000000       still   323.000000   3.0000   3.0000\n",
       "4065   Default    71.000000     midtown    71.000000   2.0000   2.0000\n",
       "1112   Default    64.000000       greek    64.000000   1.0000   1.0000\n",
       "...        ...          ...         ...          ...      ...      ...\n",
       "4729   Topic10     7.665613      pushed     8.403812   4.0185  -5.6637\n",
       "10086  Topic10     7.182289         rai     7.919382   4.0127  -5.7288\n",
       "9905   Topic10     6.779871        ivan     7.516961   4.0072  -5.7865\n",
       "7795   Topic10     6.695309       barns     7.432573   4.0060  -5.7990\n",
       "12967  Topic10     6.610323      spruce     7.348137   4.0046  -5.8118\n",
       "14409  Topic10     6.388745       aldea     7.126085   4.0012  -5.8459\n",
       "10630  Topic10     6.275803   warranted     7.013904   3.9992  -5.8637\n",
       "11383  Topic10     6.274656    entryway     7.014237   3.9990  -5.8639\n",
       "8472   Topic10     6.080772      steamy     6.818019   3.9960  -5.8953\n",
       "7684   Topic10     6.080748      clever     6.818029   3.9960  -5.8953\n",
       "12299  Topic10     5.951081       perry     6.689354   3.9935  -5.9169\n",
       "14870  Topic10     5.804172      geisha     6.541567   3.9908  -5.9419\n",
       "14871  Topic10     5.804172        inc.     6.541567   3.9908  -5.9419\n",
       "14872  Topic10     5.804172   polishing     6.541567   3.9908  -5.9419\n",
       "14873  Topic10     5.804172     regions     6.541567   3.9908  -5.9419\n",
       "14874  Topic10     5.804172  treatments     6.541567   3.9908  -5.9419\n",
       "14875  Topic10     5.804172   variation     6.541567   3.9908  -5.9419\n",
       "5609   Topic10    11.693110     dropped    13.248771   3.9855  -5.2414\n",
       "14492  Topic10     5.334524      parson     6.072150   3.9809  -6.0262\n",
       "14495  Topic10     5.334524       tipsy     6.072150   3.9809  -6.0262\n",
       "5450   Topic10     5.325308       lemon     6.063337   3.9806  -6.0280\n",
       "4448   Topic10     5.264738     plastic     6.002346   3.9793  -6.0394\n",
       "1819   Topic10    22.320793       broth    31.608284   3.7625  -4.5949\n",
       "14526  Topic10    15.654944        flex    22.915339   3.7294  -4.9496\n",
       "1626   Topic10    15.091196     noodles    24.169525   3.6394  -4.9863\n",
       "437    Topic10    12.575931        soup    41.642658   2.9131  -5.1686\n",
       "6695   Topic10     6.934064     america    13.618511   3.4354  -5.7640\n",
       "10605  Topic10     7.183079       blind    16.108509   3.3028  -5.7287\n",
       "6393   Topic10     6.554463       gives    13.191584   3.4110  -5.8203\n",
       "3313   Topic10     5.940103     efforts     8.562760   3.7447  -5.9187\n",
       "\n",
       "[488 rows x 6 columns], token_table=       Topic      Freq          Term\n",
       "term                                \n",
       "14892      9  0.927555  abbreviation\n",
       "6130       8  0.978929           abc\n",
       "2814       2  0.971537     according\n",
       "672        1  0.998061      actually\n",
       "1663       2  0.917687        advice\n",
       "14893      9  0.927555        africa\n",
       "2315       6  0.954878          aged\n",
       "14409     10  0.841977         aldea\n",
       "1          1  0.994649          also\n",
       "1          2  0.004619          also\n",
       "2          1  0.997888        always\n",
       "8670       7  0.866883       amateur\n",
       "10723      4  0.927566     amazingly\n",
       "6695       2  0.440577       america\n",
       "6695      10  0.514006       america\n",
       "6297       2  0.960309     appealing\n",
       "12724      8  0.959548        arepas\n",
       "6          1  0.999360        around\n",
       "6866       8  0.994441     artichoke\n",
       "3498       7  0.940011       asshole\n",
       "4936       6  0.542265     authentic\n",
       "4936       7  0.433812     authentic\n",
       "3541       4  0.340598        avenue\n",
       "3541       6  0.097314        avenue\n",
       "3541       7  0.340598        avenue\n",
       "3541       8  0.121642        avenue\n",
       "3541      10  0.072985        avenue\n",
       "8671       4  0.958150       awarded\n",
       "8618       4  0.913545         awful\n",
       "6931       4  0.985848       awkward\n",
       "...      ...       ...           ...\n",
       "5712       4  0.899296    unfinished\n",
       "6128       3  0.979704     universal\n",
       "14905      9  0.927555  unsatisfying\n",
       "14875     10  0.917211     variation\n",
       "12306      4  0.905266         vegas\n",
       "14922      8  0.953115    venezuelan\n",
       "5941       1  0.212180           via\n",
       "5941       4  0.742630           via\n",
       "14923      8  0.953115           vie\n",
       "2875       6  0.961879       vintage\n",
       "3536       7  0.931815       visited\n",
       "5471       4  0.656766       waiters\n",
       "5471       5  0.306491       waiters\n",
       "6994       5  0.925668        walter\n",
       "187        1  0.996658          want\n",
       "10630     10  0.855444     warranted\n",
       "188        1  0.996443           way\n",
       "188        3  0.002575           way\n",
       "5208       6  0.964832         weird\n",
       "189        1  0.996417          well\n",
       "5905       8  0.894360    well-oiled\n",
       "10307      8  0.971177     westville\n",
       "5282       7  0.925244          wife\n",
       "8329       3  0.943594          wise\n",
       "6793       6  0.200680        worthy\n",
       "6793       7  0.802718        worthy\n",
       "194        1  0.998539         would\n",
       "466        2  0.441237         write\n",
       "466        6  0.248196         write\n",
       "466        8  0.303350         write\n",
       "\n",
       "[641 rows x 3 columns], R=30, lambda_step=0.01, plot_opts={'xlab': 'PC1', 'ylab': 'PC2'}, topic_order=[4, 6, 1, 5, 9, 7, 8, 2, 10, 3])"
      ]
     },
     "execution_count": 19,
     "metadata": {},
     "output_type": "execute_result"
    }
   ],
   "source": [
    "# Visualize the topics\n",
    "pyLDAvis.enable_notebook()\n",
    "vis = pyLDAvis.gensim.prepare(lda_model, corpus, dictionary)\n",
    "vis"
   ]
  },
  {
   "cell_type": "markdown",
   "metadata": {},
   "source": [
    "#### It seems like there is a large topic with pretty general words. I will add these to a list of stopwords and remove these in the preprocessing step."
   ]
  },
  {
   "cell_type": "code",
   "execution_count": 20,
   "metadata": {},
   "outputs": [
    {
     "data": {
      "text/plain": [
       "[(90, 0.014497536),\n",
       " (367, 0.012296135),\n",
       " (279, 0.011550464),\n",
       " (78, 0.011302702),\n",
       " (115, 0.01078258),\n",
       " (129, 0.010493399),\n",
       " (73, 0.00758488),\n",
       " (401, 0.007042163),\n",
       " (266, 0.006795499),\n",
       " (1, 0.0066784373)]"
      ]
     },
     "execution_count": 20,
     "metadata": {},
     "output_type": "execute_result"
    }
   ],
   "source": [
    "lda_model.get_topic_terms(3)"
   ]
  },
  {
   "cell_type": "markdown",
   "metadata": {},
   "source": [
    "We can extract the top keywords for each topic easily, using `lda_model.top_topics(corpus)` and reference the index for the topic of interest and then the `[0]` index will give a list of tuples with the first value being the percentage and the second being the actual word."
   ]
  },
  {
   "cell_type": "code",
   "execution_count": 21,
   "metadata": {},
   "outputs": [],
   "source": [
    "def get_new_stopwords(model, idx):\n",
    "    new_stops = []\n",
    "    for i in model.top_topics(corpus)[idx][0]:\n",
    "        new_stops.append(i[1])\n",
    "    return new_stops"
   ]
  },
  {
   "cell_type": "code",
   "execution_count": 22,
   "metadata": {},
   "outputs": [],
   "source": [
    "new_stopwords = get_new_stopwords(lda_model, 0)"
   ]
  },
  {
   "cell_type": "markdown",
   "metadata": {},
   "source": [
    "### Build a second model after adding more stop words"
   ]
  },
  {
   "cell_type": "code",
   "execution_count": 57,
   "metadata": {},
   "outputs": [],
   "source": [
    "stpwrds = stopwords.words('english')"
   ]
  },
  {
   "cell_type": "code",
   "execution_count": 58,
   "metadata": {},
   "outputs": [],
   "source": [
    "stpwrds.extend(new_stopwords)"
   ]
  },
  {
   "cell_type": "code",
   "execution_count": 70,
   "metadata": {},
   "outputs": [],
   "source": [
    "dictionary_2, corpus_2, cleaned_tokens_2 = topic_model_preprocess(text=data, STOPWORDS=stpwrds)"
   ]
  },
  {
   "cell_type": "code",
   "execution_count": 71,
   "metadata": {},
   "outputs": [],
   "source": [
    "# Build the LDA model\n",
    "lda_model_2 = models.LdaModel(corpus=corpus_2, \n",
    "                            num_topics=10, #10 Topics\n",
    "                            id2word=dictionary_2,\n",
    "                            random_state=100,\n",
    "                            update_every=1,\n",
    "                            chunksize=100,\n",
    "                            passes=10,\n",
    "                            alpha='auto',\n",
    "                            per_word_topics=True)"
   ]
  },
  {
   "cell_type": "code",
   "execution_count": 72,
   "metadata": {},
   "outputs": [
    {
     "name": "stdout",
     "output_type": "stream",
     "text": [
      "[(0, '0.015*\"upper\" + 0.008*\"west\" + 0.007*\"side\" + 0.006*\"location\" + 0.005*\"dollar\" + 0.004*\"totto\" + 0.004*\"north\" + 0.004*\"smith\" + 0.004*\"sleep\" + 0.004*\"man\"'), (1, '0.017*\"artichoke\" + 0.009*\"fat\" + 0.006*\"thai\" + 0.006*\"rate\" + 0.006*\"dudes\" + 0.005*\"focused\" + 0.004*\"dropped\" + 0.004*\"real\" + 0.004*\"box\" + 0.004*\"forty\"'), (2, '0.015*\"ramen\" + 0.013*\"infatuation\" + 0.010*\"blue\" + 0.007*\"review\" + 0.006*\"paella\" + 0.006*\"hell\" + 0.005*\"authentic\" + 0.005*\"macao\" + 0.005*\"reasonably\" + 0.005*\"week\"'), (3, '0.022*\"sushi\" + 0.013*\"fish\" + 0.006*\"hour\" + 0.005*\"tuna\" + 0.005*\"japanese\" + 0.005*\"beers\" + 0.005*\"downstairs\" + 0.005*\"establishments\" + 0.004*\"pieces\" + 0.004*\"manhattan\"'), (4, '0.021*\"lobster\" + 0.011*\"roll\" + 0.010*\"fish\" + 0.009*\"madison\" + 0.009*\"oyster\" + 0.008*\"man\" + 0.008*\"clam\" + 0.007*\"mussels\" + 0.007*\"local\" + 0.007*\"bus\"'), (5, '0.023*\"greek\" + 0.017*\"wine\" + 0.010*\"double\" + 0.010*\"pylos\" + 0.009*\"spanish\" + 0.006*\"wines\" + 0.006*\"kept\" + 0.005*\"clay\" + 0.005*\"vinegar\" + 0.004*\"luck\"'), (6, '0.018*\"mexican\" + 0.013*\"tacos\" + 0.006*\"taco\" + 0.006*\"waiter\" + 0.006*\"blt\" + 0.005*\"bobo\" + 0.005*\"mole\" + 0.005*\"club\" + 0.005*\"dirty\" + 0.004*\"chinese\"'), (7, '0.022*\"pizza\" + 0.013*\"slice\" + 0.009*\"park\" + 0.008*\"pie\" + 0.007*\"eleven\" + 0.007*\"hype\" + 0.007*\"review\" + 0.006*\"recent\" + 0.006*\"chef\" + 0.006*\"line\"'), (8, '0.006*\"back\" + 0.006*\"even\" + 0.006*\"eat\" + 0.006*\"going\" + 0.005*\"would\" + 0.005*\"pretty\" + 0.005*\"come\" + 0.005*\"dinner\" + 0.005*\"way\" + 0.005*\"table\"'), (9, '0.015*\"italian\" + 0.007*\"bacaro\" + 0.007*\"cozy\" + 0.006*\"tap\" + 0.005*\"room\" + 0.005*\"crispo\" + 0.005*\"midtown\" + 0.005*\"socarrat\" + 0.004*\"homey\" + 0.004*\"bigger\"')]\n"
     ]
    }
   ],
   "source": [
    "# Print the Keywords for each of the 10 topics\n",
    "print(lda_model_2.print_topics())\n",
    "\n",
    "doc_lda_2 = lda_model_2[corpus_2]"
   ]
  },
  {
   "cell_type": "code",
   "execution_count": 73,
   "metadata": {},
   "outputs": [
    {
     "name": "stdout",
     "output_type": "stream",
     "text": [
      "\n",
      "Perplexity:  -8.605954992816665\n",
      "\n",
      "Coherence Score:  0.38135252529468355\n"
     ]
    }
   ],
   "source": [
    "# Compute Perplexity\n",
    "print('\\nPerplexity: ', lda_model_2.log_perplexity(corpus_2))  # a measure of how good the model is. lower the better.\n",
    "\n",
    "# Compute Coherence Score\n",
    "coherence_model_lda_2 = CoherenceModel(model=lda_model_2, texts=cleaned_tokens_2, dictionary=dictionary_2, coherence='c_v')\n",
    "coherence_lda_2 = coherence_model_lda_2.get_coherence()\n",
    "print('\\nCoherence Score: ', coherence_lda_2)"
   ]
  },
  {
   "cell_type": "code",
   "execution_count": 75,
   "metadata": {
    "scrolled": true
   },
   "outputs": [
    {
     "name": "stderr",
     "output_type": "stream",
     "text": [
      "/Users/edithiyerhernandez/anaconda3/lib/python3.6/site-packages/pyLDAvis/_prepare.py:257: FutureWarning: Sorting because non-concatenation axis is not aligned. A future version\n",
      "of pandas will change to not sort by default.\n",
      "\n",
      "To accept the future behavior, pass 'sort=False'.\n",
      "\n",
      "To retain the current behavior and silence the warning, pass 'sort=True'.\n",
      "\n",
      "  return pd.concat([default_term_info] + list(topic_dfs))\n"
     ]
    },
    {
     "data": {
      "text/html": [
       "\n",
       "<link rel=\"stylesheet\" type=\"text/css\" href=\"https://cdn.rawgit.com/bmabey/pyLDAvis/files/ldavis.v1.0.0.css\">\n",
       "\n",
       "\n",
       "<div id=\"ldavis_el3393851432348644779074244\"></div>\n",
       "<script type=\"text/javascript\">\n",
       "\n",
       "var ldavis_el3393851432348644779074244_data = {\"mdsDat\": {\"x\": [-0.39240844485098647, -0.019678901796265063, -0.020005818074014955, -0.025694791677022266, -0.0297290458244927, 0.09032420998560595, 0.09355424478986818, 0.07802657516052423, 0.12026628732472253, 0.10534568496206058], \"y\": [-0.027771690939577865, 0.11209977869118029, -0.06728454115934489, 0.2562633352623961, -0.18044872565664807, -0.02435901252042691, -0.002665699454930936, -0.02672126523464121, -0.010924429493344255, -0.028187749494661952], \"topics\": [1, 2, 3, 4, 5, 6, 7, 8, 9, 10], \"cluster\": [1, 1, 1, 1, 1, 1, 1, 1, 1, 1], \"Freq\": [60.43952560424805, 6.407736778259277, 6.188736915588379, 5.925544261932373, 5.5749831199646, 3.584660291671753, 3.3584177494049072, 3.321002721786499, 2.9985928535461426, 2.200798988342285]}, \"tinfo\": {\"Category\": [\"Default\", \"Default\", \"Default\", \"Default\", \"Default\", \"Default\", \"Default\", \"Default\", \"Default\", \"Default\", \"Default\", \"Default\", \"Default\", \"Default\", \"Default\", \"Default\", \"Default\", \"Default\", \"Default\", \"Default\", \"Default\", \"Default\", \"Default\", \"Default\", \"Default\", \"Default\", \"Default\", \"Default\", \"Default\", \"Default\", \"Topic1\", \"Topic1\", \"Topic1\", \"Topic1\", \"Topic1\", \"Topic1\", \"Topic1\", \"Topic1\", \"Topic1\", \"Topic1\", \"Topic1\", \"Topic1\", \"Topic1\", \"Topic1\", \"Topic1\", \"Topic1\", \"Topic1\", \"Topic1\", \"Topic1\", \"Topic1\", \"Topic1\", \"Topic1\", \"Topic1\", \"Topic1\", \"Topic1\", \"Topic1\", \"Topic1\", \"Topic1\", \"Topic1\", \"Topic1\", \"Topic1\", \"Topic1\", \"Topic1\", \"Topic1\", \"Topic1\", \"Topic1\", \"Topic1\", \"Topic1\", \"Topic1\", \"Topic1\", \"Topic1\", \"Topic1\", \"Topic1\", \"Topic1\", \"Topic1\", \"Topic1\", \"Topic1\", \"Topic1\", \"Topic1\", \"Topic1\", \"Topic1\", \"Topic1\", \"Topic1\", \"Topic1\", \"Topic1\", \"Topic1\", \"Topic1\", \"Topic1\", \"Topic1\", \"Topic1\", \"Topic2\", \"Topic2\", \"Topic2\", \"Topic2\", \"Topic2\", \"Topic2\", \"Topic2\", \"Topic2\", \"Topic2\", \"Topic2\", \"Topic2\", \"Topic2\", \"Topic2\", \"Topic2\", \"Topic2\", \"Topic2\", \"Topic2\", \"Topic2\", \"Topic2\", \"Topic2\", \"Topic2\", \"Topic2\", \"Topic2\", \"Topic2\", \"Topic2\", \"Topic2\", \"Topic2\", \"Topic2\", \"Topic2\", \"Topic2\", \"Topic2\", \"Topic2\", \"Topic2\", \"Topic2\", \"Topic2\", \"Topic2\", \"Topic2\", \"Topic2\", \"Topic2\", \"Topic2\", \"Topic2\", \"Topic2\", \"Topic2\", \"Topic2\", \"Topic2\", \"Topic2\", \"Topic2\", \"Topic2\", \"Topic2\", \"Topic2\", \"Topic2\", \"Topic2\", \"Topic2\", \"Topic3\", \"Topic3\", \"Topic3\", \"Topic3\", \"Topic3\", \"Topic3\", \"Topic3\", \"Topic3\", \"Topic3\", \"Topic3\", \"Topic3\", \"Topic3\", \"Topic3\", \"Topic3\", \"Topic3\", \"Topic3\", \"Topic3\", \"Topic3\", \"Topic3\", \"Topic3\", \"Topic3\", \"Topic3\", \"Topic3\", \"Topic3\", \"Topic3\", \"Topic3\", \"Topic3\", \"Topic3\", \"Topic3\", \"Topic3\", \"Topic3\", \"Topic3\", \"Topic3\", \"Topic3\", \"Topic3\", \"Topic3\", \"Topic3\", \"Topic3\", \"Topic3\", \"Topic3\", \"Topic3\", \"Topic3\", \"Topic3\", \"Topic3\", \"Topic3\", \"Topic3\", \"Topic3\", \"Topic3\", \"Topic3\", \"Topic4\", \"Topic4\", \"Topic4\", \"Topic4\", \"Topic4\", \"Topic4\", \"Topic4\", \"Topic4\", \"Topic4\", \"Topic4\", \"Topic4\", \"Topic4\", \"Topic4\", \"Topic4\", \"Topic4\", \"Topic4\", \"Topic4\", \"Topic4\", \"Topic4\", \"Topic4\", \"Topic4\", \"Topic4\", \"Topic4\", \"Topic4\", \"Topic4\", \"Topic4\", \"Topic4\", \"Topic4\", \"Topic4\", \"Topic4\", \"Topic4\", \"Topic4\", \"Topic4\", \"Topic4\", \"Topic4\", \"Topic4\", \"Topic4\", \"Topic4\", \"Topic4\", \"Topic4\", \"Topic4\", \"Topic4\", \"Topic4\", \"Topic4\", \"Topic4\", \"Topic4\", \"Topic4\", \"Topic4\", \"Topic4\", \"Topic4\", \"Topic4\", \"Topic4\", \"Topic4\", \"Topic4\", \"Topic5\", \"Topic5\", \"Topic5\", \"Topic5\", \"Topic5\", \"Topic5\", \"Topic5\", \"Topic5\", \"Topic5\", \"Topic5\", \"Topic5\", \"Topic5\", \"Topic5\", \"Topic5\", \"Topic5\", \"Topic5\", \"Topic5\", \"Topic5\", \"Topic5\", \"Topic5\", \"Topic5\", \"Topic5\", \"Topic5\", \"Topic5\", \"Topic5\", \"Topic5\", \"Topic5\", \"Topic5\", \"Topic5\", \"Topic5\", \"Topic5\", \"Topic5\", \"Topic5\", \"Topic5\", \"Topic5\", \"Topic5\", \"Topic5\", \"Topic5\", \"Topic5\", \"Topic5\", \"Topic5\", \"Topic6\", \"Topic6\", \"Topic6\", \"Topic6\", \"Topic6\", \"Topic6\", \"Topic6\", \"Topic6\", \"Topic6\", \"Topic6\", \"Topic6\", \"Topic6\", \"Topic6\", \"Topic6\", \"Topic6\", \"Topic6\", \"Topic6\", \"Topic6\", \"Topic6\", \"Topic6\", \"Topic6\", \"Topic6\", \"Topic6\", \"Topic6\", \"Topic6\", \"Topic6\", \"Topic6\", \"Topic6\", \"Topic6\", \"Topic6\", \"Topic6\", \"Topic6\", \"Topic6\", \"Topic6\", \"Topic6\", \"Topic6\", \"Topic6\", \"Topic6\", \"Topic6\", \"Topic6\", \"Topic6\", \"Topic6\", \"Topic6\", \"Topic6\", \"Topic6\", \"Topic6\", \"Topic6\", \"Topic7\", \"Topic7\", \"Topic7\", \"Topic7\", \"Topic7\", \"Topic7\", \"Topic7\", \"Topic7\", \"Topic7\", \"Topic7\", \"Topic7\", \"Topic7\", \"Topic7\", \"Topic7\", \"Topic7\", \"Topic7\", \"Topic7\", \"Topic7\", \"Topic7\", \"Topic7\", \"Topic7\", \"Topic7\", \"Topic7\", \"Topic7\", \"Topic7\", \"Topic7\", \"Topic7\", \"Topic7\", \"Topic7\", \"Topic7\", \"Topic7\", \"Topic7\", \"Topic7\", \"Topic7\", \"Topic7\", \"Topic7\", \"Topic7\", \"Topic7\", \"Topic7\", \"Topic7\", \"Topic7\", \"Topic7\", \"Topic7\", \"Topic7\", \"Topic7\", \"Topic7\", \"Topic7\", \"Topic7\", \"Topic8\", \"Topic8\", \"Topic8\", \"Topic8\", \"Topic8\", \"Topic8\", \"Topic8\", \"Topic8\", \"Topic8\", \"Topic8\", \"Topic8\", \"Topic8\", \"Topic8\", \"Topic8\", \"Topic8\", \"Topic8\", \"Topic8\", \"Topic8\", \"Topic8\", \"Topic8\", \"Topic8\", \"Topic8\", \"Topic8\", \"Topic8\", \"Topic8\", \"Topic8\", \"Topic8\", \"Topic8\", \"Topic8\", \"Topic8\", \"Topic8\", \"Topic8\", \"Topic8\", \"Topic8\", \"Topic8\", \"Topic8\", \"Topic8\", \"Topic8\", \"Topic8\", \"Topic8\", \"Topic8\", \"Topic8\", \"Topic8\", \"Topic8\", \"Topic8\", \"Topic8\", \"Topic8\", \"Topic8\", \"Topic8\", \"Topic8\", \"Topic8\", \"Topic8\", \"Topic8\", \"Topic8\", \"Topic9\", \"Topic9\", \"Topic9\", \"Topic9\", \"Topic9\", \"Topic9\", \"Topic9\", \"Topic9\", \"Topic9\", \"Topic9\", \"Topic9\", \"Topic9\", \"Topic9\", \"Topic9\", \"Topic9\", \"Topic9\", \"Topic9\", \"Topic9\", \"Topic9\", \"Topic9\", \"Topic9\", \"Topic9\", \"Topic9\", \"Topic9\", \"Topic9\", \"Topic9\", \"Topic9\", \"Topic9\", \"Topic9\", \"Topic9\", \"Topic9\", \"Topic9\", \"Topic9\", \"Topic9\", \"Topic9\", \"Topic9\", \"Topic9\", \"Topic10\", \"Topic10\", \"Topic10\", \"Topic10\", \"Topic10\", \"Topic10\", \"Topic10\", \"Topic10\", \"Topic10\", \"Topic10\", \"Topic10\", \"Topic10\", \"Topic10\", \"Topic10\", \"Topic10\", \"Topic10\", \"Topic10\", \"Topic10\", \"Topic10\", \"Topic10\", \"Topic10\", \"Topic10\", \"Topic10\", \"Topic10\", \"Topic10\", \"Topic10\", \"Topic10\", \"Topic10\", \"Topic10\", \"Topic10\", \"Topic10\", \"Topic10\", \"Topic10\", \"Topic10\", \"Topic10\", \"Topic10\", \"Topic10\", \"Topic10\", \"Topic10\", \"Topic10\", \"Topic10\", \"Topic10\", \"Topic10\", \"Topic10\"], \"Freq\": [260.0, 189.0, 162.0, 192.0, 138.0, 224.0, 119.0, 99.0, 121.0, 269.0, 170.0, 149.0, 90.0, 256.0, 97.0, 96.0, 63.0, 89.0, 293.0, 154.0, 72.0, 133.0, 61.0, 85.0, 346.0, 133.0, 132.0, 215.0, 161.0, 99.0, 356.2900695800781, 327.31170654296875, 262.1937561035156, 245.1088409423828, 269.22021484375, 210.7432403564453, 188.34500122070312, 179.4676055908203, 194.52398681640625, 412.491943359375, 174.54307556152344, 284.0123596191406, 151.9105682373047, 151.3250732421875, 147.54002380371094, 161.97500610351562, 174.9396514892578, 135.02903747558594, 187.3265380859375, 387.2234802246094, 245.9135284423828, 143.1972198486328, 130.9291229248047, 149.27871704101562, 125.36893463134766, 120.28392791748047, 117.49247741699219, 115.25013732910156, 119.08060455322266, 130.56932067871094, 423.4111022949219, 317.6991882324219, 261.0575866699219, 300.7885437011719, 258.95831298828125, 334.28399658203125, 377.6402282714844, 296.537109375, 398.36529541015625, 208.33694458007812, 435.9085998535156, 324.7160949707031, 308.926025390625, 322.49273681640625, 378.46197509765625, 224.55421447753906, 366.51361083984375, 266.23651123046875, 236.3884735107422, 370.9875183105469, 371.88128662109375, 338.9074401855469, 313.885986328125, 316.02484130859375, 318.14215087890625, 303.3271789550781, 337.45318603515625, 315.9217224121094, 273.8194274902344, 268.8710632324219, 47.96110153198242, 40.707759857177734, 39.01644515991211, 35.585716247558594, 32.121585845947266, 31.611478805541992, 25.4204158782959, 21.601736068725586, 20.51741600036621, 19.54413604736328, 20.79539680480957, 19.20392417907715, 20.684837341308594, 18.445886611938477, 18.28828239440918, 18.268943786621094, 116.3890609741211, 17.855358123779297, 17.722978591918945, 17.45561408996582, 16.847076416015625, 16.754789352416992, 16.45024299621582, 16.217775344848633, 15.948976516723633, 15.61884880065918, 15.464805603027344, 14.989426612854004, 14.070408821105957, 13.276545524597168, 79.93101501464844, 27.547592163085938, 22.6907958984375, 46.84797668457031, 24.276103973388672, 33.57060241699219, 25.358366012573242, 100.33727264404297, 21.80864143371582, 35.25751495361328, 29.772449493408203, 56.068904876708984, 25.92662239074707, 30.55845069885254, 23.257156372070312, 24.275651931762695, 24.581382751464844, 26.190298080444336, 23.195602416992188, 30.122478485107422, 22.989004135131836, 26.271806716918945, 22.128372192382812, 161.80287170410156, 39.343563079833984, 33.37836456298828, 33.97360610961914, 27.967304229736328, 27.433372497558594, 26.550397872924805, 26.010648727416992, 24.046541213989258, 20.740402221679688, 20.139711380004883, 20.00385284423828, 18.936614990234375, 18.93758773803711, 18.40861701965332, 18.010440826416016, 17.993370056152344, 17.447744369506836, 17.398622512817383, 19.453359603881836, 16.56377410888672, 15.320344924926758, 15.144112586975098, 15.040251731872559, 15.023879051208496, 14.377569198608398, 14.168265342712402, 14.157527923583984, 14.147032737731934, 13.9822416305542, 23.260934829711914, 34.85637664794922, 26.75945281982422, 18.96291160583496, 20.722049713134766, 43.681365966796875, 39.05168151855469, 22.108558654785156, 92.74190521240234, 22.629796981811523, 20.726818084716797, 27.393722534179688, 23.952646255493164, 19.727516174316406, 27.930397033691406, 25.911832809448242, 25.806896209716797, 22.301288604736328, 21.652023315429688, 53.83219909667969, 51.283599853515625, 49.28711700439453, 36.302127838134766, 26.31245231628418, 24.75970458984375, 23.675762176513672, 22.316940307617188, 20.412097930908203, 19.917903900146484, 19.2257080078125, 19.022926330566406, 17.909223556518555, 17.500778198242188, 16.367008209228516, 16.134380340576172, 15.23288345336914, 15.151534080505371, 14.848589897155762, 13.991827964782715, 13.922833442687988, 13.124837875366211, 12.720718383789062, 12.687056541442871, 12.440135955810547, 12.427129745483398, 12.27318286895752, 12.237671852111816, 11.955565452575684, 11.679581642150879, 15.044745445251465, 36.06005096435547, 89.10333251953125, 15.891324043273926, 37.462890625, 156.33267211914062, 25.72202491760254, 31.98170280456543, 66.57872009277344, 36.542911529541016, 21.613569259643555, 19.864858627319336, 43.839107513427734, 18.55531883239746, 42.512203216552734, 47.912193298339844, 24.656030654907227, 39.14136505126953, 21.09890365600586, 24.39798927307129, 26.140382766723633, 20.012975692749023, 20.947853088378906, 20.792314529418945, 118.99467468261719, 41.0055046081543, 40.26955032348633, 88.96491241455078, 38.26493835449219, 35.04024124145508, 32.335914611816406, 28.320022583007812, 28.115201950073242, 28.047840118408203, 26.25880241394043, 25.079389572143555, 24.37552261352539, 23.388233184814453, 22.754234313964844, 22.38076400756836, 21.546329498291016, 21.242231369018555, 20.852508544921875, 20.227123260498047, 26.26386070251465, 19.04947853088379, 17.365432739257812, 16.413223266601562, 15.883034706115723, 15.366693496704102, 15.40773868560791, 15.220132827758789, 14.81519889831543, 14.79450798034668, 21.901628494262695, 21.339719772338867, 24.588096618652344, 30.537778854370117, 31.536333084106445, 26.044342041015625, 18.805686950683594, 27.7395076751709, 22.794986724853516, 22.01288414001465, 21.569602966308594, 23.108686447143555, 18.94074249267578, 17.875186920166016, 17.492292404174805, 17.388521194458008, 14.899341583251953, 14.359771728515625, 13.760671615600586, 13.447714805603027, 13.330097198486328, 12.517237663269043, 12.31430721282959, 11.566385269165039, 11.240999221801758, 11.160826683044434, 11.086755752563477, 10.984986305236816, 10.406092643737793, 10.044140815734863, 9.878461837768555, 9.847021102905273, 9.577253341674805, 9.525070190429688, 9.332990646362305, 9.145166397094727, 9.163313865661621, 9.181753158569336, 9.068930625915527, 9.029635429382324, 9.004413604736328, 63.498592376708984, 17.91681480407715, 15.864767074584961, 11.978184700012207, 16.804668426513672, 34.39311599731445, 23.58949089050293, 17.476076126098633, 30.059541702270508, 16.311180114746094, 12.189216613769531, 12.061821937561035, 12.909932136535645, 14.355560302734375, 13.455499649047852, 11.370505332946777, 11.667778015136719, 35.965423583984375, 32.81184005737305, 28.5970516204834, 26.183353424072266, 20.932384490966797, 18.656879425048828, 17.310871124267578, 20.918701171875, 15.009292602539062, 13.99158763885498, 13.82120418548584, 13.713459968566895, 13.599024772644043, 12.464021682739258, 10.555868148803711, 9.67832088470459, 9.649016380310059, 9.162104606628418, 9.08170223236084, 8.862991333007812, 8.599164962768555, 8.540826797485352, 8.3582124710083, 8.277495384216309, 8.25232219696045, 8.171796798706055, 8.154704093933105, 7.990663528442383, 7.918248176574707, 7.792967319488525, 85.87736511230469, 36.928035736083984, 33.11767578125, 18.508100509643555, 42.932701110839844, 27.591325759887695, 18.885406494140625, 21.144771575927734, 40.51470184326172, 11.671854972839355, 15.959635734558105, 12.633162498474121, 15.958832740783691, 22.839229583740234, 13.590723991394043, 15.55077838897705, 13.486928939819336, 13.685373306274414, 27.869731903076172, 25.785032272338867, 20.921817779541016, 18.8553524017334, 15.812931060791016, 14.147026062011719, 13.974069595336914, 13.397761344909668, 12.975115776062012, 11.212686538696289, 10.701473236083984, 10.270552635192871, 9.496407508850098, 9.383604049682617, 9.312560081481934, 9.278313636779785, 9.277851104736328, 9.210461616516113, 9.193476676940918, 8.978659629821777, 8.675542831420898, 8.639711380004883, 8.444795608520508, 8.421074867248535, 8.2294921875, 8.175251007080078, 8.128182411193848, 8.097702980041504, 7.84191370010376, 7.814281940460205, 17.332782745361328, 12.203496932983398, 15.437132835388184, 22.94634437561035, 10.183314323425293, 57.719417572021484, 12.166065216064453, 14.003649711608887, 16.859033584594727, 16.285823822021484, 12.003029823303223, 13.423965454101562, 11.963626861572266, 15.981801986694336, 15.230278968811035, 20.270954132080078, 15.7506742477417, 21.708219528198242, 13.792351722717285, 16.36210060119629, 12.016092300415039, 12.539158821105957, 12.554301261901855, 12.215261459350586, 60.459556579589844, 31.875024795532227, 22.02907371520996, 16.214557647705078, 15.964238166809082, 15.026637077331543, 14.749688148498535, 11.741683006286621, 11.587275505065918, 11.23153018951416, 11.14069652557373, 10.914966583251953, 10.77660846710205, 10.45352840423584, 10.403438568115234, 10.260359764099121, 10.174577713012695, 9.718351364135742, 9.977503776550293, 9.640083312988281, 9.593090057373047, 9.284407615661621, 9.239751815795898, 9.183380126953125, 9.17715072631836, 8.864282608032227, 8.712238311767578, 8.530900955200195, 8.528984069824219, 8.344121932983398, 20.90984344482422, 22.56455421447754, 12.125411033630371, 15.735097885131836, 10.824363708496094, 10.830988883972168, 9.753097534179688, 27.107446670532227, 25.137704849243164, 14.45477294921875, 12.604147911071777, 11.833281517028809, 59.6321907043457, 10.396318435668945, 9.828282356262207, 9.447784423828125, 9.166665077209473, 7.835732936859131, 7.791660308837891, 7.7392120361328125, 7.684877872467041, 7.718272686004639, 7.5746750831604, 7.186758041381836, 7.21268892288208, 7.029485702514648, 6.731520175933838, 6.489884376525879, 6.441993236541748, 6.337344169616699, 6.337344169616699, 6.337344169616699, 6.071841239929199, 5.5944929122924805, 5.466370105743408, 5.320102691650391, 5.311445236206055, 5.468538761138916, 23.504985809326172, 15.34256362915039, 7.820120811462402, 7.811192035675049, 9.354470252990723, 44.931785583496094, 11.276636123657227, 9.799161911010742, 10.568413734436035, 8.000760078430176, 9.201801300048828, 8.335785865783691, 7.203922748565674], \"Term\": [\"wine\", \"pizza\", \"sushi\", \"fish\", \"italian\", \"side\", \"mexican\", \"lobster\", \"ramen\", \"room\", \"infatuation\", \"west\", \"tacos\", \"chicken\", \"slice\", \"park\", \"greek\", \"roll\", \"east\", \"date\", \"upper\", \"real\", \"artichoke\", \"blue\", \"meal\", \"line\", \"review\", \"bit\", \"quality\", \"midtown\", \"great\", \"restaurants\", \"think\", \"big\", \"take\", \"neighborhood\", \"friends\", \"say\", \"pork\", \"eat\", \"years\", \"actually\", \"nothing\", \"solid\", \"perfect\", \"looking\", \"favorite\", \"high\", \"full\", \"would\", \"small\", \"times\", \"especially\", \"open\", \"cool\", \"cheese\", \"serve\", \"opened\", \"group\", \"whole\", \"even\", \"something\", \"love\", \"around\", \"always\", \"probably\", \"come\", \"kind\", \"going\", \"fact\", \"back\", \"still\", \"thing\", \"well\", \"pretty\", \"nice\", \"table\", \"better\", \"need\", \"way\", \"dinner\", \"find\", \"every\", \"city\", \"want\", \"two\", \"night\", \"meal\", \"york\", \"east\", \"paella\", \"authentic\", \"macao\", \"reasonably\", \"ribbon\", \"bone\", \"overrated\", \"patrons\", \"meets\", \"monkey\", \"staple\", \"attraction\", \"thirty\", \"brasserie\", \"lastly\", \"dropping\", \"ramen\", \"via\", \"drop\", \"glad\", \"consists\", \"boulud\", \"fifteen\", \"stars\", \"trading\", \"expert\", \"portuguese\", \"poor\", \"suppose\", \"heading\", \"blue\", \"bathroom\", \"dine\", \"hell\", \"weekday\", \"priced\", \"sat\", \"infatuation\", \"laid\", \"week\", \"broth\", \"review\", \"secret\", \"call\", \"dollars\", \"nearly\", \"level\", \"unfortunately\", \"burgers\", \"chicken\", \"soup\", \"meal\", \"scene\", \"sushi\", \"tuna\", \"establishments\", \"downstairs\", \"pieces\", \"note\", \"strike\", \"gari\", \"booze\", \"enchiladas\", \"chelsea\", \"fajitas\", \"remain\", \"indeed\", \"using\", \"toro\", \"omakase\", \"cravings\", \"chopped\", \"ridiculously\", \"pianos\", \"record\", \"hipster\", \"frequently\", \"appealing\", \"resist\", \"corporate\", \"tier\", \"heavily\", \"safe\", \"reviews\", \"beers\", \"fans\", \"speaking\", \"smart\", \"hour\", \"japanese\", \"basement\", \"fish\", \"patio\", \"seriously\", \"unfortunately\", \"destination\", \"lucky\", \"manhattan\", \"may\", \"infatuation\", \"money\", \"west\", \"pie\", \"eleven\", \"hype\", \"kest\\u00e9\", \"joe\", \"chances\", \"slices\", \"expecting\", \"mess\", \"necessary\", \"dive\", \"offered\", \"wise\", \"enthusiasts\", \"mag\", \"neapolitan\", \"necessarily\", \"toppings\", \"bandwagon\", \"control\", \"daniel\", \"whose\", \"compared\", \"account\", \"issue\", \"pleasantly\", \"skin\", \"jam\", \"effort\", \"combinations\", \"mozzarella\", \"pies\", \"slice\", \"craft\", \"oven\", \"pizza\", \"cuisine\", \"surprised\", \"park\", \"fast\", \"stone\", \"goodness\", \"recent\", \"machine\", \"chef\", \"review\", \"tasting\", \"line\", \"burgers\", \"staff\", \"bit\", \"level\", \"three\", \"kitchen\", \"mexican\", \"taco\", \"waiter\", \"tacos\", \"blt\", \"bobo\", \"mole\", \"chinese\", \"god\", \"lindo\", \"mexico\", \"pig\", \"caracas\", \"guacamole\", \"margaritas\", \"awkward\", \"overpriced\", \"rush\", \"boat\", \"loved\", \"corn\", \"lining\", \"prepare\", \"mad\", \"era\", \"tequila\", \"noting\", \"models\", \"arepas\", \"smoke\", \"entree\", \"smoked\", \"liked\", \"dirty\", \"club\", \"miss\", \"operation\", \"quality\", \"apparently\", \"head\", \"instead\", \"dollar\", \"totto\", \"smith\", \"sleep\", \"delivery\", \"beauty\", \"ranging\", \"essex\", \"moves\", \"circumstances\", \"emily\", \"ruby\", \"bay\", \"jack\", \"craving\", \"reached\", \"proudly\", \"circa\", \"visited\", \"moral\", \"clubs\", \"fountain\", \"uws\", \"spruce\", \"toilet\", \"statue\", \"drawing\", \"material\", \"pastrami\", \"confusion\", \"upper\", \"north\", \"girl\", \"deli\", \"concept\", \"west\", \"location\", \"man\", \"side\", \"original\", \"luck\", \"southern\", \"sports\", \"square\", \"dumplings\", \"sorry\", \"east\", \"oyster\", \"clam\", \"mussels\", \"bus\", \"flex\", \"novita\", \"mermaid\", \"inn\", \"written\", \"ladies\", \"abc\", \"juice\", \"slop\", \"syrup\", \"territory\", \"sophisticated\", \"canal\", \"bonus\", \"tall\", \"hat\", \"breslin\", \"epitome\", \"cause\", \"grew\", \"chowder\", \"meeting\", \"lines\", \"sight\", \"snack\", \"efficiency\", \"lobster\", \"madison\", \"man\", \"wings\", \"roll\", \"local\", \"shack\", \"seafood\", \"fish\", \"toast\", \"throw\", \"following\", \"market\", \"infatuation\", \"expected\", \"french\", \"fresh\", \"review\", \"bacaro\", \"cozy\", \"crispo\", \"socarrat\", \"paradou\", \"pub\", \"sfoglia\", \"grand\", \"personally\", \"annoying\", \"pissed\", \"stumbled\", \"rage\", \"remembered\", \"amateur\", \"flock\", \"hurting\", \"townhouse\", \"michael\", \"array\", \"wife\", \"docks\", \"calamari\", \"irish\", \"posto\", \"grub\", \"packs\", \"carbone\", \"recommendation\", \"lasagna\", \"homey\", \"pack\", \"vintage\", \"tap\", \"seasonal\", \"italian\", \"cured\", \"weather\", \"bigger\", \"environment\", \"enter\", \"felt\", \"reviewed\", \"reservations\", \"word\", \"midtown\", \"garden\", \"room\", \"summer\", \"west\", \"sports\", \"week\", \"call\", \"destination\", \"artichoke\", \"fat\", \"rate\", \"focused\", \"dropped\", \"box\", \"forty\", \"candle\", \"walter\", \"thank\", \"facts\", \"scoop\", \"stupid\", \"experts\", \"unfinished\", \"frankies\", \"queens\", \"sicilian\", \"fort\", \"painted\", \"mustaches\", \"walker\", \"tuscan\", \"mayo\", \"routinely\", \"digging\", \"annoyed\", \"napkin\", \"cell\", \"wildly\", \"dudes\", \"thai\", \"mistake\", \"real\", \"totally\", \"fast\", \"cream\", \"double\", \"pylos\", \"kept\", \"clay\", \"vinegar\", \"greek\", \"first/early\", \"approval\", \"mono\", \"stretch\", \"jerk\", \"internal\", \"ginger\", \"cultures\", \"yard\", \"spaniard\", \"satisfy\", \"hyping\", \"antipasti\", \"organs\", \"delivered\", \"terroir\", \"striking\", \"j-date\", \"rabid\", \"tapas\", \"vara\", \"backup\", \"asian\", \"display\", \"paul\", \"spanish\", \"wines\", \"pocket\", \"ahead\", \"ceiling\", \"wine\", \"luck\", \"ten\", \"southern\", \"trips\", \"hell\", \"date\", \"learn\"], \"Total\": [260.0, 189.0, 162.0, 192.0, 138.0, 224.0, 119.0, 99.0, 121.0, 269.0, 170.0, 149.0, 90.0, 256.0, 97.0, 96.0, 63.0, 89.0, 293.0, 154.0, 72.0, 133.0, 61.0, 85.0, 346.0, 133.0, 132.0, 215.0, 161.0, 99.0, 357.0276794433594, 328.2063903808594, 262.9375915527344, 245.8463592529297, 270.08837890625, 211.47833251953125, 189.08775329589844, 180.2047882080078, 195.33494567871094, 414.21160888671875, 175.283203125, 285.3750305175781, 152.6608428955078, 152.0762939453125, 148.27281188964844, 162.8165283203125, 175.85067749023438, 135.7613525390625, 188.34999084472656, 389.3465270996094, 247.26248168945312, 143.9864044189453, 131.6764373779297, 150.15350341796875, 126.10489654541016, 121.0158462524414, 118.23922729492188, 116.0015869140625, 119.85985565185547, 131.42547607421875, 426.3708801269531, 320.19488525390625, 262.8350524902344, 303.39874267578125, 260.90020751953125, 338.144775390625, 382.5495300292969, 299.7196960449219, 404.17181396484375, 210.00144958496094, 444.40826416015625, 329.1578674316406, 313.19482421875, 327.44317626953125, 387.12548828125, 227.0126495361328, 376.8906555175781, 271.0513916015625, 239.55580139160156, 385.3280334472656, 386.34222412109375, 350.6759338378906, 323.7831726074219, 326.4485168457031, 330.3961181640625, 315.51953125, 361.7109375, 346.1014099121094, 305.0273132324219, 293.1176452636719, 48.71982192993164, 41.46656799316406, 39.77513885498047, 36.36256790161133, 32.8801155090332, 32.37013244628906, 26.179304122924805, 22.36039161682129, 21.276187896728516, 20.303234100341797, 21.61085319519043, 19.962614059448242, 21.51030731201172, 19.204469680786133, 19.047677993774414, 19.027828216552734, 121.25411224365234, 18.61400032043457, 18.481727600097656, 18.214319229125977, 17.605772018432617, 17.513402938842773, 17.2091121673584, 16.978933334350586, 16.707651138305664, 16.37770652770996, 16.22357177734375, 15.748367309570312, 14.829533576965332, 14.035271644592285, 85.30105590820312, 30.242162704467773, 25.24761199951172, 58.22068786621094, 27.599149703979492, 41.116817474365234, 29.324359893798828, 170.22332763671875, 25.458507537841797, 55.21430587768555, 42.396087646484375, 132.49378967285156, 37.84309768676758, 68.48836517333984, 35.01691818237305, 41.17274856567383, 45.273983001708984, 61.90811538696289, 44.9741325378418, 256.32586669921875, 46.871726989746094, 346.1014099121094, 50.37387466430664, 162.55519104003906, 40.09602737426758, 34.131141662597656, 34.81303787231445, 28.719676971435547, 28.19451904296875, 27.303707122802734, 26.762975692749023, 24.799089431762695, 21.492944717407227, 20.892148971557617, 20.756465911865234, 19.689313888549805, 19.69234848022461, 19.161598205566406, 18.76283073425293, 18.74567413330078, 18.201631546020508, 18.151235580444336, 20.298343658447266, 17.31635284423828, 16.073028564453125, 15.896939277648926, 15.793102264404297, 15.776433944702148, 15.13029956817627, 14.921015739440918, 14.909850120544434, 14.900785446166992, 14.734719276428223, 24.838668823242188, 39.06101608276367, 29.593915939331055, 20.60279655456543, 23.726146697998047, 64.36918640136719, 56.63178634643555, 26.48482322692871, 192.5778045654297, 28.477163314819336, 26.012727737426758, 61.90811538696289, 50.89115524291992, 26.61349105834961, 111.67914581298828, 88.1604232788086, 170.22332763671875, 107.4537582397461, 149.43711853027344, 54.59843444824219, 52.04991912841797, 50.053585052490234, 37.068424224853516, 27.078685760498047, 25.526180267333984, 24.453514099121094, 23.083541870117188, 21.178510665893555, 20.684961318969727, 19.993358612060547, 19.78959083557129, 18.675752639770508, 18.267589569091797, 17.133298873901367, 16.925691604614258, 16.0, 15.925092697143555, 15.615104675292969, 14.75827693939209, 14.689238548278809, 13.891173362731934, 13.487353324890137, 13.45361042022705, 13.206542015075684, 13.19359302520752, 13.040128707885742, 13.004096984863281, 12.72201156616211, 12.446670532226562, 16.037525177001953, 38.79764175415039, 97.86585998535156, 16.972352981567383, 41.414207458496094, 189.9024200439453, 30.12230682373047, 39.652923583984375, 96.17435455322266, 48.06712341308594, 25.377431869506836, 23.238252639770508, 69.54322814941406, 21.83284568786621, 101.86503601074219, 132.49378967285156, 40.20378112792969, 133.0232391357422, 44.9741325378418, 128.81011962890625, 215.31532287597656, 45.273983001708984, 149.3721160888672, 151.7086181640625, 119.76107788085938, 41.77187728881836, 41.0362663269043, 90.73489379882812, 39.03178024291992, 35.80667495727539, 33.102294921875, 29.086589813232422, 28.882265090942383, 28.81441879272461, 27.025209426879883, 25.846044540405273, 25.14208221435547, 24.154682159423828, 23.520641326904297, 23.14775848388672, 22.313039779663086, 22.0087947845459, 21.619218826293945, 20.9937801361084, 27.279226303100586, 19.817474365234375, 18.132049560546875, 17.179872512817383, 16.649490356445312, 16.13312530517578, 16.176340103149414, 15.986644744873047, 15.5816650390625, 15.561177253723145, 23.376922607421875, 23.828088760375977, 28.3035945892334, 42.2630500793457, 49.31517028808594, 49.94001007080078, 25.51409149169922, 161.975341796875, 68.27249908447266, 77.63192749023438, 99.01090240478516, 23.863502502441406, 19.69454574584961, 18.62900733947754, 18.246328353881836, 18.14252281188965, 15.653337478637695, 15.11379623413086, 14.514803886413574, 14.202390670776367, 14.084985733032227, 13.271013259887695, 13.068446159362793, 12.320578575134277, 11.994970321655273, 11.914889335632324, 11.84088134765625, 11.740371704101562, 11.160253524780273, 10.798325538635254, 10.632730484008789, 10.601316452026367, 10.333606719970703, 10.279014587402344, 10.090737342834473, 9.899499893188477, 9.91916561126709, 9.939581871032715, 9.823504447937012, 9.783496856689453, 9.76079273223877, 72.91040802001953, 22.850751876831055, 26.030044555664062, 16.445911407470703, 33.9219856262207, 149.43711853027344, 112.69034576416016, 51.27802658081055, 224.46832275390625, 60.41554260253906, 24.149221420288086, 23.313549041748047, 34.782554626464844, 65.6247787475586, 44.97269821166992, 24.55409049987793, 293.1176452636719, 36.74103927612305, 33.58735275268555, 29.372486114501953, 26.959413528442383, 21.70793342590332, 19.432363510131836, 18.086254119873047, 21.85895347595215, 15.785526275634766, 14.76767635345459, 14.5966796875, 14.488987922668457, 14.374438285827637, 13.239656448364258, 11.33169174194336, 10.454476356506348, 10.424976348876953, 9.937911033630371, 9.857694625854492, 9.639152526855469, 9.374582290649414, 9.316583633422852, 9.133634567260742, 9.053397178649902, 9.027718544006348, 8.947373390197754, 8.930269241333008, 8.766132354736328, 8.693750381469727, 8.56888484954834, 99.13650512695312, 44.445682525634766, 51.27802658081055, 26.748489379882812, 89.27625274658203, 54.76152038574219, 35.1166877746582, 44.661468505859375, 192.5778045654297, 17.232276916503906, 36.133697509765625, 21.836318969726562, 50.273399353027344, 170.22332763671875, 38.597991943359375, 78.9601821899414, 92.65856170654297, 132.49378967285156, 28.636823654174805, 26.552305221557617, 21.688907623291016, 19.622573852539062, 16.579853057861328, 14.914227485656738, 14.741026878356934, 14.164761543273926, 13.742969512939453, 11.979767799377441, 11.469156265258789, 11.037824630737305, 10.263577461242676, 10.150827407836914, 10.080636024475098, 10.045366287231445, 10.045402526855469, 9.97801399230957, 9.960552215576172, 9.745772361755371, 9.442541122436523, 9.407122611999512, 9.211865425109863, 9.188344955444336, 8.996382713317871, 8.942293167114258, 8.895530700683594, 8.864718437194824, 8.60909652709961, 8.581315994262695, 19.53278160095215, 14.01241683959961, 18.669071197509766, 31.077476501464844, 11.814300537109375, 138.8851318359375, 15.60146427154541, 19.240652084350586, 25.85675048828125, 28.30476951599121, 17.289981842041016, 21.945409774780273, 18.355754852294922, 39.4344367980957, 41.82572937011719, 99.05538177490234, 49.24717712402344, 269.0417785644531, 51.18519592285156, 149.43711853027344, 34.782554626464844, 55.21430587768555, 68.48836517333984, 50.89115524291992, 61.22200393676758, 32.637413024902344, 22.791831970214844, 16.97699546813965, 16.72760772705078, 15.788782119750977, 15.512145042419434, 12.504697799682617, 12.349297523498535, 11.9940767288208, 11.903589248657227, 11.677456855773926, 11.53896427154541, 11.215723037719727, 11.166352272033691, 11.022475242614746, 10.936797142028809, 10.481053352355957, 10.7627592086792, 10.402997016906738, 10.35583209991455, 10.046685218811035, 10.003278732299805, 9.9463472366333, 9.940147399902344, 9.629802703857422, 9.474420547485352, 9.294657707214355, 9.294947624206543, 9.108281135559082, 22.99102020263672, 25.392038345336914, 15.481569290161133, 133.24053955078125, 30.754375457763672, 48.06712341308594, 29.997909545898438, 27.882469177246094, 25.912364959716797, 15.229804992675781, 13.378824234008789, 12.608065605163574, 63.877559661865234, 11.171196937561035, 10.603158950805664, 10.222708702087402, 9.941422462463379, 8.610397338867188, 8.566460609436035, 8.514155387878418, 8.459699630737305, 8.497690200805664, 8.349505424499512, 7.962874889373779, 7.993795394897461, 7.804474830627441, 7.506656646728516, 7.264945983886719, 7.216568470001221, 7.112058639526367, 7.112058639526367, 7.112058639526367, 6.846672534942627, 6.369070529937744, 6.241768836975098, 6.094831466674805, 6.086178779602051, 6.273600101470947, 35.09465408325195, 21.30364418029785, 9.915884971618652, 10.230424880981445, 13.92774772644043, 260.2794189453125, 24.149221420288086, 19.216167449951172, 23.313549041748047, 21.096113204956055, 58.22068786621094, 154.27767944335938, 13.897941589355469], \"loglift\": [30.0, 29.0, 28.0, 27.0, 26.0, 25.0, 24.0, 23.0, 22.0, 21.0, 20.0, 19.0, 18.0, 17.0, 16.0, 15.0, 14.0, 13.0, 12.0, 11.0, 10.0, 9.0, 8.0, 7.0, 6.0, 5.0, 4.0, 3.0, 2.0, 1.0, 0.5015000104904175, 0.5008000135421753, 0.5006999969482422, 0.5005000233650208, 0.5002999901771545, 0.5, 0.49959999322891235, 0.49939998984336853, 0.49939998984336853, 0.49939998984336853, 0.4993000030517578, 0.49869999289512634, 0.4986000061035156, 0.4986000061035156, 0.4986000061035156, 0.4982999861240387, 0.4982999861240387, 0.49810001254081726, 0.49810001254081726, 0.49810001254081726, 0.49810001254081726, 0.49799999594688416, 0.49779999256134033, 0.4977000057697296, 0.4977000057697296, 0.4975000023841858, 0.49720001220703125, 0.4970000088214874, 0.4970000088214874, 0.4970000088214874, 0.4966000020503998, 0.49570000171661377, 0.4966999888420105, 0.4948999881744385, 0.4961000084877014, 0.492000013589859, 0.49059998989105225, 0.492900013923645, 0.48910000920295715, 0.49559998512268066, 0.48420000076293945, 0.48989999294281006, 0.48980000615119934, 0.48829999566078186, 0.48089998960494995, 0.4925999939441681, 0.475600004196167, 0.48559999465942383, 0.490200012922287, 0.46560001373291016, 0.46540001034736633, 0.46939998865127563, 0.4724999964237213, 0.47110000252723694, 0.4657000005245209, 0.4641000032424927, 0.4341000020503998, 0.4122999906539917, 0.39559999108314514, 0.4171999990940094, 2.7320001125335693, 2.7291998863220215, 2.7283999919891357, 2.726099967956543, 2.724299907684326, 2.723900079727173, 2.7181999683380127, 2.713099956512451, 2.7112998962402344, 2.7095999717712402, 2.709199905395508, 2.708899974822998, 2.7084999084472656, 2.70740008354187, 2.7070000171661377, 2.7070000171661377, 2.706700086593628, 2.7060999870300293, 2.705699920654297, 2.7051000595092773, 2.7035999298095703, 2.703399896621704, 2.7026000022888184, 2.7018001079559326, 2.701200008392334, 2.700200080871582, 2.6998000144958496, 2.6982998847961426, 2.6951000690460205, 2.6921000480651855, 2.6826000213623047, 2.6542999744415283, 2.640899896621704, 2.5302999019622803, 2.6194000244140625, 2.5448999404907227, 2.602400064468384, 2.219099998474121, 2.592900037765503, 2.299099922180176, 2.394200086593628, 1.8876999616622925, 2.369499921798706, 1.940600037574768, 2.338399887084961, 2.219399929046631, 2.136899948120117, 1.8874000310897827, 2.0855000019073486, 0.6065000295639038, 2.0353000164031982, 0.16940000653266907, 1.9250999689102173, 2.7778000831604004, 2.7634999752044678, 2.7600998878479004, 2.757999897003174, 2.7558999061584473, 2.7551000118255615, 2.754499912261963, 2.7539000511169434, 2.7516000270843506, 2.746799945831299, 2.745800018310547, 2.745500087738037, 2.743499994277954, 2.7434000968933105, 2.742300033569336, 2.741499900817871, 2.741499900817871, 2.7400999069213867, 2.7400999069213867, 2.7399001121520996, 2.73799991607666, 2.734499931335449, 2.7339000701904297, 2.733599901199341, 2.733599901199341, 2.7314000129699707, 2.7307000160217285, 2.7307000160217285, 2.7304999828338623, 2.7300000190734863, 2.7167999744415283, 2.668600082397461, 2.68179988861084, 2.69950008392334, 2.6470999717712402, 2.394700050354004, 2.410799980163574, 2.601799964904785, 2.051800012588501, 2.5525999069213867, 2.555299997329712, 1.9671000242233276, 2.0288000106811523, 2.4830000400543213, 1.3964999914169312, 1.5579999685287476, 0.8960000276565552, 1.2100000381469727, 0.8507000207901001, 2.811800003051758, 2.8111000061035156, 2.810499906539917, 2.805000066757202, 2.7971999645233154, 2.7953999042510986, 2.793600082397461, 2.792099952697754, 2.7890000343322754, 2.788100004196167, 2.7867000102996826, 2.786400079727173, 2.7839999198913574, 2.7829999923706055, 2.780100107192993, 2.7780001163482666, 2.7767999172210693, 2.776099920272827, 2.775599956512451, 2.772599935531616, 2.7723000049591064, 2.769200086593628, 2.767400026321411, 2.767199993133545, 2.7660999298095703, 2.7660000324249268, 2.7653000354766846, 2.765199899673462, 2.7637999057769775, 2.7623000144958496, 2.76200008392334, 2.752700090408325, 2.732100009918213, 2.7600998878479004, 2.725600004196167, 2.6314001083374023, 2.6679999828338623, 2.6108999252319336, 2.4581000804901123, 2.551800012588501, 2.6654000282287598, 2.6689999103546143, 2.364500045776367, 2.6631999015808105, 1.9520000219345093, 1.8086999654769897, 2.3369998931884766, 1.6025999784469604, 2.069000005722046, 1.1620999574661255, 0.7172999978065491, 2.009500026702881, 0.8615000247955322, 0.8385000228881836, 2.880500078201294, 2.8684000968933105, 2.868000030517578, 2.8671998977661133, 2.867000102996826, 2.8652000427246094, 2.8635001182556152, 2.8601999282836914, 2.859999895095825, 2.8598999977111816, 2.858099937438965, 2.856800079345703, 2.8559000492095947, 2.854599952697754, 2.853800058364868, 2.8531999588012695, 2.851900100708008, 2.8513998985290527, 2.850800037384033, 2.8496999740600586, 2.848900079727173, 2.847399950027466, 2.8436999320983887, 2.841200113296509, 2.8397998809814453, 2.838200092315674, 2.838200092315674, 2.8376998901367188, 2.836400032043457, 2.836400032043457, 2.821700096130371, 2.776599884033203, 2.7462000846862793, 2.5618999004364014, 2.4398000240325928, 2.2358999252319336, 2.5817999839782715, 1.1223000288009644, 1.7898999452590942, 1.6265000104904175, 1.3629000186920166, 3.2964000701904297, 3.2894999980926514, 3.2871999740600586, 3.28629994392395, 3.286099910736084, 3.279099941253662, 3.2772998809814453, 3.2751998901367188, 3.273900032043457, 3.273400068283081, 3.2699999809265137, 3.2690999507904053, 3.2653000354766846, 3.2636001110076904, 3.2630999088287354, 3.262700080871582, 3.26200008392334, 3.258500099182129, 3.2560999393463135, 3.2548999786376953, 3.254699945449829, 3.252500057220459, 3.2523000240325928, 3.2504000663757324, 3.2492001056671143, 3.2492001056671143, 3.2492001056671143, 3.2486000061035156, 3.248300075531006, 3.24780011177063, 3.1902999877929688, 3.0852999687194824, 2.833400011062622, 3.0114998817443848, 2.6261000633239746, 1.8595000505447388, 1.7647000551223755, 2.2520999908447266, 1.3179999589920044, 2.0190999507904053, 2.6447999477386475, 2.6695001125335693, 2.337399959564209, 1.8086999654769897, 2.121799945831299, 2.5587000846862793, 0.10480000078678131, 3.3724000453948975, 3.370300054550171, 3.3668999671936035, 3.364500045776367, 3.357300043106079, 3.3529999256134033, 3.349900007247925, 3.3496999740600586, 3.3433001041412354, 3.3396999835968018, 3.339099884033203, 3.33870005607605, 3.338200092315674, 3.3333001136779785, 3.3227999210357666, 3.3166000843048096, 3.3164000511169434, 3.3124001026153564, 3.3117001056671143, 3.309799909591675, 3.3073999881744385, 3.30679988861084, 3.305000066757202, 3.3041000366210938, 3.3039000034332275, 3.302999973297119, 3.302799940109253, 3.301100015640259, 3.300299882888794, 3.298799991607666, 3.2500998973846436, 3.208400011062622, 2.9565000534057617, 3.025399923324585, 2.661600112915039, 2.708199977874756, 2.773400068283081, 2.6459999084472656, 1.8349000215530396, 3.0041000843048096, 2.5764999389648438, 2.8464999198913574, 2.2462000846862793, 1.38510000705719, 2.349900007247925, 1.7689000368118286, 1.4665000438690186, 1.1234999895095825, 3.3777999877929688, 3.3756000995635986, 3.3689000606536865, 3.365000009536743, 3.3575000762939453, 3.352099895477295, 3.3515000343322754, 3.3492000102996826, 3.347399950027466, 3.33870005607605, 3.335599899291992, 3.332900047302246, 3.327199935913086, 3.3262999057769775, 3.325700044631958, 3.325500011444092, 3.3254001140594482, 3.324899911880493, 3.3248000144958496, 3.3229000568389893, 3.320199966430664, 3.3197999000549316, 3.318000078201294, 3.317699909210205, 3.3157999515533447, 3.315200090408325, 3.31469988822937, 3.3143999576568604, 3.3115999698638916, 3.311300039291382, 3.285399913787842, 3.266700029373169, 3.2147998809814453, 3.101599931716919, 3.2562999725341797, 2.5267999172210693, 3.1561999320983887, 3.0871999263763428, 2.9772000312805176, 2.8522000312805176, 3.039900064468384, 2.9133999347686768, 2.976799964904785, 2.501699924468994, 2.394700050354004, 1.8184000253677368, 2.264899969100952, 0.8877000212669373, 2.093600034713745, 1.1929999589920044, 2.3420000076293945, 1.9225000143051147, 1.708299994468689, 1.9779000282287598, 3.494499921798706, 3.4834001064300537, 3.4730000495910645, 3.4611001014709473, 3.4602999687194824, 3.4576001167297363, 3.4565999507904053, 3.4440999031066895, 3.4433000087738037, 3.4412999153137207, 3.4407999515533447, 3.439500093460083, 3.438699960708618, 3.4365999698638916, 3.436300039291382, 3.4354000091552734, 3.434799909591675, 3.43149995803833, 3.431299924850464, 3.4309000968933105, 3.430500030517578, 3.428100109100342, 3.4275999069213867, 3.4272000789642334, 3.4272000789642334, 3.4242000579833984, 3.4231998920440674, 3.421299934387207, 3.4210000038146973, 3.4193999767303467, 3.412100076675415, 3.3889999389648438, 3.262700080871582, 1.3708000183105469, 2.4628000259399414, 2.0167999267578125, 2.383500099182129, 3.7881999015808105, 3.7860000133514404, 3.7641000747680664, 3.756700038909912, 3.7528998851776123, 3.7476000785827637, 3.744499921798706, 3.740499973297119, 3.737499952316284, 3.7351999282836914, 3.722100019454956, 3.7214999198913574, 3.720900058746338, 3.7202999591827393, 3.720099925994873, 3.7190001010894775, 3.7137999534606934, 3.7135000228881836, 3.7118000984191895, 3.70740008354187, 3.7035000324249268, 3.7028000354766846, 3.7009999752044678, 3.7009999752044678, 3.7009999752044678, 3.696199893951416, 3.6867001056671143, 3.6837000846862793, 3.6803998947143555, 3.6802000999450684, 3.678999900817871, 3.4154999256134033, 3.488100051879883, 3.578900098800659, 3.5464999675750732, 3.418299913406372, 2.0597000122070312, 3.054800033569336, 3.142899990081787, 3.0251998901367188, 2.8468000888824463, 1.971500039100647, 0.8981999754905701, 3.1591999530792236], \"logprob\": [30.0, 29.0, 28.0, 27.0, 26.0, 25.0, 24.0, 23.0, 22.0, 21.0, 20.0, 19.0, 18.0, 17.0, 16.0, 15.0, 14.0, 13.0, 12.0, 11.0, 10.0, 9.0, 8.0, 7.0, 6.0, 5.0, 4.0, 3.0, 2.0, 1.0, -5.309000015258789, -5.393799781799316, -5.615699768066406, -5.683000087738037, -5.589200019836426, -5.834099769592285, -5.946499824523926, -5.994699954986572, -5.9141998291015625, -5.162499904632568, -6.022600173950195, -5.535699844360352, -6.161399841308594, -6.165299892425537, -6.1905999183654785, -6.097300052642822, -6.020299911499023, -6.279200077056885, -5.951900005340576, -5.2256999015808105, -5.679800033569336, -6.2204999923706055, -6.310100078582764, -6.178899765014648, -6.353499889373779, -6.394899845123291, -6.418399810791016, -6.437600135803223, -6.404900074005127, -6.31279993057251, -5.13640022277832, -5.423600196838379, -5.619999885559082, -5.478300094604492, -5.6280999183654785, -5.372700214385986, -5.250800132751465, -5.492599964141846, -5.197400093078613, -5.845600128173828, -5.1072998046875, -5.401800155639648, -5.451600074768066, -5.408699989318848, -5.248600006103516, -5.770599842071533, -5.280700206756592, -5.600399971008301, -5.719299793243408, -5.268599987030029, -5.266200065612793, -5.359000205993652, -5.435699939727783, -5.428899765014648, -5.4222002029418945, -5.469900131225586, -5.36329984664917, -5.429200172424316, -5.572299957275391, -5.5904998779296875, -5.070199966430664, -5.2342000007629395, -5.276599884033203, -5.36870002746582, -5.471099853515625, -5.487100124359131, -5.704999923706055, -5.867800235748291, -5.919300079345703, -5.967899799346924, -5.905900001525879, -5.985499858856201, -5.911200046539307, -6.0258002281188965, -6.034299850463867, -6.035399913787842, -4.183700084686279, -6.058300018310547, -6.065700054168701, -6.080900192260742, -6.116399765014648, -6.1219000816345215, -6.1402997970581055, -6.1545000076293945, -6.171199798583984, -6.1921000480651855, -6.202000141143799, -6.23330020904541, -6.296500205993652, -6.354599952697754, -4.5594000816345215, -5.62470006942749, -5.818600177764893, -5.093699932098389, -5.751100063323975, -5.427000045776367, -5.707499980926514, -4.332099914550781, -5.85830020904541, -5.377900123596191, -5.546999931335449, -4.914000034332275, -5.685299873352051, -5.520999908447266, -5.794000148773193, -5.751100063323975, -5.73859977722168, -5.67519998550415, -5.796599864959717, -5.535299777984619, -5.805600166320801, -5.672100067138672, -5.843699932098389, -3.8194000720977783, -5.233500003814697, -5.397900104522705, -5.380199909210205, -5.57480001449585, -5.594099998474121, -5.626800060272217, -5.647299766540527, -5.725800037384033, -5.873700141906738, -5.90310001373291, -5.909900188446045, -5.964700222015381, -5.964700222015381, -5.993000030517578, -6.014900207519531, -6.0157999992370605, -6.046599864959717, -6.0493998527526855, -5.93779993057251, -6.098599910736084, -6.176599979400635, -6.188199996948242, -6.195099830627441, -6.196199893951416, -6.240200042724609, -6.254799842834473, -6.2555999755859375, -6.25629997253418, -6.26800012588501, -5.758999824523926, -5.354599952697754, -5.618899822235107, -5.9633002281188965, -5.874599933624268, -5.128900051116943, -5.240900039672852, -5.809899806976318, -4.375999927520752, -5.786600112915039, -5.8744001388549805, -5.5954999923706055, -5.729700088500977, -5.923799991607666, -5.576099872589111, -5.651100158691406, -5.655200004577637, -5.801199913024902, -5.830699920654297, -4.876500129699707, -4.925000190734863, -4.964700222015381, -5.270500183105469, -5.592299938201904, -5.65310001373291, -5.69789981842041, -5.756999969482422, -5.846199989318848, -5.870699882507324, -5.906099796295166, -5.9166998863220215, -5.977099895477295, -6.000100135803223, -6.0671000480651855, -6.081399917602539, -6.138899803161621, -6.1442999839782715, -6.1645002365112305, -6.223899841308594, -6.228799819946289, -6.287899971008301, -6.3190999031066895, -6.321800231933594, -6.341400146484375, -6.34250020980835, -6.355000019073486, -6.357800006866455, -6.381199836730957, -6.4045000076293945, -6.151299953460693, -5.277200222015381, -4.372600078582764, -6.09660005569458, -5.238999843597412, -3.8104000091552734, -5.614999771118164, -5.397200107574463, -4.664000034332275, -5.263899803161621, -5.789000034332275, -5.8734002113342285, -5.0817999839782715, -5.9415998458862305, -5.112599849700928, -4.993000030517578, -5.657299995422363, -5.195199966430664, -5.8130998611450195, -5.667900085449219, -5.598899841308594, -5.866000175476074, -5.820300102233887, -5.8277997970581055, -4.022299766540527, -5.087699890136719, -5.105800151824951, -4.3130998611450195, -5.156799793243408, -5.244900226593018, -5.325200080871582, -5.457799911499023, -5.465099811553955, -5.46750020980835, -5.533400058746338, -5.5792999267578125, -5.607800006866455, -5.649199962615967, -5.676599979400635, -5.69320011138916, -5.731200218200684, -5.7453999519348145, -5.763899803161621, -5.794400215148926, -5.533199787139893, -5.854300022125244, -5.946899890899658, -6.003300189971924, -6.036099910736084, -6.069200038909912, -6.066500186920166, -6.078800201416016, -6.1057000160217285, -6.107100009918213, -5.714799880981445, -5.740799903869629, -5.599100112915039, -5.382400035858154, -5.350200176239014, -5.541600227355957, -5.867199897766113, -5.478499889373779, -5.674799919128418, -5.709799766540527, -5.730100154876709, -5.2195000648498535, -5.418399810791016, -5.47629976272583, -5.498000144958496, -5.503900051116943, -5.658400058746338, -5.695300102233887, -5.7378997802734375, -5.760900020599365, -5.769700050354004, -5.832699775695801, -5.848999977111816, -5.9116997718811035, -5.940199851989746, -5.947299957275391, -5.953999996185303, -5.963200092315674, -6.017399787902832, -6.052800178527832, -6.069399833679199, -6.0725998878479, -6.100399971008301, -6.105800151824951, -6.126200199127197, -6.146500110626221, -6.144599914550781, -6.142499923706055, -6.154900074005127, -6.159200191497803, -6.1620001792907715, -4.208700180053711, -5.473999977111816, -5.595699787139893, -5.876699924468994, -5.538099765777588, -4.821899890899658, -5.198999881744385, -5.498899936676025, -4.956600189208984, -5.56790018081665, -5.8592000007629395, -5.869699954986572, -5.801799774169922, -5.6956000328063965, -5.76039981842041, -5.928699970245361, -5.902900218963623, -4.711999893188477, -4.803800106048584, -4.941299915313721, -5.029399871826172, -5.253300189971924, -5.368299961090088, -5.44320011138916, -5.253900051116943, -5.585899829864502, -5.656099796295166, -5.668399810791016, -5.676199913024902, -5.684599876403809, -5.771699905395508, -5.937900066375732, -6.024700164794922, -6.027699947357178, -6.079500198364258, -6.0883002281188965, -6.11269998550415, -6.142899990081787, -6.149700164794922, -6.171299934387207, -6.181000232696533, -6.184100151062012, -6.193900108337402, -6.196000099182129, -6.216300010681152, -6.225399971008301, -6.241300106048584, -3.841599941253662, -4.6855998039245605, -4.79449987411499, -5.376399993896484, -4.534900188446045, -4.977099895477295, -5.356200218200684, -5.243199825286865, -4.592899799346924, -5.837399959564209, -5.524499893188477, -5.758200168609619, -5.524600028991699, -5.166100025177002, -5.685200214385986, -5.55049991607666, -5.692800045013428, -5.678199768066406, -4.9558000564575195, -5.033599853515625, -5.242599964141846, -5.34660005569458, -5.522500038146973, -5.633900165557861, -5.646200180053711, -5.688300132751465, -5.720300197601318, -5.866300106048584, -5.913000106811523, -5.954100131988525, -6.032400131225586, -6.044400215148926, -6.052000045776367, -6.055699825286865, -6.055699825286865, -6.063000202178955, -6.064899921417236, -6.088500022888184, -6.122900009155273, -6.126999855041504, -6.149799823760986, -6.152599811553955, -6.175600051879883, -6.182199954986572, -6.188000202178955, -6.191800117492676, -6.223899841308594, -6.227399826049805, -5.430799961090088, -5.781599998474121, -5.546599864959717, -5.150199890136719, -5.962600231170654, -4.227799892425537, -5.7846999168396, -5.644000053405762, -5.458499908447266, -5.493100166320801, -5.7982001304626465, -5.686299800872803, -5.801499843597412, -5.511899948120117, -5.560100078582764, -5.274199962615967, -5.526500225067139, -5.205699920654297, -5.659200191497803, -5.488399982452393, -5.797100067138672, -5.754499912261963, -5.753300189971924, -5.780700206756592, -4.0792999267578125, -4.719399929046631, -5.088900089263916, -5.395299911499023, -5.410900115966797, -5.471399784088135, -5.489999771118164, -5.718100070953369, -5.731299877166748, -5.762499809265137, -5.770599842071533, -5.791100025177002, -5.803899765014648, -5.8343000411987305, -5.839099884033203, -5.85290002822876, -5.861299991607666, -5.907199859619141, -5.880899906158447, -5.915299892425537, -5.920199871063232, -5.952899932861328, -5.957699775695801, -5.963799953460693, -5.9644999504089355, -5.999199867248535, -6.016499996185303, -6.037499904632568, -6.037799835205078, -6.059700012207031, -5.140999794006348, -5.064899921417236, -5.6859002113342285, -5.425300121307373, -5.7993998527526855, -5.798799991607666, -5.90369987487793, -4.5721001625061035, -4.647500038146973, -5.200900077819824, -5.337900161743164, -5.401000022888184, -3.7836999893188477, -5.5304999351501465, -5.586699962615967, -5.626100063323975, -5.656300067901611, -5.813199996948242, -5.818900108337402, -5.8256001472473145, -5.832699775695801, -5.8282999992370605, -5.847099781036377, -5.899700164794922, -5.896100044250488, -5.921800136566162, -5.965099811553955, -6.001699924468994, -6.009099960327148, -6.0254998207092285, -6.0254998207092285, -6.0254998207092285, -6.068299770355225, -6.150100231170654, -6.173299789428711, -6.200399875640869, -6.202099800109863, -6.172900199890137, -4.714700222015381, -5.141300201416016, -5.815199851989746, -5.816400051116943, -5.636099815368652, -4.066800117492676, -5.44920015335083, -5.589600086212158, -5.513999938964844, -5.792399883270264, -5.652500152587891, -5.751399993896484, -5.897299766540527]}, \"token.table\": {\"Topic\": [7, 4, 1, 3, 7, 10, 1, 8, 8, 9, 8, 10, 1, 5, 3, 10, 5, 1, 5, 8, 9, 10, 2, 2, 5, 8, 1, 2, 4, 5, 8, 10, 4, 3, 5, 2, 3, 6, 6, 3, 8, 1, 3, 5, 1, 2, 3, 6, 8, 1, 3, 4, 5, 2, 3, 5, 5, 2, 7, 3, 2, 9, 2, 7, 1, 2, 2, 4, 7, 8, 2, 3, 4, 8, 7, 9, 5, 8, 7, 3, 7, 10, 9, 4, 1, 1, 2, 3, 4, 3, 1, 2, 5, 3, 7, 6, 6, 1, 3, 4, 5, 7, 10, 3, 4, 5, 8, 6, 4, 1, 3, 6, 4, 4, 6, 8, 6, 2, 4, 1, 5, 3, 8, 4, 6, 3, 1, 3, 9, 8, 4, 9, 10, 8, 10, 4, 1, 2, 8, 10, 5, 6, 10, 6, 3, 5, 6, 7, 8, 9, 2, 10, 1, 2, 6, 5, 8, 10, 4, 8, 6, 2, 7, 10, 3, 6, 2, 9, 2, 9, 10, 1, 2, 6, 1, 3, 6, 8, 1, 4, 7, 4, 4, 6, 3, 6, 8, 4, 4, 5, 6, 8, 7, 5, 1, 6, 3, 1, 3, 1, 2, 4, 2, 5, 7, 8, 4, 2, 9, 1, 2, 9, 3, 3, 6, 4, 9, 9, 1, 4, 8, 2, 1, 3, 5, 10, 1, 3, 5, 7, 7, 8, 9, 4, 7, 9, 9, 6, 9, 1, 2, 5, 7, 3, 1, 7, 1, 1, 1, 4, 8, 3, 10, 3, 6, 2, 5, 1, 2, 3, 4, 4, 6, 8, 1, 7, 10, 7, 1, 8, 5, 7, 1, 3, 5, 6, 7, 2, 3, 2, 7, 10, 1, 3, 6, 8, 3, 4, 8, 8, 4, 10, 3, 2, 3, 5, 7, 10, 7, 1, 3, 5, 10, 8, 4, 1, 8, 10, 6, 4, 2, 3, 6, 10, 4, 7, 10, 4, 1, 3, 1, 2, 4, 5, 10, 7, 2, 10, 8, 2, 2, 10, 2, 4, 5, 9, 5, 1, 4, 5, 7, 5, 1, 4, 7, 2, 3, 4, 7, 8, 1, 3, 6, 7, 8, 1, 1, 3, 5, 6, 10, 3, 6, 8, 2, 4, 6, 5, 5, 7, 10, 4, 6, 7, 1, 3, 5, 7, 5, 1, 7, 6, 1, 2, 3, 4, 5, 9, 9, 1, 2, 5, 7, 2, 7, 4, 5, 5, 8, 1, 3, 8, 1, 3, 5, 6, 9, 5, 5, 1, 3, 2, 10, 6, 6, 4, 7, 9, 9, 4, 2, 3, 4, 8, 4, 4, 1, 2, 1, 1, 8, 1, 2, 5, 6, 7, 3, 1, 5, 7, 4, 3, 1, 1, 3, 5, 6, 10, 1, 6, 4, 9, 5, 2, 7, 6, 8, 8, 2, 9, 8, 1, 4, 6, 3, 5, 6, 2, 10, 1, 8, 3, 4, 3, 1, 4, 5, 8, 1, 4, 6, 4, 9, 10, 2, 1, 2, 8, 5, 1, 3, 4, 2, 5, 8, 1, 3, 4, 6, 8, 10, 1, 3, 5, 9, 10, 8, 2, 6, 6, 9, 6, 1, 2, 3, 4, 9, 2, 4, 5, 7, 8, 3, 3, 8, 1, 8, 3, 1, 2, 3, 4, 6, 7, 2, 8, 3, 10, 2, 3, 1, 2, 3, 7, 1, 2, 3, 4, 5, 8, 9, 6, 5, 3, 1, 2, 10, 1, 2, 3, 4, 5, 9, 1, 2, 3, 6, 7, 6, 8, 2, 5, 8, 3, 8, 1, 8, 3, 7, 9, 1, 3, 6, 7, 4, 6, 3, 4, 4, 7, 1, 3, 3, 4, 6, 5, 2, 5, 7, 8, 1, 1, 6, 7, 2, 6, 1, 2, 6, 7, 6, 10, 10, 5, 10, 3, 10, 3, 6, 8, 6, 1, 4, 6, 1, 4, 5, 2, 2, 6, 1, 5, 8, 4, 5, 10, 3, 10, 8, 9, 1, 5, 8, 2, 4, 5, 7, 3, 7, 1, 2, 5, 8, 5, 3, 5, 1, 7, 4, 7, 8, 10, 2, 3, 4, 6, 10, 5, 7, 10, 6, 9, 10, 9, 1, 2, 5, 1, 2, 1, 2, 3, 4, 5, 2, 7, 3, 1, 5, 7, 6, 4, 3, 4, 5, 9, 6, 8, 2, 2, 4, 10, 3, 9, 1, 2, 3, 8, 9, 2, 3, 5, 3, 4, 6, 3, 6, 10, 2, 10, 1, 8, 6, 5, 9, 9, 1, 3, 5, 1, 2, 3, 4, 5, 4, 6, 8, 2, 6, 8, 2, 8, 1, 5, 8, 1, 3, 6, 8, 1, 4, 8, 9, 1, 8, 10, 7, 8, 10, 3, 7, 4, 2, 6, 7, 8, 10, 1, 4, 7, 10, 1, 1, 3, 4, 5], \"Freq\": [0.9591222405433655, 0.96628338098526, 0.995181679725647, 0.0035041607916355133, 0.19549530744552612, 0.7819812297821045, 0.9927167296409607, 0.0038328832015395164, 0.8928008079528809, 0.9499261379241943, 0.9182147979736328, 0.8969213366508484, 0.6591233611106873, 0.3368852734565735, 0.950785219669342, 0.9431151747703552, 0.9626699090003967, 0.9920937418937683, 0.006591985002160072, 0.9234773516654968, 0.9800397753715515, 0.8203672170639038, 0.9517791867256165, 0.98874831199646, 0.9504160284996033, 0.9777620434761047, 0.9810798764228821, 0.006750549655407667, 0.004500366281718016, 0.002250183140859008, 0.004500366281718016, 0.8010549545288086, 0.9606083631515503, 0.8306643962860107, 0.15102989971637726, 0.9258596897125244, 0.06613283604383469, 0.9739802479743958, 0.9582620859146118, 0.8960340619087219, 0.10240388661623001, 0.9813637137413025, 0.0036893372889608145, 0.0110680116340518, 0.996557354927063, 0.1546984761953354, 0.11602386087179184, 0.03867461904883385, 0.6574685573577881, 0.8499162793159485, 0.02786610834300518, 0.12075313180685043, 0.9735656380653381, 0.9378547668457031, 0.058615922927856445, 0.9713579416275024, 0.9774713516235352, 0.9885656237602234, 0.9056228995323181, 0.9677774906158447, 0.9706851243972778, 0.9500415921211243, 0.9372817873954773, 0.9600427746772766, 0.2830449938774109, 0.7076124548912048, 0.5114051103591919, 0.46693506836891174, 0.9644126892089844, 0.8684451580047607, 0.4526316225528717, 0.07300510257482529, 0.27741938829421997, 0.1898132562637329, 0.9592347741127014, 0.9596393704414368, 0.9545748829841614, 0.9024539589881897, 0.8758835196495056, 0.21539735794067383, 0.07179911434650421, 0.6461920738220215, 0.9682679772377014, 0.9793866276741028, 0.9916056990623474, 0.4221271872520447, 0.0392676442861557, 0.1178029328584671, 0.4221271872520447, 0.9572973847389221, 0.8816902041435242, 0.11703851819038391, 0.9626429080963135, 0.9365753531455994, 0.8861596584320068, 0.8960369825363159, 0.9229686260223389, 0.9679933786392212, 0.012253080494701862, 0.00918981060385704, 0.00918981060385704, 0.9825126528739929, 0.9716848134994507, 0.20277735590934753, 0.08111094683408737, 0.648887574672699, 0.08111094683408737, 0.9432790875434875, 0.9641132354736328, 0.9881073236465454, 0.00784212164580822, 0.0026140406262129545, 0.9638658761978149, 0.4127116799354553, 0.5011498928070068, 0.08843822032213211, 0.922056257724762, 0.9655924439430237, 0.9486202001571655, 0.9912382960319519, 0.9531062245368958, 0.9382739067077637, 0.9791993498802185, 0.9427095651626587, 0.9232146143913269, 0.9339821934700012, 0.43336352705955505, 0.23334959149360657, 0.3333565592765808, 0.9682368636131287, 0.8631476759910583, 0.13279195129871368, 0.9456600546836853, 0.7691586017608643, 0.19228965044021606, 0.9530786871910095, 0.8620819449424744, 0.058336369693279266, 0.02592727541923523, 0.05185455083847046, 0.24322155117988586, 0.7296646237373352, 0.8258836269378662, 0.9370251297950745, 0.4715947210788727, 0.13754846155643463, 0.13754846155643463, 0.019649779424071312, 0.23579736053943634, 0.9345985651016235, 0.9109772443771362, 0.07921541482210159, 0.9628769159317017, 0.03364892303943634, 0.002588378731161356, 0.7335012555122375, 0.26027464866638184, 0.8215335607528687, 0.9503155946731567, 0.9567219018936157, 0.963814914226532, 0.6568253636360168, 0.314133882522583, 0.9683504104614258, 0.9766455888748169, 0.9054706692695618, 0.9739349484443665, 0.9565025568008423, 0.9459828734397888, 0.9134001135826111, 0.043495241552591324, 0.6003642678260803, 0.08894284814596176, 0.2890642583370209, 0.9177202582359314, 0.03752759471535683, 0.04093919321894646, 0.0034115994349122047, 0.9946606755256653, 0.0024142249021679163, 0.9336103796958923, 0.9432470798492432, 0.9798285961151123, 0.9795785546302795, 0.9770647883415222, 0.2891848087310791, 0.6940435171127319, 0.9853516817092896, 0.042777229100465775, 0.9410990476608276, 0.3886270821094513, 0.5652757287025452, 0.966019332408905, 0.9609903693199158, 0.9948628544807434, 0.9645324945449829, 0.966858983039856, 0.9920940399169922, 0.004690751899033785, 0.9697847962379456, 0.024707892909646034, 0.0061769732274115086, 0.4404374063014984, 0.15544849634170532, 0.36271315813064575, 0.05181616544723511, 0.95305997133255, 0.9769377708435059, 0.8916054964065552, 0.9904693365097046, 0.004761871881783009, 0.9240910410881042, 0.9635551571846008, 0.9123497009277344, 0.06758145987987518, 0.7697569131851196, 0.22884663939476013, 0.9804698824882507, 0.9951624870300293, 0.3645409345626831, 0.5923790335655212, 0.9297400116920471, 0.9667044878005981, 0.028516355901956558, 0.0028516356833279133, 0.8951592445373535, 0.3011769652366638, 0.48292168974876404, 0.005192706361413002, 0.21290096640586853, 0.9673882722854614, 0.8959354758262634, 0.9424517750740051, 0.4121573865413666, 0.5953384637832642, 0.9291297793388367, 0.9669842720031738, 0.9677163362503052, 0.9072372317314148, 0.4305967688560486, 0.2786214351654053, 0.08865227550268173, 0.2026337832212448, 0.9497817158699036, 0.8418002724647522, 0.14030003547668457, 0.9942473769187927, 0.9928325414657593, 0.2842802405357361, 0.38580891489982605, 0.32489171624183655, 0.9714913964271545, 0.9396116733551025, 0.3841714560985565, 0.6146743297576904, 0.9333316087722778, 0.9694530367851257, 0.9847297072410583, 0.002474195323884487, 0.0074225859716534615, 0.002474195323884487, 0.8606498837471008, 0.12909749150276184, 0.917770504951477, 0.9971215724945068, 0.06261979788541794, 0.9392970204353333, 0.8836461901664734, 0.9928261637687683, 0.8946251273155212, 0.9521963596343994, 0.9336920380592346, 0.5796583890914917, 0.05152519419789314, 0.28338855504989624, 0.02576259709894657, 0.06440649181604385, 0.9262378811836243, 0.9395477771759033, 0.8072732090950012, 0.034352049231529236, 0.15458422899246216, 0.9943919777870178, 0.9435778856277466, 0.10239197313785553, 0.8703317642211914, 0.683556854724884, 0.2330307513475418, 0.0776769146323204, 0.8959322571754456, 0.9789508581161499, 0.8756791353225708, 0.9648417234420776, 0.5874635577201843, 0.15274052321910858, 0.08811952918767929, 0.13511662185192108, 0.029373178258538246, 0.9607047438621521, 0.7675922513008118, 0.010099898092448711, 0.2221977561712265, 0.9338746070861816, 0.8706682324409485, 0.9086405634880066, 0.5832157731056213, 0.417611300945282, 0.8436375856399536, 0.9170510172843933, 0.9227861166000366, 0.26486891508102417, 0.6886591911315918, 0.0353158563375473, 0.9291092753410339, 0.9601647853851318, 0.9662510752677917, 0.9192501306533813, 0.9711769819259644, 0.9909258484840393, 0.006672901567071676, 0.7580320835113525, 0.08569058030843735, 0.13842324912548065, 0.006591583136469126, 0.006591583136469126, 0.9480164647102356, 0.8641511797904968, 0.1178387999534607, 0.9322579503059387, 0.9449970722198486, 0.4317186176776886, 0.5036717057228088, 0.5521935224533081, 0.4417548179626465, 0.8832800388336182, 0.1059936061501503, 0.9717357158660889, 0.6164336204528809, 0.2931818664073944, 0.08269231766462326, 0.8958296775817871, 0.9587498307228088, 0.1008710190653801, 0.03026130422949791, 0.8674907088279724, 0.127826988697052, 0.2191319763660431, 0.10956598818302155, 0.511307954788208, 0.018260998651385307, 0.6122973561286926, 0.07099099457263947, 0.2129729837179184, 0.0532432459294796, 0.0532432459294796, 0.9949849843978882, 0.9930182099342346, 0.0038046676199883223, 0.9526631236076355, 0.49691042304039, 0.4555012285709381, 0.7514985799789429, 0.18787464499473572, 0.037574928253889084, 0.9805119633674622, 0.8702484369277954, 0.13740764558315277, 0.9313223958015442, 0.08999749273061752, 0.832476794719696, 0.067498117685318, 0.9338540434837341, 0.3315260112285614, 0.6435505151748657, 0.5730702877044678, 0.25071823596954346, 0.12535911798477173, 0.044771116226911545, 0.9778645038604736, 0.6763020157814026, 0.31825974583625793, 0.9161700010299683, 0.27223101258277893, 0.06805775314569473, 0.29491692781448364, 0.19283029437065125, 0.17014437913894653, 0.01134295854717493, 0.9048547744750977, 0.9130271673202515, 0.07512249052524567, 0.008667979389429092, 0.8941171765327454, 0.9870189428329468, 0.939940333366394, 0.944353461265564, 0.9936450123786926, 0.9620646834373474, 0.9035643339157104, 0.6864846348762512, 0.11104898899793625, 0.20190724730491638, 0.38045647740364075, 0.08009609580039978, 0.5206246376037598, 0.19377879798412323, 0.7751151919364929, 0.9382832050323486, 0.9667003750801086, 0.791037917137146, 0.20473922789096832, 0.9850647449493408, 0.8803929090499878, 0.9404922127723694, 0.9153388738632202, 0.9353064298629761, 0.9873185157775879, 0.9656394720077515, 0.9682981371879578, 0.9453085064888, 0.5829098224639893, 0.29145491123199463, 0.024287909269332886, 0.07286372780799866, 0.9375, 0.966886043548584, 0.9851567149162292, 0.00834878534078598, 0.9977381229400635, 0.9911342263221741, 0.008810081519186497, 0.9316831827163696, 0.05805740877985954, 0.00552927702665329, 0.787720263004303, 0.17504894733428955, 0.9576329588890076, 0.9956711530685425, 0.9272801876068115, 0.9777503609657288, 0.9601007103919983, 0.960221529006958, 0.9923178553581238, 0.9913657307624817, 0.039194028824567795, 0.7446865439414978, 0.19597013294696808, 0.9325056672096252, 0.7117373943328857, 0.2648325264453888, 0.8934131860733032, 0.07243891060352325, 0.9859705567359924, 0.9549528360366821, 0.9798307418823242, 0.07136527448892593, 0.8563833236694336, 0.8993279933929443, 0.985225260257721, 0.9612614512443542, 0.9650266170501709, 0.3015356957912445, 0.6966513991355896, 0.9199165105819702, 0.807664692401886, 0.1404634267091751, 0.03511585667729378, 0.9838826060295105, 0.7969905734062195, 0.9981600642204285, 0.945938229560852, 0.9817309975624084, 0.9890393614768982, 0.9749413132667542, 0.0515495240688324, 0.9278914332389832, 0.9672660231590271, 0.9590941071510315, 0.16850759088993073, 0.821474552154541, 0.005265862215310335, 0.909532368183136, 0.10084828734397888, 0.806786298751831, 0.9524796605110168, 0.9982852935791016, 0.9245806336402893, 0.8892462849617004, 0.9375663995742798, 0.9764275550842285, 0.018081992864608765, 0.0025831416714936495, 0.8269122242927551, 0.14592568576335907, 0.024320948868989944, 0.9877426028251648, 0.005914626177400351, 0.0029573130887001753, 0.9369379878044128, 0.9387009739875793, 0.9647903442382812, 0.7593748569488525, 0.06791157275438309, 0.1728658229112625, 0.9143444895744324, 0.8436375856399536, 0.8768872022628784, 0.9566685557365417, 0.032988570630550385, 0.9263060092926025, 0.9652580618858337, 0.9289848804473877, 0.7730379700660706, 0.0075052231550216675, 0.0075052231550216675, 0.09006267786026001, 0.12008357048034668, 0.9900290966033936, 0.6326999664306641, 0.24445226788520813, 0.12941591441631317, 0.92924964427948, 0.9332404136657715, 0.9649904370307922, 0.8866272568702698, 0.5832465887069702, 0.4057367444038391, 0.9252956509590149, 0.9963243007659912, 0.42266133427619934, 0.09811780601739883, 0.3622811436653137, 0.01509504672139883, 0.10566533356904984, 0.32687297463417053, 0.6537459492683411, 0.9259755611419678, 0.04025980830192566, 0.9732325673103333, 0.9360369443893433, 0.38084036111831665, 0.03360356017947197, 0.10081068426370621, 0.48165103793144226, 0.8437351584434509, 0.003716894891113043, 0.011150684207677841, 0.044602736830711365, 0.011150684207677841, 0.08177168667316437, 0.9054191708564758, 0.9182422757148743, 0.9541640281677246, 0.9501368403434753, 0.10230402648448944, 0.8525335192680359, 0.8790794610977173, 0.9933143258094788, 0.43673431873321533, 0.07940623909235, 0.37717965245246887, 0.07940623909235, 0.9419859051704407, 0.4478133022785187, 0.022390665486454964, 0.022390665486454964, 0.04478133097290993, 0.4702039659023285, 0.08464318513870239, 0.8464318513870239, 0.6870473623275757, 0.1849742829799652, 0.10569959133863449, 0.8072971105575562, 0.19221359491348267, 0.9895192980766296, 0.9497303366661072, 0.4556238353252411, 0.541053295135498, 0.9541025757789612, 0.8063498735427856, 0.05345965921878815, 0.13364914059638977, 0.9126031398773193, 0.9202362895011902, 0.9316942691802979, 0.08174454420804977, 0.9094080328941345, 0.9814540147781372, 0.9739511013031006, 0.9948941469192505, 0.0040442850440740585, 0.885099470615387, 0.08429519087076187, 0.9662350416183472, 0.9639373421669006, 0.08393455296754837, 0.8813127875328064, 0.9202012419700623, 0.9682725667953491, 0.9929226636886597, 0.9931451678276062, 0.0062461961060762405, 0.9565280675888062, 0.5294433236122131, 0.4479905366897583, 0.4053616225719452, 0.49070093035697937, 0.06400446593761444, 0.04266964644193649, 0.5147221684455872, 0.4718286395072937, 0.9581406116485596, 0.3134380578994751, 0.6838648319244385, 0.9222049117088318, 0.04853710159659386, 0.25875040888786316, 0.37375056743621826, 0.3450005352497101, 0.8919070959091187, 0.5180969834327698, 0.24381034076213837, 0.21333405375480652, 0.7840998768806458, 0.18632076680660248, 0.02329009585082531, 0.9717339873313904, 0.9423442482948303, 0.9073343873023987, 0.9873681664466858, 0.006076111923903227, 0.0030380559619516134, 0.8669120073318481, 0.11821527034044266, 0.9053030610084534, 0.9888767004013062, 0.8436375856399536, 0.9059756398200989, 0.9532917737960815, 0.7033283710479736, 0.019536899402737617, 0.27351659536361694, 0.9440620541572571, 0.8070023059844971, 0.12609410285949707, 0.05043764412403107, 0.9965845942497253, 0.9063679575920105, 0.9737572073936462, 0.021226314827799797, 0.0026532893534749746, 0.0026532893534749746, 0.9815216064453125, 0.011021118611097336, 0.980879545211792, 0.9959703087806702, 0.9129923582077026, 0.16088822484016418, 0.09653293341398239, 0.7400858402252197, 0.8763381242752075, 0.3233526647090912, 0.0497465655207634, 0.6218320727348328, 0.46835562586784363, 0.5203951597213745, 0.9297640323638916, 0.9707288146018982, 0.8314200639724731, 0.03938242420554161, 0.9057957530021667, 0.03938242420554161, 0.9171193838119507, 0.9866063594818115, 0.006385801360011101, 0.006385801360011101, 0.9964341521263123, 0.976276159286499, 0.7163318395614624, 0.03347345069050789, 0.02677875943481922, 0.14058849215507507, 0.0736415907740593, 0.5258249640464783, 0.44279995560646057, 0.9389765858650208, 0.9931493401527405, 0.2901531755924225, 0.696367621421814, 0.9091368317604065, 0.9419097304344177, 0.9593434929847717, 0.1625784933567047, 0.4552197754383087, 0.35767269134521484, 0.9647340774536133, 0.9019830822944641, 0.957645058631897, 0.23701047897338867, 0.3318146765232086, 0.3792167603969574, 0.9726649522781372, 0.8997049927711487, 0.9603208899497986, 0.01584688015282154, 0.01901625469326973, 0.0031693759374320507, 0.89554762840271, 0.41997724771499634, 0.43613022565841675, 0.1292237639427185, 0.08229278028011322, 0.04114639014005661, 0.864074170589447, 0.9393788576126099, 0.9728559255599976, 0.9420526623725891, 0.9670140743255615, 0.9517716765403748, 0.16069358587265015, 0.8034679293632507, 0.9260694980621338, 0.9747475385665894, 0.8958178758621216, 0.9717152118682861, 0.9624810218811035, 0.0030266698449850082, 0.03329337015748024, 0.9628159999847412, 0.007785574067384005, 0.007785574067384005, 0.010380765423178673, 0.007785574067384005, 0.10394658148288727, 0.1559198647737503, 0.7276260852813721, 0.6338936686515808, 0.1267787367105484, 0.23544622957706451, 0.869592010974884, 0.1086990013718605, 0.9833767414093018, 0.012215860188007355, 0.0030539650470018387, 0.5085751414299011, 0.14721910655498505, 0.22752045094966888, 0.10706844925880432, 0.9967626333236694, 0.9358460903167725, 0.9531332850456238, 0.8783215880393982, 0.7952991724014282, 0.02689417451620102, 0.17289112508296967, 0.09388065338134766, 0.1877613067626953, 0.7041049003601074, 0.29908230900764465, 0.7103204727172852, 0.9638165831565857, 0.31081345677375793, 0.07172618806362152, 0.1195436418056488, 0.3586309254169464, 0.1195436418056488, 0.9939731359481812, 0.0025684060528874397, 0.9502375721931458, 0.9414322972297668, 0.9983842968940735, 0.8982802033424377, 0.03278394788503647, 0.045897528529167175, 0.022948764264583588], \"Term\": [\"abc\", \"account\", \"actually\", \"actually\", \"ahead\", \"ahead\", \"always\", \"always\", \"amateur\", \"annoyed\", \"annoying\", \"antipasti\", \"apparently\", \"apparently\", \"appealing\", \"approval\", \"arepas\", \"around\", \"around\", \"array\", \"artichoke\", \"asian\", \"attraction\", \"authentic\", \"awkward\", \"bacaro\", \"back\", \"back\", \"back\", \"back\", \"back\", \"backup\", \"bandwagon\", \"basement\", \"basement\", \"bathroom\", \"bathroom\", \"bay\", \"beauty\", \"beers\", \"beers\", \"better\", \"better\", \"better\", \"big\", \"bigger\", \"bigger\", \"bigger\", \"bigger\", \"bit\", \"bit\", \"bit\", \"blt\", \"blue\", \"blue\", \"boat\", \"bobo\", \"bone\", \"bonus\", \"booze\", \"boulud\", \"box\", \"brasserie\", \"breslin\", \"broth\", \"broth\", \"burgers\", \"burgers\", \"bus\", \"calamari\", \"call\", \"call\", \"call\", \"call\", \"canal\", \"candle\", \"caracas\", \"carbone\", \"cause\", \"ceiling\", \"ceiling\", \"ceiling\", \"cell\", \"chances\", \"cheese\", \"chef\", \"chef\", \"chef\", \"chef\", \"chelsea\", \"chicken\", \"chicken\", \"chinese\", \"chopped\", \"chowder\", \"circa\", \"circumstances\", \"city\", \"city\", \"city\", \"city\", \"clam\", \"clay\", \"club\", \"club\", \"club\", \"club\", \"clubs\", \"combinations\", \"come\", \"come\", \"come\", \"compared\", \"concept\", \"concept\", \"concept\", \"confusion\", \"consists\", \"control\", \"cool\", \"corn\", \"corporate\", \"cozy\", \"craft\", \"craving\", \"cravings\", \"cream\", \"cream\", \"cream\", \"crispo\", \"cuisine\", \"cuisine\", \"cultures\", \"cured\", \"cured\", \"daniel\", \"date\", \"date\", \"date\", \"date\", \"deli\", \"deli\", \"delivered\", \"delivery\", \"destination\", \"destination\", \"destination\", \"destination\", \"destination\", \"digging\", \"dine\", \"dine\", \"dinner\", \"dinner\", \"dinner\", \"dirty\", \"dirty\", \"display\", \"dive\", \"docks\", \"dollar\", \"dollars\", \"dollars\", \"double\", \"downstairs\", \"drawing\", \"drop\", \"dropped\", \"dropping\", \"dudes\", \"dudes\", \"dumplings\", \"dumplings\", \"dumplings\", \"east\", \"east\", \"east\", \"east\", \"eat\", \"eat\", \"efficiency\", \"effort\", \"eleven\", \"emily\", \"enchiladas\", \"enter\", \"enter\", \"enthusiasts\", \"entree\", \"entree\", \"environment\", \"environment\", \"epitome\", \"era\", \"especially\", \"essex\", \"establishments\", \"even\", \"even\", \"every\", \"every\", \"every\", \"expected\", \"expected\", \"expected\", \"expected\", \"expecting\", \"expert\", \"experts\", \"fact\", \"fact\", \"facts\", \"fajitas\", \"fans\", \"fans\", \"fast\", \"fast\", \"fat\", \"favorite\", \"felt\", \"felt\", \"fifteen\", \"find\", \"find\", \"find\", \"first/early\", \"fish\", \"fish\", \"fish\", \"fish\", \"flex\", \"flock\", \"focused\", \"following\", \"following\", \"fort\", \"forty\", \"fountain\", \"frankies\", \"french\", \"french\", \"french\", \"french\", \"frequently\", \"fresh\", \"fresh\", \"friends\", \"full\", \"garden\", \"garden\", \"garden\", \"gari\", \"ginger\", \"girl\", \"girl\", \"glad\", \"god\", \"going\", \"going\", \"going\", \"going\", \"goodness\", \"goodness\", \"grand\", \"great\", \"greek\", \"greek\", \"grew\", \"group\", \"grub\", \"guacamole\", \"hat\", \"head\", \"head\", \"head\", \"head\", \"head\", \"heading\", \"heavily\", \"hell\", \"hell\", \"hell\", \"high\", \"hipster\", \"homey\", \"homey\", \"hour\", \"hour\", \"hour\", \"hurting\", \"hype\", \"hyping\", \"indeed\", \"infatuation\", \"infatuation\", \"infatuation\", \"infatuation\", \"infatuation\", \"inn\", \"instead\", \"instead\", \"instead\", \"internal\", \"irish\", \"issue\", \"italian\", \"italian\", \"j-date\", \"jack\", \"jam\", \"japanese\", \"japanese\", \"japanese\", \"jerk\", \"joe\", \"juice\", \"kept\", \"kest\\u00e9\", \"kind\", \"kind\", \"kitchen\", \"kitchen\", \"kitchen\", \"kitchen\", \"kitchen\", \"ladies\", \"laid\", \"laid\", \"lasagna\", \"lastly\", \"learn\", \"learn\", \"level\", \"level\", \"liked\", \"liked\", \"lindo\", \"line\", \"line\", \"line\", \"lines\", \"lining\", \"lobster\", \"lobster\", \"lobster\", \"local\", \"local\", \"local\", \"local\", \"local\", \"location\", \"location\", \"location\", \"location\", \"location\", \"looking\", \"love\", \"love\", \"loved\", \"luck\", \"luck\", \"lucky\", \"lucky\", \"lucky\", \"macao\", \"machine\", \"machine\", \"mad\", \"madison\", \"madison\", \"madison\", \"mag\", \"man\", \"man\", \"manhattan\", \"manhattan\", \"manhattan\", \"manhattan\", \"margaritas\", \"market\", \"market\", \"material\", \"may\", \"may\", \"may\", \"may\", \"may\", \"may\", \"mayo\", \"meal\", \"meal\", \"meal\", \"meeting\", \"meets\", \"mermaid\", \"mess\", \"mexican\", \"mexico\", \"michael\", \"midtown\", \"midtown\", \"midtown\", \"miss\", \"miss\", \"miss\", \"mistake\", \"mistake\", \"models\", \"mole\", \"money\", \"money\", \"monkey\", \"mono\", \"moral\", \"moves\", \"mozzarella\", \"mussels\", \"mustaches\", \"napkin\", \"neapolitan\", \"nearly\", \"nearly\", \"nearly\", \"nearly\", \"necessarily\", \"necessary\", \"need\", \"need\", \"neighborhood\", \"nice\", \"nice\", \"night\", \"night\", \"night\", \"north\", \"north\", \"note\", \"nothing\", \"noting\", \"novita\", \"offered\", \"omakase\", \"open\", \"opened\", \"operation\", \"operation\", \"operation\", \"organs\", \"original\", \"original\", \"oven\", \"oven\", \"overpriced\", \"overrated\", \"oyster\", \"pack\", \"pack\", \"packs\", \"paella\", \"painted\", \"paradou\", \"park\", \"park\", \"pastrami\", \"patio\", \"patio\", \"patio\", \"patrons\", \"paul\", \"perfect\", \"personally\", \"pianos\", \"pie\", \"pieces\", \"pies\", \"pies\", \"pig\", \"pissed\", \"pizza\", \"pizza\", \"pizza\", \"pleasantly\", \"pocket\", \"pocket\", \"poor\", \"pork\", \"portuguese\", \"posto\", \"prepare\", \"pretty\", \"pretty\", \"pretty\", \"priced\", \"priced\", \"priced\", \"probably\", \"probably\", \"probably\", \"proudly\", \"pub\", \"pylos\", \"quality\", \"quality\", \"quality\", \"queens\", \"rabid\", \"rage\", \"ramen\", \"ramen\", \"ranging\", \"rate\", \"reached\", \"real\", \"real\", \"real\", \"real\", \"real\", \"reasonably\", \"recent\", \"recent\", \"recent\", \"recommendation\", \"record\", \"remain\", \"remembered\", \"reservations\", \"reservations\", \"resist\", \"restaurants\", \"review\", \"review\", \"review\", \"review\", \"review\", \"reviewed\", \"reviewed\", \"reviews\", \"reviews\", \"ribbon\", \"ridiculously\", \"roll\", \"roll\", \"roll\", \"roll\", \"room\", \"room\", \"room\", \"room\", \"room\", \"room\", \"routinely\", \"ruby\", \"rush\", \"safe\", \"sat\", \"sat\", \"satisfy\", \"say\", \"scene\", \"scene\", \"scene\", \"scene\", \"scoop\", \"seafood\", \"seafood\", \"seafood\", \"seafood\", \"seafood\", \"seasonal\", \"seasonal\", \"secret\", \"secret\", \"secret\", \"seriously\", \"seriously\", \"serve\", \"sfoglia\", \"shack\", \"shack\", \"sicilian\", \"side\", \"side\", \"side\", \"sight\", \"skin\", \"sleep\", \"slice\", \"slice\", \"slices\", \"slop\", \"small\", \"small\", \"smart\", \"smart\", \"smith\", \"smoke\", \"smoked\", \"smoked\", \"snack\", \"socarrat\", \"solid\", \"something\", \"something\", \"sophisticated\", \"sorry\", \"sorry\", \"soup\", \"soup\", \"soup\", \"soup\", \"southern\", \"southern\", \"spaniard\", \"spanish\", \"spanish\", \"speaking\", \"speaking\", \"sports\", \"sports\", \"sports\", \"spruce\", \"square\", \"square\", \"square\", \"staff\", \"staff\", \"staff\", \"staple\", \"stars\", \"statue\", \"still\", \"still\", \"still\", \"stone\", \"stone\", \"stretch\", \"strike\", \"striking\", \"stumbled\", \"stupid\", \"summer\", \"summer\", \"summer\", \"suppose\", \"surprised\", \"surprised\", \"surprised\", \"sushi\", \"syrup\", \"table\", \"table\", \"table\", \"table\", \"taco\", \"tacos\", \"tacos\", \"take\", \"tall\", \"tap\", \"tap\", \"tap\", \"tapas\", \"tasting\", \"tasting\", \"tasting\", \"ten\", \"ten\", \"tequila\", \"territory\", \"terroir\", \"thai\", \"thai\", \"thai\", \"thank\", \"thing\", \"thing\", \"thing\", \"think\", \"thirty\", \"three\", \"three\", \"three\", \"three\", \"three\", \"throw\", \"throw\", \"tier\", \"times\", \"toast\", \"toast\", \"toilet\", \"toppings\", \"toro\", \"totally\", \"totally\", \"totally\", \"totto\", \"townhouse\", \"trading\", \"trips\", \"trips\", \"trips\", \"tuna\", \"tuscan\", \"two\", \"two\", \"two\", \"two\", \"unfinished\", \"unfortunately\", \"unfortunately\", \"unfortunately\", \"upper\", \"upper\", \"upper\", \"using\", \"uws\", \"vara\", \"via\", \"vinegar\", \"vintage\", \"vintage\", \"visited\", \"waiter\", \"walker\", \"walter\", \"want\", \"want\", \"want\", \"way\", \"way\", \"way\", \"way\", \"way\", \"weather\", \"weather\", \"weather\", \"week\", \"week\", \"week\", \"weekday\", \"weekday\", \"well\", \"well\", \"well\", \"west\", \"west\", \"west\", \"west\", \"whole\", \"whose\", \"wife\", \"wildly\", \"wine\", \"wine\", \"wine\", \"wines\", \"wines\", \"wines\", \"wings\", \"wings\", \"wise\", \"word\", \"word\", \"word\", \"word\", \"word\", \"would\", \"would\", \"written\", \"yard\", \"years\", \"york\", \"york\", \"york\", \"york\"]}, \"R\": 30, \"lambda.step\": 0.01, \"plot.opts\": {\"xlab\": \"PC1\", \"ylab\": \"PC2\"}, \"topic.order\": [9, 3, 4, 8, 7, 1, 5, 10, 2, 6]};\n",
       "\n",
       "function LDAvis_load_lib(url, callback){\n",
       "  var s = document.createElement('script');\n",
       "  s.src = url;\n",
       "  s.async = true;\n",
       "  s.onreadystatechange = s.onload = callback;\n",
       "  s.onerror = function(){console.warn(\"failed to load library \" + url);};\n",
       "  document.getElementsByTagName(\"head\")[0].appendChild(s);\n",
       "}\n",
       "\n",
       "if(typeof(LDAvis) !== \"undefined\"){\n",
       "   // already loaded: just create the visualization\n",
       "   !function(LDAvis){\n",
       "       new LDAvis(\"#\" + \"ldavis_el3393851432348644779074244\", ldavis_el3393851432348644779074244_data);\n",
       "   }(LDAvis);\n",
       "}else if(typeof define === \"function\" && define.amd){\n",
       "   // require.js is available: use it to load d3/LDAvis\n",
       "   require.config({paths: {d3: \"https://cdnjs.cloudflare.com/ajax/libs/d3/3.5.5/d3.min\"}});\n",
       "   require([\"d3\"], function(d3){\n",
       "      window.d3 = d3;\n",
       "      LDAvis_load_lib(\"https://cdn.rawgit.com/bmabey/pyLDAvis/files/ldavis.v1.0.0.js\", function(){\n",
       "        new LDAvis(\"#\" + \"ldavis_el3393851432348644779074244\", ldavis_el3393851432348644779074244_data);\n",
       "      });\n",
       "    });\n",
       "}else{\n",
       "    // require.js not available: dynamically load d3 & LDAvis\n",
       "    LDAvis_load_lib(\"https://cdnjs.cloudflare.com/ajax/libs/d3/3.5.5/d3.min.js\", function(){\n",
       "         LDAvis_load_lib(\"https://cdn.rawgit.com/bmabey/pyLDAvis/files/ldavis.v1.0.0.js\", function(){\n",
       "                 new LDAvis(\"#\" + \"ldavis_el3393851432348644779074244\", ldavis_el3393851432348644779074244_data);\n",
       "            })\n",
       "         });\n",
       "}\n",
       "</script>"
      ],
      "text/plain": [
       "PreparedData(topic_coordinates=              x         y  topics  cluster       Freq\n",
       "topic                                                \n",
       "8     -0.392408 -0.027772       1        1  60.439526\n",
       "2     -0.019679  0.112100       2        1   6.407737\n",
       "3     -0.020006 -0.067285       3        1   6.188737\n",
       "7     -0.025695  0.256263       4        1   5.925544\n",
       "6     -0.029729 -0.180449       5        1   5.574983\n",
       "0      0.090324 -0.024359       6        1   3.584660\n",
       "4      0.093554 -0.002666       7        1   3.358418\n",
       "9      0.078027 -0.026721       8        1   3.321003\n",
       "1      0.120266 -0.010924       9        1   2.998593\n",
       "5      0.105346 -0.028188      10        1   2.200799, topic_info=      Category        Freq         Term       Total  loglift  logprob\n",
       "term                                                                 \n",
       "303    Default  260.000000         wine  260.000000  30.0000  30.0000\n",
       "118    Default  189.000000        pizza  189.000000  29.0000  29.0000\n",
       "285    Default  162.000000        sushi  162.000000  28.0000  28.0000\n",
       "216    Default  192.000000         fish  192.000000  27.0000  27.0000\n",
       "1673   Default  138.000000      italian  138.000000  26.0000  26.0000\n",
       "139    Default  224.000000         side  224.000000  25.0000  25.0000\n",
       "2338   Default  119.000000      mexican  119.000000  24.0000  24.0000\n",
       "3243   Default   99.000000      lobster   99.000000  23.0000  23.0000\n",
       "880    Default  121.000000        ramen  121.000000  22.0000  22.0000\n",
       "268    Default  269.000000         room  269.000000  21.0000  21.0000\n",
       "4120   Default  170.000000  infatuation  170.000000  20.0000  20.0000\n",
       "177    Default  149.000000         west  149.000000  19.0000  19.0000\n",
       "618    Default   90.000000        tacos   90.000000  18.0000  18.0000\n",
       "1261   Default  256.000000      chicken  256.000000  17.0000  17.0000\n",
       "143    Default   97.000000        slice   97.000000  16.0000  16.0000\n",
       "111    Default   96.000000         park   96.000000  15.0000  15.0000\n",
       "1092   Default   63.000000        greek   63.000000  14.0000  14.0000\n",
       "3178   Default   89.000000         roll   89.000000  13.0000  13.0000\n",
       "1175   Default  293.000000         east  293.000000  12.0000  12.0000\n",
       "487    Default  154.000000         date  154.000000  11.0000  11.0000\n",
       "170    Default   72.000000        upper   72.000000  10.0000  10.0000\n",
       "129    Default  133.000000         real  133.000000   9.0000   9.0000\n",
       "6846   Default   61.000000    artichoke   61.000000   8.0000   8.0000\n",
       "929    Default   85.000000         blue   85.000000   7.0000   7.0000\n",
       "233    Default  346.000000         meal  346.000000   6.0000   6.0000\n",
       "721    Default  133.000000         line  133.000000   5.0000   5.0000\n",
       "1436   Default  132.000000       review  132.000000   4.0000   4.0000\n",
       "13     Default  215.000000          bit  215.000000   3.0000   3.0000\n",
       "399    Default  161.000000      quality  161.000000   2.0000   2.0000\n",
       "4045   Default   99.000000      midtown   99.000000   1.0000   1.0000\n",
       "...        ...         ...          ...         ...      ...      ...\n",
       "2294   Topic10    7.718273         yard    8.497690   3.7201  -5.8283\n",
       "4024   Topic10    7.574675     spaniard    8.349505   3.7190  -5.8471\n",
       "2528   Topic10    7.186758      satisfy    7.962875   3.7138  -5.8997\n",
       "12969  Topic10    7.212689       hyping    7.993795   3.7135  -5.8961\n",
       "1645   Topic10    7.029486    antipasti    7.804475   3.7118  -5.9218\n",
       "9540   Topic10    6.731520       organs    7.506657   3.7074  -5.9651\n",
       "2482   Topic10    6.489884    delivered    7.264946   3.7035  -6.0017\n",
       "7674   Topic10    6.441993      terroir    7.216568   3.7028  -6.0091\n",
       "14913  Topic10    6.337344     striking    7.112059   3.7010  -6.0255\n",
       "14910  Topic10    6.337344       j-date    7.112059   3.7010  -6.0255\n",
       "14912  Topic10    6.337344        rabid    7.112059   3.7010  -6.0255\n",
       "2176   Topic10    6.071841        tapas    6.846673   3.6962  -6.0683\n",
       "638    Topic10    5.594493         vara    6.369071   3.6867  -6.1501\n",
       "3047   Topic10    5.466370       backup    6.241769   3.6837  -6.1733\n",
       "658    Topic10    5.320103        asian    6.094831   3.6804  -6.2004\n",
       "5528   Topic10    5.311445      display    6.086179   3.6802  -6.2021\n",
       "5849   Topic10    5.468539         paul    6.273600   3.6790  -6.1729\n",
       "608    Topic10   23.504986      spanish   35.094654   3.4155  -4.7147\n",
       "644    Topic10   15.342564        wines   21.303644   3.4881  -5.1413\n",
       "5820   Topic10    7.820121       pocket    9.915885   3.5789  -5.8152\n",
       "2594   Topic10    7.811192        ahead   10.230425   3.5465  -5.8164\n",
       "2139   Topic10    9.354470      ceiling   13.927748   3.4183  -5.6361\n",
       "303    Topic10   44.931786         wine  260.279419   2.0597  -4.0668\n",
       "1529   Topic10   11.276636         luck   24.149221   3.0548  -5.4492\n",
       "4029   Topic10    9.799162          ten   19.216167   3.1429  -5.5896\n",
       "3369   Topic10   10.568414     southern   23.313549   3.0252  -5.5140\n",
       "295    Topic10    8.000760        trips   21.096113   2.8468  -5.7924\n",
       "1394   Topic10    9.201801         hell   58.220688   1.9715  -5.6525\n",
       "487    Topic10    8.335786         date  154.277679   0.8982  -5.7514\n",
       "3491   Topic10    7.203923        learn   13.897942   3.1592  -5.8973\n",
       "\n",
       "[517 rows x 6 columns], token_table=       Topic      Freq        Term\n",
       "term                              \n",
       "6110       7  0.959122         abc\n",
       "2508       4  0.966283     account\n",
       "652        1  0.995182    actually\n",
       "652        3  0.003504    actually\n",
       "2594       7  0.195495       ahead\n",
       "2594      10  0.781981       ahead\n",
       "1          1  0.992717      always\n",
       "1          8  0.003833      always\n",
       "8650       8  0.892801     amateur\n",
       "2369       9  0.949926     annoyed\n",
       "4474       8  0.918215    annoying\n",
       "1645      10  0.896921   antipasti\n",
       "3190       1  0.659123  apparently\n",
       "3190       5  0.336885  apparently\n",
       "6277       3  0.950785   appealing\n",
       "11445     10  0.943115    approval\n",
       "12704      5  0.962670      arepas\n",
       "5          1  0.992094      around\n",
       "5          5  0.006592      around\n",
       "13129      8  0.923477       array\n",
       "6846       9  0.980040   artichoke\n",
       "658       10  0.820367       asian\n",
       "6          2  0.951779  attraction\n",
       "4916       2  0.988748   authentic\n",
       "6911       5  0.950416     awkward\n",
       "14790      8  0.977762      bacaro\n",
       "189        1  0.981080        back\n",
       "189        2  0.006751        back\n",
       "189        4  0.004500        back\n",
       "189        5  0.002250        back\n",
       "...      ...       ...         ...\n",
       "177        3  0.147219        west\n",
       "177        6  0.227520        west\n",
       "177        8  0.107068        west\n",
       "178        1  0.996763       whole\n",
       "1559       4  0.935846       whose\n",
       "5262       8  0.953133        wife\n",
       "6532       9  0.878322      wildly\n",
       "303        1  0.795299        wine\n",
       "303        8  0.026894        wine\n",
       "303       10  0.172891        wine\n",
       "644        7  0.093881       wines\n",
       "644        8  0.187761       wines\n",
       "644       10  0.704105       wines\n",
       "2734       3  0.299082       wings\n",
       "2734       7  0.710320       wings\n",
       "8309       4  0.963817        wise\n",
       "2042       2  0.310813        word\n",
       "2042       6  0.071726        word\n",
       "2042       7  0.119544        word\n",
       "2042       8  0.358631        word\n",
       "2042      10  0.119544        word\n",
       "181        1  0.993973       would\n",
       "181        4  0.002568       would\n",
       "3476       7  0.950238     written\n",
       "2294      10  0.941432        yard\n",
       "2191       1  0.998384       years\n",
       "448        1  0.898280        york\n",
       "448        3  0.032784        york\n",
       "448        4  0.045898        york\n",
       "448        5  0.022949        york\n",
       "\n",
       "[776 rows x 3 columns], R=30, lambda_step=0.01, plot_opts={'xlab': 'PC1', 'ylab': 'PC2'}, topic_order=[9, 3, 4, 8, 7, 1, 5, 10, 2, 6])"
      ]
     },
     "execution_count": 75,
     "metadata": {},
     "output_type": "execute_result"
    }
   ],
   "source": [
    "vis_2 = pyLDAvis.gensim.prepare(lda_model_2, corpus_2, dictionary_2)\n",
    "vis_2"
   ]
  },
  {
   "cell_type": "code",
   "execution_count": 76,
   "metadata": {},
   "outputs": [
    {
     "name": "stdout",
     "output_type": "stream",
     "text": [
      "\n",
      "Perplexity:  -8.571635675060161\n",
      "\n",
      "Coherence Score:  0.3576156410974661\n"
     ]
    }
   ],
   "source": [
    "#Try with 5 topics but the same data\n",
    "# Build the LDA model\n",
    "lda_model_3 = models.LdaModel(corpus=corpus_2, \n",
    "                            num_topics=5, #5 Topics\n",
    "                            id2word=dictionary_2,\n",
    "                            random_state=100,\n",
    "                            update_every=1,\n",
    "                            chunksize=100,\n",
    "                            passes=10,\n",
    "                            alpha='auto',\n",
    "                            per_word_topics=True)\n",
    "\n",
    "# Compute Perplexity\n",
    "print('\\nPerplexity: ', lda_model_3.log_perplexity(corpus_2))  # a measure of how good the model is. lower the better.\n",
    "\n",
    "# Compute Coherence Score\n",
    "coherence_model_lda_3 = CoherenceModel(model=lda_model_3, texts=cleaned_tokens_2, dictionary=dictionary_2, coherence='c_v')\n",
    "coherence_lda_3 = coherence_model_lda_3.get_coherence()\n",
    "print('\\nCoherence Score: ', coherence_lda_3)"
   ]
  },
  {
   "cell_type": "code",
   "execution_count": 78,
   "metadata": {},
   "outputs": [
    {
     "name": "stderr",
     "output_type": "stream",
     "text": [
      "/Users/edithiyerhernandez/anaconda3/lib/python3.6/site-packages/pyLDAvis/_prepare.py:257: FutureWarning: Sorting because non-concatenation axis is not aligned. A future version\n",
      "of pandas will change to not sort by default.\n",
      "\n",
      "To accept the future behavior, pass 'sort=False'.\n",
      "\n",
      "To retain the current behavior and silence the warning, pass 'sort=True'.\n",
      "\n",
      "  return pd.concat([default_term_info] + list(topic_dfs))\n"
     ]
    },
    {
     "data": {
      "text/html": [
       "\n",
       "<link rel=\"stylesheet\" type=\"text/css\" href=\"https://cdn.rawgit.com/bmabey/pyLDAvis/files/ldavis.v1.0.0.css\">\n",
       "\n",
       "\n",
       "<div id=\"ldavis_el3393848691768007842936698\"></div>\n",
       "<script type=\"text/javascript\">\n",
       "\n",
       "var ldavis_el3393848691768007842936698_data = {\"mdsDat\": {\"x\": [-0.22890201902689, -0.09079229986204185, -0.056626799267309735, 0.2039445811034208, 0.1723765370528208], \"y\": [0.05559464932875838, -0.13404951647705937, 0.07242321093084389, 0.11456022402014161, -0.10852856780268456], \"topics\": [1, 2, 3, 4, 5], \"cluster\": [1, 1, 1, 1, 1], \"Freq\": [57.198787689208984, 16.57018280029297, 15.686284065246582, 5.731857776641846, 4.812886714935303]}, \"tinfo\": {\"Category\": [\"Default\", \"Default\", \"Default\", \"Default\", \"Default\", \"Default\", \"Default\", \"Default\", \"Default\", \"Default\", \"Default\", \"Default\", \"Default\", \"Default\", \"Default\", \"Default\", \"Default\", \"Default\", \"Default\", \"Default\", \"Default\", \"Default\", \"Default\", \"Default\", \"Default\", \"Default\", \"Default\", \"Default\", \"Default\", \"Default\", \"Topic1\", \"Topic1\", \"Topic1\", \"Topic1\", \"Topic1\", \"Topic1\", \"Topic1\", \"Topic1\", \"Topic1\", \"Topic1\", \"Topic1\", \"Topic1\", \"Topic1\", \"Topic1\", \"Topic1\", \"Topic1\", \"Topic1\", \"Topic1\", \"Topic1\", \"Topic1\", \"Topic1\", \"Topic1\", \"Topic1\", \"Topic1\", \"Topic1\", \"Topic1\", \"Topic1\", \"Topic1\", \"Topic1\", \"Topic1\", \"Topic1\", \"Topic1\", \"Topic1\", \"Topic1\", \"Topic1\", \"Topic1\", \"Topic1\", \"Topic1\", \"Topic1\", \"Topic1\", \"Topic1\", \"Topic1\", \"Topic1\", \"Topic1\", \"Topic1\", \"Topic1\", \"Topic1\", \"Topic1\", \"Topic1\", \"Topic1\", \"Topic1\", \"Topic1\", \"Topic1\", \"Topic1\", \"Topic1\", \"Topic1\", \"Topic1\", \"Topic1\", \"Topic1\", \"Topic1\", \"Topic1\", \"Topic1\", \"Topic1\", \"Topic1\", \"Topic1\", \"Topic1\", \"Topic1\", \"Topic1\", \"Topic1\", \"Topic1\", \"Topic1\", \"Topic1\", \"Topic1\", \"Topic1\", \"Topic1\", \"Topic1\", \"Topic1\", \"Topic1\", \"Topic1\", \"Topic1\", \"Topic1\", \"Topic2\", \"Topic2\", \"Topic2\", \"Topic2\", \"Topic2\", \"Topic2\", \"Topic2\", \"Topic2\", \"Topic2\", \"Topic2\", \"Topic2\", \"Topic2\", \"Topic2\", \"Topic2\", \"Topic2\", \"Topic2\", \"Topic2\", \"Topic2\", \"Topic2\", \"Topic2\", \"Topic2\", \"Topic2\", \"Topic2\", \"Topic2\", \"Topic2\", \"Topic2\", \"Topic2\", \"Topic2\", \"Topic2\", \"Topic2\", \"Topic2\", \"Topic2\", \"Topic2\", \"Topic2\", \"Topic2\", \"Topic2\", \"Topic2\", \"Topic2\", \"Topic2\", \"Topic2\", \"Topic2\", \"Topic2\", \"Topic2\", \"Topic2\", \"Topic2\", \"Topic2\", \"Topic2\", \"Topic2\", \"Topic2\", \"Topic2\", \"Topic2\", \"Topic2\", \"Topic2\", \"Topic2\", \"Topic2\", \"Topic2\", \"Topic2\", \"Topic2\", \"Topic2\", \"Topic2\", \"Topic2\", \"Topic2\", \"Topic2\", \"Topic2\", \"Topic2\", \"Topic2\", \"Topic3\", \"Topic3\", \"Topic3\", \"Topic3\", \"Topic3\", \"Topic3\", \"Topic3\", \"Topic3\", \"Topic3\", \"Topic3\", \"Topic3\", \"Topic3\", \"Topic3\", \"Topic3\", \"Topic3\", \"Topic3\", \"Topic3\", \"Topic3\", \"Topic3\", \"Topic3\", \"Topic3\", \"Topic3\", \"Topic3\", \"Topic3\", \"Topic3\", \"Topic3\", \"Topic3\", \"Topic3\", \"Topic3\", \"Topic3\", \"Topic3\", \"Topic3\", \"Topic3\", \"Topic3\", \"Topic3\", \"Topic3\", \"Topic3\", \"Topic3\", \"Topic3\", \"Topic3\", \"Topic3\", \"Topic3\", \"Topic3\", \"Topic3\", \"Topic3\", \"Topic3\", \"Topic3\", \"Topic3\", \"Topic3\", \"Topic3\", \"Topic3\", \"Topic3\", \"Topic3\", \"Topic3\", \"Topic3\", \"Topic3\", \"Topic3\", \"Topic4\", \"Topic4\", \"Topic4\", \"Topic4\", \"Topic4\", \"Topic4\", \"Topic4\", \"Topic4\", \"Topic4\", \"Topic4\", \"Topic4\", \"Topic4\", \"Topic4\", \"Topic4\", \"Topic4\", \"Topic4\", \"Topic4\", \"Topic4\", \"Topic4\", \"Topic4\", \"Topic4\", \"Topic4\", \"Topic4\", \"Topic4\", \"Topic4\", \"Topic4\", \"Topic4\", \"Topic4\", \"Topic4\", \"Topic4\", \"Topic4\", \"Topic4\", \"Topic4\", \"Topic4\", \"Topic4\", \"Topic4\", \"Topic4\", \"Topic4\", \"Topic4\", \"Topic4\", \"Topic4\", \"Topic4\", \"Topic4\", \"Topic4\", \"Topic4\", \"Topic4\", \"Topic5\", \"Topic5\", \"Topic5\", \"Topic5\", \"Topic5\", \"Topic5\", \"Topic5\", \"Topic5\", \"Topic5\", \"Topic5\", \"Topic5\", \"Topic5\", \"Topic5\", \"Topic5\", \"Topic5\", \"Topic5\", \"Topic5\", \"Topic5\", \"Topic5\", \"Topic5\", \"Topic5\", \"Topic5\", \"Topic5\", \"Topic5\", \"Topic5\", \"Topic5\", \"Topic5\", \"Topic5\", \"Topic5\", \"Topic5\", \"Topic5\", \"Topic5\", \"Topic5\", \"Topic5\", \"Topic5\", \"Topic5\", \"Topic5\", \"Topic5\", \"Topic5\", \"Topic5\", \"Topic5\", \"Topic5\", \"Topic5\", \"Topic5\", \"Topic5\", \"Topic5\", \"Topic5\", \"Topic5\", \"Topic5\"], \"Freq\": [188.0, 110.0, 169.0, 104.0, 81.0, 164.0, 87.0, 217.0, 94.0, 229.0, 80.0, 50.0, 78.0, 159.0, 111.0, 48.0, 93.0, 322.0, 86.0, 82.0, 36.0, 60.0, 420.0, 180.0, 107.0, 57.0, 55.0, 283.0, 143.0, 169.0, 156.59976196289062, 113.7539291381836, 115.26177215576172, 96.78744506835938, 180.26858520507812, 131.5261688232422, 76.10076904296875, 71.95938110351562, 87.13665008544922, 165.17306518554688, 62.910888671875, 62.92970657348633, 95.46675109863281, 63.11701583862305, 59.84290313720703, 59.79093551635742, 57.26084518432617, 57.147430419921875, 55.808265686035156, 54.550018310546875, 53.7455940246582, 53.63187789916992, 52.514217376708984, 51.26552200317383, 73.74993896484375, 57.565765380859375, 48.406227111816406, 50.85426330566406, 56.174869537353516, 48.75801086425781, 200.973876953125, 68.90470123291016, 74.3447265625, 152.099365234375, 265.830810546875, 153.54403686523438, 90.69002532958984, 118.90422821044922, 88.50045013427734, 192.80783081054688, 146.93589782714844, 133.9706573486328, 85.17626190185547, 293.38323974609375, 148.37484741210938, 337.01263427734375, 261.8626403808594, 133.9669647216797, 139.22259521484375, 379.49371337890625, 323.8409423828125, 228.5487823486328, 261.766845703125, 279.9127502441406, 141.36021423339844, 167.80091857910156, 277.74298095703125, 210.23719787597656, 297.39501953125, 271.3135070800781, 154.66122436523438, 323.8310546875, 303.2508239746094, 306.6344909667969, 197.2548370361328, 319.2153625488281, 262.625244140625, 255.8177032470703, 192.12782287597656, 239.63429260253906, 280.8700256347656, 231.7081756591797, 223.64353942871094, 254.85125732421875, 277.8377685546875, 256.94793701171875, 259.4836730957031, 217.07052612304688, 226.92605590820312, 222.16860961914062, 222.15196228027344, 59.52732467651367, 56.71928024291992, 50.73945999145508, 48.93280029296875, 42.7933464050293, 40.794673919677734, 39.32310485839844, 37.65736389160156, 31.70842933654785, 25.701244354248047, 25.26195526123047, 24.242948532104492, 28.520776748657227, 23.121814727783203, 24.14446449279785, 23.551834106445312, 26.226964950561523, 22.66385841369629, 22.126056671142578, 22.043031692504883, 21.287893295288086, 21.783733367919922, 20.716238021850586, 21.29875946044922, 18.944467544555664, 18.786968231201172, 17.784887313842773, 17.787750244140625, 16.919363021850586, 16.83468246459961, 42.533660888671875, 33.40299606323242, 30.5360050201416, 41.344444274902344, 40.35097885131836, 25.788253784179688, 67.6085205078125, 110.5857925415039, 61.556949615478516, 61.42266845703125, 28.236648559570312, 27.6971435546875, 70.2276382446289, 54.74427795410156, 39.4196662902832, 57.09293746948242, 66.08840942382812, 40.89672088623047, 79.07360076904297, 81.99248504638672, 45.10675048828125, 36.88137435913086, 63.89476776123047, 52.19471740722656, 46.090606689453125, 39.6770133972168, 39.82748031616211, 47.51237106323242, 47.40877151489258, 44.09587860107422, 47.73768997192383, 43.37836837768555, 45.74578857421875, 43.377769470214844, 41.52803039550781, 41.560855865478516, 168.5876922607422, 93.608642578125, 79.7640151977539, 54.49694061279297, 51.31861114501953, 46.99379348754883, 40.92680740356445, 41.05198669433594, 40.9680061340332, 40.622352600097656, 35.537654876708984, 33.48195266723633, 31.743135452270508, 34.97014236450195, 30.14173698425293, 29.214067459106445, 28.086626052856445, 27.180131912231445, 27.568857192993164, 26.09061622619629, 27.53133201599121, 21.043699264526367, 21.04656410217285, 20.903257369995117, 20.23590850830078, 18.83266258239746, 18.8411865234375, 26.741737365722656, 18.394214630126953, 18.300968170166016, 18.727218627929688, 21.20987892150879, 68.01250457763672, 27.811559677124023, 28.822845458984375, 122.2972183227539, 65.82887268066406, 47.91252517700195, 42.14170837402344, 34.62197494506836, 90.7239761352539, 63.377376556396484, 46.77474594116211, 63.7689208984375, 46.780731201171875, 48.663082122802734, 49.751304626464844, 37.9119873046875, 58.3602294921875, 38.8073844909668, 50.003684997558594, 43.13080978393555, 45.17788314819336, 42.626827239990234, 39.474788665771484, 38.49913024902344, 38.56153869628906, 103.91476440429688, 50.02340316772461, 35.84832000732422, 31.673507690429688, 25.539817810058594, 24.541250228881836, 22.98133659362793, 26.32326316833496, 21.324399948120117, 20.4762020111084, 19.920337677001953, 15.434525489807129, 14.886528015136719, 13.469484329223633, 12.776747703552246, 12.984018325805664, 14.034932136535645, 12.469985961914062, 11.951359748840332, 12.89841079711914, 10.417318344116211, 10.201279640197754, 10.071377754211426, 9.629049301147461, 9.852487564086914, 10.22692584991455, 9.490194320678711, 9.279945373535156, 8.92701244354248, 9.236052513122559, 73.45362091064453, 26.754596710205078, 29.595510482788086, 68.08486938476562, 38.68773651123047, 14.895574569702148, 83.82536315917969, 12.347065925598145, 14.225278854370117, 19.641319274902344, 16.393217086791992, 16.763715744018555, 15.212578773498535, 14.84306526184082, 13.018729209899902, 13.23533821105957, 18.994190216064453, 16.323772430419922, 15.406140327453613, 15.846561431884766, 15.035035133361816, 13.528151512145996, 13.972168922424316, 11.40185260772705, 103.9174575805664, 13.533817291259766, 10.813036918640137, 9.901373863220215, 9.697617530822754, 13.8052978515625, 9.226524353027344, 9.548330307006836, 8.777887344360352, 8.983413696289062, 9.434182167053223, 9.554032325744629, 8.290200233459473, 8.374320030212402, 8.28686809539795, 8.61575698852539, 8.5142183303833, 8.221393585205078, 8.057283401489258, 7.665985584259033, 7.8502421379089355, 7.740897178649902, 17.51567840576172, 25.51201057434082, 18.556472778320312, 12.173418045043945, 19.56597328186035, 11.586383819580078, 11.796793937683105, 13.724116325378418, 14.121834754943848, 9.747647285461426, 10.883450508117676, 12.001599311828613, 22.90454864501953, 11.112448692321777, 12.246180534362793, 12.529901504516602, 10.937860488891602, 10.366134643554688, 9.994209289550781], \"Term\": [\"pizza\", \"ramen\", \"sushi\", \"mexican\", \"tacos\", \"pork\", \"slice\", \"fish\", \"midtown\", \"chicken\", \"bbq\", \"artichoke\", \"style\", \"dining\", \"sandwich\", \"pie\", \"blue\", \"meal\", \"cheap\", \"upper\", \"taco\", \"eleven\", \"back\", \"got\", \"park\", \"madison\", \"rice\", \"thing\", \"experience\", \"burger\", \"italian\", \"pasta\", \"hang\", \"greek\", \"since\", \"brunch\", \"cafe\", \"man\", \"matter\", \"years\", \"hanging\", \"atmosphere\", \"fresh\", \"walls\", \"help\", \"packed\", \"bottle\", \"dirty\", \"oyster\", \"early\", \"pastas\", \"become\", \"crowded\", \"guess\", \"lower\", \"avenue\", \"twenty\", \"authentic\", \"communal\", \"macao\", \"town\", \"week\", \"crowd\", \"date\", \"wine\", \"drink\", \"tiny\", \"drinks\", \"vibe\", \"neighborhood\", \"tables\", \"last\", \"head\", \"still\", \"list\", \"dinner\", \"east\", \"perfect\", \"lobster\", \"back\", \"table\", \"always\", \"around\", \"well\", \"everyone\", \"friends\", \"restaurants\", \"see\", \"great\", \"city\", \"street\", \"eat\", \"come\", \"pretty\", \"side\", \"even\", \"probably\", \"want\", \"infatuation\", \"york\", \"would\", \"kind\", \"room\", \"find\", \"going\", \"night\", \"way\", \"actually\", \"something\", \"every\", \"meal\", \"eleven\", \"madison\", \"paella\", \"burgers\", \"porchetta\", \"bobo\", \"hate\", \"reasonably\", \"fully\", \"obviously\", \"dude\", \"favorites\", \"sits\", \"majority\", \"trips\", \"loved\", \"entree\", \"honest\", \"socarrat\", \"mediocre\", \"saw\", \"return\", \"monkey\", \"onion\", \"via\", \"drop\", \"boulud\", \"according\", \"tavern\", \"mission\", \"tasting\", \"car\", \"ordered\", \"diner\", \"level\", \"kid\", \"sandwich\", \"chicken\", \"fine\", \"park\", \"establishments\", \"standards\", \"dining\", \"chef\", \"hype\", \"fried\", \"burger\", \"idea\", \"thing\", \"meal\", \"steak\", \"dish\", \"night\", \"bit\", \"experience\", \"start\", \"instead\", \"first\", \"something\", \"definitely\", \"would\", \"comes\", \"way\", \"sure\", \"many\", \"eat\", \"sushi\", \"midtown\", \"bbq\", \"rice\", \"ribs\", \"blt\", \"brisket\", \"tuna\", \"meats\", \"beers\", \"downstairs\", \"wings\", \"belly\", \"korean\", \"fans\", \"pieces\", \"rib\", \"gari\", \"slow\", \"meatball\", \"strike\", \"speaking\", \"chelsea\", \"sliders\", \"fare\", \"omakase\", \"toro\", \"goodness\", \"harlem\", \"momofuku\", \"cured\", \"enthusiasts\", \"style\", \"crab\", \"playing\", \"pork\", \"blue\", \"beef\", \"japanese\", \"piece\", \"fish\", \"nyc\", \"sweet\", \"got\", \"money\", \"served\", \"experience\", \"unfortunately\", \"going\", \"may\", \"way\", \"bit\", \"pretty\", \"big\", \"every\", \"could\", \"come\", \"mexican\", \"artichoke\", \"taco\", \"kest\\u00e9\", \"ribbon\", \"lindo\", \"mexico\", \"fat\", \"caracas\", \"guacamole\", \"margaritas\", \"enchiladas\", \"fajitas\", \"tequila\", \"salsa\", \"arepas\", \"indeed\", \"box\", \"pulled\", \"cravings\", \"los\", \"taqueria\", \"margarita\", \"walter\", \"glory\", \"filet\", \"vegas\", \"beans\", \"customer\", \"facts\", \"tacos\", \"mole\", \"pies\", \"slice\", \"pie\", \"fix\", \"pizza\", \"dropped\", \"dive\", \"eye\", \"oven\", \"cheap\", \"prime\", \"line\", \"supposed\", \"york\", \"ippudo\", \"totto\", \"smith\", \"era\", \"sleep\", \"westville\", \"gives\", \"soba\", \"ramen\", \"dim\", \"emily\", \"rightfully\", \"jack\", \"clay\", \"pepperoni\", \"reached\", \"rai\", \"circa\", \"proudly\", \"craving\", \"ivan\", \"benches\", \"fountain\", \"matches\", \"moral\", \"uws\", \"headsets\", \"vote\", \"backed\", \"cookies\", \"homey\", \"pylos\", \"thai\", \"pickles\", \"essentially\", \"delivery\", \"enter\", \"comfort\", \"noodles\", \"balance\", \"crown\", \"machine\", \"pizza\", \"available\", \"dumplings\", \"slice\", \"upper\", \"square\", \"japanese\"], \"Total\": [188.0, 110.0, 169.0, 104.0, 81.0, 164.0, 87.0, 217.0, 94.0, 229.0, 80.0, 50.0, 78.0, 159.0, 111.0, 48.0, 93.0, 322.0, 86.0, 82.0, 36.0, 60.0, 420.0, 180.0, 107.0, 57.0, 55.0, 283.0, 143.0, 169.0, 157.27877807617188, 114.43909454345703, 115.95977783203125, 97.48235321044922, 181.7741241455078, 132.70640563964844, 76.78752136230469, 72.66205596923828, 88.04443359375, 166.9456024169922, 63.59270477294922, 63.61317825317383, 96.50874328613281, 63.809207916259766, 60.527122497558594, 60.47553634643555, 57.941184997558594, 57.83537673950195, 56.494483947753906, 55.23324966430664, 54.42366409301758, 54.32636642456055, 53.194801330566406, 51.955780029296875, 74.74374389648438, 58.36237335205078, 49.092926025390625, 51.583255767822266, 56.98769760131836, 49.47201156616211, 205.5535430908203, 69.91948699951172, 75.5752182006836, 155.7874298095703, 275.878662109375, 158.3448486328125, 92.62313842773438, 122.1427230834961, 90.445068359375, 200.42489624023438, 152.26637268066406, 138.6043701171875, 87.1783676147461, 313.2810974121094, 154.7147979736328, 367.4291076660156, 282.1675720214844, 139.8583526611328, 145.89251708984375, 420.1319274902344, 357.9091491699219, 247.09854125976562, 287.02203369140625, 310.08038330078125, 149.12759399414062, 179.3263702392578, 308.4232177734375, 228.73951721191406, 336.1454772949219, 308.50421142578125, 164.60504150390625, 385.56463623046875, 358.0090026855469, 364.0095520019531, 219.94500732421875, 393.1945495605469, 315.4862060546875, 310.752197265625, 216.2042236328125, 289.33502197265625, 359.9833679199219, 279.4623718261719, 266.391357421875, 326.28167724609375, 373.6330261230469, 338.94158935546875, 357.38250732421875, 265.744384765625, 293.7809753417969, 300.4530944824219, 322.5563659667969, 60.241634368896484, 57.446983337402344, 51.4672966003418, 49.667999267578125, 43.50864791870117, 41.50534439086914, 40.071556091308594, 38.418800354003906, 32.42656707763672, 26.436546325683594, 26.004682540893555, 24.9847354888916, 29.412839889526367, 23.849681854248047, 24.90860939025879, 24.298240661621094, 27.072235107421875, 23.394412994384766, 22.84320640563965, 22.776914596557617, 22.01647186279297, 22.53938865661621, 21.44618034362793, 22.049901962280273, 19.66050148010254, 19.521284103393555, 18.498611450195312, 18.505809783935547, 17.632211685180664, 17.554819107055664, 44.92131042480469, 36.45888137817383, 33.61863327026367, 47.2555046081543, 49.697872161865234, 29.61292839050293, 111.18925476074219, 229.86807250976562, 104.78587341308594, 107.94404602050781, 33.97888946533203, 33.176048278808594, 159.4683837890625, 105.16362762451172, 61.15160369873047, 119.04364013671875, 169.1616973876953, 72.75060272216797, 283.0325927734375, 322.5563659667969, 104.00157165527344, 64.47933197021484, 338.94158935546875, 203.13775634765625, 143.33546447753906, 92.50732421875, 94.3639144897461, 272.21929931640625, 293.7809753417969, 192.55177307128906, 359.9833679199219, 173.05477905273438, 357.38250732421875, 201.43833923339844, 175.31597900390625, 385.56463623046875, 169.28651428222656, 94.3290786743164, 80.46438598632812, 55.21087646484375, 52.02705764770508, 47.72563552856445, 41.6301155090332, 41.761962890625, 41.69326400756836, 41.34909439086914, 36.26366424560547, 34.18445587158203, 32.45366668701172, 35.77202224731445, 30.857690811157227, 29.91525650024414, 28.802278518676758, 27.87830924987793, 28.302854537963867, 26.804759979248047, 28.385997772216797, 21.75321388244629, 21.763368606567383, 21.619871139526367, 20.97113609313965, 19.52925682067871, 19.54597282409668, 27.75103187561035, 19.105308532714844, 19.015844345092773, 19.46230125427246, 22.202369689941406, 78.20964813232422, 30.051788330078125, 31.57192039489746, 164.80838012695312, 93.20903015136719, 64.55918884277344, 57.55290222167969, 46.65888977050781, 217.01791381835938, 165.77537536621094, 89.71707916259766, 180.77926635742188, 98.6457290649414, 112.9027099609375, 143.33546447753906, 67.56954193115234, 373.6330261230469, 93.61795806884766, 357.38250732421875, 203.13775634765625, 364.0095520019531, 225.50865173339844, 300.4530944824219, 212.24554443359375, 358.0090026855469, 104.67790985107422, 50.79799270629883, 36.61144256591797, 32.43479919433594, 26.322967529296875, 25.302139282226562, 23.7396183013916, 27.19256019592285, 22.10345458984375, 21.234376907348633, 20.68225860595703, 16.19013023376465, 15.645400047302246, 14.236416816711426, 13.53371810913086, 13.75825023651123, 14.880115509033203, 13.246570587158203, 12.74327564239502, 13.806418418884277, 11.181321144104004, 10.95909309387207, 10.827532768249512, 10.404869079589844, 10.648815155029297, 11.062747955322266, 10.28316593170166, 10.064621925354004, 9.697338104248047, 10.04533576965332, 81.23091888427734, 29.55022621154785, 33.84951400756836, 87.7347640991211, 48.852542877197266, 17.03740119934082, 188.64337158203125, 14.389092445373535, 18.61039924621582, 34.811763763427734, 45.928428649902344, 86.43830871582031, 75.53482055664062, 132.9447479248047, 25.965408325195312, 289.33502197265625, 19.733060836791992, 17.06157875061035, 16.14832878112793, 16.61691665649414, 15.826933860778809, 14.267743110656738, 14.853404998779297, 12.145204544067383, 110.76249694824219, 14.430535316467285, 11.549468994140625, 10.675909996032715, 10.459033966064453, 14.897162437438965, 9.969550132751465, 10.333807945251465, 9.514361381530762, 9.745615005493164, 10.254659652709961, 10.390632629394531, 9.026754379272461, 9.125031471252441, 9.030442237854004, 9.405645370483398, 9.29726791381836, 8.989236831665039, 8.829647064208984, 8.417675018310547, 8.621049880981445, 8.51535415649414, 19.275104522705078, 29.64485740661621, 23.462181091308594, 15.856793403625488, 39.19192886352539, 16.520294189453125, 17.678043365478516, 28.063915252685547, 32.01588439941406, 13.234350204467773, 18.21126365661621, 24.659744262695312, 188.64337158203125, 23.72909164428711, 42.563907623291016, 87.7347640991211, 82.04307556152344, 63.806190490722656, 57.55290222167969], \"loglift\": [30.0, 29.0, 28.0, 27.0, 26.0, 25.0, 24.0, 23.0, 22.0, 21.0, 20.0, 19.0, 18.0, 17.0, 16.0, 15.0, 14.0, 13.0, 12.0, 11.0, 10.0, 9.0, 8.0, 7.0, 6.0, 5.0, 4.0, 3.0, 2.0, 1.0, 0.5543000102043152, 0.5526000261306763, 0.5526000261306763, 0.5515000224113464, 0.5503000020980835, 0.5497000217437744, 0.5497000217437744, 0.5489000082015991, 0.54830002784729, 0.5479999780654907, 0.5479000210762024, 0.5478000044822693, 0.5478000044822693, 0.5476999878883362, 0.5472999811172485, 0.5472999811172485, 0.5468000173568726, 0.5467000007629395, 0.5464000105857849, 0.5461999773979187, 0.5461000204086304, 0.545799970626831, 0.545799970626831, 0.5453000068664551, 0.5453000068664551, 0.5449000000953674, 0.5446000099182129, 0.5443999767303467, 0.5443000197410583, 0.5440999865531921, 0.5360999703407288, 0.5440000295639038, 0.5422000288963318, 0.5346999764442444, 0.5214999914169312, 0.5278000235557556, 0.5375000238418579, 0.5317999720573425, 0.536899983882904, 0.5199000239372253, 0.5230000019073486, 0.5246000289916992, 0.5353999733924866, 0.49300000071525574, 0.5167999863624573, 0.4722000062465668, 0.48399999737739563, 0.5156000256538391, 0.5117999911308289, 0.4569000005722046, 0.4586000144481659, 0.4805999994277954, 0.46650001406669617, 0.4562999904155731, 0.5051000118255615, 0.49219998717308044, 0.453900009393692, 0.47429999709129333, 0.43619999289512634, 0.4302000105381012, 0.49630001187324524, 0.38420000672340393, 0.39259999990463257, 0.3871000111103058, 0.4498000144958496, 0.35019999742507935, 0.37529999017715454, 0.36410000920295715, 0.4406000077724457, 0.3702000081539154, 0.31049999594688416, 0.37119999527931213, 0.38370001316070557, 0.311599999666214, 0.2624000012874603, 0.2816999852657318, 0.23849999904632568, 0.3562999963760376, 0.3003999888896942, 0.25679999589920044, 0.18569999933242798, 1.785599946975708, 1.7848000526428223, 1.7833000421524048, 1.7826999425888062, 1.781000018119812, 1.7803000211715698, 1.7786999940872192, 1.777500033378601, 1.7752000093460083, 1.7694000005722046, 1.7685999870300293, 1.7674000263214111, 1.766800045967102, 1.7666000127792358, 1.7663999795913696, 1.7663999795913696, 1.7657999992370605, 1.7657999992370605, 1.7656999826431274, 1.764799952507019, 1.7639000415802002, 1.7634999752044678, 1.7628999948501587, 1.7628999948501587, 1.7604999542236328, 1.7591999769210815, 1.7582000494003296, 1.7580000162124634, 1.7562999725341797, 1.7556999921798706, 1.742900013923645, 1.7100000381469727, 1.7014000415802002, 1.6639000177383423, 1.5892000198364258, 1.6592999696731567, 1.3000999689102173, 1.0658999681472778, 1.2655999660491943, 1.2337000370025635, 1.6124000549316406, 1.6171000003814697, 0.9775000214576721, 1.144700050354004, 1.3585000038146973, 1.0628000497817993, 0.857699990272522, 1.22160005569458, 0.5224000215530396, 0.4278999865055084, 0.9621999859809875, 1.2388999462127686, 0.1289999932050705, 0.43869999051094055, 0.6629999876022339, 0.9509999752044678, 0.9350000023841858, 0.051899999380111694, -0.026499999687075615, 0.32359999418258667, -0.22280000150203705, 0.4138999879360199, -0.2581000030040741, 0.2619999945163727, 0.3573000133037567, -0.4300000071525574, 1.8481999635696411, 1.8446999788284302, 1.8436000347137451, 1.839400053024292, 1.8387000560760498, 1.836899995803833, 1.8352999687194824, 1.8351999521255493, 1.8348000049591064, 1.8346999883651733, 1.832200050354004, 1.8315999507904053, 1.830199956893921, 1.829699993133545, 1.8288999795913696, 1.8286999464035034, 1.8272000551223755, 1.8270000219345093, 1.8260999917984009, 1.8253999948501587, 1.8217999935150146, 1.819200038909912, 1.8188999891281128, 1.8186999559402466, 1.8166999816894531, 1.816100001335144, 1.8157000541687012, 1.8152999877929688, 1.8144999742507935, 1.8141000270843506, 1.8138999938964844, 1.8066999912261963, 1.7127000093460083, 1.774899959564209, 1.761299967765808, 1.5541000366210938, 1.5046000480651855, 1.5542000532150269, 1.5406999588012695, 1.5540000200271606, 0.9801999926567078, 0.8909000158309937, 1.2010999917984009, 0.8104000091552734, 1.1062999963760376, 1.0108000040054321, 0.7942000031471252, 1.2745000123977661, -0.00430000014603138, 0.9718000292778015, -0.11429999768733978, 0.302700012922287, -0.23420000076293945, 0.18649999797344208, -0.17720000445842743, 0.1453000009059906, -0.375900000333786, 2.851799964904785, 2.8438000679016113, 2.838099956512451, 2.835400104522705, 2.828900098800659, 2.8285999298095703, 2.82669997215271, 2.8266000747680664, 2.823199987411499, 2.8227999210357666, 2.8215999603271484, 2.811300039291382, 2.8094000816345215, 2.803800106048584, 2.8015999794006348, 2.8011999130249023, 2.8006999492645264, 2.7987000942230225, 2.7950000762939453, 2.791100025177002, 2.7883999347686768, 2.7874999046325684, 2.7867000102996826, 2.781599998474121, 2.781399965286255, 2.780600070953369, 2.778899908065796, 2.7780001163482666, 2.776400089263916, 2.775099992752075, 2.758500099182129, 2.759700059890747, 2.7248001098632812, 2.605600118637085, 2.6257998943328857, 2.7248001098632812, 2.0480000972747803, 2.7060999870300293, 2.590399980545044, 2.286799907684326, 1.8288999795913696, 1.2188999652862549, 1.256700038909912, 0.666700005531311, 2.168800115585327, -0.225600004196167, 2.995699882507324, 2.9897000789642334, 2.986799955368042, 2.9863998889923096, 2.9825000762939453, 2.980600118637085, 2.9727001190185547, 2.9707000255584717, 2.970099925994873, 2.9697000980377197, 2.9679999351501465, 2.9586000442504883, 2.9583001136779785, 2.9577999114990234, 2.956399917602539, 2.9547998905181885, 2.9532999992370605, 2.952399969100952, 2.950500011444092, 2.949899911880493, 2.9488000869750977, 2.947999954223633, 2.9479000568389893, 2.946199893951416, 2.9458999633789062, 2.9446001052856445, 2.9423000812530518, 2.9402999877929688, 2.940200090408325, 2.938499927520752, 2.938199996948242, 2.883699893951416, 2.799299955368042, 2.7695000171661377, 2.339200019836426, 2.6791000366210938, 2.6294000148773193, 2.31850004196167, 2.215399980545044, 2.728100061416626, 2.5190999507904053, 2.313699960708618, 0.9254000186920166, 2.2751998901367188, 1.788100004196167, 1.0877000093460083, 1.0189000368118286, 1.216599941253662, 1.2832000255584717], \"logprob\": [30.0, 29.0, 28.0, 27.0, 26.0, 25.0, 24.0, 23.0, 22.0, 21.0, 20.0, 19.0, 18.0, 17.0, 16.0, 15.0, 14.0, 13.0, 12.0, 11.0, 10.0, 9.0, 8.0, 7.0, 6.0, 5.0, 4.0, 3.0, 2.0, 1.0, -6.075900077819824, -6.395599842071533, -6.382400035858154, -6.55709981918335, -5.935200214385986, -6.250400066375732, -6.797599792480469, -6.853499889373779, -6.662099838256836, -6.022600173950195, -6.9878997802734375, -6.987599849700928, -6.570799827575684, -6.984600067138672, -7.037899971008301, -7.03879976272583, -7.081999778747559, -7.084000110626221, -7.107699871063232, -7.130499839782715, -7.145400047302246, -7.147500038146973, -7.168499946594238, -7.192599773406982, -6.82889986038208, -7.076700210571289, -7.25, -7.200699806213379, -7.101200103759766, -7.242800235748291, -5.826499938964844, -6.896900177001953, -6.820899963378906, -6.105100154876709, -5.546800136566162, -6.095600128173828, -6.622200012207031, -6.35129976272583, -6.646599769592285, -5.8678998947143555, -6.139599800109863, -6.23199987411499, -6.684899806976318, -5.4481000900268555, -6.129899978637695, -5.309500217437744, -5.561800003051758, -6.23199987411499, -6.193600177764893, -5.190800189971924, -5.349400043487549, -5.69789981842041, -5.56220006942749, -5.495100021362305, -6.178299903869629, -6.006800174713135, -5.502900123596191, -5.781400203704834, -5.434599876403809, -5.526400089263916, -6.088399887084961, -5.349400043487549, -5.41510009765625, -5.4039998054504395, -5.845099925994873, -5.363800048828125, -5.558899879455566, -5.58519983291626, -5.871500015258789, -5.6504998207092285, -5.491700172424316, -5.684100151062012, -5.719600200653076, -5.588900089263916, -5.502600193023682, -5.5808000564575195, -5.570899963378906, -5.7494001388549805, -5.704999923706055, -5.726200103759766, -5.72629976272583, -5.804299831390381, -5.85260009765625, -5.964000225067139, -6.00029993057251, -6.134300231933594, -6.18209981918335, -6.218900203704834, -6.262199878692627, -6.434100151062012, -6.644199848175049, -6.661399841308594, -6.702600002288818, -6.54010009765625, -6.749899864196777, -6.706600189208984, -6.731500148773193, -6.623899936676025, -6.769899845123291, -6.793900012969971, -6.797699928283691, -6.832600116729736, -6.809500217437744, -6.859799861907959, -6.831999778747559, -6.94920015335083, -6.957499980926514, -7.012400150299072, -7.012199878692627, -7.06220006942749, -7.067299842834473, -6.140399932861328, -6.3821001052856445, -6.471799850463867, -6.168799877166748, -6.1930999755859375, -6.6407999992370605, -5.677000045776367, -5.184899806976318, -5.770699977874756, -5.772900104522705, -6.550099849700928, -6.569399833679199, -5.638999938964844, -5.888000011444092, -6.216400146484375, -5.8460001945495605, -5.699699878692627, -6.179599761962891, -5.520299911499023, -5.484099864959717, -6.081699848175049, -6.2829999923706055, -5.733500003814697, -5.935699939727783, -6.060100078582764, -6.20989990234375, -6.206099987030029, -6.029699802398682, -6.031899929046631, -6.104300022125244, -6.025000095367432, -6.120699882507324, -6.067599773406982, -6.120800018310547, -6.164299964904785, -6.16349983215332, -4.708399772644043, -5.296800136566162, -5.4567999839782715, -5.837699890136719, -5.897799968719482, -5.985899925231934, -6.124100208282471, -6.120999813079834, -6.1230998039245605, -6.1315999031066895, -6.2652997970581055, -6.324900150299072, -6.378200054168701, -6.281400203704834, -6.429999828338623, -6.46120023727417, -6.5005998611450195, -6.533400058746338, -6.519199848175049, -6.5742998123168945, -6.520599842071533, -6.789299964904785, -6.789100170135498, -6.796000003814697, -6.828400135040283, -6.900300025939941, -6.899799823760986, -6.549699783325195, -6.923799991607666, -6.928899765014648, -6.905900001525879, -6.781400203704834, -5.616199970245361, -6.51039981842041, -6.474699974060059, -5.029399871826172, -5.648799896240234, -5.9664998054504395, -6.094799995422363, -6.291399955749512, -5.328100204467773, -5.686800003051758, -5.990499973297119, -5.680600166320801, -5.9903998374938965, -5.951000213623047, -5.928800106048584, -6.2006001472473145, -5.769199848175049, -6.177299976348877, -5.923799991607666, -6.071599960327148, -6.025300025939941, -6.083399772644043, -6.160200119018555, -6.185200214385986, -6.183599948883057, -4.1855998039245605, -4.916600227355957, -5.249800205230713, -5.373700141906738, -5.588900089263916, -5.628799915313721, -5.694499969482422, -5.558700084686279, -5.7692999839782715, -5.809899806976318, -5.837399959564209, -6.09250020980835, -6.128699779510498, -6.228700160980225, -6.281499862670898, -6.265399932861328, -6.187600135803223, -6.305799961090088, -6.348299980163574, -6.271999835968018, -6.4857001304626465, -6.5065999031066895, -6.519400119781494, -6.564300060272217, -6.541399955749512, -6.5040998458862305, -6.57889986038208, -6.60129976272583, -6.640100002288818, -6.605999946594238, -4.53249979019165, -5.542399883270264, -5.441500186920166, -4.608399868011475, -5.173600196838379, -6.1280999183654785, -4.400400161743164, -6.315700054168701, -6.174099922180176, -5.851500034332275, -6.032299995422363, -6.009900093078613, -6.10699987411499, -6.1315999031066895, -6.262700080871582, -6.246200084686279, -5.710299968719482, -5.861800193786621, -5.919600009918213, -5.89139986038208, -5.943999767303467, -6.049600124359131, -6.017300128936768, -6.220600128173828, -4.010799884796143, -6.049200057983398, -6.273600101470947, -6.361700057983398, -6.382500171661377, -6.029300212860107, -6.432300090789795, -6.3979997634887695, -6.4822001457214355, -6.459000110626221, -6.410099983215332, -6.39739990234375, -6.539299964904785, -6.529200077056885, -6.539700031280518, -6.500800132751465, -6.512700080871582, -6.547699928283691, -6.567800045013428, -6.617599964141846, -6.593800067901611, -6.607900142669678, -5.791299819946289, -5.415200233459473, -5.73360013961792, -6.155099868774414, -5.680600166320801, -6.204599857330322, -6.186600208282471, -6.035200119018555, -6.006700038909912, -6.377399921417236, -6.267099857330322, -6.169400215148926, -5.523099899291992, -6.246300220489502, -6.149199962615967, -6.126299858093262, -6.262199878692627, -6.315800189971924, -6.352399826049805]}, \"token.table\": {\"Topic\": [2, 1, 2, 3, 1, 2, 3, 4, 1, 2, 3, 4, 1, 1, 2, 3, 5, 1, 1, 2, 3, 5, 3, 5, 3, 4, 1, 1, 2, 3, 3, 3, 5, 1, 2, 3, 5, 1, 2, 3, 3, 2, 3, 2, 1, 2, 4, 3, 1, 5, 1, 2, 3, 2, 1, 2, 5, 4, 1, 3, 4, 1, 2, 3, 3, 1, 2, 3, 5, 5, 1, 2, 3, 4, 1, 5, 1, 2, 3, 4, 5, 1, 2, 3, 5, 2, 5, 1, 5, 1, 2, 3, 4, 1, 3, 5, 4, 1, 2, 1, 2, 5, 3, 4, 1, 2, 1, 2, 3, 3, 5, 5, 1, 2, 1, 2, 3, 1, 2, 5, 1, 1, 2, 3, 4, 3, 4, 3, 1, 2, 3, 1, 2, 3, 2, 3, 4, 2, 1, 5, 1, 1, 3, 5, 1, 2, 3, 4, 5, 2, 5, 4, 3, 5, 3, 2, 5, 2, 3, 4, 5, 2, 3, 1, 2, 3, 4, 1, 2, 3, 1, 2, 3, 4, 1, 2, 3, 2, 4, 4, 4, 3, 3, 4, 2, 4, 1, 2, 3, 5, 1, 2, 3, 1, 2, 3, 4, 1, 2, 3, 1, 4, 5, 5, 1, 3, 1, 2, 3, 5, 1, 3, 2, 3, 5, 4, 1, 2, 3, 3, 1, 2, 3, 1, 2, 3, 1, 4, 1, 1, 1, 3, 2, 1, 3, 5, 1, 4, 5, 2, 1, 2, 1, 2, 3, 4, 4, 1, 2, 1, 2, 3, 4, 5, 1, 5, 5, 2, 3, 5, 4, 2, 5, 1, 2, 3, 3, 1, 2, 4, 2, 3, 4, 4, 1, 2, 3, 4, 1, 2, 3, 1, 2, 4, 2, 1, 1, 1, 5, 2, 2, 1, 1, 2, 3, 4, 4, 5, 1, 1, 2, 3, 4, 1, 2, 3, 3, 3, 2, 4, 4, 3, 2, 2, 4, 3, 1, 2, 3, 2, 5, 1, 2, 3, 5, 1, 2, 3, 1, 5, 1, 2, 3, 4, 2, 3, 2, 2, 3, 5, 1, 4, 5, 1, 1, 2, 1, 2, 3, 1, 1, 5, 1, 2, 3, 4, 2, 5, 4, 5, 2, 3, 3, 4, 5, 1, 3, 4, 5, 2, 3, 2, 1, 2, 3, 1, 2, 3, 1, 3, 4, 1, 2, 3, 5, 4, 1, 5, 5, 3, 5, 5, 2, 1, 2, 3, 2, 3, 4, 3, 3, 5, 1, 2, 3, 4, 1, 2, 5, 2, 1, 2, 3, 1, 2, 3, 4, 1, 2, 3, 5, 1, 2, 2, 5, 3, 4, 5, 3, 3, 5, 5, 2, 1, 2, 3, 5, 3, 1, 2, 3, 5, 2, 4, 1, 2, 3, 1, 2, 3, 4, 1, 2, 3, 1, 2, 3, 3, 1, 3, 3, 4, 1, 2, 3, 3, 1, 2, 3, 5, 1, 2, 3, 1, 2, 3, 4, 3, 4, 4, 2, 3, 2, 4, 4, 5, 1, 2, 3, 4, 1, 2, 3, 3, 5, 1, 2, 3, 4, 2, 3, 1, 1, 2, 3, 1, 3, 5, 5, 4, 2, 1, 3, 4, 5, 1, 4, 1, 2, 3, 4, 1, 2, 3, 4, 1, 2, 1, 2, 3, 5, 5, 1, 2, 3, 1, 2, 3, 1, 4, 1, 2, 3, 4], \"Freq\": [0.9726675152778625, 0.8165741562843323, 0.06397125124931335, 0.1166534498333931, 0.9267557859420776, 0.028328778222203255, 0.04451665282249451, 0.9448875784873962, 0.912821888923645, 0.027872424572706223, 0.055744849145412445, 0.9842908382415771, 0.9903608560562134, 0.9886929392814636, 0.37928128242492676, 0.1264270842075348, 0.46356600522994995, 0.9937909841537476, 0.9020975828170776, 0.09282798320055008, 0.0023802046198397875, 0.9279612302780151, 0.22668282687664032, 0.7556094527244568, 0.9942286610603333, 0.8942213654518127, 0.9939925074577332, 0.030979324132204056, 0.2168552577495575, 0.743503749370575, 0.9915573596954346, 0.986021101474762, 0.8767092823982239, 0.709507167339325, 0.09755723178386688, 0.19068004190921783, 0.004434419795870781, 0.531658947467804, 0.2559839189052582, 0.21167901158332825, 0.9847956895828247, 0.28967151045799255, 0.7080858945846558, 0.9878246188163757, 0.9837561845779419, 0.9730460047721863, 0.9058948159217834, 0.9848639369010925, 0.994676947593689, 0.007535431068390608, 0.47883179783821106, 0.3901592493057251, 0.1300530880689621, 0.9865506887435913, 0.9897441267967224, 0.9051292538642883, 0.0548563189804554, 0.9500777125358582, 0.5900161862373352, 0.21980994939804077, 0.19667205214500427, 0.19968880712985992, 0.5229945182800293, 0.2757607400417328, 0.964924156665802, 0.39587923884391785, 0.4828856885433197, 0.11745867878198624, 0.008700642734766006, 0.9234922528266907, 0.8784320950508118, 0.05510459467768669, 0.05510459467768669, 0.00972434040158987, 0.06712687760591507, 0.9397763013839722, 0.846347451210022, 0.039105162024497986, 0.10893581062555313, 0.005586451850831509, 0.0027932259254157543, 0.7049790620803833, 0.24847623705863953, 0.04044961929321289, 0.005778517108410597, 0.49886125326156616, 0.49886125326156616, 0.9826682209968567, 0.939479410648346, 0.7255747318267822, 0.05653828755021095, 0.1790379136800766, 0.03769219294190407, 0.06655178219079971, 0.9317249059677124, 0.9624053239822388, 0.9415910243988037, 0.9791569709777832, 0.013231850229203701, 0.9963379502296448, 0.38437750935554504, 0.6040217876434326, 0.9762462973594666, 0.9280897378921509, 0.9756884574890137, 0.019257009029388428, 0.6491760611534119, 0.22850997745990753, 0.11944839358329773, 0.2421264350414276, 0.7263793349266052, 0.970164954662323, 0.10580778121948242, 0.8676238059997559, 0.5392918586730957, 0.4389584958553314, 0.018812505528330803, 0.9171837568283081, 0.07892678678035736, 0.0027216135058552027, 0.9855559468269348, 0.20161499083042145, 0.5738272666931152, 0.17059729993343353, 0.04652653634548187, 0.2149335891008377, 0.752267599105835, 0.9927292466163635, 0.9725608229637146, 0.006315330043435097, 0.01894599013030529, 0.9742700457572937, 0.016374286264181137, 0.008187143132090569, 0.9732966423034668, 0.06949708610773087, 0.8339650630950928, 0.9613653421401978, 0.7048224806785583, 0.28192901611328125, 0.9957770109176636, 0.9285262823104858, 0.060247886925935745, 0.010631980374455452, 0.8403260111808777, 0.10893115401268005, 0.04668477922677994, 0.0025935987941920757, 0.0025935987941920757, 0.9959889054298401, 0.9524247646331787, 0.9264903664588928, 0.2828367352485657, 0.6788081526756287, 0.9458450078964233, 0.9603935480117798, 0.962874174118042, 0.28067004680633545, 0.17860820889472961, 0.02551545761525631, 0.5103091597557068, 0.8240410685539246, 0.1471501886844635, 0.8113031983375549, 0.0890144556760788, 0.07884138077497482, 0.02034616284072399, 0.7388840317726135, 0.12647564709186554, 0.12980395555496216, 0.945499062538147, 0.03352833539247513, 0.013411333784461021, 0.006705666892230511, 0.3279021084308624, 0.3209254741668701, 0.34883201122283936, 0.430888831615448, 0.5745184421539307, 0.8959382176399231, 0.9587482810020447, 0.9722049832344055, 0.9536917805671692, 0.956143856048584, 0.9605864882469177, 0.9039345383644104, 0.7815333008766174, 0.1133989542722702, 0.1011396050453186, 0.003064836608245969, 0.23858177661895752, 0.5916827917098999, 0.16223560273647308, 0.7567428350448608, 0.17632842063903809, 0.058776140213012695, 0.007347017526626587, 0.575989305973053, 0.0046079144813120365, 0.4193202257156372, 0.058694396167993546, 0.8804159760475159, 0.058694396167993546, 0.885892391204834, 0.984366774559021, 0.010361755266785622, 0.3444115221500397, 0.4788160026073456, 0.16800561547279358, 0.008400280959904194, 0.9368393421173096, 0.06134067103266716, 0.9868451356887817, 0.9684948921203613, 0.9425448179244995, 0.9390715956687927, 0.7440455555915833, 0.09902764856815338, 0.1552325338125229, 0.9729368090629578, 0.459123432636261, 0.18807466328144073, 0.35402289032936096, 0.883545994758606, 0.011899610050022602, 0.10114668309688568, 0.995051920413971, 0.9418689608573914, 0.9816039800643921, 0.9917231798171997, 0.9906796813011169, 0.9421465396881104, 0.973258912563324, 0.9750125408172607, 0.011470736004412174, 0.9060384631156921, 0.9912911653518677, 0.05188039317727089, 0.9338470697402954, 0.9831407070159912, 0.34340882301330566, 0.6377592086791992, 0.1924382746219635, 0.563569188117981, 0.21992945671081543, 0.02749118208885193, 0.94085294008255, 0.8880492448806763, 0.11100615561008453, 0.43448811769485474, 0.4238908588886261, 0.1271672546863556, 0.021194541826844215, 0.9628511071205139, 0.9982274770736694, 0.8862543106079102, 0.9561112523078918, 0.08687659353017807, 0.729763388633728, 0.17375318706035614, 0.9865946769714355, 0.8779948949813843, 0.10130710154771805, 0.830165445804596, 0.1037706807255745, 0.06798768788576126, 0.9784182906150818, 0.9667804837226868, 0.021644338965415955, 0.007214779499918222, 0.804863452911377, 0.14085109531879425, 0.04024317115545273, 0.9880587458610535, 0.5415783524513245, 0.1429165154695511, 0.20309188961982727, 0.112828828394413, 0.9565988779067993, 0.025854023173451424, 0.012927011586725712, 0.9527562260627747, 0.04112616553902626, 0.894348680973053, 0.9877258539199829, 0.990049421787262, 0.9904590249061584, 0.48662304878234863, 0.48662304878234863, 0.9922192096710205, 0.9643734693527222, 0.9908885359764099, 0.7244063019752502, 0.23956744372844696, 0.03422392159700394, 0.9235714077949524, 0.967012345790863, 0.9568721652030945, 0.988137423992157, 0.22431594133377075, 0.352496474981308, 0.4165867269039154, 0.01068171113729477, 0.688251793384552, 0.2542191445827484, 0.05580420047044754, 0.9699769616127014, 0.9833722710609436, 0.9658902883529663, 0.9935238361358643, 0.9688445329666138, 0.9965113997459412, 0.9683950543403625, 0.06768137961626053, 0.9136986136436462, 0.9465790390968323, 0.3446677327156067, 0.1824711561203003, 0.47645246982574463, 0.9791953563690186, 0.968026340007782, 0.9629542231559753, 0.024947000667452812, 0.004989400040358305, 0.00997880008071661, 0.7582427263259888, 0.18882308900356293, 0.05310649424791336, 0.5309864282608032, 0.4372829496860504, 0.4765484631061554, 0.12667743861675262, 0.38003233075141907, 0.01809677667915821, 0.9834870100021362, 0.9728992581367493, 0.9523851871490479, 0.9221076965332031, 0.02974540926516056, 0.02974540926516056, 0.566098153591156, 0.3483681082725525, 0.06531902402639389, 0.9912472367286682, 0.9921367168426514, 0.9909205436706543, 0.39835453033447266, 0.5651075839996338, 0.027792176231741905, 0.9961630702018738, 0.9922154545783997, 0.9027488827705383, 0.9581122398376465, 0.007150091230869293, 0.014300182461738586, 0.02145027369260788, 0.18919335305690765, 0.7567734122276306, 0.7983207702636719, 0.2046976387500763, 0.2571857273578644, 0.750124990940094, 0.9694050550460815, 0.8862756490707397, 0.11817009001970291, 0.3763715624809265, 0.058311086148023605, 0.4452846646308899, 0.12192317843437195, 0.06334742903709412, 0.9185377359390259, 0.9883092641830444, 0.012135305441915989, 0.24270610511302948, 0.7402536273002625, 0.8433844447135925, 0.032966166734695435, 0.12362313270568848, 0.5560349225997925, 0.23830069601535797, 0.1985839158296585, 0.8336338996887207, 0.1046004518866539, 0.0602245032787323, 0.8776497840881348, 0.9416730999946594, 0.13493065536022186, 0.8770492672920227, 0.9459384083747864, 0.05416996031999588, 0.9389459490776062, 0.9676975011825562, 0.9890990853309631, 0.9013588428497314, 0.07781515270471573, 0.019453788176178932, 0.9760690927505493, 0.9721453189849854, 0.9877305626869202, 0.9802591800689697, 0.9780681729316711, 0.9366883039474487, 0.8408681154251099, 0.13513952493667603, 0.026277128607034683, 0.9605638384819031, 0.37773433327674866, 0.611569881439209, 0.008993675000965595, 0.9538313150405884, 0.9180748462677002, 0.03060249611735344, 0.048089634627103806, 0.26571550965309143, 0.2391439527273178, 0.43400198221206665, 0.06200028210878372, 0.8956784605979919, 0.031826138496398926, 0.054559092968702316, 0.018186364322900772, 0.9902399778366089, 0.00550133315846324, 0.9859639406204224, 0.9477514624595642, 0.07978593558073044, 0.7750633358955383, 0.14817386865615845, 0.971328616142273, 0.989299476146698, 0.9288886785507202, 0.9057072401046753, 0.9630872011184692, 0.7726844549179077, 0.15998312830924988, 0.04425065219402313, 0.02042337879538536, 0.9653745889663696, 0.2977767586708069, 0.2977767586708069, 0.23508690297603607, 0.15672460198402405, 0.8439823985099792, 0.15071113407611847, 0.5080679059028625, 0.4323982000350952, 0.0540497750043869, 0.3076876699924469, 0.4326857626438141, 0.17307430505752563, 0.07692191749811172, 0.9352623224258423, 0.015960106626152992, 0.04468829929828644, 0.9416479468345642, 0.024300592020154, 0.036450888961553574, 0.9864017963409424, 0.12786146998405457, 0.8694579601287842, 0.4621533453464508, 0.500666081905365, 0.6503230929374695, 0.21346482634544373, 0.12907175719738007, 0.9983075261116028, 0.44584599137306213, 0.011146149598062038, 0.5238690376281738, 0.011146149598062038, 0.9052576422691345, 0.04749808833003044, 0.04749808833003044, 0.9654134511947632, 0.02626975253224373, 0.006567438133060932, 0.9832991361618042, 0.08617408573627472, 0.8986725807189941, 0.9124842882156372, 0.9572294354438782, 0.044522300362586975, 0.9641445279121399, 0.9131511449813843, 0.17048713564872742, 0.8098138570785522, 0.6395023465156555, 0.2791197896003723, 0.07772956043481827, 0.0035331619437783957, 0.9824758768081665, 0.010796437971293926, 0.010796437971293926, 0.9720672369003296, 0.9377795457839966, 0.9778473973274231, 0.0048649124801158905, 0.009729824960231781, 0.0048649124801158905, 0.9635222554206848, 0.9817546010017395, 0.9777376055717468, 0.13319610059261322, 0.31079092621803284, 0.5623835921287537, 0.8166441917419434, 0.04875487461686134, 0.13407590985298157, 0.8899531960487366, 0.8752168416976929, 0.9664046764373779, 0.9840226769447327, 0.011056434363126755, 0.011056434363126755, 0.9503812193870544, 0.9873183369636536, 0.9610884785652161, 0.8238075375556946, 0.11584793031215668, 0.054705969989299774, 0.006435996387153864, 0.7247136831283569, 0.12871363759040833, 0.1399061232805252, 0.00559624470770359, 0.9868493676185608, 0.014302164316177368, 0.9029916524887085, 0.019349820911884308, 0.07094934582710266, 0.006449940614402294, 0.9812343716621399, 0.9641920328140259, 0.036247819662094116, 0.9653510451316833, 0.780591607093811, 0.13333949446678162, 0.08611509203910828, 0.9883458614349365, 0.005989975295960903, 0.829488217830658, 0.048386815935373306, 0.07603642344474792, 0.04493061453104019], \"Term\": [\"according\", \"actually\", \"actually\", \"actually\", \"always\", \"always\", \"always\", \"arepas\", \"around\", \"around\", \"around\", \"artichoke\", \"atmosphere\", \"authentic\", \"available\", \"available\", \"available\", \"avenue\", \"back\", \"back\", \"back\", \"backed\", \"balance\", \"balance\", \"bbq\", \"beans\", \"become\", \"beef\", \"beef\", \"beef\", \"beers\", \"belly\", \"benches\", \"big\", \"big\", \"big\", \"big\", \"bit\", \"bit\", \"bit\", \"blt\", \"blue\", \"blue\", \"bobo\", \"bottle\", \"boulud\", \"box\", \"brisket\", \"brunch\", \"brunch\", \"burger\", \"burger\", \"burger\", \"burgers\", \"cafe\", \"car\", \"car\", \"caracas\", \"cheap\", \"cheap\", \"cheap\", \"chef\", \"chef\", \"chef\", \"chelsea\", \"chicken\", \"chicken\", \"chicken\", \"chicken\", \"circa\", \"city\", \"city\", \"city\", \"city\", \"clay\", \"clay\", \"come\", \"come\", \"come\", \"come\", \"come\", \"comes\", \"comes\", \"comes\", \"comes\", \"comfort\", \"comfort\", \"communal\", \"cookies\", \"could\", \"could\", \"could\", \"could\", \"crab\", \"crab\", \"craving\", \"cravings\", \"crowd\", \"crowd\", \"crowded\", \"crown\", \"crown\", \"cured\", \"customer\", \"date\", \"date\", \"definitely\", \"definitely\", \"definitely\", \"delivery\", \"delivery\", \"dim\", \"diner\", \"diner\", \"dining\", \"dining\", \"dining\", \"dinner\", \"dinner\", \"dinner\", \"dirty\", \"dish\", \"dish\", \"dish\", \"dish\", \"dive\", \"dive\", \"downstairs\", \"drink\", \"drink\", \"drink\", \"drinks\", \"drinks\", \"drinks\", \"drop\", \"dropped\", \"dropped\", \"dude\", \"dumplings\", \"dumplings\", \"early\", \"east\", \"east\", \"east\", \"eat\", \"eat\", \"eat\", \"eat\", \"eat\", \"eleven\", \"emily\", \"enchiladas\", \"enter\", \"enter\", \"enthusiasts\", \"entree\", \"era\", \"essentially\", \"essentially\", \"essentially\", \"essentially\", \"establishments\", \"establishments\", \"even\", \"even\", \"even\", \"even\", \"every\", \"every\", \"every\", \"everyone\", \"everyone\", \"everyone\", \"everyone\", \"experience\", \"experience\", \"experience\", \"eye\", \"eye\", \"facts\", \"fajitas\", \"fans\", \"fare\", \"fat\", \"favorites\", \"filet\", \"find\", \"find\", \"find\", \"find\", \"fine\", \"fine\", \"fine\", \"first\", \"first\", \"first\", \"first\", \"fish\", \"fish\", \"fish\", \"fix\", \"fix\", \"fix\", \"fountain\", \"fresh\", \"fresh\", \"fried\", \"fried\", \"fried\", \"fried\", \"friends\", \"friends\", \"fully\", \"gari\", \"gives\", \"glory\", \"going\", \"going\", \"going\", \"goodness\", \"got\", \"got\", \"got\", \"great\", \"great\", \"great\", \"greek\", \"guacamole\", \"guess\", \"hang\", \"hanging\", \"harlem\", \"hate\", \"head\", \"head\", \"headsets\", \"help\", \"homey\", \"homey\", \"honest\", \"hype\", \"hype\", \"idea\", \"idea\", \"idea\", \"idea\", \"indeed\", \"infatuation\", \"infatuation\", \"instead\", \"instead\", \"instead\", \"instead\", \"ippudo\", \"italian\", \"ivan\", \"jack\", \"japanese\", \"japanese\", \"japanese\", \"kest\\u00e9\", \"kid\", \"kid\", \"kind\", \"kind\", \"kind\", \"korean\", \"last\", \"last\", \"last\", \"level\", \"level\", \"level\", \"lindo\", \"line\", \"line\", \"line\", \"line\", \"list\", \"list\", \"list\", \"lobster\", \"lobster\", \"los\", \"loved\", \"lower\", \"macao\", \"machine\", \"machine\", \"madison\", \"majority\", \"man\", \"many\", \"many\", \"many\", \"margarita\", \"margaritas\", \"matches\", \"matter\", \"may\", \"may\", \"may\", \"may\", \"meal\", \"meal\", \"meal\", \"meatball\", \"meats\", \"mediocre\", \"mexican\", \"mexico\", \"midtown\", \"mission\", \"mole\", \"mole\", \"momofuku\", \"money\", \"money\", \"money\", \"monkey\", \"moral\", \"neighborhood\", \"neighborhood\", \"neighborhood\", \"neighborhood\", \"night\", \"night\", \"night\", \"noodles\", \"noodles\", \"nyc\", \"nyc\", \"nyc\", \"nyc\", \"obviously\", \"omakase\", \"onion\", \"ordered\", \"ordered\", \"ordered\", \"oven\", \"oven\", \"oven\", \"oyster\", \"packed\", \"paella\", \"park\", \"park\", \"park\", \"pasta\", \"pastas\", \"pepperoni\", \"perfect\", \"perfect\", \"perfect\", \"perfect\", \"pickles\", \"pickles\", \"pie\", \"pie\", \"piece\", \"piece\", \"pieces\", \"pies\", \"pies\", \"pizza\", \"pizza\", \"pizza\", \"pizza\", \"playing\", \"playing\", \"porchetta\", \"pork\", \"pork\", \"pork\", \"pretty\", \"pretty\", \"pretty\", \"prime\", \"prime\", \"prime\", \"probably\", \"probably\", \"probably\", \"proudly\", \"pulled\", \"pylos\", \"pylos\", \"rai\", \"ramen\", \"ramen\", \"reached\", \"reasonably\", \"restaurants\", \"restaurants\", \"restaurants\", \"return\", \"rib\", \"ribbon\", \"ribs\", \"rice\", \"rightfully\", \"room\", \"room\", \"room\", \"salsa\", \"sandwich\", \"sandwich\", \"sandwich\", \"saw\", \"see\", \"see\", \"see\", \"served\", \"served\", \"served\", \"served\", \"side\", \"side\", \"side\", \"side\", \"since\", \"since\", \"sits\", \"sleep\", \"slice\", \"slice\", \"slice\", \"sliders\", \"slow\", \"smith\", \"soba\", \"socarrat\", \"something\", \"something\", \"something\", \"something\", \"speaking\", \"square\", \"square\", \"square\", \"square\", \"standards\", \"standards\", \"start\", \"start\", \"start\", \"steak\", \"steak\", \"steak\", \"steak\", \"still\", \"still\", \"still\", \"street\", \"street\", \"street\", \"strike\", \"style\", \"style\", \"supposed\", \"supposed\", \"sure\", \"sure\", \"sure\", \"sushi\", \"sweet\", \"sweet\", \"sweet\", \"sweet\", \"table\", \"table\", \"table\", \"tables\", \"tables\", \"tables\", \"taco\", \"tacos\", \"tacos\", \"taqueria\", \"tasting\", \"tasting\", \"tavern\", \"tequila\", \"thai\", \"thai\", \"thing\", \"thing\", \"thing\", \"thing\", \"tiny\", \"tiny\", \"tiny\", \"toro\", \"totto\", \"town\", \"town\", \"town\", \"town\", \"trips\", \"tuna\", \"twenty\", \"unfortunately\", \"unfortunately\", \"unfortunately\", \"upper\", \"upper\", \"upper\", \"uws\", \"vegas\", \"via\", \"vibe\", \"vibe\", \"vibe\", \"vote\", \"walls\", \"walter\", \"want\", \"want\", \"want\", \"want\", \"way\", \"way\", \"way\", \"way\", \"week\", \"week\", \"well\", \"well\", \"well\", \"well\", \"westville\", \"wine\", \"wine\", \"wings\", \"would\", \"would\", \"would\", \"years\", \"years\", \"york\", \"york\", \"york\", \"york\"]}, \"R\": 30, \"lambda.step\": 0.01, \"plot.opts\": {\"xlab\": \"PC1\", \"ylab\": \"PC2\"}, \"topic.order\": [5, 3, 4, 2, 1]};\n",
       "\n",
       "function LDAvis_load_lib(url, callback){\n",
       "  var s = document.createElement('script');\n",
       "  s.src = url;\n",
       "  s.async = true;\n",
       "  s.onreadystatechange = s.onload = callback;\n",
       "  s.onerror = function(){console.warn(\"failed to load library \" + url);};\n",
       "  document.getElementsByTagName(\"head\")[0].appendChild(s);\n",
       "}\n",
       "\n",
       "if(typeof(LDAvis) !== \"undefined\"){\n",
       "   // already loaded: just create the visualization\n",
       "   !function(LDAvis){\n",
       "       new LDAvis(\"#\" + \"ldavis_el3393848691768007842936698\", ldavis_el3393848691768007842936698_data);\n",
       "   }(LDAvis);\n",
       "}else if(typeof define === \"function\" && define.amd){\n",
       "   // require.js is available: use it to load d3/LDAvis\n",
       "   require.config({paths: {d3: \"https://cdnjs.cloudflare.com/ajax/libs/d3/3.5.5/d3.min\"}});\n",
       "   require([\"d3\"], function(d3){\n",
       "      window.d3 = d3;\n",
       "      LDAvis_load_lib(\"https://cdn.rawgit.com/bmabey/pyLDAvis/files/ldavis.v1.0.0.js\", function(){\n",
       "        new LDAvis(\"#\" + \"ldavis_el3393848691768007842936698\", ldavis_el3393848691768007842936698_data);\n",
       "      });\n",
       "    });\n",
       "}else{\n",
       "    // require.js not available: dynamically load d3 & LDAvis\n",
       "    LDAvis_load_lib(\"https://cdnjs.cloudflare.com/ajax/libs/d3/3.5.5/d3.min.js\", function(){\n",
       "         LDAvis_load_lib(\"https://cdn.rawgit.com/bmabey/pyLDAvis/files/ldavis.v1.0.0.js\", function(){\n",
       "                 new LDAvis(\"#\" + \"ldavis_el3393848691768007842936698\", ldavis_el3393848691768007842936698_data);\n",
       "            })\n",
       "         });\n",
       "}\n",
       "</script>"
      ],
      "text/plain": [
       "PreparedData(topic_coordinates=              x         y  topics  cluster       Freq\n",
       "topic                                                \n",
       "4     -0.228902  0.055595       1        1  57.198788\n",
       "2     -0.090792 -0.134050       2        1  16.570183\n",
       "3     -0.056627  0.072423       3        1  15.686284\n",
       "1      0.203945  0.114560       4        1   5.731858\n",
       "0      0.172377 -0.108529       5        1   4.812887, topic_info=      Category        Freq         Term       Total  loglift  logprob\n",
       "term                                                                 \n",
       "118    Default  188.000000        pizza  188.000000  30.0000  30.0000\n",
       "880    Default  110.000000        ramen  110.000000  29.0000  29.0000\n",
       "285    Default  169.000000        sushi  169.000000  28.0000  28.0000\n",
       "2338   Default  104.000000      mexican  104.000000  27.0000  27.0000\n",
       "618    Default   81.000000        tacos   81.000000  26.0000  26.0000\n",
       "1017   Default  164.000000         pork  164.000000  25.0000  25.0000\n",
       "143    Default   87.000000        slice   87.000000  24.0000  24.0000\n",
       "216    Default  217.000000         fish  217.000000  23.0000  23.0000\n",
       "4045   Default   94.000000      midtown   94.000000  22.0000  22.0000\n",
       "1261   Default  229.000000      chicken  229.000000  21.0000  21.0000\n",
       "2137   Default   80.000000          bbq   80.000000  20.0000  20.0000\n",
       "6846   Default   50.000000    artichoke   50.000000  19.0000  19.0000\n",
       "3809   Default   78.000000        style   78.000000  18.0000  18.0000\n",
       "959    Default  159.000000       dining  159.000000  17.0000  17.0000\n",
       "592    Default  111.000000     sandwich  111.000000  16.0000  16.0000\n",
       "116    Default   48.000000          pie   48.000000  15.0000  15.0000\n",
       "929    Default   93.000000         blue   93.000000  14.0000  14.0000\n",
       "233    Default  322.000000         meal  322.000000  13.0000  13.0000\n",
       "1077   Default   86.000000        cheap   86.000000  12.0000  12.0000\n",
       "170    Default   82.000000        upper   82.000000  11.0000  11.0000\n",
       "2355   Default   36.000000         taco   36.000000  10.0000  10.0000\n",
       "8701   Default   60.000000       eleven   60.000000   9.0000   9.0000\n",
       "189    Default  420.000000         back  420.000000   8.0000   8.0000\n",
       "521    Default  180.000000          got  180.000000   7.0000   7.0000\n",
       "111    Default  107.000000         park  107.000000   6.0000   6.0000\n",
       "3544   Default   57.000000      madison   57.000000   5.0000   5.0000\n",
       "754    Default   55.000000         rice   55.000000   4.0000   4.0000\n",
       "289    Default  283.000000        thing  283.000000   3.0000   3.0000\n",
       "344    Default  143.000000   experience  143.000000   2.0000   2.0000\n",
       "1873   Default  169.000000       burger  169.000000   1.0000   1.0000\n",
       "...        ...         ...          ...         ...      ...      ...\n",
       "4680    Topic5    9.554032      craving   10.390633   2.9499  -6.3974\n",
       "9885    Topic5    8.290200         ivan    9.026754   2.9488  -6.5393\n",
       "14768   Topic5    8.374320      benches    9.125031   2.9480  -6.5292\n",
       "9627    Topic5    8.286868     fountain    9.030442   2.9479  -6.5397\n",
       "11243   Topic5    8.615757      matches    9.405645   2.9462  -6.5008\n",
       "7132    Topic5    8.514218        moral    9.297268   2.9459  -6.5127\n",
       "5168    Topic5    8.221394          uws    8.989237   2.9446  -6.5477\n",
       "13305   Topic5    8.057283     headsets    8.829647   2.9423  -6.5678\n",
       "10774   Topic5    7.665986         vote    8.417675   2.9403  -6.6176\n",
       "8902    Topic5    7.850242       backed    8.621050   2.9402  -6.5938\n",
       "1571    Topic5    7.740897      cookies    8.515354   2.9385  -6.6079\n",
       "2395    Topic5   17.515678        homey   19.275105   2.9382  -5.7913\n",
       "14911   Topic5   25.512011        pylos   29.644857   2.8837  -5.4152\n",
       "2178    Topic5   18.556473         thai   23.462181   2.7993  -5.7336\n",
       "3313    Topic5   12.173418      pickles   15.856793   2.7695  -6.1551\n",
       "2323    Topic5   19.565973  essentially   39.191929   2.3392  -5.6806\n",
       "1269    Topic5   11.586384     delivery   16.520294   2.6791  -6.2046\n",
       "1177    Topic5   11.796794        enter   17.678043   2.6294  -6.1866\n",
       "484     Topic5   13.724116      comfort   28.063915   2.3185  -6.0352\n",
       "1606    Topic5   14.121835      noodles   32.015884   2.2154  -6.0067\n",
       "6595    Topic5    9.747647      balance   13.234350   2.7281  -6.3774\n",
       "7152    Topic5   10.883451        crown   18.211264   2.5191  -6.2671\n",
       "2246    Topic5   12.001599      machine   24.659744   2.3137  -6.1694\n",
       "118     Topic5   22.904549        pizza  188.643372   0.9254  -5.5231\n",
       "7       Topic5   11.112449    available   23.729092   2.2752  -6.2463\n",
       "691     Topic5   12.246181    dumplings   42.563908   1.7881  -6.1492\n",
       "143     Topic5   12.529902        slice   87.734764   1.0877  -6.1263\n",
       "170     Topic5   10.937860        upper   82.043076   1.0189  -6.2622\n",
       "154     Topic5   10.366135       square   63.806190   1.2166  -6.3158\n",
       "852     Topic5    9.994209     japanese   57.552902   1.2832  -6.3524\n",
       "\n",
       "[329 rows x 6 columns], token_table=       Topic      Freq        Term\n",
       "term                              \n",
       "2794       2  0.972668   according\n",
       "652        1  0.816574    actually\n",
       "652        2  0.063971    actually\n",
       "652        3  0.116653    actually\n",
       "1          1  0.926756      always\n",
       "1          2  0.028329      always\n",
       "1          3  0.044517      always\n",
       "12704      4  0.944888      arepas\n",
       "5          1  0.912822      around\n",
       "5          2  0.027872      around\n",
       "5          3  0.055745      around\n",
       "6846       4  0.984291   artichoke\n",
       "660        1  0.990361  atmosphere\n",
       "4916       1  0.988693   authentic\n",
       "7          2  0.379281   available\n",
       "7          3  0.126427   available\n",
       "7          5  0.463566   available\n",
       "3521       1  0.993791      avenue\n",
       "189        1  0.902098        back\n",
       "189        2  0.092828        back\n",
       "189        3  0.002380        back\n",
       "8902       5  0.927961      backed\n",
       "6595       3  0.226683     balance\n",
       "6595       5  0.755609     balance\n",
       "2137       3  0.994229         bbq\n",
       "1565       4  0.894221       beans\n",
       "925        1  0.993993      become\n",
       "665        1  0.030979        beef\n",
       "665        2  0.216855        beef\n",
       "665        3  0.743504        beef\n",
       "...      ...       ...         ...\n",
       "10774      5  0.950381        vote\n",
       "1138       1  0.987318       walls\n",
       "6974       4  0.961088      walter\n",
       "174        1  0.823808        want\n",
       "174        2  0.115848        want\n",
       "174        3  0.054706        want\n",
       "174        4  0.006436        want\n",
       "175        1  0.724714         way\n",
       "175        2  0.128714         way\n",
       "175        3  0.139906         way\n",
       "175        4  0.005596         way\n",
       "2431       1  0.986849        week\n",
       "2431       2  0.014302        week\n",
       "176        1  0.902992        well\n",
       "176        2  0.019350        well\n",
       "176        3  0.070949        well\n",
       "176        5  0.006450        well\n",
       "10287      5  0.981234   westville\n",
       "303        1  0.964192        wine\n",
       "303        2  0.036248        wine\n",
       "2734       3  0.965351       wings\n",
       "181        1  0.780592       would\n",
       "181        2  0.133339       would\n",
       "181        3  0.086115       would\n",
       "2191       1  0.988346       years\n",
       "2191       4  0.005990       years\n",
       "448        1  0.829488        york\n",
       "448        2  0.048387        york\n",
       "448        3  0.076036        york\n",
       "448        4  0.044931        york\n",
       "\n",
       "[544 rows x 3 columns], R=30, lambda_step=0.01, plot_opts={'xlab': 'PC1', 'ylab': 'PC2'}, topic_order=[5, 3, 4, 2, 1])"
      ]
     },
     "execution_count": 78,
     "metadata": {},
     "output_type": "execute_result"
    }
   ],
   "source": [
    "vis_3 = pyLDAvis.gensim.prepare(lda_model_3, corpus_2, dictionary_2)\n",
    "vis_3"
   ]
  },
  {
   "cell_type": "markdown",
   "metadata": {},
   "source": [
    "## Use Gensim's build in similarity function to build a recommender"
   ]
  },
  {
   "cell_type": "code",
   "execution_count": null,
   "metadata": {},
   "outputs": [],
   "source": [
    "index = 83 #have & meyer"
   ]
  },
  {
   "cell_type": "code",
   "execution_count": null,
   "metadata": {},
   "outputs": [],
   "source": [
    "text = '''At Bed Bath & Beyond, you can return a waffle iron that you bought two years prior. And if you get a membership to Costco, you can eat as many free samples as your shame will allow (typically, many). We aren’t being paid by these companies to say any of this - we just think that these are perks that probably shouldn’t exist. Sort of like the wine list at Have & Meyer.\n",
    "Have & Meyer is an Italian wine bar in Williamsburg where you can choose from over 90 natural wines by the glass. If this sounds ridiculous, that’s because it is. It’s sort of like if a movie theater decided to show every current release along with the entire filmography of Nicolas Cage. It’s great and irrational - and, if all of this wine sounds intimidating, you should know that this place is surprisingly unpretentious. If you mispronounce a word, your server will get the gist, and if your wine knowledge is limited to whatever is currently on sale at Trader Joe’s, you might even learn something here. \n",
    "To soak up all this wine, there’s some pasta, charcuterie, and larger things like lamb chops and octopus. None of it is really worth traveling for on its own, but it doesn’t need to be. The wine is the star here, and, much like the non-pig animals in Babe and the anaconda in Anaconda, the food plays a perfectly fine supporting role. Have some meat and cheese and maybe a pasta while you enjoy a few wines that you never knew existed, and you’ll be happy.\n",
    "If you aren’t, the servers will notice, and they’ll try to do something about it. The people here are weirdly nice (and tend to have Italian accents), and you’ll probably leave thinking that you’re more likable than you actually are. It’s a comforting place that feels like something you’d find behind a rotating fireplace in a mansion on a hill where there’s occasionally lightning. There are vintage-y lamps hanging from the ceiling and little antiques lying around, and the walls are lined with enough wine to calm every nervous flyer currently departing from JFK. \n",
    "Add all of this up, and it’s surprising that more people don’t know about Have & Meyer. It’s an ideal place to try some wine that would normally require a transatlantic trip, and you can get a seat here any night. So bring a date. Or stop by after you’ve had a long day and want to pretend that you own a wine cellar. Your server might open a bottle just for you - because that’s just what happens when a place has four tables, 15 barstools, and around 100 wines by the glass. And if your server winds up opening several bottles just so you can try a few things, don’t feel bad. Much like a quality return policy, you should be taking advantage of Have & Meyer'''\n",
    "bow = dictionary.doc2bow(clean_text(text))"
   ]
  },
  {
   "cell_type": "code",
   "execution_count": null,
   "metadata": {},
   "outputs": [],
   "source": [
    "from gensim import similarities\n",
    " "
   ]
  },
  {
   "cell_type": "code",
   "execution_count": null,
   "metadata": {},
   "outputs": [],
   "source": [
    "for i in lda_model[corpus][:10]:\n",
    "    print(i)"
   ]
  },
  {
   "cell_type": "code",
   "execution_count": null,
   "metadata": {},
   "outputs": [],
   "source": [
    "def gensim_recommender(restaurant, ):\n",
    "    "
   ]
  },
  {
   "cell_type": "code",
   "execution_count": null,
   "metadata": {},
   "outputs": [],
   "source": [
    "lda_index = similarities.MatrixSimilarity(lda_model[corpus])\n",
    " \n",
    "# Let's perform some queries\n",
    "similarities = lda_index[lda_model[bow]]\n",
    "# Sort the similarities\n",
    "similarities = sorted(enumerate(similarities), key=lambda item: -item[1])\n",
    " \n",
    "# Top most similar documents:\n",
    "print(similarities[:10])\n",
    "# [(104, 0.87591344), (178, 0.86124849), (31, 0.8604598), (77, 0.84932965), (85, 0.84843522), (135, 0.84421808), (215, 0.84184396), (353, 0.84038532), (254, 0.83498049), (13, 0.82832891)]\n",
    " "
   ]
  },
  {
   "cell_type": "code",
   "execution_count": null,
   "metadata": {},
   "outputs": [],
   "source": [
    "index_list = []\n",
    "for i in similarities[:6]:\n",
    "    index_list.append(i[0])"
   ]
  },
  {
   "cell_type": "code",
   "execution_count": null,
   "metadata": {},
   "outputs": [],
   "source": [
    "index_list"
   ]
  },
  {
   "cell_type": "code",
   "execution_count": null,
   "metadata": {},
   "outputs": [],
   "source": [
    "# Let's see what's the most similar document\n",
    "document_id, similarity = similarities[1]\n",
    "print(data[document_id][:1000])"
   ]
  },
  {
   "cell_type": "code",
   "execution_count": null,
   "metadata": {},
   "outputs": [],
   "source": [
    "df.columns"
   ]
  },
  {
   "cell_type": "code",
   "execution_count": null,
   "metadata": {
    "scrolled": true
   },
   "outputs": [],
   "source": [
    "for i in index_list:\n",
    "    print(df.loc[i, 'rest_name'])\n",
    "    print(df.loc[i, 'rest_rating'])\n",
    "    print(df.loc[i, 'rest_cost'])\n",
    "    print(df.loc[i, 'cuisine_type'])"
   ]
  },
  {
   "cell_type": "code",
   "execution_count": null,
   "metadata": {},
   "outputs": [],
   "source": [
    "from my_functions import recommendations\n",
    "# create cosine sim"
   ]
  },
  {
   "cell_type": "code",
   "execution_count": null,
   "metadata": {},
   "outputs": [],
   "source": [
    "recommendations"
   ]
  },
  {
   "cell_type": "code",
   "execution_count": null,
   "metadata": {},
   "outputs": [],
   "source": [
    "df.loc[521,'rest_review']"
   ]
  },
  {
   "cell_type": "markdown",
   "metadata": {},
   "source": [
    "## Find the dominant topic for each sentence"
   ]
  },
  {
   "cell_type": "code",
   "execution_count": null,
   "metadata": {},
   "outputs": [],
   "source": [
    "type(lda_model[corpus])"
   ]
  },
  {
   "cell_type": "code",
   "execution_count": null,
   "metadata": {},
   "outputs": [],
   "source": [
    "type(lda_model_3[corpus])"
   ]
  },
  {
   "cell_type": "code",
   "execution_count": null,
   "metadata": {},
   "outputs": [],
   "source": [
    "lda_model_3[corpus]"
   ]
  },
  {
   "cell_type": "code",
   "execution_count": 121,
   "metadata": {},
   "outputs": [],
   "source": [
    "def format_topics_sentences(model, corpus=corpus, texts=data):\n",
    "    # Init output\n",
    "    sent_topics_df = pd.DataFrame()\n",
    "\n",
    "    # Get main topic in each document\n",
    "    for i, row in enumerate(model[corpus]):\n",
    "        row = sorted(row[0], key=lambda x: (x[1]), reverse=True)\n",
    "        #account for the dominant topic being 4, the most common\n",
    "        if row[0][0] == 4:\n",
    "            row = row[1:]\n",
    "            \n",
    "        else:\n",
    "            row=row\n",
    "        # Get the Dominant topic, Perc Contribution and Keywords for each document\n",
    "        for j, (topic_num, prop_topic) in enumerate(row):\n",
    "            if j == 0:  # => dominant topic\n",
    "                wp = model.show_topic(topic_num)\n",
    "                topic_keywords = \", \".join([word for word, prop in wp])\n",
    "                sent_topics_df = sent_topics_df.append(pd.Series([int(topic_num), round(prop_topic,4), topic_keywords]), ignore_index=True)\n",
    "            else:\n",
    "                break\n",
    "    sent_topics_df.columns = ['Dominant_Topic', 'Perc_Contribution', 'Topic_Keywords']\n",
    "\n",
    "    # Add original text to the end of the output\n",
    "    contents = pd.Series(texts)\n",
    "    sent_topics_df = pd.concat([sent_topics_df, contents], axis=1)\n",
    "    return(sent_topics_df)"
   ]
  },
  {
   "cell_type": "markdown",
   "metadata": {},
   "source": [
    "### Model 3"
   ]
  },
  {
   "cell_type": "code",
   "execution_count": 122,
   "metadata": {},
   "outputs": [
    {
     "data": {
      "text/html": [
       "<div>\n",
       "<style scoped>\n",
       "    .dataframe tbody tr th:only-of-type {\n",
       "        vertical-align: middle;\n",
       "    }\n",
       "\n",
       "    .dataframe tbody tr th {\n",
       "        vertical-align: top;\n",
       "    }\n",
       "\n",
       "    .dataframe thead th {\n",
       "        text-align: right;\n",
       "    }\n",
       "</style>\n",
       "<table border=\"1\" class=\"dataframe\">\n",
       "  <thead>\n",
       "    <tr style=\"text-align: right;\">\n",
       "      <th></th>\n",
       "      <th>Document_No</th>\n",
       "      <th>Dominant_Topic</th>\n",
       "      <th>Topic_Perc_Contrib</th>\n",
       "      <th>Keywords</th>\n",
       "      <th>Text</th>\n",
       "    </tr>\n",
       "  </thead>\n",
       "  <tbody>\n",
       "    <tr>\n",
       "      <th>0</th>\n",
       "      <td>0</td>\n",
       "      <td>0.0</td>\n",
       "      <td>0.3362</td>\n",
       "      <td>ramen, pylos, pizza, essentially, ippudo, thai...</td>\n",
       "      <td>A typical NYC slice shop has a few basic eleme...</td>\n",
       "    </tr>\n",
       "    <tr>\n",
       "      <th>1</th>\n",
       "      <td>1</td>\n",
       "      <td>3.0</td>\n",
       "      <td>0.6558</td>\n",
       "      <td>sushi, pork, midtown, fish, bbq, style, blue, ...</td>\n",
       "      <td>Tolerance for group trips can vary widely. Som...</td>\n",
       "    </tr>\n",
       "    <tr>\n",
       "      <th>2</th>\n",
       "      <td>2</td>\n",
       "      <td>3.0</td>\n",
       "      <td>0.5712</td>\n",
       "      <td>sushi, pork, midtown, fish, bbq, style, blue, ...</td>\n",
       "      <td>When the apocalypse eventually comes for New Y...</td>\n",
       "    </tr>\n",
       "    <tr>\n",
       "      <th>3</th>\n",
       "      <td>3</td>\n",
       "      <td>2.0</td>\n",
       "      <td>0.5248</td>\n",
       "      <td>chicken, meal, thing, dining, sandwich, burger...</td>\n",
       "      <td>When you’re young, you don’t have to think muc...</td>\n",
       "    </tr>\n",
       "    <tr>\n",
       "      <th>4</th>\n",
       "      <td>4</td>\n",
       "      <td>0.0</td>\n",
       "      <td>0.3102</td>\n",
       "      <td>ramen, pylos, pizza, essentially, ippudo, thai...</td>\n",
       "      <td>There’s a bleak, sweaty place on 34th Street w...</td>\n",
       "    </tr>\n",
       "    <tr>\n",
       "      <th>5</th>\n",
       "      <td>5</td>\n",
       "      <td>3.0</td>\n",
       "      <td>0.5919</td>\n",
       "      <td>sushi, pork, midtown, fish, bbq, style, blue, ...</td>\n",
       "      <td>New York is near an ocean with plenty of free ...</td>\n",
       "    </tr>\n",
       "    <tr>\n",
       "      <th>6</th>\n",
       "      <td>6</td>\n",
       "      <td>2.0</td>\n",
       "      <td>0.3500</td>\n",
       "      <td>chicken, meal, thing, dining, sandwich, burger...</td>\n",
       "      <td>When some things change, they become unrecogni...</td>\n",
       "    </tr>\n",
       "    <tr>\n",
       "      <th>7</th>\n",
       "      <td>7</td>\n",
       "      <td>3.0</td>\n",
       "      <td>0.0482</td>\n",
       "      <td>sushi, pork, midtown, fish, bbq, style, blue, ...</td>\n",
       "      <td>Around the time Kyma opened, we heard that Bil...</td>\n",
       "    </tr>\n",
       "    <tr>\n",
       "      <th>8</th>\n",
       "      <td>8</td>\n",
       "      <td>0.0</td>\n",
       "      <td>0.2072</td>\n",
       "      <td>ramen, pylos, pizza, essentially, ippudo, thai...</td>\n",
       "      <td>We have mixed feelings toward secret places. O...</td>\n",
       "    </tr>\n",
       "    <tr>\n",
       "      <th>9</th>\n",
       "      <td>9</td>\n",
       "      <td>0.0</td>\n",
       "      <td>0.3470</td>\n",
       "      <td>ramen, pylos, pizza, essentially, ippudo, thai...</td>\n",
       "      <td>Casual weeknight dinners are rarely memorable....</td>\n",
       "    </tr>\n",
       "  </tbody>\n",
       "</table>\n",
       "</div>"
      ],
      "text/plain": [
       "   Document_No  Dominant_Topic  Topic_Perc_Contrib  \\\n",
       "0            0             0.0              0.3362   \n",
       "1            1             3.0              0.6558   \n",
       "2            2             3.0              0.5712   \n",
       "3            3             2.0              0.5248   \n",
       "4            4             0.0              0.3102   \n",
       "5            5             3.0              0.5919   \n",
       "6            6             2.0              0.3500   \n",
       "7            7             3.0              0.0482   \n",
       "8            8             0.0              0.2072   \n",
       "9            9             0.0              0.3470   \n",
       "\n",
       "                                            Keywords  \\\n",
       "0  ramen, pylos, pizza, essentially, ippudo, thai...   \n",
       "1  sushi, pork, midtown, fish, bbq, style, blue, ...   \n",
       "2  sushi, pork, midtown, fish, bbq, style, blue, ...   \n",
       "3  chicken, meal, thing, dining, sandwich, burger...   \n",
       "4  ramen, pylos, pizza, essentially, ippudo, thai...   \n",
       "5  sushi, pork, midtown, fish, bbq, style, blue, ...   \n",
       "6  chicken, meal, thing, dining, sandwich, burger...   \n",
       "7  sushi, pork, midtown, fish, bbq, style, blue, ...   \n",
       "8  ramen, pylos, pizza, essentially, ippudo, thai...   \n",
       "9  ramen, pylos, pizza, essentially, ippudo, thai...   \n",
       "\n",
       "                                                Text  \n",
       "0  A typical NYC slice shop has a few basic eleme...  \n",
       "1  Tolerance for group trips can vary widely. Som...  \n",
       "2  When the apocalypse eventually comes for New Y...  \n",
       "3  When you’re young, you don’t have to think muc...  \n",
       "4  There’s a bleak, sweaty place on 34th Street w...  \n",
       "5  New York is near an ocean with plenty of free ...  \n",
       "6  When some things change, they become unrecogni...  \n",
       "7  Around the time Kyma opened, we heard that Bil...  \n",
       "8  We have mixed feelings toward secret places. O...  \n",
       "9  Casual weeknight dinners are rarely memorable....  "
      ]
     },
     "execution_count": 122,
     "metadata": {},
     "output_type": "execute_result"
    }
   ],
   "source": [
    "df_topic_sents_keywords = format_topics_sentences(model=lda_model_3, corpus=corpus_2, texts=data)\n",
    "\n",
    "# Format\n",
    "df_dominant_topic = df_topic_sents_keywords.reset_index()\n",
    "df_dominant_topic.columns = ['Document_No', 'Dominant_Topic', 'Topic_Perc_Contrib', 'Keywords', 'Text']\n",
    "\n",
    "# Show\n",
    "df_dominant_topic.head(10)"
   ]
  },
  {
   "cell_type": "code",
   "execution_count": null,
   "metadata": {},
   "outputs": [],
   "source": []
  },
  {
   "cell_type": "code",
   "execution_count": 123,
   "metadata": {},
   "outputs": [
    {
     "data": {
      "text/plain": [
       "2.0    308\n",
       "3.0    280\n",
       "0.0    124\n",
       "1.0    111\n",
       "Name: Dominant_Topic, dtype: int64"
      ]
     },
     "execution_count": 123,
     "metadata": {},
     "output_type": "execute_result"
    }
   ],
   "source": [
    "df_dominant_topic['Dominant_Topic'].value_counts()"
   ]
  },
  {
   "cell_type": "code",
   "execution_count": 124,
   "metadata": {},
   "outputs": [
    {
     "data": {
      "text/plain": [
       "chicken, meal, thing, dining, sandwich, burger, night, fine, park, eleven    308\n",
       "sushi, pork, midtown, fish, bbq, style, blue, got, nyc, going                280\n",
       "ramen, pylos, pizza, essentially, ippudo, thai, homey, totto, era, smith     124\n",
       "mexican, pizza, tacos, slice, artichoke, pie, taco, kesté, pies, mole        111\n",
       "Name: Keywords, dtype: int64"
      ]
     },
     "execution_count": 124,
     "metadata": {},
     "output_type": "execute_result"
    }
   ],
   "source": [
    "df_dominant_topic['Keywords'].value_counts()"
   ]
  },
  {
   "cell_type": "code",
   "execution_count": 125,
   "metadata": {},
   "outputs": [],
   "source": [
    "full_df = pd.concat([df_dominant_topic, df], axis =1)"
   ]
  },
  {
   "cell_type": "code",
   "execution_count": 126,
   "metadata": {},
   "outputs": [
    {
     "data": {
      "text/html": [
       "<div>\n",
       "<style scoped>\n",
       "    .dataframe tbody tr th:only-of-type {\n",
       "        vertical-align: middle;\n",
       "    }\n",
       "\n",
       "    .dataframe tbody tr th {\n",
       "        vertical-align: top;\n",
       "    }\n",
       "\n",
       "    .dataframe thead th {\n",
       "        text-align: right;\n",
       "    }\n",
       "</style>\n",
       "<table border=\"1\" class=\"dataframe\">\n",
       "  <thead>\n",
       "    <tr style=\"text-align: right;\">\n",
       "      <th></th>\n",
       "      <th>Document_No</th>\n",
       "      <th>Dominant_Topic</th>\n",
       "      <th>Topic_Perc_Contrib</th>\n",
       "      <th>Keywords</th>\n",
       "      <th>Text</th>\n",
       "      <th>rest_cost</th>\n",
       "      <th>cuisine_type</th>\n",
       "      <th>rest_name</th>\n",
       "      <th>rest_rating</th>\n",
       "      <th>rest_review</th>\n",
       "      <th>address_only</th>\n",
       "      <th>rest_borough</th>\n",
       "      <th>rest_zip_code</th>\n",
       "      <th>lemmatized</th>\n",
       "    </tr>\n",
       "  </thead>\n",
       "  <tbody>\n",
       "    <tr>\n",
       "      <th>0</th>\n",
       "      <td>0</td>\n",
       "      <td>0.0</td>\n",
       "      <td>0.3362</td>\n",
       "      <td>ramen, pylos, pizza, essentially, ippudo, thai...</td>\n",
       "      <td>A typical NYC slice shop has a few basic eleme...</td>\n",
       "      <td>2.0</td>\n",
       "      <td>Pizza</td>\n",
       "      <td>Mama’s Too</td>\n",
       "      <td>8.3</td>\n",
       "      <td>A typical NYC slice shop has a few basic eleme...</td>\n",
       "      <td>2750 Broadway, New York, NY 10025</td>\n",
       "      <td>Manhattan</td>\n",
       "      <td>10025</td>\n",
       "      <td>typical nyc slice shop basic element counter g...</td>\n",
       "    </tr>\n",
       "    <tr>\n",
       "      <th>1</th>\n",
       "      <td>1</td>\n",
       "      <td>3.0</td>\n",
       "      <td>0.6558</td>\n",
       "      <td>sushi, pork, midtown, fish, bbq, style, blue, ...</td>\n",
       "      <td>Tolerance for group trips can vary widely. Som...</td>\n",
       "      <td>4.0</td>\n",
       "      <td>Japanese</td>\n",
       "      <td>Omakase Room By Tatsu</td>\n",
       "      <td>7.7</td>\n",
       "      <td>Tolerance for group trips can vary widely. Som...</td>\n",
       "      <td>14 Christopher St, New York, NY 10014</td>\n",
       "      <td>Manhattan</td>\n",
       "      <td>10014</td>\n",
       "      <td>tolerance group trip vary widely people intern...</td>\n",
       "    </tr>\n",
       "    <tr>\n",
       "      <th>2</th>\n",
       "      <td>2</td>\n",
       "      <td>3.0</td>\n",
       "      <td>0.5712</td>\n",
       "      <td>sushi, pork, midtown, fish, bbq, style, blue, ...</td>\n",
       "      <td>When the apocalypse eventually comes for New Y...</td>\n",
       "      <td>4.0</td>\n",
       "      <td>Japanese</td>\n",
       "      <td>Sushi Azabu</td>\n",
       "      <td>8.5</td>\n",
       "      <td>When the apocalypse eventually comes for New Y...</td>\n",
       "      <td>428 Greenwich St., New York, NY 10013</td>\n",
       "      <td>Manhattan</td>\n",
       "      <td>10013</td>\n",
       "      <td>apocalypse eventually come new york city going...</td>\n",
       "    </tr>\n",
       "    <tr>\n",
       "      <th>3</th>\n",
       "      <td>3</td>\n",
       "      <td>2.0</td>\n",
       "      <td>0.5248</td>\n",
       "      <td>chicken, meal, thing, dining, sandwich, burger...</td>\n",
       "      <td>When you’re young, you don’t have to think muc...</td>\n",
       "      <td>3.0</td>\n",
       "      <td>Seafood</td>\n",
       "      <td>Saint Julivert Fisherie</td>\n",
       "      <td>7.7</td>\n",
       "      <td>When you’re young, you don’t have to think muc...</td>\n",
       "      <td>264 Clinton St, New York, NY 11201</td>\n",
       "      <td>Brooklyn</td>\n",
       "      <td>11201</td>\n",
       "      <td>young think much decision know attempt deep en...</td>\n",
       "    </tr>\n",
       "    <tr>\n",
       "      <th>4</th>\n",
       "      <td>4</td>\n",
       "      <td>0.0</td>\n",
       "      <td>0.3102</td>\n",
       "      <td>ramen, pylos, pizza, essentially, ippudo, thai...</td>\n",
       "      <td>There’s a bleak, sweaty place on 34th Street w...</td>\n",
       "      <td>2.0</td>\n",
       "      <td>Russian</td>\n",
       "      <td>Farida</td>\n",
       "      <td>8.0</td>\n",
       "      <td>There’s a bleak, sweaty place on 34th Street w...</td>\n",
       "      <td>498 9th Ave, New York, NY 10018</td>\n",
       "      <td>Manhattan</td>\n",
       "      <td>10018</td>\n",
       "      <td>bleak sweaty place 34th street adult run 6 yar...</td>\n",
       "    </tr>\n",
       "  </tbody>\n",
       "</table>\n",
       "</div>"
      ],
      "text/plain": [
       "   Document_No  Dominant_Topic  Topic_Perc_Contrib  \\\n",
       "0            0             0.0              0.3362   \n",
       "1            1             3.0              0.6558   \n",
       "2            2             3.0              0.5712   \n",
       "3            3             2.0              0.5248   \n",
       "4            4             0.0              0.3102   \n",
       "\n",
       "                                            Keywords  \\\n",
       "0  ramen, pylos, pizza, essentially, ippudo, thai...   \n",
       "1  sushi, pork, midtown, fish, bbq, style, blue, ...   \n",
       "2  sushi, pork, midtown, fish, bbq, style, blue, ...   \n",
       "3  chicken, meal, thing, dining, sandwich, burger...   \n",
       "4  ramen, pylos, pizza, essentially, ippudo, thai...   \n",
       "\n",
       "                                                Text  rest_cost cuisine_type  \\\n",
       "0  A typical NYC slice shop has a few basic eleme...        2.0        Pizza   \n",
       "1  Tolerance for group trips can vary widely. Som...        4.0     Japanese   \n",
       "2  When the apocalypse eventually comes for New Y...        4.0     Japanese   \n",
       "3  When you’re young, you don’t have to think muc...        3.0      Seafood   \n",
       "4  There’s a bleak, sweaty place on 34th Street w...        2.0      Russian   \n",
       "\n",
       "                 rest_name  rest_rating  \\\n",
       "0               Mama’s Too          8.3   \n",
       "1    Omakase Room By Tatsu          7.7   \n",
       "2              Sushi Azabu          8.5   \n",
       "3  Saint Julivert Fisherie          7.7   \n",
       "4                   Farida          8.0   \n",
       "\n",
       "                                         rest_review  \\\n",
       "0  A typical NYC slice shop has a few basic eleme...   \n",
       "1  Tolerance for group trips can vary widely. Som...   \n",
       "2  When the apocalypse eventually comes for New Y...   \n",
       "3  When you’re young, you don’t have to think muc...   \n",
       "4  There’s a bleak, sweaty place on 34th Street w...   \n",
       "\n",
       "                            address_only rest_borough  rest_zip_code  \\\n",
       "0      2750 Broadway, New York, NY 10025    Manhattan          10025   \n",
       "1  14 Christopher St, New York, NY 10014    Manhattan          10014   \n",
       "2  428 Greenwich St., New York, NY 10013    Manhattan          10013   \n",
       "3     264 Clinton St, New York, NY 11201     Brooklyn          11201   \n",
       "4        498 9th Ave, New York, NY 10018    Manhattan          10018   \n",
       "\n",
       "                                          lemmatized  \n",
       "0  typical nyc slice shop basic element counter g...  \n",
       "1  tolerance group trip vary widely people intern...  \n",
       "2  apocalypse eventually come new york city going...  \n",
       "3  young think much decision know attempt deep en...  \n",
       "4  bleak sweaty place 34th street adult run 6 yar...  "
      ]
     },
     "execution_count": 126,
     "metadata": {},
     "output_type": "execute_result"
    }
   ],
   "source": [
    "full_df.head()"
   ]
  },
  {
   "cell_type": "markdown",
   "metadata": {},
   "source": [
    "Check for null values:"
   ]
  },
  {
   "cell_type": "code",
   "execution_count": 130,
   "metadata": {},
   "outputs": [
    {
     "data": {
      "text/html": [
       "<div>\n",
       "<style scoped>\n",
       "    .dataframe tbody tr th:only-of-type {\n",
       "        vertical-align: middle;\n",
       "    }\n",
       "\n",
       "    .dataframe tbody tr th {\n",
       "        vertical-align: top;\n",
       "    }\n",
       "\n",
       "    .dataframe thead th {\n",
       "        text-align: right;\n",
       "    }\n",
       "</style>\n",
       "<table border=\"1\" class=\"dataframe\">\n",
       "  <thead>\n",
       "    <tr style=\"text-align: right;\">\n",
       "      <th></th>\n",
       "      <th>Document_No</th>\n",
       "      <th>Dominant_Topic</th>\n",
       "      <th>Topic_Perc_Contrib</th>\n",
       "      <th>Keywords</th>\n",
       "      <th>Text</th>\n",
       "      <th>rest_cost</th>\n",
       "      <th>cuisine_type</th>\n",
       "      <th>rest_name</th>\n",
       "      <th>rest_rating</th>\n",
       "      <th>rest_review</th>\n",
       "      <th>address_only</th>\n",
       "      <th>rest_borough</th>\n",
       "      <th>rest_zip_code</th>\n",
       "      <th>lemmatized</th>\n",
       "    </tr>\n",
       "  </thead>\n",
       "  <tbody>\n",
       "    <tr>\n",
       "      <th>823</th>\n",
       "      <td>823</td>\n",
       "      <td>NaN</td>\n",
       "      <td>NaN</td>\n",
       "      <td>NaN</td>\n",
       "      <td>Love getting dirty on some BBQ? You'll love Hi...</td>\n",
       "      <td>2.0</td>\n",
       "      <td>BBQ</td>\n",
       "      <td>Hill Country</td>\n",
       "      <td>7.5</td>\n",
       "      <td>Love getting dirty on some BBQ? You'll love Hi...</td>\n",
       "      <td>30 W. 26th St., New York, NY 10010</td>\n",
       "      <td>Manhattan</td>\n",
       "      <td>10010</td>\n",
       "      <td>love getting dirty bbq love hill country downt...</td>\n",
       "    </tr>\n",
       "  </tbody>\n",
       "</table>\n",
       "</div>"
      ],
      "text/plain": [
       "     Document_No  Dominant_Topic  Topic_Perc_Contrib Keywords  \\\n",
       "823          823             NaN                 NaN      NaN   \n",
       "\n",
       "                                                  Text  rest_cost  \\\n",
       "823  Love getting dirty on some BBQ? You'll love Hi...        2.0   \n",
       "\n",
       "    cuisine_type     rest_name  rest_rating  \\\n",
       "823          BBQ  Hill Country          7.5   \n",
       "\n",
       "                                           rest_review  \\\n",
       "823  Love getting dirty on some BBQ? You'll love Hi...   \n",
       "\n",
       "                           address_only rest_borough  rest_zip_code  \\\n",
       "823  30 W. 26th St., New York, NY 10010    Manhattan          10010   \n",
       "\n",
       "                                            lemmatized  \n",
       "823  love getting dirty bbq love hill country downt...  "
      ]
     },
     "execution_count": 130,
     "metadata": {},
     "output_type": "execute_result"
    }
   ],
   "source": [
    "full_df[full_df['Dominant_Topic'].isnull()]"
   ]
  },
  {
   "cell_type": "markdown",
   "metadata": {},
   "source": [
    "Find the actual value from the corpus:"
   ]
  },
  {
   "cell_type": "code",
   "execution_count": 133,
   "metadata": {
    "scrolled": true
   },
   "outputs": [
    {
     "data": {
      "text/plain": [
       "[(3, 0.6309069), (4, 0.3581678)]"
      ]
     },
     "execution_count": 133,
     "metadata": {},
     "output_type": "execute_result"
    }
   ],
   "source": [
    "lda_model_3[corpus_2][823][0]"
   ]
  },
  {
   "cell_type": "markdown",
   "metadata": {},
   "source": [
    "Replace the null with this correct value."
   ]
  },
  {
   "cell_type": "code",
   "execution_count": 134,
   "metadata": {},
   "outputs": [],
   "source": [
    "full_df.loc[823, 'Dominant_Topic'] = 3.0\n",
    "full_df.loc[823, 'Topic_Perc_Contrib'] = 0.6309069\n",
    "full_df.loc[823, 'Keywords'] = 'sushi, pork, midtown, fish, bbq, style, blue, got, nyc, going'"
   ]
  },
  {
   "cell_type": "markdown",
   "metadata": {},
   "source": [
    "Save the dataframe as a csv file with new features to use.\n"
   ]
  },
  {
   "cell_type": "code",
   "execution_count": 135,
   "metadata": {},
   "outputs": [],
   "source": [
    "full_df.to_csv('./Data/full_df_with_keywords.csv', index=False)"
   ]
  },
  {
   "cell_type": "code",
   "execution_count": 127,
   "metadata": {},
   "outputs": [
    {
     "data": {
      "text/plain": [
       "(array([ 1.,  1.,  2.,  1.,  4.,  3.,  5., 24., 55., 15.]),\n",
       " array([1.1 , 1.91, 2.72, 3.53, 4.34, 5.15, 5.96, 6.77, 7.58, 8.39, 9.2 ]),\n",
       " <a list of 10 Patch objects>)"
      ]
     },
     "execution_count": 127,
     "metadata": {},
     "output_type": "execute_result"
    },
    {
     "data": {
      "image/png": "[encoded data removed]",
      "text/plain": [
       "<Figure size 432x288 with 1 Axes>"
      ]
     },
     "metadata": {
      "needs_background": "light"
     },
     "output_type": "display_data"
    }
   ],
   "source": [
    "plt.hist(full_df[full_df['Dominant_Topic'] == 1.0]['rest_rating'].values)"
   ]
  },
  {
   "cell_type": "markdown",
   "metadata": {},
   "source": [
    "### Remove more stopwords and create a new model"
   ]
  },
  {
   "cell_type": "code",
   "execution_count": 91,
   "metadata": {},
   "outputs": [],
   "source": [
    "#Get new stop words\n",
    "model_4_stops = get_new_stopwords(lda_model_3, 0)"
   ]
  },
  {
   "cell_type": "code",
   "execution_count": 93,
   "metadata": {},
   "outputs": [],
   "source": [
    "#Add these stopwords\n",
    "\n",
    "stpwrds.extend(model_4_stops)\n",
    "\n",
    "#Preprocess with the new stopwords\n",
    "dictionary_4, corpus_4, cleaned_tokens_4 = topic_model_preprocess(text=data, STOPWORDS=stpwrds)\n",
    "\n",
    "# Build the LDA model\n",
    "lda_model_4 = models.LdaModel(corpus=corpus_4, \n",
    "                            num_topics=5, #10 Topics\n",
    "                            id2word=dictionary_4,\n",
    "                            random_state=100,\n",
    "                            update_every=1,\n",
    "                            chunksize=100,\n",
    "                            passes=10,\n",
    "                            alpha='auto',\n",
    "                            per_word_topics=True)"
   ]
  },
  {
   "cell_type": "code",
   "execution_count": 94,
   "metadata": {},
   "outputs": [
    {
     "name": "stdout",
     "output_type": "stream",
     "text": [
      "\n",
      "Perplexity:  -8.663765835206299\n",
      "\n",
      "Coherence Score:  0.3566251288549608\n"
     ]
    }
   ],
   "source": [
    "# Compute Perplexity\n",
    "print('\\nPerplexity: ', lda_model_4.log_perplexity(corpus_4))  # a measure of how good the model is. lower the better.\n",
    "\n",
    "# Compute Coherence Score\n",
    "coherence_model_lda_4 = CoherenceModel(model=lda_model_4, texts=cleaned_tokens_4, dictionary=dictionary_4, coherence='c_v')\n",
    "coherence_lda_4 = coherence_model_lda_4.get_coherence()\n",
    "print('\\nCoherence Score: ', coherence_lda_4)"
   ]
  },
  {
   "cell_type": "code",
   "execution_count": 96,
   "metadata": {},
   "outputs": [
    {
     "name": "stderr",
     "output_type": "stream",
     "text": [
      "/Users/edithiyerhernandez/anaconda3/lib/python3.6/site-packages/pyLDAvis/_prepare.py:257: FutureWarning: Sorting because non-concatenation axis is not aligned. A future version\n",
      "of pandas will change to not sort by default.\n",
      "\n",
      "To accept the future behavior, pass 'sort=False'.\n",
      "\n",
      "To retain the current behavior and silence the warning, pass 'sort=True'.\n",
      "\n",
      "  return pd.concat([default_term_info] + list(topic_dfs))\n"
     ]
    },
    {
     "data": {
      "text/html": [
       "\n",
       "<link rel=\"stylesheet\" type=\"text/css\" href=\"https://cdn.rawgit.com/bmabey/pyLDAvis/files/ldavis.v1.0.0.css\">\n",
       "\n",
       "\n",
       "<div id=\"ldavis_el339384915146568107318260\"></div>\n",
       "<script type=\"text/javascript\">\n",
       "\n",
       "var ldavis_el339384915146568107318260_data = {\"mdsDat\": {\"x\": [0.28019275719622816, 0.10930789320920939, -0.1273978879667419, -0.125962144394648, -0.13614061804404784], \"y\": [0.025763336859879995, -0.042533916991989267, 0.1707414513070537, -0.17478031303471717, 0.020809441859772824], \"topics\": [1, 2, 3, 4, 5], \"cluster\": [1, 1, 1, 1, 1], \"Freq\": [63.95270919799805, 17.775300979614258, 6.43128776550293, 6.281989097595215, 5.558719158172607]}, \"tinfo\": {\"Category\": [\"Default\", \"Default\", \"Default\", \"Default\", \"Default\", \"Default\", \"Default\", \"Default\", \"Default\", \"Default\", \"Default\", \"Default\", \"Default\", \"Default\", \"Default\", \"Default\", \"Default\", \"Default\", \"Default\", \"Default\", \"Default\", \"Default\", \"Default\", \"Default\", \"Default\", \"Default\", \"Default\", \"Default\", \"Default\", \"Default\", \"Topic1\", \"Topic1\", \"Topic1\", \"Topic1\", \"Topic1\", \"Topic1\", \"Topic1\", \"Topic1\", \"Topic1\", \"Topic1\", \"Topic1\", \"Topic1\", \"Topic1\", \"Topic1\", \"Topic1\", \"Topic1\", \"Topic1\", \"Topic1\", \"Topic1\", \"Topic1\", \"Topic1\", \"Topic1\", \"Topic1\", \"Topic1\", \"Topic1\", \"Topic1\", \"Topic1\", \"Topic1\", \"Topic1\", \"Topic1\", \"Topic1\", \"Topic1\", \"Topic1\", \"Topic1\", \"Topic1\", \"Topic1\", \"Topic1\", \"Topic1\", \"Topic1\", \"Topic1\", \"Topic1\", \"Topic1\", \"Topic1\", \"Topic1\", \"Topic1\", \"Topic1\", \"Topic1\", \"Topic1\", \"Topic1\", \"Topic1\", \"Topic1\", \"Topic1\", \"Topic1\", \"Topic1\", \"Topic1\", \"Topic1\", \"Topic1\", \"Topic1\", \"Topic1\", \"Topic1\", \"Topic1\", \"Topic1\", \"Topic1\", \"Topic1\", \"Topic1\", \"Topic1\", \"Topic1\", \"Topic1\", \"Topic1\", \"Topic1\", \"Topic1\", \"Topic2\", \"Topic2\", \"Topic2\", \"Topic2\", \"Topic2\", \"Topic2\", \"Topic2\", \"Topic2\", \"Topic2\", \"Topic2\", \"Topic2\", \"Topic2\", \"Topic2\", \"Topic2\", \"Topic2\", \"Topic2\", \"Topic2\", \"Topic2\", \"Topic2\", \"Topic2\", \"Topic2\", \"Topic2\", \"Topic2\", \"Topic2\", \"Topic2\", \"Topic2\", \"Topic2\", \"Topic2\", \"Topic2\", \"Topic2\", \"Topic2\", \"Topic2\", \"Topic2\", \"Topic2\", \"Topic2\", \"Topic2\", \"Topic2\", \"Topic2\", \"Topic2\", \"Topic2\", \"Topic2\", \"Topic2\", \"Topic2\", \"Topic2\", \"Topic2\", \"Topic2\", \"Topic2\", \"Topic2\", \"Topic2\", \"Topic2\", \"Topic2\", \"Topic2\", \"Topic2\", \"Topic2\", \"Topic2\", \"Topic2\", \"Topic2\", \"Topic2\", \"Topic2\", \"Topic2\", \"Topic2\", \"Topic2\", \"Topic2\", \"Topic2\", \"Topic2\", \"Topic2\", \"Topic2\", \"Topic2\", \"Topic2\", \"Topic3\", \"Topic3\", \"Topic3\", \"Topic3\", \"Topic3\", \"Topic3\", \"Topic3\", \"Topic3\", \"Topic3\", \"Topic3\", \"Topic3\", \"Topic3\", \"Topic3\", \"Topic3\", \"Topic3\", \"Topic3\", \"Topic3\", \"Topic3\", \"Topic3\", \"Topic3\", \"Topic3\", \"Topic3\", \"Topic3\", \"Topic3\", \"Topic3\", \"Topic3\", \"Topic3\", \"Topic3\", \"Topic3\", \"Topic3\", \"Topic3\", \"Topic3\", \"Topic3\", \"Topic3\", \"Topic3\", \"Topic3\", \"Topic3\", \"Topic3\", \"Topic3\", \"Topic3\", \"Topic3\", \"Topic3\", \"Topic3\", \"Topic3\", \"Topic3\", \"Topic3\", \"Topic3\", \"Topic3\", \"Topic4\", \"Topic4\", \"Topic4\", \"Topic4\", \"Topic4\", \"Topic4\", \"Topic4\", \"Topic4\", \"Topic4\", \"Topic4\", \"Topic4\", \"Topic4\", \"Topic4\", \"Topic4\", \"Topic4\", \"Topic4\", \"Topic4\", \"Topic4\", \"Topic4\", \"Topic4\", \"Topic4\", \"Topic4\", \"Topic4\", \"Topic4\", \"Topic4\", \"Topic4\", \"Topic4\", \"Topic4\", \"Topic4\", \"Topic4\", \"Topic4\", \"Topic4\", \"Topic4\", \"Topic4\", \"Topic4\", \"Topic4\", \"Topic4\", \"Topic4\", \"Topic4\", \"Topic4\", \"Topic4\", \"Topic4\", \"Topic4\", \"Topic4\", \"Topic4\", \"Topic4\", \"Topic4\", \"Topic4\", \"Topic4\", \"Topic4\", \"Topic5\", \"Topic5\", \"Topic5\", \"Topic5\", \"Topic5\", \"Topic5\", \"Topic5\", \"Topic5\", \"Topic5\", \"Topic5\", \"Topic5\", \"Topic5\", \"Topic5\", \"Topic5\", \"Topic5\", \"Topic5\", \"Topic5\", \"Topic5\", \"Topic5\", \"Topic5\", \"Topic5\", \"Topic5\", \"Topic5\", \"Topic5\", \"Topic5\", \"Topic5\", \"Topic5\", \"Topic5\", \"Topic5\", \"Topic5\", \"Topic5\", \"Topic5\", \"Topic5\", \"Topic5\", \"Topic5\", \"Topic5\", \"Topic5\", \"Topic5\", \"Topic5\", \"Topic5\", \"Topic5\", \"Topic5\", \"Topic5\", \"Topic5\", \"Topic5\", \"Topic5\", \"Topic5\"], \"Freq\": [171.0, 131.0, 119.0, 97.0, 90.0, 151.0, 137.0, 98.0, 73.0, 102.0, 63.0, 101.0, 60.0, 56.0, 51.0, 78.0, 119.0, 109.0, 77.0, 118.0, 39.0, 109.0, 41.0, 42.0, 35.0, 43.0, 36.0, 141.0, 44.0, 34.0, 191.2332305908203, 130.49288940429688, 164.3253936767578, 118.51734924316406, 117.25212097167969, 154.31008911132812, 111.87773895263672, 152.6082305908203, 120.23585510253906, 103.40906524658203, 94.81370544433594, 244.61109924316406, 108.59162139892578, 91.99125671386719, 88.23394012451172, 182.9794158935547, 87.04285430908203, 82.0147933959961, 82.93589782714844, 103.1442642211914, 78.51312255859375, 158.420166015625, 80.68421936035156, 81.12556457519531, 72.52859497070312, 212.75001525878906, 69.41940307617188, 103.25287628173828, 215.87832641601562, 68.38981628417969, 153.3026580810547, 174.93240356445312, 85.7828140258789, 154.7486572265625, 200.66921997070312, 197.8103485107422, 200.97422790527344, 136.84286499023438, 129.98179626464844, 209.84580993652344, 175.9441680908203, 126.85436248779297, 215.14450073242188, 174.88063049316406, 312.5350341796875, 164.28872680664062, 259.1372985839844, 250.32225036621094, 248.73696899414062, 271.85125732421875, 188.66653442382812, 268.88824462890625, 284.7071838378906, 190.03009033203125, 267.630615234375, 221.10699462890625, 228.867431640625, 236.43251037597656, 281.32330322265625, 262.58013916015625, 206.88211059570312, 237.47792053222656, 203.9579620361328, 219.548828125, 214.31121826171875, 214.37745666503906, 232.2229461669922, 201.93218994140625, 207.28738403320312, 203.94638061523438, 202.9516143798828, 47.517372131347656, 47.15974044799805, 41.31718826293945, 33.853355407714844, 29.99260902404785, 30.32518196105957, 30.00063133239746, 29.192018508911133, 28.432971954345703, 26.180513381958008, 29.547653198242188, 23.719905853271484, 25.533294677734375, 22.822799682617188, 21.789670944213867, 20.798179626464844, 21.71950912475586, 20.393125534057617, 19.97555923461914, 20.695850372314453, 19.75429344177246, 19.8835391998291, 20.388568878173828, 19.283687591552734, 19.876405715942383, 18.82096290588379, 18.97173500061035, 18.908411026000977, 19.54388999938965, 20.61590003967285, 26.552141189575195, 19.553829193115234, 36.95890808105469, 27.940229415893555, 30.885112762451172, 29.909603118896484, 29.8259220123291, 27.719161987304688, 97.35047912597656, 43.517860412597656, 44.1961555480957, 34.30210494995117, 23.33901023864746, 24.35846710205078, 62.59871292114258, 31.92960548400879, 37.534202575683594, 37.17230224609375, 33.222293853759766, 37.60072708129883, 53.61764907836914, 45.5953254699707, 54.16543197631836, 52.91376495361328, 63.551448822021484, 38.739349365234375, 48.55539321899414, 45.0202522277832, 43.50327682495117, 42.531532287597656, 48.278560638427734, 36.65761184692383, 41.74181365966797, 36.01639938354492, 42.68230438232422, 36.78395080566406, 39.5048713684082, 37.72467803955078, 36.19951248168945, 90.07655334472656, 50.589454650878906, 35.19804763793945, 34.13950729370117, 21.274118423461914, 20.843111038208008, 21.124706268310547, 15.22913932800293, 14.440829277038574, 14.276586532592773, 13.951223373413086, 15.580172538757324, 13.734201431274414, 13.279766082763672, 124.78202056884766, 12.133840560913086, 11.376644134521484, 161.166259765625, 10.683390617370605, 11.320045471191406, 10.228328704833984, 10.26875114440918, 10.51064682006836, 9.975881576538086, 14.203324317932129, 9.617602348327637, 9.49764633178711, 9.18751335144043, 9.349257469177246, 8.732943534851074, 10.935120582580566, 50.629295349121094, 20.599990844726562, 22.46327781677246, 31.181495666503906, 17.095144271850586, 12.673489570617676, 17.598011016845703, 12.391345024108887, 14.506671905517578, 13.923896789550781, 13.546582221984863, 19.927274703979492, 14.80139446258545, 16.648269653320312, 16.536943435668945, 14.087657928466797, 14.152873039245605, 96.73176574707031, 62.31413650512695, 38.59444046020508, 29.485553741455078, 24.853147506713867, 18.65925407409668, 18.415729522705078, 16.87565803527832, 16.832422256469727, 15.49051284790039, 15.072691917419434, 14.504963874816895, 13.621780395507812, 13.14637279510498, 14.359841346740723, 12.494148254394531, 11.7048921585083, 10.330945014953613, 10.325645446777344, 24.173667907714844, 10.13306999206543, 9.826108932495117, 9.94590950012207, 9.73103141784668, 9.21170425415039, 8.963895797729492, 8.542628288269043, 8.315030097961426, 30.900699615478516, 8.71978759765625, 52.496726989746094, 30.63286781311035, 14.392210006713867, 25.801115036010742, 44.79845428466797, 18.10163688659668, 55.17060089111328, 21.890670776367188, 15.19605827331543, 22.774070739746094, 31.39035987854004, 27.153757095336914, 35.218502044677734, 20.964567184448242, 21.378398895263672, 17.454408645629883, 16.665754318237305, 20.206619262695312, 15.770553588867188, 16.599302291870117, 28.227479934692383, 20.14006233215332, 18.903162002563477, 15.401521682739258, 14.933012008666992, 14.746017456054688, 14.217694282531738, 13.583674430847168, 13.043498039245605, 11.371453285217285, 10.608593940734863, 10.342596054077148, 10.675414085388184, 10.368602752685547, 9.56045150756836, 9.044659614562988, 8.441866874694824, 8.917107582092285, 8.926315307617188, 7.982731342315674, 8.546346664428711, 8.258777618408203, 7.564704895019531, 7.7451982498168945, 9.115184783935547, 7.480421543121338, 7.5448198318481445, 7.205422878265381, 7.381941318511963, 7.3980712890625, 60.85492706298828, 12.326087951660156, 63.868621826171875, 15.41989803314209, 13.182165145874023, 15.796355247497559, 16.470251083374023, 25.305152893066406, 19.138805389404297, 17.826128005981445, 12.22216510772705, 22.578664779663086, 18.70528221130371, 10.566864013671875, 9.787053108215332, 9.954656600952148, 9.957321166992188], \"Term\": [\"pizza\", \"sushi\", \"lobster\", \"ramen\", \"slice\", \"pork\", \"mexican\", \"tacos\", \"blue\", \"roll\", \"greek\", \"meat\", \"bbq\", \"artichoke\", \"pie\", \"beer\", \"fried\", \"steak\", \"sauce\", \"sandwich\", \"paella\", \"served\", \"oven\", \"taco\", \"pies\", \"clam\", \"blt\", \"line\", \"communal\", \"kest\\u00e9\", \"got\", \"brunch\", \"years\", \"certainly\", \"park\", \"italian\", \"game\", \"looking\", \"point\", \"midtown\", \"damn\", \"always\", \"opened\", \"french\", \"recently\", \"wait\", \"call\", \"check\", \"family\", \"guy\", \"however\", \"west\", \"amazing\", \"idea\", \"ask\", \"bit\", \"eleven\", \"give\", \"maybe\", \"week\", \"end\", \"friends\", \"mind\", \"keep\", \"village\", \"town\", \"let\", \"perfect\", \"staff\", \"infatuation\", \"places\", \"seems\", \"fish\", \"burger\", \"meal\", \"dining\", \"first\", \"right\", \"actually\", \"two\", \"neighborhood\", \"york\", \"want\", \"either\", \"thing\", \"lot\", \"take\", \"room\", \"find\", \"every\", \"need\", \"kind\", \"see\", \"better\", \"love\", \"eating\", \"something\", \"spot\", \"think\", \"might\", \"chicken\", \"spanish\", \"porchetta\", \"mussels\", \"site\", \"thai\", \"flex\", \"guacamole\", \"spending\", \"turned\", \"band\", \"overrated\", \"face\", \"dollar\", \"monkey\", \"enjoyed\", \"turning\", \"written\", \"glad\", \"bright\", \"kept\", \"tequila\", \"juice\", \"era\", \"delivery\", \"vegetable\", \"casa\", \"stars\", \"chorizo\", \"cured\", \"deserves\", \"par\", \"according\", \"mole\", \"crab\", \"ultimately\", \"blocks\", \"cozy\", \"cream\", \"mexican\", \"shop\", \"spicy\", \"twenty\", \"ice\", \"john\", \"sandwich\", \"selection\", \"hell\", \"dish\", \"guys\", \"square\", \"pork\", \"cheese\", \"nyc\", \"dishes\", \"something\", \"incredible\", \"order\", \"kitchen\", \"ever\", \"comes\", \"find\", \"world\", \"big\", \"case\", \"kind\", \"chef\", \"every\", \"think\", \"made\", \"slice\", \"pie\", \"pies\", \"kest\\u00e9\", \"strike\", \"gari\", \"slow\", \"neapolitan\", \"omakase\", \"toppings\", \"olive\", \"ridiculously\", \"prince\", \"syrup\", \"sushi\", \"crunchy\", \"tier\", \"pizza\", \"operate\", \"heavily\", \"emily\", \"crust\", \"lebanese\", \"facts\", \"toro\", \"customer\", \"falling\", \"singing\", \"nature\", \"pepperoni\", \"tiger\", \"artichoke\", \"slices\", \"joe\", \"oven\", \"entree\", \"sake\", \"pieces\", \"mozzarella\", \"southern\", \"pizzas\", \"machine\", \"sauce\", \"appetizer\", \"hell\", \"taste\", \"takes\", \"minutes\", \"ramen\", \"greek\", \"paella\", \"brisket\", \"pylos\", \"novita\", \"favorites\", \"ippudo\", \"socarrat\", \"attraction\", \"fajitas\", \"totto\", \"slop\", \"arepas\", \"suggested\", \"clay\", \"vinegar\", \"taqueria\", \"feast\", \"lindo\", \"soba\", \"sexy\", \"esquina\", \"approval\", \"smelling\", \"peter\", \"tortillas\", \"hurting\", \"authentic\", \"overcooked\", \"bbq\", \"blt\", \"meets\", \"taco\", \"tacos\", \"noodles\", \"pork\", \"dry\", \"texas\", \"communal\", \"meat\", \"sauce\", \"mexican\", \"ribs\", \"beef\", \"broth\", \"flavor\", \"served\", \"appetizer\", \"dish\", \"ribbon\", \"boat\", \"mermaid\", \"paradou\", \"smith\", \"boulud\", \"pickles\", \"sfoglia\", \"grand\", \"keith\", \"jane\", \"mary\", \"jersey\", \"led\", \"produce\", \"chowder\", \"docks\", \"empire\", \"shy\", \"uws\", \"critical\", \"absurd\", \"landmarc\", \"ride\", \"extent\", \"separates\", \"barbounia\", \"cent\", \"dress\", \"finger\", \"blue\", \"chopped\", \"lobster\", \"sized\", \"brasserie\", \"decor\", \"standards\", \"beer\", \"seafood\", \"clam\", \"brand\", \"roll\", \"fried\", \"inn\", \"bun\", \"crowd\", \"big\"], \"Total\": [171.0, 131.0, 119.0, 97.0, 90.0, 151.0, 137.0, 98.0, 73.0, 102.0, 63.0, 101.0, 60.0, 56.0, 51.0, 78.0, 119.0, 109.0, 77.0, 118.0, 39.0, 109.0, 41.0, 42.0, 35.0, 43.0, 36.0, 141.0, 44.0, 34.0, 191.8894500732422, 131.14303588867188, 165.14910888671875, 119.17191314697266, 117.90996551513672, 155.19252014160156, 112.53357696533203, 153.5116729736328, 120.98680114746094, 104.06706237792969, 95.47814178466797, 246.35589599609375, 109.3668441772461, 92.65660095214844, 88.89130401611328, 184.35415649414062, 87.6983642578125, 82.6699447631836, 83.61359405517578, 104.00497436523438, 79.16990661621094, 159.763671875, 81.38424682617188, 81.83155822753906, 73.18705749511719, 214.74208068847656, 70.06957244873047, 104.23706817626953, 217.9472198486328, 69.0453872680664, 154.88232421875, 178.07167053222656, 86.70065307617188, 157.8624267578125, 205.8909454345703, 203.6441650390625, 207.2595977783203, 139.6505584716797, 132.51486206054688, 217.16732788085938, 181.66921997070312, 129.2798309326172, 224.2880401611328, 180.78387451171875, 333.1981201171875, 169.83140563964844, 278.6417541503906, 268.48248291015625, 268.01959228515625, 295.5387268066406, 198.79229736328125, 294.11810302734375, 313.79278564453125, 200.88821411132812, 294.7574462890625, 241.83770751953125, 253.0970001220703, 264.98974609375, 330.11358642578125, 304.6420593261719, 225.22557067871094, 280.61480712890625, 226.98046875, 253.7032470703125, 245.1123046875, 250.11004638671875, 297.7514953613281, 231.0605926513672, 245.58807373046875, 241.9566650390625, 244.1714630126953, 48.180908203125, 47.826194763183594, 42.055091857910156, 34.55287551879883, 30.651979446411133, 30.99957275390625, 30.691667556762695, 29.865703582763672, 29.111831665039062, 26.85317611694336, 30.32387924194336, 24.389347076416016, 26.272010803222656, 23.507963180541992, 22.45916175842285, 21.478822708129883, 22.432537078857422, 21.0745906829834, 20.644027709960938, 21.3980655670166, 20.42679214477539, 20.566247940063477, 21.09025764465332, 19.95560646057129, 20.57025146484375, 19.479406356811523, 19.639326095581055, 19.578237533569336, 20.238187789916992, 21.349679946899414, 27.569128036499023, 20.26084327697754, 40.752254486083984, 30.375673294067383, 34.15225601196289, 33.10148620605469, 33.04843521118164, 30.33482551574707, 137.6182403564453, 52.420372009277344, 53.686866760253906, 43.14510726928711, 25.47402572631836, 27.196483612060547, 118.58464813232422, 44.4245491027832, 61.48500442504883, 62.0106086730957, 50.93089294433594, 66.1152114868164, 151.7255859375, 109.8581314086914, 170.48541259765625, 171.1590576171875, 297.7514953613281, 77.56098175048828, 196.6510467529297, 152.96754455566406, 172.4515838623047, 176.96688842773438, 330.11358642578125, 89.31343841552734, 225.00802612304688, 91.93416595458984, 280.61480712890625, 114.68807983398438, 304.6420593261719, 245.58807373046875, 132.77224731445312, 90.79195404052734, 51.30420684814453, 35.91509246826172, 34.85255432128906, 21.987998962402344, 21.55555534362793, 21.89471435546875, 15.941201210021973, 15.152831077575684, 15.00862979888916, 14.68536376953125, 16.417999267578125, 14.474526405334473, 14.020675659179688, 131.9841766357422, 12.885808944702148, 12.089872360229492, 171.7526397705078, 11.407729148864746, 12.094663619995117, 10.93779182434082, 10.99540901184082, 11.275572776794434, 10.713850021362305, 15.275835990905762, 10.348291397094727, 10.224624633789062, 9.909911155700684, 10.08875560760498, 9.443645477294922, 11.832627296447754, 56.09247589111328, 22.91100311279297, 26.304704666137695, 41.80847930908203, 21.810251235961914, 15.012199401855469, 25.233671188354492, 15.75452709197998, 21.771953582763672, 20.94586944580078, 20.83906364440918, 77.34877014160156, 31.210302352905273, 61.48500442504883, 81.5130844116211, 51.40090560913086, 67.56725311279297, 97.45361328125, 63.054351806640625, 39.33831024169922, 30.215810775756836, 25.575557708740234, 19.403934478759766, 19.20585823059082, 17.59980583190918, 17.559221267700195, 16.224088668823242, 15.799163818359375, 15.225255966186523, 14.355191230773926, 13.886846542358398, 15.183565139770508, 13.216979026794434, 12.469695091247559, 11.052935600280762, 11.051962852478027, 25.87810516357422, 10.856856346130371, 10.567521095275879, 10.698774337768555, 10.486958503723145, 9.942809104919434, 9.68989372253418, 9.278388023376465, 9.041566848754883, 33.636295318603516, 9.497208595275879, 60.427330017089844, 36.335121154785156, 17.488882064819336, 42.62310028076172, 98.4004135131836, 26.779632568359375, 151.7255859375, 38.47447967529297, 21.425472259521484, 44.065425872802734, 101.28773498535156, 77.34877014160156, 137.6182403564453, 45.96699905395508, 56.78495407104492, 38.21466064453125, 35.140472412109375, 109.89068603515625, 31.210302352905273, 62.0106086730957, 28.939971923828125, 20.89344024658203, 19.61530876159668, 16.126239776611328, 15.644720077514648, 15.47313404083252, 14.958203315734863, 14.34616470336914, 13.786125183105469, 12.123015403747559, 11.338571548461914, 11.057831764221191, 11.426283836364746, 11.15667724609375, 10.301799774169922, 9.76026725769043, 9.165349960327148, 9.683320999145508, 9.711803436279297, 8.702095031738281, 9.316866874694824, 9.048320770263672, 8.2884521484375, 8.48685359954834, 9.999086380004883, 8.216466903686523, 8.291481018066406, 7.926126003265381, 8.128975868225098, 8.163021087646484, 73.54151153564453, 14.876360893249512, 119.21113586425781, 22.61177635192871, 18.186920166015625, 24.21727752685547, 27.985488891601562, 78.80518341064453, 46.696632385253906, 43.74436950683594, 20.702791213989258, 102.92472839355469, 119.56510925292969, 28.759357452392578, 17.86713981628418, 70.69351196289062, 225.00802612304688], \"loglift\": [30.0, 29.0, 28.0, 27.0, 26.0, 25.0, 24.0, 23.0, 22.0, 21.0, 20.0, 19.0, 18.0, 17.0, 16.0, 15.0, 14.0, 13.0, 12.0, 11.0, 10.0, 9.0, 8.0, 7.0, 6.0, 5.0, 4.0, 3.0, 2.0, 1.0, 0.44359999895095825, 0.44209998846054077, 0.44200000166893005, 0.4415000081062317, 0.4413999915122986, 0.44130000472068787, 0.44119998812675476, 0.44110000133514404, 0.4408000111579895, 0.4406999945640564, 0.4399999976158142, 0.4399000108242035, 0.4399000108242035, 0.4397999942302704, 0.43959999084472656, 0.43950000405311584, 0.43950000405311584, 0.4390999972820282, 0.4388999938964844, 0.43869999051094055, 0.43869999051094055, 0.43860000371932983, 0.438400000333786, 0.438400000333786, 0.43799999356269836, 0.4377000033855438, 0.4377000033855438, 0.4375, 0.4375, 0.4375, 0.4368000030517578, 0.4291999936103821, 0.43639999628067017, 0.4271000027656555, 0.4212999939918518, 0.4180000126361847, 0.41620001196861267, 0.42669999599456787, 0.427700012922287, 0.41269999742507935, 0.41499999165534973, 0.42809998989105225, 0.40540000796318054, 0.4138000011444092, 0.382999986410141, 0.4138000011444092, 0.37450000643730164, 0.37700000405311584, 0.3723999857902527, 0.3634999990463257, 0.39469999074935913, 0.3573000133037567, 0.3497999906539917, 0.39149999618530273, 0.3504999876022339, 0.35740000009536743, 0.3463999927043915, 0.3330000042915344, 0.2870999872684479, 0.29840001463890076, 0.3621000051498413, 0.2800999879837036, 0.3400999903678894, 0.30239999294281006, 0.3127000033855438, 0.2928999960422516, 0.19850000739097595, 0.3122999966144562, 0.2775000035762787, 0.2761000096797943, 0.2621000111103058, 1.7135000228881836, 1.7132999897003174, 1.7096999883651733, 1.7069000005722046, 1.7056000232696533, 1.705399990081787, 1.7045999765396118, 1.7044999599456787, 1.7037999629974365, 1.7020000219345093, 1.7014000415802002, 1.6994999647140503, 1.698799967765808, 1.6978000402450562, 1.697100043296814, 1.695199966430664, 1.695099949836731, 1.6944999694824219, 1.6943999528884888, 1.694000005722046, 1.6938999891281128, 1.693600058555603, 1.69350004196167, 1.6930999755859375, 1.6929999589920044, 1.6929999589920044, 1.6928000450134277, 1.6924999952316284, 1.6924999952316284, 1.6923999786376953, 1.6898000240325928, 1.6917999982833862, 1.629699945449829, 1.6438000202178955, 1.6267999410629272, 1.6260000467300415, 1.6247999668121338, 1.6371999979019165, 1.3811999559402466, 1.541200041770935, 1.5327999591827393, 1.4980000257492065, 1.639799952507019, 1.6172000169754028, 1.0885000228881836, 1.3970999717712402, 1.2338000535964966, 1.2156000137329102, 1.3000999689102173, 1.1629999876022339, 0.6872000098228455, 0.8479999899864197, 0.5807999968528748, 0.5533999800682068, 0.18299999833106995, 1.0332000255584717, 0.3285999894142151, 0.5041999816894531, 0.35010001063346863, 0.30160000920295715, -0.19509999454021454, 0.8367999792098999, 0.04270000010728836, 0.7903000116348267, -0.155799999833107, 0.5902000069618225, -0.31540000438690186, -0.1459999978542328, 0.4277999997138977, 2.7360999584198, 2.7300000190734863, 2.72379994392395, 2.723299980163574, 2.7109999656677246, 2.710400104522705, 2.708199977874756, 2.6982998847961426, 2.6958999633789062, 2.694000005722046, 2.692699909210205, 2.6916000843048096, 2.691499948501587, 2.68969988822937, 2.6879000663757324, 2.6839001178741455, 2.683199882507324, 2.6803998947143555, 2.6784000396728516, 2.677799940109253, 2.6768999099731445, 2.675600051879883, 2.6737000942230225, 2.672600030899048, 2.6712000370025635, 2.670799970626831, 2.6702001094818115, 2.668299913406372, 2.6679000854492188, 2.665800094604492, 2.66510009765625, 2.6414999961853027, 2.637700080871582, 2.5861001014709473, 2.450700044631958, 2.5004000663757324, 2.5745999813079834, 2.3835999965667725, 2.5039000511169434, 2.3380000591278076, 2.335700035095215, 2.3132998943328857, 1.3877999782562256, 1.9980000257492065, 1.4375, 1.148800015449524, 1.4495999813079834, 1.180799961090088, 2.759999990463257, 2.75570011138916, 2.7483999729156494, 2.743000030517578, 2.738800048828125, 2.7283999919891357, 2.7255001068115234, 2.7255001068115234, 2.7251999378204346, 2.7211999893188477, 2.720400094985962, 2.7190001010894775, 2.7149999141693115, 2.7126998901367188, 2.711699962615967, 2.711199998855591, 2.704200029373169, 2.699899911880493, 2.69950008392334, 2.699399948120117, 2.698499917984009, 2.694700002670288, 2.694499969482422, 2.692699909210205, 2.6910998821258545, 2.6895999908447266, 2.6849000453948975, 2.6837000846862793, 2.6826999187469482, 2.6821000576019287, 2.626800060272217, 2.5968000888824463, 2.5725998878479004, 2.265500068664551, 1.9805999994277954, 2.3757998943328857, 1.7558000087738037, 2.2035000324249268, 2.4238998889923096, 2.1073999404907227, 1.5959999561309814, 1.7207000255584717, 1.4046000242233276, 1.9823999404907227, 1.7905999422073364, 1.9838999509811401, 2.0215001106262207, 1.0740000009536743, 2.08489990234375, 1.4494999647140503, 2.8649001121520996, 2.853100061416626, 2.852799892425537, 2.8438000679016113, 2.8431999683380127, 2.8417000770568848, 2.8389999866485596, 2.835200071334839, 2.834399938583374, 2.8257999420166016, 2.8232998847961426, 2.8229000568389893, 2.8217999935150146, 2.816499948501587, 2.8150999546051025, 2.813699960708618, 2.8076000213623047, 2.8073999881744385, 2.805500030517578, 2.803499937057495, 2.803499937057495, 2.7985000610351562, 2.7983999252319336, 2.7983999252319336, 2.797300100326538, 2.7960000038146973, 2.7953999042510986, 2.7945001125335693, 2.7934000492095947, 2.7913999557495117, 2.7004001140594482, 2.70169997215271, 2.265700101852417, 2.506999969482422, 2.568000078201294, 2.4625000953674316, 2.3596999645233154, 1.7538000345230103, 1.9977999925613403, 1.9921000003814697, 2.362799882888794, 1.3727999925613403, 1.0347000360488892, 1.8885999917984009, 2.287899971008301, 0.9294999837875366, -0.2280000001192093], \"logprob\": [30.0, 29.0, 28.0, 27.0, 26.0, 25.0, 24.0, 23.0, 22.0, 21.0, 20.0, 19.0, 18.0, 17.0, 16.0, 15.0, 14.0, 13.0, 12.0, 11.0, 10.0, 9.0, 8.0, 7.0, 6.0, 5.0, 4.0, 3.0, 2.0, 1.0, -5.924699783325195, -6.3069000244140625, -6.076399803161621, -6.403200149536133, -6.413899898529053, -6.1392998695373535, -6.4608001708984375, -6.150400161743164, -6.388800144195557, -6.5395002365112305, -6.626299858093262, -5.678599834442139, -6.490600109100342, -6.656499862670898, -6.698200225830078, -5.968900203704834, -6.7118000984191895, -6.771299839019775, -6.760200023651123, -6.542099952697754, -6.815000057220459, -6.11299991607666, -6.787700176239014, -6.782199859619141, -6.8942999839782715, -5.8180999755859375, -6.9380998611450195, -6.541100025177002, -5.803500175476074, -6.953000068664551, -6.1458001136779785, -6.013800144195557, -6.726399898529053, -6.13640022277832, -5.8765997886657715, -5.890900135040283, -5.875100135803223, -6.259399890899658, -6.310800075531006, -5.831900119781494, -6.0081000328063965, -6.33519983291626, -5.8069000244140625, -6.014100074768066, -5.433499813079834, -6.076600074768066, -5.6209001541137695, -5.6554999351501465, -5.661799907684326, -5.572999954223633, -5.938300132751465, -5.583899974822998, -5.526800155639648, -5.931099891662598, -5.588600158691406, -5.779600143432617, -5.745100021362305, -5.712600231170654, -5.538700103759766, -5.607699871063232, -5.846099853515625, -5.708199977874756, -5.860300064086914, -5.7866997718811035, -5.810800075531006, -5.810500144958496, -5.730500221252441, -5.870299816131592, -5.844099998474121, -5.860400199890137, -5.865300178527832, -6.036799907684326, -6.044400215148926, -6.176599979400635, -6.375899791717529, -6.497000217437744, -6.485899925231934, -6.496699810028076, -6.52400016784668, -6.5503997802734375, -6.632900238037109, -6.511899948120117, -6.731599807739258, -6.657899856567383, -6.770100116729736, -6.816500186920166, -6.86299991607666, -6.819699764251709, -6.882699966430664, -6.90339994430542, -6.868000030517578, -6.9145002365112305, -6.9079999923706055, -6.882900238037109, -6.938600063323975, -6.908400058746338, -6.962900161743164, -6.954999923706055, -6.9583001136779785, -6.92519998550415, -6.871799945831299, -6.618800163269043, -6.924699783325195, -6.288099765777588, -6.567800045013428, -6.467599868774414, -6.49970006942749, -6.502500057220459, -6.575799942016602, -5.3196001052856445, -6.12470006942749, -6.109300136566162, -6.36269998550415, -6.747799873352051, -6.704999923706055, -5.761199951171875, -6.4344000816345215, -6.272600173950195, -6.282299995422363, -6.394700050354004, -6.270899772644043, -5.915999889373779, -6.078100204467773, -5.905900001525879, -5.929200172424316, -5.746099948883057, -6.241000175476074, -6.015200138092041, -6.090799808502197, -6.125100135803223, -6.14769983291626, -6.020899772644043, -6.296299934387207, -6.166399955749512, -6.313899993896484, -6.144100189208984, -6.292799949645996, -6.221499919891357, -6.267600059509277, -6.308899879455566, -4.3805999755859375, -4.957499980926514, -5.320300102233887, -5.350800037384033, -5.823800086975098, -5.844200134277344, -5.8308000564575195, -6.158100128173828, -6.21120023727417, -6.222599983215332, -6.245699882507324, -6.135300159454346, -6.26140022277832, -6.295000076293945, -4.054699897766113, -6.385300159454346, -6.449699878692627, -3.798799991607666, -6.512599945068359, -6.454699993133545, -6.556099891662598, -6.552199840545654, -6.528900146484375, -6.581099987030029, -6.227799892425537, -6.617700099945068, -6.630199909210205, -6.663400173187256, -6.645999908447266, -6.714200019836426, -6.489299774169922, -4.956699848175049, -5.855999946594238, -5.769400119781494, -5.441400051116943, -6.042500019073486, -6.341800212860107, -6.013500213623047, -6.364299774169922, -6.206699848175049, -6.247700214385986, -6.275100231170654, -5.889200210571289, -6.186500072479248, -6.068999767303467, -6.075699806213379, -6.236000061035156, -6.231299877166748, -4.285799980163574, -4.725599765777588, -5.204699993133545, -5.473899841308594, -5.644800186157227, -5.931399822235107, -5.9446001052856445, -6.031899929046631, -6.0345001220703125, -6.117599964141846, -6.144899845123291, -6.183300018310547, -6.246099948883057, -6.281599998474121, -6.193299770355225, -6.332499980926514, -6.397799968719482, -6.522600173950195, -6.523099899291992, -5.672500133514404, -6.541999816894531, -6.572700023651123, -6.5605998039245605, -6.582499980926514, -6.63730001449585, -6.664599895477295, -6.712699890136719, -6.739699840545654, -5.427000045776367, -6.692200183868408, -4.896999835968018, -5.435699939727783, -6.191100120544434, -5.607399940490723, -5.055600166320801, -5.9618000984191895, -4.847300052642822, -5.771699905395508, -6.13670015335083, -5.7322001457214355, -5.411300182342529, -5.556300163269043, -5.296199798583984, -5.814899921417236, -5.795400142669678, -5.998199939727783, -6.044400215148926, -5.851799964904785, -6.099599838256836, -6.048399925231934, -5.395199775695801, -5.732699871063232, -5.79610013961792, -6.000999927520752, -6.031899929046631, -6.04449987411499, -6.080999851226807, -6.1265997886657715, -6.167200088500977, -6.3043999671936035, -6.373799800872803, -6.399199962615967, -6.367499828338623, -6.396699905395508, -6.477799892425537, -6.533299922943115, -6.60230016708374, -6.547500133514404, -6.546500205993652, -6.658199787139893, -6.590000152587891, -6.624199867248535, -6.711999893188477, -6.688399791717529, -6.5254998207092285, -6.723199844360352, -6.714600086212158, -6.7606000900268555, -6.736400127410889, -6.7342000007629395, -4.626999855041504, -6.223700046539307, -4.57859992980957, -5.999800205230713, -6.156599998474121, -5.9756999015808105, -5.933899879455566, -5.504499912261963, -5.783699989318848, -5.854800224304199, -6.2322001457214355, -5.618500232696533, -5.806700229644775, -6.377699851989746, -6.454400062561035, -6.437399864196777, -6.43720006942749]}, \"token.table\": {\"Topic\": [5, 2, 1, 2, 1, 2, 1, 3, 4, 4, 4, 1, 3, 1, 4, 3, 4, 2, 5, 2, 4, 1, 2, 3, 4, 1, 2, 5, 1, 2, 5, 1, 2, 4, 5, 1, 2, 2, 3, 1, 4, 4, 5, 5, 5, 2, 5, 1, 5, 2, 4, 2, 4, 1, 2, 5, 1, 2, 5, 1, 2, 1, 2, 3, 5, 1, 1, 1, 2, 3, 1, 2, 1, 2, 4, 5, 4, 5, 2, 5, 1, 5, 4, 1, 2, 1, 2, 4, 2, 3, 2, 4, 2, 4, 5, 1, 5, 3, 3, 2, 3, 1, 4, 5, 2, 2, 1, 2, 1, 2, 4, 1, 2, 4, 5, 2, 5, 2, 4, 1, 2, 1, 2, 3, 4, 1, 3, 5, 1, 2, 2, 3, 4, 2, 4, 1, 2, 3, 1, 2, 3, 4, 5, 2, 3, 4, 3, 1, 4, 4, 1, 2, 5, 1, 2, 3, 1, 2, 2, 4, 2, 1, 1, 2, 4, 5, 1, 2, 1, 3, 1, 2, 2, 1, 5, 4, 2, 1, 2, 3, 5, 3, 2, 3, 4, 1, 4, 2, 4, 1, 1, 2, 3, 1, 2, 1, 5, 4, 1, 5, 5, 2, 3, 1, 2, 2, 1, 2, 5, 2, 3, 1, 2, 1, 2, 3, 5, 3, 5, 1, 2, 3, 2, 4, 1, 2, 3, 1, 5, 1, 1, 2, 3, 1, 2, 4, 2, 3, 5, 1, 2, 4, 5, 1, 2, 1, 2, 3, 4, 1, 2, 4, 4, 5, 5, 1, 2, 4, 1, 1, 2, 3, 5, 1, 1, 2, 3, 2, 4, 2, 2, 3, 2, 3, 3, 1, 2, 3, 1, 2, 2, 4, 4, 1, 2, 5, 3, 3, 1, 3, 1, 2, 3, 4, 1, 3, 4, 2, 4, 2, 5, 1, 3, 1, 2, 4, 5, 3, 1, 3, 3, 2, 3, 2, 3, 5, 1, 2, 1, 2, 1, 2, 4, 3, 5, 4, 4, 1, 5, 1, 2, 4, 5, 3, 1, 2, 4, 1, 5, 1, 2, 3, 5, 3, 4, 1, 2, 1, 2, 3, 4, 5, 1, 2, 5, 1, 2, 1, 2, 1, 2, 5, 5, 1, 2, 3, 4, 4, 5, 1, 2, 5, 3, 2, 3, 5, 3, 3, 4, 4, 3, 4, 5, 4, 4, 1, 2, 3, 4, 3, 5, 2, 2, 2, 3, 4, 1, 2, 5, 1, 2, 3, 5, 1, 2, 4, 5, 2, 1, 2, 4, 3, 4, 1, 3, 3, 1, 4, 1, 2, 4, 1, 2, 1, 3, 4, 1, 2, 3, 4, 5, 2, 1, 2, 4, 2, 1, 2, 1, 2, 3, 3, 3, 1, 3, 4, 4, 1, 2, 2, 2, 2, 5, 1, 2, 3, 4, 2, 3, 5, 2, 1, 2, 4, 4, 1, 2, 1, 2, 3, 1, 1, 5, 1, 2, 2, 1, 1, 2, 3], \"Freq\": [0.8841419816017151, 0.9871257543563843, 0.929036557674408, 0.07089033722877502, 0.9944961667060852, 0.004059168044477701, 0.9952785968780518, 0.48061051964759827, 0.5126512050628662, 0.9535652995109558, 0.9361376762390137, 0.08913851529359818, 0.9092128276824951, 0.9974440932273865, 0.9245511889457703, 0.05945958197116852, 0.9216234683990479, 0.9682281017303467, 0.9648457169532776, 0.11584161967039108, 0.8605377674102783, 0.36981627345085144, 0.1056617945432663, 0.14088238775730133, 0.36981627345085144, 0.4441332221031189, 0.22841137647628784, 0.3172380030155182, 0.8671548366546631, 0.11824838817119598, 0.015766451135277748, 0.7644171714782715, 0.1866600066423416, 0.00444428576156497, 0.044442858546972275, 0.9918875694274902, 0.004656749311834574, 0.9063037037849426, 0.09063037484884262, 0.1376079022884369, 0.8531690239906311, 0.1631731539964676, 0.8294634819030762, 0.9572382569313049, 0.9694222211837769, 0.3864213228225708, 0.5796319842338562, 0.2199382781982422, 0.7147994041442871, 0.9688031673431396, 0.959762454032898, 0.5233593583106995, 0.4448554515838623, 0.9912840723991394, 0.4477493464946747, 0.5596866607666016, 0.9680066704750061, 0.02765733376145363, 0.005531467031687498, 0.992036759853363, 0.9753890633583069, 0.5982542037963867, 0.391584575176239, 0.010877348482608795, 0.8831552863121033, 0.998557448387146, 0.9918961524963379, 0.5461589097976685, 0.41872185468673706, 0.03641059622168541, 0.6713862419128418, 0.3226141631603241, 0.8313829898834229, 0.13515092432498932, 0.03276386111974716, 0.004095482639968395, 0.13444148004055023, 0.8066489100456238, 0.9704653024673462, 0.9221059083938599, 0.571502149105072, 0.4114815294742584, 0.9079230427742004, 0.7572038173675537, 0.24298331141471863, 0.4311770498752594, 0.04538705572485924, 0.5219511389732361, 0.9077585339546204, 0.09077585488557816, 0.9217902421951294, 0.0658421590924263, 0.9230315089225769, 0.0659308210015297, 0.9659899473190308, 0.8487342000007629, 0.14145569503307343, 0.9312570095062256, 0.9094704985618591, 0.9882307648658752, 0.966343104839325, 0.9949921369552612, 0.28904983401298523, 0.6606853008270264, 0.9521133899688721, 0.9836212992668152, 0.9656635522842407, 0.02944096177816391, 0.1290101855993271, 0.5966721177101135, 0.2741466462612152, 0.6426770687103271, 0.30965349078178406, 0.04674014821648598, 0.872852623462677, 0.9896463751792908, 0.8611170649528503, 0.4158600866794586, 0.5718076229095459, 0.8556233644485474, 0.13993839919567108, 0.9457996487617493, 0.024889463558793068, 0.014933678321540356, 0.014933678321540356, 0.9847355484962463, 0.9142613410949707, 0.9294332265853882, 0.9878467321395874, 0.006456514820456505, 0.9795557260513306, 0.779449999332428, 0.1833999902009964, 0.9483051300048828, 0.9346864819526672, 0.7364385724067688, 0.2551440894603729, 0.011597458273172379, 0.8633082509040833, 0.1313016265630722, 0.0032825409434735775, 0.006565081886947155, 0.9000822305679321, 0.9840362071990967, 0.9333713054656982, 0.9494173526763916, 0.8802279233932495, 0.9926615357398987, 0.9372140169143677, 0.9048166275024414, 0.8512221574783325, 0.14540450274944305, 0.857525646686554, 0.9295089244842529, 0.06818791478872299, 0.0035888375714421272, 0.9585887789726257, 0.035668421536684036, 0.512229859828949, 0.4837726652622223, 0.9677552580833435, 0.9929136037826538, 0.6272733211517334, 0.184000164270401, 0.025090930983424187, 0.15890923142433167, 0.9827503561973572, 0.016847148537635803, 0.9952585101127625, 0.9742268323898315, 0.9881321787834167, 0.00959351658821106, 0.9490101337432861, 0.995364785194397, 0.9429770708084106, 0.9832786917686462, 0.9774640202522278, 0.9903372526168823, 0.6479368209838867, 0.2356133759021759, 0.11780668795108795, 0.909492015838623, 0.6180368661880493, 0.276490181684494, 0.11384889483451843, 0.9978538751602173, 0.8848024010658264, 0.9028804302215576, 0.07851134240627289, 0.989838182926178, 0.4770439863204956, 0.5028301477432251, 0.025786161422729492, 0.9669963121414185, 0.032233208417892456, 0.6258832216262817, 0.38248419761657715, 0.9659197330474854, 0.9923158884048462, 0.9701398611068726, 0.9626926779747009, 0.11404804140329361, 0.8363522887229919, 0.07353892177343369, 0.8824670314788818, 0.9724671244621277, 0.9818676114082336, 0.012669258750975132, 0.9073650240898132, 0.9813971519470215, 0.9755382537841797, 0.8445740938186646, 0.15323495864868164, 0.6929574608802795, 0.2941800653934479, 0.013074669055640697, 0.9651983380317688, 0.975560188293457, 0.8963242173194885, 0.9697982668876648, 0.02412433549761772, 0.004824867006391287, 0.038642704486846924, 0.9274249076843262, 0.906355082988739, 0.014161798171699047, 0.07788988947868347, 0.46136629581451416, 0.5368626117706299, 0.9966669082641602, 0.9138360023498535, 0.06616006791591644, 0.01654001697897911, 0.873069167137146, 0.1142333522439003, 0.008159524761140347, 0.09597360342741013, 0.6718152165412903, 0.2399340122938156, 0.7155109643936157, 0.271140992641449, 0.0075316946022212505, 0.9043363928794861, 0.9910656213760376, 0.004588266834616661, 0.9393810629844666, 0.054021913558244705, 0.003001217497512698, 0.003001217497512698, 0.40478742122650146, 0.2863130569458008, 0.30605876445770264, 0.8005085587501526, 0.11435836553573608, 0.9686312079429626, 0.0363323912024498, 0.7048484086990356, 0.2543267607688904, 0.9897463917732239, 0.8431261777877808, 0.14052103459835052, 0.004132971633225679, 0.012398914434015751, 0.991918683052063, 0.710403323173523, 0.07400034368038177, 0.20720095932483673, 0.9079252481460571, 0.07361555844545364, 0.9783918857574463, 0.190421462059021, 0.761685848236084, 0.9749116897583008, 0.8920822739601135, 0.9409579634666443, 0.9190785884857178, 0.0754798874258995, 0.004439993295818567, 0.9507410526275635, 0.050303760915994644, 0.29873448610305786, 0.6721526384353638, 0.9791828393936157, 0.6393508911132812, 0.3167426288127899, 0.0410592295229435, 0.9533301591873169, 0.9239197373390198, 0.9966457486152649, 0.9642584919929504, 0.6966655254364014, 0.24917232990264893, 0.030510898679494858, 0.025425748899579048, 0.23918592929840088, 0.7414763569831848, 0.9476468563079834, 0.9893193244934082, 0.9914000034332275, 0.9793563485145569, 0.9301610589027405, 0.992282509803772, 0.9530218243598938, 0.9810200929641724, 0.014321460388600826, 0.9288027286529541, 0.9359412789344788, 0.9940705299377441, 0.27740710973739624, 0.7133325934410095, 0.9745206832885742, 0.05822326987981796, 0.9373946189880371, 0.19096843898296356, 0.6683895587921143, 0.14322632551193237, 0.9687937498092651, 0.027522549033164978, 0.9918437004089355, 0.9827250838279724, 0.2834063768386841, 0.355905681848526, 0.362496554851532, 0.967216432094574, 0.970704197883606, 0.9774957895278931, 0.9953453540802002, 0.9899731278419495, 0.9675199389457703, 0.4350947439670563, 0.10877368599176407, 0.45684948563575745, 0.9426344037055969, 0.9745401740074158, 0.9311594367027283, 0.059594202786684036, 0.0037246376741677523, 0.7772670388221741, 0.22346428036689758, 0.8906005024909973, 0.07170088589191437, 0.011321192607283592, 0.026416117325425148, 0.8659623861312866, 0.1332249790430069, 0.4722365140914917, 0.5312660932540894, 0.025856908410787582, 0.3361397981643677, 0.25856906175613403, 0.3490682542324066, 0.025856908410787582, 0.29980748891830444, 0.29980748891830444, 0.4068816006183624, 0.8987557291984558, 0.10133030265569687, 0.9823651313781738, 0.01547031756490469, 0.22510077059268951, 0.7203224301338196, 0.045020151883363724, 0.8519476652145386, 0.4640975594520569, 0.28209853172302246, 0.07279961556196213, 0.18199904263019562, 0.9462957382202148, 0.9758705496788025, 0.15261241793632507, 0.8393683433532715, 0.92670738697052, 0.9081817269325256, 0.9839991331100464, 0.3095732033252716, 0.6633711457252502, 0.991277277469635, 0.91659015417099, 0.08729430288076401, 0.9752569198608398, 0.9591355919837952, 0.9051767587661743, 0.9587899446487427, 0.9210769534111023, 0.9681522846221924, 0.7791732549667358, 0.21494434773921967, 0.0033585054334253073, 0.0033585054334253073, 0.6889597773551941, 0.3215145468711853, 0.9962452054023743, 0.9710134267807007, 0.8195672631263733, 0.055879589170217514, 0.11175917834043503, 0.8742295503616333, 0.12118033319711685, 0.004327869042754173, 0.30250224471092224, 0.5747542977333069, 0.07562556117773056, 0.045375335961580276, 0.98102205991745, 0.015092646703124046, 0.3930608630180359, 0.5717248916625977, 0.9674466252326965, 0.823827862739563, 0.03661457076668739, 0.1373046487569809, 0.955066442489624, 0.9220495820045471, 0.053036659955978394, 0.9470832347869873, 0.9272021055221558, 0.37538328766822815, 0.6099978685379028, 0.49796539545059204, 0.04065023735165596, 0.4573151469230652, 0.9047914147377014, 0.09087424725294113, 0.7198317050933838, 0.27236872911453247, 0.9047369956970215, 0.6256664395332336, 0.11041171848773956, 0.20855547487735748, 0.04907187819480896, 0.02453593909740448, 0.9791062474250793, 0.18669366836547852, 0.09334683418273926, 0.7001012563705444, 0.9787296056747437, 0.9092221260070801, 0.08820811659097672, 0.8428748250007629, 0.1547306478023529, 0.9098524451255798, 0.9296329021453857, 0.9327966570854187, 0.0654628649353981, 0.9164801239967346, 0.9699960947036743, 0.9852051138877869, 0.972284197807312, 0.02455263026058674, 0.9618082642555237, 0.9777072072029114, 0.7880383729934692, 0.18542079627513885, 0.9203531742095947, 0.047371119260787964, 0.03045286238193512, 0.003383651375770569, 0.9076999425888062, 0.0878419280052185, 0.9193188548088074, 0.9722778797149658, 0.9762449860572815, 0.019427761435508728, 0.004856940358877182, 0.962333083152771, 0.9926546216011047, 0.00542434211820364, 0.9082427024841309, 0.08604404330253601, 0.006373632699251175, 0.9848594069480896, 0.9889607429504395, 0.006259245332330465, 0.5822192430496216, 0.41427135467529297, 0.9807183146476746, 0.9930419921875, 0.9145985841751099, 0.06119990348815918, 0.023799963295459747], \"Term\": [\"absurd\", \"according\", \"actually\", \"actually\", \"always\", \"always\", \"amazing\", \"appetizer\", \"appetizer\", \"approval\", \"arepas\", \"artichoke\", \"artichoke\", \"ask\", \"attraction\", \"authentic\", \"authentic\", \"band\", \"barbounia\", \"bbq\", \"bbq\", \"beef\", \"beef\", \"beef\", \"beef\", \"beer\", \"beer\", \"beer\", \"better\", \"better\", \"better\", \"big\", \"big\", \"big\", \"big\", \"bit\", \"bit\", \"blocks\", \"blocks\", \"blt\", \"blt\", \"blue\", \"blue\", \"boat\", \"boulud\", \"brand\", \"brand\", \"brasserie\", \"brasserie\", \"bright\", \"brisket\", \"broth\", \"broth\", \"brunch\", \"bun\", \"bun\", \"burger\", \"burger\", \"burger\", \"call\", \"casa\", \"case\", \"case\", \"case\", \"cent\", \"certainly\", \"check\", \"cheese\", \"cheese\", \"cheese\", \"chef\", \"chef\", \"chicken\", \"chicken\", \"chicken\", \"chicken\", \"chopped\", \"chopped\", \"chorizo\", \"chowder\", \"clam\", \"clam\", \"clay\", \"comes\", \"comes\", \"communal\", \"communal\", \"communal\", \"cozy\", \"cozy\", \"crab\", \"crab\", \"cream\", \"cream\", \"critical\", \"crowd\", \"crowd\", \"crunchy\", \"crust\", \"cured\", \"customer\", \"damn\", \"decor\", \"decor\", \"delivery\", \"deserves\", \"dining\", \"dining\", \"dish\", \"dish\", \"dish\", \"dishes\", \"dishes\", \"dishes\", \"docks\", \"dollar\", \"dress\", \"dry\", \"dry\", \"eating\", \"eating\", \"either\", \"either\", \"either\", \"either\", \"eleven\", \"emily\", \"empire\", \"end\", \"end\", \"enjoyed\", \"entree\", \"entree\", \"era\", \"esquina\", \"ever\", \"ever\", \"ever\", \"every\", \"every\", \"every\", \"every\", \"extent\", \"face\", \"facts\", \"fajitas\", \"falling\", \"family\", \"favorites\", \"feast\", \"find\", \"find\", \"finger\", \"first\", \"first\", \"first\", \"fish\", \"fish\", \"flavor\", \"flavor\", \"flex\", \"french\", \"fried\", \"fried\", \"fried\", \"fried\", \"friends\", \"friends\", \"game\", \"gari\", \"give\", \"give\", \"glad\", \"got\", \"grand\", \"greek\", \"guacamole\", \"guy\", \"guys\", \"guys\", \"guys\", \"heavily\", \"hell\", \"hell\", \"hell\", \"however\", \"hurting\", \"ice\", \"ice\", \"idea\", \"incredible\", \"incredible\", \"incredible\", \"infatuation\", \"infatuation\", \"inn\", \"inn\", \"ippudo\", \"italian\", \"jane\", \"jersey\", \"joe\", \"joe\", \"john\", \"john\", \"juice\", \"keep\", \"keep\", \"keith\", \"kept\", \"kest\\u00e9\", \"kind\", \"kind\", \"kitchen\", \"kitchen\", \"kitchen\", \"landmarc\", \"lebanese\", \"led\", \"let\", \"let\", \"let\", \"lindo\", \"lindo\", \"line\", \"line\", \"line\", \"lobster\", \"lobster\", \"looking\", \"lot\", \"lot\", \"lot\", \"love\", \"love\", \"love\", \"machine\", \"machine\", \"machine\", \"made\", \"made\", \"made\", \"mary\", \"maybe\", \"maybe\", \"meal\", \"meal\", \"meal\", \"meal\", \"meat\", \"meat\", \"meat\", \"meets\", \"meets\", \"mermaid\", \"mexican\", \"mexican\", \"mexican\", \"midtown\", \"might\", \"might\", \"might\", \"might\", \"mind\", \"minutes\", \"minutes\", \"minutes\", \"mole\", \"mole\", \"monkey\", \"mozzarella\", \"mozzarella\", \"mussels\", \"nature\", \"neapolitan\", \"need\", \"need\", \"need\", \"neighborhood\", \"neighborhood\", \"noodles\", \"noodles\", \"novita\", \"nyc\", \"nyc\", \"nyc\", \"olive\", \"omakase\", \"opened\", \"operate\", \"order\", \"order\", \"order\", \"order\", \"oven\", \"oven\", \"overcooked\", \"overrated\", \"paella\", \"par\", \"paradou\", \"park\", \"pepperoni\", \"perfect\", \"perfect\", \"peter\", \"pickles\", \"pie\", \"pieces\", \"pieces\", \"pies\", \"pizza\", \"pizza\", \"pizzas\", \"pizzas\", \"pizzas\", \"places\", \"places\", \"point\", \"porchetta\", \"pork\", \"pork\", \"pork\", \"prince\", \"produce\", \"pylos\", \"ramen\", \"recently\", \"ribbon\", \"ribs\", \"ribs\", \"ribs\", \"ride\", \"ridiculously\", \"right\", \"right\", \"right\", \"roll\", \"roll\", \"room\", \"room\", \"room\", \"room\", \"sake\", \"sake\", \"sandwich\", \"sandwich\", \"sauce\", \"sauce\", \"sauce\", \"sauce\", \"sauce\", \"seafood\", \"seafood\", \"seafood\", \"see\", \"see\", \"seems\", \"seems\", \"selection\", \"selection\", \"selection\", \"separates\", \"served\", \"served\", \"served\", \"served\", \"sexy\", \"sfoglia\", \"shop\", \"shop\", \"shy\", \"singing\", \"site\", \"sized\", \"sized\", \"slice\", \"slices\", \"slices\", \"slop\", \"slow\", \"smelling\", \"smith\", \"soba\", \"socarrat\", \"something\", \"something\", \"something\", \"something\", \"southern\", \"southern\", \"spanish\", \"spending\", \"spicy\", \"spicy\", \"spicy\", \"spot\", \"spot\", \"spot\", \"square\", \"square\", \"square\", \"square\", \"staff\", \"staff\", \"standards\", \"standards\", \"stars\", \"steak\", \"steak\", \"steak\", \"strike\", \"suggested\", \"sushi\", \"sushi\", \"syrup\", \"taco\", \"taco\", \"tacos\", \"tacos\", \"tacos\", \"take\", \"take\", \"takes\", \"takes\", \"taqueria\", \"taste\", \"taste\", \"taste\", \"taste\", \"taste\", \"tequila\", \"texas\", \"texas\", \"texas\", \"thai\", \"thing\", \"thing\", \"think\", \"think\", \"tier\", \"tiger\", \"toppings\", \"toro\", \"toro\", \"tortillas\", \"totto\", \"town\", \"town\", \"turned\", \"turning\", \"twenty\", \"twenty\", \"two\", \"two\", \"two\", \"two\", \"ultimately\", \"ultimately\", \"uws\", \"vegetable\", \"village\", \"village\", \"village\", \"vinegar\", \"wait\", \"wait\", \"want\", \"want\", \"want\", \"week\", \"west\", \"west\", \"world\", \"world\", \"written\", \"years\", \"york\", \"york\", \"york\"]}, \"R\": 30, \"lambda.step\": 0.01, \"plot.opts\": {\"xlab\": \"PC1\", \"ylab\": \"PC2\"}, \"topic.order\": [2, 3, 1, 5, 4]};\n",
       "\n",
       "function LDAvis_load_lib(url, callback){\n",
       "  var s = document.createElement('script');\n",
       "  s.src = url;\n",
       "  s.async = true;\n",
       "  s.onreadystatechange = s.onload = callback;\n",
       "  s.onerror = function(){console.warn(\"failed to load library \" + url);};\n",
       "  document.getElementsByTagName(\"head\")[0].appendChild(s);\n",
       "}\n",
       "\n",
       "if(typeof(LDAvis) !== \"undefined\"){\n",
       "   // already loaded: just create the visualization\n",
       "   !function(LDAvis){\n",
       "       new LDAvis(\"#\" + \"ldavis_el339384915146568107318260\", ldavis_el339384915146568107318260_data);\n",
       "   }(LDAvis);\n",
       "}else if(typeof define === \"function\" && define.amd){\n",
       "   // require.js is available: use it to load d3/LDAvis\n",
       "   require.config({paths: {d3: \"https://cdnjs.cloudflare.com/ajax/libs/d3/3.5.5/d3.min\"}});\n",
       "   require([\"d3\"], function(d3){\n",
       "      window.d3 = d3;\n",
       "      LDAvis_load_lib(\"https://cdn.rawgit.com/bmabey/pyLDAvis/files/ldavis.v1.0.0.js\", function(){\n",
       "        new LDAvis(\"#\" + \"ldavis_el339384915146568107318260\", ldavis_el339384915146568107318260_data);\n",
       "      });\n",
       "    });\n",
       "}else{\n",
       "    // require.js not available: dynamically load d3 & LDAvis\n",
       "    LDAvis_load_lib(\"https://cdnjs.cloudflare.com/ajax/libs/d3/3.5.5/d3.min.js\", function(){\n",
       "         LDAvis_load_lib(\"https://cdn.rawgit.com/bmabey/pyLDAvis/files/ldavis.v1.0.0.js\", function(){\n",
       "                 new LDAvis(\"#\" + \"ldavis_el339384915146568107318260\", ldavis_el339384915146568107318260_data);\n",
       "            })\n",
       "         });\n",
       "}\n",
       "</script>"
      ],
      "text/plain": [
       "PreparedData(topic_coordinates=              x         y  topics  cluster       Freq\n",
       "topic                                                \n",
       "1      0.280193  0.025763       1        1  63.952709\n",
       "2      0.109308 -0.042534       2        1  17.775301\n",
       "0     -0.127398  0.170741       3        1   6.431288\n",
       "4     -0.125962 -0.174780       4        1   6.281989\n",
       "3     -0.136141  0.020809       5        1   5.558719, topic_info=      Category        Freq       Term       Total  loglift  logprob\n",
       "term                                                               \n",
       "114    Default  171.000000      pizza  171.000000  30.0000  30.0000\n",
       "275    Default  131.000000      sushi  131.000000  29.0000  29.0000\n",
       "3223   Default  119.000000    lobster  119.000000  28.0000  28.0000\n",
       "862    Default   97.000000      ramen   97.000000  27.0000  27.0000\n",
       "138    Default   90.000000      slice   90.000000  26.0000  26.0000\n",
       "999    Default  151.000000       pork  151.000000  25.0000  25.0000\n",
       "2318   Default  137.000000    mexican  137.000000  24.0000  24.0000\n",
       "602    Default   98.000000      tacos   98.000000  23.0000  23.0000\n",
       "911    Default   73.000000       blue   73.000000  22.0000  22.0000\n",
       "3158   Default  102.000000       roll  102.000000  21.0000  21.0000\n",
       "1073   Default   63.000000      greek   63.000000  20.0000  20.0000\n",
       "90     Default  101.000000       meat  101.000000  19.0000  19.0000\n",
       "2117   Default   60.000000        bbq   60.000000  18.0000  18.0000\n",
       "6826   Default   56.000000  artichoke   56.000000  17.0000  17.0000\n",
       "112    Default   51.000000        pie   51.000000  16.0000  16.0000\n",
       "1708   Default   78.000000       beer   78.000000  15.0000  15.0000\n",
       "502    Default  119.000000      fried  119.000000  14.0000  14.0000\n",
       "597    Default  109.000000      steak  109.000000  13.0000  13.0000\n",
       "130    Default   77.000000      sauce   77.000000  12.0000  12.0000\n",
       "576    Default  118.000000   sandwich  118.000000  11.0000  11.0000\n",
       "994    Default   39.000000     paella   39.000000  10.0000  10.0000\n",
       "580    Default  109.000000     served  109.000000   9.0000   9.0000\n",
       "104    Default   41.000000       oven   41.000000   8.0000   8.0000\n",
       "2335   Default   42.000000       taco   42.000000   7.0000   7.0000\n",
       "3669   Default   35.000000       pies   35.000000   6.0000   6.0000\n",
       "3605   Default   43.000000       clam   43.000000   5.0000   5.0000\n",
       "8499   Default   36.000000        blt   36.000000   4.0000   4.0000\n",
       "704    Default  141.000000       line  141.000000   3.0000   3.0000\n",
       "2727   Default   44.000000   communal   44.000000   2.0000   2.0000\n",
       "4952   Default   34.000000      kesté   34.000000   1.0000   1.0000\n",
       "...        ...         ...        ...         ...      ...      ...\n",
       "4696    Topic5    8.917108     empire    9.683321   2.8074  -6.5475\n",
       "10493   Topic5    8.926315        shy    9.711803   2.8055  -6.5465\n",
       "5148    Topic5    7.982731        uws    8.702095   2.8035  -6.6582\n",
       "9842    Topic5    8.546347   critical    9.316867   2.8035  -6.5900\n",
       "8497    Topic5    8.258778     absurd    9.048321   2.7985  -6.6242\n",
       "14560   Topic5    7.564705   landmarc    8.288452   2.7984  -6.7120\n",
       "3584    Topic5    7.745198       ride    8.486854   2.7984  -6.6884\n",
       "2497    Topic5    9.115185     extent    9.999086   2.7973  -6.5255\n",
       "3910    Topic5    7.480422  separates    8.216467   2.7960  -6.7232\n",
       "13982   Topic5    7.544820  barbounia    8.291481   2.7954  -6.7146\n",
       "8613    Topic5    7.205423       cent    7.926126   2.7945  -6.7606\n",
       "1150    Topic5    7.381941      dress    8.128976   2.7934  -6.7364\n",
       "7796    Topic5    7.398071     finger    8.163021   2.7914  -6.7342\n",
       "911     Topic5   60.854927       blue   73.541512   2.7004  -4.6270\n",
       "5813    Topic5   12.326088    chopped   14.876361   2.7017  -6.2237\n",
       "3223    Topic5   63.868622    lobster  119.211136   2.2657  -4.5786\n",
       "3347    Topic5   15.419898      sized   22.611776   2.5070  -5.9998\n",
       "7068    Topic5   13.182165  brasserie   18.186920   2.5680  -6.1566\n",
       "4395    Topic5   15.796355      decor   24.217278   2.4625  -5.9757\n",
       "7803    Topic5   16.470251  standards   27.985489   2.3597  -5.9339\n",
       "1708    Topic5   25.305153       beer   78.805183   1.7538  -5.5045\n",
       "579     Topic5   19.138805    seafood   46.696632   1.9978  -5.7837\n",
       "3605    Topic5   17.826128       clam   43.744370   1.9921  -5.8548\n",
       "8915    Topic5   12.222165      brand   20.702791   2.3628  -6.2322\n",
       "3158    Topic5   22.578665       roll  102.924728   1.3728  -5.6185\n",
       "502     Topic5   18.705282      fried  119.565109   1.0347  -5.8067\n",
       "1498    Topic5   10.566864        inn   28.759357   1.8886  -6.3777\n",
       "2492    Topic5    9.787053        bun   17.867140   2.2879  -6.4544\n",
       "1064    Topic5    9.954657      crowd   70.693512   0.9295  -6.4374\n",
       "11      Topic5    9.957321        big  225.008026  -0.2280  -6.4372\n",
       "\n",
       "[315 rows x 6 columns], token_table=       Topic      Freq        Term\n",
       "term                              \n",
       "8497       5  0.884142      absurd\n",
       "2774       2  0.987126   according\n",
       "636        1  0.929037    actually\n",
       "636        2  0.070890    actually\n",
       "1          1  0.994496      always\n",
       "1          2  0.004059      always\n",
       "4776       1  0.995279     amazing\n",
       "1051       3  0.480611   appetizer\n",
       "1051       4  0.512651   appetizer\n",
       "11425      4  0.953565    approval\n",
       "12684      4  0.936138      arepas\n",
       "6826       1  0.089139   artichoke\n",
       "6826       3  0.909213   artichoke\n",
       "2027       1  0.997444         ask\n",
       "5          4  0.924551  attraction\n",
       "4896       3  0.059460   authentic\n",
       "4896       4  0.921623   authentic\n",
       "4491       2  0.968228        band\n",
       "13982      5  0.964846   barbounia\n",
       "2117       2  0.115842         bbq\n",
       "2117       4  0.860538         bbq\n",
       "649        1  0.369816        beef\n",
       "649        2  0.105662        beef\n",
       "649        3  0.140882        beef\n",
       "649        4  0.369816        beef\n",
       "1708       1  0.444133        beer\n",
       "1708       2  0.228411        beer\n",
       "1708       5  0.317238        beer\n",
       "10         1  0.867155      better\n",
       "10         2  0.118248      better\n",
       "...      ...       ...         ...\n",
       "1317       2  0.977707     turning\n",
       "3381       2  0.788038      twenty\n",
       "3381       5  0.185421      twenty\n",
       "1040       1  0.920353         two\n",
       "1040       2  0.047371         two\n",
       "1040       3  0.030453         two\n",
       "1040       4  0.003384         two\n",
       "2162       2  0.907700  ultimately\n",
       "2162       3  0.087842  ultimately\n",
       "5148       5  0.919319         uws\n",
       "1701       2  0.972278   vegetable\n",
       "289        1  0.976245     village\n",
       "289        2  0.019428     village\n",
       "289        4  0.004857     village\n",
       "1702       4  0.962333     vinegar\n",
       "776        1  0.992655        wait\n",
       "776        2  0.005424        wait\n",
       "169        1  0.908243        want\n",
       "169        2  0.086044        want\n",
       "169        3  0.006374        want\n",
       "2411       1  0.984859        week\n",
       "170        1  0.988961        west\n",
       "170        5  0.006259        west\n",
       "431        1  0.582219       world\n",
       "431        2  0.414271       world\n",
       "3456       2  0.980718     written\n",
       "2171       1  0.993042       years\n",
       "433        1  0.914599        york\n",
       "433        2  0.061200        york\n",
       "433        3  0.023800        york\n",
       "\n",
       "[480 rows x 3 columns], R=30, lambda_step=0.01, plot_opts={'xlab': 'PC1', 'ylab': 'PC2'}, topic_order=[2, 3, 1, 5, 4])"
      ]
     },
     "execution_count": 96,
     "metadata": {},
     "output_type": "execute_result"
    }
   ],
   "source": [
    "vis_4 = pyLDAvis.gensim.prepare(lda_model_4, corpus_4, dictionary_4)\n",
    "vis_4"
   ]
  },
  {
   "cell_type": "code",
   "execution_count": 109,
   "metadata": {},
   "outputs": [
    {
     "data": {
      "text/html": [
       "<div>\n",
       "<style scoped>\n",
       "    .dataframe tbody tr th:only-of-type {\n",
       "        vertical-align: middle;\n",
       "    }\n",
       "\n",
       "    .dataframe tbody tr th {\n",
       "        vertical-align: top;\n",
       "    }\n",
       "\n",
       "    .dataframe thead th {\n",
       "        text-align: right;\n",
       "    }\n",
       "</style>\n",
       "<table border=\"1\" class=\"dataframe\">\n",
       "  <thead>\n",
       "    <tr style=\"text-align: right;\">\n",
       "      <th></th>\n",
       "      <th>Document_No</th>\n",
       "      <th>Dominant_Topic</th>\n",
       "      <th>Topic_Perc_Contrib</th>\n",
       "      <th>Keywords</th>\n",
       "      <th>Text</th>\n",
       "    </tr>\n",
       "  </thead>\n",
       "  <tbody>\n",
       "    <tr>\n",
       "      <th>0</th>\n",
       "      <td>0</td>\n",
       "      <td>1.0</td>\n",
       "      <td>0.3883</td>\n",
       "      <td>meal, want, find, two, york, thing, every, fir...</td>\n",
       "      <td>A typical NYC slice shop has a few basic eleme...</td>\n",
       "    </tr>\n",
       "    <tr>\n",
       "      <th>1</th>\n",
       "      <td>1</td>\n",
       "      <td>1.0</td>\n",
       "      <td>0.5771</td>\n",
       "      <td>meal, want, find, two, york, thing, every, fir...</td>\n",
       "      <td>Tolerance for group trips can vary widely. Som...</td>\n",
       "    </tr>\n",
       "    <tr>\n",
       "      <th>2</th>\n",
       "      <td>2</td>\n",
       "      <td>2.0</td>\n",
       "      <td>0.5018</td>\n",
       "      <td>mexican, something, sandwich, nyc, pork, dishe...</td>\n",
       "      <td>When the apocalypse eventually comes for New Y...</td>\n",
       "    </tr>\n",
       "    <tr>\n",
       "      <th>3</th>\n",
       "      <td>3</td>\n",
       "      <td>2.0</td>\n",
       "      <td>0.5802</td>\n",
       "      <td>mexican, something, sandwich, nyc, pork, dishe...</td>\n",
       "      <td>When you’re young, you don’t have to think muc...</td>\n",
       "    </tr>\n",
       "    <tr>\n",
       "      <th>4</th>\n",
       "      <td>4</td>\n",
       "      <td>0.0</td>\n",
       "      <td>0.3703</td>\n",
       "      <td>pizza, sushi, slice, artichoke, pie, pies, kes...</td>\n",
       "      <td>There’s a bleak, sweaty place on 34th Street w...</td>\n",
       "    </tr>\n",
       "    <tr>\n",
       "      <th>5</th>\n",
       "      <td>5</td>\n",
       "      <td>1.0</td>\n",
       "      <td>0.4643</td>\n",
       "      <td>meal, want, find, two, york, thing, every, fir...</td>\n",
       "      <td>New York is near an ocean with plenty of free ...</td>\n",
       "    </tr>\n",
       "    <tr>\n",
       "      <th>6</th>\n",
       "      <td>6</td>\n",
       "      <td>1.0</td>\n",
       "      <td>0.3672</td>\n",
       "      <td>meal, want, find, two, york, thing, every, fir...</td>\n",
       "      <td>When some things change, they become unrecogni...</td>\n",
       "    </tr>\n",
       "    <tr>\n",
       "      <th>7</th>\n",
       "      <td>7</td>\n",
       "      <td>1.0</td>\n",
       "      <td>0.5457</td>\n",
       "      <td>meal, want, find, two, york, thing, every, fir...</td>\n",
       "      <td>Around the time Kyma opened, we heard that Bil...</td>\n",
       "    </tr>\n",
       "    <tr>\n",
       "      <th>8</th>\n",
       "      <td>8</td>\n",
       "      <td>1.0</td>\n",
       "      <td>0.9448</td>\n",
       "      <td>meal, want, find, two, york, thing, every, fir...</td>\n",
       "      <td>We have mixed feelings toward secret places. O...</td>\n",
       "    </tr>\n",
       "    <tr>\n",
       "      <th>9</th>\n",
       "      <td>9</td>\n",
       "      <td>2.0</td>\n",
       "      <td>0.8855</td>\n",
       "      <td>mexican, something, sandwich, nyc, pork, dishe...</td>\n",
       "      <td>Casual weeknight dinners are rarely memorable....</td>\n",
       "    </tr>\n",
       "  </tbody>\n",
       "</table>\n",
       "</div>"
      ],
      "text/plain": [
       "   Document_No  Dominant_Topic  Topic_Perc_Contrib  \\\n",
       "0            0             1.0              0.3883   \n",
       "1            1             1.0              0.5771   \n",
       "2            2             2.0              0.5018   \n",
       "3            3             2.0              0.5802   \n",
       "4            4             0.0              0.3703   \n",
       "5            5             1.0              0.4643   \n",
       "6            6             1.0              0.3672   \n",
       "7            7             1.0              0.5457   \n",
       "8            8             1.0              0.9448   \n",
       "9            9             2.0              0.8855   \n",
       "\n",
       "                                            Keywords  \\\n",
       "0  meal, want, find, two, york, thing, every, fir...   \n",
       "1  meal, want, find, two, york, thing, every, fir...   \n",
       "2  mexican, something, sandwich, nyc, pork, dishe...   \n",
       "3  mexican, something, sandwich, nyc, pork, dishe...   \n",
       "4  pizza, sushi, slice, artichoke, pie, pies, kes...   \n",
       "5  meal, want, find, two, york, thing, every, fir...   \n",
       "6  meal, want, find, two, york, thing, every, fir...   \n",
       "7  meal, want, find, two, york, thing, every, fir...   \n",
       "8  meal, want, find, two, york, thing, every, fir...   \n",
       "9  mexican, something, sandwich, nyc, pork, dishe...   \n",
       "\n",
       "                                                Text  \n",
       "0  A typical NYC slice shop has a few basic eleme...  \n",
       "1  Tolerance for group trips can vary widely. Som...  \n",
       "2  When the apocalypse eventually comes for New Y...  \n",
       "3  When you’re young, you don’t have to think muc...  \n",
       "4  There’s a bleak, sweaty place on 34th Street w...  \n",
       "5  New York is near an ocean with plenty of free ...  \n",
       "6  When some things change, they become unrecogni...  \n",
       "7  Around the time Kyma opened, we heard that Bil...  \n",
       "8  We have mixed feelings toward secret places. O...  \n",
       "9  Casual weeknight dinners are rarely memorable....  "
      ]
     },
     "execution_count": 109,
     "metadata": {},
     "output_type": "execute_result"
    }
   ],
   "source": [
    "df_topic_sents_keywords_4 = format_topics_sentences(model=lda_model_4, corpus=corpus_4, texts=data)\n",
    "\n",
    "# Format\n",
    "df_dominant_topic_4 = df_topic_sents_keywords_4.reset_index()\n",
    "df_dominant_topic_4.columns = ['Document_No', 'Dominant_Topic', 'Topic_Perc_Contrib', 'Keywords', 'Text']\n",
    "\n",
    "# Show\n",
    "df_dominant_topic_4.head(10)"
   ]
  },
  {
   "cell_type": "code",
   "execution_count": 110,
   "metadata": {},
   "outputs": [
    {
     "data": {
      "text/plain": [
       "1.0    755\n",
       "2.0     58\n",
       "0.0      7\n",
       "4.0      3\n",
       "3.0      1\n",
       "Name: Dominant_Topic, dtype: int64"
      ]
     },
     "execution_count": 110,
     "metadata": {},
     "output_type": "execute_result"
    }
   ],
   "source": [
    "df_dominant_topic_4['Dominant_Topic'].value_counts()"
   ]
  },
  {
   "cell_type": "code",
   "execution_count": 111,
   "metadata": {},
   "outputs": [
    {
     "data": {
      "text/plain": [
       "meal, want, find, two, york, thing, every, first, right, actually                   755\n",
       "mexican, something, sandwich, nyc, pork, dishes, order, find, spanish, porchetta     58\n",
       "pizza, sushi, slice, artichoke, pie, pies, kesté, oven, joe, strike                   7\n",
       "ramen, greek, pork, bbq, tacos, paella, mexican, meat, authentic, blt                 3\n",
       "lobster, blue, ribbon, beer, roll, boat, seafood, mermaid, fried, clam                1\n",
       "Name: Keywords, dtype: int64"
      ]
     },
     "execution_count": 111,
     "metadata": {},
     "output_type": "execute_result"
    }
   ],
   "source": [
    "df_dominant_topic_4['Keywords'].value_counts()"
   ]
  },
  {
   "cell_type": "code",
   "execution_count": null,
   "metadata": {},
   "outputs": [],
   "source": []
  }
 ],
 "metadata": {
  "kernelspec": {
   "display_name": "Python 3",
   "language": "python",
   "name": "python3"
  },
  "language_info": {
   "codemirror_mode": {
    "name": "ipython",
    "version": 3
   },
   "file_extension": ".py",
   "mimetype": "text/x-python",
   "name": "python",
   "nbconvert_exporter": "python",
   "pygments_lexer": "ipython3",
   "version": "3.6.8"
  }
 },
 "nbformat": 4,
 "nbformat_minor": 2
}
