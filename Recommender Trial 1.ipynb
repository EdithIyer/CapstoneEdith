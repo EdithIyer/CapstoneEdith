{
 "cells": [
  {
   "cell_type": "code",
   "execution_count": 1,
   "metadata": {},
   "outputs": [],
   "source": [
    "import pandas as pd\n",
    "import matplotlib.pyplot as plt\n",
    "from scipy import sparse\n",
    "from sklearn.metrics.pairwise import pairwise_distances\n",
    "from sklearn.metrics.pairwise import cosine_similarity"
   ]
  },
  {
   "cell_type": "code",
   "execution_count": 2,
   "metadata": {},
   "outputs": [],
   "source": [
    "df = pd.read_csv('./Data/data_for_reccommender_1.csv')"
   ]
  },
  {
   "cell_type": "code",
   "execution_count": 3,
   "metadata": {},
   "outputs": [
    {
     "data": {
      "text/html": [
       "<div>\n",
       "<style scoped>\n",
       "    .dataframe tbody tr th:only-of-type {\n",
       "        vertical-align: middle;\n",
       "    }\n",
       "\n",
       "    .dataframe tbody tr th {\n",
       "        vertical-align: top;\n",
       "    }\n",
       "\n",
       "    .dataframe thead th {\n",
       "        text-align: right;\n",
       "    }\n",
       "</style>\n",
       "<table border=\"1\" class=\"dataframe\">\n",
       "  <thead>\n",
       "    <tr style=\"text-align: right;\">\n",
       "      <th></th>\n",
       "      <th>rest_cost</th>\n",
       "      <th>rest_name</th>\n",
       "      <th>rest_rating</th>\n",
       "      <th>11</th>\n",
       "      <th>11th</th>\n",
       "      <th>12</th>\n",
       "      <th>13</th>\n",
       "      <th>14</th>\n",
       "      <th>14th</th>\n",
       "      <th>15</th>\n",
       "      <th>...</th>\n",
       "      <th>cuisine_type_Spanish</th>\n",
       "      <th>cuisine_type_Steaks</th>\n",
       "      <th>cuisine_type_Sushi</th>\n",
       "      <th>cuisine_type_Tacos</th>\n",
       "      <th>cuisine_type_Taiwanese</th>\n",
       "      <th>cuisine_type_Tex-Mex</th>\n",
       "      <th>cuisine_type_Thai</th>\n",
       "      <th>cuisine_type_Vegetarian</th>\n",
       "      <th>cuisine_type_Vietnamese</th>\n",
       "      <th>cuisine_type_Wine Bar</th>\n",
       "    </tr>\n",
       "  </thead>\n",
       "  <tbody>\n",
       "    <tr>\n",
       "      <th>0</th>\n",
       "      <td>4.0</td>\n",
       "      <td>Omakase Room By Tatsu</td>\n",
       "      <td>7.7</td>\n",
       "      <td>0</td>\n",
       "      <td>0</td>\n",
       "      <td>0</td>\n",
       "      <td>0</td>\n",
       "      <td>0</td>\n",
       "      <td>0</td>\n",
       "      <td>0</td>\n",
       "      <td>...</td>\n",
       "      <td>0</td>\n",
       "      <td>0</td>\n",
       "      <td>0</td>\n",
       "      <td>0</td>\n",
       "      <td>0</td>\n",
       "      <td>0</td>\n",
       "      <td>0</td>\n",
       "      <td>0</td>\n",
       "      <td>0</td>\n",
       "      <td>0</td>\n",
       "    </tr>\n",
       "    <tr>\n",
       "      <th>1</th>\n",
       "      <td>4.0</td>\n",
       "      <td>Sushi Azabu</td>\n",
       "      <td>8.5</td>\n",
       "      <td>0</td>\n",
       "      <td>0</td>\n",
       "      <td>0</td>\n",
       "      <td>0</td>\n",
       "      <td>0</td>\n",
       "      <td>0</td>\n",
       "      <td>1</td>\n",
       "      <td>...</td>\n",
       "      <td>0</td>\n",
       "      <td>0</td>\n",
       "      <td>0</td>\n",
       "      <td>0</td>\n",
       "      <td>0</td>\n",
       "      <td>0</td>\n",
       "      <td>0</td>\n",
       "      <td>0</td>\n",
       "      <td>0</td>\n",
       "      <td>0</td>\n",
       "    </tr>\n",
       "    <tr>\n",
       "      <th>2</th>\n",
       "      <td>3.0</td>\n",
       "      <td>Saint Julivert Fisherie</td>\n",
       "      <td>7.7</td>\n",
       "      <td>0</td>\n",
       "      <td>0</td>\n",
       "      <td>0</td>\n",
       "      <td>0</td>\n",
       "      <td>0</td>\n",
       "      <td>0</td>\n",
       "      <td>0</td>\n",
       "      <td>...</td>\n",
       "      <td>0</td>\n",
       "      <td>0</td>\n",
       "      <td>0</td>\n",
       "      <td>0</td>\n",
       "      <td>0</td>\n",
       "      <td>0</td>\n",
       "      <td>0</td>\n",
       "      <td>0</td>\n",
       "      <td>0</td>\n",
       "      <td>0</td>\n",
       "    </tr>\n",
       "    <tr>\n",
       "      <th>3</th>\n",
       "      <td>2.0</td>\n",
       "      <td>Farida</td>\n",
       "      <td>8.0</td>\n",
       "      <td>0</td>\n",
       "      <td>0</td>\n",
       "      <td>0</td>\n",
       "      <td>0</td>\n",
       "      <td>0</td>\n",
       "      <td>0</td>\n",
       "      <td>0</td>\n",
       "      <td>...</td>\n",
       "      <td>0</td>\n",
       "      <td>0</td>\n",
       "      <td>0</td>\n",
       "      <td>0</td>\n",
       "      <td>0</td>\n",
       "      <td>0</td>\n",
       "      <td>0</td>\n",
       "      <td>0</td>\n",
       "      <td>0</td>\n",
       "      <td>0</td>\n",
       "    </tr>\n",
       "    <tr>\n",
       "      <th>4</th>\n",
       "      <td>2.0</td>\n",
       "      <td>U-Gu</td>\n",
       "      <td>7.7</td>\n",
       "      <td>0</td>\n",
       "      <td>0</td>\n",
       "      <td>0</td>\n",
       "      <td>0</td>\n",
       "      <td>0</td>\n",
       "      <td>0</td>\n",
       "      <td>0</td>\n",
       "      <td>...</td>\n",
       "      <td>0</td>\n",
       "      <td>0</td>\n",
       "      <td>1</td>\n",
       "      <td>0</td>\n",
       "      <td>0</td>\n",
       "      <td>0</td>\n",
       "      <td>0</td>\n",
       "      <td>0</td>\n",
       "      <td>0</td>\n",
       "      <td>0</td>\n",
       "    </tr>\n",
       "  </tbody>\n",
       "</table>\n",
       "<p>5 rows × 3848 columns</p>\n",
       "</div>"
      ],
      "text/plain": [
       "   rest_cost                rest_name  rest_rating  11  11th  12  13  14  \\\n",
       "0        4.0    Omakase Room By Tatsu          7.7   0     0   0   0   0   \n",
       "1        4.0              Sushi Azabu          8.5   0     0   0   0   0   \n",
       "2        3.0  Saint Julivert Fisherie          7.7   0     0   0   0   0   \n",
       "3        2.0                   Farida          8.0   0     0   0   0   0   \n",
       "4        2.0                     U-Gu          7.7   0     0   0   0   0   \n",
       "\n",
       "   14th  15          ...            cuisine_type_Spanish  cuisine_type_Steaks  \\\n",
       "0     0   0          ...                               0                    0   \n",
       "1     0   1          ...                               0                    0   \n",
       "2     0   0          ...                               0                    0   \n",
       "3     0   0          ...                               0                    0   \n",
       "4     0   0          ...                               0                    0   \n",
       "\n",
       "   cuisine_type_Sushi  cuisine_type_Tacos  cuisine_type_Taiwanese  \\\n",
       "0                   0                   0                       0   \n",
       "1                   0                   0                       0   \n",
       "2                   0                   0                       0   \n",
       "3                   0                   0                       0   \n",
       "4                   1                   0                       0   \n",
       "\n",
       "   cuisine_type_Tex-Mex  cuisine_type_Thai  cuisine_type_Vegetarian  \\\n",
       "0                     0                  0                        0   \n",
       "1                     0                  0                        0   \n",
       "2                     0                  0                        0   \n",
       "3                     0                  0                        0   \n",
       "4                     0                  0                        0   \n",
       "\n",
       "   cuisine_type_Vietnamese  cuisine_type_Wine Bar  \n",
       "0                        0                      0  \n",
       "1                        0                      0  \n",
       "2                        0                      0  \n",
       "3                        0                      0  \n",
       "4                        0                      0  \n",
       "\n",
       "[5 rows x 3848 columns]"
      ]
     },
     "execution_count": 3,
     "metadata": {},
     "output_type": "execute_result"
    }
   ],
   "source": [
    "df.head()"
   ]
  },
  {
   "cell_type": "code",
   "execution_count": 18,
   "metadata": {},
   "outputs": [
    {
     "data": {
      "text/plain": [
       "(798, 3848)"
      ]
     },
     "execution_count": 18,
     "metadata": {},
     "output_type": "execute_result"
    }
   ],
   "source": [
    "df.shape"
   ]
  },
  {
   "cell_type": "markdown",
   "metadata": {},
   "source": [
    "## Creating an Item Based Recommender System"
   ]
  },
  {
   "cell_type": "code",
   "execution_count": 14,
   "metadata": {},
   "outputs": [],
   "source": [
    "def create_sim_matrix(df, cols_to_drop):\n",
    "    from sklearn.metrics.pairwise import cosine_similarity\n",
    "    cos_sim = cosine_similarity(df.drop(cols_to_drop, axis = 1), df.drop(cols_to_drop, axis = 1))\n",
    "    return cos_sim"
   ]
  },
  {
   "cell_type": "code",
   "execution_count": 15,
   "metadata": {},
   "outputs": [
    {
     "data": {
      "text/plain": [
       "array([[1.        , 0.49800124, 0.3813691 , ..., 0.32032102, 0.37115691,\n",
       "        0.3516557 ],\n",
       "       [0.49800124, 1.        , 0.38306506, ..., 0.38799274, 0.36324116,\n",
       "        0.34123165],\n",
       "       [0.3813691 , 0.38306506, 1.        , ..., 0.39397142, 0.40096293,\n",
       "        0.38023985],\n",
       "       ...,\n",
       "       [0.32032102, 0.38799274, 0.39397142, ..., 1.        , 0.45729609,\n",
       "        0.35365303],\n",
       "       [0.37115691, 0.36324116, 0.40096293, ..., 0.45729609, 1.        ,\n",
       "        0.40460028],\n",
       "       [0.3516557 , 0.34123165, 0.38023985, ..., 0.35365303, 0.40460028,\n",
       "        1.        ]])"
      ]
     },
     "execution_count": 15,
     "metadata": {},
     "output_type": "execute_result"
    }
   ],
   "source": [
    "create_sim_matrix(df, 'rest_name')"
   ]
  },
  {
   "cell_type": "code",
   "execution_count": 4,
   "metadata": {},
   "outputs": [],
   "source": [
    "cosine_sim = cosine_similarity(df.drop('rest_name', axis = 1), df.drop('rest_name', axis = 1))"
   ]
  },
  {
   "cell_type": "code",
   "execution_count": 12,
   "metadata": {},
   "outputs": [
    {
     "data": {
      "text/plain": [
       "array([[1.        , 0.49800124, 0.3813691 , ..., 0.32032102, 0.37115691,\n",
       "        0.3516557 ],\n",
       "       [0.49800124, 1.        , 0.38306506, ..., 0.38799274, 0.36324116,\n",
       "        0.34123165],\n",
       "       [0.3813691 , 0.38306506, 1.        , ..., 0.39397142, 0.40096293,\n",
       "        0.38023985],\n",
       "       ...,\n",
       "       [0.32032102, 0.38799274, 0.39397142, ..., 1.        , 0.45729609,\n",
       "        0.35365303],\n",
       "       [0.37115691, 0.36324116, 0.40096293, ..., 0.45729609, 1.        ,\n",
       "        0.40460028],\n",
       "       [0.3516557 , 0.34123165, 0.38023985, ..., 0.35365303, 0.40460028,\n",
       "        1.        ]])"
      ]
     },
     "execution_count": 12,
     "metadata": {},
     "output_type": "execute_result"
    }
   ],
   "source": [
    "cosine_sim"
   ]
  },
  {
   "cell_type": "code",
   "execution_count": 5,
   "metadata": {},
   "outputs": [],
   "source": [
    "indices = pd.Series(df.index)"
   ]
  },
  {
   "cell_type": "code",
   "execution_count": 22,
   "metadata": {},
   "outputs": [
    {
     "data": {
      "text/plain": [
       "4"
      ]
     },
     "execution_count": 22,
     "metadata": {},
     "output_type": "execute_result"
    }
   ],
   "source": [
    "df[df['rest_name'] == 'U-Gu'].index[0]"
   ]
  },
  {
   "cell_type": "code",
   "execution_count": 6,
   "metadata": {},
   "outputs": [],
   "source": [
    "matches = pd.Series(cosine_sim[4]).sort_values(ascending = False)"
   ]
  },
  {
   "cell_type": "code",
   "execution_count": 7,
   "metadata": {},
   "outputs": [],
   "source": [
    "top_5 = matches[1:6]"
   ]
  },
  {
   "cell_type": "code",
   "execution_count": 8,
   "metadata": {},
   "outputs": [
    {
     "data": {
      "text/plain": [
       "119    0.529630\n",
       "330    0.517786\n",
       "42     0.515992\n",
       "1      0.510306\n",
       "71     0.508832\n",
       "dtype: float64"
      ]
     },
     "execution_count": 8,
     "metadata": {},
     "output_type": "execute_result"
    }
   ],
   "source": [
    "top_5"
   ]
  },
  {
   "cell_type": "code",
   "execution_count": 68,
   "metadata": {
    "scrolled": true
   },
   "outputs": [
    {
     "name": "stdout",
     "output_type": "stream",
     "text": [
      "53.0%\n"
     ]
    }
   ],
   "source": [
    "print(f'{round(top_5.values[0], 2)*100}%')"
   ]
  },
  {
   "cell_type": "code",
   "execution_count": 64,
   "metadata": {},
   "outputs": [],
   "source": [
    "top_5_list = list(top_5.index)"
   ]
  },
  {
   "cell_type": "code",
   "execution_count": 67,
   "metadata": {},
   "outputs": [
    {
     "data": {
      "text/plain": [
       "[119, 330, 42, 1, 71]"
      ]
     },
     "execution_count": 67,
     "metadata": {},
     "output_type": "execute_result"
    }
   ],
   "source": [
    "top_5_list"
   ]
  },
  {
   "cell_type": "code",
   "execution_count": 69,
   "metadata": {},
   "outputs": [
    {
     "name": "stdout",
     "output_type": "stream",
     "text": [
      "The Loyal , rating = 3.0, cost = 3.0\n",
      "Noreetuh , rating = 3.0, cost = 3.0\n",
      "Beebe’s , rating = 2.0, cost = 2.0\n",
      "Sushi Azabu , rating = 4.0, cost = 4.0\n",
      "Abuqir , rating = 1.0, cost = 1.0\n"
     ]
    }
   ],
   "source": [
    "for i in top_5_list:\n",
    "    print(f'{df.rest_name[i]} , rating = {df.rest_cost[i]}, cost = {df.rest_cost[i]}')"
   ]
  },
  {
   "cell_type": "code",
   "execution_count": 23,
   "metadata": {},
   "outputs": [],
   "source": [
    "def recommendations(name, cosine_sim = None, df= df):\n",
    "    #empty list of restaurant\n",
    "    recommended_restaurants = []\n",
    "    if name in df['rest_name'].values:\n",
    "    \n",
    "        #find index of restaurant that matches the name\n",
    "        rest_index = df[df['rest_name'] == name].index[0]\n",
    "\n",
    "        #Find the index in the cosine matrix\n",
    "        matching_index = pd.Series(cosine_sim[rest_index]).sort_values(ascending = False)\n",
    "\n",
    "        #find top 5\n",
    "        similar_indices = list(matching_index[1:6].index)\n",
    "\n",
    "        #Print top 5 recs\n",
    "        for i in similar_indices:\n",
    "            recommended_restaurants.append(df.rest_name[i])\n",
    "            print(f'{df.rest_name[i]} , rating = {df.rest_rating[i]}, cost = {df.rest_cost[i]}')\n",
    "        \n",
    "    else:\n",
    "        print(f'Sorry, we can\\'t find what you\\'re looking for. Please try a different restaurant')"
   ]
  },
  {
   "cell_type": "code",
   "execution_count": 10,
   "metadata": {},
   "outputs": [
    {
     "name": "stdout",
     "output_type": "stream",
     "text": [
      "Ruffian , rating = 8.4, cost = 3.0\n",
      "Frenchette , rating = 8.4, cost = 4.0\n",
      "Ardesia , rating = 7.0, cost = 2.0\n",
      "Terra , rating = 6.6, cost = 4.0\n",
      "Racines , rating = 7.8, cost = 4.0\n"
     ]
    }
   ],
   "source": [
    "recommendations('Have & Meyer')"
   ]
  },
  {
   "cell_type": "code",
   "execution_count": 11,
   "metadata": {},
   "outputs": [
    {
     "name": "stdout",
     "output_type": "stream",
     "text": [
      "Bar Beau , rating = 7.4, cost = 2.0\n",
      "The Happiest Hour , rating = 7.5, cost = 2.0\n",
      "The Spaniard , rating = 6.8, cost = 2.0\n",
      "The Loyal , rating = 8.4, cost = 3.0\n",
      "2nd Floor Bar & Essen , rating = 7.9, cost = 3.0\n"
     ]
    }
   ],
   "source": [
    "recommendations('The Polynesian')"
   ]
  },
  {
   "cell_type": "code",
   "execution_count": 118,
   "metadata": {},
   "outputs": [
    {
     "name": "stdout",
     "output_type": "stream",
     "text": [
      "Sorry, we can't find what you're looking for. Please try a different restaurant\n"
     ]
    }
   ],
   "source": [
    "recommendations('OTB')"
   ]
  },
  {
   "cell_type": "code",
   "execution_count": 91,
   "metadata": {},
   "outputs": [
    {
     "name": "stdout",
     "output_type": "stream",
     "text": [
      "Mayfield , rating = 8.1, cost = 2.0\n",
      "Marlow & Sons , rating = 8.9, cost = 3.0\n",
      "Raoul’s , rating = 8.4, cost = 4.0\n",
      "Birds Of A Feather , rating = 7.8, cost = 2.0\n",
      "Bar Bolinas , rating = 7.6, cost = 3.0\n"
     ]
    }
   ],
   "source": [
    "recommendations('Meadowsweet')"
   ]
  },
  {
   "cell_type": "code",
   "execution_count": 92,
   "metadata": {},
   "outputs": [
    {
     "name": "stdout",
     "output_type": "stream",
     "text": [
      "Eleven Madison Park , rating = 9.2, cost = 4.0\n",
      "The NoMad Bar , rating = 7.8, cost = 3.0\n",
      "Fishtag , rating = 7.0, cost = 3.0\n",
      "The Clocktower , rating = 8.2, cost = 4.0\n",
      "The NoMad , rating = 7.8, cost = 3.0\n"
     ]
    }
   ],
   "source": [
    "recommendations('The Modern')"
   ]
  },
  {
   "cell_type": "code",
   "execution_count": 93,
   "metadata": {},
   "outputs": [
    {
     "name": "stdout",
     "output_type": "stream",
     "text": [
      "Rosemary’s , rating = 7.1, cost = 3.0\n",
      "Bar Sardine , rating = 8.0, cost = 2.0\n",
      "Samurai Mama , rating = 7.1, cost = 2.0\n",
      "The NoMad Bar , rating = 7.8, cost = 3.0\n",
      "Bar Primi , rating = 7.7, cost = 2.0\n"
     ]
    }
   ],
   "source": [
    "recommendations('Aita')"
   ]
  },
  {
   "cell_type": "code",
   "execution_count": 94,
   "metadata": {},
   "outputs": [
    {
     "name": "stdout",
     "output_type": "stream",
     "text": [
      "Bar San Miguel , rating = 7.6, cost = 2.0\n",
      "Upland , rating = 9.1, cost = 3.0\n",
      "Casa Enrique , rating = 9.0, cost = 3.0\n",
      "Carbone , rating = 9.4, cost = 4.0\n",
      "Cookshop , rating = 8.4, cost = 3.0\n"
     ]
    }
   ],
   "source": [
    "recommendations(\"Chavela's\")"
   ]
  },
  {
   "cell_type": "code",
   "execution_count": 95,
   "metadata": {},
   "outputs": [
    {
     "name": "stdout",
     "output_type": "stream",
     "text": [
      "The Loyal , rating = 8.4, cost = 3.0\n",
      "Simon & The Whale , rating = 8.3, cost = 3.0\n",
      "Meadowsweet , rating = 8.4, cost = 3.0\n",
      "Birds Of A Feather , rating = 7.8, cost = 2.0\n",
      "Fedora , rating = 8.5, cost = 3.0\n"
     ]
    }
   ],
   "source": [
    "recommendations('Mayfield')"
   ]
  },
  {
   "cell_type": "code",
   "execution_count": 96,
   "metadata": {},
   "outputs": [
    {
     "name": "stdout",
     "output_type": "stream",
     "text": [
      "Mayfield , rating = 8.1, cost = 2.0\n",
      "Miss Lily’s , rating = 7.8, cost = 3.0\n",
      "Cookshop , rating = 8.4, cost = 3.0\n",
      "Bar Sardine , rating = 8.0, cost = 2.0\n",
      "Chez Ma Tante , rating = 8.5, cost = 2.0\n"
     ]
    }
   ],
   "source": [
    "recommendations('Miss Ada')"
   ]
  },
  {
   "cell_type": "code",
   "execution_count": 98,
   "metadata": {},
   "outputs": [
    {
     "name": "stdout",
     "output_type": "stream",
     "text": [
      "Fishtag , rating = 7.0, cost = 3.0\n",
      "Crispo , rating = 7.7, cost = 3.0\n",
      "Milos , rating = 8.1, cost = 4.0\n",
      "Beyoglu , rating = 7.7, cost = 2.0\n",
      "Balthazar , rating = 8.1, cost = 4.0\n"
     ]
    }
   ],
   "source": [
    "recommendations('Traif')"
   ]
  },
  {
   "cell_type": "code",
   "execution_count": 101,
   "metadata": {},
   "outputs": [
    {
     "data": {
      "text/html": [
       "<div>\n",
       "<style scoped>\n",
       "    .dataframe tbody tr th:only-of-type {\n",
       "        vertical-align: middle;\n",
       "    }\n",
       "\n",
       "    .dataframe tbody tr th {\n",
       "        vertical-align: top;\n",
       "    }\n",
       "\n",
       "    .dataframe thead th {\n",
       "        text-align: right;\n",
       "    }\n",
       "</style>\n",
       "<table border=\"1\" class=\"dataframe\">\n",
       "  <thead>\n",
       "    <tr style=\"text-align: right;\">\n",
       "      <th></th>\n",
       "      <th>rest_cost</th>\n",
       "      <th>rest_name</th>\n",
       "      <th>rest_rating</th>\n",
       "      <th>11</th>\n",
       "      <th>11th</th>\n",
       "      <th>12</th>\n",
       "      <th>13</th>\n",
       "      <th>14</th>\n",
       "      <th>14th</th>\n",
       "      <th>15</th>\n",
       "      <th>...</th>\n",
       "      <th>cuisine_type_Spanish</th>\n",
       "      <th>cuisine_type_Steaks</th>\n",
       "      <th>cuisine_type_Sushi</th>\n",
       "      <th>cuisine_type_Tacos</th>\n",
       "      <th>cuisine_type_Taiwanese</th>\n",
       "      <th>cuisine_type_Tex-Mex</th>\n",
       "      <th>cuisine_type_Thai</th>\n",
       "      <th>cuisine_type_Vegetarian</th>\n",
       "      <th>cuisine_type_Vietnamese</th>\n",
       "      <th>cuisine_type_Wine Bar</th>\n",
       "    </tr>\n",
       "  </thead>\n",
       "  <tbody>\n",
       "    <tr>\n",
       "      <th>177</th>\n",
       "      <td>2.0</td>\n",
       "      <td>Anella</td>\n",
       "      <td>7.9</td>\n",
       "      <td>0</td>\n",
       "      <td>0</td>\n",
       "      <td>0</td>\n",
       "      <td>0</td>\n",
       "      <td>0</td>\n",
       "      <td>0</td>\n",
       "      <td>0</td>\n",
       "      <td>...</td>\n",
       "      <td>0</td>\n",
       "      <td>0</td>\n",
       "      <td>0</td>\n",
       "      <td>0</td>\n",
       "      <td>0</td>\n",
       "      <td>0</td>\n",
       "      <td>0</td>\n",
       "      <td>0</td>\n",
       "      <td>0</td>\n",
       "      <td>0</td>\n",
       "    </tr>\n",
       "  </tbody>\n",
       "</table>\n",
       "<p>1 rows × 3848 columns</p>\n",
       "</div>"
      ],
      "text/plain": [
       "     rest_cost rest_name  rest_rating  11  11th  12  13  14  14th  15  \\\n",
       "177        2.0    Anella          7.9   0     0   0   0   0     0   0   \n",
       "\n",
       "             ...            cuisine_type_Spanish  cuisine_type_Steaks  \\\n",
       "177          ...                               0                    0   \n",
       "\n",
       "     cuisine_type_Sushi  cuisine_type_Tacos  cuisine_type_Taiwanese  \\\n",
       "177                   0                   0                       0   \n",
       "\n",
       "     cuisine_type_Tex-Mex  cuisine_type_Thai  cuisine_type_Vegetarian  \\\n",
       "177                     0                  0                        0   \n",
       "\n",
       "     cuisine_type_Vietnamese  cuisine_type_Wine Bar  \n",
       "177                        0                      0  \n",
       "\n",
       "[1 rows x 3848 columns]"
      ]
     },
     "execution_count": 101,
     "metadata": {},
     "output_type": "execute_result"
    }
   ],
   "source": [
    "df.sample()"
   ]
  },
  {
   "cell_type": "code",
   "execution_count": 100,
   "metadata": {},
   "outputs": [
    {
     "name": "stdout",
     "output_type": "stream",
     "text": [
      "Beyoglu , rating = 7.7, cost = 2.0\n",
      "Sable's , rating = 8.0, cost = 2.0\n",
      "Sao Mai , rating = 8.3, cost = 1.0\n",
      "Blondies , rating = 8.0, cost = 1.0\n",
      "Neil's Coffee Shop , rating = 7.3, cost = 2.0\n"
     ]
    }
   ],
   "source": [
    "recommendations('Fiat Café')"
   ]
  },
  {
   "cell_type": "code",
   "execution_count": 102,
   "metadata": {},
   "outputs": [
    {
     "name": "stdout",
     "output_type": "stream",
     "text": [
      "Upland , rating = 9.1, cost = 3.0\n",
      "Gran Electrica , rating = 8.1, cost = 3.0\n",
      "Dudley's , rating = 7.1, cost = 3.0\n",
      "Covina , rating = 8.2, cost = 3.0\n",
      "Añejo , rating = 7.0, cost = 3.0\n"
     ]
    }
   ],
   "source": [
    "recommendations('Xixa')"
   ]
  },
  {
   "cell_type": "code",
   "execution_count": 103,
   "metadata": {},
   "outputs": [
    {
     "name": "stdout",
     "output_type": "stream",
     "text": [
      "Miriam , rating = 8.0, cost = 2.0\n",
      "The Lambs Club , rating = 7.8, cost = 4.0\n",
      "Bar Sardine , rating = 8.0, cost = 2.0\n",
      "Scalinatella , rating = 7.3, cost = 3.0\n",
      "Cafe Cluny , rating = 7.9, cost = 3.0\n"
     ]
    }
   ],
   "source": [
    "recommendations('Clover Club')"
   ]
  },
  {
   "cell_type": "code",
   "execution_count": 104,
   "metadata": {},
   "outputs": [
    {
     "name": "stdout",
     "output_type": "stream",
     "text": [
      "Sable's , rating = 8.0, cost = 2.0\n",
      "Beyoglu , rating = 7.7, cost = 2.0\n",
      "Pastrami Queen , rating = 7.8, cost = 2.0\n",
      "Hugo & Sons , rating = 7.4, cost = 2.0\n",
      "Lido Harlem , rating = 7.4, cost = 2.0\n"
     ]
    }
   ],
   "source": [
    "recommendations('Miriam')"
   ]
  },
  {
   "cell_type": "code",
   "execution_count": 105,
   "metadata": {},
   "outputs": [
    {
     "name": "stdout",
     "output_type": "stream",
     "text": [
      "Fishtag , rating = 7.0, cost = 3.0\n",
      "Sable's , rating = 8.0, cost = 2.0\n",
      "Beyoglu , rating = 7.7, cost = 2.0\n",
      "Milos , rating = 8.1, cost = 4.0\n",
      "Pastrami Queen , rating = 7.8, cost = 2.0\n"
     ]
    }
   ],
   "source": [
    "recommendations(\"L'Express\")"
   ]
  },
  {
   "cell_type": "code",
   "execution_count": 106,
   "metadata": {},
   "outputs": [
    {
     "name": "stdout",
     "output_type": "stream",
     "text": [
      "Emily West Village , rating = 8.0, cost = 2.0\n",
      "Paulie Gee’s , rating = 9.0, cost = 3.0\n",
      "Lee’s Tavern , rating = 8.0, cost = 2.0\n",
      "Joe & Pat’s , rating = 8.1, cost = 1.0\n",
      "Denino’s , rating = 8.2, cost = 2.0\n"
     ]
    }
   ],
   "source": [
    "recommendations('Emily')"
   ]
  },
  {
   "cell_type": "code",
   "execution_count": 107,
   "metadata": {},
   "outputs": [
    {
     "name": "stdout",
     "output_type": "stream",
     "text": [
      "Miss Lily’s , rating = 7.8, cost = 3.0\n",
      "Rosemary’s , rating = 7.1, cost = 3.0\n",
      "Osteria Morini , rating = 7.8, cost = 4.0\n",
      "Fishtag , rating = 7.0, cost = 3.0\n",
      "Bar Sardine , rating = 8.0, cost = 2.0\n"
     ]
    }
   ],
   "source": [
    "recommendations('Sisters')"
   ]
  },
  {
   "cell_type": "code",
   "execution_count": 109,
   "metadata": {},
   "outputs": [
    {
     "name": "stdout",
     "output_type": "stream",
     "text": [
      "Cookshop , rating = 8.4, cost = 3.0\n",
      "Casa Enrique , rating = 9.0, cost = 3.0\n",
      "Rucola , rating = 6.9, cost = 3.0\n",
      "Gran Electrica , rating = 8.1, cost = 3.0\n",
      "Claro , rating = 8.3, cost = 2.0\n"
     ]
    }
   ],
   "source": [
    "recommendations('Cosme')"
   ]
  },
  {
   "cell_type": "code",
   "execution_count": 111,
   "metadata": {},
   "outputs": [
    {
     "name": "stdout",
     "output_type": "stream",
     "text": [
      "Fishtag , rating = 7.0, cost = 3.0\n",
      "Milos , rating = 8.1, cost = 4.0\n",
      "The NoMad , rating = 7.8, cost = 3.0\n",
      "Scalinatella , rating = 7.3, cost = 3.0\n",
      "Rubirosa , rating = 9.2, cost = 3.0\n"
     ]
    }
   ],
   "source": [
    "recommendations('The Odeon')"
   ]
  },
  {
   "cell_type": "code",
   "execution_count": 122,
   "metadata": {},
   "outputs": [
    {
     "name": "stdout",
     "output_type": "stream",
     "text": [
      "Sable's , rating = 8.0, cost = 2.0\n",
      "Blondies , rating = 8.0, cost = 1.0\n",
      "Beyoglu , rating = 7.7, cost = 2.0\n",
      "Candle Cafe , rating = 7.6, cost = 2.0\n",
      "Pastrami Queen , rating = 7.8, cost = 2.0\n"
     ]
    }
   ],
   "source": [
    "recommendations('Mermaid Inn')"
   ]
  },
  {
   "cell_type": "code",
   "execution_count": 123,
   "metadata": {},
   "outputs": [
    {
     "name": "stdout",
     "output_type": "stream",
     "text": [
      "Lavagna , rating = 7.9, cost = 3.0\n",
      "Scalinatella , rating = 7.3, cost = 3.0\n",
      "Supper , rating = 7.9, cost = 3.0\n",
      "Fishtag , rating = 7.0, cost = 3.0\n",
      "Sfoglia , rating = 7.9, cost = 4.0\n"
     ]
    }
   ],
   "source": [
    "recommendations('Frank')"
   ]
  },
  {
   "cell_type": "code",
   "execution_count": 125,
   "metadata": {},
   "outputs": [
    {
     "name": "stdout",
     "output_type": "stream",
     "text": [
      "Cafe Cluny , rating = 7.9, cost = 3.0\n",
      "Beebe’s , rating = 7.2, cost = 2.0\n",
      "Sao Mai , rating = 8.3, cost = 1.0\n",
      "P.J. Clarke’s , rating = 7.5, cost = 3.0\n",
      "Sable's , rating = 8.0, cost = 2.0\n"
     ]
    }
   ],
   "source": [
    "recommendations('Veselka')"
   ]
  },
  {
   "cell_type": "code",
   "execution_count": 134,
   "metadata": {},
   "outputs": [
    {
     "data": {
      "text/html": [
       "<div>\n",
       "<style scoped>\n",
       "    .dataframe tbody tr th:only-of-type {\n",
       "        vertical-align: middle;\n",
       "    }\n",
       "\n",
       "    .dataframe tbody tr th {\n",
       "        vertical-align: top;\n",
       "    }\n",
       "\n",
       "    .dataframe thead th {\n",
       "        text-align: right;\n",
       "    }\n",
       "</style>\n",
       "<table border=\"1\" class=\"dataframe\">\n",
       "  <thead>\n",
       "    <tr style=\"text-align: right;\">\n",
       "      <th></th>\n",
       "      <th>rest_cost</th>\n",
       "      <th>rest_name</th>\n",
       "      <th>rest_rating</th>\n",
       "      <th>11</th>\n",
       "      <th>11th</th>\n",
       "      <th>12</th>\n",
       "      <th>13</th>\n",
       "      <th>14</th>\n",
       "      <th>14th</th>\n",
       "      <th>15</th>\n",
       "      <th>...</th>\n",
       "      <th>cuisine_type_Spanish</th>\n",
       "      <th>cuisine_type_Steaks</th>\n",
       "      <th>cuisine_type_Sushi</th>\n",
       "      <th>cuisine_type_Tacos</th>\n",
       "      <th>cuisine_type_Taiwanese</th>\n",
       "      <th>cuisine_type_Tex-Mex</th>\n",
       "      <th>cuisine_type_Thai</th>\n",
       "      <th>cuisine_type_Vegetarian</th>\n",
       "      <th>cuisine_type_Vietnamese</th>\n",
       "      <th>cuisine_type_Wine Bar</th>\n",
       "    </tr>\n",
       "  </thead>\n",
       "  <tbody>\n",
       "    <tr>\n",
       "      <th>471</th>\n",
       "      <td>1.0</td>\n",
       "      <td>Sao Mai</td>\n",
       "      <td>8.3</td>\n",
       "      <td>0</td>\n",
       "      <td>0</td>\n",
       "      <td>0</td>\n",
       "      <td>0</td>\n",
       "      <td>0</td>\n",
       "      <td>0</td>\n",
       "      <td>0</td>\n",
       "      <td>...</td>\n",
       "      <td>0</td>\n",
       "      <td>0</td>\n",
       "      <td>0</td>\n",
       "      <td>0</td>\n",
       "      <td>0</td>\n",
       "      <td>0</td>\n",
       "      <td>0</td>\n",
       "      <td>0</td>\n",
       "      <td>1</td>\n",
       "      <td>0</td>\n",
       "    </tr>\n",
       "  </tbody>\n",
       "</table>\n",
       "<p>1 rows × 3848 columns</p>\n",
       "</div>"
      ],
      "text/plain": [
       "     rest_cost rest_name  rest_rating  11  11th  12  13  14  14th  15  \\\n",
       "471        1.0   Sao Mai          8.3   0     0   0   0   0     0   0   \n",
       "\n",
       "             ...            cuisine_type_Spanish  cuisine_type_Steaks  \\\n",
       "471          ...                               0                    0   \n",
       "\n",
       "     cuisine_type_Sushi  cuisine_type_Tacos  cuisine_type_Taiwanese  \\\n",
       "471                   0                   0                       0   \n",
       "\n",
       "     cuisine_type_Tex-Mex  cuisine_type_Thai  cuisine_type_Vegetarian  \\\n",
       "471                     0                  0                        0   \n",
       "\n",
       "     cuisine_type_Vietnamese  cuisine_type_Wine Bar  \n",
       "471                        1                      0  \n",
       "\n",
       "[1 rows x 3848 columns]"
      ]
     },
     "execution_count": 134,
     "metadata": {},
     "output_type": "execute_result"
    }
   ],
   "source": [
    "df[df['rest_name'] == 'Sao Mai']"
   ]
  },
  {
   "cell_type": "markdown",
   "metadata": {},
   "source": [
    "Once we pull up recommendations, we want to be able to look at the recommended restaurants and view their location, type, and description. "
   ]
  },
  {
   "cell_type": "markdown",
   "metadata": {},
   "source": [
    "# TFIDF Vectorization Recommender"
   ]
  },
  {
   "cell_type": "code",
   "execution_count": 17,
   "metadata": {},
   "outputs": [],
   "source": [
    "tfdf = pd.read_csv('./Data/tfidf_df.csv')"
   ]
  },
  {
   "cell_type": "code",
   "execution_count": 19,
   "metadata": {},
   "outputs": [
    {
     "name": "stdout",
     "output_type": "stream",
     "text": [
      "<class 'pandas.core.frame.DataFrame'>\n",
      "RangeIndex: 824 entries, 0 to 823\n",
      "Columns: 12270 entries, rest_cost to rest_borough_Westchester\n",
      "dtypes: float64(12206), int64(62), object(2)\n",
      "memory usage: 77.1+ MB\n"
     ]
    }
   ],
   "source": [
    "tfdf.info()"
   ]
  },
  {
   "cell_type": "code",
   "execution_count": 21,
   "metadata": {
    "scrolled": true
   },
   "outputs": [
    {
     "data": {
      "text/html": [
       "<div>\n",
       "<style scoped>\n",
       "    .dataframe tbody tr th:only-of-type {\n",
       "        vertical-align: middle;\n",
       "    }\n",
       "\n",
       "    .dataframe tbody tr th {\n",
       "        vertical-align: top;\n",
       "    }\n",
       "\n",
       "    .dataframe thead th {\n",
       "        text-align: right;\n",
       "    }\n",
       "</style>\n",
       "<table border=\"1\" class=\"dataframe\">\n",
       "  <thead>\n",
       "    <tr style=\"text-align: right;\">\n",
       "      <th></th>\n",
       "      <th>rest_cost</th>\n",
       "      <th>rest_name</th>\n",
       "      <th>rest_rating</th>\n",
       "      <th>address_only</th>\n",
       "      <th>rest_zip_code</th>\n",
       "      <th>11</th>\n",
       "      <th>115</th>\n",
       "      <th>11am</th>\n",
       "      <th>11pm</th>\n",
       "      <th>11th</th>\n",
       "      <th>...</th>\n",
       "      <th>cuisine_type_Vegetarian</th>\n",
       "      <th>cuisine_type_Vietnamese</th>\n",
       "      <th>cuisine_type_Wine Bar</th>\n",
       "      <th>rest_borough_Bronx</th>\n",
       "      <th>rest_borough_Brooklyn</th>\n",
       "      <th>rest_borough_Jersey City</th>\n",
       "      <th>rest_borough_Manhattan</th>\n",
       "      <th>rest_borough_Queens</th>\n",
       "      <th>rest_borough_Staten Island</th>\n",
       "      <th>rest_borough_Westchester</th>\n",
       "    </tr>\n",
       "  </thead>\n",
       "  <tbody>\n",
       "    <tr>\n",
       "      <th>0</th>\n",
       "      <td>2.0</td>\n",
       "      <td>Mama’s Too</td>\n",
       "      <td>8.3</td>\n",
       "      <td>2750 Broadway, New York, NY 10025</td>\n",
       "      <td>10025</td>\n",
       "      <td>0.0</td>\n",
       "      <td>0.0</td>\n",
       "      <td>0.0</td>\n",
       "      <td>0.0</td>\n",
       "      <td>0.0</td>\n",
       "      <td>...</td>\n",
       "      <td>0</td>\n",
       "      <td>0</td>\n",
       "      <td>0</td>\n",
       "      <td>0</td>\n",
       "      <td>0</td>\n",
       "      <td>0</td>\n",
       "      <td>1</td>\n",
       "      <td>0</td>\n",
       "      <td>0</td>\n",
       "      <td>0</td>\n",
       "    </tr>\n",
       "    <tr>\n",
       "      <th>1</th>\n",
       "      <td>4.0</td>\n",
       "      <td>Omakase Room By Tatsu</td>\n",
       "      <td>7.7</td>\n",
       "      <td>14 Christopher St, New York, NY 10014</td>\n",
       "      <td>10014</td>\n",
       "      <td>0.0</td>\n",
       "      <td>0.0</td>\n",
       "      <td>0.0</td>\n",
       "      <td>0.0</td>\n",
       "      <td>0.0</td>\n",
       "      <td>...</td>\n",
       "      <td>0</td>\n",
       "      <td>0</td>\n",
       "      <td>0</td>\n",
       "      <td>0</td>\n",
       "      <td>0</td>\n",
       "      <td>0</td>\n",
       "      <td>1</td>\n",
       "      <td>0</td>\n",
       "      <td>0</td>\n",
       "      <td>0</td>\n",
       "    </tr>\n",
       "    <tr>\n",
       "      <th>2</th>\n",
       "      <td>4.0</td>\n",
       "      <td>Sushi Azabu</td>\n",
       "      <td>8.5</td>\n",
       "      <td>428 Greenwich St., New York, NY 10013</td>\n",
       "      <td>10013</td>\n",
       "      <td>0.0</td>\n",
       "      <td>0.0</td>\n",
       "      <td>0.0</td>\n",
       "      <td>0.0</td>\n",
       "      <td>0.0</td>\n",
       "      <td>...</td>\n",
       "      <td>0</td>\n",
       "      <td>0</td>\n",
       "      <td>0</td>\n",
       "      <td>0</td>\n",
       "      <td>0</td>\n",
       "      <td>0</td>\n",
       "      <td>1</td>\n",
       "      <td>0</td>\n",
       "      <td>0</td>\n",
       "      <td>0</td>\n",
       "    </tr>\n",
       "    <tr>\n",
       "      <th>3</th>\n",
       "      <td>3.0</td>\n",
       "      <td>Saint Julivert Fisherie</td>\n",
       "      <td>7.7</td>\n",
       "      <td>264 Clinton St, New York, NY 11201</td>\n",
       "      <td>11201</td>\n",
       "      <td>0.0</td>\n",
       "      <td>0.0</td>\n",
       "      <td>0.0</td>\n",
       "      <td>0.0</td>\n",
       "      <td>0.0</td>\n",
       "      <td>...</td>\n",
       "      <td>0</td>\n",
       "      <td>0</td>\n",
       "      <td>0</td>\n",
       "      <td>0</td>\n",
       "      <td>1</td>\n",
       "      <td>0</td>\n",
       "      <td>0</td>\n",
       "      <td>0</td>\n",
       "      <td>0</td>\n",
       "      <td>0</td>\n",
       "    </tr>\n",
       "    <tr>\n",
       "      <th>4</th>\n",
       "      <td>2.0</td>\n",
       "      <td>Farida</td>\n",
       "      <td>8.0</td>\n",
       "      <td>498 9th Ave, New York, NY 10018</td>\n",
       "      <td>10018</td>\n",
       "      <td>0.0</td>\n",
       "      <td>0.0</td>\n",
       "      <td>0.0</td>\n",
       "      <td>0.0</td>\n",
       "      <td>0.0</td>\n",
       "      <td>...</td>\n",
       "      <td>0</td>\n",
       "      <td>0</td>\n",
       "      <td>0</td>\n",
       "      <td>0</td>\n",
       "      <td>0</td>\n",
       "      <td>0</td>\n",
       "      <td>1</td>\n",
       "      <td>0</td>\n",
       "      <td>0</td>\n",
       "      <td>0</td>\n",
       "    </tr>\n",
       "  </tbody>\n",
       "</table>\n",
       "<p>5 rows × 12270 columns</p>\n",
       "</div>"
      ],
      "text/plain": [
       "   rest_cost                rest_name  rest_rating  \\\n",
       "0        2.0               Mama’s Too          8.3   \n",
       "1        4.0    Omakase Room By Tatsu          7.7   \n",
       "2        4.0              Sushi Azabu          8.5   \n",
       "3        3.0  Saint Julivert Fisherie          7.7   \n",
       "4        2.0                   Farida          8.0   \n",
       "\n",
       "                            address_only  rest_zip_code   11  115  11am  11pm  \\\n",
       "0      2750 Broadway, New York, NY 10025          10025  0.0  0.0   0.0   0.0   \n",
       "1  14 Christopher St, New York, NY 10014          10014  0.0  0.0   0.0   0.0   \n",
       "2  428 Greenwich St., New York, NY 10013          10013  0.0  0.0   0.0   0.0   \n",
       "3     264 Clinton St, New York, NY 11201          11201  0.0  0.0   0.0   0.0   \n",
       "4        498 9th Ave, New York, NY 10018          10018  0.0  0.0   0.0   0.0   \n",
       "\n",
       "   11th            ...             cuisine_type_Vegetarian  \\\n",
       "0   0.0            ...                                   0   \n",
       "1   0.0            ...                                   0   \n",
       "2   0.0            ...                                   0   \n",
       "3   0.0            ...                                   0   \n",
       "4   0.0            ...                                   0   \n",
       "\n",
       "   cuisine_type_Vietnamese  cuisine_type_Wine Bar  rest_borough_Bronx  \\\n",
       "0                        0                      0                   0   \n",
       "1                        0                      0                   0   \n",
       "2                        0                      0                   0   \n",
       "3                        0                      0                   0   \n",
       "4                        0                      0                   0   \n",
       "\n",
       "   rest_borough_Brooklyn  rest_borough_Jersey City  rest_borough_Manhattan  \\\n",
       "0                      0                         0                       1   \n",
       "1                      0                         0                       1   \n",
       "2                      0                         0                       1   \n",
       "3                      1                         0                       0   \n",
       "4                      0                         0                       1   \n",
       "\n",
       "   rest_borough_Queens  rest_borough_Staten Island  rest_borough_Westchester  \n",
       "0                    0                           0                         0  \n",
       "1                    0                           0                         0  \n",
       "2                    0                           0                         0  \n",
       "3                    0                           0                         0  \n",
       "4                    0                           0                         0  \n",
       "\n",
       "[5 rows x 12270 columns]"
      ]
     },
     "execution_count": 21,
     "metadata": {},
     "output_type": "execute_result"
    }
   ],
   "source": [
    "tfdf.head()"
   ]
  },
  {
   "cell_type": "code",
   "execution_count": 25,
   "metadata": {},
   "outputs": [],
   "source": [
    "tf_matrix = create_sim_matrix(tfdf, ['rest_name', 'address_only', 'rest_zip_code'])"
   ]
  },
  {
   "cell_type": "code",
   "execution_count": 26,
   "metadata": {},
   "outputs": [
    {
     "name": "stdout",
     "output_type": "stream",
     "text": [
      "Manhatta , rating = 8.5, cost = 3.0\n",
      "Mountain Bird , rating = 8.3, cost = 3.0\n",
      "Bar Boulud , rating = 8.0, cost = 3.0\n",
      "Mimi , rating = 8.4, cost = 3.0\n",
      "Lafayette , rating = 8.1, cost = 3.0\n"
     ]
    }
   ],
   "source": [
    "recommendations('Ruffian', tf_matrix, df=tfdf)"
   ]
  },
  {
   "cell_type": "code",
   "execution_count": 27,
   "metadata": {},
   "outputs": [
    {
     "name": "stdout",
     "output_type": "stream",
     "text": [
      "Lighthouse , rating = 8.8, cost = 2.0\n",
      "Sweet Chick , rating = 8.1, cost = 2.0\n",
      "Mayfield , rating = 8.1, cost = 2.0\n",
      "Chez Ma Tante , rating = 8.5, cost = 2.0\n",
      "Emmy Squared , rating = 8.4, cost = 2.0\n"
     ]
    }
   ],
   "source": [
    "recommendations('Traif', tf_matrix, df=tfdf)"
   ]
  },
  {
   "cell_type": "code",
   "execution_count": 28,
   "metadata": {},
   "outputs": [
    {
     "name": "stdout",
     "output_type": "stream",
     "text": [
      "Westville East , rating = 7.7, cost = 2.0\n",
      "Westville Chelsea , rating = 7.9, cost = 2.0\n",
      "Emily West Village , rating = 8.0, cost = 2.0\n",
      "Daily Provisions , rating = 8.4, cost = 2.0\n",
      "Hudson Clearwater , rating = 8.1, cost = 2.0\n"
     ]
    }
   ],
   "source": [
    "recommendations('Westville', tf_matrix, df=tfdf)"
   ]
  },
  {
   "cell_type": "code",
   "execution_count": 29,
   "metadata": {},
   "outputs": [
    {
     "name": "stdout",
     "output_type": "stream",
     "text": [
      "Porchlight , rating = 7.7, cost = 2.0\n",
      "Rusty Knot , rating = 7.5, cost = 2.0\n",
      "The Meatball Shop Chelsea , rating = 7.7, cost = 2.0\n",
      "The Brooklyneer , rating = 7.4, cost = 2.0\n",
      "Wilfie & Nell , rating = 7.1, cost = 2.0\n"
     ]
    }
   ],
   "source": [
    "recommendations('The Polynesian', tf_matrix, tfdf)"
   ]
  },
  {
   "cell_type": "code",
   "execution_count": 32,
   "metadata": {},
   "outputs": [
    {
     "data": {
      "text/plain": [
       "(824, 824)"
      ]
     },
     "execution_count": 32,
     "metadata": {},
     "output_type": "execute_result"
    }
   ],
   "source": [
    "tf_matrix.shape"
   ]
  },
  {
   "cell_type": "code",
   "execution_count": 30,
   "metadata": {
    "scrolled": true
   },
   "outputs": [
    {
     "name": "stdout",
     "output_type": "stream",
     "text": [
      "ABC Kitchen , rating = 7.4, cost = 4.0\n",
      "Saxon + Parole , rating = 7.5, cost = 4.0\n",
      "The Modern , rating = 7.8, cost = 4.0\n",
      "Dylan Prime , rating = 7.3, cost = 4.0\n",
      "Fred's at Barneys NY , rating = 7.4, cost = 4.0\n"
     ]
    }
   ],
   "source": [
    "recommendations('The Odeon', tf_matrix, tfdf)"
   ]
  },
  {
   "cell_type": "code",
   "execution_count": 33,
   "metadata": {},
   "outputs": [
    {
     "name": "stdout",
     "output_type": "stream",
     "text": [
      "Viand , rating = 7.8, cost = 2.0\n",
      "Russ & Daughters , rating = 8.6, cost = 2.0\n",
      "Russ & Daughters Cafe , rating = 8.2, cost = 2.0\n",
      "Mooncake Foods , rating = 7.4, cost = 2.0\n",
      "Neil's Coffee Shop , rating = 7.3, cost = 2.0\n"
     ]
    }
   ],
   "source": [
    "recommendations('Veselka', tf_matrix, tfdf)"
   ]
  },
  {
   "cell_type": "code",
   "execution_count": null,
   "metadata": {},
   "outputs": [],
   "source": [
    "def restaurant_details(restaurant):\n",
    "    "
   ]
  }
 ],
 "metadata": {
  "kernelspec": {
   "display_name": "Python 3",
   "language": "python",
   "name": "python3"
  },
  "language_info": {
   "codemirror_mode": {
    "name": "ipython",
    "version": 3
   },
   "file_extension": ".py",
   "mimetype": "text/x-python",
   "name": "python",
   "nbconvert_exporter": "python",
   "pygments_lexer": "ipython3",
   "version": "3.6.8"
  }
 },
 "nbformat": 4,
 "nbformat_minor": 2
}
