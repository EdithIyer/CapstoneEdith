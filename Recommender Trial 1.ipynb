{
 "cells": [
  {
   "cell_type": "code",
   "execution_count": 8,
   "metadata": {},
   "outputs": [],
   "source": [
    "import pandas as pd\n",
    "import matplotlib.pyplot as plt\n",
    "from scipy import sparse\n",
    "from sklearn.metrics.pairwise import pairwise_distances\n",
    "from sklearn.metrics.pairwise import cosine_similarity"
   ]
  },
  {
   "cell_type": "code",
   "execution_count": 4,
   "metadata": {},
   "outputs": [],
   "source": [
    "df = pd.read_csv('./Data/data_for_reccommender_1.csv')"
   ]
  },
  {
   "cell_type": "code",
   "execution_count": 5,
   "metadata": {},
   "outputs": [
    {
     "data": {
      "text/html": [
       "<div>\n",
       "<style scoped>\n",
       "    .dataframe tbody tr th:only-of-type {\n",
       "        vertical-align: middle;\n",
       "    }\n",
       "\n",
       "    .dataframe tbody tr th {\n",
       "        vertical-align: top;\n",
       "    }\n",
       "\n",
       "    .dataframe thead th {\n",
       "        text-align: right;\n",
       "    }\n",
       "</style>\n",
       "<table border=\"1\" class=\"dataframe\">\n",
       "  <thead>\n",
       "    <tr style=\"text-align: right;\">\n",
       "      <th></th>\n",
       "      <th>rest_cost</th>\n",
       "      <th>rest_name</th>\n",
       "      <th>rest_rating</th>\n",
       "      <th>11</th>\n",
       "      <th>11th</th>\n",
       "      <th>12</th>\n",
       "      <th>13</th>\n",
       "      <th>14</th>\n",
       "      <th>14th</th>\n",
       "      <th>15</th>\n",
       "      <th>...</th>\n",
       "      <th>cuisine_type_Spanish</th>\n",
       "      <th>cuisine_type_Steaks</th>\n",
       "      <th>cuisine_type_Sushi</th>\n",
       "      <th>cuisine_type_Tacos</th>\n",
       "      <th>cuisine_type_Taiwanese</th>\n",
       "      <th>cuisine_type_Tex-Mex</th>\n",
       "      <th>cuisine_type_Thai</th>\n",
       "      <th>cuisine_type_Vegetarian</th>\n",
       "      <th>cuisine_type_Vietnamese</th>\n",
       "      <th>cuisine_type_Wine Bar</th>\n",
       "    </tr>\n",
       "  </thead>\n",
       "  <tbody>\n",
       "    <tr>\n",
       "      <th>0</th>\n",
       "      <td>4.0</td>\n",
       "      <td>Omakase Room By Tatsu</td>\n",
       "      <td>7.7</td>\n",
       "      <td>0</td>\n",
       "      <td>0</td>\n",
       "      <td>0</td>\n",
       "      <td>0</td>\n",
       "      <td>0</td>\n",
       "      <td>0</td>\n",
       "      <td>0</td>\n",
       "      <td>...</td>\n",
       "      <td>0</td>\n",
       "      <td>0</td>\n",
       "      <td>0</td>\n",
       "      <td>0</td>\n",
       "      <td>0</td>\n",
       "      <td>0</td>\n",
       "      <td>0</td>\n",
       "      <td>0</td>\n",
       "      <td>0</td>\n",
       "      <td>0</td>\n",
       "    </tr>\n",
       "    <tr>\n",
       "      <th>1</th>\n",
       "      <td>4.0</td>\n",
       "      <td>Sushi Azabu</td>\n",
       "      <td>8.5</td>\n",
       "      <td>0</td>\n",
       "      <td>0</td>\n",
       "      <td>0</td>\n",
       "      <td>0</td>\n",
       "      <td>0</td>\n",
       "      <td>0</td>\n",
       "      <td>1</td>\n",
       "      <td>...</td>\n",
       "      <td>0</td>\n",
       "      <td>0</td>\n",
       "      <td>0</td>\n",
       "      <td>0</td>\n",
       "      <td>0</td>\n",
       "      <td>0</td>\n",
       "      <td>0</td>\n",
       "      <td>0</td>\n",
       "      <td>0</td>\n",
       "      <td>0</td>\n",
       "    </tr>\n",
       "    <tr>\n",
       "      <th>2</th>\n",
       "      <td>3.0</td>\n",
       "      <td>Saint Julivert Fisherie</td>\n",
       "      <td>7.7</td>\n",
       "      <td>0</td>\n",
       "      <td>0</td>\n",
       "      <td>0</td>\n",
       "      <td>0</td>\n",
       "      <td>0</td>\n",
       "      <td>0</td>\n",
       "      <td>0</td>\n",
       "      <td>...</td>\n",
       "      <td>0</td>\n",
       "      <td>0</td>\n",
       "      <td>0</td>\n",
       "      <td>0</td>\n",
       "      <td>0</td>\n",
       "      <td>0</td>\n",
       "      <td>0</td>\n",
       "      <td>0</td>\n",
       "      <td>0</td>\n",
       "      <td>0</td>\n",
       "    </tr>\n",
       "    <tr>\n",
       "      <th>3</th>\n",
       "      <td>2.0</td>\n",
       "      <td>Farida</td>\n",
       "      <td>8.0</td>\n",
       "      <td>0</td>\n",
       "      <td>0</td>\n",
       "      <td>0</td>\n",
       "      <td>0</td>\n",
       "      <td>0</td>\n",
       "      <td>0</td>\n",
       "      <td>0</td>\n",
       "      <td>...</td>\n",
       "      <td>0</td>\n",
       "      <td>0</td>\n",
       "      <td>0</td>\n",
       "      <td>0</td>\n",
       "      <td>0</td>\n",
       "      <td>0</td>\n",
       "      <td>0</td>\n",
       "      <td>0</td>\n",
       "      <td>0</td>\n",
       "      <td>0</td>\n",
       "    </tr>\n",
       "    <tr>\n",
       "      <th>4</th>\n",
       "      <td>2.0</td>\n",
       "      <td>U-Gu</td>\n",
       "      <td>7.7</td>\n",
       "      <td>0</td>\n",
       "      <td>0</td>\n",
       "      <td>0</td>\n",
       "      <td>0</td>\n",
       "      <td>0</td>\n",
       "      <td>0</td>\n",
       "      <td>0</td>\n",
       "      <td>...</td>\n",
       "      <td>0</td>\n",
       "      <td>0</td>\n",
       "      <td>1</td>\n",
       "      <td>0</td>\n",
       "      <td>0</td>\n",
       "      <td>0</td>\n",
       "      <td>0</td>\n",
       "      <td>0</td>\n",
       "      <td>0</td>\n",
       "      <td>0</td>\n",
       "    </tr>\n",
       "  </tbody>\n",
       "</table>\n",
       "<p>5 rows × 3848 columns</p>\n",
       "</div>"
      ],
      "text/plain": [
       "   rest_cost                rest_name  rest_rating  11  11th  12  13  14  \\\n",
       "0        4.0    Omakase Room By Tatsu          7.7   0     0   0   0   0   \n",
       "1        4.0              Sushi Azabu          8.5   0     0   0   0   0   \n",
       "2        3.0  Saint Julivert Fisherie          7.7   0     0   0   0   0   \n",
       "3        2.0                   Farida          8.0   0     0   0   0   0   \n",
       "4        2.0                     U-Gu          7.7   0     0   0   0   0   \n",
       "\n",
       "   14th  15          ...            cuisine_type_Spanish  cuisine_type_Steaks  \\\n",
       "0     0   0          ...                               0                    0   \n",
       "1     0   1          ...                               0                    0   \n",
       "2     0   0          ...                               0                    0   \n",
       "3     0   0          ...                               0                    0   \n",
       "4     0   0          ...                               0                    0   \n",
       "\n",
       "   cuisine_type_Sushi  cuisine_type_Tacos  cuisine_type_Taiwanese  \\\n",
       "0                   0                   0                       0   \n",
       "1                   0                   0                       0   \n",
       "2                   0                   0                       0   \n",
       "3                   0                   0                       0   \n",
       "4                   1                   0                       0   \n",
       "\n",
       "   cuisine_type_Tex-Mex  cuisine_type_Thai  cuisine_type_Vegetarian  \\\n",
       "0                     0                  0                        0   \n",
       "1                     0                  0                        0   \n",
       "2                     0                  0                        0   \n",
       "3                     0                  0                        0   \n",
       "4                     0                  0                        0   \n",
       "\n",
       "   cuisine_type_Vietnamese  cuisine_type_Wine Bar  \n",
       "0                        0                      0  \n",
       "1                        0                      0  \n",
       "2                        0                      0  \n",
       "3                        0                      0  \n",
       "4                        0                      0  \n",
       "\n",
       "[5 rows x 3848 columns]"
      ]
     },
     "execution_count": 5,
     "metadata": {},
     "output_type": "execute_result"
    }
   ],
   "source": [
    "df.head()"
   ]
  },
  {
   "cell_type": "code",
   "execution_count": 18,
   "metadata": {},
   "outputs": [
    {
     "data": {
      "text/plain": [
       "(798, 3848)"
      ]
     },
     "execution_count": 18,
     "metadata": {},
     "output_type": "execute_result"
    }
   ],
   "source": [
    "df.shape"
   ]
  },
  {
   "cell_type": "markdown",
   "metadata": {},
   "source": [
    "## Creating an Item Based Recommender System"
   ]
  },
  {
   "cell_type": "code",
   "execution_count": 10,
   "metadata": {},
   "outputs": [],
   "source": [
    "cosine_sim = cosine_similarity(df.drop('rest_name', axis = 1), df.drop('rest_name', axis = 1))"
   ]
  },
  {
   "cell_type": "code",
   "execution_count": 12,
   "metadata": {},
   "outputs": [],
   "source": [
    "indices = pd.Series(df.index)"
   ]
  },
  {
   "cell_type": "code",
   "execution_count": 22,
   "metadata": {},
   "outputs": [
    {
     "data": {
      "text/plain": [
       "4"
      ]
     },
     "execution_count": 22,
     "metadata": {},
     "output_type": "execute_result"
    }
   ],
   "source": [
    "df[df['rest_name'] == 'U-Gu'].index[0]"
   ]
  },
  {
   "cell_type": "code",
   "execution_count": 56,
   "metadata": {},
   "outputs": [],
   "source": [
    "matches = pd.Series(cosine_sim[4]).sort_values(ascending = False)"
   ]
  },
  {
   "cell_type": "code",
   "execution_count": 57,
   "metadata": {},
   "outputs": [],
   "source": [
    "top_5 = matches[1:6]"
   ]
  },
  {
   "cell_type": "code",
   "execution_count": 58,
   "metadata": {},
   "outputs": [
    {
     "data": {
      "text/plain": [
       "119    0.529630\n",
       "330    0.517786\n",
       "42     0.515992\n",
       "1      0.510306\n",
       "71     0.508832\n",
       "dtype: float64"
      ]
     },
     "execution_count": 58,
     "metadata": {},
     "output_type": "execute_result"
    }
   ],
   "source": [
    "top_5"
   ]
  },
  {
   "cell_type": "code",
   "execution_count": 68,
   "metadata": {
    "scrolled": true
   },
   "outputs": [
    {
     "name": "stdout",
     "output_type": "stream",
     "text": [
      "53.0%\n"
     ]
    }
   ],
   "source": [
    "print(f'{round(top_5.values[0], 2)*100}%')"
   ]
  },
  {
   "cell_type": "code",
   "execution_count": 64,
   "metadata": {},
   "outputs": [],
   "source": [
    "top_5_list = list(top_5.index)"
   ]
  },
  {
   "cell_type": "code",
   "execution_count": 67,
   "metadata": {},
   "outputs": [
    {
     "data": {
      "text/plain": [
       "[119, 330, 42, 1, 71]"
      ]
     },
     "execution_count": 67,
     "metadata": {},
     "output_type": "execute_result"
    }
   ],
   "source": [
    "top_5_list"
   ]
  },
  {
   "cell_type": "code",
   "execution_count": 69,
   "metadata": {},
   "outputs": [
    {
     "name": "stdout",
     "output_type": "stream",
     "text": [
      "The Loyal , rating = 3.0, cost = 3.0\n",
      "Noreetuh , rating = 3.0, cost = 3.0\n",
      "Beebe’s , rating = 2.0, cost = 2.0\n",
      "Sushi Azabu , rating = 4.0, cost = 4.0\n",
      "Abuqir , rating = 1.0, cost = 1.0\n"
     ]
    }
   ],
   "source": [
    "for i in top_5_list:\n",
    "    print(f'{df.rest_name[i]} , rating = {df.rest_cost[i]}, cost = {df.rest_cost[i]}')"
   ]
  },
  {
   "cell_type": "code",
   "execution_count": 88,
   "metadata": {},
   "outputs": [],
   "source": [
    "def recommendations(name, cosine_sim = cosine_sim):\n",
    "    #empty list of restaurant\n",
    "    recommended_restaurants = []\n",
    "    \n",
    "    #find index of restaurant that matches the name\n",
    "    rest_index = df[df['rest_name'] == name].index[0]\n",
    "    \n",
    "    #Find the index in the cosine matrix\n",
    "    matching_index = pd.Series(cosine_sim[rest_index]).sort_values(ascending = False)\n",
    "    \n",
    "    #find top 5\n",
    "    similar_indices = list(matching_index[1:6].index)\n",
    "    \n",
    "    #Print top 5 recs\n",
    "    for i in similar_indices:\n",
    "        recommended_restaurants.append(df.rest_name[i])\n",
    "        print(f'{df.rest_name[i]} , rating = {df.rest_rating[i]}, cost = {df.rest_cost[i]}')"
   ]
  },
  {
   "cell_type": "code",
   "execution_count": 89,
   "metadata": {},
   "outputs": [
    {
     "name": "stdout",
     "output_type": "stream",
     "text": [
      "Bar Beau , rating = 7.4, cost = 2.0\n",
      "The Happiest Hour , rating = 7.5, cost = 2.0\n",
      "The Spaniard , rating = 6.8, cost = 2.0\n",
      "The Loyal , rating = 8.4, cost = 3.0\n",
      "2nd Floor Bar & Essen , rating = 7.9, cost = 3.0\n"
     ]
    }
   ],
   "source": [
    "recommendations('The Polynesian')"
   ]
  },
  {
   "cell_type": "code",
   "execution_count": 90,
   "metadata": {},
   "outputs": [
    {
     "data": {
      "text/html": [
       "<div>\n",
       "<style scoped>\n",
       "    .dataframe tbody tr th:only-of-type {\n",
       "        vertical-align: middle;\n",
       "    }\n",
       "\n",
       "    .dataframe tbody tr th {\n",
       "        vertical-align: top;\n",
       "    }\n",
       "\n",
       "    .dataframe thead th {\n",
       "        text-align: right;\n",
       "    }\n",
       "</style>\n",
       "<table border=\"1\" class=\"dataframe\">\n",
       "  <thead>\n",
       "    <tr style=\"text-align: right;\">\n",
       "      <th></th>\n",
       "      <th>rest_cost</th>\n",
       "      <th>rest_name</th>\n",
       "      <th>rest_rating</th>\n",
       "      <th>11</th>\n",
       "      <th>11th</th>\n",
       "      <th>12</th>\n",
       "      <th>13</th>\n",
       "      <th>14</th>\n",
       "      <th>14th</th>\n",
       "      <th>15</th>\n",
       "      <th>...</th>\n",
       "      <th>cuisine_type_Spanish</th>\n",
       "      <th>cuisine_type_Steaks</th>\n",
       "      <th>cuisine_type_Sushi</th>\n",
       "      <th>cuisine_type_Tacos</th>\n",
       "      <th>cuisine_type_Taiwanese</th>\n",
       "      <th>cuisine_type_Tex-Mex</th>\n",
       "      <th>cuisine_type_Thai</th>\n",
       "      <th>cuisine_type_Vegetarian</th>\n",
       "      <th>cuisine_type_Vietnamese</th>\n",
       "      <th>cuisine_type_Wine Bar</th>\n",
       "    </tr>\n",
       "  </thead>\n",
       "  <tbody>\n",
       "  </tbody>\n",
       "</table>\n",
       "<p>0 rows × 3848 columns</p>\n",
       "</div>"
      ],
      "text/plain": [
       "Empty DataFrame\n",
       "Columns: [rest_cost, rest_name, rest_rating, 11, 11th, 12, 13, 14, 14th, 15, 16, 17, 18, 19, 19th, 21, 22, 23, 24, 25, 26, 27, 28, 2am, 2nd, 45, 457, 4am, 55, 57, 65, 6th, 75, 85, 99, 9th, abc, ability, able, about, absinthe, absolute, absolutely, absurdly, acai, accanto, accent, accept, acceptable, access, accessible, accidentally, acclaimed, accommodate, accommodating, according, accordingly, account, accurate, accustomed, across, act, action, activity, actor, actual, actually, ad, adam, add, added, adding, addition, additional, additionally, admit, adult, advance, advanced, advantage, adventurous, advice, aesthetic, aesthetically, affair, afford, affordable, aforementioned, afraid, after, afternoon, afterthought, afterwards, age, aged, ago, agree, agreed, ahead, ai, ...]\n",
       "Index: []\n",
       "\n",
       "[0 rows x 3848 columns]"
      ]
     },
     "execution_count": 90,
     "metadata": {},
     "output_type": "execute_result"
    }
   ],
   "source": [
    "df[df['rest_name'] == 'Wei Williamsburg']"
   ]
  },
  {
   "cell_type": "code",
   "execution_count": 91,
   "metadata": {},
   "outputs": [
    {
     "name": "stdout",
     "output_type": "stream",
     "text": [
      "Mayfield , rating = 8.1, cost = 2.0\n",
      "Marlow & Sons , rating = 8.9, cost = 3.0\n",
      "Raoul’s , rating = 8.4, cost = 4.0\n",
      "Birds Of A Feather , rating = 7.8, cost = 2.0\n",
      "Bar Bolinas , rating = 7.6, cost = 3.0\n"
     ]
    }
   ],
   "source": [
    "recommendations('Meadowsweet')"
   ]
  },
  {
   "cell_type": "code",
   "execution_count": 92,
   "metadata": {},
   "outputs": [
    {
     "name": "stdout",
     "output_type": "stream",
     "text": [
      "Eleven Madison Park , rating = 9.2, cost = 4.0\n",
      "The NoMad Bar , rating = 7.8, cost = 3.0\n",
      "Fishtag , rating = 7.0, cost = 3.0\n",
      "The Clocktower , rating = 8.2, cost = 4.0\n",
      "The NoMad , rating = 7.8, cost = 3.0\n"
     ]
    }
   ],
   "source": [
    "recommendations('The Modern')"
   ]
  },
  {
   "cell_type": "code",
   "execution_count": 93,
   "metadata": {},
   "outputs": [
    {
     "name": "stdout",
     "output_type": "stream",
     "text": [
      "Rosemary’s , rating = 7.1, cost = 3.0\n",
      "Bar Sardine , rating = 8.0, cost = 2.0\n",
      "Samurai Mama , rating = 7.1, cost = 2.0\n",
      "The NoMad Bar , rating = 7.8, cost = 3.0\n",
      "Bar Primi , rating = 7.7, cost = 2.0\n"
     ]
    }
   ],
   "source": [
    "recommendations('Aita')"
   ]
  },
  {
   "cell_type": "code",
   "execution_count": 94,
   "metadata": {},
   "outputs": [
    {
     "name": "stdout",
     "output_type": "stream",
     "text": [
      "Bar San Miguel , rating = 7.6, cost = 2.0\n",
      "Upland , rating = 9.1, cost = 3.0\n",
      "Casa Enrique , rating = 9.0, cost = 3.0\n",
      "Carbone , rating = 9.4, cost = 4.0\n",
      "Cookshop , rating = 8.4, cost = 3.0\n"
     ]
    }
   ],
   "source": [
    "recommendations(\"Chavela's\")"
   ]
  },
  {
   "cell_type": "code",
   "execution_count": 95,
   "metadata": {},
   "outputs": [
    {
     "name": "stdout",
     "output_type": "stream",
     "text": [
      "The Loyal , rating = 8.4, cost = 3.0\n",
      "Simon & The Whale , rating = 8.3, cost = 3.0\n",
      "Meadowsweet , rating = 8.4, cost = 3.0\n",
      "Birds Of A Feather , rating = 7.8, cost = 2.0\n",
      "Fedora , rating = 8.5, cost = 3.0\n"
     ]
    }
   ],
   "source": [
    "recommendations('Mayfield')"
   ]
  },
  {
   "cell_type": "code",
   "execution_count": 96,
   "metadata": {},
   "outputs": [
    {
     "name": "stdout",
     "output_type": "stream",
     "text": [
      "Mayfield , rating = 8.1, cost = 2.0\n",
      "Miss Lily’s , rating = 7.8, cost = 3.0\n",
      "Cookshop , rating = 8.4, cost = 3.0\n",
      "Bar Sardine , rating = 8.0, cost = 2.0\n",
      "Chez Ma Tante , rating = 8.5, cost = 2.0\n"
     ]
    }
   ],
   "source": [
    "recommendations('Miss Ada')"
   ]
  },
  {
   "cell_type": "code",
   "execution_count": 98,
   "metadata": {},
   "outputs": [
    {
     "name": "stdout",
     "output_type": "stream",
     "text": [
      "Fishtag , rating = 7.0, cost = 3.0\n",
      "Crispo , rating = 7.7, cost = 3.0\n",
      "Milos , rating = 8.1, cost = 4.0\n",
      "Beyoglu , rating = 7.7, cost = 2.0\n",
      "Balthazar , rating = 8.1, cost = 4.0\n"
     ]
    }
   ],
   "source": [
    "recommendations('Traif')"
   ]
  },
  {
   "cell_type": "code",
   "execution_count": 101,
   "metadata": {},
   "outputs": [
    {
     "data": {
      "text/html": [
       "<div>\n",
       "<style scoped>\n",
       "    .dataframe tbody tr th:only-of-type {\n",
       "        vertical-align: middle;\n",
       "    }\n",
       "\n",
       "    .dataframe tbody tr th {\n",
       "        vertical-align: top;\n",
       "    }\n",
       "\n",
       "    .dataframe thead th {\n",
       "        text-align: right;\n",
       "    }\n",
       "</style>\n",
       "<table border=\"1\" class=\"dataframe\">\n",
       "  <thead>\n",
       "    <tr style=\"text-align: right;\">\n",
       "      <th></th>\n",
       "      <th>rest_cost</th>\n",
       "      <th>rest_name</th>\n",
       "      <th>rest_rating</th>\n",
       "      <th>11</th>\n",
       "      <th>11th</th>\n",
       "      <th>12</th>\n",
       "      <th>13</th>\n",
       "      <th>14</th>\n",
       "      <th>14th</th>\n",
       "      <th>15</th>\n",
       "      <th>...</th>\n",
       "      <th>cuisine_type_Spanish</th>\n",
       "      <th>cuisine_type_Steaks</th>\n",
       "      <th>cuisine_type_Sushi</th>\n",
       "      <th>cuisine_type_Tacos</th>\n",
       "      <th>cuisine_type_Taiwanese</th>\n",
       "      <th>cuisine_type_Tex-Mex</th>\n",
       "      <th>cuisine_type_Thai</th>\n",
       "      <th>cuisine_type_Vegetarian</th>\n",
       "      <th>cuisine_type_Vietnamese</th>\n",
       "      <th>cuisine_type_Wine Bar</th>\n",
       "    </tr>\n",
       "  </thead>\n",
       "  <tbody>\n",
       "    <tr>\n",
       "      <th>177</th>\n",
       "      <td>2.0</td>\n",
       "      <td>Anella</td>\n",
       "      <td>7.9</td>\n",
       "      <td>0</td>\n",
       "      <td>0</td>\n",
       "      <td>0</td>\n",
       "      <td>0</td>\n",
       "      <td>0</td>\n",
       "      <td>0</td>\n",
       "      <td>0</td>\n",
       "      <td>...</td>\n",
       "      <td>0</td>\n",
       "      <td>0</td>\n",
       "      <td>0</td>\n",
       "      <td>0</td>\n",
       "      <td>0</td>\n",
       "      <td>0</td>\n",
       "      <td>0</td>\n",
       "      <td>0</td>\n",
       "      <td>0</td>\n",
       "      <td>0</td>\n",
       "    </tr>\n",
       "  </tbody>\n",
       "</table>\n",
       "<p>1 rows × 3848 columns</p>\n",
       "</div>"
      ],
      "text/plain": [
       "     rest_cost rest_name  rest_rating  11  11th  12  13  14  14th  15  \\\n",
       "177        2.0    Anella          7.9   0     0   0   0   0     0   0   \n",
       "\n",
       "             ...            cuisine_type_Spanish  cuisine_type_Steaks  \\\n",
       "177          ...                               0                    0   \n",
       "\n",
       "     cuisine_type_Sushi  cuisine_type_Tacos  cuisine_type_Taiwanese  \\\n",
       "177                   0                   0                       0   \n",
       "\n",
       "     cuisine_type_Tex-Mex  cuisine_type_Thai  cuisine_type_Vegetarian  \\\n",
       "177                     0                  0                        0   \n",
       "\n",
       "     cuisine_type_Vietnamese  cuisine_type_Wine Bar  \n",
       "177                        0                      0  \n",
       "\n",
       "[1 rows x 3848 columns]"
      ]
     },
     "execution_count": 101,
     "metadata": {},
     "output_type": "execute_result"
    }
   ],
   "source": [
    "df.sample()"
   ]
  },
  {
   "cell_type": "code",
   "execution_count": 100,
   "metadata": {},
   "outputs": [
    {
     "name": "stdout",
     "output_type": "stream",
     "text": [
      "Beyoglu , rating = 7.7, cost = 2.0\n",
      "Sable's , rating = 8.0, cost = 2.0\n",
      "Sao Mai , rating = 8.3, cost = 1.0\n",
      "Blondies , rating = 8.0, cost = 1.0\n",
      "Neil's Coffee Shop , rating = 7.3, cost = 2.0\n"
     ]
    }
   ],
   "source": [
    "recommendations('Fiat Café')"
   ]
  },
  {
   "cell_type": "code",
   "execution_count": 102,
   "metadata": {},
   "outputs": [
    {
     "name": "stdout",
     "output_type": "stream",
     "text": [
      "Upland , rating = 9.1, cost = 3.0\n",
      "Gran Electrica , rating = 8.1, cost = 3.0\n",
      "Dudley's , rating = 7.1, cost = 3.0\n",
      "Covina , rating = 8.2, cost = 3.0\n",
      "Añejo , rating = 7.0, cost = 3.0\n"
     ]
    }
   ],
   "source": [
    "recommendations('Xixa')"
   ]
  },
  {
   "cell_type": "code",
   "execution_count": null,
   "metadata": {},
   "outputs": [],
   "source": []
  }
 ],
 "metadata": {
  "kernelspec": {
   "display_name": "Python 3",
   "language": "python",
   "name": "python3"
  },
  "language_info": {
   "codemirror_mode": {
    "name": "ipython",
    "version": 3
   },
   "file_extension": ".py",
   "mimetype": "text/x-python",
   "name": "python",
   "nbconvert_exporter": "python",
   "pygments_lexer": "ipython3",
   "version": "3.6.8"
  }
 },
 "nbformat": 4,
 "nbformat_minor": 2
}
