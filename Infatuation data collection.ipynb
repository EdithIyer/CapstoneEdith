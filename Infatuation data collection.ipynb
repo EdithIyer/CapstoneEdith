{
 "cells": [
  {
   "cell_type": "markdown",
   "metadata": {},
   "source": [
    "# Imports and web scraping"
   ]
  },
  {
   "cell_type": "code",
   "execution_count": 1,
   "metadata": {},
   "outputs": [],
   "source": [
    "import requests\n",
    "\n",
    "from bs4 import BeautifulSoup"
   ]
  },
  {
   "cell_type": "code",
   "execution_count": 35,
   "metadata": {},
   "outputs": [],
   "source": [
    "url = 'https://www.theinfatuation.com/new-york/reviews?sort=&page=1'"
   ]
  },
  {
   "cell_type": "markdown",
   "metadata": {},
   "source": [
    "## Can we get what we want: The slugs"
   ]
  },
  {
   "cell_type": "code",
   "execution_count": 36,
   "metadata": {},
   "outputs": [
    {
     "data": {
      "text/plain": [
       "200"
      ]
     },
     "execution_count": 36,
     "metadata": {},
     "output_type": "execute_result"
    }
   ],
   "source": [
    "response = requests.get(url)\n",
    "\n",
    "#look at status code\n",
    "response.status_code"
   ]
  },
  {
   "cell_type": "code",
   "execution_count": 37,
   "metadata": {},
   "outputs": [],
   "source": [
    "#Create Soup object:\n",
    "\n",
    "soup = BeautifulSoup(response.content, 'lxml')"
   ]
  },
  {
   "cell_type": "code",
   "execution_count": 51,
   "metadata": {},
   "outputs": [
    {
     "data": {
      "text/plain": [
       "['/new-york/reviews/saint-julivert-fisherie',\n",
       " '/new-york/reviews/farida-central-asian',\n",
       " '/new-york/reviews/u-gu',\n",
       " '/new-york/reviews/gato',\n",
       " '/new-york/reviews/kyma',\n",
       " '/new-york/reviews/2nd-floor-bar-essen',\n",
       " '/new-york/reviews/samesa',\n",
       " '/new-york/reviews/the-polynesian',\n",
       " '/new-york/reviews/bar-beau',\n",
       " '/new-york/reviews/general-debs',\n",
       " '/new-york/reviews/misi',\n",
       " '/new-york/reviews/adda',\n",
       " '/new-york/reviews/toriko-ny',\n",
       " '/new-york/reviews/bernies',\n",
       " '/new-york/reviews/atomix',\n",
       " '/new-york/reviews/shabushabu-macoron']"
      ]
     },
     "execution_count": 51,
     "metadata": {},
     "output_type": "execute_result"
    }
   ],
   "source": [
    "# first = \n",
    "# first\n",
    "\n",
    "slugs = []\n",
    "for i in soup.find_all('a', {'class': 'feature__link mobile'}):\n",
    "    slugs.append(i.get('href'))\n",
    "slugs"
   ]
  },
  {
   "cell_type": "code",
   "execution_count": 49,
   "metadata": {},
   "outputs": [
    {
     "data": {
      "text/plain": [
       "['/new-york/reviews/saint-julivert-fisherie',\n",
       " '/new-york/reviews/farida-central-asian',\n",
       " '/new-york/reviews/u-gu',\n",
       " '/new-york/reviews/gato',\n",
       " '/new-york/reviews/kyma',\n",
       " '/new-york/reviews/2nd-floor-bar-essen',\n",
       " '/new-york/reviews/samesa',\n",
       " '/new-york/reviews/the-polynesian',\n",
       " '/new-york/reviews/bar-beau',\n",
       " '/new-york/reviews/general-debs',\n",
       " '/new-york/reviews/misi',\n",
       " '/new-york/reviews/adda',\n",
       " '/new-york/reviews/toriko-ny',\n",
       " '/new-york/reviews/bernies',\n",
       " '/new-york/reviews/atomix',\n",
       " '/new-york/reviews/shabushabu-macoron']"
      ]
     },
     "execution_count": 49,
     "metadata": {},
     "output_type": "execute_result"
    }
   ],
   "source": [
    "slugs"
   ]
  },
  {
   "cell_type": "code",
   "execution_count": 10,
   "metadata": {},
   "outputs": [],
   "source": [
    "#we don't need this because we figured out a way to just get the slugs\n",
    "#new_slugs = [i for i in new_slugs if len(i) >17]"
   ]
  },
  {
   "cell_type": "code",
   "execution_count": 47,
   "metadata": {
    "scrolled": true
   },
   "outputs": [],
   "source": [
    "# new_slugs = list(set(new_slugs))\n",
    "# new_slugs"
   ]
  },
  {
   "cell_type": "markdown",
   "metadata": {},
   "source": [
    "#### For each page:"
   ]
  },
  {
   "cell_type": "code",
   "execution_count": 67,
   "metadata": {
    "scrolled": true
   },
   "outputs": [
    {
     "data": {
      "text/plain": [
       "200"
      ]
     },
     "execution_count": 67,
     "metadata": {},
     "output_type": "execute_result"
    }
   ],
   "source": [
    "url_page = 'https://www.theinfatuation.com' + '/new-york/reviews/atomix'\n",
    "\n",
    "response = requests.get(url_page)\n",
    "\n",
    "#look at status code\n",
    "response.status_code"
   ]
  },
  {
   "cell_type": "code",
   "execution_count": 68,
   "metadata": {},
   "outputs": [],
   "source": [
    "soup_page = BeautifulSoup(response.content, 'lxml')"
   ]
  },
  {
   "cell_type": "markdown",
   "metadata": {},
   "source": [
    "To Find Review use: <br>\n",
    "`soup_page.find_all('div', {'class': 'post__content__text-block'})` <br>\n",
    "To extract text: <br>\n",
    "`soup_page.find_all('div', {'class': 'post__content__text-block'})[1].text`<br>\n",
    "To find dishes and description:\n",
    "\n"
   ]
  },
  {
   "cell_type": "code",
   "execution_count": 19,
   "metadata": {
    "scrolled": true
   },
   "outputs": [
    {
     "data": {
      "text/plain": [
       "'Once that’s done, your dinner officially begins, and every course starts with a notecard. These notecards don’t just tell you in broad terms what you’re about to be eating - each one has an incredibly specific breakdown of every single ingredient in a dish (down to water and xanthan gum). There’s also a brief essay on the inspiration behind the dish, and even the Instagram handle of the person who made the actual plate. Like all the other details that go into a meal here, it’s thoughtful without ever seeming gimmicky, and it helps you further appreciate your food in the same way that an Elizabethan dictionary helps you fully comprehend a Shakespearean insult.\\nThe courses themselves start small and chilled, then gradually turn into more substantial things like lightly battered wagyu, a tender piece of fish over foie gras with tiny orbs of squash, and some bite-sized slices of perfectly cooked duck with a side of Korean-inspired mole. The dishes are complex and attractive, but you don’t feel like you’re desecrating a piece of modern art when you eat them - and, more importantly, everything tastes very, very good. Considering the $175 price tag, you might think that’s a given, but with fancy tasting menus, things sometimes tend to be more interesting than they are delicious.\\nThat’s just one more reason why Atomix is not your typical tasting-menu spot. You’ll want seconds of every dish, and you’ll never wonder exactly what it is that you’re putting in your mouth - because the notecards walk you through everything like a friendly tour guide, or that paperclip from old versions of Microsoft Word. At the end of the night, you get to take all your notecards home in a custom envelope - and after a meal this special, it’s nice having a meaningful souvenir that isn’t just a copy of the check.'"
      ]
     },
     "execution_count": 19,
     "metadata": {},
     "output_type": "execute_result"
    }
   ],
   "source": [
    "soup_page.find_all('div', {'class': 'post__content__text-block'})[1].text"
   ]
  },
  {
   "cell_type": "code",
   "execution_count": 87,
   "metadata": {},
   "outputs": [],
   "source": [
    "sample = ''"
   ]
  },
  {
   "cell_type": "code",
   "execution_count": 90,
   "metadata": {},
   "outputs": [],
   "source": [
    "for i in list(range(len(soup_page.find_all('div', {'class': 'post__content__text-block'})))):\n",
    "    sample += soup_page.find_all('div', {'class': 'post__content__text-block'})[i].text"
   ]
  },
  {
   "cell_type": "code",
   "execution_count": 91,
   "metadata": {},
   "outputs": [
    {
     "data": {
      "text/plain": [
       "'When Alexander Fleming discovered penicillin, it was just an accident in his lab that he happened to pick up on. And when the Greeks conquered Troy, it was only because Odysseus noticed that the Trojans were dumb and would definitely fall for a fake-horse trick. In other words, attention to detail is important. It can change history, or, in the case of Atomix, it can make a meal that much more exceptional.\\nAtomix is a restaurant in Nomad from the people behind Atoboy, and it does a $175 10-course Korean tasting menu. Considering the price, it isn’t the kind of place where you’ll go once a month, or (probably) even once a year - but the food is genuinely excellent, and beyond that, there a lot of little details that make this place worth your money for a very special night out.\\nTo get here, you walk up the steps of a small residential building on East 30th Street and ring an unmarked doorbell. A host then walks you through an upstairs bar and down a set of stairs to a lounge-like area with a U-shaped counter surrounded by 14 chairs. Next, a few snacks arrive, and then you get to pick your own chopsticks from a tray of about nine different pairs. Every set is unique, and the act of choosing feels like a brief personality quiz, or a few moments with the Hogwarts Sorting Hat.Once that’s done, your dinner officially begins, and every course starts with a notecard. These notecards don’t just tell you in broad terms what you’re about to be eating - each one has an incredibly specific breakdown of every single ingredient in a dish (down to water and xanthan gum). There’s also a brief essay on the inspiration behind the dish, and even the Instagram handle of the person who made the actual plate. Like all the other details that go into a meal here, it’s thoughtful without ever seeming gimmicky, and it helps you further appreciate your food in the same way that an Elizabethan dictionary helps you fully comprehend a Shakespearean insult.\\nThe courses themselves start small and chilled, then gradually turn into more substantial things like lightly battered wagyu, a tender piece of fish over foie gras with tiny orbs of squash, and some bite-sized slices of perfectly cooked duck with a side of Korean-inspired mole. The dishes are complex and attractive, but you don’t feel like you’re desecrating a piece of modern art when you eat them - and, more importantly, everything tastes very, very good. Considering the $175 price tag, you might think that’s a given, but with fancy tasting menus, things sometimes tend to be more interesting than they are delicious.\\nThat’s just one more reason why Atomix is not your typical tasting-menu spot. You’ll want seconds of every dish, and you’ll never wonder exactly what it is that you’re putting in your mouth - because the notecards walk you through everything like a friendly tour guide, or that paperclip from old versions of Microsoft Word. At the end of the night, you get to take all your notecards home in a custom envelope - and after a meal this special, it’s nice having a meaningful souvenir that isn’t just a copy of the check.'"
      ]
     },
     "execution_count": 91,
     "metadata": {},
     "output_type": "execute_result"
    }
   ],
   "source": [
    "sample"
   ]
  },
  {
   "cell_type": "code",
   "execution_count": 21,
   "metadata": {},
   "outputs": [
    {
     "data": {
      "text/plain": [
       "[<span class=\"dish-block__name\">White Shrimp, Radish, Persimmon, Soy Bean Curd</span>,\n",
       " <span class=\"dish-block__name\">Wagyu, Sea Cucumber, Salted Sea Cucumber Sauce</span>,\n",
       " <span class=\"dish-block__name\">Halibut, Foie Gras, Butternut Squash, Doenjang Brown Butter</span>,\n",
       " <span class=\"dish-block__name\">Sesame Oil Ice Cream, Corn Marmalade, Nuruk Granola</span>,\n",
       " <span class=\"dish-block__name\">Notecards</span>]"
      ]
     },
     "execution_count": 21,
     "metadata": {},
     "output_type": "execute_result"
    }
   ],
   "source": [
    "soup_page.find_all('span', {'class': 'dish-block__name'})"
   ]
  },
  {
   "cell_type": "code",
   "execution_count": 27,
   "metadata": {},
   "outputs": [
    {
     "data": {
      "text/plain": [
       "'\\n\\n\\n\\nWagyu, Sea Cucumber, Salted Sea Cucumber Sauce\\nWe’ve never had wagyu cooked like this, and you probably haven’t either. It’s thinly sliced and battered with egg and cornstarch, and it’s essentially a savory version of French toast made from some very high-quality meat. It’s extremely tender and flavorful (almost like pastrami), and the slivers of sea cucumber are pleasantly chewy.\\n'"
      ]
     },
     "execution_count": 27,
     "metadata": {},
     "output_type": "execute_result"
    }
   ],
   "source": [
    "soup_page.find_all('div', {'class': 'post__content__dish-block'})[1].text"
   ]
  },
  {
   "cell_type": "code",
   "execution_count": 30,
   "metadata": {},
   "outputs": [
    {
     "name": "stdout",
     "output_type": "stream",
     "text": [
      "\n",
      "\n",
      "\n",
      "\n",
      "\n",
      "\n",
      "\n",
      "\n",
      "\n",
      "\n",
      "                Kate Previte\n",
      "            \n",
      "\n",
      "White Shrimp, Radish, Persimmon, Soy Bean Curd\n",
      "The first few courses will be small and chilled, like this shrimp under radish with a side of persimmon sauce. We’ve never really thought of shrimp as refreshing - but this shrimp is, in fact, cool and refreshing. It’s also creamy with some crispy texture from the radish, and once you add a little tart persimmon sauce, the whole thing tastes like a cold saltwater pool in the middle of an orchard in August.\n",
      "\n",
      "\n",
      "\n",
      "\n",
      "\n",
      "Wagyu, Sea Cucumber, Salted Sea Cucumber Sauce\n",
      "We’ve never had wagyu cooked like this, and you probably haven’t either. It’s thinly sliced and battered with egg and cornstarch, and it’s essentially a savory version of French toast made from some very high-quality meat. It’s extremely tender and flavorful (almost like pastrami), and the slivers of sea cucumber are pleasantly chewy.\n",
      "\n",
      "\n",
      "\n",
      "\n",
      "\n",
      "Halibut, Foie Gras, Butternut Squash, Doenjang Brown Butter\n",
      "Imagine all the halibut you’ve eaten. Now forget it. This is better. It’s as soft as a sea scallop, and the mild flavor works perfectly with the rich and salty foie gras and brown butter. There are also some little finger lime capsules that pop like pieces of caviar and add some nice freshness.\n",
      "\n",
      "\n",
      "\n",
      "\n",
      "\n",
      "Sesame Oil Ice Cream, Corn Marmalade, Nuruk Granola\n",
      "Dessert often feels like an afterthought, but that isn’t the case here. This sesame oil ice cream is only barely sweet and a little bit salty, and you’ll keep eating it on autopilot until it’s gone and you’re confused as to where it went. The corn marmalade also brings you full circle, back to the summery feel of the first few courses, and you’ll be thinking about corn fields as soon as you step outside. Even if it’s 20 degrees and snowing.\n",
      "\n",
      "\n",
      "\n",
      "\n",
      "\n",
      "Notecards\n",
      "Once you get home, you might start feeling a little nostalgic. Fortunately, you'll have all these notecards to remind you of your meal. Frame them, or place the notecards on your mantelpiece and tell your children to stay away from them.\n",
      "\n"
     ]
    }
   ],
   "source": [
    "for i in list(range(len(soup_page.find_all('div', {'class': 'post__content__dish-block'})))):\n",
    "    print(soup_page.find_all('div', {'class': 'post__content__dish-block'})[i].text)"
   ]
  },
  {
   "cell_type": "code",
   "execution_count": 69,
   "metadata": {},
   "outputs": [
    {
     "name": "stdout",
     "output_type": "stream",
     "text": [
      "4\n"
     ]
    }
   ],
   "source": [
    "# Get dollar signs\n",
    "for i in soup_page.find_all('div', {'class': 'price-rating'}):\n",
    "    print(i.get('data-price'))"
   ]
  },
  {
   "cell_type": "code",
   "execution_count": 86,
   "metadata": {},
   "outputs": [
    {
     "data": {
      "text/plain": [
       "<div class=\"price-rating\" data-price=\"4\">\n",
       "<span>$</span><span>$</span><span>$</span><span>$</span>\n",
       "</div>"
      ]
     },
     "execution_count": 86,
     "metadata": {},
     "output_type": "execute_result"
    }
   ],
   "source": [
    "soup_page.find('div', {'class': 'price-rating'})"
   ]
  },
  {
   "cell_type": "code",
   "execution_count": 72,
   "metadata": {},
   "outputs": [
    {
     "data": {
      "text/plain": [
       "'8.8'"
      ]
     },
     "execution_count": 72,
     "metadata": {},
     "output_type": "execute_result"
    }
   ],
   "source": [
    "# Get rating\n",
    "soup_page.find_all('div', {'class': 'review-title__rating__number'})[0].text"
   ]
  },
  {
   "cell_type": "code",
   "execution_count": 73,
   "metadata": {},
   "outputs": [
    {
     "data": {
      "text/plain": [
       "'Korean'"
      ]
     },
     "execution_count": 73,
     "metadata": {},
     "output_type": "execute_result"
    }
   ],
   "source": [
    "# Get cuisine\n",
    "soup_page.find_all('span', {'class': 'overview-bold'})[0].text"
   ]
  },
  {
   "cell_type": "code",
   "execution_count": 75,
   "metadata": {},
   "outputs": [
    {
     "data": {
      "text/plain": [
       "'Nomad'"
      ]
     },
     "execution_count": 75,
     "metadata": {},
     "output_type": "execute_result"
    }
   ],
   "source": [
    "# Get neighborhood\n",
    "soup_page.find_all('span', {'class': 'overview-bold'})[1].text"
   ]
  },
  {
   "cell_type": "code",
   "execution_count": 81,
   "metadata": {},
   "outputs": [
    {
     "data": {
      "text/plain": [
       "'Atomix'"
      ]
     },
     "execution_count": 81,
     "metadata": {},
     "output_type": "execute_result"
    }
   ],
   "source": [
    "#get name\n",
    "soup_page.find_all('h1', {'class': 'review-title__title'})[0].text"
   ]
  },
  {
   "cell_type": "code",
   "execution_count": 103,
   "metadata": {},
   "outputs": [
    {
     "data": {
      "text/plain": [
       "'\\n104 E 30th St\\nNew York, NY 10016\\n'"
      ]
     },
     "execution_count": 103,
     "metadata": {},
     "output_type": "execute_result"
    }
   ],
   "source": [
    "soup_page.find_all('div', {'class': 'post__sidebar__info__col__block contact-info'})[0].text"
   ]
  },
  {
   "cell_type": "markdown",
   "metadata": {},
   "source": [
    "## Iterate through pages 1 through 52 to get ~ 900 slugs"
   ]
  },
  {
   "cell_type": "code",
   "execution_count": 32,
   "metadata": {},
   "outputs": [],
   "source": [
    "pages = list(range(1, 53))"
   ]
  },
  {
   "cell_type": "code",
   "execution_count": 33,
   "metadata": {},
   "outputs": [
    {
     "data": {
      "text/plain": [
       "5"
      ]
     },
     "execution_count": 33,
     "metadata": {},
     "output_type": "execute_result"
    }
   ],
   "source": [
    "pages[4]"
   ]
  },
  {
   "cell_type": "code",
   "execution_count": 54,
   "metadata": {},
   "outputs": [],
   "source": [
    "def get_slugs(url_start, num_pages):\n",
    "\n",
    "    slugs = []\n",
    "\n",
    "    for x in list(range(1, num_pages)):\n",
    "        url_loop = url_start + str(x)\n",
    "        response_loop = requests.get(url_loop)\n",
    "        #look at status code\n",
    "\n",
    "    #     if response_loop.status_code != 200:\n",
    "    #         print('Bad response code')\n",
    "\n",
    "        #create beautiful soup object\n",
    "        soup_loop = BeautifulSoup(response.content, 'lxml')\n",
    "\n",
    "        #find all \n",
    "\n",
    "        for i in soup_loop.find_all('a', {'class': 'feature__link mobile'}):\n",
    "            slugs.append(i.get('href'))\n",
    "    return slugs"
   ]
  },
  {
   "cell_type": "code",
   "execution_count": 55,
   "metadata": {},
   "outputs": [],
   "source": [
    "url_start = 'https://www.theinfatuation.com/new-york/reviews?sort=&page='"
   ]
  },
  {
   "cell_type": "code",
   "execution_count": 56,
   "metadata": {},
   "outputs": [],
   "source": [
    "nyc_slugs = get_slugs(url_start, 53)"
   ]
  },
  {
   "cell_type": "code",
   "execution_count": 57,
   "metadata": {},
   "outputs": [
    {
     "data": {
      "text/plain": [
       "832"
      ]
     },
     "execution_count": 57,
     "metadata": {},
     "output_type": "execute_result"
    }
   ],
   "source": [
    "len(nyc_slugs)"
   ]
  },
  {
   "cell_type": "code",
   "execution_count": 58,
   "metadata": {},
   "outputs": [
    {
     "data": {
      "text/plain": [
       "'/new-york/reviews/farida-central-asian'"
      ]
     },
     "execution_count": 58,
     "metadata": {},
     "output_type": "execute_result"
    }
   ],
   "source": [
    "nyc_slugs[1]"
   ]
  },
  {
   "cell_type": "markdown",
   "metadata": {},
   "source": [
    "## Use list of slugs to query each page and pull the reviews, cost, rating, location and type"
   ]
  },
  {
   "cell_type": "markdown",
   "metadata": {},
   "source": [
    "We need to create a list of dictionaries that looks somewhat like:\n",
    "```\n",
    "restaurants = [\n",
    "        {'name': 'farida',\n",
    "         'rating': 4,\n",
    "         'cost': 7,\n",
    "         'cuisine': 'seafood',\n",
    "         'neighborhood': 'boerem hill',\n",
    "         'review': 'bblah blan ..'},\n",
    "        {'name': 'po',\n",
    "         'rating': 9,\n",
    "         'cost': 2,\n",
    "         'cuisine': 'bar',\n",
    "         'address': '188 havemeyer',\n",
    "         'review': 'the best bar ..'}\n",
    "        ]\n",
    "        ```"
   ]
  },
  {
   "cell_type": "code",
   "execution_count": 104,
   "metadata": {},
   "outputs": [],
   "source": [
    "\n",
    "#create an empty list to fill with dictionary entries\n",
    "review_list = []\n",
    "\n",
    "\n",
    "slugs = nyc_slugs\n",
    "#create method to iterate through multiple pages\n",
    "    \n",
    "for slug in slugs:\n",
    "    response = requests.get(url + slug)\n",
    "    soup = BeautifulSoup(response.content, 'lxml')\n",
    "   #new dictionary for each restaurant \n",
    "    rest_dict = {}\n",
    "    #restaurant name\n",
    "    rest_dict['name'] = soup.find_all('h1', {'class': 'review-title__title'})[0].text\n",
    "    \n",
    "    #rating\n",
    "    rest_dict['rating'] = soup.find_all('div', {'class': 'review-title__rating__number'})[0].text\n",
    "        \n",
    "    #cost \n",
    "    for i in soup.find_all('div', {'class': 'price-rating'}):\n",
    "        rest_dict['cost'] = i.get('data-price')\n",
    "    \n",
    "    #neighborhood\n",
    "    rest_dict['address'] = soup_page.find_all('div', {'class': 'post__sidebar__info__col__block contact-info'})[0].text\n",
    "    \n",
    "    #cuisine\n",
    "    rest_dict['cuisine'] = soup.find_all('span', {'class': 'overview-bold'})[0].text\n",
    "    \n",
    "    \n",
    "    #review\n",
    "    review_text = ''\n",
    "    for i in list(range(len(soup_page.find_all('div', {'class': 'post__content__text-block'})))):\n",
    "        review_text += soup.find_all('div', {'class': 'post__content__text-block'})[i].text\n",
    "    rest_dict['review'] = review_text    \n",
    "    \n",
    "    \n",
    "    #add dictionary to the list\n",
    "    review_list.append(rest_dict)                                               #add this dictionary to the list"
   ]
  },
  {
   "cell_type": "code",
   "execution_count": 96,
   "metadata": {},
   "outputs": [],
   "source": [
    "import pandas as pd"
   ]
  },
  {
   "cell_type": "code",
   "execution_count": 105,
   "metadata": {},
   "outputs": [],
   "source": [
    "df = pd.DataFrame(review_list)"
   ]
  },
  {
   "cell_type": "code",
   "execution_count": 106,
   "metadata": {},
   "outputs": [
    {
     "data": {
      "text/html": [
       "<div>\n",
       "<style scoped>\n",
       "    .dataframe tbody tr th:only-of-type {\n",
       "        vertical-align: middle;\n",
       "    }\n",
       "\n",
       "    .dataframe tbody tr th {\n",
       "        vertical-align: top;\n",
       "    }\n",
       "\n",
       "    .dataframe thead th {\n",
       "        text-align: right;\n",
       "    }\n",
       "</style>\n",
       "<table border=\"1\" class=\"dataframe\">\n",
       "  <thead>\n",
       "    <tr style=\"text-align: right;\">\n",
       "      <th></th>\n",
       "      <th>address</th>\n",
       "      <th>cost</th>\n",
       "      <th>cuisine</th>\n",
       "      <th>name</th>\n",
       "      <th>rating</th>\n",
       "      <th>review</th>\n",
       "    </tr>\n",
       "  </thead>\n",
       "  <tbody>\n",
       "    <tr>\n",
       "      <th>0</th>\n",
       "      <td>\\n104 E 30th St\\nNew York, NY 10016\\n</td>\n",
       "      <td>3</td>\n",
       "      <td>Seafood</td>\n",
       "      <td>Saint Julivert Fisherie</td>\n",
       "      <td>7.7</td>\n",
       "      <td>When you’re young, you don’t have to think muc...</td>\n",
       "    </tr>\n",
       "    <tr>\n",
       "      <th>1</th>\n",
       "      <td>\\n104 E 30th St\\nNew York, NY 10016\\n</td>\n",
       "      <td>2</td>\n",
       "      <td>Russian</td>\n",
       "      <td>Farida</td>\n",
       "      <td>8.0</td>\n",
       "      <td>There’s a bleak, sweaty place on 34th Street w...</td>\n",
       "    </tr>\n",
       "    <tr>\n",
       "      <th>2</th>\n",
       "      <td>\\n104 E 30th St\\nNew York, NY 10016\\n</td>\n",
       "      <td>2</td>\n",
       "      <td>Sushi</td>\n",
       "      <td>U-Gu</td>\n",
       "      <td>7.7</td>\n",
       "      <td>New York is near an ocean with plenty of free ...</td>\n",
       "    </tr>\n",
       "    <tr>\n",
       "      <th>3</th>\n",
       "      <td>\\n104 E 30th St\\nNew York, NY 10016\\n</td>\n",
       "      <td>3</td>\n",
       "      <td>Spanish</td>\n",
       "      <td>Gato</td>\n",
       "      <td>7.3</td>\n",
       "      <td>When some things change, they become unrecogni...</td>\n",
       "    </tr>\n",
       "    <tr>\n",
       "      <th>4</th>\n",
       "      <td>\\n104 E 30th St\\nNew York, NY 10016\\n</td>\n",
       "      <td>3</td>\n",
       "      <td>Greek</td>\n",
       "      <td>Kyma</td>\n",
       "      <td>7.3</td>\n",
       "      <td>Around the time Kyma opened, we heard that Bil...</td>\n",
       "    </tr>\n",
       "  </tbody>\n",
       "</table>\n",
       "</div>"
      ],
      "text/plain": [
       "                                 address cost  cuisine  \\\n",
       "0  \\n104 E 30th St\\nNew York, NY 10016\\n    3  Seafood   \n",
       "1  \\n104 E 30th St\\nNew York, NY 10016\\n    2  Russian   \n",
       "2  \\n104 E 30th St\\nNew York, NY 10016\\n    2    Sushi   \n",
       "3  \\n104 E 30th St\\nNew York, NY 10016\\n    3  Spanish   \n",
       "4  \\n104 E 30th St\\nNew York, NY 10016\\n    3    Greek   \n",
       "\n",
       "                      name rating  \\\n",
       "0  Saint Julivert Fisherie    7.7   \n",
       "1                   Farida    8.0   \n",
       "2                     U-Gu    7.7   \n",
       "3                     Gato    7.3   \n",
       "4                     Kyma    7.3   \n",
       "\n",
       "                                              review  \n",
       "0  When you’re young, you don’t have to think muc...  \n",
       "1  There’s a bleak, sweaty place on 34th Street w...  \n",
       "2  New York is near an ocean with plenty of free ...  \n",
       "3  When some things change, they become unrecogni...  \n",
       "4  Around the time Kyma opened, we heard that Bil...  "
      ]
     },
     "execution_count": 106,
     "metadata": {},
     "output_type": "execute_result"
    }
   ],
   "source": [
    "df.head()"
   ]
  },
  {
   "cell_type": "code",
   "execution_count": 107,
   "metadata": {},
   "outputs": [
    {
     "name": "stdout",
     "output_type": "stream",
     "text": [
      "<class 'pandas.core.frame.DataFrame'>\n",
      "RangeIndex: 832 entries, 0 to 831\n",
      "Data columns (total 6 columns):\n",
      "address    832 non-null object\n",
      "cost       832 non-null object\n",
      "cuisine    832 non-null object\n",
      "name       832 non-null object\n",
      "rating     832 non-null object\n",
      "review     832 non-null object\n",
      "dtypes: object(6)\n",
      "memory usage: 39.1+ KB\n"
     ]
    }
   ],
   "source": [
    "df.info()"
   ]
  },
  {
   "cell_type": "code",
   "execution_count": 108,
   "metadata": {},
   "outputs": [],
   "source": [
    "df.to_csv('./infatuation_reviews.csv')"
   ]
  },
  {
   "cell_type": "code",
   "execution_count": null,
   "metadata": {},
   "outputs": [],
   "source": []
  }
 ],
 "metadata": {
  "kernelspec": {
   "display_name": "Python 3",
   "language": "python",
   "name": "python3"
  },
  "language_info": {
   "codemirror_mode": {
    "name": "ipython",
    "version": 3
   },
   "file_extension": ".py",
   "mimetype": "text/x-python",
   "name": "python",
   "nbconvert_exporter": "python",
   "pygments_lexer": "ipython3",
   "version": "3.6.8"
  }
 },
 "nbformat": 4,
 "nbformat_minor": 2
}
