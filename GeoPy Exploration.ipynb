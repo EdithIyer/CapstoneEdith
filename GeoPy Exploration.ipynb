{
 "cells": [
  {
   "cell_type": "code",
   "execution_count": 1,
   "metadata": {},
   "outputs": [],
   "source": [
    "import pandas as pd\n",
    "import matplotlib.pyplot as plt\n",
    "from scipy import sparse\n",
    "from sklearn.metrics.pairwise import pairwise_distances\n",
    "from sklearn.metrics.pairwise import cosine_similarity"
   ]
  },
  {
   "cell_type": "code",
   "execution_count": 2,
   "metadata": {},
   "outputs": [
    {
     "name": "stdout",
     "output_type": "stream",
     "text": [
      "Collecting geopy\n",
      "\u001b[?25l  Downloading https://files.pythonhosted.org/packages/a8/5c/ca78a17b2c6fe1179e9221c9280bb5d8caaf048a631ed72caed40c52de24/geopy-1.18.1-py2.py3-none-any.whl (98kB)\n",
      "\u001b[K    100% |████████████████████████████████| 102kB 3.3MB/s a 0:00:01\n",
      "\u001b[?25hCollecting geographiclib<2,>=1.49 (from geopy)\n",
      "  Downloading https://files.pythonhosted.org/packages/5b/ac/4f348828091490d77899bc74e92238e2b55c59392f21948f296e94e50e2b/geographiclib-1.49.tar.gz\n",
      "Building wheels for collected packages: geographiclib\n",
      "  Running setup.py bdist_wheel for geographiclib ... \u001b[?25ldone\n",
      "\u001b[?25h  Stored in directory: /Users/edithiyerhernandez/Library/Caches/pip/wheels/99/45/d1/14954797e2a976083182c2e7da9b4e924509e59b6e5c661061\n",
      "Successfully built geographiclib\n",
      "Installing collected packages: geographiclib, geopy\n",
      "Successfully installed geographiclib-1.49 geopy-1.18.1\n",
      "\u001b[33mYou are using pip version 18.1, however version 19.0.1 is available.\n",
      "You should consider upgrading via the 'pip install --upgrade pip' command.\u001b[0m\n"
     ]
    }
   ],
   "source": [
    "!pip install geopy"
   ]
  },
  {
   "cell_type": "code",
   "execution_count": 4,
   "metadata": {},
   "outputs": [],
   "source": [
    "from geopy import distance"
   ]
  },
  {
   "cell_type": "code",
   "execution_count": 5,
   "metadata": {},
   "outputs": [],
   "source": [
    "tfdf = pd.read_csv('./Data/tfidf_df.csv')"
   ]
  },
  {
   "cell_type": "code",
   "execution_count": 6,
   "metadata": {
    "scrolled": true
   },
   "outputs": [
    {
     "data": {
      "text/html": [
       "<div>\n",
       "<style scoped>\n",
       "    .dataframe tbody tr th:only-of-type {\n",
       "        vertical-align: middle;\n",
       "    }\n",
       "\n",
       "    .dataframe tbody tr th {\n",
       "        vertical-align: top;\n",
       "    }\n",
       "\n",
       "    .dataframe thead th {\n",
       "        text-align: right;\n",
       "    }\n",
       "</style>\n",
       "<table border=\"1\" class=\"dataframe\">\n",
       "  <thead>\n",
       "    <tr style=\"text-align: right;\">\n",
       "      <th></th>\n",
       "      <th>rest_cost</th>\n",
       "      <th>rest_name</th>\n",
       "      <th>rest_rating</th>\n",
       "      <th>address_only</th>\n",
       "      <th>rest_zip_code</th>\n",
       "      <th>11</th>\n",
       "      <th>115</th>\n",
       "      <th>11am</th>\n",
       "      <th>11pm</th>\n",
       "      <th>11th</th>\n",
       "      <th>...</th>\n",
       "      <th>cuisine_type_Vegetarian</th>\n",
       "      <th>cuisine_type_Vietnamese</th>\n",
       "      <th>cuisine_type_Wine Bar</th>\n",
       "      <th>rest_borough_Bronx</th>\n",
       "      <th>rest_borough_Brooklyn</th>\n",
       "      <th>rest_borough_Jersey City</th>\n",
       "      <th>rest_borough_Manhattan</th>\n",
       "      <th>rest_borough_Queens</th>\n",
       "      <th>rest_borough_Staten Island</th>\n",
       "      <th>rest_borough_Westchester</th>\n",
       "    </tr>\n",
       "  </thead>\n",
       "  <tbody>\n",
       "    <tr>\n",
       "      <th>0</th>\n",
       "      <td>2.0</td>\n",
       "      <td>Mama’s Too</td>\n",
       "      <td>8.3</td>\n",
       "      <td>2750 Broadway, New York, NY 10025</td>\n",
       "      <td>10025</td>\n",
       "      <td>0.0</td>\n",
       "      <td>0.0</td>\n",
       "      <td>0.0</td>\n",
       "      <td>0.0</td>\n",
       "      <td>0.0</td>\n",
       "      <td>...</td>\n",
       "      <td>0</td>\n",
       "      <td>0</td>\n",
       "      <td>0</td>\n",
       "      <td>0</td>\n",
       "      <td>0</td>\n",
       "      <td>0</td>\n",
       "      <td>1</td>\n",
       "      <td>0</td>\n",
       "      <td>0</td>\n",
       "      <td>0</td>\n",
       "    </tr>\n",
       "    <tr>\n",
       "      <th>1</th>\n",
       "      <td>4.0</td>\n",
       "      <td>Omakase Room By Tatsu</td>\n",
       "      <td>7.7</td>\n",
       "      <td>14 Christopher St, New York, NY 10014</td>\n",
       "      <td>10014</td>\n",
       "      <td>0.0</td>\n",
       "      <td>0.0</td>\n",
       "      <td>0.0</td>\n",
       "      <td>0.0</td>\n",
       "      <td>0.0</td>\n",
       "      <td>...</td>\n",
       "      <td>0</td>\n",
       "      <td>0</td>\n",
       "      <td>0</td>\n",
       "      <td>0</td>\n",
       "      <td>0</td>\n",
       "      <td>0</td>\n",
       "      <td>1</td>\n",
       "      <td>0</td>\n",
       "      <td>0</td>\n",
       "      <td>0</td>\n",
       "    </tr>\n",
       "    <tr>\n",
       "      <th>2</th>\n",
       "      <td>4.0</td>\n",
       "      <td>Sushi Azabu</td>\n",
       "      <td>8.5</td>\n",
       "      <td>428 Greenwich St., New York, NY 10013</td>\n",
       "      <td>10013</td>\n",
       "      <td>0.0</td>\n",
       "      <td>0.0</td>\n",
       "      <td>0.0</td>\n",
       "      <td>0.0</td>\n",
       "      <td>0.0</td>\n",
       "      <td>...</td>\n",
       "      <td>0</td>\n",
       "      <td>0</td>\n",
       "      <td>0</td>\n",
       "      <td>0</td>\n",
       "      <td>0</td>\n",
       "      <td>0</td>\n",
       "      <td>1</td>\n",
       "      <td>0</td>\n",
       "      <td>0</td>\n",
       "      <td>0</td>\n",
       "    </tr>\n",
       "    <tr>\n",
       "      <th>3</th>\n",
       "      <td>3.0</td>\n",
       "      <td>Saint Julivert Fisherie</td>\n",
       "      <td>7.7</td>\n",
       "      <td>264 Clinton St, New York, NY 11201</td>\n",
       "      <td>11201</td>\n",
       "      <td>0.0</td>\n",
       "      <td>0.0</td>\n",
       "      <td>0.0</td>\n",
       "      <td>0.0</td>\n",
       "      <td>0.0</td>\n",
       "      <td>...</td>\n",
       "      <td>0</td>\n",
       "      <td>0</td>\n",
       "      <td>0</td>\n",
       "      <td>0</td>\n",
       "      <td>1</td>\n",
       "      <td>0</td>\n",
       "      <td>0</td>\n",
       "      <td>0</td>\n",
       "      <td>0</td>\n",
       "      <td>0</td>\n",
       "    </tr>\n",
       "    <tr>\n",
       "      <th>4</th>\n",
       "      <td>2.0</td>\n",
       "      <td>Farida</td>\n",
       "      <td>8.0</td>\n",
       "      <td>498 9th Ave, New York, NY 10018</td>\n",
       "      <td>10018</td>\n",
       "      <td>0.0</td>\n",
       "      <td>0.0</td>\n",
       "      <td>0.0</td>\n",
       "      <td>0.0</td>\n",
       "      <td>0.0</td>\n",
       "      <td>...</td>\n",
       "      <td>0</td>\n",
       "      <td>0</td>\n",
       "      <td>0</td>\n",
       "      <td>0</td>\n",
       "      <td>0</td>\n",
       "      <td>0</td>\n",
       "      <td>1</td>\n",
       "      <td>0</td>\n",
       "      <td>0</td>\n",
       "      <td>0</td>\n",
       "    </tr>\n",
       "  </tbody>\n",
       "</table>\n",
       "<p>5 rows × 12270 columns</p>\n",
       "</div>"
      ],
      "text/plain": [
       "   rest_cost                rest_name  rest_rating  \\\n",
       "0        2.0               Mama’s Too          8.3   \n",
       "1        4.0    Omakase Room By Tatsu          7.7   \n",
       "2        4.0              Sushi Azabu          8.5   \n",
       "3        3.0  Saint Julivert Fisherie          7.7   \n",
       "4        2.0                   Farida          8.0   \n",
       "\n",
       "                            address_only  rest_zip_code   11  115  11am  11pm  \\\n",
       "0      2750 Broadway, New York, NY 10025          10025  0.0  0.0   0.0   0.0   \n",
       "1  14 Christopher St, New York, NY 10014          10014  0.0  0.0   0.0   0.0   \n",
       "2  428 Greenwich St., New York, NY 10013          10013  0.0  0.0   0.0   0.0   \n",
       "3     264 Clinton St, New York, NY 11201          11201  0.0  0.0   0.0   0.0   \n",
       "4        498 9th Ave, New York, NY 10018          10018  0.0  0.0   0.0   0.0   \n",
       "\n",
       "   11th            ...             cuisine_type_Vegetarian  \\\n",
       "0   0.0            ...                                   0   \n",
       "1   0.0            ...                                   0   \n",
       "2   0.0            ...                                   0   \n",
       "3   0.0            ...                                   0   \n",
       "4   0.0            ...                                   0   \n",
       "\n",
       "   cuisine_type_Vietnamese  cuisine_type_Wine Bar  rest_borough_Bronx  \\\n",
       "0                        0                      0                   0   \n",
       "1                        0                      0                   0   \n",
       "2                        0                      0                   0   \n",
       "3                        0                      0                   0   \n",
       "4                        0                      0                   0   \n",
       "\n",
       "   rest_borough_Brooklyn  rest_borough_Jersey City  rest_borough_Manhattan  \\\n",
       "0                      0                         0                       1   \n",
       "1                      0                         0                       1   \n",
       "2                      0                         0                       1   \n",
       "3                      1                         0                       0   \n",
       "4                      0                         0                       1   \n",
       "\n",
       "   rest_borough_Queens  rest_borough_Staten Island  rest_borough_Westchester  \n",
       "0                    0                           0                         0  \n",
       "1                    0                           0                         0  \n",
       "2                    0                           0                         0  \n",
       "3                    0                           0                         0  \n",
       "4                    0                           0                         0  \n",
       "\n",
       "[5 rows x 12270 columns]"
      ]
     },
     "execution_count": 6,
     "metadata": {},
     "output_type": "execute_result"
    }
   ],
   "source": [
    "tfdf.head()"
   ]
  },
  {
   "cell_type": "code",
   "execution_count": 112,
   "metadata": {},
   "outputs": [],
   "source": [
    "full_df = pd.read_csv('./Data/full_df_with_keywords.csv')"
   ]
  },
  {
   "cell_type": "code",
   "execution_count": 113,
   "metadata": {},
   "outputs": [
    {
     "data": {
      "text/html": [
       "<div>\n",
       "<style scoped>\n",
       "    .dataframe tbody tr th:only-of-type {\n",
       "        vertical-align: middle;\n",
       "    }\n",
       "\n",
       "    .dataframe tbody tr th {\n",
       "        vertical-align: top;\n",
       "    }\n",
       "\n",
       "    .dataframe thead th {\n",
       "        text-align: right;\n",
       "    }\n",
       "</style>\n",
       "<table border=\"1\" class=\"dataframe\">\n",
       "  <thead>\n",
       "    <tr style=\"text-align: right;\">\n",
       "      <th></th>\n",
       "      <th>Document_No</th>\n",
       "      <th>Dominant_Topic</th>\n",
       "      <th>Topic_Perc_Contrib</th>\n",
       "      <th>Keywords</th>\n",
       "      <th>Text</th>\n",
       "      <th>rest_cost</th>\n",
       "      <th>cuisine_type</th>\n",
       "      <th>rest_name</th>\n",
       "      <th>rest_rating</th>\n",
       "      <th>rest_review</th>\n",
       "      <th>address_only</th>\n",
       "      <th>rest_borough</th>\n",
       "      <th>rest_zip_code</th>\n",
       "      <th>lemmatized</th>\n",
       "    </tr>\n",
       "  </thead>\n",
       "  <tbody>\n",
       "    <tr>\n",
       "      <th>0</th>\n",
       "      <td>0</td>\n",
       "      <td>0.0</td>\n",
       "      <td>0.3362</td>\n",
       "      <td>ramen, pylos, pizza, essentially, ippudo, thai...</td>\n",
       "      <td>A typical NYC slice shop has a few basic eleme...</td>\n",
       "      <td>2.0</td>\n",
       "      <td>Pizza</td>\n",
       "      <td>Mama’s Too</td>\n",
       "      <td>8.3</td>\n",
       "      <td>A typical NYC slice shop has a few basic eleme...</td>\n",
       "      <td>2750 Broadway, New York, NY 10025</td>\n",
       "      <td>Manhattan</td>\n",
       "      <td>10025</td>\n",
       "      <td>typical nyc slice shop basic element counter g...</td>\n",
       "    </tr>\n",
       "    <tr>\n",
       "      <th>1</th>\n",
       "      <td>1</td>\n",
       "      <td>3.0</td>\n",
       "      <td>0.6558</td>\n",
       "      <td>sushi, pork, midtown, fish, bbq, style, blue, ...</td>\n",
       "      <td>Tolerance for group trips can vary widely. Som...</td>\n",
       "      <td>4.0</td>\n",
       "      <td>Japanese</td>\n",
       "      <td>Omakase Room By Tatsu</td>\n",
       "      <td>7.7</td>\n",
       "      <td>Tolerance for group trips can vary widely. Som...</td>\n",
       "      <td>14 Christopher St, New York, NY 10014</td>\n",
       "      <td>Manhattan</td>\n",
       "      <td>10014</td>\n",
       "      <td>tolerance group trip vary widely people intern...</td>\n",
       "    </tr>\n",
       "    <tr>\n",
       "      <th>2</th>\n",
       "      <td>2</td>\n",
       "      <td>3.0</td>\n",
       "      <td>0.5712</td>\n",
       "      <td>sushi, pork, midtown, fish, bbq, style, blue, ...</td>\n",
       "      <td>When the apocalypse eventually comes for New Y...</td>\n",
       "      <td>4.0</td>\n",
       "      <td>Japanese</td>\n",
       "      <td>Sushi Azabu</td>\n",
       "      <td>8.5</td>\n",
       "      <td>When the apocalypse eventually comes for New Y...</td>\n",
       "      <td>428 Greenwich St., New York, NY 10013</td>\n",
       "      <td>Manhattan</td>\n",
       "      <td>10013</td>\n",
       "      <td>apocalypse eventually come new york city going...</td>\n",
       "    </tr>\n",
       "    <tr>\n",
       "      <th>3</th>\n",
       "      <td>3</td>\n",
       "      <td>2.0</td>\n",
       "      <td>0.5248</td>\n",
       "      <td>chicken, meal, thing, dining, sandwich, burger...</td>\n",
       "      <td>When you’re young, you don’t have to think muc...</td>\n",
       "      <td>3.0</td>\n",
       "      <td>Seafood</td>\n",
       "      <td>Saint Julivert Fisherie</td>\n",
       "      <td>7.7</td>\n",
       "      <td>When you’re young, you don’t have to think muc...</td>\n",
       "      <td>264 Clinton St, New York, NY 11201</td>\n",
       "      <td>Brooklyn</td>\n",
       "      <td>11201</td>\n",
       "      <td>young think much decision know attempt deep en...</td>\n",
       "    </tr>\n",
       "    <tr>\n",
       "      <th>4</th>\n",
       "      <td>4</td>\n",
       "      <td>0.0</td>\n",
       "      <td>0.3102</td>\n",
       "      <td>ramen, pylos, pizza, essentially, ippudo, thai...</td>\n",
       "      <td>There’s a bleak, sweaty place on 34th Street w...</td>\n",
       "      <td>2.0</td>\n",
       "      <td>Russian</td>\n",
       "      <td>Farida</td>\n",
       "      <td>8.0</td>\n",
       "      <td>There’s a bleak, sweaty place on 34th Street w...</td>\n",
       "      <td>498 9th Ave, New York, NY 10018</td>\n",
       "      <td>Manhattan</td>\n",
       "      <td>10018</td>\n",
       "      <td>bleak sweaty place 34th street adult run 6 yar...</td>\n",
       "    </tr>\n",
       "  </tbody>\n",
       "</table>\n",
       "</div>"
      ],
      "text/plain": [
       "   Document_No  Dominant_Topic  Topic_Perc_Contrib  \\\n",
       "0            0             0.0              0.3362   \n",
       "1            1             3.0              0.6558   \n",
       "2            2             3.0              0.5712   \n",
       "3            3             2.0              0.5248   \n",
       "4            4             0.0              0.3102   \n",
       "\n",
       "                                            Keywords  \\\n",
       "0  ramen, pylos, pizza, essentially, ippudo, thai...   \n",
       "1  sushi, pork, midtown, fish, bbq, style, blue, ...   \n",
       "2  sushi, pork, midtown, fish, bbq, style, blue, ...   \n",
       "3  chicken, meal, thing, dining, sandwich, burger...   \n",
       "4  ramen, pylos, pizza, essentially, ippudo, thai...   \n",
       "\n",
       "                                                Text  rest_cost cuisine_type  \\\n",
       "0  A typical NYC slice shop has a few basic eleme...        2.0        Pizza   \n",
       "1  Tolerance for group trips can vary widely. Som...        4.0     Japanese   \n",
       "2  When the apocalypse eventually comes for New Y...        4.0     Japanese   \n",
       "3  When you’re young, you don’t have to think muc...        3.0      Seafood   \n",
       "4  There’s a bleak, sweaty place on 34th Street w...        2.0      Russian   \n",
       "\n",
       "                 rest_name  rest_rating  \\\n",
       "0               Mama’s Too          8.3   \n",
       "1    Omakase Room By Tatsu          7.7   \n",
       "2              Sushi Azabu          8.5   \n",
       "3  Saint Julivert Fisherie          7.7   \n",
       "4                   Farida          8.0   \n",
       "\n",
       "                                         rest_review  \\\n",
       "0  A typical NYC slice shop has a few basic eleme...   \n",
       "1  Tolerance for group trips can vary widely. Som...   \n",
       "2  When the apocalypse eventually comes for New Y...   \n",
       "3  When you’re young, you don’t have to think muc...   \n",
       "4  There’s a bleak, sweaty place on 34th Street w...   \n",
       "\n",
       "                            address_only rest_borough  rest_zip_code  \\\n",
       "0      2750 Broadway, New York, NY 10025    Manhattan          10025   \n",
       "1  14 Christopher St, New York, NY 10014    Manhattan          10014   \n",
       "2  428 Greenwich St., New York, NY 10013    Manhattan          10013   \n",
       "3     264 Clinton St, New York, NY 11201     Brooklyn          11201   \n",
       "4        498 9th Ave, New York, NY 10018    Manhattan          10018   \n",
       "\n",
       "                                          lemmatized  \n",
       "0  typical nyc slice shop basic element counter g...  \n",
       "1  tolerance group trip vary widely people intern...  \n",
       "2  apocalypse eventually come new york city going...  \n",
       "3  young think much decision know attempt deep en...  \n",
       "4  bleak sweaty place 34th street adult run 6 yar...  "
      ]
     },
     "execution_count": 113,
     "metadata": {},
     "output_type": "execute_result"
    }
   ],
   "source": [
    "full_df.head()"
   ]
  },
  {
   "cell_type": "code",
   "execution_count": 134,
   "metadata": {},
   "outputs": [
    {
     "data": {
      "text/html": [
       "<div>\n",
       "<style scoped>\n",
       "    .dataframe tbody tr th:only-of-type {\n",
       "        vertical-align: middle;\n",
       "    }\n",
       "\n",
       "    .dataframe tbody tr th {\n",
       "        vertical-align: top;\n",
       "    }\n",
       "\n",
       "    .dataframe thead th {\n",
       "        text-align: right;\n",
       "    }\n",
       "</style>\n",
       "<table border=\"1\" class=\"dataframe\">\n",
       "  <thead>\n",
       "    <tr style=\"text-align: right;\">\n",
       "      <th></th>\n",
       "      <th>Document_No</th>\n",
       "      <th>Dominant_Topic</th>\n",
       "      <th>Topic_Perc_Contrib</th>\n",
       "      <th>Keywords</th>\n",
       "      <th>Text</th>\n",
       "      <th>rest_cost</th>\n",
       "      <th>cuisine_type</th>\n",
       "      <th>rest_name</th>\n",
       "      <th>rest_rating</th>\n",
       "      <th>rest_review</th>\n",
       "      <th>address_only</th>\n",
       "      <th>rest_borough</th>\n",
       "      <th>rest_zip_code</th>\n",
       "      <th>lemmatized</th>\n",
       "      <th>lat_long</th>\n",
       "      <th>lat</th>\n",
       "      <th>long</th>\n",
       "    </tr>\n",
       "  </thead>\n",
       "  <tbody>\n",
       "    <tr>\n",
       "      <th>758</th>\n",
       "      <td>758</td>\n",
       "      <td>3.0</td>\n",
       "      <td>0.1302</td>\n",
       "      <td>sushi, pork, midtown, fish, bbq, style, blue, ...</td>\n",
       "      <td>If you were to draft up a checklist of all the...</td>\n",
       "      <td>2.0</td>\n",
       "      <td>American</td>\n",
       "      <td>Lodge</td>\n",
       "      <td>4.5</td>\n",
       "      <td>If you were to draft up a checklist of all the...</td>\n",
       "      <td>318 Grand St., Brooklyn, NY 11211</td>\n",
       "      <td>Brooklyn</td>\n",
       "      <td>11211</td>\n",
       "      <td>draft checklist essential hipster restaurant l...</td>\n",
       "      <td>(40.7125786, -73.9567395)</td>\n",
       "      <td>40.7126</td>\n",
       "      <td>-73.9567</td>\n",
       "    </tr>\n",
       "  </tbody>\n",
       "</table>\n",
       "</div>"
      ],
      "text/plain": [
       "     Document_No  Dominant_Topic  Topic_Perc_Contrib  \\\n",
       "758          758             3.0              0.1302   \n",
       "\n",
       "                                              Keywords  \\\n",
       "758  sushi, pork, midtown, fish, bbq, style, blue, ...   \n",
       "\n",
       "                                                  Text  rest_cost  \\\n",
       "758  If you were to draft up a checklist of all the...        2.0   \n",
       "\n",
       "    cuisine_type rest_name  rest_rating  \\\n",
       "758     American     Lodge          4.5   \n",
       "\n",
       "                                           rest_review  \\\n",
       "758  If you were to draft up a checklist of all the...   \n",
       "\n",
       "                          address_only rest_borough  rest_zip_code  \\\n",
       "758  318 Grand St., Brooklyn, NY 11211     Brooklyn          11211   \n",
       "\n",
       "                                            lemmatized  \\\n",
       "758  draft checklist essential hipster restaurant l...   \n",
       "\n",
       "                      lat_long      lat     long  \n",
       "758  (40.7125786, -73.9567395)  40.7126 -73.9567  "
      ]
     },
     "execution_count": 134,
     "metadata": {},
     "output_type": "execute_result"
    }
   ],
   "source": [
    "full_df.sample()"
   ]
  },
  {
   "cell_type": "code",
   "execution_count": 131,
   "metadata": {},
   "outputs": [],
   "source": [
    "import geopy"
   ]
  },
  {
   "cell_type": "code",
   "execution_count": 40,
   "metadata": {
    "scrolled": false
   },
   "outputs": [],
   "source": [
    "geopy.geocoders.options.default_user_agent = 'bubs'\n",
    "geopy.geocoders.options.default_timeout = 7"
   ]
  },
  {
   "cell_type": "code",
   "execution_count": 41,
   "metadata": {},
   "outputs": [],
   "source": [
    "from geopy.geocoders import Nominatim"
   ]
  },
  {
   "cell_type": "code",
   "execution_count": 42,
   "metadata": {},
   "outputs": [],
   "source": [
    "geolocator = Nominatim(user_agent='Hello')"
   ]
  },
  {
   "cell_type": "code",
   "execution_count": 12,
   "metadata": {},
   "outputs": [],
   "source": [
    "location = geolocator.geocode(\"428 Greenwich St., New York, NY 10013\")"
   ]
  },
  {
   "cell_type": "code",
   "execution_count": 14,
   "metadata": {},
   "outputs": [
    {
     "data": {
      "text/plain": [
       "(40.72241805, -74.0099711019111)"
      ]
     },
     "execution_count": 14,
     "metadata": {},
     "output_type": "execute_result"
    }
   ],
   "source": [
    "location[1]"
   ]
  },
  {
   "cell_type": "code",
   "execution_count": 15,
   "metadata": {
    "scrolled": true
   },
   "outputs": [
    {
     "data": {
      "text/plain": [
       "Location(428, Greenwich Street, TriBeCa, Manhattan, Manhattan Community Board 1, New York County, NYC, New York, 10013, USA, (40.72241805, -74.0099711019111, 0.0))"
      ]
     },
     "execution_count": 15,
     "metadata": {},
     "output_type": "execute_result"
    }
   ],
   "source": [
    "location"
   ]
  },
  {
   "cell_type": "code",
   "execution_count": 125,
   "metadata": {},
   "outputs": [
    {
     "data": {
      "text/plain": [
       "' TriBeCa'"
      ]
     },
     "execution_count": 125,
     "metadata": {},
     "output_type": "execute_result"
    }
   ],
   "source": [
    "location[0].split(',')[2]"
   ]
  },
  {
   "cell_type": "code",
   "execution_count": 138,
   "metadata": {},
   "outputs": [
    {
     "data": {
      "text/plain": [
       "10"
      ]
     },
     "execution_count": 138,
     "metadata": {},
     "output_type": "execute_result"
    }
   ],
   "source": [
    "len(geolocator.geocode('498 9th Ave, New York, NY 10018')[0].split(','))"
   ]
  },
  {
   "cell_type": "code",
   "execution_count": 139,
   "metadata": {
    "scrolled": true
   },
   "outputs": [
    {
     "data": {
      "text/plain": [
       "9"
      ]
     },
     "execution_count": 139,
     "metadata": {},
     "output_type": "execute_result"
    }
   ],
   "source": [
    "len(geolocator.geocode('318 Grand St., Brooklyn, NY 11211')[0].split(','))"
   ]
  },
  {
   "cell_type": "code",
   "execution_count": null,
   "metadata": {},
   "outputs": [],
   "source": []
  },
  {
   "cell_type": "code",
   "execution_count": 29,
   "metadata": {},
   "outputs": [
    {
     "data": {
      "text/plain": [
       "(40.7338779, -74.0004371)"
      ]
     },
     "execution_count": 29,
     "metadata": {},
     "output_type": "execute_result"
    }
   ],
   "source": [
    "geolocator.geocode(full_df['address_only'][1])[1]"
   ]
  },
  {
   "cell_type": "code",
   "execution_count": 32,
   "metadata": {
    "scrolled": true
   },
   "outputs": [
    {
     "data": {
      "text/plain": [
       "float"
      ]
     },
     "execution_count": 32,
     "metadata": {},
     "output_type": "execute_result"
    }
   ],
   "source": [
    "type(geolocator.geocode(full_df.loc[1, 'address_only'])[1][1])"
   ]
  },
  {
   "cell_type": "code",
   "execution_count": 51,
   "metadata": {},
   "outputs": [],
   "source": [
    "#create lat and long list\n",
    "lat_long = []\n"
   ]
  },
  {
   "cell_type": "code",
   "execution_count": 53,
   "metadata": {},
   "outputs": [],
   "source": [
    "for i in full_df['address_only']:\n",
    "    try:\n",
    "        lat_long.append(geolocator.geocode(i)[1])\n",
    "    except:\n",
    "        lat_long.append('none')"
   ]
  },
  {
   "cell_type": "code",
   "execution_count": 54,
   "metadata": {},
   "outputs": [
    {
     "data": {
      "text/plain": [
       "824"
      ]
     },
     "execution_count": 54,
     "metadata": {},
     "output_type": "execute_result"
    }
   ],
   "source": [
    "len(lat_long)"
   ]
  },
  {
   "cell_type": "code",
   "execution_count": 114,
   "metadata": {},
   "outputs": [],
   "source": [
    "full_df['lat_long'] = lat_long"
   ]
  },
  {
   "cell_type": "code",
   "execution_count": 115,
   "metadata": {},
   "outputs": [
    {
     "data": {
      "text/html": [
       "<div>\n",
       "<style scoped>\n",
       "    .dataframe tbody tr th:only-of-type {\n",
       "        vertical-align: middle;\n",
       "    }\n",
       "\n",
       "    .dataframe tbody tr th {\n",
       "        vertical-align: top;\n",
       "    }\n",
       "\n",
       "    .dataframe thead th {\n",
       "        text-align: right;\n",
       "    }\n",
       "</style>\n",
       "<table border=\"1\" class=\"dataframe\">\n",
       "  <thead>\n",
       "    <tr style=\"text-align: right;\">\n",
       "      <th></th>\n",
       "      <th>Document_No</th>\n",
       "      <th>Dominant_Topic</th>\n",
       "      <th>Topic_Perc_Contrib</th>\n",
       "      <th>Keywords</th>\n",
       "      <th>Text</th>\n",
       "      <th>rest_cost</th>\n",
       "      <th>cuisine_type</th>\n",
       "      <th>rest_name</th>\n",
       "      <th>rest_rating</th>\n",
       "      <th>rest_review</th>\n",
       "      <th>address_only</th>\n",
       "      <th>rest_borough</th>\n",
       "      <th>rest_zip_code</th>\n",
       "      <th>lemmatized</th>\n",
       "      <th>lat_long</th>\n",
       "    </tr>\n",
       "  </thead>\n",
       "  <tbody>\n",
       "    <tr>\n",
       "      <th>0</th>\n",
       "      <td>0</td>\n",
       "      <td>0.0</td>\n",
       "      <td>0.3362</td>\n",
       "      <td>ramen, pylos, pizza, essentially, ippudo, thai...</td>\n",
       "      <td>A typical NYC slice shop has a few basic eleme...</td>\n",
       "      <td>2.0</td>\n",
       "      <td>Pizza</td>\n",
       "      <td>Mama’s Too</td>\n",
       "      <td>8.3</td>\n",
       "      <td>A typical NYC slice shop has a few basic eleme...</td>\n",
       "      <td>2750 Broadway, New York, NY 10025</td>\n",
       "      <td>Manhattan</td>\n",
       "      <td>10025</td>\n",
       "      <td>typical nyc slice shop basic element counter g...</td>\n",
       "      <td>(40.8008322, -73.9676555)</td>\n",
       "    </tr>\n",
       "    <tr>\n",
       "      <th>1</th>\n",
       "      <td>1</td>\n",
       "      <td>3.0</td>\n",
       "      <td>0.6558</td>\n",
       "      <td>sushi, pork, midtown, fish, bbq, style, blue, ...</td>\n",
       "      <td>Tolerance for group trips can vary widely. Som...</td>\n",
       "      <td>4.0</td>\n",
       "      <td>Japanese</td>\n",
       "      <td>Omakase Room By Tatsu</td>\n",
       "      <td>7.7</td>\n",
       "      <td>Tolerance for group trips can vary widely. Som...</td>\n",
       "      <td>14 Christopher St, New York, NY 10014</td>\n",
       "      <td>Manhattan</td>\n",
       "      <td>10014</td>\n",
       "      <td>tolerance group trip vary widely people intern...</td>\n",
       "      <td>(40.7338779, -74.0004371)</td>\n",
       "    </tr>\n",
       "    <tr>\n",
       "      <th>2</th>\n",
       "      <td>2</td>\n",
       "      <td>3.0</td>\n",
       "      <td>0.5712</td>\n",
       "      <td>sushi, pork, midtown, fish, bbq, style, blue, ...</td>\n",
       "      <td>When the apocalypse eventually comes for New Y...</td>\n",
       "      <td>4.0</td>\n",
       "      <td>Japanese</td>\n",
       "      <td>Sushi Azabu</td>\n",
       "      <td>8.5</td>\n",
       "      <td>When the apocalypse eventually comes for New Y...</td>\n",
       "      <td>428 Greenwich St., New York, NY 10013</td>\n",
       "      <td>Manhattan</td>\n",
       "      <td>10013</td>\n",
       "      <td>apocalypse eventually come new york city going...</td>\n",
       "      <td>(40.72241805, -74.0099711019111)</td>\n",
       "    </tr>\n",
       "    <tr>\n",
       "      <th>3</th>\n",
       "      <td>3</td>\n",
       "      <td>2.0</td>\n",
       "      <td>0.5248</td>\n",
       "      <td>chicken, meal, thing, dining, sandwich, burger...</td>\n",
       "      <td>When you’re young, you don’t have to think muc...</td>\n",
       "      <td>3.0</td>\n",
       "      <td>Seafood</td>\n",
       "      <td>Saint Julivert Fisherie</td>\n",
       "      <td>7.7</td>\n",
       "      <td>When you’re young, you don’t have to think muc...</td>\n",
       "      <td>264 Clinton St, New York, NY 11201</td>\n",
       "      <td>Brooklyn</td>\n",
       "      <td>11201</td>\n",
       "      <td>young think much decision know attempt deep en...</td>\n",
       "      <td>(40.688027, -73.995544)</td>\n",
       "    </tr>\n",
       "    <tr>\n",
       "      <th>4</th>\n",
       "      <td>4</td>\n",
       "      <td>0.0</td>\n",
       "      <td>0.3102</td>\n",
       "      <td>ramen, pylos, pizza, essentially, ippudo, thai...</td>\n",
       "      <td>There’s a bleak, sweaty place on 34th Street w...</td>\n",
       "      <td>2.0</td>\n",
       "      <td>Russian</td>\n",
       "      <td>Farida</td>\n",
       "      <td>8.0</td>\n",
       "      <td>There’s a bleak, sweaty place on 34th Street w...</td>\n",
       "      <td>498 9th Ave, New York, NY 10018</td>\n",
       "      <td>Manhattan</td>\n",
       "      <td>10018</td>\n",
       "      <td>bleak sweaty place 34th street adult run 6 yar...</td>\n",
       "      <td>(40.75561545, -73.9942678129495)</td>\n",
       "    </tr>\n",
       "  </tbody>\n",
       "</table>\n",
       "</div>"
      ],
      "text/plain": [
       "   Document_No  Dominant_Topic  Topic_Perc_Contrib  \\\n",
       "0            0             0.0              0.3362   \n",
       "1            1             3.0              0.6558   \n",
       "2            2             3.0              0.5712   \n",
       "3            3             2.0              0.5248   \n",
       "4            4             0.0              0.3102   \n",
       "\n",
       "                                            Keywords  \\\n",
       "0  ramen, pylos, pizza, essentially, ippudo, thai...   \n",
       "1  sushi, pork, midtown, fish, bbq, style, blue, ...   \n",
       "2  sushi, pork, midtown, fish, bbq, style, blue, ...   \n",
       "3  chicken, meal, thing, dining, sandwich, burger...   \n",
       "4  ramen, pylos, pizza, essentially, ippudo, thai...   \n",
       "\n",
       "                                                Text  rest_cost cuisine_type  \\\n",
       "0  A typical NYC slice shop has a few basic eleme...        2.0        Pizza   \n",
       "1  Tolerance for group trips can vary widely. Som...        4.0     Japanese   \n",
       "2  When the apocalypse eventually comes for New Y...        4.0     Japanese   \n",
       "3  When you’re young, you don’t have to think muc...        3.0      Seafood   \n",
       "4  There’s a bleak, sweaty place on 34th Street w...        2.0      Russian   \n",
       "\n",
       "                 rest_name  rest_rating  \\\n",
       "0               Mama’s Too          8.3   \n",
       "1    Omakase Room By Tatsu          7.7   \n",
       "2              Sushi Azabu          8.5   \n",
       "3  Saint Julivert Fisherie          7.7   \n",
       "4                   Farida          8.0   \n",
       "\n",
       "                                         rest_review  \\\n",
       "0  A typical NYC slice shop has a few basic eleme...   \n",
       "1  Tolerance for group trips can vary widely. Som...   \n",
       "2  When the apocalypse eventually comes for New Y...   \n",
       "3  When you’re young, you don’t have to think muc...   \n",
       "4  There’s a bleak, sweaty place on 34th Street w...   \n",
       "\n",
       "                            address_only rest_borough  rest_zip_code  \\\n",
       "0      2750 Broadway, New York, NY 10025    Manhattan          10025   \n",
       "1  14 Christopher St, New York, NY 10014    Manhattan          10014   \n",
       "2  428 Greenwich St., New York, NY 10013    Manhattan          10013   \n",
       "3     264 Clinton St, New York, NY 11201     Brooklyn          11201   \n",
       "4        498 9th Ave, New York, NY 10018    Manhattan          10018   \n",
       "\n",
       "                                          lemmatized  \\\n",
       "0  typical nyc slice shop basic element counter g...   \n",
       "1  tolerance group trip vary widely people intern...   \n",
       "2  apocalypse eventually come new york city going...   \n",
       "3  young think much decision know attempt deep en...   \n",
       "4  bleak sweaty place 34th street adult run 6 yar...   \n",
       "\n",
       "                           lat_long  \n",
       "0         (40.8008322, -73.9676555)  \n",
       "1         (40.7338779, -74.0004371)  \n",
       "2  (40.72241805, -74.0099711019111)  \n",
       "3           (40.688027, -73.995544)  \n",
       "4  (40.75561545, -73.9942678129495)  "
      ]
     },
     "execution_count": 115,
     "metadata": {},
     "output_type": "execute_result"
    }
   ],
   "source": [
    "full_df.head()"
   ]
  },
  {
   "cell_type": "code",
   "execution_count": 119,
   "metadata": {},
   "outputs": [
    {
     "data": {
      "text/html": [
       "<div>\n",
       "<style scoped>\n",
       "    .dataframe tbody tr th:only-of-type {\n",
       "        vertical-align: middle;\n",
       "    }\n",
       "\n",
       "    .dataframe tbody tr th {\n",
       "        vertical-align: top;\n",
       "    }\n",
       "\n",
       "    .dataframe thead th {\n",
       "        text-align: right;\n",
       "    }\n",
       "</style>\n",
       "<table border=\"1\" class=\"dataframe\">\n",
       "  <thead>\n",
       "    <tr style=\"text-align: right;\">\n",
       "      <th></th>\n",
       "      <th>Document_No</th>\n",
       "      <th>Dominant_Topic</th>\n",
       "      <th>Topic_Perc_Contrib</th>\n",
       "      <th>Keywords</th>\n",
       "      <th>Text</th>\n",
       "      <th>rest_cost</th>\n",
       "      <th>cuisine_type</th>\n",
       "      <th>rest_name</th>\n",
       "      <th>rest_rating</th>\n",
       "      <th>rest_review</th>\n",
       "      <th>address_only</th>\n",
       "      <th>rest_borough</th>\n",
       "      <th>rest_zip_code</th>\n",
       "      <th>lemmatized</th>\n",
       "      <th>lat_long</th>\n",
       "      <th>lat</th>\n",
       "      <th>long</th>\n",
       "    </tr>\n",
       "  </thead>\n",
       "  <tbody>\n",
       "  </tbody>\n",
       "</table>\n",
       "</div>"
      ],
      "text/plain": [
       "Empty DataFrame\n",
       "Columns: [Document_No, Dominant_Topic, Topic_Perc_Contrib, Keywords, Text, rest_cost, cuisine_type, rest_name, rest_rating, rest_review, address_only, rest_borough, rest_zip_code, lemmatized, lat_long, lat, long]\n",
       "Index: []"
      ]
     },
     "execution_count": 119,
     "metadata": {},
     "output_type": "execute_result"
    }
   ],
   "source": [
    "full_df[full_df['Dominant_Topic'].isnull()]"
   ]
  },
  {
   "cell_type": "code",
   "execution_count": 60,
   "metadata": {},
   "outputs": [
    {
     "data": {
      "text/plain": [
       "float"
      ]
     },
     "execution_count": 60,
     "metadata": {},
     "output_type": "execute_result"
    }
   ],
   "source": [
    "type(full_df.loc[1, 'lat_long'][0])"
   ]
  },
  {
   "cell_type": "code",
   "execution_count": 61,
   "metadata": {},
   "outputs": [],
   "source": [
    "from geopy import distance"
   ]
  },
  {
   "cell_type": "code",
   "execution_count": 62,
   "metadata": {},
   "outputs": [
    {
     "data": {
      "text/plain": [
       "4.556226407087412"
      ]
     },
     "execution_count": 62,
     "metadata": {},
     "output_type": "execute_result"
    }
   ],
   "source": [
    "distance.distance(full_df.loc[1, 'lat_long'], full_df.loc[44, 'lat_long']).miles"
   ]
  },
  {
   "cell_type": "code",
   "execution_count": 120,
   "metadata": {},
   "outputs": [],
   "source": [
    "full_df.to_csv('./Data/full_data_with_lat_long.csv', index = False)"
   ]
  },
  {
   "cell_type": "code",
   "execution_count": 66,
   "metadata": {},
   "outputs": [
    {
     "name": "stdout",
     "output_type": "stream",
     "text": [
      "Omakase Room By Tatsu: 14 Christopher St, New York, NY 10014\n",
      "Lowerline: 794 Washington Ave, Brooklyn, NY 11238\n"
     ]
    }
   ],
   "source": [
    "print(full_df.loc[1, 'rest_name'] + ': ' + full_df.loc[1, 'address_only'])\n",
    "print(full_df.loc[44, 'rest_name'] + ': ' + full_df.loc[44, 'address_only'])"
   ]
  },
  {
   "cell_type": "code",
   "execution_count": 68,
   "metadata": {},
   "outputs": [
    {
     "name": "stdout",
     "output_type": "stream",
     "text": [
      "Collecting plotly\n",
      "\u001b[?25l  Downloading https://files.pythonhosted.org/packages/4d/59/63a5a05532a67b1c49283e8b7885bbe55454a1eef8443e97a7479bb9964b/plotly-3.6.0.tar.gz (31.1MB)\n",
      "\u001b[K    100% |████████████████████████████████| 31.1MB 97kB/s eta 0:00:011    33% |██████████▋                     | 10.3MB 4.3MB/s eta 0:00:05\n",
      "\u001b[?25hRequirement already satisfied: decorator>=4.0.6 in /Users/edithiyerhernandez/anaconda3/lib/python3.6/site-packages (from plotly) (4.3.0)\n",
      "Requirement already satisfied: nbformat>=4.2 in /Users/edithiyerhernandez/anaconda3/lib/python3.6/site-packages (from plotly) (4.4.0)\n",
      "Requirement already satisfied: pytz in /Users/edithiyerhernandez/anaconda3/lib/python3.6/site-packages (from plotly) (2018.5)\n",
      "Requirement already satisfied: requests in /Users/edithiyerhernandez/anaconda3/lib/python3.6/site-packages (from plotly) (2.19.1)\n",
      "Collecting retrying>=1.3.3 (from plotly)\n",
      "  Downloading https://files.pythonhosted.org/packages/44/ef/beae4b4ef80902f22e3af073397f079c96969c69b2c7d52a57ea9ae61c9d/retrying-1.3.3.tar.gz\n",
      "Requirement already satisfied: six in /Users/edithiyerhernandez/anaconda3/lib/python3.6/site-packages (from plotly) (1.11.0)\n",
      "Requirement already satisfied: ipython_genutils in /Users/edithiyerhernandez/anaconda3/lib/python3.6/site-packages (from nbformat>=4.2->plotly) (0.2.0)\n",
      "Requirement already satisfied: traitlets>=4.1 in /Users/edithiyerhernandez/anaconda3/lib/python3.6/site-packages (from nbformat>=4.2->plotly) (4.3.2)\n",
      "Requirement already satisfied: jsonschema!=2.5.0,>=2.4 in /Users/edithiyerhernandez/anaconda3/lib/python3.6/site-packages (from nbformat>=4.2->plotly) (2.6.0)\n",
      "Requirement already satisfied: jupyter_core in /Users/edithiyerhernandez/anaconda3/lib/python3.6/site-packages (from nbformat>=4.2->plotly) (4.4.0)\n",
      "Requirement already satisfied: certifi>=2017.4.17 in /Users/edithiyerhernandez/anaconda3/lib/python3.6/site-packages (from requests->plotly) (2018.11.29)\n",
      "Requirement already satisfied: idna<2.8,>=2.5 in /Users/edithiyerhernandez/anaconda3/lib/python3.6/site-packages (from requests->plotly) (2.7)\n",
      "Requirement already satisfied: urllib3<1.24,>=1.21.1 in /Users/edithiyerhernandez/anaconda3/lib/python3.6/site-packages (from requests->plotly) (1.23)\n",
      "Requirement already satisfied: chardet<3.1.0,>=3.0.2 in /Users/edithiyerhernandez/anaconda3/lib/python3.6/site-packages (from requests->plotly) (3.0.4)\n",
      "Building wheels for collected packages: plotly, retrying\n",
      "  Running setup.py bdist_wheel for plotly ... \u001b[?25ldone\n",
      "\u001b[?25h  Stored in directory: /Users/edithiyerhernandez/Library/Caches/pip/wheels/67/0b/29/08c7f5caed2d1ac446db982ff607b326d49bfa0bd3a67ef8c7\n",
      "  Running setup.py bdist_wheel for retrying ... \u001b[?25ldone\n",
      "\u001b[?25h  Stored in directory: /Users/edithiyerhernandez/Library/Caches/pip/wheels/d7/a9/33/acc7b709e2a35caa7d4cae442f6fe6fbf2c43f80823d46460c\n",
      "Successfully built plotly retrying\n",
      "Installing collected packages: retrying, plotly\n",
      "Successfully installed plotly-3.6.0 retrying-1.3.3\n",
      "\u001b[33mYou are using pip version 18.1, however version 19.0.1 is available.\n",
      "You should consider upgrading via the 'pip install --upgrade pip' command.\u001b[0m\n"
     ]
    }
   ],
   "source": [
    "!pip install plotly"
   ]
  },
  {
   "cell_type": "code",
   "execution_count": 97,
   "metadata": {},
   "outputs": [],
   "source": [
    "import plotly.plotly\n",
    "import plotly.graph_objs as go"
   ]
  },
  {
   "cell_type": "code",
   "execution_count": 105,
   "metadata": {},
   "outputs": [],
   "source": [
    "plotly.tools.set_credentials_file(username=\"edithiyer\", api_key=\"PJhCwkfTHRrSNJe7RnUI\")"
   ]
  },
  {
   "cell_type": "code",
   "execution_count": 77,
   "metadata": {},
   "outputs": [
    {
     "data": {
      "text/plain": [
       "40.8008322"
      ]
     },
     "execution_count": 77,
     "metadata": {},
     "output_type": "execute_result"
    }
   ],
   "source": [
    "full_df['lat_long'][0][0]"
   ]
  },
  {
   "cell_type": "code",
   "execution_count": 81,
   "metadata": {},
   "outputs": [
    {
     "data": {
      "text/plain": [
       "40.8008322"
      ]
     },
     "execution_count": 81,
     "metadata": {},
     "output_type": "execute_result"
    }
   ],
   "source": [
    "full_df.loc[0, 'lat_long'][0]"
   ]
  },
  {
   "cell_type": "code",
   "execution_count": 117,
   "metadata": {},
   "outputs": [],
   "source": [
    "full_df['lat'] = full_df['lat_long'].map(lambda x: x[0])"
   ]
  },
  {
   "cell_type": "code",
   "execution_count": 118,
   "metadata": {},
   "outputs": [],
   "source": [
    "full_df['long'] = full_df['lat_long'].map(lambda x: x[1])"
   ]
  },
  {
   "cell_type": "code",
   "execution_count": 107,
   "metadata": {},
   "outputs": [
    {
     "name": "stdout",
     "output_type": "stream",
     "text": [
      "High five! You successfully sent some data to your account on plotly. View your plot in your browser at https://plot.ly/~edithiyer/0 or inside your plot.ly account where it is named 'nyc_restaurants'\n"
     ]
    },
    {
     "data": {
      "text/html": [
       "<iframe id=\"igraph\" scrolling=\"no\" style=\"border:none;\" seamless=\"seamless\" src=\"https://plot.ly/~edithiyer/0.embed\" height=\"525px\" width=\"100%\"></iframe>"
      ],
      "text/plain": [
       "<plotly.tools.PlotlyDisplay object>"
      ]
     },
     "execution_count": 107,
     "metadata": {},
     "output_type": "execute_result"
    }
   ],
   "source": [
    "scl = [ [0,\"rgb(5, 10, 172)\"],[0.35,\"rgb(40, 60, 190)\"],[0.5,\"rgb(70, 100, 245)\"],\\\n",
    "    [0.6,\"rgb(90, 120, 245)\"],[0.7,\"rgb(106, 137, 247)\"],[1,\"rgb(220, 220, 220)\"] ]\n",
    "\n",
    "data = [ dict(\n",
    "        type = 'scattergeo',\n",
    "        locationmode = 'New York City',\n",
    "        lon = full_df['long'],\n",
    "        lat = full_df['lat'],\n",
    "        text = full_df['rest_name'],\n",
    "        mode = 'markers',\n",
    "        marker = dict(\n",
    "            size = 8,\n",
    "            opacity = 0.8,\n",
    "            reversescale = True,\n",
    "            autocolorscale = False,\n",
    "            symbol = 'square',\n",
    "            line = dict(\n",
    "                width=1,\n",
    "                color='rgba(102, 102, 102)'\n",
    "            ),\n",
    "            colorscale = scl,\n",
    "            cmin = 0,\n",
    "            color = 'red',\n",
    "            colorbar=dict(\n",
    "                title=\"NYC Restaurants\"\n",
    "            )\n",
    "        ))]\n",
    "\n",
    "layout = dict(\n",
    "        title = 'NYC Restaurants',\n",
    "        colorbar = True,\n",
    "        geo = dict(\n",
    "            scope='usa',\n",
    "            projection=dict( type='albers usa' ),\n",
    "            showland = True,\n",
    "            landcolor = \"rgb(250, 250, 250)\",\n",
    "            subunitcolor = \"rgb(217, 217, 217)\",\n",
    "            countrycolor = \"rgb(217, 217, 217)\",\n",
    "            countrywidth = 0.5,\n",
    "            subunitwidth = 0.5\n",
    "        ),\n",
    "    )\n",
    "\n",
    "fig = dict( data=data, layout=layout )\n",
    "py.iplot( fig, validate=False, filename='nyc_restaurants' )\n"
   ]
  },
  {
   "cell_type": "markdown",
   "metadata": {},
   "source": [
    "## Finding distaces between two locations"
   ]
  },
  {
   "cell_type": "code",
   "execution_count": 140,
   "metadata": {},
   "outputs": [
    {
     "data": {
      "text/plain": [
       "3.543899586337327"
      ]
     },
     "execution_count": 140,
     "metadata": {},
     "output_type": "execute_result"
    }
   ],
   "source": [
    "distance.distance(full_df.loc[3, 'lat_long'], full_df.loc[800, 'lat_long']).miles"
   ]
  },
  {
   "cell_type": "code",
   "execution_count": 141,
   "metadata": {},
   "outputs": [
    {
     "name": "stdout",
     "output_type": "stream",
     "text": [
      "Collecting folium\n",
      "\u001b[?25l  Downloading https://files.pythonhosted.org/packages/55/e2/7e523df8558b7f4b2ab4c62014fd378ccecce3fdc14c9928b272a88ae4cc/folium-0.7.0-py3-none-any.whl (85kB)\n",
      "\u001b[K    100% |████████████████████████████████| 92kB 13kB/s  eta 0:00:01\n",
      "\u001b[?25hRequirement already satisfied: numpy in /Users/edithiyerhernandez/anaconda3/lib/python3.6/site-packages (from folium) (1.15.4)\n",
      "Requirement already satisfied: requests in /Users/edithiyerhernandez/anaconda3/lib/python3.6/site-packages (from folium) (2.19.1)\n",
      "Requirement already satisfied: six in /Users/edithiyerhernandez/anaconda3/lib/python3.6/site-packages (from folium) (1.11.0)\n",
      "Requirement already satisfied: jinja2 in /Users/edithiyerhernandez/anaconda3/lib/python3.6/site-packages (from folium) (2.10)\n",
      "Collecting branca>=0.3.0 (from folium)\n",
      "  Downloading https://files.pythonhosted.org/packages/63/36/1c93318e9653f4e414a2e0c3b98fc898b4970e939afeedeee6075dd3b703/branca-0.3.1-py3-none-any.whl\n",
      "Requirement already satisfied: urllib3<1.24,>=1.21.1 in /Users/edithiyerhernandez/anaconda3/lib/python3.6/site-packages (from requests->folium) (1.23)\n",
      "Requirement already satisfied: certifi>=2017.4.17 in /Users/edithiyerhernandez/anaconda3/lib/python3.6/site-packages (from requests->folium) (2018.11.29)\n",
      "Requirement already satisfied: idna<2.8,>=2.5 in /Users/edithiyerhernandez/anaconda3/lib/python3.6/site-packages (from requests->folium) (2.7)\n",
      "Requirement already satisfied: chardet<3.1.0,>=3.0.2 in /Users/edithiyerhernandez/anaconda3/lib/python3.6/site-packages (from requests->folium) (3.0.4)\n",
      "Requirement already satisfied: MarkupSafe>=0.23 in /Users/edithiyerhernandez/anaconda3/lib/python3.6/site-packages (from jinja2->folium) (1.0)\n",
      "Installing collected packages: branca, folium\n",
      "Successfully installed branca-0.3.1 folium-0.7.0\n",
      "\u001b[33mYou are using pip version 18.1, however version 19.0.1 is available.\n",
      "You should consider upgrading via the 'pip install --upgrade pip' command.\u001b[0m\n"
     ]
    }
   ],
   "source": [
    "!pip install folium"
   ]
  },
  {
   "cell_type": "code",
   "execution_count": 142,
   "metadata": {},
   "outputs": [],
   "source": [
    "import folium"
   ]
  },
  {
   "cell_type": "code",
   "execution_count": 144,
   "metadata": {},
   "outputs": [
    {
     "ename": "TypeError",
     "evalue": "__init__() missing 1 required positional argument: 'geo_data'",
     "output_type": "error",
     "traceback": [
      "\u001b[0;31m---------------------------------------------------------------------------\u001b[0m",
      "\u001b[0;31mTypeError\u001b[0m                                 Traceback (most recent call last)",
      "\u001b[0;32m<ipython-input-144-c41a18479498>\u001b[0m in \u001b[0;36m<module>\u001b[0;34m\u001b[0m\n\u001b[0;32m----> 1\u001b[0;31m \u001b[0mfolium\u001b[0m\u001b[0;34m.\u001b[0m\u001b[0mChoropleth\u001b[0m\u001b[0;34m(\u001b[0m\u001b[0;34m)\u001b[0m\u001b[0;34m\u001b[0m\u001b[0;34m\u001b[0m\u001b[0m\n\u001b[0m",
      "\u001b[0;31mTypeError\u001b[0m: __init__() missing 1 required positional argument: 'geo_data'"
     ]
    }
   ],
   "source": [
    "folium.Choropleth()"
   ]
  },
  {
   "cell_type": "code",
   "execution_count": null,
   "metadata": {},
   "outputs": [],
   "source": []
  }
 ],
 "metadata": {
  "kernelspec": {
   "display_name": "Python 3",
   "language": "python",
   "name": "python3"
  },
  "language_info": {
   "codemirror_mode": {
    "name": "ipython",
    "version": 3
   },
   "file_extension": ".py",
   "mimetype": "text/x-python",
   "name": "python",
   "nbconvert_exporter": "python",
   "pygments_lexer": "ipython3",
   "version": "3.6.8"
  }
 },
 "nbformat": 4,
 "nbformat_minor": 2
}
