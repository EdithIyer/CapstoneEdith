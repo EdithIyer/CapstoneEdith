{
 "cells": [
  {
   "cell_type": "code",
   "execution_count": 149,
   "metadata": {},
   "outputs": [],
   "source": [
    "import pandas as pd\n",
    "import matplotlib.pyplot as plt\n",
    "from scipy import sparse\n",
    "from sklearn.metrics.pairwise import pairwise_distances\n",
    "from sklearn.metrics.pairwise import cosine_similarity\n",
    "\n",
    "from IPython.display import HTML"
   ]
  },
  {
   "cell_type": "code",
   "execution_count": 147,
   "metadata": {},
   "outputs": [
    {
     "name": "stdout",
     "output_type": "stream",
     "text": [
      "Requirement already satisfied: iPython in /Users/edithiyerhernandez/anaconda3/lib/python3.6/site-packages (7.2.0)\n",
      "Requirement already satisfied: setuptools>=18.5 in /Users/edithiyerhernandez/anaconda3/lib/python3.6/site-packages (from iPython) (40.4.3)\n",
      "Requirement already satisfied: decorator in /Users/edithiyerhernandez/anaconda3/lib/python3.6/site-packages (from iPython) (4.3.0)\n",
      "Requirement already satisfied: prompt-toolkit<2.1.0,>=2.0.0 in /Users/edithiyerhernandez/anaconda3/lib/python3.6/site-packages (from iPython) (2.0.6)\n",
      "Requirement already satisfied: backcall in /Users/edithiyerhernandez/anaconda3/lib/python3.6/site-packages (from iPython) (0.1.0)\n",
      "Requirement already satisfied: traitlets>=4.2 in /Users/edithiyerhernandez/anaconda3/lib/python3.6/site-packages (from iPython) (4.3.2)\n",
      "Requirement already satisfied: appnope; sys_platform == \"darwin\" in /Users/edithiyerhernandez/anaconda3/lib/python3.6/site-packages (from iPython) (0.1.0)\n",
      "Requirement already satisfied: pickleshare in /Users/edithiyerhernandez/anaconda3/lib/python3.6/site-packages (from iPython) (0.7.5)\n",
      "Requirement already satisfied: jedi>=0.10 in /Users/edithiyerhernandez/anaconda3/lib/python3.6/site-packages (from iPython) (0.13.1)\n",
      "Requirement already satisfied: pygments in /Users/edithiyerhernandez/anaconda3/lib/python3.6/site-packages (from iPython) (2.2.0)\n",
      "Requirement already satisfied: pexpect; sys_platform != \"win32\" in /Users/edithiyerhernandez/anaconda3/lib/python3.6/site-packages (from iPython) (4.6.0)\n",
      "Requirement already satisfied: six>=1.9.0 in /Users/edithiyerhernandez/anaconda3/lib/python3.6/site-packages (from prompt-toolkit<2.1.0,>=2.0.0->iPython) (1.11.0)\n",
      "Requirement already satisfied: wcwidth in /Users/edithiyerhernandez/anaconda3/lib/python3.6/site-packages (from prompt-toolkit<2.1.0,>=2.0.0->iPython) (0.1.7)\n",
      "Requirement already satisfied: ipython_genutils in /Users/edithiyerhernandez/anaconda3/lib/python3.6/site-packages (from traitlets>=4.2->iPython) (0.2.0)\n",
      "Requirement already satisfied: parso>=0.3.0 in /Users/edithiyerhernandez/anaconda3/lib/python3.6/site-packages (from jedi>=0.10->iPython) (0.3.1)\n",
      "Requirement already satisfied: ptyprocess>=0.5 in /Users/edithiyerhernandez/anaconda3/lib/python3.6/site-packages (from pexpect; sys_platform != \"win32\"->iPython) (0.6.0)\n",
      "\u001b[33mYou are using pip version 18.1, however version 19.0.1 is available.\n",
      "You should consider upgrading via the 'pip install --upgrade pip' command.\u001b[0m\n"
     ]
    }
   ],
   "source": [
    "!pip install iPython"
   ]
  },
  {
   "cell_type": "code",
   "execution_count": 2,
   "metadata": {},
   "outputs": [
    {
     "name": "stdout",
     "output_type": "stream",
     "text": [
      "Collecting geopy\n",
      "\u001b[?25l  Downloading https://files.pythonhosted.org/packages/a8/5c/ca78a17b2c6fe1179e9221c9280bb5d8caaf048a631ed72caed40c52de24/geopy-1.18.1-py2.py3-none-any.whl (98kB)\n",
      "\u001b[K    100% |████████████████████████████████| 102kB 3.3MB/s a 0:00:01\n",
      "\u001b[?25hCollecting geographiclib<2,>=1.49 (from geopy)\n",
      "  Downloading https://files.pythonhosted.org/packages/5b/ac/4f348828091490d77899bc74e92238e2b55c59392f21948f296e94e50e2b/geographiclib-1.49.tar.gz\n",
      "Building wheels for collected packages: geographiclib\n",
      "  Running setup.py bdist_wheel for geographiclib ... \u001b[?25ldone\n",
      "\u001b[?25h  Stored in directory: /Users/edithiyerhernandez/Library/Caches/pip/wheels/99/45/d1/14954797e2a976083182c2e7da9b4e924509e59b6e5c661061\n",
      "Successfully built geographiclib\n",
      "Installing collected packages: geographiclib, geopy\n",
      "Successfully installed geographiclib-1.49 geopy-1.18.1\n",
      "\u001b[33mYou are using pip version 18.1, however version 19.0.1 is available.\n",
      "You should consider upgrading via the 'pip install --upgrade pip' command.\u001b[0m\n"
     ]
    }
   ],
   "source": [
    "!pip install geopy"
   ]
  },
  {
   "cell_type": "code",
   "execution_count": 4,
   "metadata": {},
   "outputs": [],
   "source": [
    "from geopy import distance"
   ]
  },
  {
   "cell_type": "code",
   "execution_count": 5,
   "metadata": {},
   "outputs": [],
   "source": [
    "tfdf = pd.read_csv('./Data/tfidf_df.csv')"
   ]
  },
  {
   "cell_type": "code",
   "execution_count": 6,
   "metadata": {
    "scrolled": true
   },
   "outputs": [
    {
     "data": {
      "text/html": [
       "<div>\n",
       "<style scoped>\n",
       "    .dataframe tbody tr th:only-of-type {\n",
       "        vertical-align: middle;\n",
       "    }\n",
       "\n",
       "    .dataframe tbody tr th {\n",
       "        vertical-align: top;\n",
       "    }\n",
       "\n",
       "    .dataframe thead th {\n",
       "        text-align: right;\n",
       "    }\n",
       "</style>\n",
       "<table border=\"1\" class=\"dataframe\">\n",
       "  <thead>\n",
       "    <tr style=\"text-align: right;\">\n",
       "      <th></th>\n",
       "      <th>rest_cost</th>\n",
       "      <th>rest_name</th>\n",
       "      <th>rest_rating</th>\n",
       "      <th>address_only</th>\n",
       "      <th>rest_zip_code</th>\n",
       "      <th>11</th>\n",
       "      <th>115</th>\n",
       "      <th>11am</th>\n",
       "      <th>11pm</th>\n",
       "      <th>11th</th>\n",
       "      <th>...</th>\n",
       "      <th>cuisine_type_Vegetarian</th>\n",
       "      <th>cuisine_type_Vietnamese</th>\n",
       "      <th>cuisine_type_Wine Bar</th>\n",
       "      <th>rest_borough_Bronx</th>\n",
       "      <th>rest_borough_Brooklyn</th>\n",
       "      <th>rest_borough_Jersey City</th>\n",
       "      <th>rest_borough_Manhattan</th>\n",
       "      <th>rest_borough_Queens</th>\n",
       "      <th>rest_borough_Staten Island</th>\n",
       "      <th>rest_borough_Westchester</th>\n",
       "    </tr>\n",
       "  </thead>\n",
       "  <tbody>\n",
       "    <tr>\n",
       "      <th>0</th>\n",
       "      <td>2.0</td>\n",
       "      <td>Mama’s Too</td>\n",
       "      <td>8.3</td>\n",
       "      <td>2750 Broadway, New York, NY 10025</td>\n",
       "      <td>10025</td>\n",
       "      <td>0.0</td>\n",
       "      <td>0.0</td>\n",
       "      <td>0.0</td>\n",
       "      <td>0.0</td>\n",
       "      <td>0.0</td>\n",
       "      <td>...</td>\n",
       "      <td>0</td>\n",
       "      <td>0</td>\n",
       "      <td>0</td>\n",
       "      <td>0</td>\n",
       "      <td>0</td>\n",
       "      <td>0</td>\n",
       "      <td>1</td>\n",
       "      <td>0</td>\n",
       "      <td>0</td>\n",
       "      <td>0</td>\n",
       "    </tr>\n",
       "    <tr>\n",
       "      <th>1</th>\n",
       "      <td>4.0</td>\n",
       "      <td>Omakase Room By Tatsu</td>\n",
       "      <td>7.7</td>\n",
       "      <td>14 Christopher St, New York, NY 10014</td>\n",
       "      <td>10014</td>\n",
       "      <td>0.0</td>\n",
       "      <td>0.0</td>\n",
       "      <td>0.0</td>\n",
       "      <td>0.0</td>\n",
       "      <td>0.0</td>\n",
       "      <td>...</td>\n",
       "      <td>0</td>\n",
       "      <td>0</td>\n",
       "      <td>0</td>\n",
       "      <td>0</td>\n",
       "      <td>0</td>\n",
       "      <td>0</td>\n",
       "      <td>1</td>\n",
       "      <td>0</td>\n",
       "      <td>0</td>\n",
       "      <td>0</td>\n",
       "    </tr>\n",
       "    <tr>\n",
       "      <th>2</th>\n",
       "      <td>4.0</td>\n",
       "      <td>Sushi Azabu</td>\n",
       "      <td>8.5</td>\n",
       "      <td>428 Greenwich St., New York, NY 10013</td>\n",
       "      <td>10013</td>\n",
       "      <td>0.0</td>\n",
       "      <td>0.0</td>\n",
       "      <td>0.0</td>\n",
       "      <td>0.0</td>\n",
       "      <td>0.0</td>\n",
       "      <td>...</td>\n",
       "      <td>0</td>\n",
       "      <td>0</td>\n",
       "      <td>0</td>\n",
       "      <td>0</td>\n",
       "      <td>0</td>\n",
       "      <td>0</td>\n",
       "      <td>1</td>\n",
       "      <td>0</td>\n",
       "      <td>0</td>\n",
       "      <td>0</td>\n",
       "    </tr>\n",
       "    <tr>\n",
       "      <th>3</th>\n",
       "      <td>3.0</td>\n",
       "      <td>Saint Julivert Fisherie</td>\n",
       "      <td>7.7</td>\n",
       "      <td>264 Clinton St, New York, NY 11201</td>\n",
       "      <td>11201</td>\n",
       "      <td>0.0</td>\n",
       "      <td>0.0</td>\n",
       "      <td>0.0</td>\n",
       "      <td>0.0</td>\n",
       "      <td>0.0</td>\n",
       "      <td>...</td>\n",
       "      <td>0</td>\n",
       "      <td>0</td>\n",
       "      <td>0</td>\n",
       "      <td>0</td>\n",
       "      <td>1</td>\n",
       "      <td>0</td>\n",
       "      <td>0</td>\n",
       "      <td>0</td>\n",
       "      <td>0</td>\n",
       "      <td>0</td>\n",
       "    </tr>\n",
       "    <tr>\n",
       "      <th>4</th>\n",
       "      <td>2.0</td>\n",
       "      <td>Farida</td>\n",
       "      <td>8.0</td>\n",
       "      <td>498 9th Ave, New York, NY 10018</td>\n",
       "      <td>10018</td>\n",
       "      <td>0.0</td>\n",
       "      <td>0.0</td>\n",
       "      <td>0.0</td>\n",
       "      <td>0.0</td>\n",
       "      <td>0.0</td>\n",
       "      <td>...</td>\n",
       "      <td>0</td>\n",
       "      <td>0</td>\n",
       "      <td>0</td>\n",
       "      <td>0</td>\n",
       "      <td>0</td>\n",
       "      <td>0</td>\n",
       "      <td>1</td>\n",
       "      <td>0</td>\n",
       "      <td>0</td>\n",
       "      <td>0</td>\n",
       "    </tr>\n",
       "  </tbody>\n",
       "</table>\n",
       "<p>5 rows × 12270 columns</p>\n",
       "</div>"
      ],
      "text/plain": [
       "   rest_cost                rest_name  rest_rating  \\\n",
       "0        2.0               Mama’s Too          8.3   \n",
       "1        4.0    Omakase Room By Tatsu          7.7   \n",
       "2        4.0              Sushi Azabu          8.5   \n",
       "3        3.0  Saint Julivert Fisherie          7.7   \n",
       "4        2.0                   Farida          8.0   \n",
       "\n",
       "                            address_only  rest_zip_code   11  115  11am  11pm  \\\n",
       "0      2750 Broadway, New York, NY 10025          10025  0.0  0.0   0.0   0.0   \n",
       "1  14 Christopher St, New York, NY 10014          10014  0.0  0.0   0.0   0.0   \n",
       "2  428 Greenwich St., New York, NY 10013          10013  0.0  0.0   0.0   0.0   \n",
       "3     264 Clinton St, New York, NY 11201          11201  0.0  0.0   0.0   0.0   \n",
       "4        498 9th Ave, New York, NY 10018          10018  0.0  0.0   0.0   0.0   \n",
       "\n",
       "   11th            ...             cuisine_type_Vegetarian  \\\n",
       "0   0.0            ...                                   0   \n",
       "1   0.0            ...                                   0   \n",
       "2   0.0            ...                                   0   \n",
       "3   0.0            ...                                   0   \n",
       "4   0.0            ...                                   0   \n",
       "\n",
       "   cuisine_type_Vietnamese  cuisine_type_Wine Bar  rest_borough_Bronx  \\\n",
       "0                        0                      0                   0   \n",
       "1                        0                      0                   0   \n",
       "2                        0                      0                   0   \n",
       "3                        0                      0                   0   \n",
       "4                        0                      0                   0   \n",
       "\n",
       "   rest_borough_Brooklyn  rest_borough_Jersey City  rest_borough_Manhattan  \\\n",
       "0                      0                         0                       1   \n",
       "1                      0                         0                       1   \n",
       "2                      0                         0                       1   \n",
       "3                      1                         0                       0   \n",
       "4                      0                         0                       1   \n",
       "\n",
       "   rest_borough_Queens  rest_borough_Staten Island  rest_borough_Westchester  \n",
       "0                    0                           0                         0  \n",
       "1                    0                           0                         0  \n",
       "2                    0                           0                         0  \n",
       "3                    0                           0                         0  \n",
       "4                    0                           0                         0  \n",
       "\n",
       "[5 rows x 12270 columns]"
      ]
     },
     "execution_count": 6,
     "metadata": {},
     "output_type": "execute_result"
    }
   ],
   "source": [
    "tfdf.head()"
   ]
  },
  {
   "cell_type": "code",
   "execution_count": 112,
   "metadata": {},
   "outputs": [],
   "source": [
    "full_df = pd.read_csv('./Data/full_df_with_keywords.csv')"
   ]
  },
  {
   "cell_type": "code",
   "execution_count": 113,
   "metadata": {},
   "outputs": [
    {
     "data": {
      "text/html": [
       "<div>\n",
       "<style scoped>\n",
       "    .dataframe tbody tr th:only-of-type {\n",
       "        vertical-align: middle;\n",
       "    }\n",
       "\n",
       "    .dataframe tbody tr th {\n",
       "        vertical-align: top;\n",
       "    }\n",
       "\n",
       "    .dataframe thead th {\n",
       "        text-align: right;\n",
       "    }\n",
       "</style>\n",
       "<table border=\"1\" class=\"dataframe\">\n",
       "  <thead>\n",
       "    <tr style=\"text-align: right;\">\n",
       "      <th></th>\n",
       "      <th>Document_No</th>\n",
       "      <th>Dominant_Topic</th>\n",
       "      <th>Topic_Perc_Contrib</th>\n",
       "      <th>Keywords</th>\n",
       "      <th>Text</th>\n",
       "      <th>rest_cost</th>\n",
       "      <th>cuisine_type</th>\n",
       "      <th>rest_name</th>\n",
       "      <th>rest_rating</th>\n",
       "      <th>rest_review</th>\n",
       "      <th>address_only</th>\n",
       "      <th>rest_borough</th>\n",
       "      <th>rest_zip_code</th>\n",
       "      <th>lemmatized</th>\n",
       "    </tr>\n",
       "  </thead>\n",
       "  <tbody>\n",
       "    <tr>\n",
       "      <th>0</th>\n",
       "      <td>0</td>\n",
       "      <td>0.0</td>\n",
       "      <td>0.3362</td>\n",
       "      <td>ramen, pylos, pizza, essentially, ippudo, thai...</td>\n",
       "      <td>A typical NYC slice shop has a few basic eleme...</td>\n",
       "      <td>2.0</td>\n",
       "      <td>Pizza</td>\n",
       "      <td>Mama’s Too</td>\n",
       "      <td>8.3</td>\n",
       "      <td>A typical NYC slice shop has a few basic eleme...</td>\n",
       "      <td>2750 Broadway, New York, NY 10025</td>\n",
       "      <td>Manhattan</td>\n",
       "      <td>10025</td>\n",
       "      <td>typical nyc slice shop basic element counter g...</td>\n",
       "    </tr>\n",
       "    <tr>\n",
       "      <th>1</th>\n",
       "      <td>1</td>\n",
       "      <td>3.0</td>\n",
       "      <td>0.6558</td>\n",
       "      <td>sushi, pork, midtown, fish, bbq, style, blue, ...</td>\n",
       "      <td>Tolerance for group trips can vary widely. Som...</td>\n",
       "      <td>4.0</td>\n",
       "      <td>Japanese</td>\n",
       "      <td>Omakase Room By Tatsu</td>\n",
       "      <td>7.7</td>\n",
       "      <td>Tolerance for group trips can vary widely. Som...</td>\n",
       "      <td>14 Christopher St, New York, NY 10014</td>\n",
       "      <td>Manhattan</td>\n",
       "      <td>10014</td>\n",
       "      <td>tolerance group trip vary widely people intern...</td>\n",
       "    </tr>\n",
       "    <tr>\n",
       "      <th>2</th>\n",
       "      <td>2</td>\n",
       "      <td>3.0</td>\n",
       "      <td>0.5712</td>\n",
       "      <td>sushi, pork, midtown, fish, bbq, style, blue, ...</td>\n",
       "      <td>When the apocalypse eventually comes for New Y...</td>\n",
       "      <td>4.0</td>\n",
       "      <td>Japanese</td>\n",
       "      <td>Sushi Azabu</td>\n",
       "      <td>8.5</td>\n",
       "      <td>When the apocalypse eventually comes for New Y...</td>\n",
       "      <td>428 Greenwich St., New York, NY 10013</td>\n",
       "      <td>Manhattan</td>\n",
       "      <td>10013</td>\n",
       "      <td>apocalypse eventually come new york city going...</td>\n",
       "    </tr>\n",
       "    <tr>\n",
       "      <th>3</th>\n",
       "      <td>3</td>\n",
       "      <td>2.0</td>\n",
       "      <td>0.5248</td>\n",
       "      <td>chicken, meal, thing, dining, sandwich, burger...</td>\n",
       "      <td>When you’re young, you don’t have to think muc...</td>\n",
       "      <td>3.0</td>\n",
       "      <td>Seafood</td>\n",
       "      <td>Saint Julivert Fisherie</td>\n",
       "      <td>7.7</td>\n",
       "      <td>When you’re young, you don’t have to think muc...</td>\n",
       "      <td>264 Clinton St, New York, NY 11201</td>\n",
       "      <td>Brooklyn</td>\n",
       "      <td>11201</td>\n",
       "      <td>young think much decision know attempt deep en...</td>\n",
       "    </tr>\n",
       "    <tr>\n",
       "      <th>4</th>\n",
       "      <td>4</td>\n",
       "      <td>0.0</td>\n",
       "      <td>0.3102</td>\n",
       "      <td>ramen, pylos, pizza, essentially, ippudo, thai...</td>\n",
       "      <td>There’s a bleak, sweaty place on 34th Street w...</td>\n",
       "      <td>2.0</td>\n",
       "      <td>Russian</td>\n",
       "      <td>Farida</td>\n",
       "      <td>8.0</td>\n",
       "      <td>There’s a bleak, sweaty place on 34th Street w...</td>\n",
       "      <td>498 9th Ave, New York, NY 10018</td>\n",
       "      <td>Manhattan</td>\n",
       "      <td>10018</td>\n",
       "      <td>bleak sweaty place 34th street adult run 6 yar...</td>\n",
       "    </tr>\n",
       "  </tbody>\n",
       "</table>\n",
       "</div>"
      ],
      "text/plain": [
       "   Document_No  Dominant_Topic  Topic_Perc_Contrib  \\\n",
       "0            0             0.0              0.3362   \n",
       "1            1             3.0              0.6558   \n",
       "2            2             3.0              0.5712   \n",
       "3            3             2.0              0.5248   \n",
       "4            4             0.0              0.3102   \n",
       "\n",
       "                                            Keywords  \\\n",
       "0  ramen, pylos, pizza, essentially, ippudo, thai...   \n",
       "1  sushi, pork, midtown, fish, bbq, style, blue, ...   \n",
       "2  sushi, pork, midtown, fish, bbq, style, blue, ...   \n",
       "3  chicken, meal, thing, dining, sandwich, burger...   \n",
       "4  ramen, pylos, pizza, essentially, ippudo, thai...   \n",
       "\n",
       "                                                Text  rest_cost cuisine_type  \\\n",
       "0  A typical NYC slice shop has a few basic eleme...        2.0        Pizza   \n",
       "1  Tolerance for group trips can vary widely. Som...        4.0     Japanese   \n",
       "2  When the apocalypse eventually comes for New Y...        4.0     Japanese   \n",
       "3  When you’re young, you don’t have to think muc...        3.0      Seafood   \n",
       "4  There’s a bleak, sweaty place on 34th Street w...        2.0      Russian   \n",
       "\n",
       "                 rest_name  rest_rating  \\\n",
       "0               Mama’s Too          8.3   \n",
       "1    Omakase Room By Tatsu          7.7   \n",
       "2              Sushi Azabu          8.5   \n",
       "3  Saint Julivert Fisherie          7.7   \n",
       "4                   Farida          8.0   \n",
       "\n",
       "                                         rest_review  \\\n",
       "0  A typical NYC slice shop has a few basic eleme...   \n",
       "1  Tolerance for group trips can vary widely. Som...   \n",
       "2  When the apocalypse eventually comes for New Y...   \n",
       "3  When you’re young, you don’t have to think muc...   \n",
       "4  There’s a bleak, sweaty place on 34th Street w...   \n",
       "\n",
       "                            address_only rest_borough  rest_zip_code  \\\n",
       "0      2750 Broadway, New York, NY 10025    Manhattan          10025   \n",
       "1  14 Christopher St, New York, NY 10014    Manhattan          10014   \n",
       "2  428 Greenwich St., New York, NY 10013    Manhattan          10013   \n",
       "3     264 Clinton St, New York, NY 11201     Brooklyn          11201   \n",
       "4        498 9th Ave, New York, NY 10018    Manhattan          10018   \n",
       "\n",
       "                                          lemmatized  \n",
       "0  typical nyc slice shop basic element counter g...  \n",
       "1  tolerance group trip vary widely people intern...  \n",
       "2  apocalypse eventually come new york city going...  \n",
       "3  young think much decision know attempt deep en...  \n",
       "4  bleak sweaty place 34th street adult run 6 yar...  "
      ]
     },
     "execution_count": 113,
     "metadata": {},
     "output_type": "execute_result"
    }
   ],
   "source": [
    "full_df.head()"
   ]
  },
  {
   "cell_type": "code",
   "execution_count": 134,
   "metadata": {},
   "outputs": [
    {
     "data": {
      "text/html": [
       "<div>\n",
       "<style scoped>\n",
       "    .dataframe tbody tr th:only-of-type {\n",
       "        vertical-align: middle;\n",
       "    }\n",
       "\n",
       "    .dataframe tbody tr th {\n",
       "        vertical-align: top;\n",
       "    }\n",
       "\n",
       "    .dataframe thead th {\n",
       "        text-align: right;\n",
       "    }\n",
       "</style>\n",
       "<table border=\"1\" class=\"dataframe\">\n",
       "  <thead>\n",
       "    <tr style=\"text-align: right;\">\n",
       "      <th></th>\n",
       "      <th>Document_No</th>\n",
       "      <th>Dominant_Topic</th>\n",
       "      <th>Topic_Perc_Contrib</th>\n",
       "      <th>Keywords</th>\n",
       "      <th>Text</th>\n",
       "      <th>rest_cost</th>\n",
       "      <th>cuisine_type</th>\n",
       "      <th>rest_name</th>\n",
       "      <th>rest_rating</th>\n",
       "      <th>rest_review</th>\n",
       "      <th>address_only</th>\n",
       "      <th>rest_borough</th>\n",
       "      <th>rest_zip_code</th>\n",
       "      <th>lemmatized</th>\n",
       "      <th>lat_long</th>\n",
       "      <th>lat</th>\n",
       "      <th>long</th>\n",
       "    </tr>\n",
       "  </thead>\n",
       "  <tbody>\n",
       "    <tr>\n",
       "      <th>758</th>\n",
       "      <td>758</td>\n",
       "      <td>3.0</td>\n",
       "      <td>0.1302</td>\n",
       "      <td>sushi, pork, midtown, fish, bbq, style, blue, ...</td>\n",
       "      <td>If you were to draft up a checklist of all the...</td>\n",
       "      <td>2.0</td>\n",
       "      <td>American</td>\n",
       "      <td>Lodge</td>\n",
       "      <td>4.5</td>\n",
       "      <td>If you were to draft up a checklist of all the...</td>\n",
       "      <td>318 Grand St., Brooklyn, NY 11211</td>\n",
       "      <td>Brooklyn</td>\n",
       "      <td>11211</td>\n",
       "      <td>draft checklist essential hipster restaurant l...</td>\n",
       "      <td>(40.7125786, -73.9567395)</td>\n",
       "      <td>40.7126</td>\n",
       "      <td>-73.9567</td>\n",
       "    </tr>\n",
       "  </tbody>\n",
       "</table>\n",
       "</div>"
      ],
      "text/plain": [
       "     Document_No  Dominant_Topic  Topic_Perc_Contrib  \\\n",
       "758          758             3.0              0.1302   \n",
       "\n",
       "                                              Keywords  \\\n",
       "758  sushi, pork, midtown, fish, bbq, style, blue, ...   \n",
       "\n",
       "                                                  Text  rest_cost  \\\n",
       "758  If you were to draft up a checklist of all the...        2.0   \n",
       "\n",
       "    cuisine_type rest_name  rest_rating  \\\n",
       "758     American     Lodge          4.5   \n",
       "\n",
       "                                           rest_review  \\\n",
       "758  If you were to draft up a checklist of all the...   \n",
       "\n",
       "                          address_only rest_borough  rest_zip_code  \\\n",
       "758  318 Grand St., Brooklyn, NY 11211     Brooklyn          11211   \n",
       "\n",
       "                                            lemmatized  \\\n",
       "758  draft checklist essential hipster restaurant l...   \n",
       "\n",
       "                      lat_long      lat     long  \n",
       "758  (40.7125786, -73.9567395)  40.7126 -73.9567  "
      ]
     },
     "execution_count": 134,
     "metadata": {},
     "output_type": "execute_result"
    }
   ],
   "source": [
    "full_df.sample()"
   ]
  },
  {
   "cell_type": "code",
   "execution_count": 131,
   "metadata": {},
   "outputs": [],
   "source": [
    "import geopy"
   ]
  },
  {
   "cell_type": "code",
   "execution_count": 40,
   "metadata": {
    "scrolled": false
   },
   "outputs": [],
   "source": [
    "geopy.geocoders.options.default_user_agent = 'bubs'\n",
    "geopy.geocoders.options.default_timeout = 7"
   ]
  },
  {
   "cell_type": "code",
   "execution_count": 41,
   "metadata": {},
   "outputs": [],
   "source": [
    "from geopy.geocoders import Nominatim"
   ]
  },
  {
   "cell_type": "code",
   "execution_count": 42,
   "metadata": {},
   "outputs": [],
   "source": [
    "geolocator = Nominatim(user_agent='Hello')"
   ]
  },
  {
   "cell_type": "code",
   "execution_count": 12,
   "metadata": {},
   "outputs": [],
   "source": [
    "location = geolocator.geocode(\"428 Greenwich St., New York, NY 10013\")"
   ]
  },
  {
   "cell_type": "code",
   "execution_count": 14,
   "metadata": {},
   "outputs": [
    {
     "data": {
      "text/plain": [
       "(40.72241805, -74.0099711019111)"
      ]
     },
     "execution_count": 14,
     "metadata": {},
     "output_type": "execute_result"
    }
   ],
   "source": [
    "location[1]"
   ]
  },
  {
   "cell_type": "code",
   "execution_count": 15,
   "metadata": {
    "scrolled": true
   },
   "outputs": [
    {
     "data": {
      "text/plain": [
       "Location(428, Greenwich Street, TriBeCa, Manhattan, Manhattan Community Board 1, New York County, NYC, New York, 10013, USA, (40.72241805, -74.0099711019111, 0.0))"
      ]
     },
     "execution_count": 15,
     "metadata": {},
     "output_type": "execute_result"
    }
   ],
   "source": [
    "location"
   ]
  },
  {
   "cell_type": "code",
   "execution_count": 125,
   "metadata": {},
   "outputs": [
    {
     "data": {
      "text/plain": [
       "' TriBeCa'"
      ]
     },
     "execution_count": 125,
     "metadata": {},
     "output_type": "execute_result"
    }
   ],
   "source": [
    "location[0].split(',')[2]"
   ]
  },
  {
   "cell_type": "code",
   "execution_count": 138,
   "metadata": {},
   "outputs": [
    {
     "data": {
      "text/plain": [
       "10"
      ]
     },
     "execution_count": 138,
     "metadata": {},
     "output_type": "execute_result"
    }
   ],
   "source": [
    "len(geolocator.geocode('498 9th Ave, New York, NY 10018')[0].split(','))"
   ]
  },
  {
   "cell_type": "code",
   "execution_count": 139,
   "metadata": {
    "scrolled": true
   },
   "outputs": [
    {
     "data": {
      "text/plain": [
       "9"
      ]
     },
     "execution_count": 139,
     "metadata": {},
     "output_type": "execute_result"
    }
   ],
   "source": [
    "len(geolocator.geocode('318 Grand St., Brooklyn, NY 11211')[0].split(','))"
   ]
  },
  {
   "cell_type": "code",
   "execution_count": null,
   "metadata": {},
   "outputs": [],
   "source": []
  },
  {
   "cell_type": "code",
   "execution_count": 29,
   "metadata": {},
   "outputs": [
    {
     "data": {
      "text/plain": [
       "(40.7338779, -74.0004371)"
      ]
     },
     "execution_count": 29,
     "metadata": {},
     "output_type": "execute_result"
    }
   ],
   "source": [
    "geolocator.geocode(full_df['address_only'][1])[1]"
   ]
  },
  {
   "cell_type": "code",
   "execution_count": 32,
   "metadata": {
    "scrolled": true
   },
   "outputs": [
    {
     "data": {
      "text/plain": [
       "float"
      ]
     },
     "execution_count": 32,
     "metadata": {},
     "output_type": "execute_result"
    }
   ],
   "source": [
    "type(geolocator.geocode(full_df.loc[1, 'address_only'])[1][1])"
   ]
  },
  {
   "cell_type": "code",
   "execution_count": 51,
   "metadata": {},
   "outputs": [],
   "source": [
    "#create lat and long list\n",
    "lat_long = []\n"
   ]
  },
  {
   "cell_type": "code",
   "execution_count": 53,
   "metadata": {},
   "outputs": [],
   "source": [
    "for i in full_df['address_only']:\n",
    "    try:\n",
    "        lat_long.append(geolocator.geocode(i)[1])\n",
    "    except:\n",
    "        lat_long.append('none')"
   ]
  },
  {
   "cell_type": "code",
   "execution_count": 54,
   "metadata": {},
   "outputs": [
    {
     "data": {
      "text/plain": [
       "824"
      ]
     },
     "execution_count": 54,
     "metadata": {},
     "output_type": "execute_result"
    }
   ],
   "source": [
    "len(lat_long)"
   ]
  },
  {
   "cell_type": "code",
   "execution_count": 114,
   "metadata": {},
   "outputs": [],
   "source": [
    "full_df['lat_long'] = lat_long"
   ]
  },
  {
   "cell_type": "code",
   "execution_count": 115,
   "metadata": {},
   "outputs": [
    {
     "data": {
      "text/html": [
       "<div>\n",
       "<style scoped>\n",
       "    .dataframe tbody tr th:only-of-type {\n",
       "        vertical-align: middle;\n",
       "    }\n",
       "\n",
       "    .dataframe tbody tr th {\n",
       "        vertical-align: top;\n",
       "    }\n",
       "\n",
       "    .dataframe thead th {\n",
       "        text-align: right;\n",
       "    }\n",
       "</style>\n",
       "<table border=\"1\" class=\"dataframe\">\n",
       "  <thead>\n",
       "    <tr style=\"text-align: right;\">\n",
       "      <th></th>\n",
       "      <th>Document_No</th>\n",
       "      <th>Dominant_Topic</th>\n",
       "      <th>Topic_Perc_Contrib</th>\n",
       "      <th>Keywords</th>\n",
       "      <th>Text</th>\n",
       "      <th>rest_cost</th>\n",
       "      <th>cuisine_type</th>\n",
       "      <th>rest_name</th>\n",
       "      <th>rest_rating</th>\n",
       "      <th>rest_review</th>\n",
       "      <th>address_only</th>\n",
       "      <th>rest_borough</th>\n",
       "      <th>rest_zip_code</th>\n",
       "      <th>lemmatized</th>\n",
       "      <th>lat_long</th>\n",
       "    </tr>\n",
       "  </thead>\n",
       "  <tbody>\n",
       "    <tr>\n",
       "      <th>0</th>\n",
       "      <td>0</td>\n",
       "      <td>0.0</td>\n",
       "      <td>0.3362</td>\n",
       "      <td>ramen, pylos, pizza, essentially, ippudo, thai...</td>\n",
       "      <td>A typical NYC slice shop has a few basic eleme...</td>\n",
       "      <td>2.0</td>\n",
       "      <td>Pizza</td>\n",
       "      <td>Mama’s Too</td>\n",
       "      <td>8.3</td>\n",
       "      <td>A typical NYC slice shop has a few basic eleme...</td>\n",
       "      <td>2750 Broadway, New York, NY 10025</td>\n",
       "      <td>Manhattan</td>\n",
       "      <td>10025</td>\n",
       "      <td>typical nyc slice shop basic element counter g...</td>\n",
       "      <td>(40.8008322, -73.9676555)</td>\n",
       "    </tr>\n",
       "    <tr>\n",
       "      <th>1</th>\n",
       "      <td>1</td>\n",
       "      <td>3.0</td>\n",
       "      <td>0.6558</td>\n",
       "      <td>sushi, pork, midtown, fish, bbq, style, blue, ...</td>\n",
       "      <td>Tolerance for group trips can vary widely. Som...</td>\n",
       "      <td>4.0</td>\n",
       "      <td>Japanese</td>\n",
       "      <td>Omakase Room By Tatsu</td>\n",
       "      <td>7.7</td>\n",
       "      <td>Tolerance for group trips can vary widely. Som...</td>\n",
       "      <td>14 Christopher St, New York, NY 10014</td>\n",
       "      <td>Manhattan</td>\n",
       "      <td>10014</td>\n",
       "      <td>tolerance group trip vary widely people intern...</td>\n",
       "      <td>(40.7338779, -74.0004371)</td>\n",
       "    </tr>\n",
       "    <tr>\n",
       "      <th>2</th>\n",
       "      <td>2</td>\n",
       "      <td>3.0</td>\n",
       "      <td>0.5712</td>\n",
       "      <td>sushi, pork, midtown, fish, bbq, style, blue, ...</td>\n",
       "      <td>When the apocalypse eventually comes for New Y...</td>\n",
       "      <td>4.0</td>\n",
       "      <td>Japanese</td>\n",
       "      <td>Sushi Azabu</td>\n",
       "      <td>8.5</td>\n",
       "      <td>When the apocalypse eventually comes for New Y...</td>\n",
       "      <td>428 Greenwich St., New York, NY 10013</td>\n",
       "      <td>Manhattan</td>\n",
       "      <td>10013</td>\n",
       "      <td>apocalypse eventually come new york city going...</td>\n",
       "      <td>(40.72241805, -74.0099711019111)</td>\n",
       "    </tr>\n",
       "    <tr>\n",
       "      <th>3</th>\n",
       "      <td>3</td>\n",
       "      <td>2.0</td>\n",
       "      <td>0.5248</td>\n",
       "      <td>chicken, meal, thing, dining, sandwich, burger...</td>\n",
       "      <td>When you’re young, you don’t have to think muc...</td>\n",
       "      <td>3.0</td>\n",
       "      <td>Seafood</td>\n",
       "      <td>Saint Julivert Fisherie</td>\n",
       "      <td>7.7</td>\n",
       "      <td>When you’re young, you don’t have to think muc...</td>\n",
       "      <td>264 Clinton St, New York, NY 11201</td>\n",
       "      <td>Brooklyn</td>\n",
       "      <td>11201</td>\n",
       "      <td>young think much decision know attempt deep en...</td>\n",
       "      <td>(40.688027, -73.995544)</td>\n",
       "    </tr>\n",
       "    <tr>\n",
       "      <th>4</th>\n",
       "      <td>4</td>\n",
       "      <td>0.0</td>\n",
       "      <td>0.3102</td>\n",
       "      <td>ramen, pylos, pizza, essentially, ippudo, thai...</td>\n",
       "      <td>There’s a bleak, sweaty place on 34th Street w...</td>\n",
       "      <td>2.0</td>\n",
       "      <td>Russian</td>\n",
       "      <td>Farida</td>\n",
       "      <td>8.0</td>\n",
       "      <td>There’s a bleak, sweaty place on 34th Street w...</td>\n",
       "      <td>498 9th Ave, New York, NY 10018</td>\n",
       "      <td>Manhattan</td>\n",
       "      <td>10018</td>\n",
       "      <td>bleak sweaty place 34th street adult run 6 yar...</td>\n",
       "      <td>(40.75561545, -73.9942678129495)</td>\n",
       "    </tr>\n",
       "  </tbody>\n",
       "</table>\n",
       "</div>"
      ],
      "text/plain": [
       "   Document_No  Dominant_Topic  Topic_Perc_Contrib  \\\n",
       "0            0             0.0              0.3362   \n",
       "1            1             3.0              0.6558   \n",
       "2            2             3.0              0.5712   \n",
       "3            3             2.0              0.5248   \n",
       "4            4             0.0              0.3102   \n",
       "\n",
       "                                            Keywords  \\\n",
       "0  ramen, pylos, pizza, essentially, ippudo, thai...   \n",
       "1  sushi, pork, midtown, fish, bbq, style, blue, ...   \n",
       "2  sushi, pork, midtown, fish, bbq, style, blue, ...   \n",
       "3  chicken, meal, thing, dining, sandwich, burger...   \n",
       "4  ramen, pylos, pizza, essentially, ippudo, thai...   \n",
       "\n",
       "                                                Text  rest_cost cuisine_type  \\\n",
       "0  A typical NYC slice shop has a few basic eleme...        2.0        Pizza   \n",
       "1  Tolerance for group trips can vary widely. Som...        4.0     Japanese   \n",
       "2  When the apocalypse eventually comes for New Y...        4.0     Japanese   \n",
       "3  When you’re young, you don’t have to think muc...        3.0      Seafood   \n",
       "4  There’s a bleak, sweaty place on 34th Street w...        2.0      Russian   \n",
       "\n",
       "                 rest_name  rest_rating  \\\n",
       "0               Mama’s Too          8.3   \n",
       "1    Omakase Room By Tatsu          7.7   \n",
       "2              Sushi Azabu          8.5   \n",
       "3  Saint Julivert Fisherie          7.7   \n",
       "4                   Farida          8.0   \n",
       "\n",
       "                                         rest_review  \\\n",
       "0  A typical NYC slice shop has a few basic eleme...   \n",
       "1  Tolerance for group trips can vary widely. Som...   \n",
       "2  When the apocalypse eventually comes for New Y...   \n",
       "3  When you’re young, you don’t have to think muc...   \n",
       "4  There’s a bleak, sweaty place on 34th Street w...   \n",
       "\n",
       "                            address_only rest_borough  rest_zip_code  \\\n",
       "0      2750 Broadway, New York, NY 10025    Manhattan          10025   \n",
       "1  14 Christopher St, New York, NY 10014    Manhattan          10014   \n",
       "2  428 Greenwich St., New York, NY 10013    Manhattan          10013   \n",
       "3     264 Clinton St, New York, NY 11201     Brooklyn          11201   \n",
       "4        498 9th Ave, New York, NY 10018    Manhattan          10018   \n",
       "\n",
       "                                          lemmatized  \\\n",
       "0  typical nyc slice shop basic element counter g...   \n",
       "1  tolerance group trip vary widely people intern...   \n",
       "2  apocalypse eventually come new york city going...   \n",
       "3  young think much decision know attempt deep en...   \n",
       "4  bleak sweaty place 34th street adult run 6 yar...   \n",
       "\n",
       "                           lat_long  \n",
       "0         (40.8008322, -73.9676555)  \n",
       "1         (40.7338779, -74.0004371)  \n",
       "2  (40.72241805, -74.0099711019111)  \n",
       "3           (40.688027, -73.995544)  \n",
       "4  (40.75561545, -73.9942678129495)  "
      ]
     },
     "execution_count": 115,
     "metadata": {},
     "output_type": "execute_result"
    }
   ],
   "source": [
    "full_df.head()"
   ]
  },
  {
   "cell_type": "code",
   "execution_count": 208,
   "metadata": {
    "scrolled": true
   },
   "outputs": [
    {
     "data": {
      "text/html": [
       "<div>\n",
       "<style scoped>\n",
       "    .dataframe tbody tr th:only-of-type {\n",
       "        vertical-align: middle;\n",
       "    }\n",
       "\n",
       "    .dataframe tbody tr th {\n",
       "        vertical-align: top;\n",
       "    }\n",
       "\n",
       "    .dataframe thead th {\n",
       "        text-align: right;\n",
       "    }\n",
       "</style>\n",
       "<table border=\"1\" class=\"dataframe\">\n",
       "  <thead>\n",
       "    <tr style=\"text-align: right;\">\n",
       "      <th></th>\n",
       "      <th>Document_No</th>\n",
       "      <th>Dominant_Topic</th>\n",
       "      <th>Topic_Perc_Contrib</th>\n",
       "      <th>Keywords</th>\n",
       "      <th>Text</th>\n",
       "      <th>rest_cost</th>\n",
       "      <th>cuisine_type</th>\n",
       "      <th>rest_name</th>\n",
       "      <th>rest_rating</th>\n",
       "      <th>rest_review</th>\n",
       "      <th>address_only</th>\n",
       "      <th>rest_borough</th>\n",
       "      <th>rest_zip_code</th>\n",
       "      <th>lemmatized</th>\n",
       "      <th>lat_long</th>\n",
       "      <th>lat</th>\n",
       "      <th>long</th>\n",
       "    </tr>\n",
       "  </thead>\n",
       "  <tbody>\n",
       "    <tr>\n",
       "      <th>83</th>\n",
       "      <td>83</td>\n",
       "      <td>2.0</td>\n",
       "      <td>0.4739</td>\n",
       "      <td>chicken, meal, thing, dining, sandwich, burger...</td>\n",
       "      <td>At Bed Bath &amp; Beyond, you can return a waffle ...</td>\n",
       "      <td>2.0</td>\n",
       "      <td>Wine Bar</td>\n",
       "      <td>Have &amp; Meyer</td>\n",
       "      <td>7.8</td>\n",
       "      <td>At Bed Bath &amp; Beyond, you can return a waffle ...</td>\n",
       "      <td>103 Havermeyer St, Brooklyn, NY 11211</td>\n",
       "      <td>Brooklyn</td>\n",
       "      <td>11211</td>\n",
       "      <td>bed bath beyond return waffle iron bought two ...</td>\n",
       "      <td>none</td>\n",
       "      <td>n</td>\n",
       "      <td>o</td>\n",
       "    </tr>\n",
       "    <tr>\n",
       "      <th>268</th>\n",
       "      <td>268</td>\n",
       "      <td>2.0</td>\n",
       "      <td>0.4190</td>\n",
       "      <td>chicken, meal, thing, dining, sandwich, burger...</td>\n",
       "      <td>Every once in a while you stumble into a resta...</td>\n",
       "      <td>3.0</td>\n",
       "      <td>American</td>\n",
       "      <td>Prospect</td>\n",
       "      <td>8.4</td>\n",
       "      <td>Every once in a while you stumble into a resta...</td>\n",
       "      <td>773 Fulton St., Brookyln, NY 11217</td>\n",
       "      <td>Brooklyn</td>\n",
       "      <td>11217</td>\n",
       "      <td>every stumble restaurant convenience expecting...</td>\n",
       "      <td>none</td>\n",
       "      <td>n</td>\n",
       "      <td>o</td>\n",
       "    </tr>\n",
       "    <tr>\n",
       "      <th>276</th>\n",
       "      <td>276</td>\n",
       "      <td>2.0</td>\n",
       "      <td>0.5540</td>\n",
       "      <td>chicken, meal, thing, dining, sandwich, burger...</td>\n",
       "      <td>There’s a lot of cool sh*t that goes on in K-T...</td>\n",
       "      <td>2.0</td>\n",
       "      <td>Korean</td>\n",
       "      <td>Turntable Chicken Jazz</td>\n",
       "      <td>7.5</td>\n",
       "      <td>There’s a lot of cool sh*t that goes on in K-T...</td>\n",
       "      <td>314 5th Ave, 2nd Floor, New York, NY 10001</td>\n",
       "      <td>Manhattan</td>\n",
       "      <td>10001</td>\n",
       "      <td>lot cool sh go k town day need know happens si...</td>\n",
       "      <td>none</td>\n",
       "      <td>n</td>\n",
       "      <td>o</td>\n",
       "    </tr>\n",
       "    <tr>\n",
       "      <th>294</th>\n",
       "      <td>294</td>\n",
       "      <td>2.0</td>\n",
       "      <td>0.2777</td>\n",
       "      <td>chicken, meal, thing, dining, sandwich, burger...</td>\n",
       "      <td>If you’ve spent any time in London lately, you...</td>\n",
       "      <td>4.0</td>\n",
       "      <td>American</td>\n",
       "      <td>The Clocktower</td>\n",
       "      <td>8.2</td>\n",
       "      <td>If you’ve spent any time in London lately, you...</td>\n",
       "      <td>5 Madison Ave., 2nd Floor, New York, NY 10010</td>\n",
       "      <td>Manhattan</td>\n",
       "      <td>10010</td>\n",
       "      <td>spent time london lately probably noticed some...</td>\n",
       "      <td>none</td>\n",
       "      <td>n</td>\n",
       "      <td>o</td>\n",
       "    </tr>\n",
       "    <tr>\n",
       "      <th>335</th>\n",
       "      <td>335</td>\n",
       "      <td>0.0</td>\n",
       "      <td>0.3304</td>\n",
       "      <td>ramen, pylos, pizza, essentially, ippudo, thai...</td>\n",
       "      <td>I made a pact with my arteries the other day. ...</td>\n",
       "      <td>1.0</td>\n",
       "      <td>Bar Food</td>\n",
       "      <td>The Commodore</td>\n",
       "      <td>7.9</td>\n",
       "      <td>I made a pact with my arteries the other day. ...</td>\n",
       "      <td>366 Metropolitian Ave., Brooklyn, NY 11211</td>\n",
       "      <td>Brooklyn</td>\n",
       "      <td>11211</td>\n",
       "      <td>made pact artery day basically agreed would ea...</td>\n",
       "      <td>none</td>\n",
       "      <td>n</td>\n",
       "      <td>o</td>\n",
       "    </tr>\n",
       "    <tr>\n",
       "      <th>385</th>\n",
       "      <td>385</td>\n",
       "      <td>3.0</td>\n",
       "      <td>0.5229</td>\n",
       "      <td>sushi, pork, midtown, fish, bbq, style, blue, ...</td>\n",
       "      <td>Queens Comfort is basically what you'd get if ...</td>\n",
       "      <td>3.0</td>\n",
       "      <td>American</td>\n",
       "      <td>Queens Comfort</td>\n",
       "      <td>7.7</td>\n",
       "      <td>Queens Comfort is basically what you'd get if ...</td>\n",
       "      <td>3618 30th Ave, Astoria, NY 11103, Queens, NY 1...</td>\n",
       "      <td>Queens</td>\n",
       "      <td>11103</td>\n",
       "      <td>queen comfort basically get pee wee herman ope...</td>\n",
       "      <td>none</td>\n",
       "      <td>n</td>\n",
       "      <td>o</td>\n",
       "    </tr>\n",
       "    <tr>\n",
       "      <th>466</th>\n",
       "      <td>466</td>\n",
       "      <td>3.0</td>\n",
       "      <td>0.0370</td>\n",
       "      <td>sushi, pork, midtown, fish, bbq, style, blue, ...</td>\n",
       "      <td>New York City's floating restaurant situation ...</td>\n",
       "      <td>3.0</td>\n",
       "      <td>Raw Bar</td>\n",
       "      <td>Grand Banks</td>\n",
       "      <td>7.1</td>\n",
       "      <td>New York City's floating restaurant situation ...</td>\n",
       "      <td>225 West St., Pier 25, New York, NY 10013</td>\n",
       "      <td>Manhattan</td>\n",
       "      <td>10013</td>\n",
       "      <td>new york city floating restaurant situation im...</td>\n",
       "      <td>none</td>\n",
       "      <td>n</td>\n",
       "      <td>o</td>\n",
       "    </tr>\n",
       "    <tr>\n",
       "      <th>511</th>\n",
       "      <td>511</td>\n",
       "      <td>1.0</td>\n",
       "      <td>0.2598</td>\n",
       "      <td>mexican, pizza, tacos, slice, artichoke, pie, ...</td>\n",
       "      <td>I hope you NY1, Food Network, and Google emplo...</td>\n",
       "      <td>3.0</td>\n",
       "      <td>Seafood</td>\n",
       "      <td>Cull &amp; Pistol</td>\n",
       "      <td>7.2</td>\n",
       "      <td>I hope you NY1, Food Network, and Google emplo...</td>\n",
       "      <td>Chelsea Market, 75 9th Ave., New York, NY 10011</td>\n",
       "      <td>Manhattan</td>\n",
       "      <td>10011</td>\n",
       "      <td>hope ny1 food network google employee know goo...</td>\n",
       "      <td>none</td>\n",
       "      <td>n</td>\n",
       "      <td>o</td>\n",
       "    </tr>\n",
       "    <tr>\n",
       "      <th>591</th>\n",
       "      <td>591</td>\n",
       "      <td>3.0</td>\n",
       "      <td>0.5295</td>\n",
       "      <td>sushi, pork, midtown, fish, bbq, style, blue, ...</td>\n",
       "      <td>It's not often you get to dine in a restaurant...</td>\n",
       "      <td>3.0</td>\n",
       "      <td>Korean</td>\n",
       "      <td>Gaonnuri</td>\n",
       "      <td>6.8</td>\n",
       "      <td>It's not often you get to dine in a restaurant...</td>\n",
       "      <td>1250 Broadway, Penthouse, 39th Floor, New York...</td>\n",
       "      <td>Manhattan</td>\n",
       "      <td>10001</td>\n",
       "      <td>often get dine restaurant top floor skyscraper...</td>\n",
       "      <td>none</td>\n",
       "      <td>n</td>\n",
       "      <td>o</td>\n",
       "    </tr>\n",
       "    <tr>\n",
       "      <th>657</th>\n",
       "      <td>657</td>\n",
       "      <td>0.0</td>\n",
       "      <td>0.1901</td>\n",
       "      <td>ramen, pylos, pizza, essentially, ippudo, thai...</td>\n",
       "      <td>It’s painful going back and reading a lot of t...</td>\n",
       "      <td>3.0</td>\n",
       "      <td>American</td>\n",
       "      <td>Freemans</td>\n",
       "      <td>8.2</td>\n",
       "      <td>It’s painful going back and reading a lot of t...</td>\n",
       "      <td>End of Freeman Alley, New York, NY 10002</td>\n",
       "      <td>Manhattan</td>\n",
       "      <td>10002</td>\n",
       "      <td>painful going back reading lot review wrote st...</td>\n",
       "      <td>none</td>\n",
       "      <td>n</td>\n",
       "      <td>o</td>\n",
       "    </tr>\n",
       "    <tr>\n",
       "      <th>690</th>\n",
       "      <td>690</td>\n",
       "      <td>3.0</td>\n",
       "      <td>0.3489</td>\n",
       "      <td>sushi, pork, midtown, fish, bbq, style, blue, ...</td>\n",
       "      <td>First things first - if you are walking into a...</td>\n",
       "      <td>3.0</td>\n",
       "      <td>Japanese</td>\n",
       "      <td>Yakitori Totto</td>\n",
       "      <td>8.0</td>\n",
       "      <td>First things first - if you are walking into a...</td>\n",
       "      <td>251 W. 55th St. 2nd Floor, New York, NY 10019</td>\n",
       "      <td>Manhattan</td>\n",
       "      <td>10019</td>\n",
       "      <td>first thing first walking restaurant ground fl...</td>\n",
       "      <td>none</td>\n",
       "      <td>n</td>\n",
       "      <td>o</td>\n",
       "    </tr>\n",
       "    <tr>\n",
       "      <th>750</th>\n",
       "      <td>750</td>\n",
       "      <td>0.0</td>\n",
       "      <td>0.2464</td>\n",
       "      <td>ramen, pylos, pizza, essentially, ippudo, thai...</td>\n",
       "      <td>If you're like us, and/or any New Yorker that ...</td>\n",
       "      <td>4.0</td>\n",
       "      <td>American</td>\n",
       "      <td>Blue Hill at Stone Barns</td>\n",
       "      <td>9.7</td>\n",
       "      <td>If you're like us, and/or any New Yorker that ...</td>\n",
       "      <td>630 Bedford Rd., Pocantico Hills, NY 10591</td>\n",
       "      <td>Westchester</td>\n",
       "      <td>10591</td>\n",
       "      <td>like u new yorker spends free time money resta...</td>\n",
       "      <td>none</td>\n",
       "      <td>n</td>\n",
       "      <td>o</td>\n",
       "    </tr>\n",
       "    <tr>\n",
       "      <th>788</th>\n",
       "      <td>788</td>\n",
       "      <td>2.0</td>\n",
       "      <td>0.4017</td>\n",
       "      <td>chicken, meal, thing, dining, sandwich, burger...</td>\n",
       "      <td>On a recent weekend night, a disastrous attemp...</td>\n",
       "      <td>3.0</td>\n",
       "      <td>French</td>\n",
       "      <td>Bar Boulud</td>\n",
       "      <td>8.0</td>\n",
       "      <td>On a recent weekend night, a disastrous attemp...</td>\n",
       "      <td>1900 Broadway #2, New York, NY 10023</td>\n",
       "      <td>Manhattan</td>\n",
       "      <td>10023</td>\n",
       "      <td>recent weekend night disastrous attempt dinner...</td>\n",
       "      <td>none</td>\n",
       "      <td>n</td>\n",
       "      <td>o</td>\n",
       "    </tr>\n",
       "  </tbody>\n",
       "</table>\n",
       "</div>"
      ],
      "text/plain": [
       "     Document_No  Dominant_Topic  Topic_Perc_Contrib  \\\n",
       "83            83             2.0              0.4739   \n",
       "268          268             2.0              0.4190   \n",
       "276          276             2.0              0.5540   \n",
       "294          294             2.0              0.2777   \n",
       "335          335             0.0              0.3304   \n",
       "385          385             3.0              0.5229   \n",
       "466          466             3.0              0.0370   \n",
       "511          511             1.0              0.2598   \n",
       "591          591             3.0              0.5295   \n",
       "657          657             0.0              0.1901   \n",
       "690          690             3.0              0.3489   \n",
       "750          750             0.0              0.2464   \n",
       "788          788             2.0              0.4017   \n",
       "\n",
       "                                              Keywords  \\\n",
       "83   chicken, meal, thing, dining, sandwich, burger...   \n",
       "268  chicken, meal, thing, dining, sandwich, burger...   \n",
       "276  chicken, meal, thing, dining, sandwich, burger...   \n",
       "294  chicken, meal, thing, dining, sandwich, burger...   \n",
       "335  ramen, pylos, pizza, essentially, ippudo, thai...   \n",
       "385  sushi, pork, midtown, fish, bbq, style, blue, ...   \n",
       "466  sushi, pork, midtown, fish, bbq, style, blue, ...   \n",
       "511  mexican, pizza, tacos, slice, artichoke, pie, ...   \n",
       "591  sushi, pork, midtown, fish, bbq, style, blue, ...   \n",
       "657  ramen, pylos, pizza, essentially, ippudo, thai...   \n",
       "690  sushi, pork, midtown, fish, bbq, style, blue, ...   \n",
       "750  ramen, pylos, pizza, essentially, ippudo, thai...   \n",
       "788  chicken, meal, thing, dining, sandwich, burger...   \n",
       "\n",
       "                                                  Text  rest_cost  \\\n",
       "83   At Bed Bath & Beyond, you can return a waffle ...        2.0   \n",
       "268  Every once in a while you stumble into a resta...        3.0   \n",
       "276  There’s a lot of cool sh*t that goes on in K-T...        2.0   \n",
       "294  If you’ve spent any time in London lately, you...        4.0   \n",
       "335  I made a pact with my arteries the other day. ...        1.0   \n",
       "385  Queens Comfort is basically what you'd get if ...        3.0   \n",
       "466  New York City's floating restaurant situation ...        3.0   \n",
       "511  I hope you NY1, Food Network, and Google emplo...        3.0   \n",
       "591  It's not often you get to dine in a restaurant...        3.0   \n",
       "657  It’s painful going back and reading a lot of t...        3.0   \n",
       "690  First things first - if you are walking into a...        3.0   \n",
       "750  If you're like us, and/or any New Yorker that ...        4.0   \n",
       "788  On a recent weekend night, a disastrous attemp...        3.0   \n",
       "\n",
       "    cuisine_type                 rest_name  rest_rating  \\\n",
       "83      Wine Bar              Have & Meyer          7.8   \n",
       "268     American                  Prospect          8.4   \n",
       "276       Korean    Turntable Chicken Jazz          7.5   \n",
       "294     American            The Clocktower          8.2   \n",
       "335     Bar Food             The Commodore          7.9   \n",
       "385     American            Queens Comfort          7.7   \n",
       "466      Raw Bar               Grand Banks          7.1   \n",
       "511      Seafood             Cull & Pistol          7.2   \n",
       "591       Korean                  Gaonnuri          6.8   \n",
       "657     American                  Freemans          8.2   \n",
       "690     Japanese            Yakitori Totto          8.0   \n",
       "750     American  Blue Hill at Stone Barns          9.7   \n",
       "788       French                Bar Boulud          8.0   \n",
       "\n",
       "                                           rest_review  \\\n",
       "83   At Bed Bath & Beyond, you can return a waffle ...   \n",
       "268  Every once in a while you stumble into a resta...   \n",
       "276  There’s a lot of cool sh*t that goes on in K-T...   \n",
       "294  If you’ve spent any time in London lately, you...   \n",
       "335  I made a pact with my arteries the other day. ...   \n",
       "385  Queens Comfort is basically what you'd get if ...   \n",
       "466  New York City's floating restaurant situation ...   \n",
       "511  I hope you NY1, Food Network, and Google emplo...   \n",
       "591  It's not often you get to dine in a restaurant...   \n",
       "657  It’s painful going back and reading a lot of t...   \n",
       "690  First things first - if you are walking into a...   \n",
       "750  If you're like us, and/or any New Yorker that ...   \n",
       "788  On a recent weekend night, a disastrous attemp...   \n",
       "\n",
       "                                          address_only rest_borough  \\\n",
       "83               103 Havermeyer St, Brooklyn, NY 11211     Brooklyn   \n",
       "268                 773 Fulton St., Brookyln, NY 11217     Brooklyn   \n",
       "276         314 5th Ave, 2nd Floor, New York, NY 10001    Manhattan   \n",
       "294      5 Madison Ave., 2nd Floor, New York, NY 10010    Manhattan   \n",
       "335         366 Metropolitian Ave., Brooklyn, NY 11211     Brooklyn   \n",
       "385  3618 30th Ave, Astoria, NY 11103, Queens, NY 1...       Queens   \n",
       "466          225 West St., Pier 25, New York, NY 10013    Manhattan   \n",
       "511    Chelsea Market, 75 9th Ave., New York, NY 10011    Manhattan   \n",
       "591  1250 Broadway, Penthouse, 39th Floor, New York...    Manhattan   \n",
       "657           End of Freeman Alley, New York, NY 10002    Manhattan   \n",
       "690      251 W. 55th St. 2nd Floor, New York, NY 10019    Manhattan   \n",
       "750         630 Bedford Rd., Pocantico Hills, NY 10591  Westchester   \n",
       "788               1900 Broadway #2, New York, NY 10023    Manhattan   \n",
       "\n",
       "     rest_zip_code                                         lemmatized  \\\n",
       "83           11211  bed bath beyond return waffle iron bought two ...   \n",
       "268          11217  every stumble restaurant convenience expecting...   \n",
       "276          10001  lot cool sh go k town day need know happens si...   \n",
       "294          10010  spent time london lately probably noticed some...   \n",
       "335          11211  made pact artery day basically agreed would ea...   \n",
       "385          11103  queen comfort basically get pee wee herman ope...   \n",
       "466          10013  new york city floating restaurant situation im...   \n",
       "511          10011  hope ny1 food network google employee know goo...   \n",
       "591          10001  often get dine restaurant top floor skyscraper...   \n",
       "657          10002  painful going back reading lot review wrote st...   \n",
       "690          10019  first thing first walking restaurant ground fl...   \n",
       "750          10591  like u new yorker spends free time money resta...   \n",
       "788          10023  recent weekend night disastrous attempt dinner...   \n",
       "\n",
       "    lat_long lat long  \n",
       "83      none   n    o  \n",
       "268     none   n    o  \n",
       "276     none   n    o  \n",
       "294     none   n    o  \n",
       "335     none   n    o  \n",
       "385     none   n    o  \n",
       "466     none   n    o  \n",
       "511     none   n    o  \n",
       "591     none   n    o  \n",
       "657     none   n    o  \n",
       "690     none   n    o  \n",
       "750     none   n    o  \n",
       "788     none   n    o  "
      ]
     },
     "execution_count": 208,
     "metadata": {},
     "output_type": "execute_result"
    }
   ],
   "source": [
    "full_df[full_df['lat_long'] == 'none']"
   ]
  },
  {
   "cell_type": "markdown",
   "metadata": {},
   "source": [
    "It turns out there are 13 observations with 'none' as their latitude and longitude - we can look these up manually."
   ]
  },
  {
   "cell_type": "code",
   "execution_count": 221,
   "metadata": {},
   "outputs": [],
   "source": [
    "null_dict = {full_df['rest_name'][i]:full_df['address_only'][i] for i in full_df[full_df['lat_long'] == 'none'].index}"
   ]
  },
  {
   "cell_type": "code",
   "execution_count": 222,
   "metadata": {},
   "outputs": [
    {
     "data": {
      "text/plain": [
       "{'Have & Meyer': '103 Havermeyer St, Brooklyn, NY 11211',\n",
       " 'Prospect': '773 Fulton St., Brookyln, NY 11217',\n",
       " 'Turntable Chicken Jazz': '314 5th Ave, 2nd Floor, New York, NY 10001',\n",
       " 'The Clocktower': '5 Madison Ave., 2nd Floor, New York, NY 10010',\n",
       " 'The Commodore': '366 Metropolitian Ave., Brooklyn, NY 11211',\n",
       " 'Queens Comfort': '3618 30th Ave, Astoria, NY 11103, Queens, NY 11103',\n",
       " 'Grand Banks': '225 West St., Pier 25, New York, NY 10013',\n",
       " 'Cull & Pistol': 'Chelsea Market, 75 9th Ave., New York, NY 10011',\n",
       " 'Gaonnuri': '1250 Broadway, Penthouse, 39th Floor, New York, NY 10001',\n",
       " 'Freemans': 'End of Freeman Alley, New York, NY 10002',\n",
       " 'Yakitori Totto': '251 W. 55th St. 2nd Floor, New York, NY 10019',\n",
       " 'Blue Hill at Stone Barns': '630 Bedford Rd., Pocantico Hills, NY 10591',\n",
       " 'Bar Boulud': '1900 Broadway #2, New York, NY 10023'}"
      ]
     },
     "execution_count": 222,
     "metadata": {},
     "output_type": "execute_result"
    }
   ],
   "source": [
    "null_dict"
   ]
  },
  {
   "cell_type": "code",
   "execution_count": 262,
   "metadata": {},
   "outputs": [],
   "source": [
    "fill_null_dict = {'Have & Meyer': [40.713187, -73.956312], \n",
    "                  'Prospect': [40.686188, -73.973812],\n",
    "                  'Turntable Chicken Jazz': [40.747062, -73.985938],\n",
    "                  'The Clocktower': [40.741187, -73.987437],\n",
    "                  'The Commodore': [40.713937, -73.955812],\n",
    "                  'Queens Comfort':[40.764562, -73.916813],\n",
    "                  'Grand Banks' : [40.720312, -74.014313],\n",
    "                  'Cull & Pistol': [40.742562, -74.006062],\n",
    "                  'Gaonnuri': [40.747687, -73.987938],\n",
    "                  'Freemans': [40.721938, -73.992438],\n",
    "                  'Yakitori Totto': [40.765312, -73.983187],\n",
    "                  'Blue Hill at Stone Barns': [41.103062, -73.829063],\n",
    "                  'Bar Boulud': [40.771563, -73.981437]}"
   ]
  },
  {
   "cell_type": "code",
   "execution_count": 265,
   "metadata": {},
   "outputs": [
    {
     "data": {
      "text/plain": [
       "40.713187"
      ]
     },
     "execution_count": 265,
     "metadata": {},
     "output_type": "execute_result"
    }
   ],
   "source": [
    "fill_null_dict['Have & Meyer'][0]"
   ]
  },
  {
   "cell_type": "markdown",
   "metadata": {},
   "source": [
    "I was running into issues replacing what was a string with a tuple in the dataframe, so I worked around this challenge by just adding the latitudes to the latitude column and the longitude column."
   ]
  },
  {
   "cell_type": "code",
   "execution_count": 266,
   "metadata": {},
   "outputs": [],
   "source": [
    "for k in fill_null_dict:\n",
    "    for i, r in enumerate(full_df['rest_name']):\n",
    "        if k == r:\n",
    "            full_df.loc[i, 'lat'] = fill_null_dict[k][0]\n",
    "            full_df.loc[i, 'long'] = fill_null_dict[k][1]\n",
    "            #print(fill_null_dict[k], type(fill_null_dict[k]))"
   ]
  },
  {
   "cell_type": "markdown",
   "metadata": {},
   "source": [
    "Check that null values have been removed"
   ]
  },
  {
   "cell_type": "code",
   "execution_count": 267,
   "metadata": {},
   "outputs": [
    {
     "data": {
      "text/html": [
       "<div>\n",
       "<style scoped>\n",
       "    .dataframe tbody tr th:only-of-type {\n",
       "        vertical-align: middle;\n",
       "    }\n",
       "\n",
       "    .dataframe tbody tr th {\n",
       "        vertical-align: top;\n",
       "    }\n",
       "\n",
       "    .dataframe thead th {\n",
       "        text-align: right;\n",
       "    }\n",
       "</style>\n",
       "<table border=\"1\" class=\"dataframe\">\n",
       "  <thead>\n",
       "    <tr style=\"text-align: right;\">\n",
       "      <th></th>\n",
       "      <th>Document_No</th>\n",
       "      <th>Dominant_Topic</th>\n",
       "      <th>Topic_Perc_Contrib</th>\n",
       "      <th>Keywords</th>\n",
       "      <th>Text</th>\n",
       "      <th>rest_cost</th>\n",
       "      <th>cuisine_type</th>\n",
       "      <th>rest_name</th>\n",
       "      <th>rest_rating</th>\n",
       "      <th>rest_review</th>\n",
       "      <th>address_only</th>\n",
       "      <th>rest_borough</th>\n",
       "      <th>rest_zip_code</th>\n",
       "      <th>lemmatized</th>\n",
       "      <th>lat_long</th>\n",
       "      <th>lat</th>\n",
       "      <th>long</th>\n",
       "    </tr>\n",
       "  </thead>\n",
       "  <tbody>\n",
       "  </tbody>\n",
       "</table>\n",
       "</div>"
      ],
      "text/plain": [
       "Empty DataFrame\n",
       "Columns: [Document_No, Dominant_Topic, Topic_Perc_Contrib, Keywords, Text, rest_cost, cuisine_type, rest_name, rest_rating, rest_review, address_only, rest_borough, rest_zip_code, lemmatized, lat_long, lat, long]\n",
       "Index: []"
      ]
     },
     "execution_count": 267,
     "metadata": {},
     "output_type": "execute_result"
    }
   ],
   "source": [
    "full_df[full_df['lat_long'] == 'none']"
   ]
  },
  {
   "cell_type": "code",
   "execution_count": 248,
   "metadata": {},
   "outputs": [
    {
     "data": {
      "text/plain": [
       "str"
      ]
     },
     "execution_count": 248,
     "metadata": {},
     "output_type": "execute_result"
    }
   ],
   "source": [
    "type(full_df.loc[83,'lat_long'])"
   ]
  },
  {
   "cell_type": "code",
   "execution_count": 119,
   "metadata": {},
   "outputs": [
    {
     "data": {
      "text/html": [
       "<div>\n",
       "<style scoped>\n",
       "    .dataframe tbody tr th:only-of-type {\n",
       "        vertical-align: middle;\n",
       "    }\n",
       "\n",
       "    .dataframe tbody tr th {\n",
       "        vertical-align: top;\n",
       "    }\n",
       "\n",
       "    .dataframe thead th {\n",
       "        text-align: right;\n",
       "    }\n",
       "</style>\n",
       "<table border=\"1\" class=\"dataframe\">\n",
       "  <thead>\n",
       "    <tr style=\"text-align: right;\">\n",
       "      <th></th>\n",
       "      <th>Document_No</th>\n",
       "      <th>Dominant_Topic</th>\n",
       "      <th>Topic_Perc_Contrib</th>\n",
       "      <th>Keywords</th>\n",
       "      <th>Text</th>\n",
       "      <th>rest_cost</th>\n",
       "      <th>cuisine_type</th>\n",
       "      <th>rest_name</th>\n",
       "      <th>rest_rating</th>\n",
       "      <th>rest_review</th>\n",
       "      <th>address_only</th>\n",
       "      <th>rest_borough</th>\n",
       "      <th>rest_zip_code</th>\n",
       "      <th>lemmatized</th>\n",
       "      <th>lat_long</th>\n",
       "      <th>lat</th>\n",
       "      <th>long</th>\n",
       "    </tr>\n",
       "  </thead>\n",
       "  <tbody>\n",
       "  </tbody>\n",
       "</table>\n",
       "</div>"
      ],
      "text/plain": [
       "Empty DataFrame\n",
       "Columns: [Document_No, Dominant_Topic, Topic_Perc_Contrib, Keywords, Text, rest_cost, cuisine_type, rest_name, rest_rating, rest_review, address_only, rest_borough, rest_zip_code, lemmatized, lat_long, lat, long]\n",
       "Index: []"
      ]
     },
     "execution_count": 119,
     "metadata": {},
     "output_type": "execute_result"
    }
   ],
   "source": [
    "full_df[full_df['Dominant_Topic'].isnull()]"
   ]
  },
  {
   "cell_type": "markdown",
   "metadata": {},
   "source": [
    "Now we have to fill the `'lat'` and `'long'` columns that weren't filled before."
   ]
  },
  {
   "cell_type": "code",
   "execution_count": 240,
   "metadata": {},
   "outputs": [],
   "source": [
    "#full_df['lat'] = full_df['lat_long'].map(lambda x: float(x[0]))\n",
    "#full_df['long'] = full_df['lat_long'].map(lambda x: float(x[1]))"
   ]
  },
  {
   "cell_type": "code",
   "execution_count": 270,
   "metadata": {},
   "outputs": [],
   "source": [
    "full_df.to_csv('./Data/full_data_with_lat_long.csv', index = False)"
   ]
  },
  {
   "cell_type": "markdown",
   "metadata": {},
   "source": [
    "### Look into calculating distance using GeoPy"
   ]
  },
  {
   "cell_type": "code",
   "execution_count": 61,
   "metadata": {},
   "outputs": [],
   "source": [
    "from geopy import distance"
   ]
  },
  {
   "cell_type": "code",
   "execution_count": 62,
   "metadata": {},
   "outputs": [
    {
     "data": {
      "text/plain": [
       "4.556226407087412"
      ]
     },
     "execution_count": 62,
     "metadata": {},
     "output_type": "execute_result"
    }
   ],
   "source": [
    "distance.distance(full_df.loc[1, 'lat_long'], full_df.loc[44, 'lat_long']).miles"
   ]
  },
  {
   "cell_type": "code",
   "execution_count": 66,
   "metadata": {},
   "outputs": [
    {
     "name": "stdout",
     "output_type": "stream",
     "text": [
      "Omakase Room By Tatsu: 14 Christopher St, New York, NY 10014\n",
      "Lowerline: 794 Washington Ave, Brooklyn, NY 11238\n"
     ]
    }
   ],
   "source": [
    "print(full_df.loc[1, 'rest_name'] + ': ' + full_df.loc[1, 'address_only'])\n",
    "print(full_df.loc[44, 'rest_name'] + ': ' + full_df.loc[44, 'address_only'])"
   ]
  },
  {
   "cell_type": "code",
   "execution_count": 68,
   "metadata": {},
   "outputs": [
    {
     "name": "stdout",
     "output_type": "stream",
     "text": [
      "Collecting plotly\n",
      "\u001b[?25l  Downloading https://files.pythonhosted.org/packages/4d/59/63a5a05532a67b1c49283e8b7885bbe55454a1eef8443e97a7479bb9964b/plotly-3.6.0.tar.gz (31.1MB)\n",
      "\u001b[K    100% |████████████████████████████████| 31.1MB 97kB/s eta 0:00:011    33% |██████████▋                     | 10.3MB 4.3MB/s eta 0:00:05\n",
      "\u001b[?25hRequirement already satisfied: decorator>=4.0.6 in /Users/edithiyerhernandez/anaconda3/lib/python3.6/site-packages (from plotly) (4.3.0)\n",
      "Requirement already satisfied: nbformat>=4.2 in /Users/edithiyerhernandez/anaconda3/lib/python3.6/site-packages (from plotly) (4.4.0)\n",
      "Requirement already satisfied: pytz in /Users/edithiyerhernandez/anaconda3/lib/python3.6/site-packages (from plotly) (2018.5)\n",
      "Requirement already satisfied: requests in /Users/edithiyerhernandez/anaconda3/lib/python3.6/site-packages (from plotly) (2.19.1)\n",
      "Collecting retrying>=1.3.3 (from plotly)\n",
      "  Downloading https://files.pythonhosted.org/packages/44/ef/beae4b4ef80902f22e3af073397f079c96969c69b2c7d52a57ea9ae61c9d/retrying-1.3.3.tar.gz\n",
      "Requirement already satisfied: six in /Users/edithiyerhernandez/anaconda3/lib/python3.6/site-packages (from plotly) (1.11.0)\n",
      "Requirement already satisfied: ipython_genutils in /Users/edithiyerhernandez/anaconda3/lib/python3.6/site-packages (from nbformat>=4.2->plotly) (0.2.0)\n",
      "Requirement already satisfied: traitlets>=4.1 in /Users/edithiyerhernandez/anaconda3/lib/python3.6/site-packages (from nbformat>=4.2->plotly) (4.3.2)\n",
      "Requirement already satisfied: jsonschema!=2.5.0,>=2.4 in /Users/edithiyerhernandez/anaconda3/lib/python3.6/site-packages (from nbformat>=4.2->plotly) (2.6.0)\n",
      "Requirement already satisfied: jupyter_core in /Users/edithiyerhernandez/anaconda3/lib/python3.6/site-packages (from nbformat>=4.2->plotly) (4.4.0)\n",
      "Requirement already satisfied: certifi>=2017.4.17 in /Users/edithiyerhernandez/anaconda3/lib/python3.6/site-packages (from requests->plotly) (2018.11.29)\n",
      "Requirement already satisfied: idna<2.8,>=2.5 in /Users/edithiyerhernandez/anaconda3/lib/python3.6/site-packages (from requests->plotly) (2.7)\n",
      "Requirement already satisfied: urllib3<1.24,>=1.21.1 in /Users/edithiyerhernandez/anaconda3/lib/python3.6/site-packages (from requests->plotly) (1.23)\n",
      "Requirement already satisfied: chardet<3.1.0,>=3.0.2 in /Users/edithiyerhernandez/anaconda3/lib/python3.6/site-packages (from requests->plotly) (3.0.4)\n",
      "Building wheels for collected packages: plotly, retrying\n",
      "  Running setup.py bdist_wheel for plotly ... \u001b[?25ldone\n",
      "\u001b[?25h  Stored in directory: /Users/edithiyerhernandez/Library/Caches/pip/wheels/67/0b/29/08c7f5caed2d1ac446db982ff607b326d49bfa0bd3a67ef8c7\n",
      "  Running setup.py bdist_wheel for retrying ... \u001b[?25ldone\n",
      "\u001b[?25h  Stored in directory: /Users/edithiyerhernandez/Library/Caches/pip/wheels/d7/a9/33/acc7b709e2a35caa7d4cae442f6fe6fbf2c43f80823d46460c\n",
      "Successfully built plotly retrying\n",
      "Installing collected packages: retrying, plotly\n",
      "Successfully installed plotly-3.6.0 retrying-1.3.3\n",
      "\u001b[33mYou are using pip version 18.1, however version 19.0.1 is available.\n",
      "You should consider upgrading via the 'pip install --upgrade pip' command.\u001b[0m\n"
     ]
    }
   ],
   "source": [
    "!pip install plotly"
   ]
  },
  {
   "cell_type": "code",
   "execution_count": 97,
   "metadata": {},
   "outputs": [],
   "source": [
    "import plotly.plotly\n",
    "import plotly.graph_objs as go"
   ]
  },
  {
   "cell_type": "code",
   "execution_count": 105,
   "metadata": {},
   "outputs": [],
   "source": [
    "plotly.tools.set_credentials_file(username=\"edithiyer\", api_key=\"PJhCwkfTHRrSNJe7RnUI\")"
   ]
  },
  {
   "cell_type": "code",
   "execution_count": 77,
   "metadata": {},
   "outputs": [
    {
     "data": {
      "text/plain": [
       "40.8008322"
      ]
     },
     "execution_count": 77,
     "metadata": {},
     "output_type": "execute_result"
    }
   ],
   "source": [
    "full_df['lat_long'][0][0]"
   ]
  },
  {
   "cell_type": "code",
   "execution_count": 81,
   "metadata": {},
   "outputs": [
    {
     "data": {
      "text/plain": [
       "40.8008322"
      ]
     },
     "execution_count": 81,
     "metadata": {},
     "output_type": "execute_result"
    }
   ],
   "source": [
    "full_df.loc[0, 'lat_long'][0]"
   ]
  },
  {
   "cell_type": "code",
   "execution_count": 117,
   "metadata": {},
   "outputs": [],
   "source": [
    "full_df['lat'] = full_df['lat_long'].map(lambda x: x[0])"
   ]
  },
  {
   "cell_type": "code",
   "execution_count": 118,
   "metadata": {},
   "outputs": [],
   "source": [
    "full_df['long'] = full_df['lat_long'].map(lambda x: x[1])"
   ]
  },
  {
   "cell_type": "code",
   "execution_count": 107,
   "metadata": {},
   "outputs": [
    {
     "name": "stdout",
     "output_type": "stream",
     "text": [
      "High five! You successfully sent some data to your account on plotly. View your plot in your browser at https://plot.ly/~edithiyer/0 or inside your plot.ly account where it is named 'nyc_restaurants'\n"
     ]
    },
    {
     "data": {
      "text/html": [
       "<iframe id=\"igraph\" scrolling=\"no\" style=\"border:none;\" seamless=\"seamless\" src=\"https://plot.ly/~edithiyer/0.embed\" height=\"525px\" width=\"100%\"></iframe>"
      ],
      "text/plain": [
       "<plotly.tools.PlotlyDisplay object>"
      ]
     },
     "execution_count": 107,
     "metadata": {},
     "output_type": "execute_result"
    }
   ],
   "source": [
    "scl = [ [0,\"rgb(5, 10, 172)\"],[0.35,\"rgb(40, 60, 190)\"],[0.5,\"rgb(70, 100, 245)\"],\\\n",
    "    [0.6,\"rgb(90, 120, 245)\"],[0.7,\"rgb(106, 137, 247)\"],[1,\"rgb(220, 220, 220)\"] ]\n",
    "\n",
    "data = [ dict(\n",
    "        type = 'scattergeo',\n",
    "        locationmode = 'New York City',\n",
    "        lon = full_df['long'],\n",
    "        lat = full_df['lat'],\n",
    "        text = full_df['rest_name'],\n",
    "        mode = 'markers',\n",
    "        marker = dict(\n",
    "            size = 8,\n",
    "            opacity = 0.8,\n",
    "            reversescale = True,\n",
    "            autocolorscale = False,\n",
    "            symbol = 'square',\n",
    "            line = dict(\n",
    "                width=1,\n",
    "                color='rgba(102, 102, 102)'\n",
    "            ),\n",
    "            colorscale = scl,\n",
    "            cmin = 0,\n",
    "            color = 'red',\n",
    "            colorbar=dict(\n",
    "                title=\"NYC Restaurants\"\n",
    "            )\n",
    "        ))]\n",
    "\n",
    "layout = dict(\n",
    "        title = 'NYC Restaurants',\n",
    "        colorbar = True,\n",
    "        geo = dict(\n",
    "            scope='usa',\n",
    "            projection=dict( type='albers usa' ),\n",
    "            showland = True,\n",
    "            landcolor = \"rgb(250, 250, 250)\",\n",
    "            subunitcolor = \"rgb(217, 217, 217)\",\n",
    "            countrycolor = \"rgb(217, 217, 217)\",\n",
    "            countrywidth = 0.5,\n",
    "            subunitwidth = 0.5\n",
    "        ),\n",
    "    )\n",
    "\n",
    "fig = dict( data=data, layout=layout )\n",
    "py.iplot( fig, validate=False, filename='nyc_restaurants' )\n"
   ]
  },
  {
   "cell_type": "markdown",
   "metadata": {},
   "source": [
    "## Finding distaces between two locations"
   ]
  },
  {
   "cell_type": "code",
   "execution_count": 140,
   "metadata": {},
   "outputs": [
    {
     "data": {
      "text/plain": [
       "3.543899586337327"
      ]
     },
     "execution_count": 140,
     "metadata": {},
     "output_type": "execute_result"
    }
   ],
   "source": [
    "distance.distance(full_df.loc[3, 'lat_long'], full_df.loc[800, 'lat_long']).miles"
   ]
  },
  {
   "cell_type": "code",
   "execution_count": 141,
   "metadata": {},
   "outputs": [
    {
     "name": "stdout",
     "output_type": "stream",
     "text": [
      "Collecting folium\n",
      "\u001b[?25l  Downloading https://files.pythonhosted.org/packages/55/e2/7e523df8558b7f4b2ab4c62014fd378ccecce3fdc14c9928b272a88ae4cc/folium-0.7.0-py3-none-any.whl (85kB)\n",
      "\u001b[K    100% |████████████████████████████████| 92kB 13kB/s  eta 0:00:01\n",
      "\u001b[?25hRequirement already satisfied: numpy in /Users/edithiyerhernandez/anaconda3/lib/python3.6/site-packages (from folium) (1.15.4)\n",
      "Requirement already satisfied: requests in /Users/edithiyerhernandez/anaconda3/lib/python3.6/site-packages (from folium) (2.19.1)\n",
      "Requirement already satisfied: six in /Users/edithiyerhernandez/anaconda3/lib/python3.6/site-packages (from folium) (1.11.0)\n",
      "Requirement already satisfied: jinja2 in /Users/edithiyerhernandez/anaconda3/lib/python3.6/site-packages (from folium) (2.10)\n",
      "Collecting branca>=0.3.0 (from folium)\n",
      "  Downloading https://files.pythonhosted.org/packages/63/36/1c93318e9653f4e414a2e0c3b98fc898b4970e939afeedeee6075dd3b703/branca-0.3.1-py3-none-any.whl\n",
      "Requirement already satisfied: urllib3<1.24,>=1.21.1 in /Users/edithiyerhernandez/anaconda3/lib/python3.6/site-packages (from requests->folium) (1.23)\n",
      "Requirement already satisfied: certifi>=2017.4.17 in /Users/edithiyerhernandez/anaconda3/lib/python3.6/site-packages (from requests->folium) (2018.11.29)\n",
      "Requirement already satisfied: idna<2.8,>=2.5 in /Users/edithiyerhernandez/anaconda3/lib/python3.6/site-packages (from requests->folium) (2.7)\n",
      "Requirement already satisfied: chardet<3.1.0,>=3.0.2 in /Users/edithiyerhernandez/anaconda3/lib/python3.6/site-packages (from requests->folium) (3.0.4)\n",
      "Requirement already satisfied: MarkupSafe>=0.23 in /Users/edithiyerhernandez/anaconda3/lib/python3.6/site-packages (from jinja2->folium) (1.0)\n",
      "Installing collected packages: branca, folium\n",
      "Successfully installed branca-0.3.1 folium-0.7.0\n",
      "\u001b[33mYou are using pip version 18.1, however version 19.0.1 is available.\n",
      "You should consider upgrading via the 'pip install --upgrade pip' command.\u001b[0m\n"
     ]
    }
   ],
   "source": [
    "!pip install folium"
   ]
  },
  {
   "cell_type": "code",
   "execution_count": 142,
   "metadata": {},
   "outputs": [],
   "source": [
    "import folium"
   ]
  },
  {
   "cell_type": "code",
   "execution_count": 185,
   "metadata": {},
   "outputs": [],
   "source": [
    "import mapbox_tokens"
   ]
  },
  {
   "cell_type": "code",
   "execution_count": 145,
   "metadata": {},
   "outputs": [
    {
     "data": {
      "text/plain": [
       "<folium.vector_layers.CircleMarker at 0x138dd1898>"
      ]
     },
     "execution_count": 145,
     "metadata": {},
     "output_type": "execute_result"
    }
   ],
   "source": [
    "folium.CircleMarker(full_df.loc[33, 'lat_long'])"
   ]
  },
  {
   "cell_type": "markdown",
   "metadata": {},
   "source": [
    "#### Create a base map"
   ]
  },
  {
   "cell_type": "code",
   "execution_count": 191,
   "metadata": {
    "scrolled": true
   },
   "outputs": [
    {
     "data": {
      "text/html": [
       "<div style=\"width:100%;\"><div style=\"position:relative;width:100%;height:0;padding-bottom:60%;\"><iframe src=\"data:text/html;charset=utf-8;base64,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\" style=\"position:absolute;width:100%;height:100%;left:0;top:0;border:none !important;\" allowfullscreen webkitallowfullscreen mozallowfullscreen></iframe></div></div>"
      ],
      "text/plain": [
       "<folium.folium.Map at 0x12a69bc50>"
      ]
     },
     "execution_count": 191,
     "metadata": {},
     "output_type": "execute_result"
    }
   ],
   "source": [
    "map_hooray = folium.Map(location=[40.7128, -74.0060],\n",
    "                    zoom_start = 15, tiles = 'OpenStreetMap')\n",
    "map_hooray"
   ]
  },
  {
   "cell_type": "markdown",
   "metadata": {},
   "source": [
    "#### Create a map with markers"
   ]
  },
  {
   "cell_type": "code",
   "execution_count": 201,
   "metadata": {},
   "outputs": [],
   "source": [
    "lat_1 = full_df.loc[693, 'lat']\n",
    "long_1 = full_df.loc[693, 'long']\n",
    "popup_1 = full_df.loc[693, 'rest_name']\n",
    "\n",
    "lat_2 = full_df.loc[409, 'lat']\n",
    "long_2 = full_df.loc[409, 'long']\n",
    "popup_2 = full_df.loc[409, 'rest_name']\n",
    "\n",
    "avg_lat = (lat_1+lat_2)/2\n",
    "\n",
    "avg_long = (long_1 +long_2)/2"
   ]
  },
  {
   "cell_type": "code",
   "execution_count": null,
   "metadata": {},
   "outputs": [],
   "source": [
    "folium.Map()."
   ]
  },
  {
   "cell_type": "code",
   "execution_count": 207,
   "metadata": {},
   "outputs": [
    {
     "data": {
      "text/html": [
       "<div style=\"width:100%;\"><div style=\"position:relative;width:100%;height:0;padding-bottom:60%;\"><iframe src=\"data:text/html;charset=utf-8;base64,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\" style=\"position:absolute;width:100%;height:100%;left:0;top:0;border:none !important;\" allowfullscreen webkitallowfullscreen mozallowfullscreen></iframe></div></div>"
      ],
      "text/plain": [
       "<folium.folium.Map at 0x137c1e2b0>"
      ]
     },
     "execution_count": 207,
     "metadata": {},
     "output_type": "execute_result"
    }
   ],
   "source": [
    "map_with_marks = folium.Map(location=[avg_lat, avg_long],\n",
    "                    zoom_start = 13, tiles = 'OpenStreetMap')\n",
    "\n",
    "folium.Marker(location = [lat_1, long_1], tooltip=folium.Tooltip(popup_1)).add_to(map_with_marks)\n",
    "folium.Marker(location = [lat_2, long_2], tooltip=folium.Tooltip(popup_2)).add_to(map_with_marks)\n",
    "\n",
    "map_with_marks"
   ]
  },
  {
   "cell_type": "code",
   "execution_count": 150,
   "metadata": {},
   "outputs": [],
   "source": [
    "def display(m, height=300):\n",
    "    \"\"\"Takes a folium instance and embed HTML.\"\"\"\n",
    "    m._build_map()\n",
    "    srcdoc = m.HTML.replace('\"', '&quot;')\n",
    "    embed = HTML('<iframe srcdoc=\"{0}\" '\n",
    "                 'style=\"width: 100%; height: {1}px; '\n",
    "                 'border: none\"></iframe>'.format(srcdoc, height))\n",
    "    return embed"
   ]
  },
  {
   "cell_type": "code",
   "execution_count": 154,
   "metadata": {},
   "outputs": [],
   "source": [
    "trial_map = folium.Map(location=[37.76, -122.45])"
   ]
  },
  {
   "cell_type": "code",
   "execution_count": 160,
   "metadata": {},
   "outputs": [],
   "source": [
    "m = folium.Map(location=[20, 0], zoom_start=3.5)"
   ]
  },
  {
   "cell_type": "code",
   "execution_count": 161,
   "metadata": {},
   "outputs": [
    {
     "name": "stdout",
     "output_type": "stream",
     "text": [
      "<folium.folium.Map object at 0x138ca6908>\n"
     ]
    }
   ],
   "source": [
    "print(m)"
   ]
  },
  {
   "cell_type": "code",
   "execution_count": 164,
   "metadata": {},
   "outputs": [
    {
     "data": {
      "text/html": [
       "\n",
       "        <iframe\n",
       "            width=\"900\"\n",
       "            height=\"750\"\n",
       "            src=\"http://leaflet-extras.github.io/leaflet-providers/preview/\"\n",
       "            frameborder=\"0\"\n",
       "            allowfullscreen\n",
       "        ></iframe>\n",
       "        "
      ],
      "text/plain": [
       "<IPython.lib.display.IFrame at 0x1228605f8>"
      ]
     },
     "execution_count": 164,
     "metadata": {},
     "output_type": "execute_result"
    }
   ],
   "source": [
    "\n",
    "from IPython.display import IFrame\n",
    "\n",
    "IFrame('http://leaflet-extras.github.io/leaflet-providers/preview/', width=900, height=750)"
   ]
  },
  {
   "cell_type": "code",
   "execution_count": null,
   "metadata": {},
   "outputs": [],
   "source": []
  }
 ],
 "metadata": {
  "kernelspec": {
   "display_name": "Python 3",
   "language": "python",
   "name": "python3"
  },
  "language_info": {
   "codemirror_mode": {
    "name": "ipython",
    "version": 3
   },
   "file_extension": ".py",
   "mimetype": "text/x-python",
   "name": "python",
   "nbconvert_exporter": "python",
   "pygments_lexer": "ipython3",
   "version": "3.6.8"
  }
 },
 "nbformat": 4,
 "nbformat_minor": 2
}
