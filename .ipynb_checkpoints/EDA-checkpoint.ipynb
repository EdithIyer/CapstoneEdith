{
 "cells": [
  {
   "cell_type": "code",
   "execution_count": 1,
   "metadata": {},
   "outputs": [],
   "source": [
    "import pandas as pd\n",
    "import numpy as np\n",
    "import seaborn as sns\n",
    "import matplotlib.pyplot as plt\n",
    "\n",
    "%matplotlib inline"
   ]
  },
  {
   "cell_type": "code",
   "execution_count": 2,
   "metadata": {},
   "outputs": [],
   "source": [
    "df = pd.read_csv('./data/infatuation_reviews_new.csv', lineterminator = '\\n')"
   ]
  },
  {
   "cell_type": "code",
   "execution_count": 3,
   "metadata": {},
   "outputs": [
    {
     "data": {
      "text/html": [
       "<div>\n",
       "<style scoped>\n",
       "    .dataframe tbody tr th:only-of-type {\n",
       "        vertical-align: middle;\n",
       "    }\n",
       "\n",
       "    .dataframe tbody tr th {\n",
       "        vertical-align: top;\n",
       "    }\n",
       "\n",
       "    .dataframe thead th {\n",
       "        text-align: right;\n",
       "    }\n",
       "</style>\n",
       "<table border=\"1\" class=\"dataframe\">\n",
       "  <thead>\n",
       "    <tr style=\"text-align: right;\">\n",
       "      <th></th>\n",
       "      <th>address</th>\n",
       "      <th>cost</th>\n",
       "      <th>cuisine</th>\n",
       "      <th>name</th>\n",
       "      <th>rating</th>\n",
       "      <th>review</th>\n",
       "    </tr>\n",
       "  </thead>\n",
       "  <tbody>\n",
       "    <tr>\n",
       "      <th>0</th>\n",
       "      <td>\\n2750 Broadway\\nNew York, NY 10025\\n(212) 510...</td>\n",
       "      <td>2.0</td>\n",
       "      <td>Pizza</td>\n",
       "      <td>Mama’s Too</td>\n",
       "      <td>8.3</td>\n",
       "      <td>A typical NYC slice shop has a few basic eleme...</td>\n",
       "    </tr>\n",
       "    <tr>\n",
       "      <th>1</th>\n",
       "      <td>\\n14 Christopher St\\nNew York, NY 10014\\n(212)...</td>\n",
       "      <td>4.0</td>\n",
       "      <td>Japanese</td>\n",
       "      <td>Omakase Room By Tatsu</td>\n",
       "      <td>7.7</td>\n",
       "      <td>Tolerance for group trips can vary widely. Som...</td>\n",
       "    </tr>\n",
       "    <tr>\n",
       "      <th>2</th>\n",
       "      <td>\\n428 Greenwich St.\\nNew York, NY 10013\\n212-2...</td>\n",
       "      <td>4.0</td>\n",
       "      <td>Japanese</td>\n",
       "      <td>Sushi Azabu</td>\n",
       "      <td>8.5</td>\n",
       "      <td>When the apocalypse eventually comes for New Y...</td>\n",
       "    </tr>\n",
       "    <tr>\n",
       "      <th>3</th>\n",
       "      <td>\\n264 Clinton St\\nNew York, NY 11201\\n(347) 98...</td>\n",
       "      <td>3.0</td>\n",
       "      <td>Seafood</td>\n",
       "      <td>Saint Julivert Fisherie</td>\n",
       "      <td>7.7</td>\n",
       "      <td>When you’re young, you don’t have to think muc...</td>\n",
       "    </tr>\n",
       "    <tr>\n",
       "      <th>4</th>\n",
       "      <td>\\n498 9th Ave\\nNew York, NY 10018\\n(646) 863-2...</td>\n",
       "      <td>2.0</td>\n",
       "      <td>Russian</td>\n",
       "      <td>Farida</td>\n",
       "      <td>8.0</td>\n",
       "      <td>There’s a bleak, sweaty place on 34th Street w...</td>\n",
       "    </tr>\n",
       "  </tbody>\n",
       "</table>\n",
       "</div>"
      ],
      "text/plain": [
       "                                             address  cost   cuisine  \\\n",
       "0  \\n2750 Broadway\\nNew York, NY 10025\\n(212) 510...   2.0     Pizza   \n",
       "1  \\n14 Christopher St\\nNew York, NY 10014\\n(212)...   4.0  Japanese   \n",
       "2  \\n428 Greenwich St.\\nNew York, NY 10013\\n212-2...   4.0  Japanese   \n",
       "3  \\n264 Clinton St\\nNew York, NY 11201\\n(347) 98...   3.0   Seafood   \n",
       "4  \\n498 9th Ave\\nNew York, NY 10018\\n(646) 863-2...   2.0   Russian   \n",
       "\n",
       "                      name  rating  \\\n",
       "0               Mama’s Too     8.3   \n",
       "1    Omakase Room By Tatsu     7.7   \n",
       "2              Sushi Azabu     8.5   \n",
       "3  Saint Julivert Fisherie     7.7   \n",
       "4                   Farida     8.0   \n",
       "\n",
       "                                              review  \n",
       "0  A typical NYC slice shop has a few basic eleme...  \n",
       "1  Tolerance for group trips can vary widely. Som...  \n",
       "2  When the apocalypse eventually comes for New Y...  \n",
       "3  When you’re young, you don’t have to think muc...  \n",
       "4  There’s a bleak, sweaty place on 34th Street w...  "
      ]
     },
     "execution_count": 3,
     "metadata": {},
     "output_type": "execute_result"
    }
   ],
   "source": [
    "df.head()"
   ]
  },
  {
   "cell_type": "code",
   "execution_count": 4,
   "metadata": {},
   "outputs": [
    {
     "data": {
      "text/plain": [
       "Index(['address', 'cost', 'cuisine', 'name', 'rating', 'review'], dtype='object')"
      ]
     },
     "execution_count": 4,
     "metadata": {},
     "output_type": "execute_result"
    }
   ],
   "source": [
    "df.columns"
   ]
  },
  {
   "cell_type": "code",
   "execution_count": 5,
   "metadata": {
    "scrolled": true
   },
   "outputs": [
    {
     "name": "stdout",
     "output_type": "stream",
     "text": [
      "<class 'pandas.core.frame.DataFrame'>\n",
      "RangeIndex: 825 entries, 0 to 824\n",
      "Data columns (total 6 columns):\n",
      "address    825 non-null object\n",
      "cost       824 non-null float64\n",
      "cuisine    819 non-null object\n",
      "name       825 non-null object\n",
      "rating     825 non-null float64\n",
      "review     825 non-null object\n",
      "dtypes: float64(2), object(4)\n",
      "memory usage: 38.8+ KB\n"
     ]
    }
   ],
   "source": [
    "df.info()"
   ]
  },
  {
   "cell_type": "code",
   "execution_count": 6,
   "metadata": {
    "scrolled": true
   },
   "outputs": [
    {
     "data": {
      "text/html": [
       "<div>\n",
       "<style scoped>\n",
       "    .dataframe tbody tr th:only-of-type {\n",
       "        vertical-align: middle;\n",
       "    }\n",
       "\n",
       "    .dataframe tbody tr th {\n",
       "        vertical-align: top;\n",
       "    }\n",
       "\n",
       "    .dataframe thead th {\n",
       "        text-align: right;\n",
       "    }\n",
       "</style>\n",
       "<table border=\"1\" class=\"dataframe\">\n",
       "  <thead>\n",
       "    <tr style=\"text-align: right;\">\n",
       "      <th></th>\n",
       "      <th>address</th>\n",
       "      <th>cost</th>\n",
       "      <th>cuisine</th>\n",
       "      <th>name</th>\n",
       "      <th>rating</th>\n",
       "      <th>review</th>\n",
       "    </tr>\n",
       "  </thead>\n",
       "  <tbody>\n",
       "    <tr>\n",
       "      <th>630</th>\n",
       "      <td>\\n241 Bowery\\nNew York, NY 10002\\n212-388-0052\\n</td>\n",
       "      <td>2.0</td>\n",
       "      <td>NaN</td>\n",
       "      <td>Bowery Diner</td>\n",
       "      <td>5.8</td>\n",
       "      <td>Let's be honest. If this were a regular Manhat...</td>\n",
       "    </tr>\n",
       "    <tr>\n",
       "      <th>699</th>\n",
       "      <td>\\n511 E. 5th St.\\nNew York, NY 10009\\n212-687-...</td>\n",
       "      <td>3.0</td>\n",
       "      <td>NaN</td>\n",
       "      <td>Goat Town</td>\n",
       "      <td>6.8</td>\n",
       "      <td>We know you are curious, so let's address this...</td>\n",
       "    </tr>\n",
       "    <tr>\n",
       "      <th>732</th>\n",
       "      <td>\\n225 Park Ave. S.\\nNew York, NY 10003\\n212-53...</td>\n",
       "      <td>3.0</td>\n",
       "      <td>NaN</td>\n",
       "      <td>Wildwood Barbecue</td>\n",
       "      <td>2.1</td>\n",
       "      <td>The subway during summer. The current season o...</td>\n",
       "    </tr>\n",
       "    <tr>\n",
       "      <th>790</th>\n",
       "      <td>\\n85 Orchard St.\\nNew York, NY 10002\\n212-226-...</td>\n",
       "      <td>3.0</td>\n",
       "      <td>NaN</td>\n",
       "      <td>Little Giant</td>\n",
       "      <td>6.3</td>\n",
       "      <td>I hear such great things about Little Giant th...</td>\n",
       "    </tr>\n",
       "    <tr>\n",
       "      <th>798</th>\n",
       "      <td>\\n227 Mott St.\\nNew York, NY 10012\\n212-625-00...</td>\n",
       "      <td>1.0</td>\n",
       "      <td>NaN</td>\n",
       "      <td>Pinche Taqueria</td>\n",
       "      <td>7.0</td>\n",
       "      <td>In a city where Chipotle dominates the cheap M...</td>\n",
       "    </tr>\n",
       "    <tr>\n",
       "      <th>806</th>\n",
       "      <td>\\n205 Allen St.\\nNew York, NY 10002\\n212-777-3...</td>\n",
       "      <td>3.0</td>\n",
       "      <td>NaN</td>\n",
       "      <td>Mole</td>\n",
       "      <td>6.0</td>\n",
       "      <td>There isn't much in the way of Mexican to choo...</td>\n",
       "    </tr>\n",
       "  </tbody>\n",
       "</table>\n",
       "</div>"
      ],
      "text/plain": [
       "                                               address  cost cuisine  \\\n",
       "630   \\n241 Bowery\\nNew York, NY 10002\\n212-388-0052\\n   2.0     NaN   \n",
       "699  \\n511 E. 5th St.\\nNew York, NY 10009\\n212-687-...   3.0     NaN   \n",
       "732  \\n225 Park Ave. S.\\nNew York, NY 10003\\n212-53...   3.0     NaN   \n",
       "790  \\n85 Orchard St.\\nNew York, NY 10002\\n212-226-...   3.0     NaN   \n",
       "798  \\n227 Mott St.\\nNew York, NY 10012\\n212-625-00...   1.0     NaN   \n",
       "806  \\n205 Allen St.\\nNew York, NY 10002\\n212-777-3...   3.0     NaN   \n",
       "\n",
       "                  name  rating  \\\n",
       "630       Bowery Diner     5.8   \n",
       "699          Goat Town     6.8   \n",
       "732  Wildwood Barbecue     2.1   \n",
       "790       Little Giant     6.3   \n",
       "798    Pinche Taqueria     7.0   \n",
       "806               Mole     6.0   \n",
       "\n",
       "                                                review  \n",
       "630  Let's be honest. If this were a regular Manhat...  \n",
       "699  We know you are curious, so let's address this...  \n",
       "732  The subway during summer. The current season o...  \n",
       "790  I hear such great things about Little Giant th...  \n",
       "798  In a city where Chipotle dominates the cheap M...  \n",
       "806  There isn't much in the way of Mexican to choo...  "
      ]
     },
     "execution_count": 6,
     "metadata": {},
     "output_type": "execute_result"
    }
   ],
   "source": [
    "df[df['cuisine'].isnull()]"
   ]
  },
  {
   "cell_type": "code",
   "execution_count": 9,
   "metadata": {},
   "outputs": [
    {
     "data": {
      "text/plain": [
       "3"
      ]
     },
     "execution_count": 9,
     "metadata": {},
     "output_type": "execute_result"
    }
   ],
   "source": [
    "int_list = [1, 2, 4, 5, 1, 1, 2]\n",
    "int_list.count(1)"
   ]
  },
  {
   "cell_type": "code",
   "execution_count": 23,
   "metadata": {},
   "outputs": [
    {
     "data": {
      "text/plain": [
       "{1: 3, 2: 2, 4: 1, 5: 1}"
      ]
     },
     "execution_count": 23,
     "metadata": {},
     "output_type": "execute_result"
    }
   ],
   "source": [
    "new_list = []\n",
    "new_dict = {}\n",
    "for i in int_list:\n",
    "    new_dict[i] = int_list.count(i)\n",
    "    new_list.append(int_list.count(i))\n",
    "    \n",
    "    print(new_dict.key)\n",
    "                                \n",
    "new_dict"
   ]
  },
  {
   "cell_type": "code",
   "execution_count": 32,
   "metadata": {
    "scrolled": true
   },
   "outputs": [
    {
     "ename": "AttributeError",
     "evalue": "'int' object has no attribute 'key'",
     "output_type": "error",
     "traceback": [
      "\u001b[0;31m---------------------------------------------------------------------------\u001b[0m",
      "\u001b[0;31mAttributeError\u001b[0m                            Traceback (most recent call last)",
      "\u001b[0;32m<ipython-input-32-cebfdee8db24>\u001b[0m in \u001b[0;36m<module>\u001b[0;34m\u001b[0m\n\u001b[0;32m----> 1\u001b[0;31m \u001b[0mmax\u001b[0m\u001b[0;34m(\u001b[0m\u001b[0mnew_dict\u001b[0m\u001b[0;34m.\u001b[0m\u001b[0mvalues\u001b[0m\u001b[0;34m(\u001b[0m\u001b[0;34m)\u001b[0m\u001b[0;34m)\u001b[0m\u001b[0;34m.\u001b[0m\u001b[0mkey\u001b[0m\u001b[0;34m\u001b[0m\u001b[0;34m\u001b[0m\u001b[0m\n\u001b[0m",
      "\u001b[0;31mAttributeError\u001b[0m: 'int' object has no attribute 'key'"
     ]
    }
   ],
   "source": [
    "max(new_dict.values())"
   ]
  },
  {
   "cell_type": "code",
   "execution_count": null,
   "metadata": {},
   "outputs": [],
   "source": [
    "plt.hist(df.rating);"
   ]
  },
  {
   "cell_type": "markdown",
   "metadata": {},
   "source": [
    "## Clean up address column"
   ]
  },
  {
   "cell_type": "code",
   "execution_count": null,
   "metadata": {},
   "outputs": [],
   "source": [
    "#look at format:\n",
    "df.address[0].replace('\\n', ' ')"
   ]
  },
  {
   "cell_type": "code",
   "execution_count": null,
   "metadata": {},
   "outputs": [],
   "source": [
    "df.address[1]"
   ]
  },
  {
   "cell_type": "code",
   "execution_count": null,
   "metadata": {},
   "outputs": [],
   "source": [
    "df.address[2].count('\\n')"
   ]
  },
  {
   "cell_type": "code",
   "execution_count": null,
   "metadata": {},
   "outputs": [],
   "source": [
    "sentence = '\\n428 Greenwich St.\\nNew York, NY 10013\\n212-274-0428\\n'"
   ]
  },
  {
   "cell_type": "code",
   "execution_count": null,
   "metadata": {},
   "outputs": [],
   "source": [
    "len('\\n212-274-0428\\n')"
   ]
  },
  {
   "cell_type": "code",
   "execution_count": null,
   "metadata": {},
   "outputs": [],
   "source": [
    "len(sentence)"
   ]
  },
  {
   "cell_type": "code",
   "execution_count": null,
   "metadata": {},
   "outputs": [],
   "source": [
    "sentence = sentence.replace('\\n', '', 1)\n",
    "sentence = sentence.replace('\\n', ', ', 1)"
   ]
  },
  {
   "cell_type": "code",
   "execution_count": null,
   "metadata": {},
   "outputs": [],
   "source": []
  },
  {
   "cell_type": "code",
   "execution_count": null,
   "metadata": {},
   "outputs": [],
   "source": [
    "df.address[0]"
   ]
  },
  {
   "cell_type": "code",
   "execution_count": null,
   "metadata": {},
   "outputs": [],
   "source": [
    "df.address[2].replace('\\n', '', 1)"
   ]
  },
  {
   "cell_type": "markdown",
   "metadata": {},
   "source": [
    "## Impute Null values"
   ]
  },
  {
   "cell_type": "code",
   "execution_count": null,
   "metadata": {
    "scrolled": true
   },
   "outputs": [],
   "source": [
    "df[df.cost.isnull()]"
   ]
  },
  {
   "cell_type": "code",
   "execution_count": null,
   "metadata": {
    "scrolled": true
   },
   "outputs": [],
   "source": [
    "df[(df['cuisine'] == 'Sandwiches')]['cost'].mean()"
   ]
  },
  {
   "cell_type": "markdown",
   "metadata": {},
   "source": [
    "Because the average for Sandwhich restaurants is 2.0 and on Yelp the cost for this restaurant is 2, I will use 2 as the value."
   ]
  },
  {
   "cell_type": "code",
   "execution_count": null,
   "metadata": {},
   "outputs": [],
   "source": [
    "df.loc[431, 'cost'] = 2.0"
   ]
  },
  {
   "cell_type": "code",
   "execution_count": null,
   "metadata": {},
   "outputs": [],
   "source": [
    "df.info()"
   ]
  },
  {
   "cell_type": "code",
   "execution_count": null,
   "metadata": {},
   "outputs": [],
   "source": [
    "df.duplicated().sum()"
   ]
  },
  {
   "cell_type": "code",
   "execution_count": null,
   "metadata": {},
   "outputs": [],
   "source": [
    "df = df.drop_duplicates()"
   ]
  },
  {
   "cell_type": "code",
   "execution_count": null,
   "metadata": {},
   "outputs": [],
   "source": [
    "df.duplicated().sum()"
   ]
  },
  {
   "cell_type": "markdown",
   "metadata": {},
   "source": [
    "Create new .csv file"
   ]
  },
  {
   "cell_type": "code",
   "execution_count": null,
   "metadata": {},
   "outputs": [],
   "source": [
    "df.to_csv('./cleaned_reviews.csv', index = False)"
   ]
  },
  {
   "cell_type": "code",
   "execution_count": null,
   "metadata": {
    "scrolled": true
   },
   "outputs": [],
   "source": [
    "df.head()"
   ]
  },
  {
   "cell_type": "code",
   "execution_count": null,
   "metadata": {},
   "outputs": [],
   "source": [
    "bronx_zips = [10453, 10457, 10460, 10458, 10467,\n",
    "              10468, 10451, 10452, 10456, 10454, \n",
    "              10455, 10459, 10474, 10463, 10471,\n",
    "              10466, 10469, 10470, 10475, 10461, \n",
    "              10462, 10464, 10465, 10472, 10473]\n",
    "\n",
    "brooklyn_zips = [11212, 11213, 11216, 11233, 11238, 11249,\n",
    "                 11209, 11214, 11228, 11204, 11218, \n",
    "                 11219, 11230, 11234, 11236, 11239, \n",
    "                 11223, 11224, 11229, 11235, 11201, \n",
    "                 11205, 11215, 11217, 11231, 11203, \n",
    "                 11210, 11225, 11226, 11207, 11208, \n",
    "                 11211, 11222, 11220, 11232, 11206, 11221, 11237]\n",
    "\n",
    "queens_zips = [11361, 11362, 11363, 11364, 11354, \n",
    "               11355, 11356, 11357, 11358, 11359, 11360,\n",
    "               11365, 11366, 11367,\n",
    "               11412, 11423, 11432, 11433, 11434, 11435, 11436,\n",
    "               11101, 11102, 11103, 11104, 11105, 11106,\n",
    "               11374, 11375, 11379, 11385, 11691, 11692, 11693, 11694, 11695, 11697,\n",
    "               11004, 11005, 11411, 11413, 11422, 11426, 11427, 11428, 11429,\n",
    "               11414, 11415, 11416, 11417, 11418, 11419, 11420, 11421,\n",
    "               11368, 11369, 11370, 11372, 11373, 11377, 11378]\n",
    "\n",
    "manhattan_zips = [10026, 10027, 10030, 10037, 10039, \n",
    "                  10001, 10011, 10018, 10019, 10020, 10036,\n",
    "                  10029, 10035, 10010, 10016, 10017, 10022,\n",
    "                  10012, 10013, 10014, 10282,\n",
    "                  10004, 10005, 10006, 10007, 10038, 10280,\n",
    "                  10002, 10003, 10009, 10021, 10028, 10044, 10065, 10075, 10128,\n",
    "                  10023, 10024, 10025, 10031, 10032, 10033, 10034, 10040]\n",
    "\n",
    "staten_island_zips = [10302, 10303, 10310, \n",
    "                      10306, 10307, 10308, 10309, 10312,\n",
    "                      10301, 10304, 10305, 10314]\n",
    "\n",
    "jersey_zips = ['07382', '07302']"
   ]
  },
  {
   "cell_type": "code",
   "execution_count": null,
   "metadata": {},
   "outputs": [],
   "source": [
    "manhattan_zips = [str(z) for z in manhattan_zips]\n",
    "brooklyn_zips = [str(z) for z in brooklyn_zips]\n",
    "bronx_zips = [str(z) for z in bronx_zips]\n",
    "queens_zips = [str(z) for z in queens_zips]\n",
    "staten_island_zips = [str(z) for z in staten_island_zips]"
   ]
  },
  {
   "cell_type": "code",
   "execution_count": null,
   "metadata": {},
   "outputs": [],
   "source": [
    "manhattan_zips[0]"
   ]
  },
  {
   "cell_type": "code",
   "execution_count": null,
   "metadata": {},
   "outputs": [],
   "source": [
    "df['borough'] = '0'"
   ]
  },
  {
   "cell_type": "code",
   "execution_count": null,
   "metadata": {},
   "outputs": [],
   "source": [
    "df['zip_code'] = '0'"
   ]
  },
  {
   "cell_type": "code",
   "execution_count": null,
   "metadata": {},
   "outputs": [],
   "source": [
    "df.head()"
   ]
  },
  {
   "cell_type": "code",
   "execution_count": null,
   "metadata": {
    "scrolled": true
   },
   "outputs": [],
   "source": [
    "df.loc[1, 'zip_code'] = '12111'"
   ]
  },
  {
   "cell_type": "code",
   "execution_count": null,
   "metadata": {},
   "outputs": [],
   "source": [
    "df.drop(['borough', 'zip_code'], axis=1, inplace=True)"
   ]
  },
  {
   "cell_type": "code",
   "execution_count": null,
   "metadata": {},
   "outputs": [],
   "source": [
    "#boroughs = []\n",
    "for i, x in enumerate(df['address']):\n",
    "    for z in brooklyn_zips:\n",
    "        print(i, x, z)\n",
    "        if z in x:\n",
    "            df.loc[i, 'borough'] = 'Brooklyn'\n",
    "            df.loc[i, 'zip_code'] = z\n",
    "    for z in manhattan_zips:\n",
    "        if z in x:\n",
    "            df.loc[i, 'borough'] = 'Manhattan'\n",
    "            df.loc[i, 'zip_code'] = z\n",
    "    for z in queens_zips:\n",
    "        if z in x:\n",
    "            df.loc[i, 'borough'] = 'Queens'\n",
    "            df.loc[i, 'zip_code'] = z\n",
    "    for z in bronx_zips:\n",
    "        if z in x:\n",
    "            df.loc[i, 'borough'] = 'Bronx'\n",
    "            df.loc[i, 'zip_code'] = z\n",
    "    for z in staten_island_zips:\n",
    "        if z in x:\n",
    "            df.loc[i, 'borough'] = 'Staten Island'\n",
    "            df.loc[i, 'zip_code'] = z\n",
    "    for z in jersey_zips:\n",
    "        if z in x:\n",
    "            df.loc[i, 'borough'] = 'Jersey City'\n",
    "            df.loc[i, 'zip_code'] = z"
   ]
  },
  {
   "cell_type": "code",
   "execution_count": null,
   "metadata": {},
   "outputs": [],
   "source": [
    "if '10282' in df.loc[52, 'address']:\n",
    "    print('yes it is!')\n",
    "else:\n",
    "    print('Im lying')"
   ]
  },
  {
   "cell_type": "code",
   "execution_count": null,
   "metadata": {
    "scrolled": true
   },
   "outputs": [],
   "source": [
    "df.head()"
   ]
  },
  {
   "cell_type": "code",
   "execution_count": null,
   "metadata": {
    "scrolled": true
   },
   "outputs": [],
   "source": [
    "df['borough'].value_counts()"
   ]
  },
  {
   "cell_type": "code",
   "execution_count": null,
   "metadata": {},
   "outputs": [],
   "source": [
    "len(df['borough'])"
   ]
  },
  {
   "cell_type": "code",
   "execution_count": null,
   "metadata": {},
   "outputs": [],
   "source": []
  },
  {
   "cell_type": "code",
   "execution_count": null,
   "metadata": {},
   "outputs": [],
   "source": [
    "df[df['borough'].isnull()]"
   ]
  },
  {
   "cell_type": "code",
   "execution_count": null,
   "metadata": {},
   "outputs": [],
   "source": [
    "df.head(20)"
   ]
  },
  {
   "cell_type": "code",
   "execution_count": null,
   "metadata": {},
   "outputs": [],
   "source": [
    "df.borough.value_counts()"
   ]
  },
  {
   "cell_type": "code",
   "execution_count": null,
   "metadata": {},
   "outputs": [],
   "source": [
    "def change_width(ax, new_value) :\n",
    "    for patch in ax.patches :\n",
    "        current_width = patch.get_width()\n",
    "        diff = current_width - new_value\n",
    "\n",
    "        # we change the bar width\n",
    "        patch.set_width(new_value)\n",
    "\n",
    "        # we recenter the bar\n",
    "        patch.set_x(patch.get_x() + diff * .5)\n",
    "\n",
    "change_width(ax, .35)"
   ]
  },
  {
   "cell_type": "code",
   "execution_count": null,
   "metadata": {},
   "outputs": [],
   "source": [
    "ax.patches"
   ]
  },
  {
   "cell_type": "code",
   "execution_count": null,
   "metadata": {},
   "outputs": [],
   "source": [
    "sns.set_style('whitegrid')\n",
    "fig, ax = plt.subplots(figsize = (25, 10))\n",
    "sns.countplot(x = df['borough'], ax = ax, palette = \"GnBu_d\", saturation = 0.6)\n",
    "change_width(ax, .35)\n",
    "plt.xticks(fontsize = 30)\n",
    "plt.yticks(fontsize = 30)\n",
    "plt.xlabel('')\n",
    "plt.ylabel('');\n",
    "#plt.show()"
   ]
  },
  {
   "cell_type": "code",
   "execution_count": null,
   "metadata": {},
   "outputs": [],
   "source": [
    "df['cuisine'].value_counts().head(20).index"
   ]
  },
  {
   "cell_type": "code",
   "execution_count": null,
   "metadata": {},
   "outputs": [],
   "source": [
    "\n",
    "\n",
    "sns.set_style('whitegrid')\n",
    "fig, ax = plt.subplots(figsize = (25, 10))\n",
    "plt.bar(df['cuisine'].value_counts().head(20).index, df['cuisine'].value_counts().head(20).values, color = 'darkgrey')\n",
    "change_width(ax, .35)\n",
    "plt.xticks(fontsize = 30, rotation = 90)\n",
    "plt.yticks(fontsize = 30)\n",
    "plt.xlabel('')\n",
    "plt.ylabel('');\n",
    "#plt.show()"
   ]
  },
  {
   "cell_type": "code",
   "execution_count": null,
   "metadata": {},
   "outputs": [],
   "source": []
  }
 ],
 "metadata": {
  "kernelspec": {
   "display_name": "Python 3",
   "language": "python",
   "name": "python3"
  },
  "language_info": {
   "codemirror_mode": {
    "name": "ipython",
    "version": 3
   },
   "file_extension": ".py",
   "mimetype": "text/x-python",
   "name": "python",
   "nbconvert_exporter": "python",
   "pygments_lexer": "ipython3",
   "version": "3.6.8"
  }
 },
 "nbformat": 4,
 "nbformat_minor": 2
}
