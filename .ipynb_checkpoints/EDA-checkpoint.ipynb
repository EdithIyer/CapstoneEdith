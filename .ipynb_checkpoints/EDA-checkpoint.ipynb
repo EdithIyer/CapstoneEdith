{
 "cells": [
  {
   "cell_type": "code",
   "execution_count": 1,
   "metadata": {},
   "outputs": [],
   "source": [
    "# import pandas as pd\n",
    "import numpy as np\n",
    "import seaborn as sns\n",
    "import matplotlib.pyplot as plt\n",
    "\n",
    "%matplotlib inline"
   ]
  },
  {
   "cell_type": "code",
   "execution_count": 18,
   "metadata": {},
   "outputs": [],
   "source": [
    "df = pd.read_csv('./data/infatuation_reviews.csv', lineterminator = '\\n')"
   ]
  },
  {
   "cell_type": "code",
   "execution_count": 19,
   "metadata": {},
   "outputs": [
    {
     "data": {
      "text/html": [
       "<div>\n",
       "<style scoped>\n",
       "    .dataframe tbody tr th:only-of-type {\n",
       "        vertical-align: middle;\n",
       "    }\n",
       "\n",
       "    .dataframe tbody tr th {\n",
       "        vertical-align: top;\n",
       "    }\n",
       "\n",
       "    .dataframe thead th {\n",
       "        text-align: right;\n",
       "    }\n",
       "</style>\n",
       "<table border=\"1\" class=\"dataframe\">\n",
       "  <thead>\n",
       "    <tr style=\"text-align: right;\">\n",
       "      <th></th>\n",
       "      <th>Unnamed: 0</th>\n",
       "      <th>address</th>\n",
       "      <th>cost</th>\n",
       "      <th>cuisine</th>\n",
       "      <th>name</th>\n",
       "      <th>rating</th>\n",
       "      <th>review</th>\n",
       "    </tr>\n",
       "  </thead>\n",
       "  <tbody>\n",
       "    <tr>\n",
       "      <th>0</th>\n",
       "      <td>0</td>\n",
       "      <td>\\n14 Christopher St\\nNew York, NY 10014\\n(212)...</td>\n",
       "      <td>4.0</td>\n",
       "      <td>Japanese</td>\n",
       "      <td>Omakase Room By Tatsu</td>\n",
       "      <td>7.7</td>\n",
       "      <td>Tolerance for group trips can vary widely. Som...</td>\n",
       "    </tr>\n",
       "    <tr>\n",
       "      <th>1</th>\n",
       "      <td>1</td>\n",
       "      <td>\\n428 Greenwich St.\\nNew York, NY 10013\\n212-2...</td>\n",
       "      <td>4.0</td>\n",
       "      <td>Japanese</td>\n",
       "      <td>Sushi Azabu</td>\n",
       "      <td>8.5</td>\n",
       "      <td>When the apocalypse eventually comes for New Y...</td>\n",
       "    </tr>\n",
       "    <tr>\n",
       "      <th>2</th>\n",
       "      <td>2</td>\n",
       "      <td>\\n264 Clinton St\\nNew York, NY 11201\\n(347) 98...</td>\n",
       "      <td>3.0</td>\n",
       "      <td>Seafood</td>\n",
       "      <td>Saint Julivert Fisherie</td>\n",
       "      <td>7.7</td>\n",
       "      <td>When you’re young, you don’t have to think muc...</td>\n",
       "    </tr>\n",
       "    <tr>\n",
       "      <th>3</th>\n",
       "      <td>3</td>\n",
       "      <td>\\n498 9th Ave\\nNew York, NY 10018\\n(646) 863-2...</td>\n",
       "      <td>2.0</td>\n",
       "      <td>Russian</td>\n",
       "      <td>Farida</td>\n",
       "      <td>8.0</td>\n",
       "      <td>There’s a bleak, sweaty place on 34th Street w...</td>\n",
       "    </tr>\n",
       "    <tr>\n",
       "      <th>4</th>\n",
       "      <td>4</td>\n",
       "      <td>\\n541-B Myrtle Avenue\\nNew York, NY 11205\\n(71...</td>\n",
       "      <td>2.0</td>\n",
       "      <td>Sushi</td>\n",
       "      <td>U-Gu</td>\n",
       "      <td>7.7</td>\n",
       "      <td>New York is near an ocean with plenty of free ...</td>\n",
       "    </tr>\n",
       "  </tbody>\n",
       "</table>\n",
       "</div>"
      ],
      "text/plain": [
       "   Unnamed: 0                                            address  cost  \\\n",
       "0           0  \\n14 Christopher St\\nNew York, NY 10014\\n(212)...   4.0   \n",
       "1           1  \\n428 Greenwich St.\\nNew York, NY 10013\\n212-2...   4.0   \n",
       "2           2  \\n264 Clinton St\\nNew York, NY 11201\\n(347) 98...   3.0   \n",
       "3           3  \\n498 9th Ave\\nNew York, NY 10018\\n(646) 863-2...   2.0   \n",
       "4           4  \\n541-B Myrtle Avenue\\nNew York, NY 11205\\n(71...   2.0   \n",
       "\n",
       "    cuisine                     name  rating  \\\n",
       "0  Japanese    Omakase Room By Tatsu     7.7   \n",
       "1  Japanese              Sushi Azabu     8.5   \n",
       "2   Seafood  Saint Julivert Fisherie     7.7   \n",
       "3   Russian                   Farida     8.0   \n",
       "4     Sushi                     U-Gu     7.7   \n",
       "\n",
       "                                              review  \n",
       "0  Tolerance for group trips can vary widely. Som...  \n",
       "1  When the apocalypse eventually comes for New Y...  \n",
       "2  When you’re young, you don’t have to think muc...  \n",
       "3  There’s a bleak, sweaty place on 34th Street w...  \n",
       "4  New York is near an ocean with plenty of free ...  "
      ]
     },
     "execution_count": 19,
     "metadata": {},
     "output_type": "execute_result"
    }
   ],
   "source": [
    "df.head()"
   ]
  },
  {
   "cell_type": "code",
   "execution_count": 20,
   "metadata": {},
   "outputs": [
    {
     "data": {
      "text/plain": [
       "Index(['Unnamed: 0', 'address', 'cost', 'cuisine', 'name', 'rating', 'review'], dtype='object')"
      ]
     },
     "execution_count": 20,
     "metadata": {},
     "output_type": "execute_result"
    }
   ],
   "source": [
    "df.columns"
   ]
  },
  {
   "cell_type": "code",
   "execution_count": 21,
   "metadata": {},
   "outputs": [],
   "source": [
    "df.drop(columns = 'Unnamed: 0', inplace=True)"
   ]
  },
  {
   "cell_type": "code",
   "execution_count": 22,
   "metadata": {},
   "outputs": [
    {
     "data": {
      "text/html": [
       "<div>\n",
       "<style scoped>\n",
       "    .dataframe tbody tr th:only-of-type {\n",
       "        vertical-align: middle;\n",
       "    }\n",
       "\n",
       "    .dataframe tbody tr th {\n",
       "        vertical-align: top;\n",
       "    }\n",
       "\n",
       "    .dataframe thead th {\n",
       "        text-align: right;\n",
       "    }\n",
       "</style>\n",
       "<table border=\"1\" class=\"dataframe\">\n",
       "  <thead>\n",
       "    <tr style=\"text-align: right;\">\n",
       "      <th></th>\n",
       "      <th>address</th>\n",
       "      <th>cost</th>\n",
       "      <th>cuisine</th>\n",
       "      <th>name</th>\n",
       "      <th>rating</th>\n",
       "      <th>review</th>\n",
       "    </tr>\n",
       "  </thead>\n",
       "  <tbody>\n",
       "    <tr>\n",
       "      <th>0</th>\n",
       "      <td>\\n14 Christopher St\\nNew York, NY 10014\\n(212)...</td>\n",
       "      <td>4.0</td>\n",
       "      <td>Japanese</td>\n",
       "      <td>Omakase Room By Tatsu</td>\n",
       "      <td>7.7</td>\n",
       "      <td>Tolerance for group trips can vary widely. Som...</td>\n",
       "    </tr>\n",
       "    <tr>\n",
       "      <th>1</th>\n",
       "      <td>\\n428 Greenwich St.\\nNew York, NY 10013\\n212-2...</td>\n",
       "      <td>4.0</td>\n",
       "      <td>Japanese</td>\n",
       "      <td>Sushi Azabu</td>\n",
       "      <td>8.5</td>\n",
       "      <td>When the apocalypse eventually comes for New Y...</td>\n",
       "    </tr>\n",
       "    <tr>\n",
       "      <th>2</th>\n",
       "      <td>\\n264 Clinton St\\nNew York, NY 11201\\n(347) 98...</td>\n",
       "      <td>3.0</td>\n",
       "      <td>Seafood</td>\n",
       "      <td>Saint Julivert Fisherie</td>\n",
       "      <td>7.7</td>\n",
       "      <td>When you’re young, you don’t have to think muc...</td>\n",
       "    </tr>\n",
       "    <tr>\n",
       "      <th>3</th>\n",
       "      <td>\\n498 9th Ave\\nNew York, NY 10018\\n(646) 863-2...</td>\n",
       "      <td>2.0</td>\n",
       "      <td>Russian</td>\n",
       "      <td>Farida</td>\n",
       "      <td>8.0</td>\n",
       "      <td>There’s a bleak, sweaty place on 34th Street w...</td>\n",
       "    </tr>\n",
       "    <tr>\n",
       "      <th>4</th>\n",
       "      <td>\\n541-B Myrtle Avenue\\nNew York, NY 11205\\n(71...</td>\n",
       "      <td>2.0</td>\n",
       "      <td>Sushi</td>\n",
       "      <td>U-Gu</td>\n",
       "      <td>7.7</td>\n",
       "      <td>New York is near an ocean with plenty of free ...</td>\n",
       "    </tr>\n",
       "  </tbody>\n",
       "</table>\n",
       "</div>"
      ],
      "text/plain": [
       "                                             address  cost   cuisine  \\\n",
       "0  \\n14 Christopher St\\nNew York, NY 10014\\n(212)...   4.0  Japanese   \n",
       "1  \\n428 Greenwich St.\\nNew York, NY 10013\\n212-2...   4.0  Japanese   \n",
       "2  \\n264 Clinton St\\nNew York, NY 11201\\n(347) 98...   3.0   Seafood   \n",
       "3  \\n498 9th Ave\\nNew York, NY 10018\\n(646) 863-2...   2.0   Russian   \n",
       "4  \\n541-B Myrtle Avenue\\nNew York, NY 11205\\n(71...   2.0     Sushi   \n",
       "\n",
       "                      name  rating  \\\n",
       "0    Omakase Room By Tatsu     7.7   \n",
       "1              Sushi Azabu     8.5   \n",
       "2  Saint Julivert Fisherie     7.7   \n",
       "3                   Farida     8.0   \n",
       "4                     U-Gu     7.7   \n",
       "\n",
       "                                              review  \n",
       "0  Tolerance for group trips can vary widely. Som...  \n",
       "1  When the apocalypse eventually comes for New Y...  \n",
       "2  When you’re young, you don’t have to think muc...  \n",
       "3  There’s a bleak, sweaty place on 34th Street w...  \n",
       "4  New York is near an ocean with plenty of free ...  "
      ]
     },
     "execution_count": 22,
     "metadata": {},
     "output_type": "execute_result"
    }
   ],
   "source": [
    "df.head()"
   ]
  },
  {
   "cell_type": "code",
   "execution_count": 23,
   "metadata": {},
   "outputs": [
    {
     "name": "stdout",
     "output_type": "stream",
     "text": [
      "<class 'pandas.core.frame.DataFrame'>\n",
      "RangeIndex: 802 entries, 0 to 801\n",
      "Data columns (total 6 columns):\n",
      "address    802 non-null object\n",
      "cost       801 non-null float64\n",
      "cuisine    802 non-null object\n",
      "name       802 non-null object\n",
      "rating     802 non-null float64\n",
      "review     802 non-null object\n",
      "dtypes: float64(2), object(4)\n",
      "memory usage: 37.7+ KB\n"
     ]
    }
   ],
   "source": [
    "df.info()"
   ]
  },
  {
   "cell_type": "code",
   "execution_count": 24,
   "metadata": {},
   "outputs": [
    {
     "data": {
      "image/png": "[encoded data removed]",
      "text/plain": [
       "<Figure size 432x288 with 1 Axes>"
      ]
     },
     "metadata": {
      "needs_background": "light"
     },
     "output_type": "display_data"
    }
   ],
   "source": [
    "plt.hist(df.rating);"
   ]
  },
  {
   "cell_type": "code",
   "execution_count": 80,
   "metadata": {},
   "outputs": [
    {
     "data": {
      "text/plain": [
       "American             220\n",
       "Japanese              67\n",
       "Italian               54\n",
       "French                43\n",
       "Pizza                 39\n",
       "Mexican               38\n",
       "Bar Food              33\n",
       "Seafood               29\n",
       "Pasta                 24\n",
       "Mediterranean         19\n",
       "Chinese               18\n",
       "Korean                15\n",
       "Spanish               15\n",
       "Sandwiches            13\n",
       "Diner                 12\n",
       "Burgers               12\n",
       "Latin                 12\n",
       "Tacos                 11\n",
       "BBQ                   11\n",
       "Sushi                 10\n",
       "Thai                   9\n",
       "Vegetarian             8\n",
       "Ramen                  8\n",
       "Greek                  7\n",
       "Steaks                 7\n",
       "Fusion                 7\n",
       "Vietnamese             6\n",
       "Wine Bar               6\n",
       "Indian                 5\n",
       "Middle Eastern         5\n",
       "Malaysian              3\n",
       "Russian                3\n",
       "Jamaican               3\n",
       "Cafe/Bakery            3\n",
       "Tex-Mex                2\n",
       "Caribbean              2\n",
       "Fast Food              2\n",
       "Southern               2\n",
       "Peruvian               2\n",
       "East Village           2\n",
       "Raw Bar                2\n",
       "Filipino               1\n",
       "Howard Beach           1\n",
       "Greenpoint             1\n",
       "Ethiopian              1\n",
       "East Williamsburg      1\n",
       "Portuguese             1\n",
       "Argentinian            1\n",
       "Experimental           1\n",
       "Deli                   1\n",
       "Taiwanese              1\n",
       "Australian             1\n",
       "British                1\n",
       "Bagels                 1\n",
       "Name: cuisine, dtype: int64"
      ]
     },
     "execution_count": 80,
     "metadata": {},
     "output_type": "execute_result"
    }
   ],
   "source": [
    "df.cuisine.value_counts()"
   ]
  },
  {
   "cell_type": "markdown",
   "metadata": {},
   "source": [
    "## Clean up address column"
   ]
  },
  {
   "cell_type": "code",
   "execution_count": 39,
   "metadata": {},
   "outputs": [
    {
     "data": {
      "text/plain": [
       "' 14 Christopher St New York, NY 10014 (212) 367-2067 '"
      ]
     },
     "execution_count": 39,
     "metadata": {},
     "output_type": "execute_result"
    }
   ],
   "source": [
    "#look at format:\n",
    "df.address[0].replace('\\n', ' ')"
   ]
  },
  {
   "cell_type": "code",
   "execution_count": 43,
   "metadata": {},
   "outputs": [
    {
     "data": {
      "text/plain": [
       "'\\n428 Greenwich St.\\nNew York, NY 10013\\n212-274-0428\\n'"
      ]
     },
     "execution_count": 43,
     "metadata": {},
     "output_type": "execute_result"
    }
   ],
   "source": [
    "df.address[1]"
   ]
  },
  {
   "cell_type": "code",
   "execution_count": 45,
   "metadata": {},
   "outputs": [
    {
     "data": {
      "text/plain": [
       "4"
      ]
     },
     "execution_count": 45,
     "metadata": {},
     "output_type": "execute_result"
    }
   ],
   "source": [
    "df.address[2].count('\\n')"
   ]
  },
  {
   "cell_type": "code",
   "execution_count": 55,
   "metadata": {},
   "outputs": [],
   "source": [
    "sentence = '\\n428 Greenwich St.\\nNew York, NY 10013\\n212-274-0428\\n'"
   ]
  },
  {
   "cell_type": "code",
   "execution_count": 60,
   "metadata": {},
   "outputs": [
    {
     "data": {
      "text/plain": [
       "14"
      ]
     },
     "execution_count": 60,
     "metadata": {},
     "output_type": "execute_result"
    }
   ],
   "source": [
    "len('\\n212-274-0428\\n')"
   ]
  },
  {
   "cell_type": "code",
   "execution_count": 59,
   "metadata": {},
   "outputs": [
    {
     "data": {
      "text/plain": [
       "51"
      ]
     },
     "execution_count": 59,
     "metadata": {},
     "output_type": "execute_result"
    }
   ],
   "source": [
    "len(sentence)"
   ]
  },
  {
   "cell_type": "code",
   "execution_count": 56,
   "metadata": {},
   "outputs": [
    {
     "data": {
      "text/plain": [
       "'428 Greenwich St.\\nNew York, NY 10013\\n212-274-0428\\n'"
      ]
     },
     "execution_count": 56,
     "metadata": {},
     "output_type": "execute_result"
    }
   ],
   "source": [
    "sentence = sentence.replace('\\n', '', 1)\n",
    "sentence = sentence.replace('\\n', ', ', 1)"
   ]
  },
  {
   "cell_type": "code",
   "execution_count": 57,
   "metadata": {},
   "outputs": [
    {
     "data": {
      "text/plain": [
       "'\\n428 Greenwich St.\\nNew York, NY 10013\\n212-274-0428\\n'"
      ]
     },
     "execution_count": 57,
     "metadata": {},
     "output_type": "execute_result"
    }
   ],
   "source": []
  },
  {
   "cell_type": "code",
   "execution_count": 49,
   "metadata": {},
   "outputs": [
    {
     "data": {
      "text/plain": [
       "'\\n14 Christopher St\\nNew York, NY 10014\\n(212) 367-2067\\n'"
      ]
     },
     "execution_count": 49,
     "metadata": {},
     "output_type": "execute_result"
    }
   ],
   "source": [
    "df.address[0]"
   ]
  },
  {
   "cell_type": "code",
   "execution_count": 51,
   "metadata": {},
   "outputs": [
    {
     "data": {
      "text/plain": [
       "'264 Clinton St\\nNew York, NY 11201\\n(347) 987-3710\\n'"
      ]
     },
     "execution_count": 51,
     "metadata": {},
     "output_type": "execute_result"
    }
   ],
   "source": [
    "df.address[2].replace('\\n', '', 1)"
   ]
  },
  {
   "cell_type": "markdown",
   "metadata": {},
   "source": [
    "## Impute Null values"
   ]
  },
  {
   "cell_type": "code",
   "execution_count": 29,
   "metadata": {
    "scrolled": true
   },
   "outputs": [
    {
     "data": {
      "text/html": [
       "<div>\n",
       "<style scoped>\n",
       "    .dataframe tbody tr th:only-of-type {\n",
       "        vertical-align: middle;\n",
       "    }\n",
       "\n",
       "    .dataframe tbody tr th {\n",
       "        vertical-align: top;\n",
       "    }\n",
       "\n",
       "    .dataframe thead th {\n",
       "        text-align: right;\n",
       "    }\n",
       "</style>\n",
       "<table border=\"1\" class=\"dataframe\">\n",
       "  <thead>\n",
       "    <tr style=\"text-align: right;\">\n",
       "      <th></th>\n",
       "      <th>address</th>\n",
       "      <th>cost</th>\n",
       "      <th>cuisine</th>\n",
       "      <th>name</th>\n",
       "      <th>rating</th>\n",
       "      <th>review</th>\n",
       "    </tr>\n",
       "  </thead>\n",
       "  <tbody>\n",
       "    <tr>\n",
       "      <th>431</th>\n",
       "      <td>\\n165 Amsterdam Ave.\\nNew York, NY 10023\\n212-...</td>\n",
       "      <td>NaN</td>\n",
       "      <td>Sandwiches</td>\n",
       "      <td>Blossom Du Jour</td>\n",
       "      <td>7.2</td>\n",
       "      <td>We at The Infatuation are equal opportunity fo...</td>\n",
       "    </tr>\n",
       "  </tbody>\n",
       "</table>\n",
       "</div>"
      ],
      "text/plain": [
       "                                               address  cost     cuisine  \\\n",
       "431  \\n165 Amsterdam Ave.\\nNew York, NY 10023\\n212-...   NaN  Sandwiches   \n",
       "\n",
       "                name  rating  \\\n",
       "431  Blossom Du Jour     7.2   \n",
       "\n",
       "                                                review  \n",
       "431  We at The Infatuation are equal opportunity fo...  "
      ]
     },
     "execution_count": 29,
     "metadata": {},
     "output_type": "execute_result"
    }
   ],
   "source": [
    "df[df.cost.isnull()]"
   ]
  },
  {
   "cell_type": "code",
   "execution_count": 75,
   "metadata": {
    "scrolled": true
   },
   "outputs": [
    {
     "data": {
      "text/plain": [
       "2.0"
      ]
     },
     "execution_count": 75,
     "metadata": {},
     "output_type": "execute_result"
    }
   ],
   "source": [
    "df[(df['cuisine'] == 'Sandwiches')]['cost'].mean()"
   ]
  },
  {
   "cell_type": "markdown",
   "metadata": {},
   "source": [
    "Because the average for Sandwhich restaurants is 2.0 and on Yelp the cost for this restaurant is 2, I will use 2 as the value."
   ]
  },
  {
   "cell_type": "code",
   "execution_count": 77,
   "metadata": {},
   "outputs": [],
   "source": [
    "df.loc[431, 'cost'] = 2.0"
   ]
  },
  {
   "cell_type": "code",
   "execution_count": 81,
   "metadata": {},
   "outputs": [
    {
     "name": "stdout",
     "output_type": "stream",
     "text": [
      "<class 'pandas.core.frame.DataFrame'>\n",
      "RangeIndex: 802 entries, 0 to 801\n",
      "Data columns (total 6 columns):\n",
      "address    802 non-null object\n",
      "cost       802 non-null float64\n",
      "cuisine    802 non-null object\n",
      "name       802 non-null object\n",
      "rating     802 non-null float64\n",
      "review     802 non-null object\n",
      "dtypes: float64(2), object(4)\n",
      "memory usage: 37.7+ KB\n"
     ]
    }
   ],
   "source": [
    "df.info()"
   ]
  },
  {
   "cell_type": "code",
   "execution_count": 83,
   "metadata": {},
   "outputs": [
    {
     "data": {
      "text/plain": [
       "4"
      ]
     },
     "execution_count": 83,
     "metadata": {},
     "output_type": "execute_result"
    }
   ],
   "source": [
    "df.duplicated().sum()"
   ]
  },
  {
   "cell_type": "code",
   "execution_count": 85,
   "metadata": {},
   "outputs": [],
   "source": [
    "df = df.drop_duplicates()"
   ]
  },
  {
   "cell_type": "code",
   "execution_count": 87,
   "metadata": {},
   "outputs": [
    {
     "data": {
      "text/plain": [
       "0"
      ]
     },
     "execution_count": 87,
     "metadata": {},
     "output_type": "execute_result"
    }
   ],
   "source": [
    "df.duplicated().sum()"
   ]
  },
  {
   "cell_type": "code",
   "execution_count": null,
   "metadata": {},
   "outputs": [],
   "source": []
  }
 ],
 "metadata": {
  "kernelspec": {
   "display_name": "Python 3",
   "language": "python",
   "name": "python3"
  },
  "language_info": {
   "codemirror_mode": {
    "name": "ipython",
    "version": 3
   },
   "file_extension": ".py",
   "mimetype": "text/x-python",
   "name": "python",
   "nbconvert_exporter": "python",
   "pygments_lexer": "ipython3",
   "version": "3.6.8"
  }
 },
 "nbformat": 4,
 "nbformat_minor": 2
}
