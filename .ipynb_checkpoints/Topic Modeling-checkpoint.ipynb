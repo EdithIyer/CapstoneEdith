{
 "cells": [
  {
   "cell_type": "markdown",
   "metadata": {},
   "source": [
    "# Topic Modeling Exploration\n",
    "Topic modeling is a type of unsupervised learning for natural language processing problems that groups observations together by topic. "
   ]
  },
  {
   "cell_type": "markdown",
   "metadata": {},
   "source": [
    "## Imports"
   ]
  },
  {
   "cell_type": "code",
   "execution_count": null,
   "metadata": {},
   "outputs": [],
   "source": [
    "#!pip install spacy"
   ]
  },
  {
   "cell_type": "code",
   "execution_count": null,
   "metadata": {},
   "outputs": [],
   "source": [
    "#!pip install pyLDAvis"
   ]
  },
  {
   "cell_type": "code",
   "execution_count": 1,
   "metadata": {},
   "outputs": [],
   "source": [
    "import re\n",
    "import numpy as np\n",
    "import pandas as pd\n",
    "\n",
    "# Gensim\n",
    "import gensim\n",
    "import gensim.corpora as corpora\n",
    "from gensim.utils import simple_preprocess\n",
    "from gensim.models import CoherenceModel\n",
    "from gensim import models\n",
    "\n",
    "#nltk\n",
    "from nltk import word_tokenize\n",
    "from nltk.corpus import stopwords\n",
    "\n",
    "# spacy for lemmatization\n",
    "import spacy\n",
    "\n",
    "# Plotting tools\n",
    "import pyLDAvis\n",
    "import pyLDAvis.gensim  # don't skip this\n",
    "import matplotlib.pyplot as plt\n",
    "%matplotlib inline\n",
    "\n",
    "# Enable logging for gensim - optional\n",
    "import logging\n",
    "logging.basicConfig(format='%(asctime)s : %(levelname)s : %(message)s', level=logging.ERROR)\n",
    "\n",
    "import warnings\n",
    "warnings.filterwarnings(\"ignore\",category=DeprecationWarning)"
   ]
  },
  {
   "cell_type": "code",
   "execution_count": 2,
   "metadata": {},
   "outputs": [],
   "source": [
    "df = pd.read_csv('./Data/Lemmatized_df.csv')"
   ]
  },
  {
   "cell_type": "code",
   "execution_count": 3,
   "metadata": {},
   "outputs": [
    {
     "data": {
      "text/html": [
       "<div>\n",
       "<style scoped>\n",
       "    .dataframe tbody tr th:only-of-type {\n",
       "        vertical-align: middle;\n",
       "    }\n",
       "\n",
       "    .dataframe tbody tr th {\n",
       "        vertical-align: top;\n",
       "    }\n",
       "\n",
       "    .dataframe thead th {\n",
       "        text-align: right;\n",
       "    }\n",
       "</style>\n",
       "<table border=\"1\" class=\"dataframe\">\n",
       "  <thead>\n",
       "    <tr style=\"text-align: right;\">\n",
       "      <th></th>\n",
       "      <th>rest_cost</th>\n",
       "      <th>cuisine_type</th>\n",
       "      <th>rest_name</th>\n",
       "      <th>rest_rating</th>\n",
       "      <th>rest_review</th>\n",
       "      <th>address_only</th>\n",
       "      <th>rest_borough</th>\n",
       "      <th>rest_zip_code</th>\n",
       "      <th>lemmatized</th>\n",
       "    </tr>\n",
       "  </thead>\n",
       "  <tbody>\n",
       "    <tr>\n",
       "      <th>0</th>\n",
       "      <td>2.0</td>\n",
       "      <td>Pizza</td>\n",
       "      <td>Mama’s Too</td>\n",
       "      <td>8.3</td>\n",
       "      <td>A typical NYC slice shop has a few basic eleme...</td>\n",
       "      <td>2750 Broadway, New York, NY 10025</td>\n",
       "      <td>Manhattan</td>\n",
       "      <td>10025</td>\n",
       "      <td>typical nyc slice shop basic element counter g...</td>\n",
       "    </tr>\n",
       "    <tr>\n",
       "      <th>1</th>\n",
       "      <td>4.0</td>\n",
       "      <td>Japanese</td>\n",
       "      <td>Omakase Room By Tatsu</td>\n",
       "      <td>7.7</td>\n",
       "      <td>Tolerance for group trips can vary widely. Som...</td>\n",
       "      <td>14 Christopher St, New York, NY 10014</td>\n",
       "      <td>Manhattan</td>\n",
       "      <td>10014</td>\n",
       "      <td>tolerance group trip vary widely people intern...</td>\n",
       "    </tr>\n",
       "    <tr>\n",
       "      <th>2</th>\n",
       "      <td>4.0</td>\n",
       "      <td>Japanese</td>\n",
       "      <td>Sushi Azabu</td>\n",
       "      <td>8.5</td>\n",
       "      <td>When the apocalypse eventually comes for New Y...</td>\n",
       "      <td>428 Greenwich St., New York, NY 10013</td>\n",
       "      <td>Manhattan</td>\n",
       "      <td>10013</td>\n",
       "      <td>apocalypse eventually come new york city going...</td>\n",
       "    </tr>\n",
       "    <tr>\n",
       "      <th>3</th>\n",
       "      <td>3.0</td>\n",
       "      <td>Seafood</td>\n",
       "      <td>Saint Julivert Fisherie</td>\n",
       "      <td>7.7</td>\n",
       "      <td>When you’re young, you don’t have to think muc...</td>\n",
       "      <td>264 Clinton St, New York, NY 11201</td>\n",
       "      <td>Brooklyn</td>\n",
       "      <td>11201</td>\n",
       "      <td>young think much decision know attempt deep en...</td>\n",
       "    </tr>\n",
       "    <tr>\n",
       "      <th>4</th>\n",
       "      <td>2.0</td>\n",
       "      <td>Russian</td>\n",
       "      <td>Farida</td>\n",
       "      <td>8.0</td>\n",
       "      <td>There’s a bleak, sweaty place on 34th Street w...</td>\n",
       "      <td>498 9th Ave, New York, NY 10018</td>\n",
       "      <td>Manhattan</td>\n",
       "      <td>10018</td>\n",
       "      <td>bleak sweaty place 34th street adult run 6 yar...</td>\n",
       "    </tr>\n",
       "  </tbody>\n",
       "</table>\n",
       "</div>"
      ],
      "text/plain": [
       "   rest_cost cuisine_type                rest_name  rest_rating  \\\n",
       "0        2.0        Pizza               Mama’s Too          8.3   \n",
       "1        4.0     Japanese    Omakase Room By Tatsu          7.7   \n",
       "2        4.0     Japanese              Sushi Azabu          8.5   \n",
       "3        3.0      Seafood  Saint Julivert Fisherie          7.7   \n",
       "4        2.0      Russian                   Farida          8.0   \n",
       "\n",
       "                                         rest_review  \\\n",
       "0  A typical NYC slice shop has a few basic eleme...   \n",
       "1  Tolerance for group trips can vary widely. Som...   \n",
       "2  When the apocalypse eventually comes for New Y...   \n",
       "3  When you’re young, you don’t have to think muc...   \n",
       "4  There’s a bleak, sweaty place on 34th Street w...   \n",
       "\n",
       "                            address_only rest_borough  rest_zip_code  \\\n",
       "0      2750 Broadway, New York, NY 10025    Manhattan          10025   \n",
       "1  14 Christopher St, New York, NY 10014    Manhattan          10014   \n",
       "2  428 Greenwich St., New York, NY 10013    Manhattan          10013   \n",
       "3     264 Clinton St, New York, NY 11201     Brooklyn          11201   \n",
       "4        498 9th Ave, New York, NY 10018    Manhattan          10018   \n",
       "\n",
       "                                          lemmatized  \n",
       "0  typical nyc slice shop basic element counter g...  \n",
       "1  tolerance group trip vary widely people intern...  \n",
       "2  apocalypse eventually come new york city going...  \n",
       "3  young think much decision know attempt deep en...  \n",
       "4  bleak sweaty place 34th street adult run 6 yar...  "
      ]
     },
     "execution_count": 3,
     "metadata": {},
     "output_type": "execute_result"
    }
   ],
   "source": [
    "df.head()"
   ]
  },
  {
   "cell_type": "markdown",
   "metadata": {},
   "source": [
    "# Text Preprocessing\n",
    "Topic modeling with gensim and spaCy is different than other other NLP preprocessing and unsupervised learning techniques I've worked with in the past. This is because the libraries offer different capabilities. The process for preparing data is:\n",
    "1. Create a list of the documents to analyze\n",
    "2. Tokenize each document\n",
    "3. Clean text - remove stopwords, punctuation and non-alphabetical characters\n",
    "4. Create a gensim `Dictionary` object: this is a way of keeping track of words with a numeric id.\n",
    "5. Create a gensim `Corpus` using gensim's `doc2bow`. This is a list of tuples for each document that refers to the numeric id and how many times it appears in that document.<br>\n",
    "\n",
    "Below, I have created a function that does all the text preprocesseing and returns the variables I am interested in keeping. I have also shown how to do this step by step.\n"
   ]
  },
  {
   "cell_type": "markdown",
   "metadata": {},
   "source": [
    "#### 1. Create a list of the documents to analyze"
   ]
  },
  {
   "cell_type": "code",
   "execution_count": 4,
   "metadata": {},
   "outputs": [],
   "source": [
    "data = list(df['rest_review'].values)"
   ]
  },
  {
   "cell_type": "code",
   "execution_count": 5,
   "metadata": {},
   "outputs": [],
   "source": [
    "#create a variable for the length of the data\n",
    "data_len = len(data)"
   ]
  },
  {
   "cell_type": "markdown",
   "metadata": {},
   "source": [
    "#### 2. Tokenize each document"
   ]
  },
  {
   "cell_type": "code",
   "execution_count": 6,
   "metadata": {},
   "outputs": [],
   "source": [
    "def clean_text(text):\n",
    "    tokenized_text = word_tokenize(text.lower())\n",
    "    cleaned_text = [t for t in tokenized_text if t not in STOPWORDS and re.match('[a-zA-Z\\-][a-zA-Z\\-]{2,}', t)]\n",
    "    return cleaned_text"
   ]
  },
  {
   "cell_type": "code",
   "execution_count": 7,
   "metadata": {},
   "outputs": [],
   "source": [
    "STOPWORDS = stopwords.words('english')"
   ]
  },
  {
   "cell_type": "markdown",
   "metadata": {},
   "source": [
    "#### 3. Clean text - remove stopwords, punctuation and non-alphabetical characters"
   ]
  },
  {
   "cell_type": "code",
   "execution_count": 8,
   "metadata": {},
   "outputs": [],
   "source": [
    "# For gensim we need to tokenize the data and filter out stopwords\n",
    "tokenized_cleaned = []\n",
    "for review in data:\n",
    "    tokenized_cleaned.append(clean_text(review))"
   ]
  },
  {
   "cell_type": "markdown",
   "metadata": {},
   "source": [
    "#### 4. Create a gensim `Dictionary` object: this is a way of keeping track of words with a numeric id."
   ]
  },
  {
   "cell_type": "code",
   "execution_count": 9,
   "metadata": {},
   "outputs": [],
   "source": [
    "# Build a Dictionary - association word to numeric id\n",
    "dictionary = corpora.Dictionary(tokenized_cleaned)"
   ]
  },
  {
   "cell_type": "markdown",
   "metadata": {},
   "source": [
    "#### 5. Create a gensim `Corpus` using gensim's `doc2bow`. This is a list of tuples for each document that refers to the numeric id and how many times it appears in that document."
   ]
  },
  {
   "cell_type": "code",
   "execution_count": 10,
   "metadata": {},
   "outputs": [],
   "source": [
    "# Transform the collection of texts to a numerical form\n",
    "corpus = [dictionary.doc2bow(text) for text in tokenized_cleaned]"
   ]
  },
  {
   "cell_type": "code",
   "execution_count": 11,
   "metadata": {
    "scrolled": false
   },
   "outputs": [
    {
     "name": "stdout",
     "output_type": "stream",
     "text": [
      "[(1, 1), (36, 2), (46, 2), (51, 1), (53, 1), (54, 1), (55, 2), (65, 5), (66, 2), (75, 1), (78, 1), (84, 2), (85, 1), (87, 1), (90, 11), (98, 1), (102, 1), (104, 1), (110, 2), (115, 3), (122, 1), (128, 3), (129, 1), (140, 1), (154, 1), (157, 1), (160, 1), (167, 1), (176, 2), (177, 1), (178, 1), (181, 1), (186, 1), (188, 1), (189, 1), (191, 1), (195, 1), (199, 1), (202, 1), (214, 1), (218, 3), (244, 1), (246, 3), (251, 2), (255, 1), (256, 1), (266, 1), (279, 2), (283, 3), (294, 2), (296, 4), (304, 3), (318, 5), (319, 1), (321, 1), (328, 3), (337, 2), (338, 1), (347, 1), (351, 1), (353, 1), (354, 1), (356, 1), (360, 2), (367, 1), (378, 1), (389, 2), (401, 1), (408, 1), (409, 1), (413, 1), (420, 2), (424, 1), (427, 1), (434, 1), (436, 1), (447, 1), (448, 1), (450, 1), (456, 3), (465, 3), (477, 1), (483, 1), (484, 2), (494, 1), (502, 1), (515, 1), (527, 1), (529, 1), (530, 1), (538, 1), (552, 1), (564, 1), (569, 1), (573, 1), (583, 1), (590, 1), (593, 1), (604, 1), (616, 1), (624, 1), (633, 1), (634, 1), (640, 1), (654, 1), (661, 1), (669, 1), (709, 2), (719, 2), (722, 1), (726, 2), (745, 1), (746, 1), (753, 1), (813, 1), (814, 1), (828, 1), (878, 1), (887, 2), (939, 1), (952, 1), (1017, 1), (1028, 1), (1136, 1), (1149, 1), (1160, 1), (1180, 1), (1211, 1), (1212, 1), (1223, 1), (1232, 2), (1233, 1), (1248, 1), (1253, 1), (1311, 1), (1323, 3), (1357, 1), (1392, 1), (1425, 1), (1426, 1), (1437, 1), (1440, 1), (1555, 1), (1573, 1), (1587, 1), (1641, 1), (1697, 1), (1746, 1), (1748, 2), (1771, 1), (1780, 1), (1793, 1), (1803, 1), (1814, 1), (1826, 1), (1888, 5), (1919, 2), (1941, 1), (1966, 1), (2036, 1), (2041, 1), (2044, 2), (2086, 1), (2203, 2), (2213, 1), (2214, 1), (2215, 1), (2216, 1), (2217, 5), (2218, 1), (2219, 1), (2220, 1), (2221, 1), (2222, 1), (2223, 1), (2224, 1), (2225, 1), (2226, 1), (2227, 1), (2228, 1), (2229, 1), (2230, 1), (2231, 1), (2232, 1), (2233, 1), (2234, 1), (2235, 1), (2236, 1), (2237, 1), (2238, 1), (2239, 1), (2240, 1), (2241, 1), (2242, 1), (2243, 1), (2244, 1), (2245, 1), (2246, 1), (2247, 1), (2248, 1), (2249, 1), (2250, 1), (2251, 1), (2252, 1), (2253, 1), (2254, 1), (2255, 1), (2256, 1), (2257, 1), (2258, 1), (2259, 1), (2260, 1), (2261, 1), (2262, 1), (2263, 1), (2264, 1), (2265, 1), (2266, 1), (2267, 1), (2268, 1), (2269, 1), (2270, 1), (2271, 1), (2272, 1), (2273, 1), (2274, 1), (2275, 1), (2276, 1), (2277, 2), (2278, 1), (2279, 1), (2280, 1), (2281, 1), (2282, 1), (2283, 1), (2284, 2), (2285, 1), (2286, 1), (2287, 1), (2288, 3), (2289, 1), (2290, 1), (2291, 1), (2292, 1), (2293, 5), (2294, 1), (2295, 1), (2296, 1), (2297, 1), (2298, 2), (2299, 1), (2300, 1), (2301, 1), (2302, 1), (2303, 1), (2304, 1), (2305, 1), (2306, 1), (2307, 1), (2308, 2), (2309, 1), (2310, 1), (2311, 1), (2312, 1), (2313, 1), (2314, 1)]\n"
     ]
    }
   ],
   "source": [
    "#Example of how the corpus looks\n",
    "print(corpus[20])"
   ]
  },
  {
   "cell_type": "markdown",
   "metadata": {},
   "source": [
    "#### Function to complete text preprocessing"
   ]
  },
  {
   "cell_type": "code",
   "execution_count": 13,
   "metadata": {},
   "outputs": [],
   "source": [
    "def topic_model_preprocess(text, STOPWORDS):\n",
    "    #tokenize text\n",
    "    tokenized_cleaned = []\n",
    "    for review in text:\n",
    "        tokenized_text = word_tokenize(review.lower()) #word_tokenize is an nltk function\n",
    "    \n",
    "    #clean text\n",
    "        cleaned_text = [t for t in tokenized_text if t not in STOPWORDS and re.match('[a-zA-Z\\-][a-zA-Z\\-]{2,}', t)]\n",
    "    \n",
    "    #List of lists\n",
    "        tokenized_cleaned.append(cleaned_text)\n",
    "        \n",
    "    #Create dictionary\n",
    "    dictionary = corpora.Dictionary(tokenized_cleaned)\n",
    "    \n",
    "    #Create corpus\n",
    "    corpus = [dictionary.doc2bow(word) for word in tokenized_cleaned]\n",
    "    \n",
    "    return dictionary, corpus\n",
    "    "
   ]
  },
  {
   "cell_type": "code",
   "execution_count": 14,
   "metadata": {},
   "outputs": [],
   "source": [
    "d_trial, c_trial = topic_model_preprocess(data, STOPWORDS)"
   ]
  },
  {
   "cell_type": "markdown",
   "metadata": {},
   "source": [
    "### Build the Model\n",
    "The necessary arguments are:\n",
    "- `corpus`\n",
    "- `num_topics`\n",
    "- `id2word` "
   ]
  },
  {
   "cell_type": "code",
   "execution_count": 16,
   "metadata": {},
   "outputs": [],
   "source": [
    "# Build the LDA model\n",
    "lda_model = models.LdaModel(corpus=corpus, \n",
    "                            num_topics=10, #10 Topics\n",
    "                            id2word=dictionary,\n",
    "                            random_state=100,\n",
    "                            update_every=1,\n",
    "                            chunksize=100,\n",
    "                            passes=10,\n",
    "                            alpha='auto',\n",
    "                            per_word_topics=True)"
   ]
  },
  {
   "cell_type": "code",
   "execution_count": 17,
   "metadata": {},
   "outputs": [
    {
     "name": "stdout",
     "output_type": "stream",
     "text": [
      "[(0, '0.028*\"pizza\" + 0.015*\"slice\" + 0.008*\"pie\" + 0.008*\"line\" + 0.006*\"game\" + 0.006*\"oven\" + 0.006*\"pies\" + 0.006*\"porchetta\" + 0.005*\"hype\" + 0.005*\"expected\"'), (1, '0.018*\"artichoke\" + 0.009*\"ribbon\" + 0.008*\"caracas\" + 0.006*\"fast\" + 0.005*\"fajitas\" + 0.005*\"establishments\" + 0.005*\"abc\" + 0.005*\"arepas\" + 0.005*\"salsa\" + 0.005*\"box\"'), (2, '0.041*\"ramen\" + 0.010*\"broth\" + 0.009*\"thai\" + 0.008*\"noodle\" + 0.007*\"flex\" + 0.007*\"ippudo\" + 0.007*\"noodles\" + 0.006*\"totto\" + 0.006*\"soup\" + 0.005*\"dropped\"'), (3, '0.014*\"like\" + 0.012*\"food\" + 0.012*\"restaurant\" + 0.011*\"good\" + 0.011*\"one\" + 0.010*\"place\" + 0.008*\"get\" + 0.007*\"new\" + 0.007*\"people\" + 0.007*\"also\"'), (4, '0.020*\"lobster\" + 0.013*\"chicken\" + 0.010*\"roll\" + 0.007*\"blue\" + 0.007*\"salad\" + 0.007*\"crazy\" + 0.006*\"mussels\" + 0.006*\"burger\" + 0.006*\"bone\" + 0.006*\"fried\"'), (5, '0.026*\"sushi\" + 0.013*\"fish\" + 0.008*\"japanese\" + 0.006*\"per\" + 0.005*\"decor\" + 0.004*\"midtown\" + 0.004*\"pieces\" + 0.004*\"gari\" + 0.004*\"tuna\" + 0.004*\"reviews\"'), (6, '0.015*\"burger\" + 0.009*\"shack\" + 0.007*\"joe\" + 0.006*\"steak\" + 0.006*\"fans\" + 0.006*\"dumplings\" + 0.005*\"burgers\" + 0.005*\"tap\" + 0.005*\"crispo\" + 0.005*\"shake\"'), (7, '0.017*\"greek\" + 0.014*\"brunch\" + 0.007*\"pylos\" + 0.005*\"hit\" + 0.005*\"blue\" + 0.005*\"standard\" + 0.005*\"thirty\" + 0.004*\"liked\" + 0.004*\"authentic\" + 0.004*\"bourbon\"'), (8, '0.014*\"bbq\" + 0.009*\"blt\" + 0.008*\"ribs\" + 0.007*\"brisket\" + 0.007*\"prime\" + 0.006*\"supposed\" + 0.005*\"joint\" + 0.005*\"strike\" + 0.005*\"steaks\" + 0.005*\"meatball\"'), (9, '0.028*\"mexican\" + 0.027*\"tacos\" + 0.018*\"midtown\" + 0.015*\"paella\" + 0.014*\"taco\" + 0.012*\"bobo\" + 0.011*\"mole\" + 0.009*\"lindo\" + 0.005*\"sleep\" + 0.005*\"pickles\"')]\n"
     ]
    }
   ],
   "source": [
    "# Print the Keywords for each of the 10 topics\n",
    "print(lda_model.print_topics())\n",
    "doc_lda = lda_model[corpus]"
   ]
  },
  {
   "cell_type": "code",
   "execution_count": 18,
   "metadata": {},
   "outputs": [
    {
     "name": "stdout",
     "output_type": "stream",
     "text": [
      "\n",
      "Perplexity:  -8.28319857337966\n",
      "\n",
      "Coherence Score:  0.43562434498342484\n"
     ]
    }
   ],
   "source": [
    "# Compute Perplexity\n",
    "print('\\nPerplexity: ', lda_model.log_perplexity(corpus))  # a measure of how good the model is. lower the better.\n",
    "\n",
    "# Compute Coherence Score\n",
    "coherence_model_lda = CoherenceModel(model=lda_model, texts=tokenized_cleaned, dictionary=dictionary, coherence='c_v')\n",
    "coherence_lda = coherence_model_lda.get_coherence()\n",
    "print('\\nCoherence Score: ', coherence_lda)"
   ]
  },
  {
   "cell_type": "code",
   "execution_count": 19,
   "metadata": {},
   "outputs": [
    {
     "name": "stderr",
     "output_type": "stream",
     "text": [
      "/Users/edithiyerhernandez/anaconda3/lib/python3.6/site-packages/pyLDAvis/_prepare.py:257: FutureWarning: Sorting because non-concatenation axis is not aligned. A future version\n",
      "of pandas will change to not sort by default.\n",
      "\n",
      "To accept the future behavior, pass 'sort=False'.\n",
      "\n",
      "To retain the current behavior and silence the warning, pass 'sort=True'.\n",
      "\n",
      "  return pd.concat([default_term_info] + list(topic_dfs))\n"
     ]
    },
    {
     "data": {
      "text/html": [
       "\n",
       "<link rel=\"stylesheet\" type=\"text/css\" href=\"https://cdn.rawgit.com/bmabey/pyLDAvis/files/ldavis.v1.0.0.css\">\n",
       "\n",
       "\n",
       "<div id=\"ldavis_el3393849195208565813911095\"></div>\n",
       "<script type=\"text/javascript\">\n",
       "\n",
       "var ldavis_el3393849195208565813911095_data = {\"mdsDat\": {\"x\": [0.418509266644252, 0.005260764385388715, 0.06608873532136807, -0.05920687153389922, -0.06365436903759049, -0.06524787427837696, -0.0593927283600942, -0.08839162818003013, -0.07630910488484019, -0.07765619007617691], \"y\": [-0.0544761415100037, -0.15640990093185694, 0.2873345883213909, -0.05465631977621555, -0.0016116784096752085, 0.006093065688681556, -0.016325848987576348, 0.003820150524464043, -0.007546357189228894, -0.006221557729980003], \"topics\": [1, 2, 3, 4, 5, 6, 7, 8, 9, 10], \"cluster\": [1, 1, 1, 1, 1, 1, 1, 1, 1, 1], \"Freq\": [71.79154205322266, 4.67445707321167, 4.622446060180664, 3.992993116378784, 3.393425464630127, 3.1175549030303955, 2.8013625144958496, 2.178844928741455, 1.787282109260559, 1.640091896057129]}, \"tinfo\": {\"Category\": [\"Default\", \"Default\", \"Default\", \"Default\", \"Default\", \"Default\", \"Default\", \"Default\", \"Default\", \"Default\", \"Default\", \"Default\", \"Default\", \"Default\", \"Default\", \"Default\", \"Default\", \"Default\", \"Default\", \"Default\", \"Default\", \"Default\", \"Default\", \"Default\", \"Default\", \"Default\", \"Default\", \"Default\", \"Default\", \"Default\", \"Topic1\", \"Topic1\", \"Topic1\", \"Topic1\", \"Topic1\", \"Topic1\", \"Topic1\", \"Topic1\", \"Topic1\", \"Topic1\", \"Topic1\", \"Topic1\", \"Topic1\", \"Topic1\", \"Topic1\", \"Topic1\", \"Topic1\", \"Topic1\", \"Topic1\", \"Topic1\", \"Topic1\", \"Topic1\", \"Topic1\", \"Topic1\", \"Topic1\", \"Topic1\", \"Topic1\", \"Topic1\", \"Topic1\", \"Topic1\", \"Topic1\", \"Topic1\", \"Topic1\", \"Topic1\", \"Topic1\", \"Topic1\", \"Topic1\", \"Topic1\", \"Topic1\", \"Topic1\", \"Topic1\", \"Topic1\", \"Topic1\", \"Topic1\", \"Topic1\", \"Topic1\", \"Topic1\", \"Topic2\", \"Topic2\", \"Topic2\", \"Topic2\", \"Topic2\", \"Topic2\", \"Topic2\", \"Topic2\", \"Topic2\", \"Topic2\", \"Topic2\", \"Topic2\", \"Topic2\", \"Topic2\", \"Topic2\", \"Topic2\", \"Topic2\", \"Topic2\", \"Topic2\", \"Topic2\", \"Topic2\", \"Topic2\", \"Topic2\", \"Topic2\", \"Topic2\", \"Topic2\", \"Topic2\", \"Topic2\", \"Topic2\", \"Topic2\", \"Topic2\", \"Topic2\", \"Topic2\", \"Topic2\", \"Topic2\", \"Topic2\", \"Topic2\", \"Topic2\", \"Topic2\", \"Topic2\", \"Topic2\", \"Topic2\", \"Topic2\", \"Topic2\", \"Topic2\", \"Topic2\", \"Topic2\", \"Topic3\", \"Topic3\", \"Topic3\", \"Topic3\", \"Topic3\", \"Topic3\", \"Topic3\", \"Topic3\", \"Topic3\", \"Topic3\", \"Topic3\", \"Topic3\", \"Topic3\", \"Topic3\", \"Topic3\", \"Topic3\", \"Topic3\", \"Topic3\", \"Topic3\", \"Topic3\", \"Topic3\", \"Topic3\", \"Topic3\", \"Topic3\", \"Topic3\", \"Topic3\", \"Topic3\", \"Topic3\", \"Topic3\", \"Topic3\", \"Topic3\", \"Topic3\", \"Topic3\", \"Topic3\", \"Topic3\", \"Topic3\", \"Topic3\", \"Topic3\", \"Topic3\", \"Topic3\", \"Topic3\", \"Topic3\", \"Topic3\", \"Topic3\", \"Topic3\", \"Topic4\", \"Topic4\", \"Topic4\", \"Topic4\", \"Topic4\", \"Topic4\", \"Topic4\", \"Topic4\", \"Topic4\", \"Topic4\", \"Topic4\", \"Topic4\", \"Topic4\", \"Topic4\", \"Topic4\", \"Topic4\", \"Topic4\", \"Topic4\", \"Topic4\", \"Topic4\", \"Topic4\", \"Topic4\", \"Topic4\", \"Topic4\", \"Topic4\", \"Topic4\", \"Topic4\", \"Topic4\", \"Topic4\", \"Topic4\", \"Topic4\", \"Topic4\", \"Topic4\", \"Topic4\", \"Topic4\", \"Topic4\", \"Topic4\", \"Topic4\", \"Topic4\", \"Topic4\", \"Topic4\", \"Topic4\", \"Topic4\", \"Topic4\", \"Topic4\", \"Topic4\", \"Topic4\", \"Topic4\", \"Topic4\", \"Topic4\", \"Topic4\", \"Topic4\", \"Topic5\", \"Topic5\", \"Topic5\", \"Topic5\", \"Topic5\", \"Topic5\", \"Topic5\", \"Topic5\", \"Topic5\", \"Topic5\", \"Topic5\", \"Topic5\", \"Topic5\", \"Topic5\", \"Topic5\", \"Topic5\", \"Topic5\", \"Topic5\", \"Topic5\", \"Topic5\", \"Topic5\", \"Topic5\", \"Topic5\", \"Topic5\", \"Topic5\", \"Topic5\", \"Topic5\", \"Topic5\", \"Topic5\", \"Topic5\", \"Topic5\", \"Topic5\", \"Topic5\", \"Topic5\", \"Topic5\", \"Topic5\", \"Topic5\", \"Topic5\", \"Topic5\", \"Topic5\", \"Topic5\", \"Topic5\", \"Topic5\", \"Topic5\", \"Topic5\", \"Topic5\", \"Topic5\", \"Topic5\", \"Topic6\", \"Topic6\", \"Topic6\", \"Topic6\", \"Topic6\", \"Topic6\", \"Topic6\", \"Topic6\", \"Topic6\", \"Topic6\", \"Topic6\", \"Topic6\", \"Topic6\", \"Topic6\", \"Topic6\", \"Topic6\", \"Topic6\", \"Topic6\", \"Topic6\", \"Topic6\", \"Topic6\", \"Topic6\", \"Topic6\", \"Topic6\", \"Topic6\", \"Topic6\", \"Topic6\", \"Topic6\", \"Topic6\", \"Topic6\", \"Topic6\", \"Topic6\", \"Topic6\", \"Topic6\", \"Topic6\", \"Topic6\", \"Topic6\", \"Topic6\", \"Topic6\", \"Topic7\", \"Topic7\", \"Topic7\", \"Topic7\", \"Topic7\", \"Topic7\", \"Topic7\", \"Topic7\", \"Topic7\", \"Topic7\", \"Topic7\", \"Topic7\", \"Topic7\", \"Topic7\", \"Topic7\", \"Topic7\", \"Topic7\", \"Topic7\", \"Topic7\", \"Topic7\", \"Topic7\", \"Topic7\", \"Topic7\", \"Topic7\", \"Topic7\", \"Topic7\", \"Topic7\", \"Topic7\", \"Topic7\", \"Topic7\", \"Topic7\", \"Topic7\", \"Topic7\", \"Topic7\", \"Topic7\", \"Topic7\", \"Topic7\", \"Topic7\", \"Topic7\", \"Topic7\", \"Topic7\", \"Topic7\", \"Topic7\", \"Topic7\", \"Topic7\", \"Topic7\", \"Topic7\", \"Topic7\", \"Topic7\", \"Topic8\", \"Topic8\", \"Topic8\", \"Topic8\", \"Topic8\", \"Topic8\", \"Topic8\", \"Topic8\", \"Topic8\", \"Topic8\", \"Topic8\", \"Topic8\", \"Topic8\", \"Topic8\", \"Topic8\", \"Topic8\", \"Topic8\", \"Topic8\", \"Topic8\", \"Topic8\", \"Topic8\", \"Topic8\", \"Topic8\", \"Topic8\", \"Topic8\", \"Topic8\", \"Topic8\", \"Topic8\", \"Topic8\", \"Topic8\", \"Topic8\", \"Topic8\", \"Topic8\", \"Topic8\", \"Topic8\", \"Topic8\", \"Topic8\", \"Topic8\", \"Topic8\", \"Topic8\", \"Topic8\", \"Topic8\", \"Topic8\", \"Topic8\", \"Topic8\", \"Topic8\", \"Topic8\", \"Topic8\", \"Topic8\", \"Topic9\", \"Topic9\", \"Topic9\", \"Topic9\", \"Topic9\", \"Topic9\", \"Topic9\", \"Topic9\", \"Topic9\", \"Topic9\", \"Topic9\", \"Topic9\", \"Topic9\", \"Topic9\", \"Topic9\", \"Topic9\", \"Topic9\", \"Topic9\", \"Topic9\", \"Topic9\", \"Topic9\", \"Topic9\", \"Topic9\", \"Topic9\", \"Topic9\", \"Topic9\", \"Topic9\", \"Topic9\", \"Topic9\", \"Topic9\", \"Topic9\", \"Topic9\", \"Topic9\", \"Topic9\", \"Topic9\", \"Topic9\", \"Topic9\", \"Topic9\", \"Topic9\", \"Topic9\", \"Topic9\", \"Topic9\", \"Topic9\", \"Topic9\", \"Topic10\", \"Topic10\", \"Topic10\", \"Topic10\", \"Topic10\", \"Topic10\", \"Topic10\", \"Topic10\", \"Topic10\", \"Topic10\", \"Topic10\", \"Topic10\", \"Topic10\", \"Topic10\", \"Topic10\", \"Topic10\", \"Topic10\", \"Topic10\", \"Topic10\", \"Topic10\", \"Topic10\", \"Topic10\", \"Topic10\", \"Topic10\", \"Topic10\", \"Topic10\", \"Topic10\", \"Topic10\", \"Topic10\", \"Topic10\", \"Topic10\", \"Topic10\", \"Topic10\", \"Topic10\", \"Topic10\", \"Topic10\", \"Topic10\", \"Topic10\"], \"Freq\": [238.0, 173.0, 219.0, 161.0, 119.0, 154.0, 169.0, 90.0, 382.0, 115.0, 107.0, 79.0, 497.0, 347.0, 1117.0, 1190.0, 126.0, 93.0, 125.0, 373.0, 174.0, 1015.0, 103.0, 172.0, 1094.0, 1412.0, 96.0, 323.0, 71.0, 64.0, 1117.0162353515625, 1014.7901611328125, 642.7317504882812, 596.5828247070312, 1189.1282958984375, 451.1390380859375, 433.73358154296875, 1093.055908203125, 475.26031494140625, 381.5247802734375, 355.14434814453125, 351.3680419921875, 367.1963806152344, 327.48504638671875, 326.4679260253906, 387.7175598144531, 302.5003967285156, 333.3461608886719, 297.0573425292969, 283.863037109375, 298.59503173828125, 412.0305480957031, 268.5291748046875, 265.92498779296875, 445.5099792480469, 261.49884033203125, 261.36279296875, 270.8904113769531, 258.98138427734375, 259.851806640625, 1402.020263671875, 1042.7562255859375, 645.8548583984375, 611.8629760742188, 657.1755981445312, 531.4092407226562, 386.60418701171875, 336.1646423339844, 384.3551330566406, 681.0298461914062, 733.5146484375, 513.297119140625, 398.3626403808594, 433.21197509765625, 414.90313720703125, 475.97442626953125, 370.8606262207031, 160.57760620117188, 29.198396682739258, 27.755556106567383, 25.813695907592773, 24.160860061645508, 23.298507690429688, 22.256610870361328, 22.180944442749023, 20.914888381958008, 20.40987205505371, 19.43987464904785, 19.413545608520508, 17.953861236572266, 17.874109268188477, 17.85712432861328, 17.81702423095703, 17.793790817260742, 15.029640197753906, 14.91015338897705, 14.595967292785645, 14.316341400146484, 14.314032554626465, 14.050317764282227, 36.50732421875, 13.652656555175781, 12.95534896850586, 12.611922264099121, 12.568117141723633, 12.366377830505371, 12.099414825439453, 51.45792770385742, 24.091629028320312, 14.70923137664795, 22.197790145874023, 14.711668014526367, 23.01704216003418, 81.22950744628906, 23.598793029785156, 19.91529083251953, 25.049758911132812, 18.29836654663086, 28.019359588623047, 23.144142150878906, 23.898540496826172, 20.253826141357422, 17.892301559448242, 17.872636795043945, 173.1171112060547, 92.59368133544922, 51.89812469482422, 36.14077377319336, 35.574588775634766, 28.59378433227539, 25.544841766357422, 27.250648498535156, 22.36767578125, 21.161542892456055, 21.068784713745117, 19.706645965576172, 18.821651458740234, 17.29054069519043, 16.470050811767578, 15.801470756530762, 15.593778610229492, 15.368690490722656, 14.910362243652344, 14.728250503540039, 14.678037643432617, 14.584640502929688, 14.27292251586914, 14.264412879943848, 14.164167404174805, 37.77958679199219, 14.316091537475586, 13.608036041259766, 13.516500473022461, 13.206330299377441, 21.250755310058594, 29.140668869018555, 34.15462112426758, 39.99638366699219, 50.86162185668945, 20.949974060058594, 20.52853012084961, 22.636215209960938, 28.739521026611328, 21.04860496520996, 23.270633697509766, 20.067951202392578, 19.59821319580078, 19.314424514770508, 19.854923248291016, 34.06831741333008, 30.29294776916504, 26.523273468017578, 23.625553131103516, 21.007713317871094, 20.978221893310547, 19.317434310913086, 18.761425018310547, 16.78776741027832, 15.451828002929688, 15.334235191345215, 15.02900505065918, 14.421748161315918, 12.848770141601562, 12.603517532348633, 12.357831001281738, 11.76600170135498, 11.471912384033203, 11.432068824768066, 11.251991271972656, 11.227972030639648, 11.07289981842041, 10.685002326965332, 10.679553031921387, 10.63127613067627, 10.558760643005371, 10.452446937561035, 10.40061092376709, 10.321344375610352, 10.22581672668457, 105.67517852783203, 23.651920318603516, 25.52713394165039, 36.101776123046875, 27.668737411499023, 54.17068099975586, 11.988268852233887, 38.46182632446289, 71.77484893798828, 17.8515682220459, 37.24639129638672, 14.362382888793945, 22.108352661132812, 17.320852279663086, 15.304302215576172, 33.490386962890625, 30.040699005126953, 24.193937301635742, 18.225492477416992, 21.29036521911621, 15.971840858459473, 15.327749252319336, 66.07207489013672, 38.921180725097656, 33.8671875, 25.20606231689453, 22.92881965637207, 22.043975830078125, 21.572978973388672, 21.416627883911133, 17.50072479248047, 16.145633697509766, 15.610543251037598, 14.446767807006836, 13.805895805358887, 13.702247619628906, 12.01526165008545, 11.81195068359375, 11.441285133361816, 11.394976615905762, 11.161646842956543, 11.109905242919922, 10.418285369873047, 10.207275390625, 9.423266410827637, 9.083148956298828, 9.0822114944458, 8.982122421264648, 8.68928337097168, 8.644365310668945, 8.576831817626953, 8.497970581054688, 19.420774459838867, 36.3068733215332, 19.688508987426758, 18.138160705566406, 14.986994743347168, 11.3513822555542, 21.2973690032959, 18.04475212097168, 20.11900520324707, 31.36220932006836, 24.39920425415039, 17.90083885192871, 12.76516342163086, 13.935221672058105, 16.136394500732422, 14.869213104248047, 13.753434181213379, 12.980735778808594, 35.92000961303711, 27.3841552734375, 25.57185935974121, 21.96291160583496, 20.857553482055664, 20.37801170349121, 18.972774505615234, 17.993595123291016, 17.900014877319336, 16.952770233154297, 16.82346534729004, 15.875953674316406, 15.40846061706543, 14.848531723022461, 14.669366836547852, 14.28769588470459, 13.94174861907959, 12.48497486114502, 11.884414672851562, 11.472984313964844, 11.359210014343262, 11.292634010314941, 10.343586921691895, 10.259830474853516, 10.05423641204834, 9.97908878326416, 9.850776672363281, 9.828396797180176, 9.74014663696289, 9.463456153869629, 19.35415267944336, 22.090410232543945, 24.603309631347656, 64.85547637939453, 19.875513076782227, 22.11458396911621, 11.707189559936523, 26.3252010345459, 11.684432029724121, 63.875736236572266, 25.429553985595703, 17.117387771606445, 15.034904479980469, 13.538240432739258, 12.750503540039062, 12.750500679016113, 12.750360488891602, 11.029031753540039, 10.963716506958008, 10.658488273620605, 10.602446556091309, 9.959066390991211, 9.901956558227539, 9.37195110321045, 9.292130470275879, 9.029732704162598, 8.8433256149292, 8.79881477355957, 8.739383697509766, 8.586023330688477, 8.497931480407715, 8.469454765319824, 8.27739429473877, 8.209125518798828, 7.916006565093994, 7.854640960693359, 7.83551549911499, 7.771158218383789, 7.575180530548096, 14.215779304504395, 54.50108337402344, 11.708430290222168, 11.251322746276855, 16.770103454589844, 18.977184295654297, 11.535467147827148, 16.358427047729492, 10.15813159942627, 19.71297264099121, 14.233179092407227, 19.980588912963867, 13.388007164001465, 11.868843078613281, 11.069062232971191, 10.869542121887207, 12.131759643554688, 10.814958572387695, 11.160268783569336, 53.57331466674805, 27.330970764160156, 22.807342529296875, 15.891352653503418, 14.594759941101074, 13.862086296081543, 13.628140449523926, 13.315093040466309, 13.061991691589355, 12.657750129699707, 11.367904663085938, 10.40477466583252, 10.101969718933105, 9.671435356140137, 7.766695976257324, 7.749209880828857, 7.559890270233154, 7.2684478759765625, 7.1283278465271, 7.0969624519348145, 7.041792392730713, 6.925734996795654, 6.85599422454834, 6.61611795425415, 6.61611795425415, 6.61611795425415, 6.6158576011657715, 6.6158576011657715, 6.6158576011657715, 6.6158576011657715, 6.6158576011657715, 6.6158576011657715, 6.6158576011657715, 6.6158576011657715, 6.6158576011657715, 6.6158576011657715, 6.6158576011657715, 7.249642372131348, 15.146248817443848, 8.817909240722656, 11.186100006103516, 16.187257766723633, 9.699812889099121, 9.827094078063965, 9.0441255569458, 10.960956573486328, 12.009509086608887, 11.511131286621094, 7.743186950683594, 35.34584045410156, 33.23152542114258, 28.397382736206055, 26.204055786132812, 22.730369567871094, 12.226902961730957, 11.912391662597656, 11.690862655639648, 11.382657051086426, 9.618071556091309, 9.413394927978516, 9.400174140930176, 8.270581245422363, 8.16733455657959, 7.860909461975098, 7.5674285888671875, 7.1361494064331055, 7.134930610656738, 7.033881187438965, 6.395617961883545, 6.296136856079102, 5.826288223266602, 5.730536460876465, 5.730536460876465, 5.730536460876465, 5.730536460876465, 5.730536460876465, 5.730536460876465, 5.730536460876465, 5.730536460876465, 5.730536460876465, 5.730536460876465, 5.730536460876465, 8.885991096496582, 5.730536460876465, 5.730536460876465, 65.44184112548828, 67.23628997802734, 42.44382095336914, 9.133125305175781, 7.307365894317627, 7.949305057525635, 7.901666164398193, 6.821562767028809, 89.78655242919922, 19.167055130004883, 18.001220703125, 15.614642143249512, 13.410243034362793, 8.826074600219727, 8.13685417175293, 7.691050052642822, 7.665613174438477, 7.182289123535156, 6.779870986938477, 6.695308685302734, 6.610322952270508, 6.388745307922363, 6.275803089141846, 6.274656295776367, 6.0807719230651855, 6.080747604370117, 5.951080799102783, 5.804171562194824, 5.804171562194824, 5.804171562194824, 5.804171562194824, 5.804171562194824, 5.804171562194824, 11.693110466003418, 5.334524154663086, 5.334524154663086, 5.325307846069336, 5.264737606048584, 22.32079315185547, 15.65494441986084, 15.091196060180664, 12.57593059539795, 6.9340643882751465, 7.183079242706299, 6.554462909698486, 5.940102577209473], \"Term\": [\"chicken\", \"pizza\", \"fish\", \"sushi\", \"mexican\", \"burger\", \"hit\", \"ramen\", \"dinner\", \"lobster\", \"brunch\", \"tacos\", \"best\", \"meal\", \"restaurant\", \"food\", \"fried\", \"slice\", \"line\", \"table\", \"ever\", \"place\", \"salad\", \"nyc\", \"good\", \"like\", \"cheap\", \"still\", \"midtown\", \"greek\", \"restaurant\", \"place\", \"menu\", \"bar\", \"food\", \"know\", \"things\", \"good\", \"really\", \"come\", \"great\", \"find\", \"night\", \"well\", \"restaurants\", \"would\", \"around\", \"want\", \"east\", \"actually\", \"kind\", \"eat\", \"take\", \"eating\", \"make\", \"love\", \"think\", \"better\", \"might\", \"always\", \"like\", \"one\", \"also\", \"time\", \"people\", \"little\", \"way\", \"probably\", \"pretty\", \"new\", \"get\", \"much\", \"going\", \"back\", \"even\", \"best\", \"dinner\", \"sushi\", \"decor\", \"pieces\", \"gari\", \"reviews\", \"dollar\", \"exposed\", \"socarrat\", \"immaculate\", \"enthusiasts\", \"lastly\", \"ridiculously\", \"pan\", \"toro\", \"omakase\", \"according\", \"sake\", \"hipster\", \"appealing\", \"photo\", \"obsessed\", \"skin\", \"tier\", \"per\", \"carte\", \"cod\", \"celebrity\", \"japan\", \"advice\", \"kosher\", \"japanese\", \"slow\", \"experiences\", \"planet\", \"truffle\", \"gon\", \"fish\", \"price\", \"sea\", \"tuna\", \"dudes\", \"midtown\", \"fast\", \"rice\", \"meal\", \"tasting\", \"honestly\", \"pizza\", \"slice\", \"pie\", \"pies\", \"porchetta\", \"bus\", \"site\", \"joints\", \"overrated\", \"clientele\", \"signature\", \"mess\", \"honest\", \"wise\", \"online\", \"mag\", \"neapolitan\", \"era\", \"noting\", \"cured\", \"mozzarella\", \"universal\", \"stars\", \"became\", \"praise\", \"oven\", \"bandwagon\", \"sfoglia\", \"forty\", \"pulled\", \"slices\", \"expected\", \"hype\", \"game\", \"line\", \"cuisine\", \"eye\", \"joint\", \"sandwich\", \"hell\", \"ever\", \"taste\", \"front\", \"nyc\", \"best\", \"mussels\", \"bone\", \"meatpacking\", \"awkward\", \"specials\", \"necessary\", \"onion\", \"monkey\", \"paradou\", \"amazingly\", \"sum\", \"pub\", \"dim\", \"awarded\", \"falls\", \"filet\", \"lebanese\", \"faces\", \"vegas\", \"mary\", \"thank\", \"tortilla\", \"specialize\", \"pink\", \"peter\", \"hat\", \"thankfully\", \"unfinished\", \"downright\", \"awful\", \"lobster\", \"inn\", \"double\", \"crazy\", \"hate\", \"roll\", \"essex\", \"blue\", \"chicken\", \"understand\", \"salad\", \"via\", \"burgers\", \"rolls\", \"waiters\", \"burger\", \"fried\", \"french\", \"fries\", \"game\", \"fully\", \"standards\", \"bbq\", \"blt\", \"brisket\", \"supposed\", \"strike\", \"steaks\", \"meatball\", \"novita\", \"nowhere\", \"glad\", \"slop\", \"expert\", \"death\", \"shoulder\", \"complaining\", \"feast\", \"glory\", \"esquina\", \"walter\", \"sophisticated\", \"salon\", \"falling\", \"dylan\", \"ensure\", \"buddy\", \"mecca\", \"teen\", \"calamari\", \"tgi\", \"painfully\", \"situated\", \"ribs\", \"rib\", \"texas\", \"steakhouse\", \"compared\", \"beers\", \"smoked\", \"hungry\", \"prime\", \"joint\", \"dry\", \"speaking\", \"eye\", \"style\", \"local\", \"beef\", \"served\", \"shack\", \"joe\", \"fans\", \"crispo\", \"shake\", \"mermaid\", \"weird\", \"vintage\", \"sidewalk\", \"suggested\", \"kept\", \"models\", \"chopped\", \"locals\", \"fanelli\", \"dressing\", \"aged\", \"balance\", \"soba\", \"changes\", \"canal\", \"sale\", \"sprawling\", \"overcooked\", \"epitome\", \"encourage\", \"remembered\", \"chops\", \"flock\", \"spinach\", \"thursday\", \"tap\", \"dumplings\", \"burger\", \"authentic\", \"burgers\", \"mistake\", \"steak\", \"sandwich\", \"greek\", \"pylos\", \"thirty\", \"bourbon\", \"harlem\", \"clay\", \"pianos\", \"portuguese\", \"heaven\", \"chronic\", \"keith\", \"tiger\", \"embrace\", \"suggestion\", \"scoop\", \"tall\", \"quirky\", \"asshole\", \"breslin\", \"elephant\", \"fort\", \"amateur\", \"grew\", \"painted\", \"colors\", \"wife\", \"visited\", \"impression\", \"cultures\", \"heather\", \"complete\", \"brunch\", \"worthy\", \"promise\", \"liked\", \"standard\", \"met\", \"authentic\", \"theme\", \"blue\", \"avenue\", \"hit\", \"hell\", \"must\", \"beers\", \"bistro\", \"game\", \"totally\", \"dinner\", \"artichoke\", \"ribbon\", \"caracas\", \"fajitas\", \"abc\", \"arepas\", \"salsa\", \"box\", \"control\", \"westville\", \"careful\", \"candle\", \"emily\", \"stumbled\", \"joke\", \"posto\", \"napkin\", \"ease\", \"trattoria\", \"well-oiled\", \"insult\", \"sons\", \"brighter\", \"vie\", \"not-rushed\", \"venezuelan\", \"enabling\", \"three-fold\", \"rates\", \"pricing\", \"bask\", \"continuously\", \"deliberately\", \"injury\", \"non-recession\", \"infuriating\", \"hopped\", \"indian\", \"establishments\", \"combinations\", \"rate\", \"fast\", \"brasserie\", \"happily\", \"indeed\", \"write\", \"hell\", \"cheap\", \"consistent\", \"paella\", \"taco\", \"bobo\", \"mole\", \"lindo\", \"sleep\", \"pickles\", \"mission\", \"deli\", \"los\", \"taqueria\", \"moves\", \"stupid\", \"bohemian\", \"singing\", \"hurting\", \"housewives\", \"horse\", \"otto\", \"recommendation\", \"confusion\", \"beat\", \"donation\", \"surcharge\", \"drums\", \"donate\", \"mingle\", \"unsatisfying\", \"clears\", \"bourgeois\", \"bongo\", \"inconsolably\", \"fateful\", \"margarita\", \"africa\", \"abbreviation\", \"tacos\", \"mexican\", \"midtown\", \"enchiladas\", \"beach\", \"highly\", \"counter\", \"club\", \"ramen\", \"thai\", \"noodle\", \"ippudo\", \"totto\", \"nation\", \"rightfully\", \"plentiful\", \"pushed\", \"rai\", \"ivan\", \"barns\", \"spruce\", \"aldea\", \"warranted\", \"entryway\", \"steamy\", \"clever\", \"perry\", \"geisha\", \"inc.\", \"polishing\", \"regions\", \"treatments\", \"variation\", \"dropped\", \"parson\", \"tipsy\", \"lemon\", \"plastic\", \"broth\", \"flex\", \"noodles\", \"soup\", \"america\", \"blind\", \"gives\", \"efforts\"], \"Total\": [238.0, 173.0, 219.0, 161.0, 119.0, 154.0, 169.0, 90.0, 382.0, 115.0, 107.0, 79.0, 497.0, 347.0, 1117.0, 1190.0, 126.0, 93.0, 125.0, 373.0, 174.0, 1015.0, 103.0, 172.0, 1094.0, 1412.0, 96.0, 323.0, 71.0, 64.0, 1117.8499755859375, 1015.576904296875, 643.4373779296875, 597.3148193359375, 1190.7567138671875, 451.8837890625, 434.46978759765625, 1094.9683837890625, 476.0952453613281, 382.2148742675781, 355.8356628417969, 352.0688171386719, 367.9537353515625, 328.1759033203125, 327.16058349609375, 388.5678405761719, 303.19390869140625, 334.1165771484375, 297.74652099609375, 284.5518493652344, 299.3280029296875, 413.0849914550781, 269.2190246582031, 266.6140441894531, 446.6786193847656, 262.1877136230469, 262.05169677734375, 271.6169738769531, 259.67706298828125, 260.55029296875, 1412.632080078125, 1049.498779296875, 649.4750366210938, 615.0737915039062, 661.1268310546875, 533.7391357421875, 388.38165283203125, 337.7234802246094, 387.22344970703125, 694.99560546875, 753.5847778320312, 522.609619140625, 403.21783447265625, 442.0615234375, 422.29052734375, 497.31298828125, 382.7362976074219, 161.2872314453125, 29.908658981323242, 28.465211868286133, 26.52332305908203, 24.870807647705078, 24.008907318115234, 22.9669246673584, 22.890625, 21.624820709228516, 21.120328903198242, 20.15001106262207, 20.12364959716797, 18.663610458374023, 18.583763122558594, 18.566734313964844, 18.52734375, 18.504039764404297, 15.739558219909668, 15.619969367980957, 15.3058500289917, 15.02609634399414, 15.023930549621582, 14.759952545166016, 38.376705169677734, 14.36236572265625, 13.66529655456543, 13.321813583374023, 13.277852058410645, 13.076350212097168, 12.809294700622559, 55.73506546020508, 26.457965850830078, 15.764676094055176, 24.78187370300293, 15.77200984954834, 31.590246200561523, 219.43429565429688, 33.9896240234375, 27.00508689880371, 41.49708938598633, 24.72373390197754, 71.10909271240234, 48.696083068847656, 58.88976287841797, 347.3617248535156, 50.985877990722656, 33.603790283203125, 173.94424438476562, 93.31930541992188, 52.69512176513672, 36.866390228271484, 36.30017852783203, 29.319534301757812, 26.2706241607666, 28.030906677246094, 23.09429168701172, 21.887441635131836, 21.794776916503906, 20.432491302490234, 19.54743194580078, 18.016216278076172, 17.196640014648438, 16.527055740356445, 16.31929588317871, 16.094587326049805, 15.636804580688477, 15.454113006591797, 15.403604507446289, 15.310751914978027, 14.998714447021484, 14.990184783935547, 14.890480041503906, 39.73019790649414, 15.060657501220703, 14.333831787109375, 14.242300033569336, 13.932123184204102, 23.71690559387207, 37.96428298950195, 50.71952438354492, 81.91008758544922, 125.04865264892578, 28.650623321533203, 35.10911178588867, 51.94501876831055, 111.04547882080078, 52.383941650390625, 174.6675262451172, 87.2311019897461, 145.2922821044922, 172.05599975585938, 497.31298828125, 34.787174224853516, 31.06313133239746, 27.242027282714844, 24.344514846801758, 21.72648811340332, 21.697317123413086, 20.036283493041992, 19.480327606201172, 17.516023635864258, 16.17135238647461, 16.052810668945312, 15.748047828674316, 15.140356063842773, 13.567816734313965, 13.322342872619629, 13.076634407043457, 12.484726905822754, 12.191518783569336, 12.151123046875, 11.970647811889648, 11.947229385375977, 11.791869163513184, 11.40404224395752, 11.398809432983398, 11.350552558898926, 11.27806568145752, 11.171540260314941, 11.1198148727417, 11.04029655456543, 10.946365356445312, 115.56464385986328, 25.81651496887207, 31.159942626953125, 51.32786178588867, 37.26530075073242, 94.94864654541016, 13.441428184509277, 78.72596740722656, 238.61016845703125, 27.310026168823242, 103.05587005615234, 18.851930618286133, 44.85927200317383, 29.149072647094727, 22.839174270629883, 154.4903564453125, 126.8313980102539, 88.4660873413086, 44.269126892089844, 81.91008758544922, 28.92365837097168, 30.326087951660156, 66.7937240600586, 39.64303207397461, 34.588836669921875, 25.928028106689453, 23.651241302490234, 22.765792846679688, 22.294870376586914, 22.13835334777832, 18.22311782836914, 16.86753273010254, 16.332273483276367, 15.168750762939453, 14.527817726135254, 14.423974990844727, 12.737091064453125, 12.533863067626953, 12.163151741027832, 12.117042541503906, 11.88331413269043, 11.832273483276367, 11.14033317565918, 10.929312705993652, 10.145076751708984, 9.805243492126465, 9.805212020874023, 9.703795433044434, 9.411397933959961, 9.366284370422363, 9.298896789550781, 9.220093727111816, 21.367393493652344, 45.74000930786133, 24.042238235473633, 22.083248138427734, 18.012744903564453, 13.315094947814941, 33.01691436767578, 26.168073654174805, 33.51594924926758, 75.3036117553711, 51.94501876831055, 40.44077682495117, 17.603422164916992, 35.10911178588867, 83.40047454833984, 73.55259704589844, 66.62997436523438, 125.34410095214844, 36.6397590637207, 28.1038875579834, 26.29171371459961, 22.682706832885742, 21.577150344848633, 21.098081588745117, 19.69254493713379, 18.713363647460938, 18.61983299255371, 17.672786712646484, 17.54328155517578, 16.595745086669922, 16.128480911254883, 15.56840705871582, 15.389079093933105, 15.007471084594727, 14.661563873291016, 13.204889297485352, 12.60400104522705, 12.19296932220459, 12.07901382446289, 12.01242446899414, 11.063618659973145, 10.980029106140137, 10.774270057678223, 10.699875831604004, 10.570474624633789, 10.548151016235352, 10.45976448059082, 10.183579444885254, 26.864591598510742, 32.58980178833008, 38.67317199707031, 154.4903564453125, 36.882354736328125, 44.85927200317383, 14.690966606140137, 106.73843383789062, 111.04547882080078, 64.60614013671875, 26.15996551513672, 17.853700637817383, 15.765923500061035, 14.268590927124023, 13.480929374694824, 13.480947494506836, 13.48096752166748, 11.759529113769531, 11.69441032409668, 11.389354705810547, 11.334552764892578, 10.68994140625, 10.633468627929688, 10.102659225463867, 10.02353572845459, 9.760973930358887, 9.574352264404297, 9.529190063476562, 9.469797134399414, 9.316458702087402, 9.228468894958496, 9.200539588928223, 9.008431434631348, 8.940146446228027, 8.646371841430664, 8.585394859313965, 8.56604290008545, 8.505141258239746, 8.305604934692383, 18.318021774291992, 107.01480102539062, 14.94920539855957, 14.262231826782227, 27.88494110107422, 35.13360595703125, 16.726694107055664, 36.882354736328125, 13.971590042114258, 78.72596740722656, 41.10411834716797, 169.29873657226562, 52.383941650390625, 42.25263595581055, 33.01691436767578, 30.285690307617188, 81.91008758544922, 29.832006454467773, 382.7362976074219, 54.30186080932617, 28.0591983795166, 23.53556251525879, 16.61963653564453, 15.322860717773438, 14.590203285217285, 14.356253623962402, 14.043363571166992, 13.790359497070312, 13.38581657409668, 12.096474647521973, 11.13341236114502, 10.830004692077637, 10.39961051940918, 8.495218276977539, 8.477343559265137, 8.289178848266602, 7.997467517852783, 7.85661506652832, 7.8268280029296875, 7.77004861831665, 7.653891086578369, 7.585649013519287, 7.344343185424805, 7.344343185424805, 7.344343185424805, 7.344339847564697, 7.344339847564697, 7.344339847564697, 7.344339847564697, 7.344339847564697, 7.344339847564697, 7.344339847564697, 7.344339847564697, 7.344339847564697, 7.344339847564697, 7.344339847564697, 8.393438339233398, 27.07829475402832, 11.703591346740723, 21.317241668701172, 48.696083068847656, 17.19159698486328, 18.7249698638916, 16.53921890258789, 36.261695861816406, 52.383941650390625, 96.24063873291016, 12.509564399719238, 36.08427429199219, 33.96977615356445, 29.135414123535156, 26.94500732421875, 23.468847274780273, 12.965758323669434, 12.6505765914917, 12.42943000793457, 12.120820045471191, 10.355996131896973, 10.15131664276123, 10.138995170593262, 9.009414672851562, 8.905973434448242, 8.59984302520752, 8.30552864074707, 7.87416410446167, 7.874539375305176, 7.772087574005127, 7.134180545806885, 7.034280300140381, 6.56449556350708, 6.468620300292969, 6.468620300292969, 6.468620300292969, 6.468620300292969, 6.468620300292969, 6.468620300292969, 6.468620300292969, 6.468620300292969, 6.468620300292969, 6.468620300292969, 6.468620300292969, 10.092055320739746, 6.468620300292969, 6.468620300292969, 79.17279815673828, 119.6071548461914, 71.10909271240234, 15.8031587600708, 12.595829010009766, 33.97218322753906, 51.88114929199219, 61.99037170410156, 90.52367401123047, 19.90423583984375, 18.738449096679688, 16.351787567138672, 14.14738941192627, 9.564043045043945, 8.874312400817871, 8.429286003112793, 8.403812408447266, 7.919382095336914, 7.516961097717285, 7.432573318481445, 7.348136901855469, 7.126084804534912, 7.013904094696045, 7.014237403869629, 6.818018913269043, 6.818028926849365, 6.689353942871094, 6.541566848754883, 6.541566848754883, 6.541566848754883, 6.541566848754883, 6.541566848754883, 6.541566848754883, 13.248770713806152, 6.072150230407715, 6.072150230407715, 6.0633368492126465, 6.002345561981201, 31.60828399658203, 22.91533851623535, 24.169525146484375, 41.64265823364258, 13.618511199951172, 16.108509063720703, 13.191583633422852, 8.562760353088379], \"loglift\": [30.0, 29.0, 28.0, 27.0, 26.0, 25.0, 24.0, 23.0, 22.0, 21.0, 20.0, 19.0, 18.0, 17.0, 16.0, 15.0, 14.0, 13.0, 12.0, 11.0, 10.0, 9.0, 8.0, 7.0, 6.0, 5.0, 4.0, 3.0, 2.0, 1.0, 0.33070001006126404, 0.33059999346733093, 0.3303000032901764, 0.3301999866962433, 0.33000001311302185, 0.329800009727478, 0.3296999931335449, 0.3296999931335449, 0.3296000063419342, 0.3296000063419342, 0.3294999897480011, 0.3294000029563904, 0.3292999863624573, 0.3292999863624573, 0.3292999863624573, 0.32919999957084656, 0.32910001277923584, 0.32910001277923584, 0.32910001277923584, 0.32899999618530273, 0.32899999618530273, 0.3287999927997589, 0.3287999927997589, 0.3287999927997589, 0.3287999927997589, 0.3287999927997589, 0.3287999927997589, 0.3287000060081482, 0.3287000060081482, 0.3287000060081482, 0.3239000141620636, 0.32499998807907104, 0.32580000162124634, 0.326200008392334, 0.3253999948501587, 0.3269999921321869, 0.32679998874664307, 0.32679998874664307, 0.3240000009536743, 0.3111000061035156, 0.3043999969959259, 0.313400000333786, 0.31929999589920044, 0.31119999289512634, 0.31380000710487366, 0.2874999940395355, 0.29989999532699585, 3.0585999488830566, 3.0390000343322754, 3.0378000736236572, 3.035900115966797, 3.03410005569458, 3.0329999923706055, 3.031599998474121, 3.031599998474121, 3.0297000408172607, 3.0288000106811523, 3.0271999835968018, 3.027100086212158, 3.0243000984191895, 3.0241000652313232, 3.0241000652313232, 3.0239999294281006, 3.023900032043457, 3.016900062561035, 3.0164999961853027, 3.0155999660491943, 3.014699935913086, 3.014699935913086, 3.0137999057769775, 3.0130999088287354, 3.012399911880493, 3.009700059890747, 3.0083000659942627, 3.0081000328063965, 3.007200002670288, 3.00600004196167, 2.9832000732421875, 2.969399929046631, 2.993799924850464, 2.952899932861328, 2.993499994277954, 2.7464001178741455, 2.0692999362945557, 2.698199987411499, 2.758500099182129, 2.558300018310547, 2.7620999813079834, 2.131700038909912, 2.319200038909912, 2.1612000465393066, 0.22100000083446503, 2.015899896621704, 2.4316999912261963, 3.069499969482422, 3.0664000511169434, 3.059000015258789, 3.0543999671936035, 3.0541000366210938, 3.0492000579833984, 3.0462000370025635, 3.0460000038146973, 3.04229998588562, 3.0404999256134033, 3.0404000282287598, 3.038100004196167, 3.036400079727173, 3.033099889755249, 3.031100034713745, 3.029400110244751, 3.0288000106811523, 3.02810001373291, 3.026700019836426, 3.026099920272827, 3.0260000228881836, 3.025700092315674, 3.024600028991699, 3.024600028991699, 3.024199962615967, 3.023900032043457, 3.0234999656677246, 3.0223000049591064, 3.021899938583374, 3.020699977874756, 2.9644999504089355, 2.8097000122070312, 2.678800106048584, 2.3573999404907227, 2.1747000217437744, 2.761199951171875, 2.537600040435791, 2.2435998916625977, 1.722599983215332, 2.1624999046325684, 1.0585999488830566, 1.6047999858856201, 1.0708999633789062, 0.8873000144958496, -0.14650000631809235, 3.199700117111206, 3.195499897003174, 3.1939001083374023, 3.190700054168701, 3.187000036239624, 3.1868999004364014, 3.1840999126434326, 3.183000087738037, 3.1782000064849854, 3.175100088119507, 3.174799919128418, 3.1738998889923096, 3.171999931335449, 3.1661999225616455, 3.1651999950408936, 3.164099931716919, 3.16129994392395, 3.1598000526428223, 3.159600019454956, 3.1586999893188477, 3.1584999561309814, 3.1577000617980957, 3.1554999351501465, 3.1554999351501465, 3.1552000045776367, 3.1547000408172607, 3.154099941253662, 3.1538000106811523, 3.1533000469207764, 3.1524999141693115, 3.131200075149536, 3.1331000328063965, 3.021199941635132, 2.8687000274658203, 2.9228999614715576, 2.65939998626709, 3.1061999797821045, 2.504300117492676, 2.0192999839782715, 2.7955000400543213, 2.202899932861328, 2.9486000537872314, 2.5130999088287354, 2.7000999450683594, 2.8203001022338867, 1.6917999982833862, 1.7803000211715698, 1.9241000413894653, 2.333199977874756, 1.8732999563217163, 2.626800060272217, 2.538300037384033, 3.372499942779541, 3.365000009536743, 3.3622000217437744, 3.35509991645813, 3.352299928665161, 3.351099967956543, 3.350399971008301, 3.3501999378204346, 3.342900037765503, 3.339600086212158, 3.338099956512451, 3.3345999717712402, 3.33240008354187, 3.3320000171661377, 3.325000047683716, 3.3239998817443848, 3.3220999240875244, 3.321899890899658, 3.32069993019104, 3.3203001022338867, 3.3162999153137207, 3.315000057220459, 3.309499979019165, 3.30679988861084, 3.3066999912261963, 3.305999994277954, 3.303499937057495, 3.303100109100342, 3.302500009536743, 3.301800012588501, 3.2878000736236572, 3.152400016784668, 3.1835999488830566, 3.186500072479248, 3.199399948120117, 3.22379994392395, 2.9449000358581543, 3.0116000175476074, 2.872999906539917, 2.5074000358581543, 2.627700090408325, 2.5683000087738037, 3.062000036239624, 2.4593000411987305, 1.7408000230789185, 1.784600019454956, 1.8055000305175781, 1.1157000064849854, 3.4482998847961426, 3.442199945449829, 3.4403998851776123, 3.4358999729156494, 3.4342000484466553, 3.4333999156951904, 3.4309000968933105, 3.4289000034332275, 3.4286999702453613, 3.426500082015991, 3.4261999130249023, 3.423799991607666, 3.422499895095825, 3.420799970626831, 3.4202001094818115, 3.4189999103546143, 3.417799949645996, 3.412100076675415, 3.4093000888824463, 3.4072999954223633, 3.4066998958587646, 3.4063000679016113, 3.4007999897003174, 3.4003000259399414, 3.3989999294281006, 3.398400068283081, 3.397599935531616, 3.39739990234375, 3.3968000411987305, 3.3947999477386475, 3.140199899673462, 3.0792999267578125, 3.015899896621704, 2.6001999378204346, 2.849900007247925, 2.7607998847961426, 3.2411000728607178, 2.0683000087738037, 1.2164000272750854, 3.563699960708618, 3.5467000007629395, 3.532900094985962, 3.527600049972534, 3.5225000381469727, 3.519399881362915, 3.519399881362915, 3.5192999839782715, 3.5109000205993652, 3.510499954223633, 3.508699893951416, 3.5083000659942627, 3.504199981689453, 3.5037999153137207, 3.5, 3.499300003051758, 3.4972000122070312, 3.4955999851226807, 3.495300054550171, 3.494800090789795, 3.4934000968933105, 3.4925999641418457, 3.492300033569336, 3.4904000759124756, 3.489799976348877, 3.486799955368042, 3.4860999584198, 3.4858999252319336, 3.484800100326538, 3.4830000400543213, 3.321500062942505, 2.9003000259399414, 3.330699920654297, 3.337899923324585, 3.0666000843048096, 2.9591000080108643, 3.2035000324249268, 2.7620999813079834, 3.2562999725341797, 2.1903998851776123, 2.5144999027252197, 1.4381999969482422, 2.2107999324798584, 2.305299997329712, 2.4821999073028564, 2.5504000186920166, 1.6653000116348267, 2.5604000091552734, 0.04010000079870224, 3.8129000663757324, 3.800100088119507, 3.7948999404907227, 3.781599998474121, 3.7776999473571777, 3.7751998901367188, 3.7743000984191895, 3.773099899291992, 3.7720999717712402, 3.770400047302246, 3.7643001079559326, 3.758699893951416, 3.7567999362945557, 3.7537999153137207, 3.7367000579833984, 3.736599922180176, 3.734299898147583, 3.730799913406372, 3.729099988937378, 3.7284998893737793, 3.7279999256134033, 3.7263998985290527, 3.7251999378204346, 3.7219998836517334, 3.7219998836517334, 3.7219998836517334, 3.72189998626709, 3.72189998626709, 3.72189998626709, 3.72189998626709, 3.72189998626709, 3.72189998626709, 3.72189998626709, 3.72189998626709, 3.72189998626709, 3.72189998626709, 3.72189998626709, 3.6798999309539795, 3.2453999519348145, 3.543299913406372, 3.18149995803833, 2.7249999046325684, 3.2541000843048096, 3.1816999912261963, 3.2228000164031982, 2.630000114440918, 2.3534998893737793, 1.7028000354766846, 3.3466999530792236, 4.003799915313721, 4.002500057220459, 3.998800039291382, 3.9965999126434326, 3.992500066757202, 3.9658000469207764, 3.964400053024292, 3.963200092315674, 3.9616000652313232, 3.9505999088287354, 3.9489998817443848, 3.9488000869750977, 3.9388999938964844, 3.9379000663757324, 3.9346001148223877, 3.9314000606536865, 3.926100015640259, 3.925800085067749, 3.9247000217437744, 3.9151999950408936, 3.913599967956543, 3.9052000045776367, 3.9033000469207764, 3.9033000469207764, 3.9033000469207764, 3.9033000469207764, 3.9033000469207764, 3.9033000469207764, 3.9033000469207764, 3.9033000469207764, 3.9033000469207764, 3.9033000469207764, 3.9033000469207764, 3.897200107574463, 3.9033000469207764, 3.9033000469207764, 3.8340001106262207, 3.448499917984009, 3.5083999633789062, 3.4762001037597656, 3.4800000190734863, 2.572000026702881, 2.1426000595092773, 1.8176000118255615, 4.102200031280518, 4.072700023651123, 4.070300102233887, 4.064300060272217, 4.0569000244140625, 4.030099868774414, 4.02370023727417, 4.018799781799316, 4.018499851226807, 4.012700080871582, 4.007199764251709, 4.00600004196167, 4.0046000480651855, 4.001200199127197, 3.9992001056671143, 3.999000072479248, 3.996000051498413, 3.996000051498413, 3.993499994277954, 3.990799903869629, 3.990799903869629, 3.990799903869629, 3.990799903869629, 3.990799903869629, 3.990799903869629, 3.9855000972747803, 3.9809000492095947, 3.9809000492095947, 3.980600118637085, 3.979300022125244, 3.762500047683716, 3.7293999195098877, 3.639400005340576, 2.913100004196167, 3.4354000091552734, 3.302799940109253, 3.4110000133514404, 3.7446999549865723], \"logprob\": [30.0, 29.0, 28.0, 27.0, 26.0, 25.0, 24.0, 23.0, 22.0, 21.0, 20.0, 19.0, 18.0, 17.0, 16.0, 15.0, 14.0, 13.0, 12.0, 11.0, 10.0, 9.0, 8.0, 7.0, 6.0, 5.0, 4.0, 3.0, 2.0, 1.0, -4.460999965667725, -4.557000160217285, -5.013700008392334, -5.088200092315674, -4.398499965667725, -5.367700099945068, -5.4070000648498535, -4.482699871063232, -5.3155999183654785, -5.535299777984619, -5.606900215148926, -5.617599964141846, -5.573500156402588, -5.688000202178955, -5.691100120544434, -5.519199848175049, -5.767399787902832, -5.670300006866455, -5.7855000495910645, -5.830999851226807, -5.780399799346924, -5.4583001136779785, -5.886499881744385, -5.896200180053711, -5.380199909210205, -5.913000106811523, -5.91349983215332, -5.877699851989746, -5.922699928283691, -5.919300079345703, -4.233799934387207, -4.529799938201904, -5.008900165557861, -5.062900066375732, -4.991499900817871, -5.20389986038208, -5.521999835968018, -5.661799907684326, -5.527900218963623, -4.9558000564575195, -4.8815999031066895, -5.23859977722168, -5.492099761962891, -5.408199787139893, -5.451399803161621, -5.3140997886657715, -5.563600063323975, -3.6689999103546143, -5.373700141906738, -5.4243998527526855, -5.4969000816345215, -5.5630998611450195, -5.599400043487549, -5.645199775695801, -5.648600101470947, -5.707300186157227, -5.731800079345703, -5.7804999351501465, -5.781799793243408, -5.860000133514404, -5.8643999099731445, -5.8653998374938965, -5.867599964141846, -5.868899822235107, -6.037799835205078, -6.04580020904541, -6.066999912261963, -6.086400032043457, -6.086599826812744, -6.105100154876709, -5.150300025939941, -6.133900165557861, -6.186299800872803, -6.213200092315674, -6.216599941253662, -6.232800006866455, -6.2546000480651855, -4.807000160217285, -5.565899848937988, -6.059299945831299, -5.647799968719482, -6.059199810028076, -5.611599922180176, -4.350500106811523, -5.586599826812744, -5.75629997253418, -5.526899814605713, -5.841000080108643, -5.414899826049805, -5.606100082397461, -5.573999881744385, -5.7393999099731445, -5.863399982452393, -5.864500045776367, -3.5826001167297363, -4.208399772644043, -4.787300109863281, -5.149199962615967, -5.164999961853027, -5.383399963378906, -5.496200084686279, -5.43149995803833, -5.629000186920166, -5.6844000816345215, -5.688799858093262, -5.7555999755859375, -5.801599979400635, -5.88640022277832, -5.935100078582764, -5.976500034332275, -5.989699840545654, -6.004300117492676, -6.0345001220703125, -6.046800136566162, -6.050300121307373, -6.056600093841553, -6.078199863433838, -6.078800201416016, -6.085899829864502, -5.104800224304199, -6.075200080871582, -6.125899791717529, -6.132699966430664, -6.155900001525879, -5.680200099945068, -5.364500045776367, -5.205699920654297, -5.047800064086914, -4.807499885559082, -5.694499969482422, -5.714799880981445, -5.617099761962891, -5.378300189971924, -5.689799785614014, -5.589399814605713, -5.737500190734863, -5.761199951171875, -5.7758002281188965, -5.748199939727783, -5.0619001388549805, -5.179299831390381, -5.31220006942749, -5.4278998374938965, -5.545300006866455, -5.5467000007629395, -5.629199981689453, -5.658400058746338, -5.769599914550781, -5.852499961853027, -5.860099792480469, -5.880199909210205, -5.921500205993652, -6.0370001792907715, -6.05620002746582, -6.075900077819824, -6.125, -6.150300025939941, -6.153800010681152, -6.1697001457214355, -6.171800136566162, -6.185699939727783, -6.221399784088135, -6.22189998626709, -6.226399898529053, -6.23330020904541, -6.2434000968933105, -6.2484002113342285, -6.25600004196167, -6.2652997970581055, -3.9298999309539795, -5.426799774169922, -5.350500106811523, -5.003900051116943, -5.269899845123291, -4.598100185394287, -6.106299877166748, -4.9405999183654785, -4.316699981689453, -5.708099842071533, -4.972700119018555, -5.925600051879883, -5.49429988861084, -5.73829984664917, -5.862100124359131, -5.078999996185303, -5.187699794769287, -5.404099941253662, -5.687399864196777, -5.5320000648498535, -5.819399833679199, -5.860599994659424, -4.236800193786621, -4.765999794006348, -4.905099868774414, -5.200399875640869, -5.295100212097168, -5.334499835968018, -5.356100082397461, -5.363399982452393, -5.565299987792969, -5.645899772644043, -5.679599761962891, -5.756999969482422, -5.8024001121521, -5.809999942779541, -5.941299915313721, -5.958399772644043, -5.990300178527832, -5.99429988861084, -6.014999866485596, -6.019700050354004, -6.084000110626221, -6.104400157928467, -6.184299945831299, -6.221099853515625, -6.221199989318848, -6.2322998046875, -6.265399932861328, -6.270599842071533, -6.278500080108643, -6.287700176239014, -5.46120023727417, -4.8354997634887695, -5.447500228881836, -5.5295000076293945, -5.720300197601318, -5.998199939727783, -5.368899822235107, -5.5346999168396, -5.425899982452393, -4.981900215148926, -5.232999801635742, -5.542699813842773, -5.880799770355225, -5.793099880218506, -5.646399974822998, -5.7281999588012695, -5.80620002746582, -5.864099979400635, -4.76140022277832, -5.032800197601318, -5.101200103759766, -5.253399848937988, -5.304999828338623, -5.3282999992370605, -5.399700164794922, -5.452700138092041, -5.457900047302246, -5.51230001449585, -5.519999980926514, -5.577899932861328, -5.607800006866455, -5.644800186157227, -5.6570000648498535, -5.683300018310547, -5.707799911499023, -5.81820011138916, -5.867499828338623, -5.902699947357178, -5.912700176239014, -5.918600082397461, -6.006400108337402, -6.014500141143799, -6.0346999168396, -6.042200088500977, -6.055200099945068, -6.057499885559082, -6.066500186920166, -6.095300197601318, -5.379799842834473, -5.247600078582764, -5.139800071716309, -4.170599937438965, -5.3531999588012695, -5.246500015258789, -5.882500171661377, -5.072199821472168, -5.884500026702881, -4.078800201416016, -4.999899864196777, -5.395699977874756, -5.525400161743164, -5.630300045013428, -5.690199851989746, -5.690199851989746, -5.690199851989746, -5.835299968719482, -5.84119987487793, -5.8694000244140625, -5.87470006942749, -5.937300205230713, -5.9430999755859375, -5.9980998039245605, -6.0065999031066895, -6.035299777984619, -6.056099891662598, -6.061200141906738, -6.06790018081665, -6.085599899291992, -6.0960001945495605, -6.099299907684326, -6.122300148010254, -6.130499839782715, -6.166900157928467, -6.174699783325195, -6.17710018157959, -6.185400009155273, -6.210899829864502, -5.581399917602539, -4.237599849700928, -5.7754998207092285, -5.815299987792969, -5.416200160980225, -5.292500019073486, -5.79040002822876, -5.440999984741211, -5.917500019073486, -5.254499912261963, -5.5802001953125, -5.241000175476074, -5.64139986038208, -5.761899948120117, -5.831600189208984, -5.849800109863281, -5.739999771118164, -5.854899883270264, -5.823400020599365, -4.003399848937988, -4.676499843597412, -4.857399940490723, -5.218699932098389, -5.303800106048584, -5.355299949645996, -5.372300148010254, -5.395599842071533, -5.41480016708374, -5.446199893951416, -5.553699970245361, -5.642199993133545, -5.6717000007629395, -5.7153000831604, -5.934599876403809, -5.9369001388549805, -5.961599826812744, -6.000899791717529, -6.020400047302246, -6.024799823760986, -6.032599925994873, -6.049200057983398, -6.0594000816345215, -6.09499979019165, -6.09499979019165, -6.09499979019165, -6.09499979019165, -6.09499979019165, -6.09499979019165, -6.09499979019165, -6.09499979019165, -6.09499979019165, -6.09499979019165, -6.09499979019165, -6.09499979019165, -6.09499979019165, -6.09499979019165, -6.003499984741211, -5.26669979095459, -5.807700157165527, -5.569799900054932, -5.200200080871582, -5.712399959564209, -5.6992998123168945, -5.782400131225586, -5.590099811553955, -5.498799800872803, -5.541200160980225, -5.937699794769287, -4.221199989318848, -4.282899856567383, -4.440100193023682, -4.520500183105469, -4.662700176239014, -5.282700061798096, -5.308800220489502, -5.327600002288818, -5.354300022125244, -5.52269983291626, -5.5441999435424805, -5.545599937438965, -5.673699855804443, -5.686200141906738, -5.7245001792907715, -5.762499809265137, -5.821199893951416, -5.821400165557861, -5.835599899291992, -5.930799961090088, -5.946400165557861, -6.02400016784668, -6.040599822998047, -6.040599822998047, -6.040599822998047, -6.040599822998047, -6.040599822998047, -6.040599822998047, -6.040599822998047, -6.040599822998047, -6.040599822998047, -6.040599822998047, -6.040599822998047, -5.601900100708008, -6.040599822998047, -6.040599822998047, -3.6052000522613525, -3.578200101852417, -4.0381999015808105, -5.57450008392334, -5.797500133514404, -5.7133002281188965, -5.719299793243408, -5.866300106048584, -3.203000068664551, -4.747200012207031, -4.809999942779541, -4.952199935913086, -5.104400157928467, -5.52269983291626, -5.604000091552734, -5.660399913787842, -5.663700103759766, -5.728799819946289, -5.786499977111816, -5.798999786376953, -5.811800003051758, -5.845900058746338, -5.863699913024902, -5.863900184631348, -5.895299911499023, -5.895299911499023, -5.916900157928467, -5.94189977645874, -5.94189977645874, -5.94189977645874, -5.94189977645874, -5.94189977645874, -5.94189977645874, -5.241399765014648, -6.026199817657471, -6.026199817657471, -6.0279998779296875, -6.039400100708008, -4.594900131225586, -4.9496002197265625, -4.986299991607666, -5.168600082397461, -5.763999938964844, -5.728700160980225, -5.820300102233887, -5.918700218200684]}, \"token.table\": {\"Topic\": [9, 8, 2, 1, 2, 9, 6, 10, 1, 2, 1, 7, 4, 2, 10, 2, 8, 1, 8, 7, 6, 7, 4, 6, 7, 8, 10, 4, 4, 4, 1, 3, 6, 3, 1, 10, 8, 5, 3, 7, 9, 9, 3, 1, 2, 5, 6, 5, 7, 1, 2, 3, 1, 1, 4, 7, 7, 10, 5, 2, 4, 5, 7, 9, 9, 4, 9, 7, 9, 8, 4, 8, 7, 8, 5, 4, 6, 10, 1, 7, 5, 1, 3, 4, 6, 4, 6, 3, 5, 6, 8, 8, 8, 2, 2, 6, 1, 8, 1, 4, 6, 6, 6, 7, 7, 9, 10, 3, 1, 4, 9, 2, 7, 3, 8, 1, 5, 9, 5, 2, 7, 9, 6, 8, 8, 8, 1, 2, 3, 9, 2, 4, 6, 3, 8, 7, 3, 5, 2, 9, 8, 4, 1, 7, 2, 9, 9, 4, 9, 4, 6, 8, 10, 9, 1, 3, 5, 6, 2, 5, 1, 4, 6, 5, 8, 1, 1, 1, 1, 10, 7, 7, 8, 8, 8, 9, 6, 5, 2, 10, 6, 3, 5, 1, 4, 5, 8, 9, 1, 3, 1, 3, 3, 5, 2, 5, 2, 3, 5, 4, 8, 5, 4, 6, 6, 2, 7, 8, 9, 5, 4, 1, 1, 2, 1, 10, 6, 1, 7, 7, 3, 1, 4, 5, 1, 4, 1, 4, 6, 1, 3, 2, 4, 7, 3, 4, 5, 7, 2, 10, 1, 2, 3, 3, 10, 5, 5, 1, 2, 2, 7, 1, 2, 1, 7, 7, 3, 8, 10, 7, 4, 2, 4, 7, 7, 3, 5, 7, 8, 3, 4, 9, 2, 1, 7, 3, 2, 4, 8, 9, 9, 2, 5, 6, 9, 9, 2, 3, 4, 2, 7, 10, 9, 2, 8, 10, 8, 8, 8, 4, 6, 8, 10, 10, 2, 2, 10, 6, 2, 3, 5, 3, 8, 7, 6, 1, 1, 2, 2, 4, 10, 1, 2, 3, 2, 7, 9, 1, 3, 5, 7, 1, 3, 1, 4, 1, 5, 6, 9, 1, 3, 1, 8, 9, 4, 1, 2, 7, 5, 4, 5, 1, 6, 3, 6, 7, 1, 9, 2, 9, 1, 9, 9, 6, 7, 6, 9, 4, 9, 3, 1, 2, 3, 4, 3, 4, 5, 7, 8, 10, 3, 4, 1, 2, 3, 1, 8, 10, 3, 6, 10, 8, 3, 5, 5, 1, 3, 5, 2, 2, 1, 2, 3, 4, 3, 9, 3, 7, 6, 3, 9, 5, 7, 2, 4, 10, 1, 3, 2, 10, 10, 4, 2, 7, 9, 3, 2, 3, 4, 3, 1, 2, 6, 10, 10, 10, 3, 7, 8, 3, 1, 2, 1, 2, 8, 1, 2, 5, 1, 2, 1, 7, 4, 3, 10, 7, 7, 10, 10, 4, 8, 8, 1, 9, 10, 6, 1, 1, 2, 5, 6, 8, 1, 5, 1, 2, 2, 10, 1, 2, 4, 5, 2, 4, 2, 1, 4, 6, 5, 8, 1, 3, 6, 7, 1, 2, 1, 2, 5, 3, 6, 6, 5, 6, 3, 9, 3, 5, 10, 2, 9, 3, 3, 6, 5, 2, 7, 1, 5, 6, 2, 8, 5, 1, 4, 9, 10, 5, 7, 4, 4, 6, 6, 10, 2, 7, 3, 4, 5, 3, 1, 4, 5, 6, 3, 5, 5, 10, 1, 3, 6, 5, 8, 9, 1, 5, 6, 7, 4, 5, 9, 2, 1, 2, 7, 9, 1, 9, 1, 7, 5, 6, 9, 1, 3, 1, 2, 5, 5, 8, 5, 10, 4, 4, 2, 7, 1, 1, 7, 8, 6, 8, 2, 7, 1, 3, 10, 2, 4, 2, 3, 7, 10, 8, 10, 2, 1, 2, 6, 3, 4, 4, 3, 9, 10, 4, 8, 1, 4, 8, 6, 7, 4, 5, 5, 1, 10, 1, 3, 6, 1, 8, 8, 7, 3, 6, 7, 1, 2, 6, 8], \"Freq\": [0.9275548458099365, 0.9789294600486755, 0.9715369939804077, 0.9980606436729431, 0.9176872372627258, 0.9275548458099365, 0.9548776745796204, 0.841977059841156, 0.9946494698524475, 0.00461911503225565, 0.9978879690170288, 0.8668826818466187, 0.9275662302970886, 0.44057679176330566, 0.5140062570571899, 0.9603092074394226, 0.9595479965209961, 0.9993604421615601, 0.994441032409668, 0.9400113821029663, 0.5422646999359131, 0.4338117837905884, 0.340598464012146, 0.09731385111808777, 0.340598464012146, 0.12164231389760971, 0.07298538833856583, 0.9581497311592102, 0.9135452508926392, 0.9858483672142029, 0.9795016646385193, 0.018097028136253357, 0.908754289150238, 0.9295743107795715, 0.9994729161262512, 0.9418003559112549, 0.953114926815033, 0.9881168007850647, 0.23817408084869385, 0.1587827205657959, 0.5557395219802856, 0.9140077829360962, 0.9339444637298584, 0.630346953868866, 0.030016520991921425, 0.21011564135551453, 0.13507434725761414, 0.6360376477241516, 0.3331625759601593, 0.9571437239646912, 0.002010806230828166, 0.040216121822595596, 0.9977285265922546, 0.5283023118972778, 0.0990566834807396, 0.3632078468799591, 0.496631920337677, 0.434552937746048, 0.9837794303894043, 0.10161831229925156, 0.48268699645996094, 0.15242746472358704, 0.2540457844734192, 0.9610297679901123, 0.8982735276222229, 0.9657751321792603, 0.9275548458099365, 0.9514190554618835, 0.9275548458099365, 0.9257041811943054, 0.4071756601333618, 0.5816795229911804, 0.9444664120674133, 0.9227951169013977, 0.9829760789871216, 0.18982365727424622, 0.09491182863712311, 0.6960200667381287, 0.48591408133506775, 0.513947606086731, 0.9178791642189026, 0.34953638911247253, 0.012945791706442833, 0.21360556781291962, 0.42073825001716614, 0.4904225766658783, 0.4904225766658783, 0.9891016483306885, 0.9608933329582214, 0.9106703996658325, 0.8981972336769104, 0.9772445559501648, 0.909355878829956, 0.9747697710990906, 0.9758431315422058, 0.9021592736244202, 0.8728121519088745, 0.12468744814395905, 0.6915044784545898, 0.3017474114894867, 0.004190936218947172, 0.9300317764282227, 0.9480334520339966, 0.9406203031539917, 0.9643251895904541, 0.9275548458099365, 0.8800197243690491, 0.9594542980194092, 0.8388399481773376, 0.04839461296796799, 0.11292076110839844, 0.9513148665428162, 0.8948399424552917, 0.17088772356510162, 0.7689947485923767, 0.9994378089904785, 0.8261300325393677, 0.07510273158550262, 0.9421303272247314, 0.16377314925193787, 0.7642746567726135, 0.8529657125473022, 0.31975534558296204, 0.6395106911659241, 0.953114926815033, 0.9426875114440918, 0.520420253276825, 0.11564894020557404, 0.212023064494133, 0.15419858694076538, 0.2922389507293701, 0.7013734579086304, 0.9699018597602844, 0.7329683303833008, 0.2443227767944336, 0.9406075477600098, 0.9706153869628906, 0.9636684656143188, 0.9696188569068909, 0.907529354095459, 0.953114926815033, 0.9246810078620911, 0.9693357944488525, 0.0287404153496027, 0.9579777717590332, 0.9275548458099365, 0.9275548458099365, 0.8344045877456665, 0.16046242415905, 0.9057727456092834, 0.9328687191009521, 0.0754787027835846, 0.9057444334030151, 0.9275548458099365, 0.19782014191150665, 0.24727517366409302, 0.4450953006744385, 0.09891007095575333, 0.7280453443527222, 0.24268178641796112, 0.2585771977901459, 0.10343087464570999, 0.6464429497718811, 0.8871297836303711, 0.8752771019935608, 0.997492790222168, 0.9973734617233276, 0.9976968765258789, 0.23356954753398895, 0.7007086277008057, 0.9503899216651917, 0.9354588389396667, 0.9233606457710266, 0.953114926815033, 0.3796709179878235, 0.5695064067840576, 0.9345902800559998, 0.9178762435913086, 0.9469549655914307, 0.8554030656814575, 0.9281371235847473, 0.9319903254508972, 0.9078122973442078, 0.07439685612916946, 0.892762303352356, 0.25850963592529297, 0.553949236869812, 0.1846497356891632, 0.9827357530593872, 0.016576265916228294, 0.864499568939209, 0.1316787451505661, 0.7638759016990662, 0.2107243835926056, 0.9514943361282349, 0.9229500889778137, 0.957899272441864, 0.5981353521347046, 0.39875689148902893, 0.9022665619850159, 0.9627165794372559, 0.9149706363677979, 0.975804328918457, 0.9747171998023987, 0.9889047145843506, 0.47231724858283997, 0.1848197877407074, 0.3285685181617737, 0.9275548458099365, 0.9574063420295715, 0.9176673293113708, 0.996964156627655, 0.6288898587226868, 0.3691309988498688, 0.3054722547531128, 0.698222279548645, 0.9560444951057434, 0.9985247254371643, 0.0008398020872846246, 0.9660323262214661, 0.9829872846603394, 0.7008334994316101, 0.2712903916835785, 0.022607533261179924, 0.7569103837013245, 0.2365344911813736, 0.4969603419303894, 0.4066039025783539, 0.06776731461286545, 0.8603347539901733, 0.13765355944633484, 0.20744264125823975, 0.5531803965568542, 0.24201640486717224, 0.4883403480052948, 0.2563786804676056, 0.09766806662082672, 0.14650210738182068, 0.9802693128585815, 0.9172114729881287, 0.9740111827850342, 0.017250878736376762, 0.009288934990763664, 0.454835444688797, 0.5306413769721985, 0.9485678672790527, 0.9043708443641663, 0.9870595335960388, 0.009920195676386356, 0.7280728220939636, 0.25324273109436035, 0.9982023239135742, 0.0009132683626376092, 0.9976515769958496, 0.9906179308891296, 0.8695142269134521, 0.26702311635017395, 0.5340462327003479, 0.1602138727903366, 0.9811760783195496, 0.9753445386886597, 0.2415115386247635, 0.7513692378997803, 0.9632049798965454, 0.9354116320610046, 0.400886207818985, 0.09544909745454788, 0.24816764891147614, 0.22907783091068268, 0.47097355127334595, 0.2943584620952606, 0.23548677563667297, 0.9530127644538879, 0.8801010847091675, 0.11813437193632126, 0.9719946980476379, 0.5356538891792297, 0.446378231048584, 0.953114926815033, 0.8889408707618713, 0.8889832496643066, 0.11934616416692734, 0.5967308282852173, 0.11934616416692734, 0.14918270707130432, 0.9632138013839722, 0.2365952730178833, 0.6703532934188843, 0.07886509597301483, 0.9711062908172607, 0.93392014503479, 0.9172114729881287, 0.9275548458099365, 0.3023117482662201, 0.5441611409187317, 0.1209246963262558, 0.8339847922325134, 0.953114926815033, 0.953114926815033, 0.9296374917030334, 0.07746978849172592, 0.9008952379226685, 0.9784862995147705, 0.9312273859977722, 0.9790740013122559, 0.9150433540344238, 0.07176810503005981, 0.9607211947441101, 0.07700449973344803, 0.4427758455276489, 0.462026983499527, 0.9632225036621094, 0.9417062401771545, 0.9658141732215881, 0.9690319299697876, 0.9989042282104492, 0.9980441927909851, 0.9368197321891785, 0.9429275393486023, 0.9611744284629822, 0.8246284127235413, 0.9924735426902771, 0.004247390665113926, 0.002831593621522188, 0.35861650109291077, 0.6096480488777161, 0.9800225496292114, 0.519797682762146, 0.4078412652015686, 0.007996887899935246, 0.06397510319948196, 0.9948680400848389, 0.0037471489049494267, 0.07787849009037018, 0.9172355532646179, 0.7885513305664062, 0.20393569767475128, 0.9634897112846375, 0.9656241536140442, 0.9954699873924255, 0.9681095480918884, 0.9984807372093201, 0.09908784180879593, 0.8917905688285828, 0.9189143180847168, 0.9269875884056091, 0.05757686868309975, 0.01151537336409092, 0.9867740869522095, 0.9911156892776489, 0.9274721741676331, 0.9993202686309814, 0.947953462600708, 0.9788331389427185, 0.2989233732223511, 0.7174161076545715, 0.4347566068172455, 0.560167133808136, 0.39376118779182434, 0.5906417369842529, 0.9973926544189453, 0.9275548458099365, 0.9654505252838135, 0.8168284893035889, 0.13613808155059814, 0.964102566242218, 0.9649282693862915, 0.9753429293632507, 0.8876619338989258, 0.9737980365753174, 0.9816122651100159, 0.007653896696865559, 0.009567370638251305, 0.9773716926574707, 0.3313402831554413, 0.18933729827404022, 0.18933729827404022, 0.28400593996047974, 0.9651136994361877, 0.9410246014595032, 0.9804344773292542, 0.9678615927696228, 0.9798623323440552, 0.001438857987523079, 0.017266295850276947, 0.9974079728126526, 0.953114926815033, 0.9605917930603027, 0.12412325292825699, 0.20687207579612732, 0.6206162571907043, 0.9531145095825195, 0.9592752456665039, 0.9485800266265869, 0.9877563118934631, 0.8136885762214661, 0.11042916029691696, 0.06974473595619202, 0.9317123889923096, 0.9694758057594299, 0.9938077330589294, 0.0028585074469447136, 0.0028585074469447136, 0.9482796788215637, 0.9304143190383911, 0.900658905506134, 0.9564512968063354, 0.025169771164655685, 0.9107443690299988, 0.9526163339614868, 0.9699516296386719, 0.8676701188087463, 0.8880569338798523, 0.9644436240196228, 0.970539927482605, 0.8234315514564514, 0.9937579035758972, 0.004537707194685936, 0.9641265273094177, 0.026057474315166473, 0.8969476222991943, 0.9691157937049866, 0.9800174236297607, 0.9643239378929138, 0.9485733509063721, 0.9868085980415344, 0.9836568236351013, 0.9764991998672485, 0.9650130867958069, 0.9945715665817261, 0.9994319677352905, 0.8877456188201904, 0.08070414513349533, 0.8330076932907104, 0.9490720629692078, 0.9172114729881287, 0.9917306303977966, 0.9643224477767944, 0.9436918497085571, 0.9401980042457581, 0.9916754961013794, 0.005164976231753826, 0.2942074239253998, 0.7060978412628174, 0.953114926815033, 0.4647851288318634, 0.10623660683631897, 0.4116668403148651, 0.9948967695236206, 0.002961002290248871, 0.14023050665855408, 0.7712677717208862, 0.9524990320205688, 0.933095395565033, 0.951948881149292, 0.9556587338447571, 0.9220391511917114, 0.8839073181152344, 0.9942150712013245, 0.4221934676170349, 0.5160142183303833, 0.953114926815033, 0.997699499130249, 0.8410215973854065, 0.9172114729881287, 0.9460313320159912, 0.9992396235466003, 0.9964525699615479, 0.9649867415428162, 0.8318693041801453, 0.1663738638162613, 0.9622513055801392, 0.196764275431633, 0.787057101726532, 0.5773499011993408, 0.4075411260128021, 0.9441627264022827, 0.9014782905578613, 0.25276821851730347, 0.1474481225013733, 0.568728506565094, 0.021064018830657005, 0.3773705065250397, 0.5832089185714722, 0.9727605581283569, 0.6307258605957031, 0.35902854800224304, 0.9157185554504395, 0.8976392149925232, 0.9751847982406616, 0.6303723454475403, 0.26115426421165466, 0.10806383192539215, 0.89085453748703, 0.22218036651611328, 0.7406011819839478, 0.8137598633766174, 0.07978037744760513, 0.10371449589729309, 0.9767102003097534, 0.9825392365455627, 0.9732517600059509, 0.9706062078475952, 0.966711163520813, 0.9635335803031921, 0.9302495121955872, 0.989698588848114, 0.8892053365707397, 0.04680028185248375, 0.9318466782569885, 0.9255146980285645, 0.9965783357620239, 0.8854443430900574, 0.08432803303003311, 0.979655385017395, 0.907099187374115, 0.07559160143136978, 0.30571603775024414, 0.6878610849380493, 0.952078640460968, 0.9610921740531921, 0.9145674705505371, 0.9296607375144958, 0.45626288652420044, 0.14408302307128906, 0.07204151153564453, 0.31217989325523376, 0.7384927868843079, 0.2272285521030426, 0.9645702838897705, 0.9665620923042297, 0.8837757110595703, 0.9038634300231934, 0.9526224136352539, 0.4554044306278229, 0.5407927632331848, 0.4286738336086273, 0.4946236312389374, 0.032974909991025925, 0.9334133267402649, 0.5621218085289001, 0.12179305404424667, 0.07494957000017166, 0.24358610808849335, 0.11103249341249466, 0.8327437043190002, 0.9663621187210083, 0.8800210356712341, 0.9498187303543091, 0.021657103672623634, 0.027844848111271858, 0.9724647998809814, 0.9615744948387146, 0.8879600167274475, 0.8033527135848999, 0.19184543192386627, 0.9619309306144714, 0.9404268860816956, 0.9344158172607422, 0.9642075300216675, 0.9275548458099365, 0.9982191324234009, 0.9720330238342285, 0.005355554167181253, 0.024099992588162422, 0.9714518189430237, 0.16419780254364014, 0.8209890723228455, 0.9991864562034607, 0.8978867530822754, 0.30684444308280945, 0.6750578284263611, 0.8865845203399658, 0.7680746912956238, 0.22927601635456085, 0.6276247501373291, 0.3530389368534088, 0.9562872648239136, 0.8150975108146667, 0.13584958016872406, 0.967856764793396, 0.9545707106590271, 0.9207155704498291, 0.8951317071914673, 0.2147214412689209, 0.7157381772994995, 0.9989187121391296, 0.9959867000579834, 0.9521835446357727, 0.953114926815033, 0.7072506546974182, 0.26056602597236633, 0.9485125541687012, 0.9704838395118713, 0.9950025677680969, 0.004877463448792696, 0.8234315514564514, 0.9685874581336975, 0.932846188545227, 0.2681683599948883, 0.3352104425430298, 0.36873146891593933, 0.9188974499702454, 0.890968918800354, 0.9172114729881287, 0.9510518908500671, 0.28917691111564636, 0.6024519205093384, 0.09639230370521545, 0.32954931259155273, 0.6590986251831055, 0.8992955684661865, 0.9797036647796631, 0.9275548458099365, 0.9172114729881287, 0.9052661061286926, 0.9531145095825195, 0.21217985451221466, 0.7426295280456543, 0.9531145095825195, 0.9618794322013855, 0.9318150281906128, 0.6567662954330444, 0.3064909279346466, 0.9256677031517029, 0.9966581463813782, 0.8554437160491943, 0.9964425563812256, 0.0025747870095074177, 0.9648321270942688, 0.9964168667793274, 0.8943597674369812, 0.9711772203445435, 0.9252435564994812, 0.9435943365097046, 0.20067955553531647, 0.8027182221412659, 0.998538613319397, 0.4412369430065155, 0.24819578230381012, 0.30335038900375366], \"Term\": [\"abbreviation\", \"abc\", \"according\", \"actually\", \"advice\", \"africa\", \"aged\", \"aldea\", \"also\", \"also\", \"always\", \"amateur\", \"amazingly\", \"america\", \"america\", \"appealing\", \"arepas\", \"around\", \"artichoke\", \"asshole\", \"authentic\", \"authentic\", \"avenue\", \"avenue\", \"avenue\", \"avenue\", \"avenue\", \"awarded\", \"awful\", \"awkward\", \"back\", \"back\", \"balance\", \"bandwagon\", \"bar\", \"barns\", \"bask\", \"bbq\", \"beach\", \"beach\", \"beach\", \"beat\", \"became\", \"beef\", \"beef\", \"beef\", \"beef\", \"beers\", \"beers\", \"best\", \"best\", \"best\", \"better\", \"bistro\", \"bistro\", \"bistro\", \"blind\", \"blind\", \"blt\", \"blue\", \"blue\", \"blue\", \"blue\", \"bobo\", \"bohemian\", \"bone\", \"bongo\", \"bourbon\", \"bourgeois\", \"box\", \"brasserie\", \"brasserie\", \"breslin\", \"brighter\", \"brisket\", \"broth\", \"broth\", \"broth\", \"brunch\", \"brunch\", \"buddy\", \"burger\", \"burger\", \"burger\", \"burger\", \"burgers\", \"burgers\", \"bus\", \"calamari\", \"canal\", \"candle\", \"caracas\", \"careful\", \"carte\", \"celebrity\", \"changes\", \"cheap\", \"cheap\", \"chicken\", \"chicken\", \"chicken\", \"chopped\", \"chops\", \"chronic\", \"clay\", \"clears\", \"clever\", \"clientele\", \"club\", \"club\", \"club\", \"cod\", \"colors\", \"combinations\", \"combinations\", \"come\", \"compared\", \"compared\", \"complaining\", \"complete\", \"complete\", \"confusion\", \"consistent\", \"consistent\", \"continuously\", \"control\", \"counter\", \"counter\", \"counter\", \"counter\", \"crazy\", \"crazy\", \"crispo\", \"cuisine\", \"cuisine\", \"cultures\", \"cured\", \"death\", \"decor\", \"deli\", \"deliberately\", \"dim\", \"dinner\", \"dinner\", \"dollar\", \"donate\", \"donation\", \"double\", \"double\", \"downright\", \"dressing\", \"dropped\", \"dropped\", \"drums\", \"dry\", \"dry\", \"dry\", \"dry\", \"dudes\", \"dudes\", \"dumplings\", \"dumplings\", \"dumplings\", \"dylan\", \"ease\", \"east\", \"eat\", \"eating\", \"efforts\", \"efforts\", \"elephant\", \"embrace\", \"emily\", \"enabling\", \"enchiladas\", \"enchiladas\", \"encourage\", \"ensure\", \"enthusiasts\", \"entryway\", \"epitome\", \"era\", \"esquina\", \"essex\", \"essex\", \"establishments\", \"establishments\", \"establishments\", \"even\", \"even\", \"ever\", \"ever\", \"expected\", \"expected\", \"experiences\", \"expert\", \"exposed\", \"eye\", \"eye\", \"faces\", \"fajitas\", \"falling\", \"falls\", \"fanelli\", \"fans\", \"fast\", \"fast\", \"fast\", \"fateful\", \"feast\", \"filet\", \"find\", \"fish\", \"fish\", \"flex\", \"flex\", \"flock\", \"food\", \"food\", \"fort\", \"forty\", \"french\", \"french\", \"french\", \"fried\", \"fried\", \"fries\", \"fries\", \"fries\", \"front\", \"front\", \"fully\", \"fully\", \"fully\", \"game\", \"game\", \"game\", \"game\", \"gari\", \"geisha\", \"get\", \"get\", \"get\", \"gives\", \"gives\", \"glad\", \"glory\", \"going\", \"going\", \"gon\", \"gon\", \"good\", \"good\", \"great\", \"greek\", \"grew\", \"happily\", \"happily\", \"happily\", \"harlem\", \"hat\", \"hate\", \"hate\", \"heather\", \"heaven\", \"hell\", \"hell\", \"hell\", \"hell\", \"highly\", \"highly\", \"highly\", \"hipster\", \"hit\", \"hit\", \"honest\", \"honestly\", \"honestly\", \"hopped\", \"horse\", \"housewives\", \"hungry\", \"hungry\", \"hungry\", \"hungry\", \"hurting\", \"hype\", \"hype\", \"hype\", \"immaculate\", \"impression\", \"inc.\", \"inconsolably\", \"indeed\", \"indeed\", \"indeed\", \"indian\", \"infuriating\", \"injury\", \"inn\", \"inn\", \"insult\", \"ippudo\", \"ivan\", \"japan\", \"japanese\", \"japanese\", \"joe\", \"joint\", \"joint\", \"joint\", \"joints\", \"joke\", \"keith\", \"kept\", \"kind\", \"know\", \"kosher\", \"lastly\", \"lebanese\", \"lemon\", \"like\", \"like\", \"like\", \"liked\", \"liked\", \"lindo\", \"line\", \"line\", \"line\", \"line\", \"little\", \"little\", \"lobster\", \"lobster\", \"local\", \"local\", \"locals\", \"los\", \"love\", \"mag\", \"make\", \"margarita\", \"margarita\", \"mary\", \"meal\", \"meal\", \"meal\", \"meatball\", \"meatpacking\", \"mecca\", \"menu\", \"mermaid\", \"mess\", \"met\", \"met\", \"mexican\", \"mexican\", \"midtown\", \"midtown\", \"might\", \"mingle\", \"mission\", \"mistake\", \"mistake\", \"models\", \"mole\", \"monkey\", \"moves\", \"mozzarella\", \"much\", \"much\", \"much\", \"mussels\", \"must\", \"must\", \"must\", \"must\", \"napkin\", \"nation\", \"neapolitan\", \"necessary\", \"new\", \"new\", \"new\", \"night\", \"non-recession\", \"noodle\", \"noodles\", \"noodles\", \"noodles\", \"not-rushed\", \"noting\", \"novita\", \"nowhere\", \"nyc\", \"nyc\", \"nyc\", \"obsessed\", \"omakase\", \"one\", \"one\", \"one\", \"onion\", \"online\", \"otto\", \"oven\", \"oven\", \"overcooked\", \"overrated\", \"paella\", \"painfully\", \"painted\", \"pan\", \"paradou\", \"parson\", \"people\", \"people\", \"per\", \"per\", \"perry\", \"peter\", \"photo\", \"pianos\", \"pickles\", \"pie\", \"pieces\", \"pies\", \"pink\", \"pizza\", \"place\", \"planet\", \"planet\", \"plastic\", \"plentiful\", \"polishing\", \"porchetta\", \"portuguese\", \"posto\", \"praise\", \"pretty\", \"pretty\", \"price\", \"price\", \"pricing\", \"prime\", \"prime\", \"prime\", \"probably\", \"probably\", \"promise\", \"promise\", \"pub\", \"pulled\", \"pushed\", \"pylos\", \"quirky\", \"rai\", \"ramen\", \"rate\", \"rate\", \"rates\", \"really\", \"recommendation\", \"regions\", \"remembered\", \"restaurant\", \"restaurants\", \"reviews\", \"rib\", \"rib\", \"ribbon\", \"ribs\", \"ribs\", \"rice\", \"rice\", \"ridiculously\", \"rightfully\", \"roll\", \"roll\", \"roll\", \"roll\", \"rolls\", \"rolls\", \"sake\", \"salad\", \"salad\", \"sale\", \"salon\", \"salsa\", \"sandwich\", \"sandwich\", \"sandwich\", \"scoop\", \"sea\", \"sea\", \"served\", \"served\", \"served\", \"sfoglia\", \"shack\", \"shake\", \"shoulder\", \"sidewalk\", \"signature\", \"singing\", \"site\", \"situated\", \"situated\", \"skin\", \"sleep\", \"slice\", \"slices\", \"slices\", \"slop\", \"slow\", \"slow\", \"smoked\", \"smoked\", \"soba\", \"socarrat\", \"sons\", \"sophisticated\", \"soup\", \"soup\", \"soup\", \"soup\", \"speaking\", \"speaking\", \"specialize\", \"specials\", \"spinach\", \"sprawling\", \"spruce\", \"standard\", \"standard\", \"standards\", \"standards\", \"standards\", \"stars\", \"steak\", \"steak\", \"steak\", \"steak\", \"steakhouse\", \"steakhouse\", \"steaks\", \"steamy\", \"still\", \"still\", \"still\", \"strike\", \"stumbled\", \"stupid\", \"style\", \"style\", \"suggested\", \"suggestion\", \"sum\", \"supposed\", \"surcharge\", \"sushi\", \"table\", \"table\", \"table\", \"taco\", \"tacos\", \"tacos\", \"take\", \"tall\", \"tap\", \"tap\", \"taqueria\", \"taste\", \"taste\", \"tasting\", \"tasting\", \"teen\", \"texas\", \"texas\", \"tgi\", \"thai\", \"thank\", \"thankfully\", \"theme\", \"theme\", \"things\", \"think\", \"thirty\", \"three-fold\", \"thursday\", \"thursday\", \"tier\", \"tiger\", \"time\", \"time\", \"tipsy\", \"toro\", \"tortilla\", \"totally\", \"totally\", \"totally\", \"totto\", \"trattoria\", \"treatments\", \"truffle\", \"tuna\", \"tuna\", \"tuna\", \"understand\", \"understand\", \"unfinished\", \"universal\", \"unsatisfying\", \"variation\", \"vegas\", \"venezuelan\", \"via\", \"via\", \"vie\", \"vintage\", \"visited\", \"waiters\", \"waiters\", \"walter\", \"want\", \"warranted\", \"way\", \"way\", \"weird\", \"well\", \"well-oiled\", \"westville\", \"wife\", \"wise\", \"worthy\", \"worthy\", \"would\", \"write\", \"write\", \"write\"]}, \"R\": 30, \"lambda.step\": 0.01, \"plot.opts\": {\"xlab\": \"PC1\", \"ylab\": \"PC2\"}, \"topic.order\": [4, 6, 1, 5, 9, 7, 8, 2, 10, 3]};\n",
       "\n",
       "function LDAvis_load_lib(url, callback){\n",
       "  var s = document.createElement('script');\n",
       "  s.src = url;\n",
       "  s.async = true;\n",
       "  s.onreadystatechange = s.onload = callback;\n",
       "  s.onerror = function(){console.warn(\"failed to load library \" + url);};\n",
       "  document.getElementsByTagName(\"head\")[0].appendChild(s);\n",
       "}\n",
       "\n",
       "if(typeof(LDAvis) !== \"undefined\"){\n",
       "   // already loaded: just create the visualization\n",
       "   !function(LDAvis){\n",
       "       new LDAvis(\"#\" + \"ldavis_el3393849195208565813911095\", ldavis_el3393849195208565813911095_data);\n",
       "   }(LDAvis);\n",
       "}else if(typeof define === \"function\" && define.amd){\n",
       "   // require.js is available: use it to load d3/LDAvis\n",
       "   require.config({paths: {d3: \"https://cdnjs.cloudflare.com/ajax/libs/d3/3.5.5/d3.min\"}});\n",
       "   require([\"d3\"], function(d3){\n",
       "      window.d3 = d3;\n",
       "      LDAvis_load_lib(\"https://cdn.rawgit.com/bmabey/pyLDAvis/files/ldavis.v1.0.0.js\", function(){\n",
       "        new LDAvis(\"#\" + \"ldavis_el3393849195208565813911095\", ldavis_el3393849195208565813911095_data);\n",
       "      });\n",
       "    });\n",
       "}else{\n",
       "    // require.js not available: dynamically load d3 & LDAvis\n",
       "    LDAvis_load_lib(\"https://cdnjs.cloudflare.com/ajax/libs/d3/3.5.5/d3.min.js\", function(){\n",
       "         LDAvis_load_lib(\"https://cdn.rawgit.com/bmabey/pyLDAvis/files/ldavis.v1.0.0.js\", function(){\n",
       "                 new LDAvis(\"#\" + \"ldavis_el3393849195208565813911095\", ldavis_el3393849195208565813911095_data);\n",
       "            })\n",
       "         });\n",
       "}\n",
       "</script>"
      ],
      "text/plain": [
       "PreparedData(topic_coordinates=              x         y  topics  cluster       Freq\n",
       "topic                                                \n",
       "3      0.418509 -0.054476       1        1  71.791542\n",
       "5      0.005261 -0.156410       2        1   4.674457\n",
       "0      0.066089  0.287335       3        1   4.622446\n",
       "4     -0.059207 -0.054656       4        1   3.992993\n",
       "8     -0.063654 -0.001612       5        1   3.393425\n",
       "6     -0.065248  0.006093       6        1   3.117555\n",
       "7     -0.059393 -0.016326       7        1   2.801363\n",
       "1     -0.088392  0.003820       8        1   2.178845\n",
       "9     -0.076309 -0.007546       9        1   1.787282\n",
       "2     -0.077656 -0.006222      10        1   1.640092, topic_info=      Category         Freq        Term        Total  loglift  logprob\n",
       "term                                                                  \n",
       "1281   Default   238.000000     chicken   238.000000  30.0000  30.0000\n",
       "128    Default   173.000000       pizza   173.000000  29.0000  29.0000\n",
       "229    Default   219.000000        fish   219.000000  28.0000  28.0000\n",
       "300    Default   161.000000       sushi   161.000000  27.0000  27.0000\n",
       "2358   Default   119.000000     mexican   119.000000  26.0000  26.0000\n",
       "1893   Default   154.000000      burger   154.000000  25.0000  25.0000\n",
       "1308   Default   169.000000         hit   169.000000  24.0000  24.0000\n",
       "900    Default    90.000000       ramen    90.000000  23.0000  23.0000\n",
       "218    Default   382.000000      dinner   382.000000  22.0000  22.0000\n",
       "3263   Default   115.000000     lobster   115.000000  21.0000  21.0000\n",
       "3399   Default   107.000000      brunch   107.000000  20.0000  20.0000\n",
       "638    Default    79.000000       tacos    79.000000  19.0000  19.0000\n",
       "12     Default   497.000000        best   497.000000  18.0000  18.0000\n",
       "246    Default   347.000000        meal   347.000000  17.0000  17.0000\n",
       "279    Default  1117.000000  restaurant  1117.000000  16.0000  16.0000\n",
       "367    Default  1190.000000        food  1190.000000  15.0000  15.0000\n",
       "536    Default   126.000000       fried   126.000000  14.0000  14.0000\n",
       "154    Default    93.000000       slice    93.000000  13.0000  13.0000\n",
       "741    Default   125.000000        line   125.000000  12.0000  12.0000\n",
       "447    Default   373.000000       table   373.000000  11.0000  11.0000\n",
       "54     Default   174.000000        ever   174.000000  10.0000  10.0000\n",
       "129    Default  1015.000000       place  1015.000000   9.0000   9.0000\n",
       "1460   Default   103.000000       salad   103.000000   8.0000   8.0000\n",
       "113    Default   172.000000         nyc   172.000000   7.0000   7.0000\n",
       "78     Default  1094.000000        good  1094.000000   6.0000   6.0000\n",
       "90     Default  1412.000000        like  1412.000000   5.0000   5.0000\n",
       "1097   Default    96.000000       cheap    96.000000   4.0000   4.0000\n",
       "440    Default   323.000000       still   323.000000   3.0000   3.0000\n",
       "4065   Default    71.000000     midtown    71.000000   2.0000   2.0000\n",
       "1112   Default    64.000000       greek    64.000000   1.0000   1.0000\n",
       "...        ...          ...         ...          ...      ...      ...\n",
       "4729   Topic10     7.665613      pushed     8.403812   4.0185  -5.6637\n",
       "10086  Topic10     7.182289         rai     7.919382   4.0127  -5.7288\n",
       "9905   Topic10     6.779871        ivan     7.516961   4.0072  -5.7865\n",
       "7795   Topic10     6.695309       barns     7.432573   4.0060  -5.7990\n",
       "12967  Topic10     6.610323      spruce     7.348137   4.0046  -5.8118\n",
       "14409  Topic10     6.388745       aldea     7.126085   4.0012  -5.8459\n",
       "10630  Topic10     6.275803   warranted     7.013904   3.9992  -5.8637\n",
       "11383  Topic10     6.274656    entryway     7.014237   3.9990  -5.8639\n",
       "8472   Topic10     6.080772      steamy     6.818019   3.9960  -5.8953\n",
       "7684   Topic10     6.080748      clever     6.818029   3.9960  -5.8953\n",
       "12299  Topic10     5.951081       perry     6.689354   3.9935  -5.9169\n",
       "14870  Topic10     5.804172      geisha     6.541567   3.9908  -5.9419\n",
       "14871  Topic10     5.804172        inc.     6.541567   3.9908  -5.9419\n",
       "14872  Topic10     5.804172   polishing     6.541567   3.9908  -5.9419\n",
       "14873  Topic10     5.804172     regions     6.541567   3.9908  -5.9419\n",
       "14874  Topic10     5.804172  treatments     6.541567   3.9908  -5.9419\n",
       "14875  Topic10     5.804172   variation     6.541567   3.9908  -5.9419\n",
       "5609   Topic10    11.693110     dropped    13.248771   3.9855  -5.2414\n",
       "14492  Topic10     5.334524      parson     6.072150   3.9809  -6.0262\n",
       "14495  Topic10     5.334524       tipsy     6.072150   3.9809  -6.0262\n",
       "5450   Topic10     5.325308       lemon     6.063337   3.9806  -6.0280\n",
       "4448   Topic10     5.264738     plastic     6.002346   3.9793  -6.0394\n",
       "1819   Topic10    22.320793       broth    31.608284   3.7625  -4.5949\n",
       "14526  Topic10    15.654944        flex    22.915339   3.7294  -4.9496\n",
       "1626   Topic10    15.091196     noodles    24.169525   3.6394  -4.9863\n",
       "437    Topic10    12.575931        soup    41.642658   2.9131  -5.1686\n",
       "6695   Topic10     6.934064     america    13.618511   3.4354  -5.7640\n",
       "10605  Topic10     7.183079       blind    16.108509   3.3028  -5.7287\n",
       "6393   Topic10     6.554463       gives    13.191584   3.4110  -5.8203\n",
       "3313   Topic10     5.940103     efforts     8.562760   3.7447  -5.9187\n",
       "\n",
       "[488 rows x 6 columns], token_table=       Topic      Freq          Term\n",
       "term                                \n",
       "14892      9  0.927555  abbreviation\n",
       "6130       8  0.978929           abc\n",
       "2814       2  0.971537     according\n",
       "672        1  0.998061      actually\n",
       "1663       2  0.917687        advice\n",
       "14893      9  0.927555        africa\n",
       "2315       6  0.954878          aged\n",
       "14409     10  0.841977         aldea\n",
       "1          1  0.994649          also\n",
       "1          2  0.004619          also\n",
       "2          1  0.997888        always\n",
       "8670       7  0.866883       amateur\n",
       "10723      4  0.927566     amazingly\n",
       "6695       2  0.440577       america\n",
       "6695      10  0.514006       america\n",
       "6297       2  0.960309     appealing\n",
       "12724      8  0.959548        arepas\n",
       "6          1  0.999360        around\n",
       "6866       8  0.994441     artichoke\n",
       "3498       7  0.940011       asshole\n",
       "4936       6  0.542265     authentic\n",
       "4936       7  0.433812     authentic\n",
       "3541       4  0.340598        avenue\n",
       "3541       6  0.097314        avenue\n",
       "3541       7  0.340598        avenue\n",
       "3541       8  0.121642        avenue\n",
       "3541      10  0.072985        avenue\n",
       "8671       4  0.958150       awarded\n",
       "8618       4  0.913545         awful\n",
       "6931       4  0.985848       awkward\n",
       "...      ...       ...           ...\n",
       "5712       4  0.899296    unfinished\n",
       "6128       3  0.979704     universal\n",
       "14905      9  0.927555  unsatisfying\n",
       "14875     10  0.917211     variation\n",
       "12306      4  0.905266         vegas\n",
       "14922      8  0.953115    venezuelan\n",
       "5941       1  0.212180           via\n",
       "5941       4  0.742630           via\n",
       "14923      8  0.953115           vie\n",
       "2875       6  0.961879       vintage\n",
       "3536       7  0.931815       visited\n",
       "5471       4  0.656766       waiters\n",
       "5471       5  0.306491       waiters\n",
       "6994       5  0.925668        walter\n",
       "187        1  0.996658          want\n",
       "10630     10  0.855444     warranted\n",
       "188        1  0.996443           way\n",
       "188        3  0.002575           way\n",
       "5208       6  0.964832         weird\n",
       "189        1  0.996417          well\n",
       "5905       8  0.894360    well-oiled\n",
       "10307      8  0.971177     westville\n",
       "5282       7  0.925244          wife\n",
       "8329       3  0.943594          wise\n",
       "6793       6  0.200680        worthy\n",
       "6793       7  0.802718        worthy\n",
       "194        1  0.998539         would\n",
       "466        2  0.441237         write\n",
       "466        6  0.248196         write\n",
       "466        8  0.303350         write\n",
       "\n",
       "[641 rows x 3 columns], R=30, lambda_step=0.01, plot_opts={'xlab': 'PC1', 'ylab': 'PC2'}, topic_order=[4, 6, 1, 5, 9, 7, 8, 2, 10, 3])"
      ]
     },
     "execution_count": 19,
     "metadata": {},
     "output_type": "execute_result"
    }
   ],
   "source": [
    "# Visualize the topics\n",
    "pyLDAvis.enable_notebook()\n",
    "vis = pyLDAvis.gensim.prepare(lda_model, corpus, dictionary)\n",
    "vis"
   ]
  },
  {
   "cell_type": "markdown",
   "metadata": {},
   "source": [
    "#### It seems like there is a large topic with pretty general words. I will add these to a list of stopwords and remove these in the preprocessing step."
   ]
  },
  {
   "cell_type": "code",
   "execution_count": 20,
   "metadata": {},
   "outputs": [
    {
     "data": {
      "text/plain": [
       "[(90, 0.014497536),\n",
       " (367, 0.012296135),\n",
       " (279, 0.011550464),\n",
       " (78, 0.011302702),\n",
       " (115, 0.01078258),\n",
       " (129, 0.010493399),\n",
       " (73, 0.00758488),\n",
       " (401, 0.007042163),\n",
       " (266, 0.006795499),\n",
       " (1, 0.0066784373)]"
      ]
     },
     "execution_count": 20,
     "metadata": {},
     "output_type": "execute_result"
    }
   ],
   "source": [
    "lda_model.get_topic_terms(3)"
   ]
  },
  {
   "cell_type": "markdown",
   "metadata": {},
   "source": [
    "We can extract the top keywords for each topic easily, using `lda_model.top_topics(corpus)` and reference the index for the topic of interest and then the `[0]` index will give a list of tuples with the first value being the percentage and the second being the actual word."
   ]
  },
  {
   "cell_type": "code",
   "execution_count": 21,
   "metadata": {},
   "outputs": [],
   "source": [
    "def get_new_stopwords(model, idx):\n",
    "    new_stops = []\n",
    "    for i in model.top_topics(corpus)[idx][0]:\n",
    "        new_stops.append(i[1])\n",
    "    return new_stops"
   ]
  },
  {
   "cell_type": "code",
   "execution_count": 22,
   "metadata": {},
   "outputs": [],
   "source": [
    "new_stopwords = get_new_stopwords(lda_model, 0)"
   ]
  },
  {
   "cell_type": "markdown",
   "metadata": {},
   "source": [
    "### Complicated way to get words using `print_topics`."
   ]
  },
  {
   "cell_type": "code",
   "execution_count": null,
   "metadata": {},
   "outputs": [],
   "source": [
    "topics_new = []\n",
    "for i in lda_model.print_topics()[3][1].split('*'):\n",
    "    if '+' in i:\n",
    "        topics_new.append(i)"
   ]
  },
  {
   "cell_type": "code",
   "execution_count": null,
   "metadata": {},
   "outputs": [],
   "source": [
    "topics_to_add = []\n",
    "for i in topics_new:\n",
    "    topics_to_add.append(i.split('+')[0].replace('\"', '').replace(' ', ''))"
   ]
  },
  {
   "cell_type": "code",
   "execution_count": null,
   "metadata": {},
   "outputs": [],
   "source": [
    "topics_to_add = get_new_stopwords(lda_model, 3)"
   ]
  },
  {
   "cell_type": "code",
   "execution_count": null,
   "metadata": {},
   "outputs": [],
   "source": [
    "topics_to_add"
   ]
  },
  {
   "cell_type": "code",
   "execution_count": null,
   "metadata": {},
   "outputs": [],
   "source": [
    "# Build the LSI model\n",
    "lsi_model = models.LsiModel(corpus=corpus, num_topics=NUM_TOPICS, id2word=dictionary)"
   ]
  },
  {
   "cell_type": "code",
   "execution_count": null,
   "metadata": {},
   "outputs": [],
   "source": [
    "lsi_model.get_topics()"
   ]
  },
  {
   "cell_type": "code",
   "execution_count": null,
   "metadata": {},
   "outputs": [],
   "source": [
    "print(\"LSI Model:\")\n",
    " \n",
    "for idx in range(NUM_TOPICS):\n",
    "    # Print the first 10 most representative topics\n",
    "    print(\"Topic #%s:\" % idx, lsi_model.print_topic(idx, 10))"
   ]
  },
  {
   "cell_type": "markdown",
   "metadata": {},
   "source": []
  },
  {
   "cell_type": "markdown",
   "metadata": {},
   "source": [
    "### Build a second model after adding more stop words"
   ]
  },
  {
   "cell_type": "code",
   "execution_count": 57,
   "metadata": {},
   "outputs": [],
   "source": [
    "stpwrds = stopwords.words('english')"
   ]
  },
  {
   "cell_type": "code",
   "execution_count": 58,
   "metadata": {},
   "outputs": [],
   "source": [
    "stpwrds.extend(new_stopwords)"
   ]
  },
  {
   "cell_type": "code",
   "execution_count": 40,
   "metadata": {},
   "outputs": [],
   "source": [
    "stpwrds.extend(new_stopwords)"
   ]
  },
  {
   "cell_type": "code",
   "execution_count": 25,
   "metadata": {},
   "outputs": [
    {
     "ename": "TypeError",
     "evalue": "argument of type 'NoneType' is not iterable",
     "output_type": "error",
     "traceback": [
      "\u001b[0;31m---------------------------------------------------------------------------\u001b[0m",
      "\u001b[0;31mTypeError\u001b[0m                                 Traceback (most recent call last)",
      "\u001b[0;32m<ipython-input-25-397860d39db0>\u001b[0m in \u001b[0;36m<module>\u001b[0;34m\u001b[0m\n\u001b[0;32m----> 1\u001b[0;31m \u001b[0mtopic_model_preprocess\u001b[0m\u001b[0;34m(\u001b[0m\u001b[0mtext\u001b[0m\u001b[0;34m=\u001b[0m\u001b[0mdata\u001b[0m\u001b[0;34m,\u001b[0m \u001b[0mSTOPWORDS\u001b[0m\u001b[0;34m=\u001b[0m\u001b[0mnew_stops\u001b[0m\u001b[0;34m)\u001b[0m\u001b[0;34m\u001b[0m\u001b[0;34m\u001b[0m\u001b[0m\n\u001b[0m",
      "\u001b[0;32m<ipython-input-13-d0e09dd759ed>\u001b[0m in \u001b[0;36mtopic_model_preprocess\u001b[0;34m(text, STOPWORDS)\u001b[0m\n\u001b[1;32m      6\u001b[0m \u001b[0;34m\u001b[0m\u001b[0m\n\u001b[1;32m      7\u001b[0m     \u001b[0;31m#clean text\u001b[0m\u001b[0;34m\u001b[0m\u001b[0;34m\u001b[0m\u001b[0;34m\u001b[0m\u001b[0m\n\u001b[0;32m----> 8\u001b[0;31m         \u001b[0mcleaned_text\u001b[0m \u001b[0;34m=\u001b[0m \u001b[0;34m[\u001b[0m\u001b[0mt\u001b[0m \u001b[0;32mfor\u001b[0m \u001b[0mt\u001b[0m \u001b[0;32min\u001b[0m \u001b[0mtokenized_text\u001b[0m \u001b[0;32mif\u001b[0m \u001b[0mt\u001b[0m \u001b[0;32mnot\u001b[0m \u001b[0;32min\u001b[0m \u001b[0mSTOPWORDS\u001b[0m \u001b[0;32mand\u001b[0m \u001b[0mre\u001b[0m\u001b[0;34m.\u001b[0m\u001b[0mmatch\u001b[0m\u001b[0;34m(\u001b[0m\u001b[0;34m'[a-zA-Z\\-][a-zA-Z\\-]{2,}'\u001b[0m\u001b[0;34m,\u001b[0m \u001b[0mt\u001b[0m\u001b[0;34m)\u001b[0m\u001b[0;34m]\u001b[0m\u001b[0;34m\u001b[0m\u001b[0;34m\u001b[0m\u001b[0m\n\u001b[0m\u001b[1;32m      9\u001b[0m \u001b[0;34m\u001b[0m\u001b[0m\n\u001b[1;32m     10\u001b[0m     \u001b[0;31m#List of lists\u001b[0m\u001b[0;34m\u001b[0m\u001b[0;34m\u001b[0m\u001b[0;34m\u001b[0m\u001b[0m\n",
      "\u001b[0;32m<ipython-input-13-d0e09dd759ed>\u001b[0m in \u001b[0;36m<listcomp>\u001b[0;34m(.0)\u001b[0m\n\u001b[1;32m      6\u001b[0m \u001b[0;34m\u001b[0m\u001b[0m\n\u001b[1;32m      7\u001b[0m     \u001b[0;31m#clean text\u001b[0m\u001b[0;34m\u001b[0m\u001b[0;34m\u001b[0m\u001b[0;34m\u001b[0m\u001b[0m\n\u001b[0;32m----> 8\u001b[0;31m         \u001b[0mcleaned_text\u001b[0m \u001b[0;34m=\u001b[0m \u001b[0;34m[\u001b[0m\u001b[0mt\u001b[0m \u001b[0;32mfor\u001b[0m \u001b[0mt\u001b[0m \u001b[0;32min\u001b[0m \u001b[0mtokenized_text\u001b[0m \u001b[0;32mif\u001b[0m \u001b[0mt\u001b[0m \u001b[0;32mnot\u001b[0m \u001b[0;32min\u001b[0m \u001b[0mSTOPWORDS\u001b[0m \u001b[0;32mand\u001b[0m \u001b[0mre\u001b[0m\u001b[0;34m.\u001b[0m\u001b[0mmatch\u001b[0m\u001b[0;34m(\u001b[0m\u001b[0;34m'[a-zA-Z\\-][a-zA-Z\\-]{2,}'\u001b[0m\u001b[0;34m,\u001b[0m \u001b[0mt\u001b[0m\u001b[0;34m)\u001b[0m\u001b[0;34m]\u001b[0m\u001b[0;34m\u001b[0m\u001b[0;34m\u001b[0m\u001b[0m\n\u001b[0m\u001b[1;32m      9\u001b[0m \u001b[0;34m\u001b[0m\u001b[0m\n\u001b[1;32m     10\u001b[0m     \u001b[0;31m#List of lists\u001b[0m\u001b[0;34m\u001b[0m\u001b[0;34m\u001b[0m\u001b[0;34m\u001b[0m\u001b[0m\n",
      "\u001b[0;31mTypeError\u001b[0m: argument of type 'NoneType' is not iterable"
     ]
    }
   ],
   "source": [
    "topic_model_preprocess(text=data, STOPWORDS=new_stops)"
   ]
  },
  {
   "cell_type": "code",
   "execution_count": null,
   "metadata": {},
   "outputs": [],
   "source": [
    "# Build the LDA model\n",
    "lda_model_2 = models.LdaModel(corpus=corpus, \n",
    "                            num_topics=10, #10 Topics\n",
    "                            id2word=dictionary,\n",
    "                            random_state=100,\n",
    "                            update_every=1,\n",
    "                            chunksize=100,\n",
    "                            passes=10,\n",
    "                            alpha='auto',\n",
    "                            per_word_topics=True)"
   ]
  },
  {
   "cell_type": "code",
   "execution_count": null,
   "metadata": {},
   "outputs": [],
   "source": [
    "# Print the Keywords for each of the 10 topics\n",
    "print(lda_model_2.print_topics())\n",
    "\n",
    "doc_lda = lda_model_2[corpus]"
   ]
  },
  {
   "cell_type": "code",
   "execution_count": null,
   "metadata": {},
   "outputs": [],
   "source": [
    "# Compute Perplexity\n",
    "print('\\nPerplexity: ', lda_model_2.log_perplexity(corpus))  # a measure of how good the model is. lower the better.\n",
    "\n",
    "# Compute Coherence Score\n",
    "coherence_model_lda_2 = CoherenceModel(model=lda_model_2, texts=tokenized_cleaned, dictionary=dictionary, coherence='c_v')\n",
    "coherence_lda_2 = coherence_model_lda_2.get_coherence()\n",
    "print('\\nCoherence Score: ', coherence_lda_2)"
   ]
  },
  {
   "cell_type": "code",
   "execution_count": null,
   "metadata": {
    "scrolled": true
   },
   "outputs": [],
   "source": [
    "vis_2 = pyLDAvis.gensim.prepare(lda_model_2, corpus, dictionary)\n",
    "vis_2"
   ]
  },
  {
   "cell_type": "code",
   "execution_count": null,
   "metadata": {},
   "outputs": [],
   "source": [
    "#Try with 5 topics\n",
    "# Build the LDA model\n",
    "lda_model_3 = models.LdaModel(corpus=corpus, \n",
    "                            num_topics=5, #5 Topics\n",
    "                            id2word=dictionary,\n",
    "                            random_state=100,\n",
    "                            update_every=1,\n",
    "                            chunksize=100,\n",
    "                            passes=10,\n",
    "                            alpha='auto',\n",
    "                            per_word_topics=True)\n",
    "\n",
    "# Compute Perplexity\n",
    "print('\\nPerplexity: ', lda_model_3.log_perplexity(corpus))  # a measure of how good the model is. lower the better.\n",
    "\n",
    "# Compute Coherence Score\n",
    "coherence_model_lda_3 = CoherenceModel(model=lda_model_3, texts=tokenized_cleaned, dictionary=dictionary, coherence='c_v')\n",
    "coherence_lda_3 = coherence_model_lda_3.get_coherence()\n",
    "print('\\nCoherence Score: ', coherence_lda_3)"
   ]
  },
  {
   "cell_type": "code",
   "execution_count": null,
   "metadata": {},
   "outputs": [],
   "source": [
    "vis_3 = pyLDAvis.gensim.prepare(lda_model_3, corpus, dictionary)\n",
    "vis_3"
   ]
  },
  {
   "cell_type": "markdown",
   "metadata": {},
   "source": [
    "## Use Gensim's build in similarity function to build a recommender"
   ]
  },
  {
   "cell_type": "code",
   "execution_count": null,
   "metadata": {},
   "outputs": [],
   "source": [
    "index = 83 #have & meyer"
   ]
  },
  {
   "cell_type": "code",
   "execution_count": null,
   "metadata": {},
   "outputs": [],
   "source": [
    "text = '''At Bed Bath & Beyond, you can return a waffle iron that you bought two years prior. And if you get a membership to Costco, you can eat as many free samples as your shame will allow (typically, many). We aren’t being paid by these companies to say any of this - we just think that these are perks that probably shouldn’t exist. Sort of like the wine list at Have & Meyer.\n",
    "Have & Meyer is an Italian wine bar in Williamsburg where you can choose from over 90 natural wines by the glass. If this sounds ridiculous, that’s because it is. It’s sort of like if a movie theater decided to show every current release along with the entire filmography of Nicolas Cage. It’s great and irrational - and, if all of this wine sounds intimidating, you should know that this place is surprisingly unpretentious. If you mispronounce a word, your server will get the gist, and if your wine knowledge is limited to whatever is currently on sale at Trader Joe’s, you might even learn something here. \n",
    "To soak up all this wine, there’s some pasta, charcuterie, and larger things like lamb chops and octopus. None of it is really worth traveling for on its own, but it doesn’t need to be. The wine is the star here, and, much like the non-pig animals in Babe and the anaconda in Anaconda, the food plays a perfectly fine supporting role. Have some meat and cheese and maybe a pasta while you enjoy a few wines that you never knew existed, and you’ll be happy.\n",
    "If you aren’t, the servers will notice, and they’ll try to do something about it. The people here are weirdly nice (and tend to have Italian accents), and you’ll probably leave thinking that you’re more likable than you actually are. It’s a comforting place that feels like something you’d find behind a rotating fireplace in a mansion on a hill where there’s occasionally lightning. There are vintage-y lamps hanging from the ceiling and little antiques lying around, and the walls are lined with enough wine to calm every nervous flyer currently departing from JFK. \n",
    "Add all of this up, and it’s surprising that more people don’t know about Have & Meyer. It’s an ideal place to try some wine that would normally require a transatlantic trip, and you can get a seat here any night. So bring a date. Or stop by after you’ve had a long day and want to pretend that you own a wine cellar. Your server might open a bottle just for you - because that’s just what happens when a place has four tables, 15 barstools, and around 100 wines by the glass. And if your server winds up opening several bottles just so you can try a few things, don’t feel bad. Much like a quality return policy, you should be taking advantage of Have & Meyer'''\n",
    "bow = dictionary.doc2bow(clean_text(text))"
   ]
  },
  {
   "cell_type": "code",
   "execution_count": null,
   "metadata": {},
   "outputs": [],
   "source": [
    "from gensim import similarities\n",
    " "
   ]
  },
  {
   "cell_type": "code",
   "execution_count": null,
   "metadata": {},
   "outputs": [],
   "source": [
    "for i in lda_model[corpus][:10]:\n",
    "    print(i)"
   ]
  },
  {
   "cell_type": "code",
   "execution_count": null,
   "metadata": {},
   "outputs": [],
   "source": [
    "def gensim_recommender(restaurant, ):\n",
    "    "
   ]
  },
  {
   "cell_type": "code",
   "execution_count": null,
   "metadata": {},
   "outputs": [],
   "source": [
    "lda_index = similarities.MatrixSimilarity(lda_model[corpus])\n",
    " \n",
    "# Let's perform some queries\n",
    "similarities = lda_index[lda_model[bow]]\n",
    "# Sort the similarities\n",
    "similarities = sorted(enumerate(similarities), key=lambda item: -item[1])\n",
    " \n",
    "# Top most similar documents:\n",
    "print(similarities[:10])\n",
    "# [(104, 0.87591344), (178, 0.86124849), (31, 0.8604598), (77, 0.84932965), (85, 0.84843522), (135, 0.84421808), (215, 0.84184396), (353, 0.84038532), (254, 0.83498049), (13, 0.82832891)]\n",
    " "
   ]
  },
  {
   "cell_type": "code",
   "execution_count": null,
   "metadata": {},
   "outputs": [],
   "source": [
    "index_list = []\n",
    "for i in similarities[:6]:\n",
    "    index_list.append(i[0])"
   ]
  },
  {
   "cell_type": "code",
   "execution_count": null,
   "metadata": {},
   "outputs": [],
   "source": [
    "index_list"
   ]
  },
  {
   "cell_type": "code",
   "execution_count": null,
   "metadata": {},
   "outputs": [],
   "source": [
    "# Let's see what's the most similar document\n",
    "document_id, similarity = similarities[1]\n",
    "print(data[document_id][:1000])"
   ]
  },
  {
   "cell_type": "code",
   "execution_count": null,
   "metadata": {},
   "outputs": [],
   "source": [
    "df.columns"
   ]
  },
  {
   "cell_type": "code",
   "execution_count": null,
   "metadata": {
    "scrolled": true
   },
   "outputs": [],
   "source": [
    "for i in index_list:\n",
    "    print(df.loc[i, 'rest_name'])\n",
    "    print(df.loc[i, 'rest_rating'])\n",
    "    print(df.loc[i, 'rest_cost'])\n",
    "    print(df.loc[i, 'cuisine_type'])"
   ]
  },
  {
   "cell_type": "code",
   "execution_count": null,
   "metadata": {},
   "outputs": [],
   "source": [
    "from my_functions import recommendations\n",
    "# create cosine sim"
   ]
  },
  {
   "cell_type": "code",
   "execution_count": null,
   "metadata": {},
   "outputs": [],
   "source": [
    "recommendations"
   ]
  },
  {
   "cell_type": "code",
   "execution_count": null,
   "metadata": {},
   "outputs": [],
   "source": [
    "df.loc[521,'rest_review']"
   ]
  },
  {
   "cell_type": "markdown",
   "metadata": {},
   "source": [
    "## Try with LSA model"
   ]
  },
  {
   "cell_type": "code",
   "execution_count": null,
   "metadata": {},
   "outputs": [],
   "source": []
  },
  {
   "cell_type": "markdown",
   "metadata": {},
   "source": [
    "## Find the dominant topic for each sentence"
   ]
  },
  {
   "cell_type": "code",
   "execution_count": null,
   "metadata": {},
   "outputs": [],
   "source": [
    "type(lda_model[corpus])"
   ]
  },
  {
   "cell_type": "code",
   "execution_count": null,
   "metadata": {},
   "outputs": [],
   "source": [
    "type(lda_model_3[corpus])"
   ]
  },
  {
   "cell_type": "code",
   "execution_count": null,
   "metadata": {},
   "outputs": [],
   "source": [
    "lda_model_3[corpus]"
   ]
  },
  {
   "cell_type": "code",
   "execution_count": null,
   "metadata": {},
   "outputs": [],
   "source": [
    "for i, row in enumerate(lda_model[corpus]):\n",
    "    print(sorted(row, key=lambda x: (x[1]), reverse=True))\n",
    "    #print(sorted(row, key=lambda x: (x[1]), reverse=True))"
   ]
  },
  {
   "cell_type": "code",
   "execution_count": null,
   "metadata": {},
   "outputs": [],
   "source": [
    "for i, row in enumerate(lda_model_3[corpus]):\n",
    "    print(sorted(row[0], key=lambda x: (x[1]), reverse=True))\n",
    "    #print(sorted(row, key=lambda x: (x[1]), reverse=True))"
   ]
  },
  {
   "cell_type": "code",
   "execution_count": null,
   "metadata": {},
   "outputs": [],
   "source": [
    "def format_topics_sentences(model, corpus=corpus, texts=data):\n",
    "    # Init output\n",
    "    sent_topics_df = pd.DataFrame()\n",
    "\n",
    "    # Get main topic in each document\n",
    "    for i, row in enumerate(model[corpus]):\n",
    "        row = sorted(row, key=lambda x: (x[1]), reverse=True)\n",
    "        # Get the Dominant topic, Perc Contribution and Keywords for each document\n",
    "        for j, (topic_num, prop_topic) in enumerate(row):\n",
    "            if j == 0:  # => dominant topic\n",
    "                wp = model.show_topic(topic_num)\n",
    "                topic_keywords = \", \".join([word for word, prop in wp])\n",
    "                sent_topics_df = sent_topics_df.append(pd.Series([int(topic_num), round(prop_topic,4), topic_keywords]), ignore_index=True)\n",
    "            else:\n",
    "                break\n",
    "    sent_topics_df.columns = ['Dominant_Topic', 'Perc_Contribution', 'Topic_Keywords']\n",
    "\n",
    "    # Add original text to the end of the output\n",
    "    contents = pd.Series(texts)\n",
    "    sent_topics_df = pd.concat([sent_topics_df, contents], axis=1)\n",
    "    return(sent_topics_df)"
   ]
  },
  {
   "cell_type": "code",
   "execution_count": null,
   "metadata": {},
   "outputs": [],
   "source": [
    "df_topic_sents_keywords = format_topics_sentences(model=lda_model, corpus=corpus, texts=data)\n",
    "\n",
    "# Format\n",
    "df_dominant_topic = df_topic_sents_keywords.reset_index()\n",
    "df_dominant_topic.columns = ['Document_No', 'Dominant_Topic', 'Topic_Perc_Contrib', 'Keywords', 'Text']\n",
    "\n",
    "# Show\n",
    "df_dominant_topic.head(10)"
   ]
  },
  {
   "cell_type": "code",
   "execution_count": null,
   "metadata": {},
   "outputs": [],
   "source": [
    "df_dominant_topic['Dominant_Topic'].value_counts()"
   ]
  }
 ],
 "metadata": {
  "kernelspec": {
   "display_name": "Python 3",
   "language": "python",
   "name": "python3"
  },
  "language_info": {
   "codemirror_mode": {
    "name": "ipython",
    "version": 3
   },
   "file_extension": ".py",
   "mimetype": "text/x-python",
   "name": "python",
   "nbconvert_exporter": "python",
   "pygments_lexer": "ipython3",
   "version": "3.6.8"
  }
 },
 "nbformat": 4,
 "nbformat_minor": 2
}
