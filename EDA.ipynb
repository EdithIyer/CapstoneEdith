{
 "cells": [
  {
   "cell_type": "markdown",
   "metadata": {},
   "source": [
    "# Data Cleaning and Exploratory Data Analysis"
   ]
  },
  {
   "cell_type": "markdown",
   "metadata": {},
   "source": [
    "## Imports"
   ]
  },
  {
   "cell_type": "code",
   "execution_count": 1,
   "metadata": {},
   "outputs": [],
   "source": [
    "import pandas as pd\n",
    "import numpy as np\n",
    "import seaborn as sns\n",
    "import matplotlib.pyplot as plt\n",
    "\n",
    "%matplotlib inline"
   ]
  },
  {
   "cell_type": "code",
   "execution_count": 2,
   "metadata": {},
   "outputs": [],
   "source": [
    "df = pd.read_csv('./data/infatuation_reviews_new.csv', lineterminator = '\\n')"
   ]
  },
  {
   "cell_type": "code",
   "execution_count": 50,
   "metadata": {},
   "outputs": [
    {
     "data": {
      "text/html": [
       "<div>\n",
       "<style scoped>\n",
       "    .dataframe tbody tr th:only-of-type {\n",
       "        vertical-align: middle;\n",
       "    }\n",
       "\n",
       "    .dataframe tbody tr th {\n",
       "        vertical-align: top;\n",
       "    }\n",
       "\n",
       "    .dataframe thead th {\n",
       "        text-align: right;\n",
       "    }\n",
       "</style>\n",
       "<table border=\"1\" class=\"dataframe\">\n",
       "  <thead>\n",
       "    <tr style=\"text-align: right;\">\n",
       "      <th></th>\n",
       "      <th>address</th>\n",
       "      <th>cost</th>\n",
       "      <th>cuisine</th>\n",
       "      <th>name</th>\n",
       "      <th>rating</th>\n",
       "      <th>review</th>\n",
       "    </tr>\n",
       "  </thead>\n",
       "  <tbody>\n",
       "    <tr>\n",
       "      <th>0</th>\n",
       "      <td>\\n2750 Broadway\\nNew York, NY 10025\\n(212) 510...</td>\n",
       "      <td>2.0</td>\n",
       "      <td>Pizza</td>\n",
       "      <td>Mama’s Too</td>\n",
       "      <td>8.3</td>\n",
       "      <td>A typical NYC slice shop has a few basic eleme...</td>\n",
       "    </tr>\n",
       "    <tr>\n",
       "      <th>1</th>\n",
       "      <td>\\n14 Christopher St\\nNew York, NY 10014\\n(212)...</td>\n",
       "      <td>4.0</td>\n",
       "      <td>Japanese</td>\n",
       "      <td>Omakase Room By Tatsu</td>\n",
       "      <td>7.7</td>\n",
       "      <td>Tolerance for group trips can vary widely. Som...</td>\n",
       "    </tr>\n",
       "    <tr>\n",
       "      <th>2</th>\n",
       "      <td>\\n428 Greenwich St.\\nNew York, NY 10013\\n212-2...</td>\n",
       "      <td>4.0</td>\n",
       "      <td>Japanese</td>\n",
       "      <td>Sushi Azabu</td>\n",
       "      <td>8.5</td>\n",
       "      <td>When the apocalypse eventually comes for New Y...</td>\n",
       "    </tr>\n",
       "    <tr>\n",
       "      <th>3</th>\n",
       "      <td>\\n264 Clinton St\\nNew York, NY 11201\\n(347) 98...</td>\n",
       "      <td>3.0</td>\n",
       "      <td>Seafood</td>\n",
       "      <td>Saint Julivert Fisherie</td>\n",
       "      <td>7.7</td>\n",
       "      <td>When you’re young, you don’t have to think muc...</td>\n",
       "    </tr>\n",
       "    <tr>\n",
       "      <th>4</th>\n",
       "      <td>\\n498 9th Ave\\nNew York, NY 10018\\n(646) 863-2...</td>\n",
       "      <td>2.0</td>\n",
       "      <td>Russian</td>\n",
       "      <td>Farida</td>\n",
       "      <td>8.0</td>\n",
       "      <td>There’s a bleak, sweaty place on 34th Street w...</td>\n",
       "    </tr>\n",
       "    <tr>\n",
       "      <th>5</th>\n",
       "      <td>\\n541-B Myrtle Avenue\\nNew York, NY 11205\\n(71...</td>\n",
       "      <td>2.0</td>\n",
       "      <td>Sushi</td>\n",
       "      <td>U-Gu</td>\n",
       "      <td>7.7</td>\n",
       "      <td>New York is near an ocean with plenty of free ...</td>\n",
       "    </tr>\n",
       "    <tr>\n",
       "      <th>6</th>\n",
       "      <td>\\n324 Lafayette St.\\nNew York, NY 10012\\n212-3...</td>\n",
       "      <td>3.0</td>\n",
       "      <td>Spanish</td>\n",
       "      <td>Gato</td>\n",
       "      <td>7.3</td>\n",
       "      <td>When some things change, they become unrecogni...</td>\n",
       "    </tr>\n",
       "    <tr>\n",
       "      <th>7</th>\n",
       "      <td>\\n15 W 18th St\\nNew York, NY 10011\\n</td>\n",
       "      <td>3.0</td>\n",
       "      <td>Greek</td>\n",
       "      <td>Kyma</td>\n",
       "      <td>7.3</td>\n",
       "      <td>Around the time Kyma opened, we heard that Bil...</td>\n",
       "    </tr>\n",
       "    <tr>\n",
       "      <th>8</th>\n",
       "      <td>\\nEast 75th street\\nNew York, NY 10021\\n(212) ...</td>\n",
       "      <td>3.0</td>\n",
       "      <td>Bar Food</td>\n",
       "      <td>2nd Floor Bar &amp; Essen</td>\n",
       "      <td>7.9</td>\n",
       "      <td>We have mixed feelings toward secret places. O...</td>\n",
       "    </tr>\n",
       "    <tr>\n",
       "      <th>9</th>\n",
       "      <td>\\n495 Lorimer St\\nNew York, NY 11211\\n(718) 59...</td>\n",
       "      <td>1.0</td>\n",
       "      <td>Middle Eastern</td>\n",
       "      <td>Samesa</td>\n",
       "      <td>8.1</td>\n",
       "      <td>Casual weeknight dinners are rarely memorable....</td>\n",
       "    </tr>\n",
       "    <tr>\n",
       "      <th>10</th>\n",
       "      <td>\\n400 W 42nd St\\nNew York, NY 10036\\n</td>\n",
       "      <td>2.0</td>\n",
       "      <td>Bar Food</td>\n",
       "      <td>The Polynesian</td>\n",
       "      <td>7.8</td>\n",
       "      <td>If you enjoy hanging out around Times Square, ...</td>\n",
       "    </tr>\n",
       "    <tr>\n",
       "      <th>11</th>\n",
       "      <td>\\n61 Withers St\\nNew York, NY 11211\\n</td>\n",
       "      <td>2.0</td>\n",
       "      <td>Bar Food</td>\n",
       "      <td>Bar Beau</td>\n",
       "      <td>7.4</td>\n",
       "      <td>Whether you live nearby or it takes you two su...</td>\n",
       "    </tr>\n",
       "    <tr>\n",
       "      <th>12</th>\n",
       "      <td>\\n24 Irving Ave\\nBrooklyn, NY 11237\\n(718) 417...</td>\n",
       "      <td>2.0</td>\n",
       "      <td>Chinese</td>\n",
       "      <td>General Deb’s</td>\n",
       "      <td>7.7</td>\n",
       "      <td>There are movies, and then there are airplane ...</td>\n",
       "    </tr>\n",
       "    <tr>\n",
       "      <th>13</th>\n",
       "      <td>\\n329 Kent Ave\\nNew York, NY 11249\\n(347) 566-...</td>\n",
       "      <td>3.0</td>\n",
       "      <td>Pasta</td>\n",
       "      <td>Misi</td>\n",
       "      <td>8.2</td>\n",
       "      <td>Perhaps you’ve experienced the following: you’...</td>\n",
       "    </tr>\n",
       "    <tr>\n",
       "      <th>14</th>\n",
       "      <td>\\n31-31 Thomson Ave\\nNew York, NY 11101\\n(718)...</td>\n",
       "      <td>2.0</td>\n",
       "      <td>Indian</td>\n",
       "      <td>Adda</td>\n",
       "      <td>8.2</td>\n",
       "      <td>We’re about 90% certain that New York City is ...</td>\n",
       "    </tr>\n",
       "    <tr>\n",
       "      <th>15</th>\n",
       "      <td>\\n76 Carmine St\\nNew York, NY 10014\\n646-596-8...</td>\n",
       "      <td>4.0</td>\n",
       "      <td>Japanese</td>\n",
       "      <td>Toriko</td>\n",
       "      <td>8.3</td>\n",
       "      <td>We order chicken a lot. It’s not that we have ...</td>\n",
       "    </tr>\n",
       "    <tr>\n",
       "      <th>16</th>\n",
       "      <td>\\n332 Driggs Ave\\nNew York, NY 11222\\n347-529-...</td>\n",
       "      <td>2.0</td>\n",
       "      <td>American</td>\n",
       "      <td>Bernie’s</td>\n",
       "      <td>8.1</td>\n",
       "      <td>When you walk into Bernie’s, it’ll look strang...</td>\n",
       "    </tr>\n",
       "    <tr>\n",
       "      <th>17</th>\n",
       "      <td>\\n104 E 30th St\\nNew York, NY 10016\\n</td>\n",
       "      <td>4.0</td>\n",
       "      <td>Korean</td>\n",
       "      <td>Atomix</td>\n",
       "      <td>8.8</td>\n",
       "      <td>When Alexander Fleming discovered penicillin, ...</td>\n",
       "    </tr>\n",
       "    <tr>\n",
       "      <th>18</th>\n",
       "      <td>\\n61 Delancey St\\nNew York, NY 10002\\n</td>\n",
       "      <td>4.0</td>\n",
       "      <td>Japanese</td>\n",
       "      <td>Shabushabu Macoron</td>\n",
       "      <td>8.6</td>\n",
       "      <td>The next time you’re standing in a group of pe...</td>\n",
       "    </tr>\n",
       "    <tr>\n",
       "      <th>19</th>\n",
       "      <td>\\n68 Clinton St.\\nNew York, NY 10002\\n212-920-...</td>\n",
       "      <td>2.0</td>\n",
       "      <td>Thai</td>\n",
       "      <td>Pig And Khao</td>\n",
       "      <td>8.0</td>\n",
       "      <td>Years ago, you were staring at your ceiling, t...</td>\n",
       "    </tr>\n",
       "  </tbody>\n",
       "</table>\n",
       "</div>"
      ],
      "text/plain": [
       "                                              address  cost         cuisine  \\\n",
       "0   \\n2750 Broadway\\nNew York, NY 10025\\n(212) 510...   2.0           Pizza   \n",
       "1   \\n14 Christopher St\\nNew York, NY 10014\\n(212)...   4.0        Japanese   \n",
       "2   \\n428 Greenwich St.\\nNew York, NY 10013\\n212-2...   4.0        Japanese   \n",
       "3   \\n264 Clinton St\\nNew York, NY 11201\\n(347) 98...   3.0         Seafood   \n",
       "4   \\n498 9th Ave\\nNew York, NY 10018\\n(646) 863-2...   2.0         Russian   \n",
       "5   \\n541-B Myrtle Avenue\\nNew York, NY 11205\\n(71...   2.0           Sushi   \n",
       "6   \\n324 Lafayette St.\\nNew York, NY 10012\\n212-3...   3.0         Spanish   \n",
       "7                \\n15 W 18th St\\nNew York, NY 10011\\n   3.0           Greek   \n",
       "8   \\nEast 75th street\\nNew York, NY 10021\\n(212) ...   3.0        Bar Food   \n",
       "9   \\n495 Lorimer St\\nNew York, NY 11211\\n(718) 59...   1.0  Middle Eastern   \n",
       "10              \\n400 W 42nd St\\nNew York, NY 10036\\n   2.0        Bar Food   \n",
       "11              \\n61 Withers St\\nNew York, NY 11211\\n   2.0        Bar Food   \n",
       "12  \\n24 Irving Ave\\nBrooklyn, NY 11237\\n(718) 417...   2.0         Chinese   \n",
       "13  \\n329 Kent Ave\\nNew York, NY 11249\\n(347) 566-...   3.0           Pasta   \n",
       "14  \\n31-31 Thomson Ave\\nNew York, NY 11101\\n(718)...   2.0          Indian   \n",
       "15  \\n76 Carmine St\\nNew York, NY 10014\\n646-596-8...   4.0        Japanese   \n",
       "16  \\n332 Driggs Ave\\nNew York, NY 11222\\n347-529-...   2.0        American   \n",
       "17              \\n104 E 30th St\\nNew York, NY 10016\\n   4.0          Korean   \n",
       "18             \\n61 Delancey St\\nNew York, NY 10002\\n   4.0        Japanese   \n",
       "19  \\n68 Clinton St.\\nNew York, NY 10002\\n212-920-...   2.0            Thai   \n",
       "\n",
       "                       name  rating  \\\n",
       "0                Mama’s Too     8.3   \n",
       "1     Omakase Room By Tatsu     7.7   \n",
       "2               Sushi Azabu     8.5   \n",
       "3   Saint Julivert Fisherie     7.7   \n",
       "4                    Farida     8.0   \n",
       "5                      U-Gu     7.7   \n",
       "6                      Gato     7.3   \n",
       "7                      Kyma     7.3   \n",
       "8     2nd Floor Bar & Essen     7.9   \n",
       "9                    Samesa     8.1   \n",
       "10           The Polynesian     7.8   \n",
       "11                 Bar Beau     7.4   \n",
       "12            General Deb’s     7.7   \n",
       "13                     Misi     8.2   \n",
       "14                     Adda     8.2   \n",
       "15                   Toriko     8.3   \n",
       "16                 Bernie’s     8.1   \n",
       "17                   Atomix     8.8   \n",
       "18       Shabushabu Macoron     8.6   \n",
       "19             Pig And Khao     8.0   \n",
       "\n",
       "                                               review  \n",
       "0   A typical NYC slice shop has a few basic eleme...  \n",
       "1   Tolerance for group trips can vary widely. Som...  \n",
       "2   When the apocalypse eventually comes for New Y...  \n",
       "3   When you’re young, you don’t have to think muc...  \n",
       "4   There’s a bleak, sweaty place on 34th Street w...  \n",
       "5   New York is near an ocean with plenty of free ...  \n",
       "6   When some things change, they become unrecogni...  \n",
       "7   Around the time Kyma opened, we heard that Bil...  \n",
       "8   We have mixed feelings toward secret places. O...  \n",
       "9   Casual weeknight dinners are rarely memorable....  \n",
       "10  If you enjoy hanging out around Times Square, ...  \n",
       "11  Whether you live nearby or it takes you two su...  \n",
       "12  There are movies, and then there are airplane ...  \n",
       "13  Perhaps you’ve experienced the following: you’...  \n",
       "14  We’re about 90% certain that New York City is ...  \n",
       "15  We order chicken a lot. It’s not that we have ...  \n",
       "16  When you walk into Bernie’s, it’ll look strang...  \n",
       "17  When Alexander Fleming discovered penicillin, ...  \n",
       "18  The next time you’re standing in a group of pe...  \n",
       "19  Years ago, you were staring at your ceiling, t...  "
      ]
     },
     "execution_count": 50,
     "metadata": {},
     "output_type": "execute_result"
    }
   ],
   "source": [
    "df.head(20)"
   ]
  },
  {
   "cell_type": "markdown",
   "metadata": {},
   "source": [
    "## Cleaning and EDA Plan of Action\n",
    "In order to create a useful dataframe that I can use to build a predictive model and a recommendation system, I need to do several things:\n",
    "1. Get rid of null values\n",
    "2. Separate addresses out into a new column\n",
    "3. Add a borough column"
   ]
  },
  {
   "cell_type": "code",
   "execution_count": 4,
   "metadata": {},
   "outputs": [
    {
     "data": {
      "text/plain": [
       "Index(['address', 'cost', 'cuisine', 'name', 'rating', 'review'], dtype='object')"
      ]
     },
     "execution_count": 4,
     "metadata": {},
     "output_type": "execute_result"
    }
   ],
   "source": [
    "df.columns"
   ]
  },
  {
   "cell_type": "code",
   "execution_count": 5,
   "metadata": {
    "scrolled": true
   },
   "outputs": [
    {
     "name": "stdout",
     "output_type": "stream",
     "text": [
      "<class 'pandas.core.frame.DataFrame'>\n",
      "RangeIndex: 825 entries, 0 to 824\n",
      "Data columns (total 6 columns):\n",
      "address    825 non-null object\n",
      "cost       824 non-null float64\n",
      "cuisine    819 non-null object\n",
      "name       825 non-null object\n",
      "rating     825 non-null float64\n",
      "review     825 non-null object\n",
      "dtypes: float64(2), object(4)\n",
      "memory usage: 38.8+ KB\n"
     ]
    }
   ],
   "source": [
    "df.info()"
   ]
  },
  {
   "cell_type": "markdown",
   "metadata": {},
   "source": [
    "There are 6 entries without a `cuisine` column, so we can try to impute these through reading the reviews online. We will drop Goat Town as it is closed. Then the restaurants are:\n",
    "\n",
    "|  Index | Restaurant  | Cuisine  |\n",
    "|--------|-------------|----------|\n",
    "| 630    |Bowery Diner | Diner    |\n",
    "| 731    |Wildwood Barbeque| BBQ  | \n",
    "| 789    |Little Giant | American |\n",
    "| 797    |Pinche Taqueria | Mexican |\n",
    "| 805    |Mole   | Mexican |\n",
    "<br><br>\n",
    "Additionally, there is one cost that has a null value - Blossom Du Jour and an index of 427."
   ]
  },
  {
   "cell_type": "code",
   "execution_count": 76,
   "metadata": {},
   "outputs": [
    {
     "data": {
      "text/html": [
       "<div>\n",
       "<style scoped>\n",
       "    .dataframe tbody tr th:only-of-type {\n",
       "        vertical-align: middle;\n",
       "    }\n",
       "\n",
       "    .dataframe tbody tr th {\n",
       "        vertical-align: top;\n",
       "    }\n",
       "\n",
       "    .dataframe thead th {\n",
       "        text-align: right;\n",
       "    }\n",
       "</style>\n",
       "<table border=\"1\" class=\"dataframe\">\n",
       "  <thead>\n",
       "    <tr style=\"text-align: right;\">\n",
       "      <th></th>\n",
       "      <th>address</th>\n",
       "      <th>cost</th>\n",
       "      <th>cuisine</th>\n",
       "      <th>name</th>\n",
       "      <th>rating</th>\n",
       "      <th>review</th>\n",
       "    </tr>\n",
       "  </thead>\n",
       "  <tbody>\n",
       "    <tr>\n",
       "      <th>427</th>\n",
       "      <td>\\n165 Amsterdam Ave.\\nNew York, NY 10023\\n212-...</td>\n",
       "      <td>NaN</td>\n",
       "      <td>Sandwiches</td>\n",
       "      <td>Blossom Du Jour</td>\n",
       "      <td>7.2</td>\n",
       "      <td>We at The Infatuation are equal opportunity fo...</td>\n",
       "    </tr>\n",
       "  </tbody>\n",
       "</table>\n",
       "</div>"
      ],
      "text/plain": [
       "                                               address  cost     cuisine  \\\n",
       "427  \\n165 Amsterdam Ave.\\nNew York, NY 10023\\n212-...   NaN  Sandwiches   \n",
       "\n",
       "                name  rating  \\\n",
       "427  Blossom Du Jour     7.2   \n",
       "\n",
       "                                                review  \n",
       "427  We at The Infatuation are equal opportunity fo...  "
      ]
     },
     "execution_count": 76,
     "metadata": {},
     "output_type": "execute_result"
    }
   ],
   "source": [
    "df[df['cost'].isnull()]"
   ]
  },
  {
   "cell_type": "markdown",
   "metadata": {},
   "source": [
    "#### Drop Goat Town and reset index"
   ]
  },
  {
   "cell_type": "code",
   "execution_count": 70,
   "metadata": {
    "scrolled": false
   },
   "outputs": [
    {
     "data": {
      "text/html": [
       "<div>\n",
       "<style scoped>\n",
       "    .dataframe tbody tr th:only-of-type {\n",
       "        vertical-align: middle;\n",
       "    }\n",
       "\n",
       "    .dataframe tbody tr th {\n",
       "        vertical-align: top;\n",
       "    }\n",
       "\n",
       "    .dataframe thead th {\n",
       "        text-align: right;\n",
       "    }\n",
       "</style>\n",
       "<table border=\"1\" class=\"dataframe\">\n",
       "  <thead>\n",
       "    <tr style=\"text-align: right;\">\n",
       "      <th></th>\n",
       "      <th>address</th>\n",
       "      <th>cost</th>\n",
       "      <th>cuisine</th>\n",
       "      <th>name</th>\n",
       "      <th>rating</th>\n",
       "      <th>review</th>\n",
       "    </tr>\n",
       "  </thead>\n",
       "  <tbody>\n",
       "    <tr>\n",
       "      <th>731</th>\n",
       "      <td>\\n225 Park Ave. S.\\nNew York, NY 10003\\n212-53...</td>\n",
       "      <td>3.0</td>\n",
       "      <td>NaN</td>\n",
       "      <td>Wildwood Barbecue</td>\n",
       "      <td>2.1</td>\n",
       "      <td>The subway during summer. The current season o...</td>\n",
       "    </tr>\n",
       "    <tr>\n",
       "      <th>789</th>\n",
       "      <td>\\n85 Orchard St.\\nNew York, NY 10002\\n212-226-...</td>\n",
       "      <td>3.0</td>\n",
       "      <td>NaN</td>\n",
       "      <td>Little Giant</td>\n",
       "      <td>6.3</td>\n",
       "      <td>I hear such great things about Little Giant th...</td>\n",
       "    </tr>\n",
       "    <tr>\n",
       "      <th>797</th>\n",
       "      <td>\\n227 Mott St.\\nNew York, NY 10012\\n212-625-00...</td>\n",
       "      <td>1.0</td>\n",
       "      <td>NaN</td>\n",
       "      <td>Pinche Taqueria</td>\n",
       "      <td>7.0</td>\n",
       "      <td>In a city where Chipotle dominates the cheap M...</td>\n",
       "    </tr>\n",
       "    <tr>\n",
       "      <th>805</th>\n",
       "      <td>\\n205 Allen St.\\nNew York, NY 10002\\n212-777-3...</td>\n",
       "      <td>3.0</td>\n",
       "      <td>NaN</td>\n",
       "      <td>Mole</td>\n",
       "      <td>6.0</td>\n",
       "      <td>There isn't much in the way of Mexican to choo...</td>\n",
       "    </tr>\n",
       "  </tbody>\n",
       "</table>\n",
       "</div>"
      ],
      "text/plain": [
       "                                               address  cost cuisine  \\\n",
       "731  \\n225 Park Ave. S.\\nNew York, NY 10003\\n212-53...   3.0     NaN   \n",
       "789  \\n85 Orchard St.\\nNew York, NY 10002\\n212-226-...   3.0     NaN   \n",
       "797  \\n227 Mott St.\\nNew York, NY 10012\\n212-625-00...   1.0     NaN   \n",
       "805  \\n205 Allen St.\\nNew York, NY 10002\\n212-777-3...   3.0     NaN   \n",
       "\n",
       "                  name  rating  \\\n",
       "731  Wildwood Barbecue     2.1   \n",
       "789       Little Giant     6.3   \n",
       "797    Pinche Taqueria     7.0   \n",
       "805               Mole     6.0   \n",
       "\n",
       "                                                review  \n",
       "731  The subway during summer. The current season o...  \n",
       "789  I hear such great things about Little Giant th...  \n",
       "797  In a city where Chipotle dominates the cheap M...  \n",
       "805  There isn't much in the way of Mexican to choo...  "
      ]
     },
     "execution_count": 70,
     "metadata": {},
     "output_type": "execute_result"
    }
   ],
   "source": [
    "df[df['cuisine'].isnull()]"
   ]
  },
  {
   "cell_type": "code",
   "execution_count": 59,
   "metadata": {
    "scrolled": true
   },
   "outputs": [
    {
     "data": {
      "text/html": [
       "<div>\n",
       "<style scoped>\n",
       "    .dataframe tbody tr th:only-of-type {\n",
       "        vertical-align: middle;\n",
       "    }\n",
       "\n",
       "    .dataframe tbody tr th {\n",
       "        vertical-align: top;\n",
       "    }\n",
       "\n",
       "    .dataframe thead th {\n",
       "        text-align: right;\n",
       "    }\n",
       "</style>\n",
       "<table border=\"1\" class=\"dataframe\">\n",
       "  <thead>\n",
       "    <tr style=\"text-align: right;\">\n",
       "      <th></th>\n",
       "      <th>address</th>\n",
       "      <th>cost</th>\n",
       "      <th>cuisine</th>\n",
       "      <th>name</th>\n",
       "      <th>rating</th>\n",
       "      <th>review</th>\n",
       "    </tr>\n",
       "  </thead>\n",
       "  <tbody>\n",
       "    <tr>\n",
       "      <th>819</th>\n",
       "      <td>\\n96 Second Ave.\\nNew York, NY 10003\\n212-674-...</td>\n",
       "      <td>3.0</td>\n",
       "      <td>Seafood</td>\n",
       "      <td>The Mermaid Inn</td>\n",
       "      <td>7.7</td>\n",
       "      <td>The Mermaid Inn...this place has been a staple...</td>\n",
       "    </tr>\n",
       "    <tr>\n",
       "      <th>820</th>\n",
       "      <td>\\n128 E. 7th St.\\nNew York, NY 10009\\n212-473-...</td>\n",
       "      <td>3.0</td>\n",
       "      <td>Greek</td>\n",
       "      <td>Pylos</td>\n",
       "      <td>7.6</td>\n",
       "      <td>Greek food is great, but it's just not somethi...</td>\n",
       "    </tr>\n",
       "    <tr>\n",
       "      <th>821</th>\n",
       "      <td>\\n94 Prince St.\\nNew York, NY 10012\\n212-226-9...</td>\n",
       "      <td>1.0</td>\n",
       "      <td>American</td>\n",
       "      <td>Fanelli Cafe</td>\n",
       "      <td>6.9</td>\n",
       "      <td>Fanelli Cafe is one of those New York City gem...</td>\n",
       "    </tr>\n",
       "    <tr>\n",
       "      <th>822</th>\n",
       "      <td>\\n90 Bedford St.\\nNew York, NY 10014\\n212-741-...</td>\n",
       "      <td>3.0</td>\n",
       "      <td>American</td>\n",
       "      <td>Little Owl</td>\n",
       "      <td>7.5</td>\n",
       "      <td>Little Owl, I want to love you. I really do. W...</td>\n",
       "    </tr>\n",
       "    <tr>\n",
       "      <th>823</th>\n",
       "      <td>\\n30 W. 26th St.\\nNew York, NY 10010\\n212-255-...</td>\n",
       "      <td>2.0</td>\n",
       "      <td>BBQ</td>\n",
       "      <td>Hill Country</td>\n",
       "      <td>7.5</td>\n",
       "      <td>Love getting dirty on some BBQ? You'll love Hi...</td>\n",
       "    </tr>\n",
       "  </tbody>\n",
       "</table>\n",
       "</div>"
      ],
      "text/plain": [
       "                                               address  cost   cuisine  \\\n",
       "819  \\n96 Second Ave.\\nNew York, NY 10003\\n212-674-...   3.0   Seafood   \n",
       "820  \\n128 E. 7th St.\\nNew York, NY 10009\\n212-473-...   3.0     Greek   \n",
       "821  \\n94 Prince St.\\nNew York, NY 10012\\n212-226-9...   1.0  American   \n",
       "822  \\n90 Bedford St.\\nNew York, NY 10014\\n212-741-...   3.0  American   \n",
       "823  \\n30 W. 26th St.\\nNew York, NY 10010\\n212-255-...   2.0       BBQ   \n",
       "\n",
       "                name  rating  \\\n",
       "819  The Mermaid Inn     7.7   \n",
       "820            Pylos     7.6   \n",
       "821     Fanelli Cafe     6.9   \n",
       "822       Little Owl     7.5   \n",
       "823     Hill Country     7.5   \n",
       "\n",
       "                                                review  \n",
       "819  The Mermaid Inn...this place has been a staple...  \n",
       "820  Greek food is great, but it's just not somethi...  \n",
       "821  Fanelli Cafe is one of those New York City gem...  \n",
       "822  Little Owl, I want to love you. I really do. W...  \n",
       "823  Love getting dirty on some BBQ? You'll love Hi...  "
      ]
     },
     "execution_count": 59,
     "metadata": {},
     "output_type": "execute_result"
    }
   ],
   "source": [
    "df.drop(699, axis = 0, inplace = True)\n",
    "df.reset_index(drop=True, inplace = True)\n",
    "df.tail()"
   ]
  },
  {
   "cell_type": "markdown",
   "metadata": {},
   "source": [
    "Create an `impute_nulls` function that works on multiple columns"
   ]
  },
  {
   "cell_type": "code",
   "execution_count": 64,
   "metadata": {},
   "outputs": [],
   "source": [
    "def impute_nulls(df, ind, col, val):\n",
    "    df.loc[ind, col] = val"
   ]
  },
  {
   "cell_type": "code",
   "execution_count": 71,
   "metadata": {},
   "outputs": [],
   "source": [
    "impute_nulls(df, 731, 'cuisine','BBQ')"
   ]
  },
  {
   "cell_type": "code",
   "execution_count": 72,
   "metadata": {},
   "outputs": [
    {
     "data": {
      "text/plain": [
       "address    \\n225 Park Ave. S.\\nNew York, NY 10003\\n212-53...\n",
       "cost                                                       3\n",
       "cuisine                                                  BBQ\n",
       "name                                       Wildwood Barbecue\n",
       "rating                                                   2.1\n",
       "review     The subway during summer. The current season o...\n",
       "Name: 731, dtype: object"
      ]
     },
     "execution_count": 72,
     "metadata": {},
     "output_type": "execute_result"
    }
   ],
   "source": [
    "df.loc[731]"
   ]
  },
  {
   "cell_type": "code",
   "execution_count": 73,
   "metadata": {},
   "outputs": [],
   "source": [
    "impute_nulls(df, 789, 'cuisine', 'American')\n",
    "impute_nulls(df, 797, 'cuisine', 'Mexican')\n",
    "impute_nulls(df, 805, 'cuisine', 'Mexican')"
   ]
  },
  {
   "cell_type": "code",
   "execution_count": 74,
   "metadata": {},
   "outputs": [
    {
     "data": {
      "text/html": [
       "<div>\n",
       "<style scoped>\n",
       "    .dataframe tbody tr th:only-of-type {\n",
       "        vertical-align: middle;\n",
       "    }\n",
       "\n",
       "    .dataframe tbody tr th {\n",
       "        vertical-align: top;\n",
       "    }\n",
       "\n",
       "    .dataframe thead th {\n",
       "        text-align: right;\n",
       "    }\n",
       "</style>\n",
       "<table border=\"1\" class=\"dataframe\">\n",
       "  <thead>\n",
       "    <tr style=\"text-align: right;\">\n",
       "      <th></th>\n",
       "      <th>address</th>\n",
       "      <th>cost</th>\n",
       "      <th>cuisine</th>\n",
       "      <th>name</th>\n",
       "      <th>rating</th>\n",
       "      <th>review</th>\n",
       "    </tr>\n",
       "  </thead>\n",
       "  <tbody>\n",
       "  </tbody>\n",
       "</table>\n",
       "</div>"
      ],
      "text/plain": [
       "Empty DataFrame\n",
       "Columns: [address, cost, cuisine, name, rating, review]\n",
       "Index: []"
      ]
     },
     "execution_count": 74,
     "metadata": {},
     "output_type": "execute_result"
    }
   ],
   "source": [
    "#Check for nulls now\n",
    "df[df['cuisine'].isnull()]"
   ]
  },
  {
   "cell_type": "markdown",
   "metadata": {},
   "source": [
    "Because the average for Sandwich restaurants is 2.0 and on Yelp the cost for this restaurant is 2, I will use 2 as the value."
   ]
  },
  {
   "cell_type": "code",
   "execution_count": 77,
   "metadata": {},
   "outputs": [],
   "source": [
    "#impute cost value for Blossom Du Jour - index, 427\n",
    "impute_nulls(df, 427, 'cost', 2.0)"
   ]
  },
  {
   "cell_type": "code",
   "execution_count": 78,
   "metadata": {},
   "outputs": [
    {
     "data": {
      "text/plain": [
       "0"
      ]
     },
     "execution_count": 78,
     "metadata": {},
     "output_type": "execute_result"
    }
   ],
   "source": [
    "df.isnull().sum().sum()"
   ]
  },
  {
   "cell_type": "markdown",
   "metadata": {},
   "source": [
    "### Clean up address column\n",
    "Because some of the addresses also include a phone number, I decided to split on the '\\n' and create a new address column to use that only takes the 1 and 2 indexed strings after the split, and then recombine the strings."
   ]
  },
  {
   "cell_type": "code",
   "execution_count": 49,
   "metadata": {},
   "outputs": [
    {
     "data": {
      "text/plain": [
       "['', '14 Christopher St', 'New York, NY 10014', '(212) 367-2067', '']"
      ]
     },
     "execution_count": 49,
     "metadata": {},
     "output_type": "execute_result"
    }
   ],
   "source": [
    "df.address[1].split('\\n')"
   ]
  },
  {
   "cell_type": "code",
   "execution_count": 79,
   "metadata": {},
   "outputs": [],
   "source": [
    "trial = df['address'][0].split('\\n')[1:3]"
   ]
  },
  {
   "cell_type": "code",
   "execution_count": 80,
   "metadata": {},
   "outputs": [
    {
     "data": {
      "text/plain": [
       "['2750 Broadway', 'New York, NY 10025']"
      ]
     },
     "execution_count": 80,
     "metadata": {},
     "output_type": "execute_result"
    }
   ],
   "source": [
    "trial"
   ]
  },
  {
   "cell_type": "code",
   "execution_count": 83,
   "metadata": {},
   "outputs": [
    {
     "data": {
      "text/plain": [
       "'2750 Broadway, New York, NY 10025'"
      ]
     },
     "execution_count": 83,
     "metadata": {},
     "output_type": "execute_result"
    }
   ],
   "source": [
    "trial[0] + ', ' + trial[1]"
   ]
  },
  {
   "cell_type": "code",
   "execution_count": 85,
   "metadata": {},
   "outputs": [],
   "source": [
    "#Create a new column: address only\n",
    "#df['address_only'] = ''\n",
    "\n",
    "#\n",
    "df['address_only'] = df['address'].map(lambda x: x.split('\\n')[1:3])"
   ]
  },
  {
   "cell_type": "code",
   "execution_count": 86,
   "metadata": {},
   "outputs": [
    {
     "data": {
      "text/plain": [
       "Index(['address', 'cost', 'cuisine', 'name', 'rating', 'review',\n",
       "       'address_only'],\n",
       "      dtype='object')"
      ]
     },
     "execution_count": 86,
     "metadata": {},
     "output_type": "execute_result"
    }
   ],
   "source": [
    "df.columns"
   ]
  },
  {
   "cell_type": "code",
   "execution_count": 91,
   "metadata": {},
   "outputs": [],
   "source": [
    "df['address_only'] = df['address_only'].map(lambda x: x[0] + ', ' + x[1])"
   ]
  },
  {
   "cell_type": "code",
   "execution_count": 92,
   "metadata": {},
   "outputs": [
    {
     "data": {
      "text/plain": [
       "'2750 Broadway, New York, NY 10025'"
      ]
     },
     "execution_count": 92,
     "metadata": {},
     "output_type": "execute_result"
    }
   ],
   "source": [
    "df['address_only'][0]"
   ]
  },
  {
   "cell_type": "markdown",
   "metadata": {},
   "source": [
    "Create new .csv file"
   ]
  },
  {
   "cell_type": "code",
   "execution_count": null,
   "metadata": {},
   "outputs": [],
   "source": [
    "df.to_csv('./cleaned_reviews.csv', index = False)"
   ]
  },
  {
   "cell_type": "code",
   "execution_count": null,
   "metadata": {
    "scrolled": true
   },
   "outputs": [],
   "source": [
    "df.head()"
   ]
  },
  {
   "cell_type": "markdown",
   "metadata": {},
   "source": [
    "### Classify each restaurant as a borough"
   ]
  },
  {
   "cell_type": "markdown",
   "metadata": {},
   "source": [
    "Create list of zip codes for each borough"
   ]
  },
  {
   "cell_type": "code",
   "execution_count": 122,
   "metadata": {},
   "outputs": [],
   "source": [
    "bronx_zips = [10453, 10457, 10460, 10458, 10467,\n",
    "              10468, 10451, 10452, 10456, 10454, \n",
    "              10455, 10459, 10474, 10463, 10471,\n",
    "              10466, 10469, 10470, 10475, 10461, \n",
    "              10462, 10464, 10465, 10472, 10473]\n",
    "\n",
    "brooklyn_zips = [11212, 11213, 11216, 11233, 11238, 11249,\n",
    "                 11209, 11214, 11228, 11204, 11218, \n",
    "                 11219, 11230, 11234, 11236, 11239, \n",
    "                 11223, 11224, 11229, 11235, 11201, \n",
    "                 11205, 11215, 11217, 11231, 11203, \n",
    "                 11210, 11225, 11226, 11207, 11208, \n",
    "                 11211, 11222, 11220, 11232, 11206, 11221, 11237]\n",
    "\n",
    "queens_zips = [11361, 11362, 11363, 11364, 11354, \n",
    "               11355, 11356, 11357, 11358, 11359, 11360,\n",
    "               11365, 11366, 11367,\n",
    "               11412, 11423, 11432, 11433, 11434, 11435, 11436,\n",
    "               11101, 11102, 11103, 11104, 11105, 11106,\n",
    "               11374, 11375, 11379, 11385, 11691, 11692, 11693, 11694, 11695, 11697,\n",
    "               11004, 11005, 11411, 11413, 11422, 11426, 11427, 11428, 11429,\n",
    "               11414, 11415, 11416, 11417, 11418, 11419, 11420, 11421,\n",
    "               11368, 11369, 11370, 11372, 11373, 11377, 11378]\n",
    "\n",
    "manhattan_zips = [10026, 10027, 10030, 10037, 10039, \n",
    "                  10001, 10011, 10018, 10019, 10020, 10036,\n",
    "                  10029, 10035, 10010, 10016, 10017, 10022,\n",
    "                  10012, 10013, 10014, 10282, 10080,\n",
    "                  10004, 10005, 10006, 10007, 10038, 10280,\n",
    "                  10002, 10003, 10009, 10021, 10028, 10044, 10065, 10075, 10128,\n",
    "                  10023, 10024, 10025, 10031, 10032, 10033, 10034, 10040]\n",
    "\n",
    "staten_island_zips = [10302, 10303, 10310, \n",
    "                      10306, 10307, 10308, 10309, 10312,\n",
    "                      10301, 10304, 10305, 10314]\n",
    "\n",
    "jersey_zips = ['07382', '07302']\n",
    "upstate_zips = '10591'"
   ]
  },
  {
   "cell_type": "code",
   "execution_count": 121,
   "metadata": {},
   "outputs": [],
   "source": []
  },
  {
   "cell_type": "markdown",
   "metadata": {},
   "source": [
    "Convert every zip code into a string"
   ]
  },
  {
   "cell_type": "code",
   "execution_count": 123,
   "metadata": {},
   "outputs": [],
   "source": [
    "manhattan_zips = [str(z) for z in manhattan_zips]\n",
    "brooklyn_zips = [str(z) for z in brooklyn_zips]\n",
    "bronx_zips = [str(z) for z in bronx_zips]\n",
    "queens_zips = [str(z) for z in queens_zips]\n",
    "staten_island_zips = [str(z) for z in staten_island_zips]"
   ]
  },
  {
   "cell_type": "code",
   "execution_count": 124,
   "metadata": {},
   "outputs": [
    {
     "data": {
      "text/plain": [
       "'10026'"
      ]
     },
     "execution_count": 124,
     "metadata": {},
     "output_type": "execute_result"
    }
   ],
   "source": [
    "manhattan_zips[0]"
   ]
  },
  {
   "cell_type": "markdown",
   "metadata": {},
   "source": [
    "Create a column of zip codes and of boroughs"
   ]
  },
  {
   "cell_type": "code",
   "execution_count": 125,
   "metadata": {},
   "outputs": [],
   "source": [
    "df['rest_borough'] = '0'"
   ]
  },
  {
   "cell_type": "code",
   "execution_count": 126,
   "metadata": {},
   "outputs": [],
   "source": [
    "df['rest_zip_code'] = '0'"
   ]
  },
  {
   "cell_type": "code",
   "execution_count": 127,
   "metadata": {},
   "outputs": [
    {
     "data": {
      "text/html": [
       "<div>\n",
       "<style scoped>\n",
       "    .dataframe tbody tr th:only-of-type {\n",
       "        vertical-align: middle;\n",
       "    }\n",
       "\n",
       "    .dataframe tbody tr th {\n",
       "        vertical-align: top;\n",
       "    }\n",
       "\n",
       "    .dataframe thead th {\n",
       "        text-align: right;\n",
       "    }\n",
       "</style>\n",
       "<table border=\"1\" class=\"dataframe\">\n",
       "  <thead>\n",
       "    <tr style=\"text-align: right;\">\n",
       "      <th></th>\n",
       "      <th>address</th>\n",
       "      <th>cost</th>\n",
       "      <th>cuisine</th>\n",
       "      <th>name</th>\n",
       "      <th>rating</th>\n",
       "      <th>review</th>\n",
       "      <th>address_only</th>\n",
       "      <th>rest_borough</th>\n",
       "      <th>rest_zip_code</th>\n",
       "    </tr>\n",
       "  </thead>\n",
       "  <tbody>\n",
       "    <tr>\n",
       "      <th>0</th>\n",
       "      <td>\\n2750 Broadway\\nNew York, NY 10025\\n(212) 510...</td>\n",
       "      <td>2.0</td>\n",
       "      <td>Pizza</td>\n",
       "      <td>Mama’s Too</td>\n",
       "      <td>8.3</td>\n",
       "      <td>A typical NYC slice shop has a few basic eleme...</td>\n",
       "      <td>2750 Broadway, New York, NY 10025</td>\n",
       "      <td>0</td>\n",
       "      <td>0</td>\n",
       "    </tr>\n",
       "    <tr>\n",
       "      <th>1</th>\n",
       "      <td>\\n14 Christopher St\\nNew York, NY 10014\\n(212)...</td>\n",
       "      <td>4.0</td>\n",
       "      <td>Japanese</td>\n",
       "      <td>Omakase Room By Tatsu</td>\n",
       "      <td>7.7</td>\n",
       "      <td>Tolerance for group trips can vary widely. Som...</td>\n",
       "      <td>14 Christopher St, New York, NY 10014</td>\n",
       "      <td>0</td>\n",
       "      <td>0</td>\n",
       "    </tr>\n",
       "    <tr>\n",
       "      <th>2</th>\n",
       "      <td>\\n428 Greenwich St.\\nNew York, NY 10013\\n212-2...</td>\n",
       "      <td>4.0</td>\n",
       "      <td>Japanese</td>\n",
       "      <td>Sushi Azabu</td>\n",
       "      <td>8.5</td>\n",
       "      <td>When the apocalypse eventually comes for New Y...</td>\n",
       "      <td>428 Greenwich St., New York, NY 10013</td>\n",
       "      <td>0</td>\n",
       "      <td>0</td>\n",
       "    </tr>\n",
       "    <tr>\n",
       "      <th>3</th>\n",
       "      <td>\\n264 Clinton St\\nNew York, NY 11201\\n(347) 98...</td>\n",
       "      <td>3.0</td>\n",
       "      <td>Seafood</td>\n",
       "      <td>Saint Julivert Fisherie</td>\n",
       "      <td>7.7</td>\n",
       "      <td>When you’re young, you don’t have to think muc...</td>\n",
       "      <td>264 Clinton St, New York, NY 11201</td>\n",
       "      <td>0</td>\n",
       "      <td>0</td>\n",
       "    </tr>\n",
       "    <tr>\n",
       "      <th>4</th>\n",
       "      <td>\\n498 9th Ave\\nNew York, NY 10018\\n(646) 863-2...</td>\n",
       "      <td>2.0</td>\n",
       "      <td>Russian</td>\n",
       "      <td>Farida</td>\n",
       "      <td>8.0</td>\n",
       "      <td>There’s a bleak, sweaty place on 34th Street w...</td>\n",
       "      <td>498 9th Ave, New York, NY 10018</td>\n",
       "      <td>0</td>\n",
       "      <td>0</td>\n",
       "    </tr>\n",
       "  </tbody>\n",
       "</table>\n",
       "</div>"
      ],
      "text/plain": [
       "                                             address  cost   cuisine  \\\n",
       "0  \\n2750 Broadway\\nNew York, NY 10025\\n(212) 510...   2.0     Pizza   \n",
       "1  \\n14 Christopher St\\nNew York, NY 10014\\n(212)...   4.0  Japanese   \n",
       "2  \\n428 Greenwich St.\\nNew York, NY 10013\\n212-2...   4.0  Japanese   \n",
       "3  \\n264 Clinton St\\nNew York, NY 11201\\n(347) 98...   3.0   Seafood   \n",
       "4  \\n498 9th Ave\\nNew York, NY 10018\\n(646) 863-2...   2.0   Russian   \n",
       "\n",
       "                      name  rating  \\\n",
       "0               Mama’s Too     8.3   \n",
       "1    Omakase Room By Tatsu     7.7   \n",
       "2              Sushi Azabu     8.5   \n",
       "3  Saint Julivert Fisherie     7.7   \n",
       "4                   Farida     8.0   \n",
       "\n",
       "                                              review  \\\n",
       "0  A typical NYC slice shop has a few basic eleme...   \n",
       "1  Tolerance for group trips can vary widely. Som...   \n",
       "2  When the apocalypse eventually comes for New Y...   \n",
       "3  When you’re young, you don’t have to think muc...   \n",
       "4  There’s a bleak, sweaty place on 34th Street w...   \n",
       "\n",
       "                            address_only rest_borough rest_zip_code  \n",
       "0      2750 Broadway, New York, NY 10025            0             0  \n",
       "1  14 Christopher St, New York, NY 10014            0             0  \n",
       "2  428 Greenwich St., New York, NY 10013            0             0  \n",
       "3     264 Clinton St, New York, NY 11201            0             0  \n",
       "4        498 9th Ave, New York, NY 10018            0             0  "
      ]
     },
     "execution_count": 127,
     "metadata": {},
     "output_type": "execute_result"
    }
   ],
   "source": [
    "df.head()"
   ]
  },
  {
   "cell_type": "code",
   "execution_count": 128,
   "metadata": {},
   "outputs": [],
   "source": [
    "#boroughs = []\n",
    "for i, x in enumerate(df['address_only']):\n",
    "    for z in brooklyn_zips:\n",
    "        #print(i, x, z)\n",
    "        if z in x:\n",
    "            df.loc[i, 'rest_borough'] = 'Brooklyn'\n",
    "            df.loc[i, 'rest_zip_code'] = z\n",
    "    for z in manhattan_zips:\n",
    "        if z in x:\n",
    "            df.loc[i, 'rest_borough'] = 'Manhattan'\n",
    "            df.loc[i, 'rest_zip_code'] = z\n",
    "    for z in queens_zips:\n",
    "        if z in x:\n",
    "            df.loc[i, 'rest_borough'] = 'Queens'\n",
    "            df.loc[i, 'rest_zip_code'] = z\n",
    "    for z in bronx_zips:\n",
    "        if z in x:\n",
    "            df.loc[i, 'rest_borough'] = 'Bronx'\n",
    "            df.loc[i, 'rest_zip_code'] = z\n",
    "    for z in staten_island_zips:\n",
    "        if z in x:\n",
    "            df.loc[i, 'rest_borough'] = 'Staten Island'\n",
    "            df.loc[i, 'rest_zip_code'] = z\n",
    "    for z in jersey_zips:\n",
    "        if z in x:\n",
    "            df.loc[i, 'rest_borough'] = 'Jersey City'\n",
    "            df.loc[i, 'rest_zip_code'] = z\n",
    "    if upstate_zips in x:\n",
    "        df.loc[i, 'rest_borough'] = 'Westchester'\n",
    "        df.loc[i, 'rest_zip_code'] = upstate_zips"
   ]
  },
  {
   "cell_type": "markdown",
   "metadata": {},
   "source": [
    "While it looks like there are no null values for all the columns, I actually set the column to all be equal to 0, therefore, if there was no zip code match for the zip code, the values remained '0'. A `df['address_only'].value_counts()` will give a better understanding for any restaurants that may have been skipped."
   ]
  },
  {
   "cell_type": "code",
   "execution_count": 129,
   "metadata": {
    "scrolled": false
   },
   "outputs": [
    {
     "data": {
      "text/plain": [
       "Manhattan        614\n",
       "Brooklyn         171\n",
       "Queens            17\n",
       "0                 16\n",
       "Staten Island      3\n",
       "Bronx              1\n",
       "Jersey City        1\n",
       "Westchester        1\n",
       "Name: rest_borough, dtype: int64"
      ]
     },
     "execution_count": 129,
     "metadata": {},
     "output_type": "execute_result"
    }
   ],
   "source": [
    "df['rest_borough'].value_counts()"
   ]
  },
  {
   "cell_type": "code",
   "execution_count": 130,
   "metadata": {},
   "outputs": [
    {
     "data": {
      "text/plain": [
       "10014    78\n",
       "10003    72\n",
       "10012    71\n",
       "10002    51\n",
       "11211    51\n",
       "10013    46\n",
       "10011    43\n",
       "10009    43\n",
       "10019    31\n",
       "10010    21\n",
       "11222    20\n",
       "11238    19\n",
       "10022    17\n",
       "10001    17\n",
       "0        16\n",
       "10016    15\n",
       "10021    14\n",
       "10024    14\n",
       "11215    13\n",
       "11231    13\n",
       "10036    12\n",
       "11217    12\n",
       "10023    10\n",
       "11101     9\n",
       "11237     9\n",
       "10065     9\n",
       "11201     7\n",
       "11206     7\n",
       "10018     7\n",
       "10017     6\n",
       "         ..\n",
       "10005     2\n",
       "10128     2\n",
       "10025     2\n",
       "11103     2\n",
       "11105     1\n",
       "11226     1\n",
       "10302     1\n",
       "11224     1\n",
       "10020     1\n",
       "10282     1\n",
       "11209     1\n",
       "10080     1\n",
       "11218     1\n",
       "10031     1\n",
       "11223     1\n",
       "11102     1\n",
       "10280     1\n",
       "11232     1\n",
       "11693     1\n",
       "11225     1\n",
       "10314     1\n",
       "11385     1\n",
       "07302     1\n",
       "10035     1\n",
       "11230     1\n",
       "11414     1\n",
       "10454     1\n",
       "10305     1\n",
       "10591     1\n",
       "11104     1\n",
       "Name: rest_zip_code, Length: 70, dtype: int64"
      ]
     },
     "execution_count": 130,
     "metadata": {},
     "output_type": "execute_result"
    }
   ],
   "source": [
    "df['rest_zip_code'].value_counts()"
   ]
  },
  {
   "cell_type": "markdown",
   "metadata": {},
   "source": [
    "Above, it is clear that there are 16 `'0'` values for `rest_borough`. This is also the case for `rest_zip_code`. "
   ]
  },
  {
   "cell_type": "code",
   "execution_count": 131,
   "metadata": {},
   "outputs": [
    {
     "data": {
      "text/html": [
       "<div>\n",
       "<style scoped>\n",
       "    .dataframe tbody tr th:only-of-type {\n",
       "        vertical-align: middle;\n",
       "    }\n",
       "\n",
       "    .dataframe tbody tr th {\n",
       "        vertical-align: top;\n",
       "    }\n",
       "\n",
       "    .dataframe thead th {\n",
       "        text-align: right;\n",
       "    }\n",
       "</style>\n",
       "<table border=\"1\" class=\"dataframe\">\n",
       "  <thead>\n",
       "    <tr style=\"text-align: right;\">\n",
       "      <th></th>\n",
       "      <th>address</th>\n",
       "      <th>cost</th>\n",
       "      <th>cuisine</th>\n",
       "      <th>name</th>\n",
       "      <th>rating</th>\n",
       "      <th>review</th>\n",
       "      <th>address_only</th>\n",
       "      <th>rest_borough</th>\n",
       "      <th>rest_zip_code</th>\n",
       "    </tr>\n",
       "  </thead>\n",
       "  <tbody>\n",
       "    <tr>\n",
       "      <th>100</th>\n",
       "      <td>\\n211 Dekalb Ave\\nBrooklyn, NY \\n929-298-0209\\n</td>\n",
       "      <td>3.0</td>\n",
       "      <td>Mediterranean</td>\n",
       "      <td>Evelina</td>\n",
       "      <td>7.9</td>\n",
       "      <td>There are certain situations where the quality...</td>\n",
       "      <td>211 Dekalb Ave, Brooklyn, NY</td>\n",
       "      <td>0</td>\n",
       "      <td>0</td>\n",
       "    </tr>\n",
       "    <tr>\n",
       "      <th>154</th>\n",
       "      <td>\\n2315 Broadway\\nNew York, NY \\n(212) 496-9100\\n</td>\n",
       "      <td>3.0</td>\n",
       "      <td>American</td>\n",
       "      <td>Maison Pickle</td>\n",
       "      <td>6.1</td>\n",
       "      <td>Have we been too hard on the Upper West Side?\\...</td>\n",
       "      <td>2315 Broadway, New York, NY</td>\n",
       "      <td>0</td>\n",
       "      <td>0</td>\n",
       "    </tr>\n",
       "    <tr>\n",
       "      <th>222</th>\n",
       "      <td>\\n289 5th Ave\\nBrooklyn, NY \\n(718) 499-2424\\n</td>\n",
       "      <td>2.0</td>\n",
       "      <td>American</td>\n",
       "      <td>Gristmill</td>\n",
       "      <td>7.8</td>\n",
       "      <td>Dustin from Stranger Things. Your sixth-grade ...</td>\n",
       "      <td>289 5th Ave, Brooklyn, NY</td>\n",
       "      <td>0</td>\n",
       "      <td>0</td>\n",
       "    </tr>\n",
       "    <tr>\n",
       "      <th>317</th>\n",
       "      <td>\\n119 1st Ave.\\nNew York, NY \\n646-767-9050\\n</td>\n",
       "      <td>3.0</td>\n",
       "      <td>Korean</td>\n",
       "      <td>Oiji</td>\n",
       "      <td>8.5</td>\n",
       "      <td>Before we begin, let’s get one thing out of th...</td>\n",
       "      <td>119 1st Ave., New York, NY</td>\n",
       "      <td>0</td>\n",
       "      <td>0</td>\n",
       "    </tr>\n",
       "    <tr>\n",
       "      <th>395</th>\n",
       "      <td>\\n2893 Broadway\\nNew York, NY \\n212-665-2800\\n</td>\n",
       "      <td>3.0</td>\n",
       "      <td>American</td>\n",
       "      <td>Community Food &amp; Juice</td>\n",
       "      <td>7.6</td>\n",
       "      <td>Michelle and Malia Obama had lunch at Communit...</td>\n",
       "      <td>2893 Broadway, New York, NY</td>\n",
       "      <td>0</td>\n",
       "      <td>0</td>\n",
       "    </tr>\n",
       "    <tr>\n",
       "      <th>408</th>\n",
       "      <td>\\n151 Elizabeth St.\\nNew York, NY \\n646-666-08...</td>\n",
       "      <td>1.0</td>\n",
       "      <td>American</td>\n",
       "      <td>Egg Shop</td>\n",
       "      <td>7.6</td>\n",
       "      <td>This review has been a long time coming. Not b...</td>\n",
       "      <td>151 Elizabeth St., New York, NY</td>\n",
       "      <td>0</td>\n",
       "      <td>0</td>\n",
       "    </tr>\n",
       "    <tr>\n",
       "      <th>431</th>\n",
       "      <td>\\n2357 Arthur Ave.\\nNew York, NY \\n718-220-1027\\n</td>\n",
       "      <td>3.0</td>\n",
       "      <td>Italian</td>\n",
       "      <td>Zero Otto Nove</td>\n",
       "      <td>8.2</td>\n",
       "      <td>You know you're at the right place when you se...</td>\n",
       "      <td>2357 Arthur Ave., New York, NY</td>\n",
       "      <td>0</td>\n",
       "      <td>0</td>\n",
       "    </tr>\n",
       "    <tr>\n",
       "      <th>449</th>\n",
       "      <td>\\n219 Dekalb Ave.\\nBrooklyn, NY \\n347-689-4287\\n</td>\n",
       "      <td>3.0</td>\n",
       "      <td>Latin</td>\n",
       "      <td>Colonia Verde</td>\n",
       "      <td>6.0</td>\n",
       "      <td>A friend once set me up with this guy who was ...</td>\n",
       "      <td>219 Dekalb Ave., Brooklyn, NY</td>\n",
       "      <td>0</td>\n",
       "      <td>0</td>\n",
       "    </tr>\n",
       "    <tr>\n",
       "      <th>479</th>\n",
       "      <td>\\n307 Smith St.\\nBrooklyn, NY \\n718-855-2490\\n</td>\n",
       "      <td>2.0</td>\n",
       "      <td>Mexican</td>\n",
       "      <td>Bar San Miguel</td>\n",
       "      <td>7.6</td>\n",
       "      <td>Here's a tip for you. Jim Cramer (yes, that Ji...</td>\n",
       "      <td>307 Smith St., Brooklyn, NY</td>\n",
       "      <td>0</td>\n",
       "      <td>0</td>\n",
       "    </tr>\n",
       "    <tr>\n",
       "      <th>485</th>\n",
       "      <td>\\n430 Lafayette St.\\nNew York, NY \\n212-505-51...</td>\n",
       "      <td>3.0</td>\n",
       "      <td>Fusion</td>\n",
       "      <td>Indochine</td>\n",
       "      <td>7.3</td>\n",
       "      <td>Is complaining about Fashion Week your favorit...</td>\n",
       "      <td>430 Lafayette St., New York, NY</td>\n",
       "      <td>0</td>\n",
       "      <td>0</td>\n",
       "    </tr>\n",
       "    <tr>\n",
       "      <th>486</th>\n",
       "      <td>\\n127 Orchard St.\\nNew York, NY \\n212-475-4881\\n</td>\n",
       "      <td>2.0</td>\n",
       "      <td>Diner</td>\n",
       "      <td>Russ &amp; Daughters Cafe</td>\n",
       "      <td>8.2</td>\n",
       "      <td>Historically, the most annoying aspect of Russ...</td>\n",
       "      <td>127 Orchard St., New York, NY</td>\n",
       "      <td>0</td>\n",
       "      <td>0</td>\n",
       "    </tr>\n",
       "    <tr>\n",
       "      <th>487</th>\n",
       "      <td>\\n3152 Brighton 6th St.\\nBrooklyn, NY \\n718-89...</td>\n",
       "      <td>3.0</td>\n",
       "      <td>Russian</td>\n",
       "      <td>Tatiana Restaurant &amp; Nightclub</td>\n",
       "      <td>7.5</td>\n",
       "      <td>There are so many angles for an opening gambit...</td>\n",
       "      <td>3152 Brighton 6th St., Brooklyn, NY</td>\n",
       "      <td>0</td>\n",
       "      <td>0</td>\n",
       "    </tr>\n",
       "    <tr>\n",
       "      <th>559</th>\n",
       "      <td>\\n100 W. 124th St.\\nNew York, NY \\n646-396-3040\\n</td>\n",
       "      <td>1.0</td>\n",
       "      <td>Burgers</td>\n",
       "      <td>Harlem Shake</td>\n",
       "      <td>7.5</td>\n",
       "      <td>We realize that's it's a bit preposterous for ...</td>\n",
       "      <td>100 W. 124th St., New York, NY</td>\n",
       "      <td>0</td>\n",
       "      <td>0</td>\n",
       "    </tr>\n",
       "    <tr>\n",
       "      <th>564</th>\n",
       "      <td>\\n3183 Broadway\\nNew York, NY \\n646-559-2862\\n</td>\n",
       "      <td>3.0</td>\n",
       "      <td>Ramen</td>\n",
       "      <td>Jin Ramen</td>\n",
       "      <td>7.6</td>\n",
       "      <td>You have no idea how hard it was to write a po...</td>\n",
       "      <td>3183 Broadway, New York, NY</td>\n",
       "      <td>0</td>\n",
       "      <td>0</td>\n",
       "    </tr>\n",
       "    <tr>\n",
       "      <th>584</th>\n",
       "      <td>\\n613 Grand St.\\nBrooklyn, NY \\n718-388-0012\\n</td>\n",
       "      <td>2.0</td>\n",
       "      <td>American</td>\n",
       "      <td>The Saint Austere</td>\n",
       "      <td>6.4</td>\n",
       "      <td>This is a very difficult review to write. Not ...</td>\n",
       "      <td>613 Grand St., Brooklyn, NY</td>\n",
       "      <td>0</td>\n",
       "      <td>0</td>\n",
       "    </tr>\n",
       "    <tr>\n",
       "      <th>610</th>\n",
       "      <td>\\n85 Orchard St.\\nNew York, NY \\n212-925-7355\\n</td>\n",
       "      <td>3.0</td>\n",
       "      <td>American</td>\n",
       "      <td>Dudley's</td>\n",
       "      <td>7.1</td>\n",
       "      <td>Not long ago, this tiny restaurant on Orchard ...</td>\n",
       "      <td>85 Orchard St., New York, NY</td>\n",
       "      <td>0</td>\n",
       "      <td>0</td>\n",
       "    </tr>\n",
       "  </tbody>\n",
       "</table>\n",
       "</div>"
      ],
      "text/plain": [
       "                                               address  cost        cuisine  \\\n",
       "100    \\n211 Dekalb Ave\\nBrooklyn, NY \\n929-298-0209\\n   3.0  Mediterranean   \n",
       "154   \\n2315 Broadway\\nNew York, NY \\n(212) 496-9100\\n   3.0       American   \n",
       "222     \\n289 5th Ave\\nBrooklyn, NY \\n(718) 499-2424\\n   2.0       American   \n",
       "317      \\n119 1st Ave.\\nNew York, NY \\n646-767-9050\\n   3.0         Korean   \n",
       "395     \\n2893 Broadway\\nNew York, NY \\n212-665-2800\\n   3.0       American   \n",
       "408  \\n151 Elizabeth St.\\nNew York, NY \\n646-666-08...   1.0       American   \n",
       "431  \\n2357 Arthur Ave.\\nNew York, NY \\n718-220-1027\\n   3.0        Italian   \n",
       "449   \\n219 Dekalb Ave.\\nBrooklyn, NY \\n347-689-4287\\n   3.0          Latin   \n",
       "479     \\n307 Smith St.\\nBrooklyn, NY \\n718-855-2490\\n   2.0        Mexican   \n",
       "485  \\n430 Lafayette St.\\nNew York, NY \\n212-505-51...   3.0         Fusion   \n",
       "486   \\n127 Orchard St.\\nNew York, NY \\n212-475-4881\\n   2.0          Diner   \n",
       "487  \\n3152 Brighton 6th St.\\nBrooklyn, NY \\n718-89...   3.0        Russian   \n",
       "559  \\n100 W. 124th St.\\nNew York, NY \\n646-396-3040\\n   1.0        Burgers   \n",
       "564     \\n3183 Broadway\\nNew York, NY \\n646-559-2862\\n   3.0          Ramen   \n",
       "584     \\n613 Grand St.\\nBrooklyn, NY \\n718-388-0012\\n   2.0       American   \n",
       "610    \\n85 Orchard St.\\nNew York, NY \\n212-925-7355\\n   3.0       American   \n",
       "\n",
       "                               name  rating  \\\n",
       "100                         Evelina     7.9   \n",
       "154                   Maison Pickle     6.1   \n",
       "222                       Gristmill     7.8   \n",
       "317                            Oiji     8.5   \n",
       "395          Community Food & Juice     7.6   \n",
       "408                        Egg Shop     7.6   \n",
       "431                  Zero Otto Nove     8.2   \n",
       "449                   Colonia Verde     6.0   \n",
       "479                  Bar San Miguel     7.6   \n",
       "485                       Indochine     7.3   \n",
       "486           Russ & Daughters Cafe     8.2   \n",
       "487  Tatiana Restaurant & Nightclub     7.5   \n",
       "559                    Harlem Shake     7.5   \n",
       "564                       Jin Ramen     7.6   \n",
       "584               The Saint Austere     6.4   \n",
       "610                        Dudley's     7.1   \n",
       "\n",
       "                                                review  \\\n",
       "100  There are certain situations where the quality...   \n",
       "154  Have we been too hard on the Upper West Side?\\...   \n",
       "222  Dustin from Stranger Things. Your sixth-grade ...   \n",
       "317  Before we begin, let’s get one thing out of th...   \n",
       "395  Michelle and Malia Obama had lunch at Communit...   \n",
       "408  This review has been a long time coming. Not b...   \n",
       "431  You know you're at the right place when you se...   \n",
       "449  A friend once set me up with this guy who was ...   \n",
       "479  Here's a tip for you. Jim Cramer (yes, that Ji...   \n",
       "485  Is complaining about Fashion Week your favorit...   \n",
       "486  Historically, the most annoying aspect of Russ...   \n",
       "487  There are so many angles for an opening gambit...   \n",
       "559  We realize that's it's a bit preposterous for ...   \n",
       "564  You have no idea how hard it was to write a po...   \n",
       "584  This is a very difficult review to write. Not ...   \n",
       "610  Not long ago, this tiny restaurant on Orchard ...   \n",
       "\n",
       "                             address_only rest_borough rest_zip_code  \n",
       "100         211 Dekalb Ave, Brooklyn, NY             0             0  \n",
       "154          2315 Broadway, New York, NY             0             0  \n",
       "222            289 5th Ave, Brooklyn, NY             0             0  \n",
       "317           119 1st Ave., New York, NY             0             0  \n",
       "395          2893 Broadway, New York, NY             0             0  \n",
       "408      151 Elizabeth St., New York, NY             0             0  \n",
       "431       2357 Arthur Ave., New York, NY             0             0  \n",
       "449        219 Dekalb Ave., Brooklyn, NY             0             0  \n",
       "479          307 Smith St., Brooklyn, NY             0             0  \n",
       "485      430 Lafayette St., New York, NY             0             0  \n",
       "486        127 Orchard St., New York, NY             0             0  \n",
       "487  3152 Brighton 6th St., Brooklyn, NY             0             0  \n",
       "559       100 W. 124th St., New York, NY             0             0  \n",
       "564          3183 Broadway, New York, NY             0             0  \n",
       "584          613 Grand St., Brooklyn, NY             0             0  \n",
       "610         85 Orchard St., New York, NY             0             0  "
      ]
     },
     "execution_count": 131,
     "metadata": {},
     "output_type": "execute_result"
    }
   ],
   "source": [
    "df[df['rest_borough'] == '0']"
   ]
  },
  {
   "cell_type": "markdown",
   "metadata": {},
   "source": [
    "Inspection of the 16 restaurants with no borough or zipcode value shows that there were actually no zip codes entered for these restaurants. Right now, we will input the zip codes manually."
   ]
  },
  {
   "cell_type": "code",
   "execution_count": 135,
   "metadata": {
    "scrolled": true
   },
   "outputs": [
    {
     "data": {
      "text/plain": [
       "'\\n211 Dekalb Ave\\nBrooklyn, NY \\n929-298-0209\\n11205'"
      ]
     },
     "execution_count": 135,
     "metadata": {},
     "output_type": "execute_result"
    }
   ],
   "source": [
    "df.loc[100, 'address'] + '11205'"
   ]
  },
  {
   "cell_type": "code",
   "execution_count": 139,
   "metadata": {},
   "outputs": [],
   "source": [
    "df.loc[100, 'address_only'] = df.loc[100, 'address_only'] + '11205'\n",
    "df.loc[154, 'address_only'] = df.loc[154, 'address_only'] + '10024'\n",
    "df.loc[222, 'address_only'] = df.loc[222, 'address_only'] + '11215'\n",
    "df.loc[317, 'address_only'] = df.loc[317, 'address_only'] + '10003'\n",
    "df.loc[395, 'address_only'] = df.loc[395, 'address_only'] + '10025'\n",
    "df.loc[408, 'address_only'] = df.loc[408, 'address_only'] + '10012'\n",
    "df.loc[431, 'address_only'] = df.loc[431, 'address_only'] + '10458'\n",
    "df.loc[449, 'address_only'] = df.loc[449, 'address_only'] + '11205'\n",
    "df.loc[479, 'address_only'] = df.loc[479, 'address_only'] + '11231'\n",
    "df.loc[485, 'address_only'] = df.loc[485, 'address_only'] + '10003'\n",
    "df.loc[486, 'address_only'] = df.loc[486, 'address_only'] + '10002'\n",
    "df.loc[487, 'address_only'] = df.loc[487, 'address_only'] + '11235'\n",
    "df.loc[559, 'address_only'] = df.loc[559, 'address_only'] + '10027'\n",
    "df.loc[564, 'address_only'] = df.loc[564, 'address_only'] + '10027'\n",
    "df.loc[584, 'address_only'] = df.loc[584, 'address_only'] + '11211'\n",
    "df.loc[610, 'address_only'] = df.loc[610, 'address_only'] + '10002'"
   ]
  },
  {
   "cell_type": "code",
   "execution_count": 140,
   "metadata": {},
   "outputs": [],
   "source": [
    "#Run the loop again to fill in values\n",
    "#boroughs = []\n",
    "for i, x in enumerate(df['address_only']):\n",
    "    for z in brooklyn_zips:\n",
    "        #print(i, x, z)\n",
    "        if z in x:\n",
    "            df.loc[i, 'rest_borough'] = 'Brooklyn'\n",
    "            df.loc[i, 'rest_zip_code'] = z\n",
    "    for z in manhattan_zips:\n",
    "        if z in x:\n",
    "            df.loc[i, 'rest_borough'] = 'Manhattan'\n",
    "            df.loc[i, 'rest_zip_code'] = z\n",
    "    for z in queens_zips:\n",
    "        if z in x:\n",
    "            df.loc[i, 'rest_borough'] = 'Queens'\n",
    "            df.loc[i, 'rest_zip_code'] = z\n",
    "    for z in bronx_zips:\n",
    "        if z in x:\n",
    "            df.loc[i, 'rest_borough'] = 'Bronx'\n",
    "            df.loc[i, 'rest_zip_code'] = z\n",
    "    for z in staten_island_zips:\n",
    "        if z in x:\n",
    "            df.loc[i, 'rest_borough'] = 'Staten Island'\n",
    "            df.loc[i, 'rest_zip_code'] = z\n",
    "    for z in jersey_zips:\n",
    "        if z in x:\n",
    "            df.loc[i, 'rest_borough'] = 'Jersey City'\n",
    "            df.loc[i, 'rest_zip_code'] = z\n",
    "    if upstate_zips in x:\n",
    "        df.loc[i, 'rest_borough'] = 'Westchester'\n",
    "        df.loc[i, 'rest_zip_code'] = upstate_zips"
   ]
  },
  {
   "cell_type": "code",
   "execution_count": 147,
   "metadata": {
    "scrolled": true
   },
   "outputs": [
    {
     "data": {
      "text/plain": [
       "Manhattan        0.756068\n",
       "Brooklyn         0.214806\n",
       "Queens           0.020631\n",
       "Staten Island    0.003641\n",
       "Bronx            0.002427\n",
       "Jersey City      0.001214\n",
       "Westchester      0.001214\n",
       "Name: rest_borough, dtype: float64"
      ]
     },
     "execution_count": 147,
     "metadata": {},
     "output_type": "execute_result"
    }
   ],
   "source": [
    "df['rest_borough'].value_counts(normalize = True)"
   ]
  },
  {
   "cell_type": "code",
   "execution_count": 142,
   "metadata": {},
   "outputs": [
    {
     "data": {
      "text/html": [
       "<div>\n",
       "<style scoped>\n",
       "    .dataframe tbody tr th:only-of-type {\n",
       "        vertical-align: middle;\n",
       "    }\n",
       "\n",
       "    .dataframe tbody tr th {\n",
       "        vertical-align: top;\n",
       "    }\n",
       "\n",
       "    .dataframe thead th {\n",
       "        text-align: right;\n",
       "    }\n",
       "</style>\n",
       "<table border=\"1\" class=\"dataframe\">\n",
       "  <thead>\n",
       "    <tr style=\"text-align: right;\">\n",
       "      <th></th>\n",
       "      <th>address</th>\n",
       "      <th>cost</th>\n",
       "      <th>cuisine</th>\n",
       "      <th>name</th>\n",
       "      <th>rating</th>\n",
       "      <th>review</th>\n",
       "      <th>address_only</th>\n",
       "      <th>rest_borough</th>\n",
       "      <th>rest_zip_code</th>\n",
       "    </tr>\n",
       "  </thead>\n",
       "  <tbody>\n",
       "  </tbody>\n",
       "</table>\n",
       "</div>"
      ],
      "text/plain": [
       "Empty DataFrame\n",
       "Columns: [address, cost, cuisine, name, rating, review, address_only, rest_borough, rest_zip_code]\n",
       "Index: []"
      ]
     },
     "execution_count": 142,
     "metadata": {},
     "output_type": "execute_result"
    }
   ],
   "source": [
    "df[(df['rest_borough'] == '0') & (df['rest_zip_code'] == '0')]"
   ]
  },
  {
   "cell_type": "markdown",
   "metadata": {},
   "source": [
    "### Save dataframe as is"
   ]
  },
  {
   "cell_type": "code",
   "execution_count": 180,
   "metadata": {},
   "outputs": [],
   "source": [
    "df.to_csv('./Data/reviews_for_model.csv', index=False)"
   ]
  },
  {
   "cell_type": "markdown",
   "metadata": {},
   "source": [
    "## Create visualizations"
   ]
  },
  {
   "cell_type": "code",
   "execution_count": 168,
   "metadata": {},
   "outputs": [],
   "source": [
    "def change_width(ax, new_value) :\n",
    "    for patch in ax.patches :\n",
    "        current_width = patch.get_width()\n",
    "        diff = current_width - new_value\n",
    "\n",
    "        # we change the bar width\n",
    "        patch.set_width(new_value)\n",
    "\n",
    "        # we recenter the bar\n",
    "        patch.set_x(patch.get_x() + diff * .5)\n",
    "\n",
    "#change_width(ax, .35)"
   ]
  },
  {
   "cell_type": "code",
   "execution_count": null,
   "metadata": {},
   "outputs": [],
   "source": [
    "ax.patches"
   ]
  },
  {
   "cell_type": "code",
   "execution_count": 153,
   "metadata": {},
   "outputs": [
    {
     "data": {
      "image/png": "[encoded data removed]",
      "text/plain": [
       "<Figure size 1800x720 with 1 Axes>"
      ]
     },
     "metadata": {},
     "output_type": "display_data"
    }
   ],
   "source": [
    "sns.set_style('whitegrid')\n",
    "fig, ax = plt.subplots(figsize = (25, 10))\n",
    "sns.countplot(x = df['rest_borough'], ax = ax, palette = \"GnBu_d\", saturation = 0.6)\n",
    "change_width(ax, .35)\n",
    "plt.xticks(fontsize = 30)\n",
    "plt.yticks(fontsize = 30)\n",
    "plt.xlabel('')\n",
    "plt.ylabel('');\n",
    "#plt.show()"
   ]
  },
  {
   "cell_type": "code",
   "execution_count": 183,
   "metadata": {},
   "outputs": [
    {
     "data": {
      "text/plain": [
       "American             218\n",
       "Japanese              67\n",
       "Italian               56\n",
       "Pizza                 44\n",
       "French                42\n",
       "Mexican               41\n",
       "Bar Food              34\n",
       "Seafood               33\n",
       "Pasta                 24\n",
       "Chinese               21\n",
       "Mediterranean         19\n",
       "Spanish               16\n",
       "Korean                15\n",
       "Sandwiches            14\n",
       "BBQ                   13\n",
       "Burgers               13\n",
       "Diner                 13\n",
       "Latin                 12\n",
       "Tacos                 10\n",
       "Sushi                 10\n",
       "Ramen                  8\n",
       "Thai                   8\n",
       "Vegetarian             8\n",
       "Greek                  8\n",
       "Steaks                 7\n",
       "Vietnamese             7\n",
       "Fusion                 7\n",
       "Wine Bar               6\n",
       "Indian                 5\n",
       "Middle Eastern         5\n",
       "Russian                3\n",
       "Malaysian              3\n",
       "Jamaican               3\n",
       "Cafe/Bakery            3\n",
       "Raw Bar                2\n",
       "Southern               2\n",
       "Australian             2\n",
       "Tex-Mex                2\n",
       "East Village           2\n",
       "Fast Food              2\n",
       "Caribbean              2\n",
       "Peruvian               2\n",
       "British                1\n",
       "East Williamsburg      1\n",
       "Filipino               1\n",
       "Portuguese             1\n",
       "Experimental           1\n",
       "Ethiopian              1\n",
       "Deli                   1\n",
       "Howard Beach           1\n",
       "Bagels                 1\n",
       "Taiwanese              1\n",
       "Greenpoint             1\n",
       "Argentinian            1\n",
       "Name: cuisine, dtype: int64"
      ]
     },
     "execution_count": 183,
     "metadata": {},
     "output_type": "execute_result"
    }
   ],
   "source": [
    "df['cuisine'].value_counts()"
   ]
  },
  {
   "cell_type": "code",
   "execution_count": 152,
   "metadata": {},
   "outputs": [
    {
     "data": {
      "image/png": "[encoded data removed]",
      "text/plain": [
       "<Figure size 1800x720 with 1 Axes>"
      ]
     },
     "metadata": {},
     "output_type": "display_data"
    }
   ],
   "source": [
    "\n",
    "\n",
    "sns.set_style('whitegrid')\n",
    "fig, ax = plt.subplots(figsize = (25, 10))\n",
    "plt.bar(df['cuisine'].value_counts(normalize = True).head(20).index, df['cuisine'].value_counts(normalize = True).head(20).values, color = 'darkgrey')\n",
    "change_width(ax, .35)\n",
    "plt.xticks(fontsize = 30, rotation = 90)\n",
    "plt.yticks(fontsize = 30)\n",
    "plt.xlabel('')\n",
    "plt.ylabel('');\n",
    "#plt.show()"
   ]
  },
  {
   "cell_type": "markdown",
   "metadata": {},
   "source": [
    "#### Distribution of Ratings"
   ]
  },
  {
   "cell_type": "code",
   "execution_count": 164,
   "metadata": {},
   "outputs": [
    {
     "data": {
      "image/png": "[encoded data removed]",
      "text/plain": [
       "<Figure size 576x576 with 1 Axes>"
      ]
     },
     "metadata": {},
     "output_type": "display_data"
    }
   ],
   "source": [
    "plt.figure(figsize = (8, 8))\n",
    "\n",
    "plt.hist(df['rating'])\n",
    "plt.title('Distribution of Rating', fontsize = 30);"
   ]
  },
  {
   "cell_type": "markdown",
   "metadata": {},
   "source": [
    "#### Distribution of Costs"
   ]
  },
  {
   "cell_type": "code",
   "execution_count": 162,
   "metadata": {},
   "outputs": [
    {
     "data": {
      "image/png": "[encoded data removed]",
      "text/plain": [
       "<Figure size 576x576 with 1 Axes>"
      ]
     },
     "metadata": {},
     "output_type": "display_data"
    }
   ],
   "source": [
    "plt.figure(figsize = (8, 8))\n",
    "\n",
    "plt.hist(df['cost'])\n",
    "plt.title('Distribution of Cost', fontsize=30);"
   ]
  },
  {
   "cell_type": "markdown",
   "metadata": {},
   "source": [
    "#### Correlation of Rating with Cost"
   ]
  },
  {
   "cell_type": "code",
   "execution_count": 167,
   "metadata": {},
   "outputs": [
    {
     "data": {
      "text/plain": [
       "<matplotlib.collections.PathCollection at 0x135039cc0>"
      ]
     },
     "execution_count": 167,
     "metadata": {},
     "output_type": "execute_result"
    },
    {
     "data": {
      "image/png": "[encoded data removed]",
      "text/plain": [
       "<Figure size 576x576 with 1 Axes>"
      ]
     },
     "metadata": {},
     "output_type": "display_data"
    }
   ],
   "source": [
    "plt.figure(figsize = (8, 8))\n",
    "\n",
    "plt.scatter(df['rating'], df['cost'])"
   ]
  },
  {
   "cell_type": "markdown",
   "metadata": {},
   "source": [
    "#### Average rating for each top 20 cuisine"
   ]
  },
  {
   "cell_type": "code",
   "execution_count": 172,
   "metadata": {},
   "outputs": [
    {
     "data": {
      "text/plain": [
       "(array([ 1.,  1.,  1.,  1.,  7.,  9., 22., 91., 74., 11.]),\n",
       " array([1.  , 1.87, 2.74, 3.61, 4.48, 5.35, 6.22, 7.09, 7.96, 8.83, 9.7 ]),\n",
       " <a list of 10 Patch objects>)"
      ]
     },
     "execution_count": 172,
     "metadata": {},
     "output_type": "execute_result"
    },
    {
     "data": {
      "image/png": "[encoded data removed]",
      "text/plain": [
       "<Figure size 432x288 with 1 Axes>"
      ]
     },
     "metadata": {},
     "output_type": "display_data"
    }
   ],
   "source": [
    "plt.hist(df[df['cuisine'] == 'American']['rating']);"
   ]
  },
  {
   "cell_type": "code",
   "execution_count": 175,
   "metadata": {},
   "outputs": [],
   "source": [
    "top_20_cuis = list(df['cuisine'].value_counts().head(20).index)"
   ]
  },
  {
   "cell_type": "code",
   "execution_count": 176,
   "metadata": {},
   "outputs": [
    {
     "data": {
      "text/plain": [
       "['American',\n",
       " 'Japanese',\n",
       " 'Italian',\n",
       " 'Pizza',\n",
       " 'French',\n",
       " 'Mexican',\n",
       " 'Bar Food',\n",
       " 'Seafood',\n",
       " 'Pasta',\n",
       " 'Chinese',\n",
       " 'Mediterranean',\n",
       " 'Spanish',\n",
       " 'Korean',\n",
       " 'Sandwiches',\n",
       " 'BBQ',\n",
       " 'Burgers',\n",
       " 'Diner',\n",
       " 'Latin',\n",
       " 'Tacos',\n",
       " 'Sushi']"
      ]
     },
     "execution_count": 176,
     "metadata": {},
     "output_type": "execute_result"
    }
   ],
   "source": [
    "top_20_cuis"
   ]
  },
  {
   "cell_type": "markdown",
   "metadata": {},
   "source": [
    "### Combining the dataframes"
   ]
  },
  {
   "cell_type": "code",
   "execution_count": 185,
   "metadata": {},
   "outputs": [],
   "source": [
    "tfidf = pd.read_csv('./Data/tfidf_df.csv')"
   ]
  },
  {
   "cell_type": "code",
   "execution_count": 188,
   "metadata": {},
   "outputs": [],
   "source": [
    "keyword = pd.read_csv('./Data/full_data_with_lat_long.csv')"
   ]
  },
  {
   "cell_type": "code",
   "execution_count": 189,
   "metadata": {},
   "outputs": [
    {
     "name": "stdout",
     "output_type": "stream",
     "text": [
      "<class 'pandas.core.frame.DataFrame'>\n",
      "RangeIndex: 824 entries, 0 to 823\n",
      "Data columns (total 17 columns):\n",
      "Document_No           824 non-null int64\n",
      "Dominant_Topic        824 non-null float64\n",
      "Topic_Perc_Contrib    824 non-null float64\n",
      "Keywords              824 non-null object\n",
      "Text                  824 non-null object\n",
      "rest_cost             824 non-null float64\n",
      "cuisine_type          824 non-null object\n",
      "rest_name             824 non-null object\n",
      "rest_rating           824 non-null float64\n",
      "rest_review           824 non-null object\n",
      "address_only          824 non-null object\n",
      "rest_borough          824 non-null object\n",
      "rest_zip_code         824 non-null int64\n",
      "lemmatized            824 non-null object\n",
      "lat_long              824 non-null object\n",
      "lat                   824 non-null object\n",
      "long                  824 non-null object\n",
      "dtypes: float64(4), int64(2), object(11)\n",
      "memory usage: 109.5+ KB\n"
     ]
    }
   ],
   "source": [
    "keyword.info()"
   ]
  },
  {
   "cell_type": "code",
   "execution_count": 190,
   "metadata": {},
   "outputs": [
    {
     "name": "stdout",
     "output_type": "stream",
     "text": [
      "<class 'pandas.core.frame.DataFrame'>\n",
      "RangeIndex: 824 entries, 0 to 823\n",
      "Columns: 12270 entries, rest_cost to rest_borough_Westchester\n",
      "dtypes: float64(12206), int64(62), object(2)\n",
      "memory usage: 77.1+ MB\n"
     ]
    }
   ],
   "source": [
    "tfidf.info()"
   ]
  },
  {
   "cell_type": "code",
   "execution_count": 192,
   "metadata": {},
   "outputs": [],
   "source": [
    "recommender_final_df = pd.concat([tfidf, keyword[['Dominant_Topic']]], axis=1)"
   ]
  },
  {
   "cell_type": "code",
   "execution_count": 194,
   "metadata": {},
   "outputs": [],
   "source": [
    "recommender_final_df= pd.get_dummies(recommender_final_df, columns=['Dominant_Topic'], drop_first=True)"
   ]
  },
  {
   "cell_type": "code",
   "execution_count": 196,
   "metadata": {},
   "outputs": [],
   "source": [
    "recommender_final_df.to_csv('./Data/recommender_final_df.csv', index=False)"
   ]
  },
  {
   "cell_type": "code",
   "execution_count": null,
   "metadata": {},
   "outputs": [],
   "source": []
  }
 ],
 "metadata": {
  "kernelspec": {
   "display_name": "Python 3",
   "language": "python",
   "name": "python3"
  },
  "language_info": {
   "codemirror_mode": {
    "name": "ipython",
    "version": 3
   },
   "file_extension": ".py",
   "mimetype": "text/x-python",
   "name": "python",
   "nbconvert_exporter": "python",
   "pygments_lexer": "ipython3",
   "version": "3.6.8"
  }
 },
 "nbformat": 4,
 "nbformat_minor": 2
}
